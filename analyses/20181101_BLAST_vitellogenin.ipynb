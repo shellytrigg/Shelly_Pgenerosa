{
 "cells": [
  {
   "cell_type": "code",
   "execution_count": 1,
   "metadata": {
    "collapsed": true
   },
   "outputs": [],
   "source": [
    "#create Geoduck BLAST index from genome fasta file"
   ]
  },
  {
   "cell_type": "code",
   "execution_count": 2,
   "metadata": {
    "collapsed": true
   },
   "outputs": [],
   "source": [
    "blstpath = '/Users/Shelly/anaconda3/bin/ncbi-blast-2.7.1+/bin/'"
   ]
  },
  {
   "cell_type": "code",
   "execution_count": 3,
   "metadata": {
    "collapsed": true
   },
   "outputs": [],
   "source": [
    "!mkdir /Volumes/web/metacarcinus/Pgenerosa/GENOMES/v070/blastdb"
   ]
  },
  {
   "cell_type": "code",
   "execution_count": 4,
   "metadata": {},
   "outputs": [
    {
     "name": "stdout",
     "output_type": "stream",
     "text": [
      "\n",
      "\n",
      "Building a new DB, current time: 11/01/2018 19:28:04\n",
      "New DB name:   /Volumes/web/metacarcinus/Pgenerosa/GENOMES/v070/blastdb/Pgenerosa_v070\n",
      "New DB title:  /Volumes/web/metacarcinus/Pgenerosa/GENOMES/v070/Pgenerosa_v070.fa\n",
      "Sequence type: Nucleotide\n",
      "Keep MBits: T\n",
      "Maximum file size: 1000000000B\n",
      "Adding sequences from FASTA; added 313649 sequences in 234.003 seconds.\n"
     ]
    }
   ],
   "source": [
    "!{blstpath}makeblastdb \\\n",
    "-in /Volumes/web/metacarcinus/Pgenerosa/GENOMES/v070/Pgenerosa_v070.fa \\\n",
    "-dbtype nucl \\\n",
    "-out /Volumes/web/metacarcinus/Pgenerosa/GENOMES/v070/blastdb/Pgenerosa_v070"
   ]
  },
  {
   "cell_type": "code",
   "execution_count": 5,
   "metadata": {
    "collapsed": true
   },
   "outputs": [],
   "source": [
    "#run blast on Emma's protein to Geoduck genome\n",
    "\n",
    "!{blstpath}tblastn \\\n",
    "-query /Users/Shelly/Documents/GitHub/Shelly_Pgenerosa/data/vitellogenin_superfamily_domain_emmats.fa \\\n",
    "-db /Volumes/web/metacarcinus/Pgenerosa/GENOMES/v070/blastdb/Pgenerosa_v070 \\\n",
    "-out /Volumes/web/metacarcinus/Pgenerosa/BLAST_20181101/VTGdomainTBLASTN.tab \\\n",
    "-evalue 1E-20 \\\n",
    "-num_threads 2 \\\n",
    "-max_target_seqs 1 \\\n",
    "-outfmt 6\n"
   ]
  },
  {
   "cell_type": "code",
   "execution_count": 7,
   "metadata": {
    "collapsed": true
   },
   "outputs": [],
   "source": [
    "#run blast on Cgigas sequence to Geoduck genome\n",
    "\n",
    "!{blstpath}blastn \\\n",
    "-query /Users/Shelly/Documents/GitHub/Shelly_Pgenerosa/data/Cgigas_VTG.fa \\\n",
    "-db /Volumes/web/metacarcinus/Pgenerosa/GENOMES/v070/blastdb/Pgenerosa_v070 \\\n",
    "-out /Volumes/web/metacarcinus/Pgenerosa/BLAST_20181101/CgigasVTG_BLASTN.tab \\\n",
    "-evalue 1E-5 \\\n",
    "-num_threads 2 \\\n",
    "-max_target_seqs 1 \\\n",
    "-outfmt 6\n"
   ]
  },
  {
   "cell_type": "code",
   "execution_count": null,
   "metadata": {
    "collapsed": true
   },
   "outputs": [],
   "source": []
  }
 ],
 "metadata": {
  "kernelspec": {
   "display_name": "Python 3",
   "language": "python",
   "name": "python3"
  },
  "language_info": {
   "codemirror_mode": {
    "name": "ipython",
    "version": 3
   },
   "file_extension": ".py",
   "mimetype": "text/x-python",
   "name": "python",
   "nbconvert_exporter": "python",
   "pygments_lexer": "ipython3",
   "version": "3.6.3"
  }
 },
 "nbformat": 4,
 "nbformat_minor": 2
}
