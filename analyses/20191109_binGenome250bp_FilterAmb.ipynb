{
 "cells": [
  {
   "cell_type": "code",
   "execution_count": null,
   "metadata": {
    "collapsed": true
   },
   "outputs": [],
   "source": [
    "#bin genome into 250bp chunks"
   ]
  },
  {
   "cell_type": "code",
   "execution_count": 4,
   "metadata": {},
   "outputs": [],
   "source": [
    "!bedtools makewindows -g \\\n",
    "/Volumes/web/metacarcinus/Pgenerosa/GENOMES/v074/Pgenerosa_v074.fa.fai \\\n",
    "-w 250 > /Volumes/web/metacarcinus/Pgenerosa/GENOMES/v074/Pgen074.250bp.bed"
   ]
  },
  {
   "cell_type": "code",
   "execution_count": null,
   "metadata": {
    "collapsed": true
   },
   "outputs": [],
   "source": [
    "#preview output"
   ]
  },
  {
   "cell_type": "code",
   "execution_count": 5,
   "metadata": {},
   "outputs": [
    {
     "name": "stdout",
     "output_type": "stream",
     "text": [
      "PGA_scaffold1__77_contigs__length_89643857\t0\t250\r\n",
      "PGA_scaffold1__77_contigs__length_89643857\t250\t500\r\n",
      "PGA_scaffold1__77_contigs__length_89643857\t500\t750\r\n",
      "PGA_scaffold1__77_contigs__length_89643857\t750\t1000\r\n",
      "PGA_scaffold1__77_contigs__length_89643857\t1000\t1250\r\n",
      "PGA_scaffold1__77_contigs__length_89643857\t1250\t1500\r\n",
      "PGA_scaffold1__77_contigs__length_89643857\t1500\t1750\r\n",
      "PGA_scaffold1__77_contigs__length_89643857\t1750\t2000\r\n",
      "PGA_scaffold1__77_contigs__length_89643857\t2000\t2250\r\n",
      "PGA_scaffold1__77_contigs__length_89643857\t2250\t2500\r\n"
     ]
    }
   ],
   "source": [
    "!head /Volumes/web/metacarcinus/Pgenerosa/GENOMES/v074/Pgen074.250bp.bed"
   ]
  },
  {
   "cell_type": "code",
   "execution_count": null,
   "metadata": {
    "collapsed": true
   },
   "outputs": [],
   "source": [
    "#intersect sites with bins"
   ]
  },
  {
   "cell_type": "code",
   "execution_count": 10,
   "metadata": {},
   "outputs": [],
   "source": [
    "!bedtools intersect \\\n",
    "-a /Volumes/web/metacarcinus/Pgenerosa/GENOMES/v074/Pgen074.250bp.bed \\\n",
    "-b /Volumes/web/metacarcinus/Pgenerosa/analyses/20191108/combine_filt_allc/all_amb_bkgd.bed \\\n",
    "-wa \\\n",
    "> /Volumes/web/metacarcinus/Pgenerosa/analyses/20191108/combine_filt_allc/all_amb_bkgd.250bp.bed"
   ]
  },
  {
   "cell_type": "code",
   "execution_count": 11,
   "metadata": {},
   "outputs": [
    {
     "name": "stdout",
     "output_type": "stream",
     "text": [
      "PGA_scaffold1__77_contigs__length_89643857\t46250\t46500\r\n",
      "PGA_scaffold1__77_contigs__length_89643857\t66000\t66250\r\n",
      "PGA_scaffold1__77_contigs__length_89643857\t87500\t87750\r\n",
      "PGA_scaffold1__77_contigs__length_89643857\t87500\t87750\r\n",
      "PGA_scaffold1__77_contigs__length_89643857\t106500\t106750\r\n",
      "PGA_scaffold1__77_contigs__length_89643857\t106500\t106750\r\n",
      "PGA_scaffold1__77_contigs__length_89643857\t114750\t115000\r\n",
      "PGA_scaffold1__77_contigs__length_89643857\t134250\t134500\r\n",
      "PGA_scaffold1__77_contigs__length_89643857\t154250\t154500\r\n",
      "PGA_scaffold1__77_contigs__length_89643857\t154500\t154750\r\n"
     ]
    }
   ],
   "source": [
    "!head /Volumes/web/metacarcinus/Pgenerosa/analyses/20191108/combine_filt_allc/all_amb_bkgd.250bp.bed"
   ]
  },
  {
   "cell_type": "code",
   "execution_count": null,
   "metadata": {
    "collapsed": true
   },
   "outputs": [],
   "source": [
    "#print the 250bp coordinates only\n",
    "#sort\n",
    "#uniq and count frequencies (output in 1st column)\n",
    "#only keep line if frequency is 3 or more (if 250bp bin contains 3 or more sites)\n",
    "\n"
   ]
  },
  {
   "cell_type": "code",
   "execution_count": 14,
   "metadata": {},
   "outputs": [],
   "source": [
    "%%bash\n",
    "cat /Volumes/web/metacarcinus/Pgenerosa/analyses/20191108/combine_filt_allc/all_amb_bkgd.250bp.bed |\\\n",
    "sort | \\\n",
    "uniq -c | \\\n",
    "awk '{if($1>=3)print $0}' \\\n",
    "> /Volumes/web/metacarcinus/Pgenerosa/analyses/20191108/combine_filt_allc/all_amb_bkgd.250bp.3sites.bed"
   ]
  },
  {
   "cell_type": "code",
   "execution_count": 15,
   "metadata": {},
   "outputs": [
    {
     "name": "stdout",
     "output_type": "stream",
     "text": [
      "   4 PGA_scaffold10__49_contigs__length_53961475\t10023500\t10023750\r\n",
      "   3 PGA_scaffold10__49_contigs__length_53961475\t11291000\t11291250\r\n",
      "   3 PGA_scaffold10__49_contigs__length_53961475\t11639500\t11639750\r\n",
      "   3 PGA_scaffold10__49_contigs__length_53961475\t11649500\t11649750\r\n",
      "   3 PGA_scaffold10__49_contigs__length_53961475\t11969500\t11969750\r\n",
      "   3 PGA_scaffold10__49_contigs__length_53961475\t12468750\t12469000\r\n",
      "   4 PGA_scaffold10__49_contigs__length_53961475\t12776750\t12777000\r\n",
      "   3 PGA_scaffold10__49_contigs__length_53961475\t12797000\t12797250\r\n",
      "   3 PGA_scaffold10__49_contigs__length_53961475\t13240250\t13240500\r\n",
      "   3 PGA_scaffold10__49_contigs__length_53961475\t13435000\t13435250\r\n"
     ]
    }
   ],
   "source": [
    "!head /Volumes/web/metacarcinus/Pgenerosa/analyses/20191108/combine_filt_allc/all_amb_bkgd.250bp.3sites.bed"
   ]
  },
  {
   "cell_type": "code",
   "execution_count": 16,
   "metadata": {},
   "outputs": [
    {
     "name": "stdout",
     "output_type": "stream",
     "text": [
      "    1845 /Volumes/web/metacarcinus/Pgenerosa/analyses/20191108/combine_filt_allc/all_amb_bkgd.250bp.3sites.bed\r\n"
     ]
    }
   ],
   "source": [
    "!wc -l /Volumes/web/metacarcinus/Pgenerosa/analyses/20191108/combine_filt_allc/all_amb_bkgd.250bp.3sites.bed"
   ]
  }
 ],
 "metadata": {
  "kernelspec": {
   "display_name": "Python 3",
   "language": "python",
   "name": "python3"
  },
  "language_info": {
   "codemirror_mode": {
    "name": "ipython",
    "version": 3
   },
   "file_extension": ".py",
   "mimetype": "text/x-python",
   "name": "python",
   "nbconvert_exporter": "python",
   "pygments_lexer": "ipython3",
   "version": "3.6.8"
  }
 },
 "nbformat": 4,
 "nbformat_minor": 2
}
