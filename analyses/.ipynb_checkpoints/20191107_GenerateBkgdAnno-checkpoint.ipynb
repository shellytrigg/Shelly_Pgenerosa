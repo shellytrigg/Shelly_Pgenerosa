{
 "cells": [
  {
   "cell_type": "code",
   "execution_count": null,
   "metadata": {
    "collapsed": true
   },
   "outputs": [],
   "source": [
    "#change dir to where output will go"
   ]
  },
  {
   "cell_type": "code",
   "execution_count": 1,
   "metadata": {},
   "outputs": [
    {
     "name": "stdout",
     "output_type": "stream",
     "text": [
      "/Users/Shelly/Documents/GitHub/Shelly_Pgenerosa/analyses/20191106_anno\n"
     ]
    }
   ],
   "source": [
    "cd ~/Documents/GitHub/Shelly_Pgenerosa/analyses/20191106_anno/"
   ]
  },
  {
   "cell_type": "code",
   "execution_count": null,
   "metadata": {
    "collapsed": true
   },
   "outputs": [],
   "source": [
    "#created bed file from all sites analyzed by methylpy\n",
    "#filtered by those represented in 3/4 individuals/group"
   ]
  },
  {
   "cell_type": "code",
   "execution_count": null,
   "metadata": {
    "collapsed": true
   },
   "outputs": [],
   "source": [
    "#preview filtered bed file of all sites; columns = chr, start, "
   ]
  },
  {
   "cell_type": "code",
   "execution_count": 2,
   "metadata": {},
   "outputs": [
    {
     "name": "stdout",
     "output_type": "stream",
     "text": [
      "PGA_scaffold10__49_contigs__length_53961475 279 279 0.003\r\n",
      "PGA_scaffold10__49_contigs__length_53961475 305 305 3e-04\r\n",
      "PGA_scaffold10__49_contigs__length_53961475 315 315 3e-04\r\n",
      "PGA_scaffold10__49_contigs__length_53961475 324 324 3e-04\r\n",
      "PGA_scaffold10__49_contigs__length_53961475 332 332 3e-04\r\n",
      "PGA_scaffold10__49_contigs__length_53961475 347 347 3e-04\r\n",
      "PGA_scaffold10__49_contigs__length_53961475 354 354 3e-04\r\n",
      "PGA_scaffold10__49_contigs__length_53961475 505 505 3e-04\r\n",
      "PGA_scaffold10__49_contigs__length_53961475 527 527 3e-04\r\n",
      "PGA_scaffold10__49_contigs__length_53961475 544 544 3e-04\r\n"
     ]
    }
   ],
   "source": [
    "!head /Volumes/web/metacarcinus/Pgenerosa/analyses/20191107_pgen/amb_sites_0.75XgroupCov.bed"
   ]
  },
  {
   "cell_type": "code",
   "execution_count": null,
   "metadata": {
    "collapsed": true
   },
   "outputs": [],
   "source": [
    "#filter sites for those with coverage in 3/4 samples\n",
    "#DMRfind prints -1 if there is no coverage (in this case < 5x coverage)"
   ]
  },
  {
   "cell_type": "code",
   "execution_count": null,
   "metadata": {
    "collapsed": true
   },
   "outputs": [],
   "source": [
    "#ended up doing this in R because I don't know enough python"
   ]
  },
  {
   "cell_type": "code",
   "execution_count": null,
   "metadata": {
    "collapsed": true
   },
   "outputs": [],
   "source": [
    "#create bed file from results file by printing the position twice for start and stop\n",
    "#and the pvalue"
   ]
  },
  {
   "cell_type": "code",
   "execution_count": 6,
   "metadata": {},
   "outputs": [
    {
     "name": "stdout",
     "output_type": "stream",
     "text": [
      "chr\tpos\tpos\tpvalue\r\n",
      "PGA_scaffold10__49_contigs__length_53961475\t209\t209\t0.4255\r\n",
      "PGA_scaffold10__49_contigs__length_53961475\t226\t226\t0.4255\r\n",
      "PGA_scaffold10__49_contigs__length_53961475\t279\t279\t0.0030\r\n",
      "PGA_scaffold10__49_contigs__length_53961475\t305\t305\t0.0003\r\n",
      "PGA_scaffold10__49_contigs__length_53961475\t315\t315\t0.0003\r\n",
      "PGA_scaffold10__49_contigs__length_53961475\t324\t324\t0.0003\r\n",
      "PGA_scaffold10__49_contigs__length_53961475\t332\t332\t0.0003\r\n",
      "PGA_scaffold10__49_contigs__length_53961475\t347\t347\t0.0003\r\n",
      "PGA_scaffold10__49_contigs__length_53961475\t354\t354\t0.0003\r\n"
     ]
    }
   ],
   "source": [
    "!head /Volumes/web/metacarcinus/Pgenerosa/analyses/20191024/amb_AllTimes_DMR250bp_MCmax30_cov5x_rms_results.tsv | \\\n",
    "cut -f 1,2,5 | awk -F\"\\t\" '{print $1\"\\t\"$2\"\\t\"$2\"\\t\"$3}' | head"
   ]
  },
  {
   "cell_type": "code",
   "execution_count": null,
   "metadata": {
    "collapsed": true
   },
   "outputs": [],
   "source": [
    "#print the bed format without the first line"
   ]
  },
  {
   "cell_type": "code",
   "execution_count": 7,
   "metadata": {},
   "outputs": [
    {
     "name": "stdout",
     "output_type": "stream",
     "text": [
      "PGA_scaffold10__49_contigs__length_53961475\t209\t209\t0.4255\r\n",
      "PGA_scaffold10__49_contigs__length_53961475\t226\t226\t0.4255\r\n",
      "PGA_scaffold10__49_contigs__length_53961475\t279\t279\t0.0030\r\n",
      "PGA_scaffold10__49_contigs__length_53961475\t305\t305\t0.0003\r\n",
      "PGA_scaffold10__49_contigs__length_53961475\t315\t315\t0.0003\r\n",
      "PGA_scaffold10__49_contigs__length_53961475\t324\t324\t0.0003\r\n",
      "PGA_scaffold10__49_contigs__length_53961475\t332\t332\t0.0003\r\n",
      "PGA_scaffold10__49_contigs__length_53961475\t347\t347\t0.0003\r\n",
      "PGA_scaffold10__49_contigs__length_53961475\t354\t354\t0.0003\r\n"
     ]
    }
   ],
   "source": [
    "!head /Volumes/web/metacarcinus/Pgenerosa/analyses/20191024/amb_AllTimes_DMR250bp_MCmax30_cov5x_rms_results.tsv | \\\n",
    "cut -f 1,2,5 | awk -F\"\\t\" 'NR>1{print $1\"\\t\"$2\"\\t\"$2\"\\t\"$3}' | head"
   ]
  },
  {
   "cell_type": "code",
   "execution_count": null,
   "metadata": {
    "collapsed": true
   },
   "outputs": [],
   "source": [
    "#intersect results file with GFF"
   ]
  },
  {
   "cell_type": "code",
   "execution_count": null,
   "metadata": {
    "collapsed": true
   },
   "outputs": [],
   "source": []
  },
  {
   "cell_type": "code",
   "execution_count": null,
   "metadata": {
    "collapsed": true
   },
   "outputs": [],
   "source": []
  },
  {
   "cell_type": "code",
   "execution_count": null,
   "metadata": {
    "collapsed": true
   },
   "outputs": [],
   "source": []
  }
 ],
 "metadata": {
  "kernelspec": {
   "display_name": "Python 3",
   "language": "python",
   "name": "python3"
  },
  "language_info": {
   "codemirror_mode": {
    "name": "ipython",
    "version": 3
   },
   "file_extension": ".py",
   "mimetype": "text/x-python",
   "name": "python",
   "nbconvert_exporter": "python",
   "pygments_lexer": "ipython3",
   "version": "3.6.8"
  }
 },
 "nbformat": 4,
 "nbformat_minor": 2
}
