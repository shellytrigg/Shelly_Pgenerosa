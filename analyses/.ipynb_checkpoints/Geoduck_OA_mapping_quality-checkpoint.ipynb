{
 "cells": [
  {
   "cell_type": "code",
   "execution_count": null,
   "metadata": {
    "collapsed": true
   },
   "outputs": [],
   "source": [
    "#FASTQC and trimming info here: http://onsnetwork.org/kubu4/2018/05/16/trimgalorefastqcmultiqc-trimgalore-rrbs-geoduck-bs-seq-fastq-data-directional/"
   ]
  },
  {
   "cell_type": "code",
   "execution_count": null,
   "metadata": {
    "collapsed": true
   },
   "outputs": [],
   "source": [
    "!mkdir /Volumes/web/metacarcinus/Pgenerosa/GENOMES"
   ]
  },
  {
   "cell_type": "code",
   "execution_count": null,
   "metadata": {
    "collapsed": true
   },
   "outputs": [],
   "source": [
    "!mkdir /Volumes/web/metacarcinus/Pgenerosa/GENOMES/v070"
   ]
  },
  {
   "cell_type": "code",
   "execution_count": 3,
   "metadata": {
    "collapsed": true
   },
   "outputs": [],
   "source": [
    "!mkdir /Volumes/web/metacarcinus/Pgenerosa/GENOMES/v070/Bismark_genome"
   ]
  },
  {
   "cell_type": "code",
   "execution_count": null,
   "metadata": {
    "collapsed": true
   },
   "outputs": [],
   "source": [
    "#copy Pgenerosa genome v070 to metacarcinus folder to build genome"
   ]
  },
  {
   "cell_type": "code",
   "execution_count": null,
   "metadata": {
    "collapsed": true
   },
   "outputs": [],
   "source": [
    "!cp /Volumes/web-1/halfshell/genomic-databank/Pgenerosa_v070.fa /Volumes/web/metacarcinus/Pgenerosa/GENOMES/v070"
   ]
  },
  {
   "cell_type": "code",
   "execution_count": null,
   "metadata": {
    "collapsed": true
   },
   "outputs": [],
   "source": [
    "#move to the directory where we want to save the genome"
   ]
  },
  {
   "cell_type": "code",
   "execution_count": 1,
   "metadata": {
    "collapsed": true
   },
   "outputs": [],
   "source": [
    "!cd /Volumes/web/metacarcinus/Pgenerosa/GENOMES/v070"
   ]
  },
  {
   "cell_type": "code",
   "execution_count": null,
   "metadata": {
    "collapsed": true
   },
   "outputs": [],
   "source": [
    "#build Bismark genome using ostrich"
   ]
  },
  {
   "cell_type": "code",
   "execution_count": null,
   "metadata": {
    "collapsed": true
   },
   "outputs": [],
   "source": [
    "!/Users/Shared/bioinformatics/bismark_v0.15.0/bismark_genome_preparation \\\n",
    "--path_to_bowtie /Users/Shared/bioinformatics/bowtie2-2.2.9//bowtie2 \\\n",
    "--verbose /Volumes/web/metacarcinus/Pgenerosa/GENOMES/v070 \\\n",
    "2> /Volumes/web/metacarcinus/Pgenerosa/GENOMES/v070/genomeprep.err"
   ]
  },
  {
   "cell_type": "code",
   "execution_count": null,
   "metadata": {
    "collapsed": true
   },
   "outputs": [],
   "source": [
    "#genomeprep.err says \"Warning: Encountered reference sequence with only gaps\""
   ]
  },
  {
   "cell_type": "code",
   "execution_count": null,
   "metadata": {
    "collapsed": true
   },
   "outputs": [],
   "source": [
    "#Checking .fa file for gaps and missing sequence (http://seqanswers.com/forums/showthread.php?t=6301)"
   ]
  },
  {
   "cell_type": "code",
   "execution_count": null,
   "metadata": {
    "collapsed": true
   },
   "outputs": [],
   "source": [
    "#first make short file with only the chromosome and the first line of sequence"
   ]
  },
  {
   "cell_type": "code",
   "execution_count": null,
   "metadata": {
    "collapsed": true
   },
   "outputs": [],
   "source": [
    "!grep '>'  -A 1 /Volumes/web/metacarcinus/Pgenerosa/GENOMES/v070/Pgenerosa_v070.fa \\\n",
    "> /Volumes/web/metacarcinus/Pgenerosa/GENOMES/v070/missing_seq_check"
   ]
  },
  {
   "cell_type": "code",
   "execution_count": null,
   "metadata": {
    "collapsed": true
   },
   "outputs": [],
   "source": [
    "#then check for chromosomes where there is no sequence (based on this code:  https://www.biostars.org/p/78786/)"
   ]
  },
  {
   "cell_type": "code",
   "execution_count": 2,
   "metadata": {},
   "outputs": [
    {
     "name": "stdout",
     "output_type": "stream",
     "text": [
      ">"
     ]
    }
   ],
   "source": [
    "!awk 'BEGIN {RS = \">\" ; FS = \"\\n\" ; ORS = \"\"} {if (!$2) print \">\"$0}' \\\n",
    "/Volumes/web/metacarcinus/Pgenerosa/GENOMES/v070/missing_seq_check"
   ]
  },
  {
   "cell_type": "code",
   "execution_count": null,
   "metadata": {
    "collapsed": true
   },
   "outputs": [],
   "source": [
    "#doesn't seem to be any chromosomes where sequence is missing \n",
    "#not sure why the carrot printed out\n",
    "#running another check in case there is a line with no chromosome name"
   ]
  },
  {
   "cell_type": "code",
   "execution_count": 3,
   "metadata": {
    "collapsed": true
   },
   "outputs": [],
   "source": [
    "!grep '>$' /Volumes/web/metacarcinus/Pgenerosa/GENOMES/v070/missing_seq_check"
   ]
  },
  {
   "cell_type": "code",
   "execution_count": null,
   "metadata": {
    "collapsed": true
   },
   "outputs": [],
   "source": [
    "#confirmed there are no chromosomes without any sequence or random carrots\n",
    "#now testing for NNNNs in seqeuence"
   ]
  },
  {
   "cell_type": "code",
   "execution_count": 5,
   "metadata": {},
   "outputs": [
    {
     "name": "stdout",
     "output_type": "stream",
     "text": [
      "GNNNNNNNNNNAACTGTTACACAATGCATCATCCGAGGATCTTTTGTAATAATAAGTATCACCCTCCTGACTCAGACCAA\n",
      "TTTTTTCTCCCACCCGGAATGTTTTCTATCCCCTTCCCCCCCNNNNNNNNNNNNNNNNNNNNNNNNNNNNNNNNNNNNNN\n",
      "NNNNNNNNNNNNNNNNNNNNNNNNNNNNNNNNNNNNNNNNNNNNNNNNNNNNNNNNNNNNNNCAAACAGCATGGGAACAA\n",
      "TACATTAGGAACTTTGCTATAAAGGACAGTAAGATAATTGACAAAAATGTACAGATGTATACTTAAAAGTNNNNNNNNNN\n",
      "NNNNNNNNNNNNNNNNNNNNNNNNNNNNNNNNNNNNNNNNNNNNNNNNNNNNNNNNNNNNNNNNNNNNNNNNNNNNNNNN\n",
      "NNNNNNNNNNGACATGTTCCCTACTGTCATTTCCAGATCTGTGAGACATGTTCCCTAATGTCATTTCCATCATTGTGAGA\n",
      "ACCGGTAGAGGGTACTGCATAGAATAATGTTCAGAATATATATANNNNNNNNNNGATACCGGTAGAGGGTACTGCATAGA\n",
      "TTGCATAGGAGACTAGACAGAAGATTTTTTTTTTCGATCTGAAATTCAAGATGGCCGCCATTACTAAAAATNNNNNNNNN\n",
      "NNNNNNNNNNNNNNNNNNNNNNNNNNNNNNNNNNNNNNNNNNNNNNNNNNNNNNNNNNNNNNNNNNNNNNNNNNNNNNNN\n",
      "NNNNNNNNNNNATGTAAATGATTTTGCCTATATCTTCACAGAAGCATTGTTTGGTGAAGGAGGTTCAGATTTGTAAAAAT\n",
      "^C\n"
     ]
    }
   ],
   "source": [
    "!grep NNNN /Volumes/web/metacarcinus/Pgenerosa/GENOMES/v070/Pgenerosa_v070.fa |head"
   ]
  },
  {
   "cell_type": "code",
   "execution_count": null,
   "metadata": {
    "collapsed": true
   },
   "outputs": [],
   "source": [
    "#lots of lines contain many Ns. Is this problematic?"
   ]
  },
  {
   "cell_type": "code",
   "execution_count": null,
   "metadata": {
    "collapsed": true
   },
   "outputs": [],
   "source": []
  },
  {
   "cell_type": "code",
   "execution_count": null,
   "metadata": {
    "collapsed": true
   },
   "outputs": [],
   "source": [
    "#test alignments using subset of data"
   ]
  },
  {
   "cell_type": "code",
   "execution_count": null,
   "metadata": {
    "collapsed": true
   },
   "outputs": [],
   "source": [
    "#report mapping efficiency and genome coverage"
   ]
  },
  {
   "cell_type": "code",
   "execution_count": 3,
   "metadata": {},
   "outputs": [
    {
     "name": "stdout",
     "output_type": "stream",
     "text": [
      "/Users/Shelly/Documents/GitHub/P_generosa/methylation_analysis\r\n"
     ]
    }
   ],
   "source": [
    "!pwd"
   ]
  },
  {
   "cell_type": "code",
   "execution_count": null,
   "metadata": {
    "collapsed": true
   },
   "outputs": [],
   "source": []
  }
 ],
 "metadata": {
  "kernelspec": {
   "display_name": "Python 3",
   "language": "python",
   "name": "python3"
  },
  "language_info": {
   "codemirror_mode": {
    "name": "ipython",
    "version": 3
   },
   "file_extension": ".py",
   "mimetype": "text/x-python",
   "name": "python",
   "nbconvert_exporter": "python",
   "pygments_lexer": "ipython3",
   "version": "3.6.3"
  }
 },
 "nbformat": 4,
 "nbformat_minor": 2
}
