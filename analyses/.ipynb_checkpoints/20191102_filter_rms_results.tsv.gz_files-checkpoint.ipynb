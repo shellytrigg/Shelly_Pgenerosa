{
 "cells": [
  {
   "cell_type": "code",
   "execution_count": null,
   "metadata": {
    "collapsed": true
   },
   "outputs": [],
   "source": [
    "#filter results.tsv.gz file by 0.75x coverage filtered.tsv file and only save mC (mc_) and cov columns (h_)"
   ]
  },
  {
   "cell_type": "code",
   "execution_count": 4,
   "metadata": {},
   "outputs": [
    {
     "name": "stderr",
     "output_type": "stream",
     "text": [
      "IOPub data rate exceeded.\n",
      "The notebook server will temporarily stop sending output\n",
      "to the client in order to avoid crashing it.\n",
      "To change this limit, set the config variable\n",
      "`--NotebookApp.iopub_data_rate_limit`.\n"
     ]
    }
   ],
   "source": [
    "%%bash\n",
    "FILES= /Volumes/web/metacarcinus/Pgenerosa/analyses/20191024/*_DMR250bp_MCmax30_cov5x_rms_results.tsv\n",
    "for f in $FILES\n",
    "do\n",
    "cat ${f} | \\\n",
    "cut -f 1 37 | \\\n",
    "intersectBed \\\n",
    "-a - \\\n",
    "-b /Users/Shelly/Documents/GitHub/Shelly_Pgenerosa/analyses/DMR_cov_in_0.75_SamplesPerCategory/$(basename ${f%_DMR250bp_MCmax30_cov5x_rms_results.tsv.gz})_DMR250bp_MCmax30_cov5x_rms_results_filtered.tsv\\\n",
    "-wb \\\n",
    "> $(basename ${f%_DMR250bp_MCmax30_cov5x_rms_results.tsv.gz})_DMR250bp_MCmax30_mc_cov_filtered.tsv\n",
    "done"
   ]
  }
 ],
 "metadata": {
  "kernelspec": {
   "display_name": "Python 3",
   "language": "python",
   "name": "python3"
  },
  "language_info": {
   "codemirror_mode": {
    "name": "ipython",
    "version": 3
   },
   "file_extension": ".py",
   "mimetype": "text/x-python",
   "name": "python",
   "nbconvert_exporter": "python",
   "pygments_lexer": "ipython3",
   "version": "3.6.8"
  }
 },
 "nbformat": 4,
 "nbformat_minor": 2
}
