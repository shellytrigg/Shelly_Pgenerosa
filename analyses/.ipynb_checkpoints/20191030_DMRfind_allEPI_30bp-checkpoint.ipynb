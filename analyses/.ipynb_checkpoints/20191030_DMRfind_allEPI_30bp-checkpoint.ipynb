{
 "cells": [
  {
   "cell_type": "code",
   "execution_count": null,
   "metadata": {
    "collapsed": true
   },
   "outputs": [],
   "source": [
    "#change directory to where new ANOVA filtered output is"
   ]
  },
  {
   "cell_type": "code",
   "execution_count": 1,
   "metadata": {},
   "outputs": [
    {
     "name": "stdout",
     "output_type": "stream",
     "text": [
      "/Users/Shelly/Documents/GitHub/Shelly_Pgenerosa/analyses/DMRs_heatmap\n"
     ]
    }
   ],
   "source": [
    "cd ~/Documents/GitHub/Shelly_Pgenerosa/analyses/DMRs_heatmap"
   ]
  },
  {
   "cell_type": "code",
   "execution_count": null,
   "metadata": {
    "collapsed": true
   },
   "outputs": [],
   "source": [
    "#preview the ANOVA filtered DMRs"
   ]
  },
  {
   "cell_type": "code",
   "execution_count": 7,
   "metadata": {},
   "outputs": [
    {
     "name": "stdout",
     "output_type": "stream",
     "text": [
      "chr\tstart\tend\r\n",
      "PGA_scaffold1__77_contigs__length_89643857\t30599518\t30599553\r\n",
      "PGA_scaffold1__77_contigs__length_89643857\t30766259\t30766284\r\n",
      "PGA_scaffold1__77_contigs__length_89643857\t57648024\t57648053\r\n",
      "PGA_scaffold1__77_contigs__length_89643857\t60340858\t60341113\r\n",
      "PGA_scaffold10__49_contigs__length_53961475\t11112810\t11112940\r\n",
      "PGA_scaffold11__79_contigs__length_51449921\t34242236\t34242266\r\n",
      "PGA_scaffold11__79_contigs__length_51449921\t46672468\t46672516\r\n",
      "PGA_scaffold12__71_contigs__length_50438331\t44762795\t44762874\r\n",
      "PGA_scaffold12__71_contigs__length_50438331\t7000227\t7000253\r\n"
     ]
    }
   ],
   "source": [
    "!head amb_aov_modelsumm_4bed.txt"
   ]
  },
  {
   "cell_type": "code",
   "execution_count": 3,
   "metadata": {
    "collapsed": true
   },
   "outputs": [],
   "source": [
    "#need to remove 'chr' from the beginning of each line in the bed files"
   ]
  },
  {
   "cell_type": "code",
   "execution_count": 2,
   "metadata": {},
   "outputs": [
    {
     "name": "stdout",
     "output_type": "stream",
     "text": [
      "PGA_scaffold10__49_contigs__length_53961475\t11112809\t11112940\t6\r\n",
      "PGA_scaffold10__49_contigs__length_53961475\t18556588\t18556610\t6\r\n",
      "PGA_scaffold10__49_contigs__length_53961475\t19149222\t19149262\t3\r\n",
      "PGA_scaffold10__49_contigs__length_53961475\t23634159\t23634189\t3\r\n",
      "PGA_scaffold10__49_contigs__length_53961475\t23859927\t23859940\t3\r\n",
      "PGA_scaffold10__49_contigs__length_53961475\t23948375\t23948381\t3\r\n",
      "PGA_scaffold10__49_contigs__length_53961475\t31386377\t31386406\t10\r\n",
      "PGA_scaffold10__49_contigs__length_53961475\t32953410\t32953437\t4\r\n",
      "PGA_scaffold11__79_contigs__length_51449921\t9728144\t9728176\t4\r\n",
      "PGA_scaffold11__79_contigs__length_51449921\t11487610\t11487657\t7\r\n"
     ]
    }
   ],
   "source": [
    "!sed 's/chrPGA/PGA/g' amb_AllTimes_DMR250bp_MCmax30_cov5x_rms_results_collapsed.tsv.DMR.bed | head"
   ]
  },
  {
   "cell_type": "code",
   "execution_count": 9,
   "metadata": {},
   "outputs": [
    {
     "name": "stdout",
     "output_type": "stream",
     "text": [
      "PGA_scaffold10__49_contigs__length_53961475\t11112810\t11112940\t6\r\n",
      "PGA_scaffold11__79_contigs__length_51449921\t34242236\t34242266\t4\r\n",
      "PGA_scaffold11__79_contigs__length_51449921\t46672468\t46672516\t4\r\n",
      "PGA_scaffold12__71_contigs__length_50438331\t7000227\t7000253\t3\r\n",
      "PGA_scaffold12__71_contigs__length_50438331\t44762795\t44762874\t6\r\n",
      "PGA_scaffold13__52_contigs__length_44396874\t6615896\t6615924\t5\r\n",
      "PGA_scaffold14__91_contigs__length_45393038\t9365992\t9366024\t3\r\n",
      "PGA_scaffold14__91_contigs__length_45393038\t10741127\t10741221\t6\r\n",
      "PGA_scaffold14__91_contigs__length_45393038\t15698493\t15698502\t4\r\n",
      "PGA_scaffold14__91_contigs__length_45393038\t34995746\t34995952\t8\r\n"
     ]
    }
   ],
   "source": [
    "!sed 's/chrPGA/PGA/g' \\\n",
    "/Volumes/web/metacarcinus/Pgenerosa/analyses/20191024/amb_AllTimes_DMR250bp_MCmax30_cov5x_rms_results_collapsed.tsv.DMR.bed | \\\n",
    "intersectBed -a - -b /Users/Shelly/Documents/GitHub/Shelly_Pgenerosa/analyses/DMRs_heatmap/amb_aov_modelsumm_4bed.txt |\\\n",
    "head"
   ]
  },
  {
   "cell_type": "code",
   "execution_count": 10,
   "metadata": {},
   "outputs": [
    {
     "name": "stdout",
     "output_type": "stream",
     "text": [
      "      36\r\n"
     ]
    }
   ],
   "source": [
    "!sed 's/chrPGA/PGA/g' \\\n",
    "/Volumes/web/metacarcinus/Pgenerosa/analyses/20191024/amb_AllTimes_DMR250bp_MCmax30_cov5x_rms_results_collapsed.tsv.DMR.bed | \\\n",
    "intersectBed -a - -b /Users/Shelly/Documents/GitHub/Shelly_Pgenerosa/analyses/DMRs_heatmap/amb_aov_modelsumm_4bed.txt |\\\n",
    "wc -l"
   ]
  },
  {
   "cell_type": "code",
   "execution_count": 11,
   "metadata": {},
   "outputs": [
    {
     "name": "stdout",
     "output_type": "stream",
     "text": [
      "      37 /Users/Shelly/Documents/GitHub/Shelly_Pgenerosa/analyses/DMRs_heatmap/amb_aov_modelsumm_4bed.txt\r\n"
     ]
    }
   ],
   "source": [
    "!wc -l /Users/Shelly/Documents/GitHub/Shelly_Pgenerosa/analyses/DMRs_heatmap/amb_aov_modelsumm_4bed.txt "
   ]
  },
  {
   "cell_type": "code",
   "execution_count": null,
   "metadata": {
    "collapsed": true
   },
   "outputs": [],
   "source": [
    "#since intersect bed works, create filtered bedfile "
   ]
  },
  {
   "cell_type": "code",
   "execution_count": 12,
   "metadata": {
    "collapsed": true
   },
   "outputs": [],
   "source": [
    "!sed 's/chrPGA/PGA/g' \\\n",
    "/Volumes/web/metacarcinus/Pgenerosa/analyses/20191024/amb_AllTimes_DMR250bp_MCmax30_cov5x_rms_results_collapsed.tsv.DMR.bed | \\\n",
    "intersectBed -a - -b /Users/Shelly/Documents/GitHub/Shelly_Pgenerosa/analyses/DMRs_heatmap/amb_aov_modelsumm_4bed.txt |\\\n",
    "> amb_AllTimes_DMR250bp_MCmax30_cov5x_rms_results_collapsed_AOV0.1.DMR.bed"
   ]
  },
  {
   "cell_type": "code",
   "execution_count": null,
   "metadata": {
    "collapsed": true
   },
   "outputs": [],
   "source": []
  },
  {
   "cell_type": "code",
   "execution_count": null,
   "metadata": {
    "collapsed": true
   },
   "outputs": [],
   "source": []
  },
  {
   "cell_type": "code",
   "execution_count": null,
   "metadata": {
    "collapsed": true
   },
   "outputs": [],
   "source": []
  }
 ],
 "metadata": {
  "kernelspec": {
   "display_name": "Python 3",
   "language": "python",
   "name": "python3"
  },
  "language_info": {
   "codemirror_mode": {
    "name": "ipython",
    "version": 3
   },
   "file_extension": ".py",
   "mimetype": "text/x-python",
   "name": "python",
   "nbconvert_exporter": "python",
   "pygments_lexer": "ipython3",
   "version": "3.6.8"
  }
 },
 "nbformat": 4,
 "nbformat_minor": 2
}
