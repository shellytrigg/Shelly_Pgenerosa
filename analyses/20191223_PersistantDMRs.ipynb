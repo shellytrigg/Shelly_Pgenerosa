{
 "cells": [
  {
   "cell_type": "code",
   "execution_count": null,
   "metadata": {},
   "outputs": [],
   "source": [
    "#See if DMRs significant at AOV 0.05 are intersecting across comparisons"
   ]
  },
  {
   "cell_type": "code",
   "execution_count": 1,
   "metadata": {},
   "outputs": [
    {
     "name": "stdout",
     "output_type": "stream",
     "text": [
      "/Users/strigg/Documents/GitHub/Shelly_Pgenerosa/analyses/20191222\n"
     ]
    }
   ],
   "source": [
    "cd ~/Documents/GitHub/Shelly_Pgenerosa/analyses/20191222/"
   ]
  },
  {
   "cell_type": "code",
   "execution_count": 4,
   "metadata": {},
   "outputs": [
    {
     "name": "stdout",
     "output_type": "stream",
     "text": [
      "EPI-103_S27_L005_5xmerg_allc.tsv\r\n",
      "EPI-104_S28_L005_5xmerg_allc.tsv\r\n",
      "EPI-111_S29_L005_5xmerg_allc.tsv\r\n",
      "EPI-113_S30_L005_5xmerg_allc.tsv\r\n",
      "EPI-119_S31_L005_5xmerg_allc.tsv\r\n",
      "EPI-120_S32_L005_5xmerg_allc.tsv\r\n",
      "EPI-127_S33_L005_5xmerg_allc.tsv\r\n",
      "EPI-128_S34_L005_5xmerg_allc.tsv\r\n",
      "EPI-135_S35_L005_5xmerg_allc.tsv\r\n",
      "EPI-136_S36_L005_5xmerg_allc.tsv\r\n",
      "EPI-143_S37_L005_5xmerg_allc.tsv\r\n",
      "EPI-145_S38_L005_5xmerg_allc.tsv\r\n",
      "EPI-151_S2_L002_5xmerg_allc.tsv\r\n",
      "EPI-152_S3_L002_5xmerg_allc.tsv\r\n",
      "EPI-153_S4_L002_5xmerg_allc.tsv\r\n",
      "EPI-154_S5_L002_5xmerg_allc.tsv\r\n",
      "EPI-159_S6_L002_5xmerg_allc.tsv\r\n",
      "EPI-160_S7_L002_5xmerg_allc.tsv\r\n",
      "EPI-161_S8_L002_5xmerg_allc.tsv\r\n",
      "EPI-162_S9_L002_5xmerg_allc.tsv\r\n",
      "EPI-167_S10_L002_5xmerg_allc.tsv\r\n",
      "EPI-168_S11_L002_5xmerg_allc.tsv\r\n",
      "EPI-169_S12_L002_5xmerg_allc.tsv\r\n",
      "EPI-170_S13_L002_5xmerg_allc.tsv\r\n",
      "EPI-175_S14_L003_5xmerg_allc.tsv\r\n",
      "EPI-176_S15_L003_5xmerg_allc.tsv\r\n",
      "EPI-181_S16_L003_5xmerg_allc.tsv\r\n",
      "EPI-182_S17_L003_5xmerg_allc.tsv\r\n",
      "EPI-184_S18_L003_5xmerg_allc.tsv\r\n",
      "EPI-185_S19_L003_5xmerg_allc.tsv\r\n",
      "EPI-187_S20_L003_5xmerg_allc.tsv\r\n",
      "EPI-188_S21_L003_5xmerg_allc.tsv\r\n",
      "EPI-193_S22_L003_5xmerg_allc.tsv\r\n",
      "EPI-194_S23_L003_5xmerg_allc.tsv\r\n",
      "EPI-199_S24_L003_5xmerg_allc.tsv\r\n",
      "EPI-200_S25_L003_5xmerg_allc.tsv\r\n",
      "EPI-205_S26_L004_5xmerg_allc.tsv\r\n",
      "EPI-206_S27_L004_5xmerg_allc.tsv\r\n",
      "EPI-208_S28_L004_5xmerg_allc.tsv\r\n",
      "EPI-209_S29_L004_5xmerg_allc.tsv\r\n",
      "EPI-214_S30_L004_5xmerg_allc.tsv\r\n",
      "EPI-215_S31_L004_5xmerg_allc.tsv\r\n",
      "EPI-220_S32_L004_5xmerg_allc.tsv\r\n",
      "EPI-221_S33_L004_5xmerg_allc.tsv\r\n",
      "EPI-226_S34_L004_5xmerg_allc.tsv\r\n",
      "EPI-227_S35_L004_5xmerg_allc.tsv\r\n",
      "EPI-229_S36_L004_5xmerg_allc.tsv\r\n",
      "EPI-230_S37_L004_5xmerg_allc.tsv\r\n",
      "EPI-41_S38_L005_5xmerg_allc.tsv\r\n",
      "EPI-42_S39_L005_5xmerg_allc.tsv\r\n",
      "EPI-43_S40_L005_5xmerg_allc.tsv\r\n",
      "EPI-44_S41_L005_5xmerg_allc.tsv\r\n",
      "amb_AllTimes_DMR250bp_MCmax25_cov5x_rms_results.tsv.gz\r\n",
      "amb_AllTimes_DMR250bp_MCmax25_cov5x_rms_results_collapsed.tsv\r\n",
      "amb_AllTimes_DMR250bp_MCmax25_cov5x_rms_results_collapsed.tsv.DMR.bed\r\n",
      "amb_AllTimes_DMR250bp_MCmax25_cov5x_rms_results_collapsed.tsv.DMS.bed\r\n",
      "day10_AllpH_DMR250bp_MCmax25_cov5x_rms_results.bed\r\n",
      "day10_AllpH_DMR250bp_MCmax25_cov5x_rms_results.short.bed\r\n",
      "day10_AllpH_DMR250bp_MCmax25_cov5x_rms_results.tsv.gz\r\n",
      "day10_AllpH_DMR250bp_MCmax25_cov5x_rms_results_collapsed.bed\r\n",
      "day10_AllpH_DMR250bp_MCmax25_cov5x_rms_results_collapsed.tsv\r\n",
      "day10_AllpH_DMR250bp_MCmax25_cov5x_rms_results_collapsed.tsv.DMR.bed\r\n",
      "day10_AllpH_DMR250bp_MCmax25_cov5x_rms_results_collapsed.tsv.DMS.bed\r\n",
      "day10_DMS_scaffold_position\r\n",
      "day135_AllpH_DMR250bp_MCmax25_cov5x_rms_results.tsv.gz\r\n",
      "day135_AllpH_DMR250bp_MCmax25_cov5x_rms_results_collapsed.tsv\r\n",
      "day135_AllpH_DMR250bp_MCmax25_cov5x_rms_results_collapsed.tsv.DMR.bed\r\n",
      "day135_AllpH_DMR250bp_MCmax25_cov5x_rms_results_collapsed.tsv.DMS.bed\r\n",
      "day145_AllpH_DMR250bp_MCmax25_cov5x_rms_results.tsv.gz\r\n",
      "day145_AllpH_DMR250bp_MCmax25_cov5x_rms_results_collapsed.tsv\r\n",
      "day145_AllpH_DMR250bp_MCmax25_cov5x_rms_results_collapsed.tsv.DMR.bed\r\n",
      "day145_AllpH_DMR250bp_MCmax25_cov5x_rms_results_collapsed.tsv.DMS.bed\r\n"
     ]
    }
   ],
   "source": [
    "!ls"
   ]
  },
  {
   "cell_type": "code",
   "execution_count": 3,
   "metadata": {},
   "outputs": [
    {
     "name": "stderr",
     "output_type": "stream",
     "text": [
      "Error: Unable to open file aov_0.05pH_d10DMR.bed. Exiting.\n"
     ]
    }
   ],
   "source": [
    "%%bash\n",
    "\n",
    "/Users/Shared/bioinformatics/bedtools2/bin/intersectBed \\\n",
    "-a aov_0.05pH_d10DMR.bed -b aov_0.05pH_d135DMR.bed |\\\n",
    "head"
   ]
  }
 ],
 "metadata": {
  "kernelspec": {
   "display_name": "Python 3",
   "language": "python",
   "name": "python3"
  },
  "language_info": {
   "codemirror_mode": {
    "name": "ipython",
    "version": 3
   },
   "file_extension": ".py",
   "mimetype": "text/x-python",
   "name": "python",
   "nbconvert_exporter": "python",
   "pygments_lexer": "ipython3",
   "version": "3.6.8"
  }
 },
 "nbformat": 4,
 "nbformat_minor": 2
}
