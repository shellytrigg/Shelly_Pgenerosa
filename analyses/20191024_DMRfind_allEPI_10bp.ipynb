{
 "cells": [
  {
   "cell_type": "code",
   "execution_count": null,
   "metadata": {
    "collapsed": true
   },
   "outputs": [],
   "source": [
    "#change directory to where new output is"
   ]
  },
  {
   "cell_type": "code",
   "execution_count": 1,
   "metadata": {},
   "outputs": [
    {
     "name": "stdout",
     "output_type": "stream",
     "text": [
      "/Volumes/web/metacarcinus/Pgenerosa/analyses/20191024_10bp\n"
     ]
    }
   ],
   "source": [
    "cd /Volumes/web/metacarcinus/Pgenerosa/analyses/20191024_10bp/"
   ]
  },
  {
   "cell_type": "code",
   "execution_count": 3,
   "metadata": {
    "collapsed": true
   },
   "outputs": [],
   "source": [
    "#need to remove 'chr' from the beginning of each line in the bed files"
   ]
  },
  {
   "cell_type": "code",
   "execution_count": 2,
   "metadata": {},
   "outputs": [
    {
     "name": "stdout",
     "output_type": "stream",
     "text": [
      "PGA_scaffold10__49_contigs__length_53961475\t11112809\t11112912\t3\r\n",
      "PGA_scaffold10__49_contigs__length_53961475\t12145845\t12145856\t4\r\n",
      "PGA_scaffold10__49_contigs__length_53961475\t23859927\t23859940\t3\r\n",
      "PGA_scaffold10__49_contigs__length_53961475\t23948375\t23948381\t3\r\n",
      "PGA_scaffold10__49_contigs__length_53961475\t29687518\t29687529\t3\r\n",
      "PGA_scaffold11__79_contigs__length_51449921\t34247795\t34247800\t4\r\n",
      "PGA_scaffold11__79_contigs__length_51449921\t36936614\t36936748\t3\r\n",
      "PGA_scaffold12__71_contigs__length_50438331\t18062496\t18062546\t3\r\n",
      "PGA_scaffold12__71_contigs__length_50438331\t38602268\t38602309\t4\r\n",
      "PGA_scaffold12__71_contigs__length_50438331\t44762804\t44762874\t3\r\n"
     ]
    }
   ],
   "source": [
    "!sed 's/chrPGA/PGA/g' amb_AllTimes_DMR250bp_MCmax10_cov5x_rms_results_collapsed.tsv.DMR.bed | head"
   ]
  },
  {
   "cell_type": "code",
   "execution_count": 3,
   "metadata": {},
   "outputs": [
    {
     "name": "stdout",
     "output_type": "stream",
     "text": [
      "PGA_scaffold10__49_contigs__length_53961475\t11112810\t11112912\t3\r\n",
      "PGA_scaffold10__49_contigs__length_53961475\t23948376\t23948381\t3\r\n",
      "PGA_scaffold11__79_contigs__length_51449921\t34247796\t34247800\t4\r\n",
      "PGA_scaffold12__71_contigs__length_50438331\t44762805\t44762874\t3\r\n",
      "PGA_scaffold13__52_contigs__length_44396874\t17937030\t17937088\t4\r\n",
      "PGA_scaffold13__52_contigs__length_44396874\t19133672\t19133688\t3\r\n",
      "PGA_scaffold14__91_contigs__length_45393038\t4531024\t4531097\t4\r\n",
      "PGA_scaffold14__91_contigs__length_45393038\t10585602\t10585725\t3\r\n",
      "PGA_scaffold15__101_contigs__length_47938513\t7012410\t7012446\t5\r\n",
      "PGA_scaffold15__101_contigs__length_47938513\t12287612\t12287736\t10\r\n"
     ]
    }
   ],
   "source": [
    "!sed 's/chrPGA/PGA/g' amb_AllTimes_DMR250bp_MCmax10_cov5x_rms_results_collapsed.tsv.DMR.bed | \\\n",
    "intersectBed -a - -b /Users/Shelly/Documents/GitHub/Shelly_Pgenerosa/analyses/DMR_cov_in_0.75_SamplesPerCategory/amb_AllTimes_DMR250bp_MCmax10_cov5x_rms_results_filtered.tsv |\\\n",
    "head"
   ]
  },
  {
   "cell_type": "code",
   "execution_count": 4,
   "metadata": {},
   "outputs": [
    {
     "name": "stdout",
     "output_type": "stream",
     "text": [
      "      43\r\n"
     ]
    }
   ],
   "source": [
    "!sed 's/chrPGA/PGA/g' amb_AllTimes_DMR250bp_MCmax10_cov5x_rms_results_collapsed.tsv.DMR.bed | \\\n",
    "intersectBed -a - -b /Users/Shelly/Documents/GitHub/Shelly_Pgenerosa/analyses/DMR_cov_in_0.75_SamplesPerCategory/amb_AllTimes_DMR250bp_MCmax10_cov5x_rms_results_filtered.tsv |\\\n",
    "wc -l"
   ]
  },
  {
   "cell_type": "code",
   "execution_count": null,
   "metadata": {
    "collapsed": true
   },
   "outputs": [],
   "source": [
    "#count the number of lines in the filtered file (remember it has a header)"
   ]
  },
  {
   "cell_type": "code",
   "execution_count": 5,
   "metadata": {},
   "outputs": [
    {
     "name": "stdout",
     "output_type": "stream",
     "text": [
      "      44 /Users/Shelly/Documents/GitHub/Shelly_Pgenerosa/analyses/DMR_cov_in_0.75_SamplesPerCategory/amb_AllTimes_DMR250bp_MCmax10_cov5x_rms_results_filtered.tsv\r\n"
     ]
    }
   ],
   "source": [
    "!wc -l /Users/Shelly/Documents/GitHub/Shelly_Pgenerosa/analyses/DMR_cov_in_0.75_SamplesPerCategory/amb_AllTimes_DMR250bp_MCmax10_cov5x_rms_results_filtered.tsv "
   ]
  },
  {
   "cell_type": "code",
   "execution_count": null,
   "metadata": {
    "collapsed": true
   },
   "outputs": [],
   "source": [
    "#since intersect bed works, create filtered bedfiles in for loop"
   ]
  },
  {
   "cell_type": "code",
   "execution_count": 6,
   "metadata": {
    "collapsed": true
   },
   "outputs": [],
   "source": [
    "%%bash\n",
    "for f in *.DMR.bed\n",
    "do\n",
    "sed 's/chrPGA/PGA/g' ${f} | \\\n",
    "intersectBed -a - -b /Users/Shelly/Documents/GitHub/Shelly_Pgenerosa/analyses/DMR_cov_in_0.75_SamplesPerCategory/$(basename ${f} collapsed.tsv.DMR.bed)filtered.tsv \\\n",
    "> $(basename ${f} _rms_results_collapsed.tsv.DMR.bed).filtered.bed\n",
    "done"
   ]
  },
  {
   "cell_type": "code",
   "execution_count": 7,
   "metadata": {},
   "outputs": [
    {
     "name": "stdout",
     "output_type": "stream",
     "text": [
      "\u001b[31mamb_AllTimes_DMR250bp_MCmax10_cov5x.filtered.bed\u001b[m\u001b[m\r\n",
      "\u001b[31mamb_AllTimes_DMR250bp_MCmax10_cov5x_rms_results.tsv.gz\u001b[m\u001b[m\r\n",
      "\u001b[31mamb_AllTimes_DMR250bp_MCmax10_cov5x_rms_results_collapsed.tsv\u001b[m\u001b[m\r\n",
      "\u001b[31mamb_AllTimes_DMR250bp_MCmax10_cov5x_rms_results_collapsed.tsv.DMR.bed\u001b[m\u001b[m\r\n",
      "\u001b[31mamb_AllTimes_DMR250bp_MCmax10_cov5x_rms_results_collapsed.tsv.DMS.bed\u001b[m\u001b[m\r\n",
      "\u001b[31mday10_AllpH_DMR250bp_MCmax10_cov5x.filtered.bed\u001b[m\u001b[m\r\n",
      "\u001b[31mday10_AllpH_DMR250bp_MCmax10_cov5x_rms_results.tsv.gz\u001b[m\u001b[m\r\n",
      "\u001b[31mday10_AllpH_DMR250bp_MCmax10_cov5x_rms_results_collapsed.tsv\u001b[m\u001b[m\r\n",
      "\u001b[31mday10_AllpH_DMR250bp_MCmax10_cov5x_rms_results_collapsed.tsv.DMR.bed\u001b[m\u001b[m\r\n",
      "\u001b[31mday10_AllpH_DMR250bp_MCmax10_cov5x_rms_results_collapsed.tsv.DMS.bed\u001b[m\u001b[m\r\n",
      "\u001b[31mday135_AllpH_DMR250bp_MCmax10_cov5x.filtered.bed\u001b[m\u001b[m\r\n",
      "\u001b[31mday135_AllpH_DMR250bp_MCmax10_cov5x_rms_results.tsv.gz\u001b[m\u001b[m\r\n",
      "\u001b[31mday135_AllpH_DMR250bp_MCmax10_cov5x_rms_results_collapsed.tsv\u001b[m\u001b[m\r\n",
      "\u001b[31mday135_AllpH_DMR250bp_MCmax10_cov5x_rms_results_collapsed.tsv.DMR.bed\u001b[m\u001b[m\r\n",
      "\u001b[31mday135_AllpH_DMR250bp_MCmax10_cov5x_rms_results_collapsed.tsv.DMS.bed\u001b[m\u001b[m\r\n",
      "\u001b[31mday145_AllpH_DMR250bp_MCmax10_cov5x.filtered.bed\u001b[m\u001b[m\r\n",
      "\u001b[31mday145_AllpH_DMR250bp_MCmax10_cov5x_rms_results.tsv.gz\u001b[m\u001b[m\r\n",
      "\u001b[31mday145_AllpH_DMR250bp_MCmax10_cov5x_rms_results_collapsed.tsv\u001b[m\u001b[m\r\n",
      "\u001b[31mday145_AllpH_DMR250bp_MCmax10_cov5x_rms_results_collapsed.tsv.DMR.bed\u001b[m\u001b[m\r\n",
      "\u001b[31mday145_AllpH_DMR250bp_MCmax10_cov5x_rms_results_collapsed.tsv.DMS.bed\u001b[m\u001b[m\r\n",
      "\u001b[31mslurm-1423601.out\u001b[m\u001b[m\r\n"
     ]
    }
   ],
   "source": [
    "!ls"
   ]
  },
  {
   "cell_type": "code",
   "execution_count": 8,
   "metadata": {},
   "outputs": [
    {
     "name": "stdout",
     "output_type": "stream",
     "text": [
      "PGA_scaffold10__49_contigs__length_53961475\t11112810\t11112912\t3\r\n",
      "PGA_scaffold10__49_contigs__length_53961475\t23948376\t23948381\t3\r\n",
      "PGA_scaffold11__79_contigs__length_51449921\t34247796\t34247800\t4\r\n",
      "PGA_scaffold12__71_contigs__length_50438331\t44762805\t44762874\t3\r\n",
      "PGA_scaffold13__52_contigs__length_44396874\t17937030\t17937088\t4\r\n",
      "PGA_scaffold13__52_contigs__length_44396874\t19133672\t19133688\t3\r\n",
      "PGA_scaffold14__91_contigs__length_45393038\t4531024\t4531097\t4\r\n",
      "PGA_scaffold14__91_contigs__length_45393038\t10585602\t10585725\t3\r\n",
      "PGA_scaffold15__101_contigs__length_47938513\t7012410\t7012446\t5\r\n",
      "PGA_scaffold15__101_contigs__length_47938513\t12287612\t12287736\t10\r\n"
     ]
    }
   ],
   "source": [
    "!head amb_AllTimes_DMR250bp_MCmax10_cov5x.filtered.bed"
   ]
  },
  {
   "cell_type": "code",
   "execution_count": 9,
   "metadata": {},
   "outputs": [
    {
     "name": "stdout",
     "output_type": "stream",
     "text": [
      "      43 amb_AllTimes_DMR250bp_MCmax10_cov5x.filtered.bed\n",
      "      46 day10_AllpH_DMR250bp_MCmax10_cov5x.filtered.bed\n",
      "      25 day135_AllpH_DMR250bp_MCmax10_cov5x.filtered.bed\n",
      "      19 day145_AllpH_DMR250bp_MCmax10_cov5x.filtered.bed\n",
      "     133 total\n"
     ]
    }
   ],
   "source": [
    "!wc -l *.filtered.bed"
   ]
  },
  {
   "cell_type": "code",
   "execution_count": 11,
   "metadata": {},
   "outputs": [
    {
     "name": "stdout",
     "output_type": "stream",
     "text": [
      "      44 /Users/Shelly/Documents/GitHub/Shelly_Pgenerosa/analyses/DMR_cov_in_0.75_SamplesPerCategory/amb_AllTimes_DMR250bp_MCmax10_cov5x_rms_results_filtered.tsv\r\n",
      "      47 /Users/Shelly/Documents/GitHub/Shelly_Pgenerosa/analyses/DMR_cov_in_0.75_SamplesPerCategory/day10_AllpH_DMR250bp_MCmax10_cov5x_rms_results_filtered.tsv\r\n",
      "      26 /Users/Shelly/Documents/GitHub/Shelly_Pgenerosa/analyses/DMR_cov_in_0.75_SamplesPerCategory/day135_AllpH_DMR250bp_MCmax10_cov5x_rms_results_filtered.tsv\r\n",
      "      20 /Users/Shelly/Documents/GitHub/Shelly_Pgenerosa/analyses/DMR_cov_in_0.75_SamplesPerCategory/day145_AllpH_DMR250bp_MCmax10_cov5x_rms_results_filtered.tsv\r\n",
      "     137 total\r\n"
     ]
    }
   ],
   "source": [
    "!wc -l /Users/Shelly/Documents/GitHub/Shelly_Pgenerosa/analyses/DMR_cov_in_0.75_SamplesPerCategory/*MCmax10_cov5x_rms_results_filtered.tsv"
   ]
  },
  {
   "cell_type": "code",
   "execution_count": null,
   "metadata": {
    "collapsed": true
   },
   "outputs": [],
   "source": []
  },
  {
   "cell_type": "code",
   "execution_count": null,
   "metadata": {
    "collapsed": true
   },
   "outputs": [],
   "source": []
  },
  {
   "cell_type": "code",
   "execution_count": null,
   "metadata": {
    "collapsed": true
   },
   "outputs": [],
   "source": []
  }
 ],
 "metadata": {
  "kernelspec": {
   "display_name": "Python 3",
   "language": "python",
   "name": "python3"
  },
  "language_info": {
   "codemirror_mode": {
    "name": "ipython",
    "version": 3
   },
   "file_extension": ".py",
   "mimetype": "text/x-python",
   "name": "python",
   "nbconvert_exporter": "python",
   "pygments_lexer": "ipython3",
   "version": "3.6.8"
  }
 },
 "nbformat": 4,
 "nbformat_minor": 2
}
