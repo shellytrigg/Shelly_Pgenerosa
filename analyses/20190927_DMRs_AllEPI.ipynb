{
 "cells": [
  {
   "cell_type": "code",
   "execution_count": 1,
   "metadata": {},
   "outputs": [
    {
     "name": "stdout",
     "output_type": "stream",
     "text": [
      "/Volumes/web/metacarcinus/Pgenerosa/analyses/20190925\n"
     ]
    }
   ],
   "source": [
    "cd /Volumes/web/metacarcinus/Pgenerosa/analyses/20190925/"
   ]
  },
  {
   "cell_type": "code",
   "execution_count": 2,
   "metadata": {},
   "outputs": [
    {
     "name": "stdout",
     "output_type": "stream",
     "text": [
      "\u001b[31mallc_EPI-103_S27.destrand.tsv.gz\u001b[m\u001b[m \u001b[31mallc_EPI-176_S15.tsv.gz\u001b[m\u001b[m\r\n",
      "\u001b[31mallc_EPI-103_S27.tsv.gz\u001b[m\u001b[m          \u001b[31mallc_EPI-176_S15.tsv.gz.idx\u001b[m\u001b[m\r\n",
      "\u001b[31mallc_EPI-103_S27.tsv.gz.idx\u001b[m\u001b[m      \u001b[31mallc_EPI-181_S16.tsv.gz\u001b[m\u001b[m\r\n",
      "\u001b[31mallc_EPI-104_S28.destrand.tsv.gz\u001b[m\u001b[m \u001b[31mallc_EPI-181_S16.tsv.gz.idx\u001b[m\u001b[m\r\n",
      "\u001b[31mallc_EPI-104_S28.tsv.gz\u001b[m\u001b[m          \u001b[31mallc_EPI-182_S17.tsv.gz\u001b[m\u001b[m\r\n",
      "\u001b[31mallc_EPI-104_S28.tsv.gz.idx\u001b[m\u001b[m      \u001b[31mallc_EPI-182_S17.tsv.gz.idx\u001b[m\u001b[m\r\n",
      "\u001b[31mallc_EPI-111_S29.destrand.tsv.gz\u001b[m\u001b[m \u001b[31mallc_EPI-184_S18.tsv.gz\u001b[m\u001b[m\r\n",
      "\u001b[31mallc_EPI-111_S29.tsv.gz\u001b[m\u001b[m          \u001b[31mallc_EPI-184_S18.tsv.gz.idx\u001b[m\u001b[m\r\n",
      "\u001b[31mallc_EPI-111_S29.tsv.gz.idx\u001b[m\u001b[m      \u001b[31mallc_EPI-185_S19.tsv.gz\u001b[m\u001b[m\r\n",
      "\u001b[31mallc_EPI-113_S30.destrand.tsv.gz\u001b[m\u001b[m \u001b[31mallc_EPI-185_S19.tsv.gz.idx\u001b[m\u001b[m\r\n",
      "\u001b[31mallc_EPI-113_S30.tsv.gz\u001b[m\u001b[m          \u001b[31mallc_EPI-187_S20.tsv.gz\u001b[m\u001b[m\r\n",
      "\u001b[31mallc_EPI-113_S30.tsv.gz.idx\u001b[m\u001b[m      \u001b[31mallc_EPI-187_S20.tsv.gz.idx\u001b[m\u001b[m\r\n",
      "\u001b[31mallc_EPI-119_S31.destrand.tsv.gz\u001b[m\u001b[m \u001b[31mallc_EPI-188_S21.tsv.gz\u001b[m\u001b[m\r\n",
      "\u001b[31mallc_EPI-119_S31.tsv.gz\u001b[m\u001b[m          \u001b[31mallc_EPI-188_S21.tsv.gz.idx\u001b[m\u001b[m\r\n",
      "\u001b[31mallc_EPI-119_S31.tsv.gz.idx\u001b[m\u001b[m      \u001b[31mallc_EPI-193_S22.tsv.gz\u001b[m\u001b[m\r\n",
      "\u001b[31mallc_EPI-120_S32.destrand.tsv.gz\u001b[m\u001b[m \u001b[31mallc_EPI-193_S22.tsv.gz.idx\u001b[m\u001b[m\r\n",
      "\u001b[31mallc_EPI-120_S32.tsv.gz\u001b[m\u001b[m          \u001b[31mallc_EPI-194_S23.tsv.gz\u001b[m\u001b[m\r\n",
      "\u001b[31mallc_EPI-120_S32.tsv.gz.idx\u001b[m\u001b[m      \u001b[31mallc_EPI-194_S23.tsv.gz.idx\u001b[m\u001b[m\r\n",
      "\u001b[31mallc_EPI-127_S33.tsv.gz\u001b[m\u001b[m          \u001b[31mallc_EPI-199_S24.tsv.gz\u001b[m\u001b[m\r\n",
      "\u001b[31mallc_EPI-127_S33.tsv.gz.idx\u001b[m\u001b[m      \u001b[31mallc_EPI-199_S24.tsv.gz.idx\u001b[m\u001b[m\r\n",
      "\u001b[31mallc_EPI-128_S34.tsv.gz\u001b[m\u001b[m          \u001b[31mallc_EPI-200_S25.tsv.gz\u001b[m\u001b[m\r\n",
      "\u001b[31mallc_EPI-128_S34.tsv.gz.idx\u001b[m\u001b[m      \u001b[31mallc_EPI-200_S25.tsv.gz.idx\u001b[m\u001b[m\r\n",
      "\u001b[31mallc_EPI-135_S35.tsv.gz\u001b[m\u001b[m          \u001b[31mallc_EPI-205_S26.tsv.gz\u001b[m\u001b[m\r\n",
      "\u001b[31mallc_EPI-135_S35.tsv.gz.idx\u001b[m\u001b[m      \u001b[31mallc_EPI-205_S26.tsv.gz.idx\u001b[m\u001b[m\r\n",
      "\u001b[31mallc_EPI-136_S36.tsv.gz\u001b[m\u001b[m          \u001b[31mallc_EPI-206_S27.tsv.gz\u001b[m\u001b[m\r\n",
      "\u001b[31mallc_EPI-136_S36.tsv.gz.idx\u001b[m\u001b[m      \u001b[31mallc_EPI-206_S27.tsv.gz.idx\u001b[m\u001b[m\r\n",
      "\u001b[31mallc_EPI-143_S37.tsv.gz\u001b[m\u001b[m          \u001b[31mallc_EPI-208_S28.tsv.gz\u001b[m\u001b[m\r\n",
      "\u001b[31mallc_EPI-143_S37.tsv.gz.idx\u001b[m\u001b[m      \u001b[31mallc_EPI-208_S28.tsv.gz.idx\u001b[m\u001b[m\r\n",
      "\u001b[31mallc_EPI-145_S38.tsv.gz\u001b[m\u001b[m          \u001b[31mallc_EPI-209_S29.tsv.gz\u001b[m\u001b[m\r\n",
      "\u001b[31mallc_EPI-145_S38.tsv.gz.idx\u001b[m\u001b[m      \u001b[31mallc_EPI-209_S29.tsv.gz.idx\u001b[m\u001b[m\r\n",
      "\u001b[31mallc_EPI-151_S2.tsv.gz\u001b[m\u001b[m           \u001b[31mallc_EPI-214_S30.tsv.gz\u001b[m\u001b[m\r\n",
      "\u001b[31mallc_EPI-151_S2.tsv.gz.idx\u001b[m\u001b[m       \u001b[31mallc_EPI-214_S30.tsv.gz.idx\u001b[m\u001b[m\r\n",
      "\u001b[31mallc_EPI-152_S3.tsv.gz\u001b[m\u001b[m           \u001b[31mallc_EPI-215_S31.tsv.gz\u001b[m\u001b[m\r\n",
      "\u001b[31mallc_EPI-152_S3.tsv.gz.idx\u001b[m\u001b[m       \u001b[31mallc_EPI-215_S31.tsv.gz.idx\u001b[m\u001b[m\r\n",
      "\u001b[31mallc_EPI-153_S4.tsv.gz\u001b[m\u001b[m           \u001b[31mallc_EPI-220_S32.tsv.gz\u001b[m\u001b[m\r\n",
      "\u001b[31mallc_EPI-153_S4.tsv.gz.idx\u001b[m\u001b[m       \u001b[31mallc_EPI-220_S32.tsv.gz.idx\u001b[m\u001b[m\r\n",
      "\u001b[31mallc_EPI-154_S5.tsv.gz\u001b[m\u001b[m           \u001b[31mallc_EPI-221_S33.tsv.gz\u001b[m\u001b[m\r\n",
      "\u001b[31mallc_EPI-154_S5.tsv.gz.idx\u001b[m\u001b[m       \u001b[31mallc_EPI-221_S33.tsv.gz.idx\u001b[m\u001b[m\r\n",
      "\u001b[31mallc_EPI-159_S6.tsv.gz\u001b[m\u001b[m           \u001b[31mallc_EPI-226_S34.tsv.gz\u001b[m\u001b[m\r\n",
      "\u001b[31mallc_EPI-159_S6.tsv.gz.idx\u001b[m\u001b[m       \u001b[31mallc_EPI-226_S34.tsv.gz.idx\u001b[m\u001b[m\r\n",
      "\u001b[31mallc_EPI-160_S7.tsv.gz\u001b[m\u001b[m           \u001b[31mallc_EPI-227_S35.tsv.gz\u001b[m\u001b[m\r\n",
      "\u001b[31mallc_EPI-160_S7.tsv.gz.idx\u001b[m\u001b[m       \u001b[31mallc_EPI-227_S35.tsv.gz.idx\u001b[m\u001b[m\r\n",
      "\u001b[31mallc_EPI-161_S8.tsv.gz\u001b[m\u001b[m           \u001b[31mallc_EPI-229_S36.tsv.gz\u001b[m\u001b[m\r\n",
      "\u001b[31mallc_EPI-161_S8.tsv.gz.idx\u001b[m\u001b[m       \u001b[31mallc_EPI-229_S36.tsv.gz.idx\u001b[m\u001b[m\r\n",
      "\u001b[31mallc_EPI-162_S9.tsv.gz\u001b[m\u001b[m           \u001b[31mallc_EPI-230_S37.tsv.gz\u001b[m\u001b[m\r\n",
      "\u001b[31mallc_EPI-162_S9.tsv.gz.idx\u001b[m\u001b[m       \u001b[31mallc_EPI-230_S37.tsv.gz.idx\u001b[m\u001b[m\r\n",
      "\u001b[31mallc_EPI-167_S10.tsv.gz\u001b[m\u001b[m          \u001b[31mallc_EPI-41_S38.tsv.gz\u001b[m\u001b[m\r\n",
      "\u001b[31mallc_EPI-167_S10.tsv.gz.idx\u001b[m\u001b[m      \u001b[31mallc_EPI-41_S38.tsv.gz.idx\u001b[m\u001b[m\r\n",
      "\u001b[31mallc_EPI-168_S11.tsv.gz\u001b[m\u001b[m          \u001b[31mallc_EPI-42_S39.tsv.gz\u001b[m\u001b[m\r\n",
      "\u001b[31mallc_EPI-168_S11.tsv.gz.idx\u001b[m\u001b[m      \u001b[31mallc_EPI-42_S39.tsv.gz.idx\u001b[m\u001b[m\r\n",
      "\u001b[31mallc_EPI-169_S12.tsv.gz\u001b[m\u001b[m          \u001b[31mallc_EPI-43_S40.tsv.gz\u001b[m\u001b[m\r\n",
      "\u001b[31mallc_EPI-169_S12.tsv.gz.idx\u001b[m\u001b[m      \u001b[31mallc_EPI-43_S40.tsv.gz.idx\u001b[m\u001b[m\r\n",
      "\u001b[31mallc_EPI-170_S13.tsv.gz\u001b[m\u001b[m          \u001b[31mallc_EPI-44_S41.tsv.gz\u001b[m\u001b[m\r\n",
      "\u001b[31mallc_EPI-170_S13.tsv.gz.idx\u001b[m\u001b[m      \u001b[31mallc_EPI-44_S41.tsv.gz.idx\u001b[m\u001b[m\r\n",
      "\u001b[31mallc_EPI-175_S14.tsv.gz\u001b[m\u001b[m          \u001b[31mslurm-1356575.out\u001b[m\u001b[m\r\n",
      "\u001b[31mallc_EPI-175_S14.tsv.gz.idx\u001b[m\u001b[m\r\n"
     ]
    }
   ],
   "source": [
    "!ls"
   ]
  },
  {
   "cell_type": "code",
   "execution_count": null,
   "metadata": {},
   "outputs": [],
   "source": [
    "# For table S1, compare day 0, day 10, day 135, and day 145"
   ]
  },
  {
   "cell_type": "code",
   "execution_count": 3,
   "metadata": {},
   "outputs": [
    {
     "name": "stdout",
     "output_type": "stream",
     "text": [
      "Process is terminated.\n"
     ]
    }
   ],
   "source": [
    "%%bash\n",
    "\n",
    "methylpy DMRfind \\\n",
    "--allc-files /Volumes/web/metacarcinus/Pgenerosa/analyses/20190925/allc_EPI-41_S38.tsv.gz \\\n",
    "/Volumes/web/metacarcinus/Pgenerosa/analyses/20190925/allc_EPI-42_S39.tsv.gz \\\n",
    "/Volumes/web/metacarcinus/Pgenerosa/analyses/20190925/allc_EPI-43_S40.tsv.gz \\\n",
    "/Volumes/web/metacarcinus/Pgenerosa/analyses/20190925/allc_EPI-44_S41.tsv.gz \\\n",
    "/Volumes/web/metacarcinus/Pgenerosa/analyses/20190925/allc_EPI-119_S31.tsv.gz \\\n",
    "/Volumes/web/metacarcinus/Pgenerosa/analyses/20190925/allc_EPI-120_S32.tsv.gz \\\n",
    "/Volumes/web/metacarcinus/Pgenerosa/analyses/20190925/allc_EPI-135_S35.tsv.gz \\\n",
    "/Volumes/web/metacarcinus/Pgenerosa/analyses/20190925/allc_EPI-136_S36.tsv.gz \\\n",
    "/Volumes/web/metacarcinus/Pgenerosa/analyses/20190925/allc_EPI-151_S2.tsv.gz \\\n",
    "/Volumes/web/metacarcinus/Pgenerosa/analyses/20190925/allc_EPI-152_S3.tsv.gz \\\n",
    "/Volumes/web/metacarcinus/Pgenerosa/analyses/20190925/allc_EPI-153_S4.tsv.gz \\\n",
    "/Volumes/web/metacarcinus/Pgenerosa/analyses/20190925/allc_EPI-154_S5.tsv.gz \\\n",
    "/Volumes/web/metacarcinus/Pgenerosa/analyses/20190925/allc_EPI-181_S16.tsv.gz \\\n",
    "/Volumes/web/metacarcinus/Pgenerosa/analyses/20190925/allc_EPI-182_S17.tsv.gz \\\n",
    "/Volumes/web/metacarcinus/Pgenerosa/analyses/20190925/allc_EPI-184_S18.tsv.gz \\\n",
    "/Volumes/web/metacarcinus/Pgenerosa/analyses/20190925/allc_EPI-185_S19.tsv.gz \\\n",
    "--samples EPI-41 EPI-42 EPI-43 EPI-44 EPI-119 EPI-120 EPI-135 EPI-136 EPI-151 EPI-152 EPI-153 EPI-154 EPI-181 EPI-182 EPI-184 EPI-185 \\\n",
    "--mc-type \"CGN\" \\\n",
    "--num-procs 8 \\\n",
    "--min-cov 5 \\\n",
    "--output-prefix amb_AllTimes_DMR250bp_MCmax25_cov5x_clst3 \\\n",
    "--mc-max-dist 25 \\\n",
    "--dmr-max-dist 250 \\\n",
    "--min-num-dms 3 \\\n",
    "--sample-category D0 D0 D0 D0 D10 D10 D10 D10 D135 D135 D135 D135 D145 D145 D145 D145 \\\n",
    "--min-cluster 3"
   ]
  },
  {
   "cell_type": "code",
   "execution_count": null,
   "metadata": {},
   "outputs": [],
   "source": [
    "# For table S2, compare pH treatments at Day 10"
   ]
  },
  {
   "cell_type": "code",
   "execution_count": null,
   "metadata": {},
   "outputs": [],
   "source": [
    "%%bash\n",
    "\n",
    "methylpy DMRfind \\\n",
    "--allc-files /Volumes/web/metacarcinus/Pgenerosa/analyses/20190925/destrand_allc_files/allc_EPI-103_S27.tsv.gz \\\n",
    "/gscratch/scrubbed/strigg/analyses/20190822/destrand_allc_files/allc_EPI-104_S28.tsv.gz \\\n",
    "/gscratch/scrubbed/strigg/analyses/20190822/destrand_allc_files/allc_EPI-111_S29.tsv.gz \\\n",
    "/gscratch/scrubbed/strigg/analyses/20190822/destrand_allc_files/allc_EPI-113_S30.tsv.gz \\\n",
    "/gscratch/scrubbed/strigg/analyses/20190822/destrand_allc_files/allc_EPI-119_S31.tsv.gz \\\n",
    "/gscratch/scrubbed/strigg/analyses/20190822/destrand_allc_files/allc_EPI-120_S32.tsv.gz \\\n",
    "/gscratch/scrubbed/strigg/analyses/20190822/destrand_allc_files/allc_EPI-135_S35.tsv.gz \\\n",
    "/gscratch/scrubbed/strigg/analyses/20190822/destrand_allc_files/allc_EPI-136_S36.tsv.gz \\\n",
    "/gscratch/scrubbed/strigg/analyses/20190822/destrand_allc_files/allc_EPI-127_S33.tsv.gz \\\n",
    "/gscratch/scrubbed/strigg/analyses/20190822/destrand_allc_files/allc_EPI-128_S34.tsv.gz \\\n",
    "/gscratch/scrubbed/strigg/analyses/20190822/destrand_allc_files/allc_EPI-143_S37.tsv.gz \\\n",
    "/gscratch/scrubbed/strigg/analyses/20190822/destrand_allc_files/allc_EPI-145_S38.tsv.gz \\\n",
    "--samples EPI-103 EPI-104 EPI-111 EPI-113 EPI-119 EPI-120 EPI-135 EPI-136 EPI-127 EPI-128 EPI-143 EPI-145 \\\n",
    "--mc-type \"CGN\" \\\n",
    "--num-procs 8 \\\n",
    "--min-cov 5 \\\n",
    "--output-prefix day10_AllpH_DMR250bp_MCmax25_cov5x \\\n",
    "--mc-max-dist 25 \\\n",
    "--dmr-max-dist 250 \\\n",
    "--min-num-dms 3 \\\n",
    "--sample-category 0 0 1 1 2 2 2 2 0 0 1 1 "
   ]
  },
  {
   "cell_type": "code",
   "execution_count": null,
   "metadata": {},
   "outputs": [],
   "source": []
  },
  {
   "cell_type": "code",
   "execution_count": null,
   "metadata": {},
   "outputs": [],
   "source": []
  },
  {
   "cell_type": "code",
   "execution_count": null,
   "metadata": {},
   "outputs": [],
   "source": []
  },
  {
   "cell_type": "code",
   "execution_count": null,
   "metadata": {},
   "outputs": [],
   "source": []
  },
  {
   "cell_type": "code",
   "execution_count": null,
   "metadata": {},
   "outputs": [],
   "source": []
  },
  {
   "cell_type": "code",
   "execution_count": null,
   "metadata": {},
   "outputs": [],
   "source": []
  }
 ],
 "metadata": {
  "kernelspec": {
   "display_name": "Python 3",
   "language": "python",
   "name": "python3"
  },
  "language_info": {
   "codemirror_mode": {
    "name": "ipython",
    "version": 3
   },
   "file_extension": ".py",
   "mimetype": "text/x-python",
   "name": "python",
   "nbconvert_exporter": "python",
   "pygments_lexer": "ipython3",
   "version": "3.6.8"
  }
 },
 "nbformat": 4,
 "nbformat_minor": 2
}
