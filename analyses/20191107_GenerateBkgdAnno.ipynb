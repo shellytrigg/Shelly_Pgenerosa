{
 "cells": [
  {
   "cell_type": "code",
   "execution_count": null,
   "metadata": {
    "collapsed": true
   },
   "outputs": [],
   "source": [
    "#change dir to where output will go"
   ]
  },
  {
   "cell_type": "code",
   "execution_count": 1,
   "metadata": {},
   "outputs": [
    {
     "name": "stdout",
     "output_type": "stream",
     "text": [
      "/Users/Shelly/Documents/GitHub/Shelly_Pgenerosa/analyses/20191106_anno\n"
     ]
    }
   ],
   "source": [
    "cd ~/Documents/GitHub/Shelly_Pgenerosa/analyses/20191106_anno/"
   ]
  },
  {
   "cell_type": "code",
   "execution_count": null,
   "metadata": {
    "collapsed": true
   },
   "outputs": [],
   "source": [
    "#created bed file from all sites analyzed by methylpy\n",
    "#filtered by those represented in 3/4 individuals/group"
   ]
  },
  {
   "cell_type": "code",
   "execution_count": null,
   "metadata": {
    "collapsed": true
   },
   "outputs": [],
   "source": [
    "#preview filtered bed file of all sites; columns = chr, start, stop(same as start), rms p.value"
   ]
  },
  {
   "cell_type": "code",
   "execution_count": 2,
   "metadata": {},
   "outputs": [
    {
     "name": "stdout",
     "output_type": "stream",
     "text": [
      "PGA_scaffold10__49_contigs__length_53961475 279 279 0.003\r\n",
      "PGA_scaffold10__49_contigs__length_53961475 305 305 3e-04\r\n",
      "PGA_scaffold10__49_contigs__length_53961475 315 315 3e-04\r\n",
      "PGA_scaffold10__49_contigs__length_53961475 324 324 3e-04\r\n",
      "PGA_scaffold10__49_contigs__length_53961475 332 332 3e-04\r\n",
      "PGA_scaffold10__49_contigs__length_53961475 347 347 3e-04\r\n",
      "PGA_scaffold10__49_contigs__length_53961475 354 354 3e-04\r\n",
      "PGA_scaffold10__49_contigs__length_53961475 505 505 3e-04\r\n",
      "PGA_scaffold10__49_contigs__length_53961475 527 527 3e-04\r\n",
      "PGA_scaffold10__49_contigs__length_53961475 544 544 3e-04\r\n"
     ]
    }
   ],
   "source": [
    "!head /Volumes/web/metacarcinus/Pgenerosa/analyses/20191107_pgen/amb_sites_0.75XgroupCov.bed"
   ]
  },
  {
   "cell_type": "code",
   "execution_count": null,
   "metadata": {
    "collapsed": true
   },
   "outputs": [],
   "source": [
    "#bin into 250 bp "
   ]
  },
  {
   "cell_type": "code",
   "execution_count": 7,
   "metadata": {},
   "outputs": [
    {
     "name": "stdout",
     "output_type": "stream",
     "text": [
      "PGA_scaffold10__49_contigs__length_53961475\t278\t280\r\n",
      "PGA_scaffold10__49_contigs__length_53961475\t304\t306\r\n",
      "PGA_scaffold10__49_contigs__length_53961475\t314\t316\r\n",
      "PGA_scaffold10__49_contigs__length_53961475\t323\t325\r\n",
      "PGA_scaffold10__49_contigs__length_53961475\t331\t333\r\n",
      "PGA_scaffold10__49_contigs__length_53961475\t346\t348\r\n",
      "PGA_scaffold10__49_contigs__length_53961475\t353\t355\r\n",
      "PGA_scaffold10__49_contigs__length_53961475\t504\t506\r\n",
      "PGA_scaffold10__49_contigs__length_53961475\t526\t528\r\n",
      "PGA_scaffold10__49_contigs__length_53961475\t543\t545\r\n"
     ]
    }
   ],
   "source": [
    "!cat /Volumes/web/metacarcinus/Pgenerosa/analyses/20191107_pgen/amb_sites_0.75XgroupCov.bed |\\\n",
    "tr ' ' '\\t' | \\\n",
    "bedtools makewindows -b - \\\n",
    "-w 250 | head"
   ]
  },
  {
   "cell_type": "code",
   "execution_count": null,
   "metadata": {
    "collapsed": true
   },
   "outputs": [],
   "source": [
    "#intersect results file with GFF"
   ]
  },
  {
   "cell_type": "code",
   "execution_count": 5,
   "metadata": {},
   "outputs": [
    {
     "name": "stdout",
     "output_type": "stream",
     "text": [
      "PGA_scaffold10__49_contigs__length_53961475\t279\t279\t0.003\tPGA_scaffold10__49_contigs__length_53961475\tGenSAS_5d9637f372b5d-publish\tgene\t2\t1145\t.\t+\t.\tID=PGEN_.00g204300;Name=PGEN_.00g204300;original_ID=21510-PGEN_.00g311420;Alias=21510-PGEN_.00g311420;original_name=21510-PGEN_.00g311420\n",
      "PGA_scaffold10__49_contigs__length_53961475\t279\t279\t0.003\tPGA_scaffold10__49_contigs__length_53961475\tGenSAS_5d9637f372b5d-publish\tmRNA\t2\t1145\t.\t+\t.\tID=PGEN_.00g204300.m01;Name=PGEN_.00g204300.m01;Parent=PGEN_.00g204300;original_ID=21510-PGEN_.00g311420.m01;Alias=21510-PGEN_.00g311420.m01;original_name=21510-PGEN_.00g311420\n",
      "PGA_scaffold10__49_contigs__length_53961475\t279\t279\t0.003\tPGA_scaffold10__49_contigs__length_53961475\tGenSAS_5d9637f372b5d-publish\texon\t2\t1145\t.\t+\t.\tID=PGEN_.00g204300.m01.exon01;Name=PGEN_.00g204300.m01.exon01;Parent=PGEN_.00g204300.m01;original_ID=21510-PGEN_.00g311420.m01.exon1;Alias=21510-PGEN_.00g311420.m01.exon1\n",
      "PGA_scaffold10__49_contigs__length_53961475\t279\t279\t0.003\tPGA_scaffold10__49_contigs__length_53961475\tGenSAS_5d9637f372b5d-publish\tCDS\t2\t1145\t.\t+\t2\tID=PGEN_.00g204300.m01.CDS01;Name=PGEN_.00g204300.m01.CDS01;Parent=PGEN_.00g204300.m01;original_ID=cds.21510-PGEN_.00g311420.m01;Alias=cds.21510-PGEN_.00g311420.m01\n",
      "PGA_scaffold10__49_contigs__length_53961475\t305\t305\t3e-04\tPGA_scaffold10__49_contigs__length_53961475\tGenSAS_5d9637f372b5d-publish\tgene\t2\t1145\t.\t+\t.\tID=PGEN_.00g204300;Name=PGEN_.00g204300;original_ID=21510-PGEN_.00g311420;Alias=21510-PGEN_.00g311420;original_name=21510-PGEN_.00g311420\n",
      "PGA_scaffold10__49_contigs__length_53961475\t305\t305\t3e-04\tPGA_scaffold10__49_contigs__length_53961475\tGenSAS_5d9637f372b5d-publish\tmRNA\t2\t1145\t.\t+\t.\tID=PGEN_.00g204300.m01;Name=PGEN_.00g204300.m01;Parent=PGEN_.00g204300;original_ID=21510-PGEN_.00g311420.m01;Alias=21510-PGEN_.00g311420.m01;original_name=21510-PGEN_.00g311420\n",
      "PGA_scaffold10__49_contigs__length_53961475\t305\t305\t3e-04\tPGA_scaffold10__49_contigs__length_53961475\tGenSAS_5d9637f372b5d-publish\texon\t2\t1145\t.\t+\t.\tID=PGEN_.00g204300.m01.exon01;Name=PGEN_.00g204300.m01.exon01;Parent=PGEN_.00g204300.m01;original_ID=21510-PGEN_.00g311420.m01.exon1;Alias=21510-PGEN_.00g311420.m01.exon1\n",
      "PGA_scaffold10__49_contigs__length_53961475\t305\t305\t3e-04\tPGA_scaffold10__49_contigs__length_53961475\tGenSAS_5d9637f372b5d-publish\tCDS\t2\t1145\t.\t+\t2\tID=PGEN_.00g204300.m01.CDS01;Name=PGEN_.00g204300.m01.CDS01;Parent=PGEN_.00g204300.m01;original_ID=cds.21510-PGEN_.00g311420.m01;Alias=cds.21510-PGEN_.00g311420.m01\n",
      "PGA_scaffold10__49_contigs__length_53961475\t315\t315\t3e-04\tPGA_scaffold10__49_contigs__length_53961475\tGenSAS_5d9637f372b5d-publish\tgene\t2\t1145\t.\t+\t.\tID=PGEN_.00g204300;Name=PGEN_.00g204300;original_ID=21510-PGEN_.00g311420;Alias=21510-PGEN_.00g311420;original_name=21510-PGEN_.00g311420\n",
      "PGA_scaffold10__49_contigs__length_53961475\t315\t315\t3e-04\tPGA_scaffold10__49_contigs__length_53961475\tGenSAS_5d9637f372b5d-publish\tmRNA\t2\t1145\t.\t+\t.\tID=PGEN_.00g204300.m01;Name=PGEN_.00g204300.m01;Parent=PGEN_.00g204300;original_ID=21510-PGEN_.00g311420.m01;Alias=21510-PGEN_.00g311420.m01;original_name=21510-PGEN_.00g311420\n"
     ]
    }
   ],
   "source": [
    "!cat /Volumes/web/metacarcinus/Pgenerosa/analyses/20191107_pgen/amb_sites_0.75XgroupCov.bed |\\\n",
    "tr ' ' '\\t' | \\\n",
    "intersectBed \\\n",
    "-a - \\\n",
    "-b /Volumes/web/Atumefaciens/20190928_Pgenerosa_v074.a4_gensas_annotation/Panopea-generosa-vv0.74.a4-merged-2019-10-07-4-46-46.gff3 \\\n",
    "-wb |\\\n",
    "head"
   ]
  },
  {
   "cell_type": "code",
   "execution_count": null,
   "metadata": {
    "collapsed": true
   },
   "outputs": [],
   "source": [
    "!cat /Volumes/web/metacarcinus/Pgenerosa/analyses/20191107_pgen/amb_sites_0.75XgroupCov.bed |\\\n",
    "tr ' ' '\\t' | \\\n",
    "intersectBed \\\n",
    "-a - \\\n",
    "-b /Volumes/web/Atumefaciens/20190928_Pgenerosa_v074.a4_gensas_annotation/Panopea-generosa-vv0.74.a4-merged-2019-10-07-4-46-46.gff3 \\\n",
    "-wb |\\\n",
    "cut -f "
   ]
  },
  {
   "cell_type": "code",
   "execution_count": null,
   "metadata": {
    "collapsed": true
   },
   "outputs": [],
   "source": []
  }
 ],
 "metadata": {
  "kernelspec": {
   "display_name": "Python 3",
   "language": "python",
   "name": "python3"
  },
  "language_info": {
   "codemirror_mode": {
    "name": "ipython",
    "version": 3
   },
   "file_extension": ".py",
   "mimetype": "text/x-python",
   "name": "python",
   "nbconvert_exporter": "python",
   "pygments_lexer": "ipython3",
   "version": "3.6.8"
  }
 },
 "nbformat": 4,
 "nbformat_minor": 2
}
