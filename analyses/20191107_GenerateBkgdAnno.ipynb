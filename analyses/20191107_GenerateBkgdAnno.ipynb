{
 "cells": [
  {
   "cell_type": "code",
   "execution_count": null,
   "metadata": {},
   "outputs": [],
   "source": [
    "#change dir to where output will go"
   ]
  },
  {
   "cell_type": "code",
   "execution_count": 1,
   "metadata": {},
   "outputs": [
    {
     "name": "stdout",
     "output_type": "stream",
     "text": [
      "/Users/strigg/Documents/GitHub/Shelly_Pgenerosa/analyses/20191106_anno\n"
     ]
    }
   ],
   "source": [
    "cd ~/Documents/GitHub/Shelly_Pgenerosa/analyses/20191106_anno/"
   ]
  },
  {
   "cell_type": "code",
   "execution_count": null,
   "metadata": {},
   "outputs": [],
   "source": [
    "#preview methylpy DMRfind results file containing all sites considered"
   ]
  },
  {
   "cell_type": "code",
   "execution_count": 4,
   "metadata": {},
   "outputs": [
    {
     "name": "stdout",
     "output_type": "stream",
     "text": [
      "chr\tpos\tstrand\tmc_class\tpvalue\tmc_EPI-41\tmc_EPI-42\tmc_EPI-43\tmc_EPI-44\tmc_EPI-119\tmc_EPI-120\tmc_EPI-135\tmc_EPI-136\tmc_EPI-151\tmc_EPI-152\tmc_EPI-153\tmc_EPI-154\tmc_EPI-181\tmc_EPI-182\tmc_EPI-184\tmc_EPI-185\th_EPI-41\th_EPI-42\th_EPI-43\th_EPI-44\th_EPI-119\th_EPI-120\th_EPI-135\th_EPI-136\th_EPI-151\th_EPI-152\th_EPI-153\th_EPI-154\th_EPI-181\th_EPI-182\th_EPI-184\th_EPI-185\tfrac_EPI-41\tfrac_EPI-42\tfrac_EPI-43\tfrac_EPI-44\tfrac_EPI-119\tfrac_EPI-120\tfrac_EPI-135\tfrac_EPI-136\tfrac_EPI-151\tfrac_EPI-152\tfrac_EPI-153\tfrac_EPI-154\tfrac_EPI-181\tfrac_EPI-182\tfrac_EPI-184\tfrac_EPI-185\tmc_residual_EPI-41\tmc_residual_EPI-42\tmc_residual_EPI-43\tmc_residual_EPI-44\tmc_residual_EPI-119\tmc_residual_EPI-120\tmc_residual_EPI-135\tmc_residual_EPI-136\tmc_residual_EPI-151\tmc_residual_EPI-152\tmc_residual_EPI-153\tmc_residual_EPI-154\tmc_residual_EPI-181\tmc_residual_EPI-182\tmc_residual_EPI-184\tmc_residual_EPI-185\tuc_residual_EPI-41\tuc_residual_EPI-42\tuc_residual_EPI-43\tuc_residual_EPI-44\tuc_residual_EPI-119\tuc_residual_EPI-120\tuc_residual_EPI-135\tuc_residual_EPI-136\tuc_residual_EPI-151\tuc_residual_EPI-152\tuc_residual_EPI-153\tuc_residual_EPI-154\tuc_residual_EPI-181\tuc_residual_EPI-182\tuc_residual_EPI-184\tuc_residual_EPI-185\tnum_simulations_sig\tnum_simulations_run\r\n",
      "PGA_scaffold10__49_contigs__length_53961475\t209\t+\tCGA\t0.4255\t-1\t8\t5\t2\t7\t8\t7\t4\t-1\t6\t2\t-1\t0\t4\t-1\t-1\t-1\t23\t11\t16\t27\t30\t15\t16\t-1\t20\t16\t-1\t12\t14\t-1\t-1\t-1.0000\t0.3478\t0.4545\t0.1250\t0.2593\t0.2667\t0.4667\t0.2500\t-1.0000\t0.3000\t0.1250\t-1.0000\t0.0000\t0.2857\t-1.0000\t-1.0000\t-1\t0.9567\t1.4653\t-1.3229\t-0.0727\t0.0224\t1.8401\t-0.1417\t-1\t0.3738\t-1.3229\t-1\t-2.1454\t0.1821\t-1\t-1\t-1\t-0.9567\t-1.4653\t1.3229\t0.0727\t-0.0224\t-1.8401\t0.1417\t-1\t-0.3738\t1.3229\t-1\t2.1454\t-0.1821\t-1\t-1\t100\t235\r\n",
      "PGA_scaffold10__49_contigs__length_53961475\t226\t+\tCGC\t0.4255\t-1\t8\t5\t2\t7\t8\t7\t4\t-1\t6\t2\t-1\t0\t4\t-1\t-1\t-1\t23\t11\t16\t27\t30\t15\t16\t-1\t20\t16\t-1\t12\t14\t-1\t-1\t-1.0000\t0.3478\t0.4545\t0.1250\t0.2593\t0.2667\t0.4667\t0.2500\t-1.0000\t0.3000\t0.1250\t-1.0000\t0.0000\t0.2857\t-1.0000\t-1.0000\t-1\t0.9567\t1.4653\t-1.3229\t-0.0727\t0.0224\t1.8401\t-0.1417\t-1\t0.3738\t-1.3229\t-1\t-2.1454\t0.1821\t-1\t-1\t-1\t-0.9567\t-1.4653\t1.3229\t0.0727\t-0.0224\t-1.8401\t0.1417\t-1\t-0.3738\t1.3229\t-1\t2.1454\t-0.1821\t-1\t-1\t100\t235\r\n",
      "PGA_scaffold10__49_contigs__length_53961475\t279\t+\tCGA\t0.0030\t13\t27\t10\t17\t14\t24\t11\t7\t26\t16\t19\t13\t16\t14\t14\t4\t22\t45\t16\t27\t36\t44\t20\t25\t27\t30\t37\t22\t34\t29\t20\t5\t0.5909\t0.6000\t0.6250\t0.6296\t0.3889\t0.5455\t0.5500\t0.2800\t0.9630\t0.5333\t0.5135\t0.5909\t0.4706\t0.4828\t0.7000\t0.8000\t0.3181\t0.5976\t0.5491\t0.7727\t-2.1336\t-0.1779\t-0.0745\t-2.8831\t4.3729\t-0.2828\t-0.5705\t0.3181\t-1.0696\t-0.8452\t1.3081\t1.0955\t-0.3181\t-0.5976\t-0.5491\t-0.7727\t2.1336\t0.1779\t0.0745\t2.8831\t-4.3729\t0.2828\t0.5705\t-0.3181\t1.0696\t0.8452\t-1.3081\t-1.0955\t9\t3000\r\n",
      "PGA_scaffold10__49_contigs__length_53961475\t305\t+\tCGA\t0.0003\t42\t70\t36\t58\t38\t62\t35\t21\t65\t47\t56\t37\t40\t44\t38\t-1\t55\t101\t42\t71\t87\t100\t59\t64\t75\t76\t96\t52\t70\t74\t52\t-1\t0.7636\t0.6931\t0.8571\t0.8169\t0.4368\t0.6200\t0.5932\t0.3281\t0.8667\t0.6184\t0.5833\t0.7115\t0.5714\t0.5946\t0.7308\t-1.0000\t1.9387\t1.1348\t2.9726\t3.1887\t-4.1541\t-0.4714\t-0.7959\t-5.3913\t4.2157\t-0.4357\t-1.2460\t1.0792\t-1.2649\t-0.8725\t1.3757\t-1\t-1.9387\t-1.1348\t-2.9726\t-3.1887\t4.1541\t0.4714\t0.7959\t5.3913\t-4.2157\t0.4357\t1.2460\t-1.0792\t1.2649\t0.8725\t-1.3757\t-1\t1\t3000\r\n",
      "PGA_scaffold10__49_contigs__length_53961475\t315\t+\tCGA\t0.0003\t38\t57\t31\t53\t31\t50\t32\t19\t52\t39\t48\t31\t32\t36\t32\t14\t46\t78\t33\t59\t68\t77\t50\t53\t62\t60\t78\t41\t51\t60\t42\t18\t0.8261\t0.7308\t0.9394\t0.8983\t0.4559\t0.6494\t0.6400\t0.3585\t0.8387\t0.6500\t0.6154\t0.7561\t0.6275\t0.6000\t0.7619\t0.7778\t2.1923\t1.0218\t3.2640\t3.7331\t-4.1083\t-0.5880\t-0.6119\t-5.1609\t2.7909\t-0.5025\t-1.2655\t1.0801\t-0.8162\t-1.3622\t1.1765\t0.9051\t-2.1923\t-1.0218\t-3.2640\t-3.7331\t4.1083\t0.5880\t0.6119\t5.1609\t-2.7909\t0.5025\t1.2655\t-1.0801\t0.8162\t1.3622\t-1.1765\t-0.9051\t1\t3000\r\n",
      "PGA_scaffold10__49_contigs__length_53961475\t324\t+\tCGT\t0.0003\t49\t72\t41\t67\t39\t63\t40\t24\t65\t50\t61\t38\t40\t46\t40\t19\t58\t97\t43\t74\t85\t96\t63\t66\t78\t76\t98\t51\t62\t75\t53\t25\t0.8448\t0.7423\t0.9535\t0.9054\t0.4588\t0.6562\t0.6349\t0.3636\t0.8333\t0.6579\t0.6224\t0.7451\t0.6452\t0.6133\t0.7547\t0.7600\t2.6857\t1.2620\t3.8615\t4.2192\t-4.6845\t-0.6450\t-0.8897\t-5.8075\t2.9181\t-0.5363\t-1.4074\t0.9393\t-0.7034\t-1.3935\t1.1131\t0.8120\t-2.6857\t-1.2620\t-3.8615\t-4.2192\t4.6845\t0.6450\t0.8897\t5.8075\t-2.9181\t0.5363\t1.4074\t-0.9393\t0.7034\t1.3935\t-1.1131\t-0.8120\t1\t3000\r\n",
      "PGA_scaffold10__49_contigs__length_53961475\t332\t+\tCGA\t0.0003\t60\t87\t53\t82\t48\t77\t49\t29\t77\t62\t74\t46\t49\t56\t48\t24\t70\t116\t55\t90\t102\t116\t77\t79\t94\t93\t118\t61\t74\t90\t65\t32\t0.8571\t0.7500\t0.9636\t0.9111\t0.4706\t0.6638\t0.6364\t0.3671\t0.8191\t0.6667\t0.6271\t0.7541\t0.6622\t0.6222\t0.7385\t0.7500\t3.0836\t1.4291\t4.4635\t4.6724\t-5.0252\t-0.6747\t-1.0780\t-6.4352\t2.7805\t-0.5363\t-1.5845\t1.0846\t-0.5611\t-1.4723\t0.8415\t0.7259\t-3.0836\t-1.4291\t-4.4635\t-4.6724\t5.0252\t0.6747\t1.0780\t6.4352\t-2.7805\t0.5363\t1.5845\t-1.0846\t0.5611\t1.4723\t-0.8415\t-0.7259\t1\t3000\r\n",
      "PGA_scaffold10__49_contigs__length_53961475\t347\t+\tCGA\t0.0003\t41\t60\t50\t67\t35\t59\t46\t25\t59\t45\t53\t31\t33\t45\t32\t20\t46\t76\t54\t71\t82\t90\t74\t65\t77\t65\t92\t40\t47\t72\t46\t27\t0.8913\t0.7895\t0.9259\t0.9437\t0.4268\t0.6556\t0.6216\t0.3846\t0.7662\t0.6923\t0.5761\t0.7750\t0.7021\t0.6250\t0.6957\t0.7407\t3.0875\t2.0454\t3.9216\t4.8700\t-5.2367\t-0.6202\t-1.2098\t-5.3777\t1.6036\t0.1387\t-2.3471\t1.2555\t0.2652\t-1.1282\t0.1655\t0.6365\t-3.0875\t-2.0454\t-3.9216\t-4.8700\t5.2367\t0.6202\t1.2098\t5.3777\t-1.6036\t-0.1387\t2.3471\t-1.2555\t-0.2652\t1.1282\t-0.1655\t-0.6365\t1\t3000\r\n",
      "PGA_scaffold10__49_contigs__length_53961475\t354\t+\tCGT\t0.0003\t32\t45\t41\t53\t27\t46\t38\t20\t46\t34\t40\t23\t25\t35\t24\t15\t35\t57\t45\t56\t65\t71\t61\t52\t61\t49\t72\t30\t35\t57\t35\t21\t0.9143\t0.7895\t0.9111\t0.9464\t0.4154\t0.6479\t0.6230\t0.3846\t0.7541\t0.6939\t0.5556\t0.7667\t0.7143\t0.6140\t0.6857\t0.7143\t3.0561\t1.8642\t3.4412\t4.4536\t-4.7337\t-0.5747\t-0.9628\t-4.6883\t1.3184\t0.2408\t-2.3371\t1.0560\t0.4660\t-1.0777\t0.0960\t0.3577\t-3.0561\t-1.8642\t-3.4412\t-4.4536\t4.7337\t0.5747\t0.9628\t4.6882\t-1.3184\t-0.2408\t2.3371\t-1.0560\t-0.4660\t1.0777\t-0.0960\t-0.3577\t1\t3000\r\n"
     ]
    }
   ],
   "source": [
    "!head /Volumes/web/metacarcinus/Pgenerosa/analyses/20191024/amb_AllTimes_DMR250bp_MCmax30_cov5x_rms_results.tsv"
   ]
  },
  {
   "cell_type": "code",
   "execution_count": null,
   "metadata": {},
   "outputs": [],
   "source": [
    "#filter sites for those with coverage in 3/4 samples\n",
    "#DMRfind prints -1 if there is no coverage (in this case < 5x coverage)"
   ]
  },
  {
   "cell_type": "code",
   "execution_count": null,
   "metadata": {},
   "outputs": [],
   "source": [
    "#ended up doing this in R because I don't know enough python"
   ]
  },
  {
   "cell_type": "code",
   "execution_count": null,
   "metadata": {},
   "outputs": [],
   "source": [
    "#create bed file from results file by printing the position twice for start and stop\n",
    "#and the pvalue"
   ]
  },
  {
   "cell_type": "code",
   "execution_count": 6,
   "metadata": {},
   "outputs": [
    {
     "name": "stdout",
     "output_type": "stream",
     "text": [
      "chr\tpos\tpos\tpvalue\r\n",
      "PGA_scaffold10__49_contigs__length_53961475\t209\t209\t0.4255\r\n",
      "PGA_scaffold10__49_contigs__length_53961475\t226\t226\t0.4255\r\n",
      "PGA_scaffold10__49_contigs__length_53961475\t279\t279\t0.0030\r\n",
      "PGA_scaffold10__49_contigs__length_53961475\t305\t305\t0.0003\r\n",
      "PGA_scaffold10__49_contigs__length_53961475\t315\t315\t0.0003\r\n",
      "PGA_scaffold10__49_contigs__length_53961475\t324\t324\t0.0003\r\n",
      "PGA_scaffold10__49_contigs__length_53961475\t332\t332\t0.0003\r\n",
      "PGA_scaffold10__49_contigs__length_53961475\t347\t347\t0.0003\r\n",
      "PGA_scaffold10__49_contigs__length_53961475\t354\t354\t0.0003\r\n"
     ]
    }
   ],
   "source": [
    "!head /Volumes/web/metacarcinus/Pgenerosa/analyses/20191024/amb_AllTimes_DMR250bp_MCmax30_cov5x_rms_results.tsv | \\\n",
    "cut -f 1,2,5 | awk -F\"\\t\" '{print $1\"\\t\"$2\"\\t\"$2\"\\t\"$3}' | head"
   ]
  },
  {
   "cell_type": "code",
   "execution_count": null,
   "metadata": {},
   "outputs": [],
   "source": [
    "#print the bed format without the first line"
   ]
  },
  {
   "cell_type": "code",
   "execution_count": 7,
   "metadata": {},
   "outputs": [
    {
     "name": "stdout",
     "output_type": "stream",
     "text": [
      "PGA_scaffold10__49_contigs__length_53961475\t209\t209\t0.4255\r\n",
      "PGA_scaffold10__49_contigs__length_53961475\t226\t226\t0.4255\r\n",
      "PGA_scaffold10__49_contigs__length_53961475\t279\t279\t0.0030\r\n",
      "PGA_scaffold10__49_contigs__length_53961475\t305\t305\t0.0003\r\n",
      "PGA_scaffold10__49_contigs__length_53961475\t315\t315\t0.0003\r\n",
      "PGA_scaffold10__49_contigs__length_53961475\t324\t324\t0.0003\r\n",
      "PGA_scaffold10__49_contigs__length_53961475\t332\t332\t0.0003\r\n",
      "PGA_scaffold10__49_contigs__length_53961475\t347\t347\t0.0003\r\n",
      "PGA_scaffold10__49_contigs__length_53961475\t354\t354\t0.0003\r\n"
     ]
    }
   ],
   "source": [
    "!head /Volumes/web/metacarcinus/Pgenerosa/analyses/20191024/amb_AllTimes_DMR250bp_MCmax30_cov5x_rms_results.tsv | \\\n",
    "cut -f 1,2,5 | awk -F\"\\t\" 'NR>1{print $1\"\\t\"$2\"\\t\"$2\"\\t\"$3}' | head"
   ]
  },
  {
   "cell_type": "code",
   "execution_count": null,
   "metadata": {},
   "outputs": [],
   "source": [
    "#intersect results file with GFF"
   ]
  },
  {
   "cell_type": "code",
   "execution_count": null,
   "metadata": {},
   "outputs": [],
   "source": []
  },
  {
   "cell_type": "code",
   "execution_count": null,
   "metadata": {},
   "outputs": [],
   "source": []
  },
  {
   "cell_type": "code",
   "execution_count": null,
   "metadata": {},
   "outputs": [],
   "source": []
  }
 ],
 "metadata": {
  "kernelspec": {
   "display_name": "Python 3",
   "language": "python",
   "name": "python3"
  },
  "language_info": {
   "codemirror_mode": {
    "name": "ipython",
    "version": 3
   },
   "file_extension": ".py",
   "mimetype": "text/x-python",
   "name": "python",
   "nbconvert_exporter": "python",
   "pygments_lexer": "ipython3",
   "version": "3.6.8"
  }
 },
 "nbformat": 4,
 "nbformat_minor": 2
}
