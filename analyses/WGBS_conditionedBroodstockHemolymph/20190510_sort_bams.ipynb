{
 "cells": [
  {
   "cell_type": "code",
   "execution_count": 2,
   "metadata": {},
   "outputs": [],
   "source": [
    "## sort bams"
   ]
  },
  {
   "cell_type": "code",
   "execution_count": 8,
   "metadata": {},
   "outputs": [
    {
     "name": "stdout",
     "output_type": "stream",
     "text": [
      "/Volumes/web/metacarcinus/Pgenerosa/analyses/20190415_10K/Tank2-025-026_R1_001_bismark_bt2_pe.deduplicated.bam\r\n",
      "/Volumes/web/metacarcinus/Pgenerosa/analyses/20190415_10K/Tank3-15-16_R1_001_bismark_bt2_pe.deduplicated.bam\r\n"
     ]
    }
   ],
   "source": [
    "!find /Volumes/web/metacarcinus/Pgenerosa/analyses/20190415_10K/*6_R1_001_bismark_bt2_pe.deduplicated.bam"
   ]
  },
  {
   "cell_type": "code",
   "execution_count": null,
   "metadata": {},
   "outputs": [],
   "source": []
  },
  {
   "cell_type": "code",
   "execution_count": 11,
   "metadata": {},
   "outputs": [
    {
     "name": "stdout",
     "output_type": "stream",
     "text": [
      "[bam_sort_core] merging from 60 files and 1 in-memory blocks...\n",
      "[bam_sort_core] merging from 45 files and 1 in-memory blocks...\n"
     ]
    }
   ],
   "source": [
    "!find /Volumes/web/metacarcinus/Pgenerosa/analyses/20190415_10K/*6_R1_001_bismark_bt2_pe.deduplicated.bam| \\\n",
    "xargs basename -s _R1_001_bismark_bt2_pe.deduplicated.bam | xargs -I{} samtools \\\n",
    "sort /Volumes/web/metacarcinus/Pgenerosa/analyses/20190415_10K/{}_R1_001_bismark_bt2_pe.deduplicated.bam \\\n",
    "-o /Volumes/web/metacarcinus/Pgenerosa/analyses/20190415_10K/{}_dedup.sorted.bam"
   ]
  }
 ],
 "metadata": {
  "kernelspec": {
   "display_name": "Python 3",
   "language": "python",
   "name": "python3"
  },
  "language_info": {
   "codemirror_mode": {
    "name": "ipython",
    "version": 3
   },
   "file_extension": ".py",
   "mimetype": "text/x-python",
   "name": "python",
   "nbconvert_exporter": "python",
   "pygments_lexer": "ipython3",
   "version": "3.6.6"
  }
 },
 "nbformat": 4,
 "nbformat_minor": 2
}
