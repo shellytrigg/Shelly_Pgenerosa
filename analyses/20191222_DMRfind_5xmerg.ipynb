{
 "cells": [
  {
   "cell_type": "code",
   "execution_count": 1,
   "metadata": {},
   "outputs": [
    {
     "name": "stdout",
     "output_type": "stream",
     "text": [
      "/Users/strigg/Documents/GitHub/Shelly_Pgenerosa/analyses\r\n"
     ]
    }
   ],
   "source": [
    "!pwd"
   ]
  },
  {
   "cell_type": "code",
   "execution_count": 2,
   "metadata": {},
   "outputs": [],
   "source": [
    "!mkdir 20191222"
   ]
  },
  {
   "cell_type": "code",
   "execution_count": 3,
   "metadata": {},
   "outputs": [
    {
     "name": "stdout",
     "output_type": "stream",
     "text": [
      "/Users/strigg/Documents/GitHub/Shelly_Pgenerosa/analyses/20191222\n"
     ]
    }
   ],
   "source": [
    "cd 20191222/"
   ]
  },
  {
   "cell_type": "code",
   "execution_count": null,
   "metadata": {},
   "outputs": [],
   "source": [
    "# convert 5x.tab files to allc format:\n",
    "1. Scaffold\n",
    "2. Position (subtract 1 from the end position to get same position as allc and cov files)\n",
    "3. strand\n",
    "4. context\n",
    "5. number mC\n",
    "6. total C (numer of mC ($5) + numer of unmC ($6))"
   ]
  },
  {
   "cell_type": "code",
   "execution_count": 4,
   "metadata": {},
   "outputs": [],
   "source": [
    "%%bash\n",
    "for f in ../20191220_DMRfind_5xmerg/merged_tab/*_5x.tab\n",
    "do\n",
    "awk -F\"\\t\" '{print $1\"\\t\"$3-1\"\\t\"\"+\"\"\\t\"\"CGA\"\"\\t\"$5\"\\t\"$5+$6\"\\t\"1}' ${f} \\\n",
    "> $(basename ${f} _5x.tab)_5xmerg_allc.tsv\n",
    "done"
   ]
  },
  {
   "cell_type": "code",
   "execution_count": null,
   "metadata": {},
   "outputs": [],
   "source": []
  },
  {
   "cell_type": "code",
   "execution_count": 5,
   "metadata": {},
   "outputs": [
    {
     "name": "stdout",
     "output_type": "stream",
     "text": [
      "EPI-103_S27_L005_5xmerg_allc.tsv EPI-181_S16_L003_5xmerg_allc.tsv\r\n",
      "EPI-104_S28_L005_5xmerg_allc.tsv EPI-182_S17_L003_5xmerg_allc.tsv\r\n",
      "EPI-111_S29_L005_5xmerg_allc.tsv EPI-184_S18_L003_5xmerg_allc.tsv\r\n",
      "EPI-113_S30_L005_5xmerg_allc.tsv EPI-185_S19_L003_5xmerg_allc.tsv\r\n",
      "EPI-119_S31_L005_5xmerg_allc.tsv EPI-187_S20_L003_5xmerg_allc.tsv\r\n",
      "EPI-120_S32_L005_5xmerg_allc.tsv EPI-188_S21_L003_5xmerg_allc.tsv\r\n",
      "EPI-127_S33_L005_5xmerg_allc.tsv EPI-193_S22_L003_5xmerg_allc.tsv\r\n",
      "EPI-128_S34_L005_5xmerg_allc.tsv EPI-194_S23_L003_5xmerg_allc.tsv\r\n",
      "EPI-135_S35_L005_5xmerg_allc.tsv EPI-199_S24_L003_5xmerg_allc.tsv\r\n",
      "EPI-136_S36_L005_5xmerg_allc.tsv EPI-200_S25_L003_5xmerg_allc.tsv\r\n",
      "EPI-143_S37_L005_5xmerg_allc.tsv EPI-205_S26_L004_5xmerg_allc.tsv\r\n",
      "EPI-145_S38_L005_5xmerg_allc.tsv EPI-206_S27_L004_5xmerg_allc.tsv\r\n",
      "EPI-151_S2_L002_5xmerg_allc.tsv  EPI-208_S28_L004_5xmerg_allc.tsv\r\n",
      "EPI-152_S3_L002_5xmerg_allc.tsv  EPI-209_S29_L004_5xmerg_allc.tsv\r\n",
      "EPI-153_S4_L002_5xmerg_allc.tsv  EPI-214_S30_L004_5xmerg_allc.tsv\r\n",
      "EPI-154_S5_L002_5xmerg_allc.tsv  EPI-215_S31_L004_5xmerg_allc.tsv\r\n",
      "EPI-159_S6_L002_5xmerg_allc.tsv  EPI-220_S32_L004_5xmerg_allc.tsv\r\n",
      "EPI-160_S7_L002_5xmerg_allc.tsv  EPI-221_S33_L004_5xmerg_allc.tsv\r\n",
      "EPI-161_S8_L002_5xmerg_allc.tsv  EPI-226_S34_L004_5xmerg_allc.tsv\r\n",
      "EPI-162_S9_L002_5xmerg_allc.tsv  EPI-227_S35_L004_5xmerg_allc.tsv\r\n",
      "EPI-167_S10_L002_5xmerg_allc.tsv EPI-229_S36_L004_5xmerg_allc.tsv\r\n",
      "EPI-168_S11_L002_5xmerg_allc.tsv EPI-230_S37_L004_5xmerg_allc.tsv\r\n",
      "EPI-169_S12_L002_5xmerg_allc.tsv EPI-41_S38_L005_5xmerg_allc.tsv\r\n",
      "EPI-170_S13_L002_5xmerg_allc.tsv EPI-42_S39_L005_5xmerg_allc.tsv\r\n",
      "EPI-175_S14_L003_5xmerg_allc.tsv EPI-43_S40_L005_5xmerg_allc.tsv\r\n",
      "EPI-176_S15_L003_5xmerg_allc.tsv EPI-44_S41_L005_5xmerg_allc.tsv\r\n"
     ]
    }
   ],
   "source": [
    "!ls"
   ]
  },
  {
   "cell_type": "code",
   "execution_count": null,
   "metadata": {},
   "outputs": [],
   "source": [
    "#check if the number mC column is ever greater than the total C column (which it shouldn't be)"
   ]
  },
  {
   "cell_type": "code",
   "execution_count": 6,
   "metadata": {},
   "outputs": [],
   "source": [
    "!cat *.tsv |awk -F \"\\t\" '{if($5>$6)print $0}'| head"
   ]
  },
  {
   "cell_type": "code",
   "execution_count": null,
   "metadata": {},
   "outputs": [],
   "source": [
    "#passed the test, now run DMRfind on one comparison"
   ]
  },
  {
   "cell_type": "code",
   "execution_count": 7,
   "metadata": {},
   "outputs": [
    {
     "name": "stdout",
     "output_type": "stream",
     "text": [
      "Filtering allc files using 8 node(s).\n",
      "Sun Dec 22 13:35:19 2019\n",
      "\n",
      "Splitting allc files for chromosome Scaffold_01\n",
      "Sun Dec 22 13:36:16 2019\n",
      "\n",
      "Running rms tests for chromosome Scaffold_01\n",
      "Sun Dec 22 13:36:23 2019\n",
      "\n",
      "Splitting allc files for chromosome Scaffold_02\n",
      "Sun Dec 22 13:36:23 2019\n",
      "\n",
      "Ran 31488 root mean square tests. Results in day10_AllpH_DMR250bp_MCmax25_cov5x_rms_results_for_Scaffold_01_chunk_3.tsv\n",
      "Ran 31860 root mean square tests. Results in day10_AllpH_DMR250bp_MCmax25_cov5x_rms_results_for_Scaffold_01_chunk_5.tsv\n",
      "Running rms tests for chromosome Scaffold_02\n",
      "Sun Dec 22 13:41:50 2019\n",
      "\n",
      "Splitting allc files for chromosome Scaffold_03\n",
      "Sun Dec 22 13:41:50 2019\n",
      "\n",
      "Ran 32190 root mean square tests. Results in day10_AllpH_DMR250bp_MCmax25_cov5x_rms_results_for_Scaffold_01_chunk_0.tsv\n",
      "Ran 30202 root mean square tests. Results in day10_AllpH_DMR250bp_MCmax25_cov5x_rms_results_for_Scaffold_01_chunk_7.tsv\n",
      "Ran 32138 root mean square tests. Results in day10_AllpH_DMR250bp_MCmax25_cov5x_rms_results_for_Scaffold_01_chunk_6.tsv\n",
      "Ran 31948 root mean square tests. Results in day10_AllpH_DMR250bp_MCmax25_cov5x_rms_results_for_Scaffold_01_chunk_4.tsv\n",
      "Ran 30326 root mean square tests. Results in day10_AllpH_DMR250bp_MCmax25_cov5x_rms_results_for_Scaffold_01_chunk_1.tsv\n",
      "Ran 31293 root mean square tests. Results in day10_AllpH_DMR250bp_MCmax25_cov5x_rms_results_for_Scaffold_01_chunk_2.tsv\n",
      "Ran 21689 root mean square tests. Results in day10_AllpH_DMR250bp_MCmax25_cov5x_rms_results_for_Scaffold_02_chunk_2.tsv\n",
      "Running rms tests for chromosome Scaffold_03\n",
      "Sun Dec 22 13:46:21 2019\n",
      "\n",
      "Splitting allc files for chromosome Scaffold_04\n",
      "Sun Dec 22 13:46:21 2019\n",
      "\n",
      "Ran 22966 root mean square tests. Results in day10_AllpH_DMR250bp_MCmax25_cov5x_rms_results_for_Scaffold_02_chunk_0.tsv\n",
      "Ran 23643 root mean square tests. Results in day10_AllpH_DMR250bp_MCmax25_cov5x_rms_results_for_Scaffold_02_chunk_4.tsv\n",
      "Ran 26185 root mean square tests. Results in day10_AllpH_DMR250bp_MCmax25_cov5x_rms_results_for_Scaffold_02_chunk_3.tsv\n",
      "Ran 24438 root mean square tests. Results in day10_AllpH_DMR250bp_MCmax25_cov5x_rms_results_for_Scaffold_02_chunk_6.tsv\n",
      "Ran 23702 root mean square tests. Results in day10_AllpH_DMR250bp_MCmax25_cov5x_rms_results_for_Scaffold_02_chunk_5.tsv\n",
      "Ran 22839 root mean square tests. Results in day10_AllpH_DMR250bp_MCmax25_cov5x_rms_results_for_Scaffold_02_chunk_7.tsv\n",
      "Ran 23172 root mean square tests. Results in day10_AllpH_DMR250bp_MCmax25_cov5x_rms_results_for_Scaffold_02_chunk_1.tsv\n",
      "Ran 20087 root mean square tests. Results in day10_AllpH_DMR250bp_MCmax25_cov5x_rms_results_for_Scaffold_03_chunk_0.tsv\n",
      "Ran 20045 root mean square tests. Results in day10_AllpH_DMR250bp_MCmax25_cov5x_rms_results_for_Scaffold_03_chunk_1.tsv\n",
      "Running rms tests for chromosome Scaffold_04\n",
      "Sun Dec 22 13:50:14 2019\n",
      "\n",
      "Splitting allc files for chromosome Scaffold_05\n",
      "Sun Dec 22 13:50:14 2019\n",
      "\n",
      "Ran 19412 root mean square tests. Results in day10_AllpH_DMR250bp_MCmax25_cov5x_rms_results_for_Scaffold_03_chunk_2.tsv\n",
      "Ran 18597 root mean square tests. Results in day10_AllpH_DMR250bp_MCmax25_cov5x_rms_results_for_Scaffold_03_chunk_6.tsv\n",
      "Ran 18558 root mean square tests. Results in day10_AllpH_DMR250bp_MCmax25_cov5x_rms_results_for_Scaffold_03_chunk_3.tsv\n",
      "Ran 18738 root mean square tests. Results in day10_AllpH_DMR250bp_MCmax25_cov5x_rms_results_for_Scaffold_03_chunk_4.tsv\n",
      "Ran 19143 root mean square tests. Results in day10_AllpH_DMR250bp_MCmax25_cov5x_rms_results_for_Scaffold_03_chunk_5.tsv\n",
      "Ran 19251 root mean square tests. Results in day10_AllpH_DMR250bp_MCmax25_cov5x_rms_results_for_Scaffold_03_chunk_7.tsv\n",
      "Ran 21566 root mean square tests. Results in day10_AllpH_DMR250bp_MCmax25_cov5x_rms_results_for_Scaffold_04_chunk_0.tsv\n",
      "Ran 20911 root mean square tests. Results in day10_AllpH_DMR250bp_MCmax25_cov5x_rms_results_for_Scaffold_04_chunk_4.tsv\n",
      "Running rms tests for chromosome Scaffold_05\n",
      "Sun Dec 22 13:54:36 2019\n",
      "\n",
      "Splitting allc files for chromosome Scaffold_06\n",
      "Sun Dec 22 13:54:36 2019\n",
      "\n",
      "Ran 19917 root mean square tests. Results in day10_AllpH_DMR250bp_MCmax25_cov5x_rms_results_for_Scaffold_04_chunk_2.tsv\n",
      "Ran 21350 root mean square tests. Results in day10_AllpH_DMR250bp_MCmax25_cov5x_rms_results_for_Scaffold_04_chunk_1.tsv\n",
      "Ran 20938 root mean square tests. Results in day10_AllpH_DMR250bp_MCmax25_cov5x_rms_results_for_Scaffold_04_chunk_3.tsv\n",
      "Ran 20355 root mean square tests. Results in day10_AllpH_DMR250bp_MCmax25_cov5x_rms_results_for_Scaffold_04_chunk_5.tsv\n",
      "Ran 20619 root mean square tests. Results in day10_AllpH_DMR250bp_MCmax25_cov5x_rms_results_for_Scaffold_04_chunk_7.tsv\n",
      "Ran 18451 root mean square tests. Results in day10_AllpH_DMR250bp_MCmax25_cov5x_rms_results_for_Scaffold_05_chunk_3.tsv\n",
      "Ran 18140 root mean square tests. Results in day10_AllpH_DMR250bp_MCmax25_cov5x_rms_results_for_Scaffold_05_chunk_2.tsv\n",
      "Ran 16571 root mean square tests. Results in day10_AllpH_DMR250bp_MCmax25_cov5x_rms_results_for_Scaffold_05_chunk_0.tsv\n",
      "Ran 18667 root mean square tests. Results in day10_AllpH_DMR250bp_MCmax25_cov5x_rms_results_for_Scaffold_05_chunk_1.tsv\n",
      "Running rms tests for chromosome Scaffold_06\n",
      "Sun Dec 22 13:58:17 2019\n",
      "\n",
      "Splitting allc files for chromosome Scaffold_07\n",
      "Sun Dec 22 13:58:17 2019\n",
      "\n",
      "Ran 19804 root mean square tests. Results in day10_AllpH_DMR250bp_MCmax25_cov5x_rms_results_for_Scaffold_04_chunk_6.tsv\n",
      "Ran 19576 root mean square tests. Results in day10_AllpH_DMR250bp_MCmax25_cov5x_rms_results_for_Scaffold_05_chunk_5.tsv\n",
      "Ran 18928 root mean square tests. Results in day10_AllpH_DMR250bp_MCmax25_cov5x_rms_results_for_Scaffold_05_chunk_4.tsv\n",
      "Ran 19616 root mean square tests. Results in day10_AllpH_DMR250bp_MCmax25_cov5x_rms_results_for_Scaffold_05_chunk_6.tsv\n",
      "Ran 18854 root mean square tests. Results in day10_AllpH_DMR250bp_MCmax25_cov5x_rms_results_for_Scaffold_05_chunk_7.tsv\n",
      "Ran 18352 root mean square tests. Results in day10_AllpH_DMR250bp_MCmax25_cov5x_rms_results_for_Scaffold_06_chunk_2.tsv\n",
      "Running rms tests for chromosome Scaffold_07\n",
      "Sun Dec 22 14:01:51 2019\n",
      "\n",
      "Splitting allc files for chromosome Scaffold_08\n",
      "Sun Dec 22 14:01:51 2019\n",
      "\n",
      "Ran 19224 root mean square tests. Results in day10_AllpH_DMR250bp_MCmax25_cov5x_rms_results_for_Scaffold_06_chunk_3.tsv\n",
      "Ran 19158 root mean square tests. Results in day10_AllpH_DMR250bp_MCmax25_cov5x_rms_results_for_Scaffold_06_chunk_0.tsv\n",
      "Ran 18131 root mean square tests. Results in day10_AllpH_DMR250bp_MCmax25_cov5x_rms_results_for_Scaffold_06_chunk_4.tsv\n",
      "Ran 17715 root mean square tests. Results in day10_AllpH_DMR250bp_MCmax25_cov5x_rms_results_for_Scaffold_06_chunk_5.tsv\n",
      "Ran 19483 root mean square tests. Results in day10_AllpH_DMR250bp_MCmax25_cov5x_rms_results_for_Scaffold_06_chunk_1.tsv\n",
      "Ran 18186 root mean square tests. Results in day10_AllpH_DMR250bp_MCmax25_cov5x_rms_results_for_Scaffold_06_chunk_6.tsv\n",
      "Ran 13737 root mean square tests. Results in day10_AllpH_DMR250bp_MCmax25_cov5x_rms_results_for_Scaffold_07_chunk_3.tsv\n",
      "Ran 12428 root mean square tests. Results in day10_AllpH_DMR250bp_MCmax25_cov5x_rms_results_for_Scaffold_07_chunk_2.tsv\n",
      "Ran 15261 root mean square tests. Results in day10_AllpH_DMR250bp_MCmax25_cov5x_rms_results_for_Scaffold_07_chunk_0.tsv\n",
      "Running rms tests for chromosome Scaffold_08\n",
      "Sun Dec 22 14:04:38 2019\n",
      "\n",
      "Splitting allc files for chromosome Scaffold_09\n",
      "Sun Dec 22 14:04:38 2019\n",
      "\n",
      "Ran 15103 root mean square tests. Results in day10_AllpH_DMR250bp_MCmax25_cov5x_rms_results_for_Scaffold_07_chunk_1.tsv\n",
      "Ran 13790 root mean square tests. Results in day10_AllpH_DMR250bp_MCmax25_cov5x_rms_results_for_Scaffold_07_chunk_4.tsv\n",
      "Ran 18978 root mean square tests. Results in day10_AllpH_DMR250bp_MCmax25_cov5x_rms_results_for_Scaffold_06_chunk_7.tsv\n",
      "Ran 13584 root mean square tests. Results in day10_AllpH_DMR250bp_MCmax25_cov5x_rms_results_for_Scaffold_07_chunk_5.tsv\n",
      "Ran 12527 root mean square tests. Results in day10_AllpH_DMR250bp_MCmax25_cov5x_rms_results_for_Scaffold_07_chunk_7.tsv\n",
      "Ran 15619 root mean square tests. Results in day10_AllpH_DMR250bp_MCmax25_cov5x_rms_results_for_Scaffold_07_chunk_6.tsv\n",
      "Ran 18585 root mean square tests. Results in day10_AllpH_DMR250bp_MCmax25_cov5x_rms_results_for_Scaffold_08_chunk_2.tsv\n",
      "Running rms tests for chromosome Scaffold_09\n",
      "Sun Dec 22 14:08:09 2019\n",
      "\n",
      "Splitting allc files for chromosome Scaffold_10\n",
      "Sun Dec 22 14:08:09 2019\n",
      "\n",
      "Ran 19307 root mean square tests. Results in day10_AllpH_DMR250bp_MCmax25_cov5x_rms_results_for_Scaffold_08_chunk_1.tsv\n",
      "Ran 18943 root mean square tests. Results in day10_AllpH_DMR250bp_MCmax25_cov5x_rms_results_for_Scaffold_08_chunk_4.tsv\n",
      "Ran 21465 root mean square tests. Results in day10_AllpH_DMR250bp_MCmax25_cov5x_rms_results_for_Scaffold_08_chunk_0.tsv\n",
      "Ran 19521 root mean square tests. Results in day10_AllpH_DMR250bp_MCmax25_cov5x_rms_results_for_Scaffold_08_chunk_3.tsv\n",
      "Ran 20535 root mean square tests. Results in day10_AllpH_DMR250bp_MCmax25_cov5x_rms_results_for_Scaffold_08_chunk_5.tsv\n",
      "Ran 18501 root mean square tests. Results in day10_AllpH_DMR250bp_MCmax25_cov5x_rms_results_for_Scaffold_08_chunk_6.tsv\n",
      "Ran 20322 root mean square tests. Results in day10_AllpH_DMR250bp_MCmax25_cov5x_rms_results_for_Scaffold_08_chunk_7.tsv\n",
      "Ran 12854 root mean square tests. Results in day10_AllpH_DMR250bp_MCmax25_cov5x_rms_results_for_Scaffold_09_chunk_4.tsv\n",
      "Ran 11787 root mean square tests. Results in day10_AllpH_DMR250bp_MCmax25_cov5x_rms_results_for_Scaffold_09_chunk_0.tsv\n",
      "Running rms tests for chromosome Scaffold_10\n",
      "Sun Dec 22 14:11:09 2019\n",
      "\n",
      "Splitting allc files for chromosome Scaffold_11\n",
      "Sun Dec 22 14:11:09 2019\n",
      "\n",
      "Ran 11003 root mean square tests. Results in day10_AllpH_DMR250bp_MCmax25_cov5x_rms_results_for_Scaffold_09_chunk_2.tsv\n",
      "Ran 13874 root mean square tests. Results in day10_AllpH_DMR250bp_MCmax25_cov5x_rms_results_for_Scaffold_09_chunk_3.tsv\n",
      "Ran 12048 root mean square tests. Results in day10_AllpH_DMR250bp_MCmax25_cov5x_rms_results_for_Scaffold_09_chunk_5.tsv\n",
      "Ran 12370 root mean square tests. Results in day10_AllpH_DMR250bp_MCmax25_cov5x_rms_results_for_Scaffold_09_chunk_6.tsv\n",
      "Ran 11577 root mean square tests. Results in day10_AllpH_DMR250bp_MCmax25_cov5x_rms_results_for_Scaffold_09_chunk_7.tsv\n",
      "Ran 16723 root mean square tests. Results in day10_AllpH_DMR250bp_MCmax25_cov5x_rms_results_for_Scaffold_10_chunk_0.tsv\n",
      "Ran 16103 root mean square tests. Results in day10_AllpH_DMR250bp_MCmax25_cov5x_rms_results_for_Scaffold_10_chunk_3.tsv\n",
      "Ran 16116 root mean square tests. Results in day10_AllpH_DMR250bp_MCmax25_cov5x_rms_results_for_Scaffold_10_chunk_2.tsv\n",
      "Ran 16154 root mean square tests. Results in day10_AllpH_DMR250bp_MCmax25_cov5x_rms_results_for_Scaffold_10_chunk_1.tsv\n",
      "Running rms tests for chromosome Scaffold_11\n",
      "Sun Dec 22 14:14:30 2019\n",
      "\n",
      "Splitting allc files for chromosome Scaffold_12\n",
      "Sun Dec 22 14:14:30 2019\n",
      "\n",
      "Ran 17298 root mean square tests. Results in day10_AllpH_DMR250bp_MCmax25_cov5x_rms_results_for_Scaffold_10_chunk_5.tsv\n",
      "Ran 18092 root mean square tests. Results in day10_AllpH_DMR250bp_MCmax25_cov5x_rms_results_for_Scaffold_10_chunk_4.tsv\n",
      "Ran 11810 root mean square tests. Results in day10_AllpH_DMR250bp_MCmax25_cov5x_rms_results_for_Scaffold_09_chunk_1.tsv\n",
      "Ran 16930 root mean square tests. Results in day10_AllpH_DMR250bp_MCmax25_cov5x_rms_results_for_Scaffold_10_chunk_7.tsv\n",
      "Ran 14538 root mean square tests. Results in day10_AllpH_DMR250bp_MCmax25_cov5x_rms_results_for_Scaffold_11_chunk_2.tsv\n",
      "Ran 18251 root mean square tests. Results in day10_AllpH_DMR250bp_MCmax25_cov5x_rms_results_for_Scaffold_10_chunk_6.tsv\n",
      "Ran 13706 root mean square tests. Results in day10_AllpH_DMR250bp_MCmax25_cov5x_rms_results_for_Scaffold_11_chunk_1.tsv\n",
      "Running rms tests for chromosome Scaffold_12\n",
      "Sun Dec 22 14:17:25 2019\n",
      "\n",
      "Splitting allc files for chromosome Scaffold_13\n",
      "Sun Dec 22 14:17:25 2019\n",
      "\n",
      "Ran 17194 root mean square tests. Results in day10_AllpH_DMR250bp_MCmax25_cov5x_rms_results_for_Scaffold_11_chunk_0.tsv\n",
      "Ran 14418 root mean square tests. Results in day10_AllpH_DMR250bp_MCmax25_cov5x_rms_results_for_Scaffold_11_chunk_3.tsv\n",
      "Ran 15518 root mean square tests. Results in day10_AllpH_DMR250bp_MCmax25_cov5x_rms_results_for_Scaffold_11_chunk_5.tsv\n",
      "Ran 15084 root mean square tests. Results in day10_AllpH_DMR250bp_MCmax25_cov5x_rms_results_for_Scaffold_11_chunk_6.tsv\n",
      "Ran 14623 root mean square tests. Results in day10_AllpH_DMR250bp_MCmax25_cov5x_rms_results_for_Scaffold_11_chunk_7.tsv\n",
      "Ran 14192 root mean square tests. Results in day10_AllpH_DMR250bp_MCmax25_cov5x_rms_results_for_Scaffold_12_chunk_2.tsv\n",
      "Ran 14453 root mean square tests. Results in day10_AllpH_DMR250bp_MCmax25_cov5x_rms_results_for_Scaffold_11_chunk_4.tsv\n",
      "Running rms tests for chromosome Scaffold_13\n",
      "Sun Dec 22 14:20:30 2019\n",
      "\n",
      "Splitting allc files for chromosome Scaffold_14\n",
      "Sun Dec 22 14:20:30 2019\n",
      "\n",
      "Ran 17672 root mean square tests. Results in day10_AllpH_DMR250bp_MCmax25_cov5x_rms_results_for_Scaffold_12_chunk_1.tsv\n",
      "Ran 17380 root mean square tests. Results in day10_AllpH_DMR250bp_MCmax25_cov5x_rms_results_for_Scaffold_12_chunk_0.tsv\n",
      "Ran 15398 root mean square tests. Results in day10_AllpH_DMR250bp_MCmax25_cov5x_rms_results_for_Scaffold_12_chunk_3.tsv\n",
      "Ran 18227 root mean square tests. Results in day10_AllpH_DMR250bp_MCmax25_cov5x_rms_results_for_Scaffold_12_chunk_4.tsv\n",
      "Ran 17632 root mean square tests. Results in day10_AllpH_DMR250bp_MCmax25_cov5x_rms_results_for_Scaffold_12_chunk_6.tsv\n",
      "Ran 13924 root mean square tests. Results in day10_AllpH_DMR250bp_MCmax25_cov5x_rms_results_for_Scaffold_13_chunk_0.tsv\n",
      "Ran 13220 root mean square tests. Results in day10_AllpH_DMR250bp_MCmax25_cov5x_rms_results_for_Scaffold_13_chunk_1.tsv\n",
      "Ran 16412 root mean square tests. Results in day10_AllpH_DMR250bp_MCmax25_cov5x_rms_results_for_Scaffold_12_chunk_5.tsv\n",
      "Ran 18152 root mean square tests. Results in day10_AllpH_DMR250bp_MCmax25_cov5x_rms_results_for_Scaffold_12_chunk_7.tsv\n",
      "Running rms tests for chromosome Scaffold_14\n",
      "Sun Dec 22 14:23:20 2019\n",
      "\n",
      "Splitting allc files for chromosome Scaffold_15\n",
      "Sun Dec 22 14:23:20 2019\n",
      "\n",
      "Ran 13239 root mean square tests. Results in day10_AllpH_DMR250bp_MCmax25_cov5x_rms_results_for_Scaffold_13_chunk_2.tsv\n",
      "Ran 14041 root mean square tests. Results in day10_AllpH_DMR250bp_MCmax25_cov5x_rms_results_for_Scaffold_13_chunk_3.tsv\n",
      "Ran 15930 root mean square tests. Results in day10_AllpH_DMR250bp_MCmax25_cov5x_rms_results_for_Scaffold_13_chunk_4.tsv\n",
      "Ran 13328 root mean square tests. Results in day10_AllpH_DMR250bp_MCmax25_cov5x_rms_results_for_Scaffold_13_chunk_6.tsv\n",
      "Ran 13234 root mean square tests. Results in day10_AllpH_DMR250bp_MCmax25_cov5x_rms_results_for_Scaffold_13_chunk_7.tsv\n",
      "Ran 14653 root mean square tests. Results in day10_AllpH_DMR250bp_MCmax25_cov5x_rms_results_for_Scaffold_13_chunk_5.tsv\n",
      "Ran 17554 root mean square tests. Results in day10_AllpH_DMR250bp_MCmax25_cov5x_rms_results_for_Scaffold_14_chunk_2.tsv\n",
      "Ran 17370 root mean square tests. Results in day10_AllpH_DMR250bp_MCmax25_cov5x_rms_results_for_Scaffold_14_chunk_3.tsv\n",
      "Ran 18303 root mean square tests. Results in day10_AllpH_DMR250bp_MCmax25_cov5x_rms_results_for_Scaffold_14_chunk_0.tsv\n",
      "Running rms tests for chromosome Scaffold_15\n",
      "Sun Dec 22 14:27:41 2019\n",
      "\n",
      "Splitting allc files for chromosome Scaffold_16\n",
      "Sun Dec 22 14:27:41 2019\n",
      "\n",
      "Ran 19508 root mean square tests. Results in day10_AllpH_DMR250bp_MCmax25_cov5x_rms_results_for_Scaffold_14_chunk_4.tsv\n",
      "Ran 18596 root mean square tests. Results in day10_AllpH_DMR250bp_MCmax25_cov5x_rms_results_for_Scaffold_14_chunk_5.tsv\n",
      "Ran 20093 root mean square tests. Results in day10_AllpH_DMR250bp_MCmax25_cov5x_rms_results_for_Scaffold_14_chunk_6.tsv\n",
      "Ran 11950 root mean square tests. Results in day10_AllpH_DMR250bp_MCmax25_cov5x_rms_results_for_Scaffold_15_chunk_2.tsv\n",
      "Ran 19447 root mean square tests. Results in day10_AllpH_DMR250bp_MCmax25_cov5x_rms_results_for_Scaffold_14_chunk_7.tsv\n",
      "Ran 12774 root mean square tests. Results in day10_AllpH_DMR250bp_MCmax25_cov5x_rms_results_for_Scaffold_15_chunk_0.tsv\n",
      "Ran 14308 root mean square tests. Results in day10_AllpH_DMR250bp_MCmax25_cov5x_rms_results_for_Scaffold_15_chunk_1.tsv\n",
      "Running rms tests for chromosome Scaffold_16\n",
      "Sun Dec 22 14:30:31 2019\n",
      "\n",
      "Splitting allc files for chromosome Scaffold_17\n",
      "Sun Dec 22 14:30:31 2019\n",
      "\n",
      "Ran 13141 root mean square tests. Results in day10_AllpH_DMR250bp_MCmax25_cov5x_rms_results_for_Scaffold_15_chunk_3.tsv\n",
      "Ran 18801 root mean square tests. Results in day10_AllpH_DMR250bp_MCmax25_cov5x_rms_results_for_Scaffold_14_chunk_1.tsv\n",
      "Ran 13037 root mean square tests. Results in day10_AllpH_DMR250bp_MCmax25_cov5x_rms_results_for_Scaffold_15_chunk_4.tsv\n",
      "Ran 13716 root mean square tests. Results in day10_AllpH_DMR250bp_MCmax25_cov5x_rms_results_for_Scaffold_15_chunk_5.tsv\n",
      "Ran 12810 root mean square tests. Results in day10_AllpH_DMR250bp_MCmax25_cov5x_rms_results_for_Scaffold_15_chunk_6.tsv\n",
      "Ran 13389 root mean square tests. Results in day10_AllpH_DMR250bp_MCmax25_cov5x_rms_results_for_Scaffold_15_chunk_7.tsv\n",
      "Ran 10006 root mean square tests. Results in day10_AllpH_DMR250bp_MCmax25_cov5x_rms_results_for_Scaffold_16_chunk_3.tsv\n",
      "Ran 8831 root mean square tests. Results in day10_AllpH_DMR250bp_MCmax25_cov5x_rms_results_for_Scaffold_16_chunk_1.tsv\n",
      "Ran 10799 root mean square tests. Results in day10_AllpH_DMR250bp_MCmax25_cov5x_rms_results_for_Scaffold_16_chunk_2.tsv\n",
      "Running rms tests for chromosome Scaffold_17\n",
      "Sun Dec 22 14:33:10 2019\n",
      "\n",
      "Splitting allc files for chromosome Scaffold_18\n",
      "Sun Dec 22 14:33:10 2019\n",
      "\n",
      "Ran 11522 root mean square tests. Results in day10_AllpH_DMR250bp_MCmax25_cov5x_rms_results_for_Scaffold_16_chunk_4.tsv\n",
      "Ran 10426 root mean square tests. Results in day10_AllpH_DMR250bp_MCmax25_cov5x_rms_results_for_Scaffold_16_chunk_5.tsv\n",
      "Ran 9768 root mean square tests. Results in day10_AllpH_DMR250bp_MCmax25_cov5x_rms_results_for_Scaffold_16_chunk_6.tsv\n",
      "Ran 9697 root mean square tests. Results in day10_AllpH_DMR250bp_MCmax25_cov5x_rms_results_for_Scaffold_16_chunk_7.tsv\n",
      "Ran 11603 root mean square tests. Results in day10_AllpH_DMR250bp_MCmax25_cov5x_rms_results_for_Scaffold_16_chunk_0.tsv\n",
      "Ran 11562 root mean square tests. Results in day10_AllpH_DMR250bp_MCmax25_cov5x_rms_results_for_Scaffold_17_chunk_0.tsv\n",
      "Running rms tests for chromosome Scaffold_18\n",
      "Sun Dec 22 14:35:26 2019\n",
      "\n",
      "Ran 12391 root mean square tests. Results in day10_AllpH_DMR250bp_MCmax25_cov5x_rms_results_for_Scaffold_17_chunk_2.tsv\n",
      "Ran 12551 root mean square tests. Results in day10_AllpH_DMR250bp_MCmax25_cov5x_rms_results_for_Scaffold_17_chunk_1.tsv\n",
      "Ran 13681 root mean square tests. Results in day10_AllpH_DMR250bp_MCmax25_cov5x_rms_results_for_Scaffold_17_chunk_3.tsv\n",
      "Ran 10926 root mean square tests. Results in day10_AllpH_DMR250bp_MCmax25_cov5x_rms_results_for_Scaffold_17_chunk_4.tsv\n",
      "Ran 11215 root mean square tests. Results in day10_AllpH_DMR250bp_MCmax25_cov5x_rms_results_for_Scaffold_17_chunk_5.tsv\n",
      "Ran 8912 root mean square tests. Results in day10_AllpH_DMR250bp_MCmax25_cov5x_rms_results_for_Scaffold_18_chunk_0.tsv\n",
      "Ran 12156 root mean square tests. Results in day10_AllpH_DMR250bp_MCmax25_cov5x_rms_results_for_Scaffold_17_chunk_6.tsv\n",
      "Ran 10004 root mean square tests. Results in day10_AllpH_DMR250bp_MCmax25_cov5x_rms_results_for_Scaffold_17_chunk_7.tsv\n",
      "Ran 7768 root mean square tests. Results in day10_AllpH_DMR250bp_MCmax25_cov5x_rms_results_for_Scaffold_18_chunk_1.tsv\n",
      "Ran 7926 root mean square tests. Results in day10_AllpH_DMR250bp_MCmax25_cov5x_rms_results_for_Scaffold_18_chunk_3.tsv\n",
      "Ran 7865 root mean square tests. Results in day10_AllpH_DMR250bp_MCmax25_cov5x_rms_results_for_Scaffold_18_chunk_4.tsv\n",
      "Ran 8281 root mean square tests. Results in day10_AllpH_DMR250bp_MCmax25_cov5x_rms_results_for_Scaffold_18_chunk_6.tsv\n",
      "Ran 8117 root mean square tests. Results in day10_AllpH_DMR250bp_MCmax25_cov5x_rms_results_for_Scaffold_18_chunk_5.tsv\n",
      "Ran 7765 root mean square tests. Results in day10_AllpH_DMR250bp_MCmax25_cov5x_rms_results_for_Scaffold_18_chunk_7.tsv\n",
      "Ran 9037 root mean square tests. Results in day10_AllpH_DMR250bp_MCmax25_cov5x_rms_results_for_Scaffold_18_chunk_2.tsv\n",
      "Merging sorted day10_AllpH_DMR250bp_MCmax25_cov5x_rms_results.tsv files.\n",
      "Sun Dec 22 14:39:01 2019\n",
      "\n",
      "Begin FDR Correction\n",
      "Sun Dec 22 14:42:51 2019\n",
      "\n",
      "m0 estimate for iteration 0: 2423392\n",
      "Histogram FDR correction did not converge. Using the smallest p-value 0.0003333333333333333 as cutoff.\n",
      "\n",
      "Calculating Residual Cutoff\n",
      "Sun Dec 22 14:43:00 2019\n",
      "\n",
      "Begin Defining Windows\n",
      "Sun Dec 22 14:43:12 2019\n",
      "\n",
      "Adding Methylation Levels\n",
      "Sun Dec 22 14:44:09 2019\n",
      "\n",
      "Done\n",
      "Sun Dec 22 14:45:00 2019\n",
      "\n"
     ]
    }
   ],
   "source": [
    "%%bash\n",
    "methylpy DMRfind \\\n",
    "--allc-files EPI-103_S27_L005_5xmerg_allc.tsv \\\n",
    "EPI-104_S28_L005_5xmerg_allc.tsv \\\n",
    "EPI-111_S29_L005_5xmerg_allc.tsv \\\n",
    "EPI-113_S30_L005_5xmerg_allc.tsv \\\n",
    "EPI-119_S31_L005_5xmerg_allc.tsv \\\n",
    "EPI-120_S32_L005_5xmerg_allc.tsv \\\n",
    "EPI-135_S35_L005_5xmerg_allc.tsv \\\n",
    "EPI-136_S36_L005_5xmerg_allc.tsv \\\n",
    "EPI-127_S33_L005_5xmerg_allc.tsv \\\n",
    "EPI-128_S34_L005_5xmerg_allc.tsv \\\n",
    "EPI-143_S37_L005_5xmerg_allc.tsv \\\n",
    "EPI-145_S38_L005_5xmerg_allc.tsv \\\n",
    "--samples EPI-103 EPI-104 EPI-111 EPI-113 EPI-119 EPI-120 EPI-135 EPI-136 EPI-127 EPI-128 EPI-143 EPI-145 \\\n",
    "--mc-type \"CGN\" \\\n",
    "--num-procs 8 \\\n",
    "--output-prefix day10_AllpH_DMR250bp_MCmax25_cov5x \\\n",
    "--mc-max-dist 25 \\\n",
    "--dmr-max-dist 250 \\\n",
    "--min-num-dms 3 \\\n",
    "--sample-category 0 0 1 1 2 2 2 2 0 0 1 1 "
   ]
  },
  {
   "cell_type": "code",
   "execution_count": 8,
   "metadata": {},
   "outputs": [
    {
     "name": "stdout",
     "output_type": "stream",
     "text": [
      "#chr\tstart\tend\tnumber_of_dms\thypermethylated_samples\thypomethylated_samples\tmethylation_level_EPI-103\tmethylation_level_EPI-104\tmethylation_level_EPI-111\tmethylation_level_EPI-113\tmethylation_level_EPI-119\tmethylation_level_EPI-120\tmethylation_level_EPI-135\tmethylation_level_EPI-136\tmethylation_level_EPI-127\tmethylation_level_EPI-128\tmethylation_level_EPI-143\tmethylation_level_EPI-145\r\n",
      "Scaffold_01\t1174552\t1174568\t3\tEPI-145,EPI-111\tEPI-104,EPI-120\tNA\t0.0\t0.65\t0.07692307692307693\t0.391304347826087\t0.0\t0.46511627906976744\t0.5\t0.0\t0.45\tNA\t0.75\r\n",
      "Scaffold_01\t7779604\t7779637\t4\tEPI-143,EPI-111\tEPI-136,EPI-120\t0.72\t0.34146341463414637\t0.7297297297297297\t0.5483870967741935\t0.6785714285714286\t0.08333333333333333\t0.42857142857142855\t0.13793103448275862\t0.7619047619047619\t0.2\t0.8461538461538461\tNA\r\n",
      "Scaffold_01\t10017892\t10017921\t3\tEPI-127,EPI-103\tEPI-119,EPI-135\t0.5714285714285714\t0.08333333333333333\t0.3448275862068966\tNA\t0.15\tNA\t0.045454545454545456\t0.36363636363636365\t0.6\t0.36363636363636365\tNA\t0.2727272727272727\r\n",
      "Scaffold_01\t11560620\t11561025\t16\tEPI-135,EPI-145,EPI-127,EPI-119,EPI-103,EPI-120\t\t0.05325443786982249\t0.024657534246575342\t0.011764705882352941\t0.013793103448275862\t0.0471976401179941\t0.06153846153846154\t0.14240506329113925\t0.012048192771084338\t0.05519480519480519\t0.03125\t0.008298755186721992\t0.06451612903225806\r\n",
      "Scaffold_01\t11781543\t11781799\t6\tEPI-136,EPI-104,EPI-119,EPI-127\tEPI-145,EPI-111\t0.34\t0.19672131147540983\t0.1323529411764706\t0.13934426229508196\t0.24752475247524752\t0.144\t0.13043478260869565\t0.24475524475524477\t0.15503875968992248\t0.2727272727272727\t0.08823529411764706\t0.06349206349206349\r\n",
      "Scaffold_01\t12194474\t12194499\t5\tEPI-127,EPI-128\t\t0.0\t0.0\t0.014492753623188406\tNA\t0.058823529411764705\t0.0\t0.0\t0.0\t0.23076923076923078\t0.2\t0.08333333333333333\t0.03225806451612903\r\n",
      "Scaffold_01\t12203041\t12203064\t5\tEPI-119,EPI-143,EPI-145\t\t0.0\t0.0\t0.0\t0.030303030303030304\t0.10526315789473684\t0.037037037037037035\t0.0\t0.0\t0.04081632653061224\t0.04081632653061224\t0.10526315789473684\t0.10638297872340426\r\n",
      "Scaffold_01\t12483592\t12483623\t5\tEPI-119,EPI-128,EPI-136\tEPI-145\t0.675\t0.7692307692307693\t0.7551020408163265\t0.7446808510638298\t0.9565217391304348\t0.7058823529411765\t0.6615384615384615\t0.8985507246376812\t0.696969696969697\t0.8805970149253731\t0.7857142857142857\t0.5849056603773585\r\n",
      "Scaffold_01\t12544498\t12544537\t4\tEPI-104,EPI-135,EPI-119\tEPI-113\t0.5\t0.7647058823529411\t0.5652173913043478\t0.31343283582089554\t0.9473684210526315\t0.5909090909090909\t0.7166666666666667\t0.47126436781609193\t0.76\t0.6590909090909091\t0.6481481481481481\t0.7419354838709677\r\n"
     ]
    }
   ],
   "source": [
    "!head day10_AllpH_DMR250bp_MCmax25_cov5x_rms_results_collapsed.tsv"
   ]
  },
  {
   "cell_type": "code",
   "execution_count": 9,
   "metadata": {},
   "outputs": [
    {
     "name": "stdout",
     "output_type": "stream",
     "text": [
      "     931 day10_AllpH_DMR250bp_MCmax25_cov5x_rms_results_collapsed.tsv\r\n"
     ]
    }
   ],
   "source": [
    "!wc -l day10_AllpH_DMR250bp_MCmax25_cov5x_rms_results_collapsed.tsv"
   ]
  },
  {
   "cell_type": "code",
   "execution_count": null,
   "metadata": {},
   "outputs": [],
   "source": [
    "#so that worked. Run the rest of the comparisons"
   ]
  },
  {
   "cell_type": "code",
   "execution_count": null,
   "metadata": {},
   "outputs": [],
   "source": [
    "%%bash\n",
    "methylpy DMRfind \\\n",
    "--allc-files EPI-41_S38_L005_5xmerg_allc.tsv \\\n",
    "EPI-42_S39_L005_5xmerg_allc.tsv \\\n",
    "EPI-43_S40_L005_5xmerg_allc.tsv \\\n",
    "EPI-44_S41_L005_5xmerg_allc.tsv \\\n",
    "EPI-119_S31_L005_5xmerg_allc.tsv \\\n",
    "EPI-120_S32_L005_5xmerg_allc.tsv \\\n",
    "EPI-135_S35_L005_5xmerg_allc.tsv \\\n",
    "EPI-136_S36_L005_5xmerg_allc.tsv \\\n",
    "EPI-151_S2_L002_5xmerg_allc.tsv \\\n",
    "EPI-152_S3_L002_5xmerg_allc.tsv \\\n",
    "EPI-153_S4_L002_5xmerg_allc.tsv \\\n",
    "EPI-154_S5_L002_5xmerg_allc.tsv \\\n",
    "EPI-181_S16_L003_5xmerg_allc.tsv \\\n",
    "EPI-182_S17_L003_5xmerg_allc.tsv \\\n",
    "EPI-184_S18_L003_5xmerg_allc.tsv \\\n",
    "EPI-185_S19_L003_5xmerg_allc.tsv \\\n",
    "--samples EPI-41 EPI-42 EPI-43 EPI-44 EPI-119 EPI-120 EPI-135 EPI-136 EPI-151 EPI-152 EPI-153 EPI-154 EPI-181 EPI-182 EPI-184 EPI-185 \\\n",
    "--mc-type \"CGN\" \\\n",
    "--num-procs 8 \\\n",
    "--output-prefix amb_AllTimes_DMR250bp_MCmax25_cov5x \\\n",
    "--mc-max-dist 25 \\\n",
    "--dmr-max-dist 250 \\\n",
    "--min-num-dms 3 \\\n",
    "--sample-category 0 0 0 0 1 1 1 1 2 2 2 2 3 3 3 3 \n",
    "\n",
    "\n",
    "# For table S3, compare pH treatments at Day 135\n",
    "%%bash\n",
    "\n",
    "methylpy DMRfind \\\n",
    "--allc-files EPI-151_S2_L002_5xmerg_allc.tsv \\\n",
    "EPI-152_S3_L002_5xmerg_allc.tsv \\\n",
    "EPI-153_S4_L002_5xmerg_allc.tsv \\\n",
    "EPI-154_S5_L002_5xmerg_allc.tsv \\\n",
    "EPI-159_S6_L002_5xmerg_allc.tsv \\\n",
    "EPI-160_S7_L002_5xmerg_allc.tsv \\\n",
    "EPI-161_S8_L002_5xmerg_allc.tsv \\\n",
    "EPI-162_S9_L002_5xmerg_allc.tsv \\\n",
    "EPI-167_S10_L002_5xmerg_allc.tsv \\\n",
    "EPI-168_S11_L002_5xmerg_allc.tsv \\\n",
    "EPI-169_S12_L002_5xmerg_allc.tsv \\\n",
    "EPI-170_S13_L002_5xmerg_allc.tsv \\\n",
    "--samples EPI-151 EPI-152 EPI-153 EPI-154 EPI-159 EPI-160 EPI-161 EPI-162 EPI-167 EPI-168 EPI-169 EPI-170 \\\n",
    "--mc-type \"CGN\" \\\n",
    "--num-procs 8 \\\n",
    "--output-prefix day135_AllpH_DMR250bp_MCmax25_cov5x \\\n",
    "--mc-max-dist 25 \\\n",
    "--dmr-max-dist 250 \\\n",
    "--min-num-dms 3 \\\n",
    "--sample-category 0 0 0 0 1 1 1 1 2 2 2 2 \n",
    "\n",
    "# For table S4, compare pH treatments at Day 145\n",
    "%%bash\n",
    "\n",
    "methylpy DMRfind \\\n",
    "--allc-files EPI-175_S14_L003_5xmerg_allc.tsv \\\n",
    "EPI-176_S15_L003_5xmerg_allc.tsv \\\n",
    "EPI-181_S16_L003_5xmerg_allc.tsv \\\n",
    "EPI-182_S17_L003_5xmerg_allc.tsv \\\n",
    "EPI-184_S18_L003_5xmerg_allc.tsv \\\n",
    "EPI-185_S19_L003_5xmerg_allc.tsv \\\n",
    "EPI-187_S20_L003_5xmerg_allc.tsv \\\n",
    "EPI-188_S21_L003_5xmerg_allc.tsv \\\n",
    "EPI-193_S22_L003_5xmerg_allc.tsv \\\n",
    "EPI-194_S23_L003_5xmerg_allc.tsv \\\n",
    "EPI-199_S24_L003_5xmerg_allc.tsv \\\n",
    "EPI-200_S25_L003_5xmerg_allc.tsv \\\n",
    "EPI-205_S26_L004_5xmerg_allc.tsv \\\n",
    "EPI-206_S27_L004_5xmerg_allc.tsv \\\n",
    "EPI-208_S28_L004_5xmerg_allc.tsv \\\n",
    "EPI-209_S29_L004_5xmerg_allc.tsv \\\n",
    "EPI-214_S30_L004_5xmerg_allc.tsv \\\n",
    "EPI-215_S31_L004_5xmerg_allc.tsv \\\n",
    "EPI-220_S32_L004_5xmerg_allc.tsv \\\n",
    "EPI-221_S33_L004_5xmerg_allc.tsv \\\n",
    "EPI-226_S34_L004_5xmerg_allc.tsv \\\n",
    "EPI-227_S35_L004_5xmerg_allc.tsv \\\n",
    "EPI-229_S36_L004_5xmerg_allc.tsv \\\n",
    "EPI-230_S37_L004_5xmerg_allc.tsv \\\n",
    "--samples EPI-175 EPI-176 EPI-181 EPI-182 EPI-184 EPI-185 EPI-187 EPI-188 EPI-193 EPI-194 EPI-199 EPI-200 EPI-205 EPI-206 EPI-208 EPI-209 EPI-214 EPI-215 EPI-220 EPI-221 EPI-226 EPI-227 EPI-229 EPI-230 \\\n",
    "--mc-type \"CGN\" \\\n",
    "--num-procs 8 \\\n",
    "--output-prefix day145_AllpH_DMR250bp_MCmax25_cov5x \\\n",
    "--mc-max-dist 25 \\\n",
    "--dmr-max-dist 250 \\\n",
    "--min-num-dms 3 \\\n",
    "--sample-category 0 0 1 1 1 1 2 2 0 0 2 2 3 3 4 4 5 5 5 5 3 3 4 4 "
   ]
  },
  {
   "cell_type": "code",
   "execution_count": null,
   "metadata": {},
   "outputs": [],
   "source": [
    "#ran DMRfind in terminal using screen because my connection to ostrich kept timing out"
   ]
  },
  {
   "cell_type": "code",
   "execution_count": null,
   "metadata": {},
   "outputs": [],
   "source": [
    "#copy original files to gannet"
   ]
  },
  {
   "cell_type": "code",
   "execution_count": null,
   "metadata": {},
   "outputs": [],
   "source": [
    "!scp *_5xmerg_allc.tsv /Volumes/web/metacarcinus/Pgenerosa/analyses/20191222/"
   ]
  },
  {
   "cell_type": "code",
   "execution_count": null,
   "metadata": {},
   "outputs": [],
   "source": [
    "#copy output files to gannet"
   ]
  },
  {
   "cell_type": "code",
   "execution_count": null,
   "metadata": {},
   "outputs": [],
   "source": [
    "!scp day10_AllpH_DMR250bp_MCmax25_cov5x_rms_results* /Volumes/web/metacarcinus/Pgenerosa/analyses/20191222/"
   ]
  },
  {
   "cell_type": "code",
   "execution_count": 4,
   "metadata": {},
   "outputs": [],
   "source": [
    "!scp day135_AllpH_DMR250bp_MCmax25_cov5x_rms_results* /Volumes/web/metacarcinus/Pgenerosa/analyses/20191222/"
   ]
  },
  {
   "cell_type": "code",
   "execution_count": 5,
   "metadata": {},
   "outputs": [],
   "source": [
    "!scp day145_AllpH_DMR250bp_MCmax25_cov5x_rms_results* /Volumes/web/metacarcinus/Pgenerosa/analyses/20191222/"
   ]
  },
  {
   "cell_type": "code",
   "execution_count": 6,
   "metadata": {},
   "outputs": [],
   "source": [
    "!scp amb_AllTimes_DMR250bp_MCmax25_cov5x_rms_results* /Volumes/web/metacarcinus/Pgenerosa/analyses/20191222/"
   ]
  },
  {
   "cell_type": "code",
   "execution_count": null,
   "metadata": {},
   "outputs": [],
   "source": [
    "!scp -r ../20191220_DMRfind_5xmerg/merged_tab /Volumes/web/metacarcinus/Pgenerosa/analyses/20191220"
   ]
  },
  {
   "cell_type": "code",
   "execution_count": null,
   "metadata": {},
   "outputs": [],
   "source": [
    "#check what is currently on Gannet"
   ]
  },
  {
   "cell_type": "code",
   "execution_count": 8,
   "metadata": {},
   "outputs": [
    {
     "name": "stdout",
     "output_type": "stream",
     "text": [
      "shell-init: error retrieving current directory: getcwd: cannot access parent directories: No such file or directory\n",
      "\u001b[31mEPI-103_S27_L005_5xmerg_allc.tsv\u001b[m\u001b[m \u001b[31mEPI-184_S18_L003_5xmerg_allc.tsv\u001b[m\u001b[m\n",
      "\u001b[31mEPI-104_S28_L005_5xmerg_allc.tsv\u001b[m\u001b[m \u001b[31mEPI-185_S19_L003_5xmerg_allc.tsv\u001b[m\u001b[m\n",
      "\u001b[31mEPI-111_S29_L005_5xmerg_allc.tsv\u001b[m\u001b[m \u001b[31mEPI-187_S20_L003_5xmerg_allc.tsv\u001b[m\u001b[m\n",
      "\u001b[31mEPI-113_S30_L005_5xmerg_allc.tsv\u001b[m\u001b[m \u001b[31mEPI-188_S21_L003_5xmerg_allc.tsv\u001b[m\u001b[m\n",
      "\u001b[31mEPI-119_S31_L005_5xmerg_allc.tsv\u001b[m\u001b[m \u001b[31mEPI-193_S22_L003_5xmerg_allc.tsv\u001b[m\u001b[m\n",
      "\u001b[31mEPI-120_S32_L005_5xmerg_allc.tsv\u001b[m\u001b[m \u001b[31mEPI-194_S23_L003_5xmerg_allc.tsv\u001b[m\u001b[m\n",
      "\u001b[31mEPI-127_S33_L005_5xmerg_allc.tsv\u001b[m\u001b[m \u001b[31mEPI-199_S24_L003_5xmerg_allc.tsv\u001b[m\u001b[m\n",
      "\u001b[31mEPI-128_S34_L005_5xmerg_allc.tsv\u001b[m\u001b[m \u001b[31mEPI-200_S25_L003_5xmerg_allc.tsv\u001b[m\u001b[m\n",
      "\u001b[31mEPI-135_S35_L005_5xmerg_allc.tsv\u001b[m\u001b[m \u001b[31mEPI-205_S26_L004_5xmerg_allc.tsv\u001b[m\u001b[m\n",
      "\u001b[31mEPI-136_S36_L005_5xmerg_allc.tsv\u001b[m\u001b[m \u001b[31mEPI-206_S27_L004_5xmerg_allc.tsv\u001b[m\u001b[m\n",
      "\u001b[31mEPI-143_S37_L005_5xmerg_allc.tsv\u001b[m\u001b[m \u001b[31mEPI-208_S28_L004_5xmerg_allc.tsv\u001b[m\u001b[m\n",
      "\u001b[31mEPI-145_S38_L005_5xmerg_allc.tsv\u001b[m\u001b[m \u001b[31mEPI-209_S29_L004_5xmerg_allc.tsv\u001b[m\u001b[m\n",
      "\u001b[31mEPI-151_S2_L002_5xmerg_allc.tsv\u001b[m\u001b[m  \u001b[31mEPI-214_S30_L004_5xmerg_allc.tsv\u001b[m\u001b[m\n",
      "\u001b[31mEPI-152_S3_L002_5xmerg_allc.tsv\u001b[m\u001b[m  \u001b[31mEPI-215_S31_L004_5xmerg_allc.tsv\u001b[m\u001b[m\n",
      "\u001b[31mEPI-153_S4_L002_5xmerg_allc.tsv\u001b[m\u001b[m  \u001b[31mEPI-220_S32_L004_5xmerg_allc.tsv\u001b[m\u001b[m\n",
      "\u001b[31mEPI-154_S5_L002_5xmerg_allc.tsv\u001b[m\u001b[m  \u001b[31mEPI-221_S33_L004_5xmerg_allc.tsv\u001b[m\u001b[m\n",
      "\u001b[31mEPI-159_S6_L002_5xmerg_allc.tsv\u001b[m\u001b[m  \u001b[31mEPI-226_S34_L004_5xmerg_allc.tsv\u001b[m\u001b[m\n",
      "\u001b[31mEPI-160_S7_L002_5xmerg_allc.tsv\u001b[m\u001b[m  \u001b[31mEPI-227_S35_L004_5xmerg_allc.tsv\u001b[m\u001b[m\n",
      "\u001b[31mEPI-161_S8_L002_5xmerg_allc.tsv\u001b[m\u001b[m  \u001b[31mEPI-229_S36_L004_5xmerg_allc.tsv\u001b[m\u001b[m\n",
      "\u001b[31mEPI-162_S9_L002_5xmerg_allc.tsv\u001b[m\u001b[m  \u001b[31mEPI-230_S37_L004_5xmerg_allc.tsv\u001b[m\u001b[m\n",
      "\u001b[31mEPI-167_S10_L002_5xmerg_allc.tsv\u001b[m\u001b[m \u001b[31mEPI-41_S38_L005_5xmerg_allc.tsv\u001b[m\u001b[m\n",
      "\u001b[31mEPI-168_S11_L002_5xmerg_allc.tsv\u001b[m\u001b[m \u001b[31mEPI-42_S39_L005_5xmerg_allc.tsv\u001b[m\u001b[m\n",
      "\u001b[31mEPI-169_S12_L002_5xmerg_allc.tsv\u001b[m\u001b[m \u001b[31mEPI-43_S40_L005_5xmerg_allc.tsv\u001b[m\u001b[m\n",
      "\u001b[31mEPI-170_S13_L002_5xmerg_allc.tsv\u001b[m\u001b[m \u001b[31mEPI-44_S41_L005_5xmerg_allc.tsv\u001b[m\u001b[m\n",
      "\u001b[31mEPI-175_S14_L003_5xmerg_allc.tsv\u001b[m\u001b[m \u001b[34mmerged_tab\u001b[m\u001b[m\n",
      "\u001b[31mEPI-176_S15_L003_5xmerg_allc.tsv\u001b[m\u001b[m \u001b[31mslurm-1584223.out\u001b[m\u001b[m\n",
      "\u001b[31mEPI-181_S16_L003_5xmerg_allc.tsv\u001b[m\u001b[m \u001b[31mslurm-1584227.out\u001b[m\u001b[m\n",
      "\u001b[31mEPI-182_S17_L003_5xmerg_allc.tsv\u001b[m\u001b[m\n"
     ]
    }
   ],
   "source": [
    "!ls /Volumes/web/metacarcinus/Pgenerosa/analyses/20191220"
   ]
  },
  {
   "cell_type": "code",
   "execution_count": 9,
   "metadata": {},
   "outputs": [
    {
     "name": "stdout",
     "output_type": "stream",
     "text": [
      "shell-init: error retrieving current directory: getcwd: cannot access parent directories: No such file or directory\r\n",
      "\u001b[31mEPI-103_S27_L005_5xmerg_allc.tsv\u001b[m\u001b[m\r\n",
      "\u001b[31mEPI-104_S28_L005_5xmerg_allc.tsv\u001b[m\u001b[m\r\n",
      "\u001b[31mEPI-111_S29_L005_5xmerg_allc.tsv\u001b[m\u001b[m\r\n",
      "\u001b[31mEPI-113_S30_L005_5xmerg_allc.tsv\u001b[m\u001b[m\r\n",
      "\u001b[31mEPI-119_S31_L005_5xmerg_allc.tsv\u001b[m\u001b[m\r\n",
      "\u001b[31mEPI-120_S32_L005_5xmerg_allc.tsv\u001b[m\u001b[m\r\n",
      "\u001b[31mEPI-127_S33_L005_5xmerg_allc.tsv\u001b[m\u001b[m\r\n",
      "\u001b[31mEPI-128_S34_L005_5xmerg_allc.tsv\u001b[m\u001b[m\r\n",
      "\u001b[31mEPI-135_S35_L005_5xmerg_allc.tsv\u001b[m\u001b[m\r\n",
      "\u001b[31mEPI-136_S36_L005_5xmerg_allc.tsv\u001b[m\u001b[m\r\n",
      "\u001b[31mEPI-143_S37_L005_5xmerg_allc.tsv\u001b[m\u001b[m\r\n",
      "\u001b[31mEPI-145_S38_L005_5xmerg_allc.tsv\u001b[m\u001b[m\r\n",
      "\u001b[31mEPI-151_S2_L002_5xmerg_allc.tsv\u001b[m\u001b[m\r\n",
      "\u001b[31mEPI-152_S3_L002_5xmerg_allc.tsv\u001b[m\u001b[m\r\n",
      "\u001b[31mEPI-153_S4_L002_5xmerg_allc.tsv\u001b[m\u001b[m\r\n",
      "\u001b[31mEPI-154_S5_L002_5xmerg_allc.tsv\u001b[m\u001b[m\r\n",
      "\u001b[31mEPI-159_S6_L002_5xmerg_allc.tsv\u001b[m\u001b[m\r\n",
      "\u001b[31mEPI-160_S7_L002_5xmerg_allc.tsv\u001b[m\u001b[m\r\n",
      "\u001b[31mEPI-161_S8_L002_5xmerg_allc.tsv\u001b[m\u001b[m\r\n",
      "\u001b[31mEPI-162_S9_L002_5xmerg_allc.tsv\u001b[m\u001b[m\r\n",
      "\u001b[31mEPI-167_S10_L002_5xmerg_allc.tsv\u001b[m\u001b[m\r\n",
      "\u001b[31mEPI-168_S11_L002_5xmerg_allc.tsv\u001b[m\u001b[m\r\n",
      "\u001b[31mEPI-169_S12_L002_5xmerg_allc.tsv\u001b[m\u001b[m\r\n",
      "\u001b[31mEPI-170_S13_L002_5xmerg_allc.tsv\u001b[m\u001b[m\r\n",
      "\u001b[31mEPI-175_S14_L003_5xmerg_allc.tsv\u001b[m\u001b[m\r\n",
      "\u001b[31mEPI-176_S15_L003_5xmerg_allc.tsv\u001b[m\u001b[m\r\n",
      "\u001b[31mEPI-181_S16_L003_5xmerg_allc.tsv\u001b[m\u001b[m\r\n",
      "\u001b[31mEPI-182_S17_L003_5xmerg_allc.tsv\u001b[m\u001b[m\r\n",
      "\u001b[31mEPI-184_S18_L003_5xmerg_allc.tsv\u001b[m\u001b[m\r\n",
      "\u001b[31mEPI-185_S19_L003_5xmerg_allc.tsv\u001b[m\u001b[m\r\n",
      "\u001b[31mEPI-187_S20_L003_5xmerg_allc.tsv\u001b[m\u001b[m\r\n",
      "\u001b[31mEPI-188_S21_L003_5xmerg_allc.tsv\u001b[m\u001b[m\r\n",
      "\u001b[31mEPI-193_S22_L003_5xmerg_allc.tsv\u001b[m\u001b[m\r\n",
      "\u001b[31mEPI-194_S23_L003_5xmerg_allc.tsv\u001b[m\u001b[m\r\n",
      "\u001b[31mEPI-199_S24_L003_5xmerg_allc.tsv\u001b[m\u001b[m\r\n",
      "\u001b[31mEPI-200_S25_L003_5xmerg_allc.tsv\u001b[m\u001b[m\r\n",
      "\u001b[31mEPI-205_S26_L004_5xmerg_allc.tsv\u001b[m\u001b[m\r\n",
      "\u001b[31mEPI-206_S27_L004_5xmerg_allc.tsv\u001b[m\u001b[m\r\n",
      "\u001b[31mEPI-208_S28_L004_5xmerg_allc.tsv\u001b[m\u001b[m\r\n",
      "\u001b[31mEPI-209_S29_L004_5xmerg_allc.tsv\u001b[m\u001b[m\r\n",
      "\u001b[31mEPI-214_S30_L004_5xmerg_allc.tsv\u001b[m\u001b[m\r\n",
      "\u001b[31mEPI-215_S31_L004_5xmerg_allc.tsv\u001b[m\u001b[m\r\n",
      "\u001b[31mEPI-220_S32_L004_5xmerg_allc.tsv\u001b[m\u001b[m\r\n",
      "\u001b[31mEPI-221_S33_L004_5xmerg_allc.tsv\u001b[m\u001b[m\r\n",
      "\u001b[31mEPI-226_S34_L004_5xmerg_allc.tsv\u001b[m\u001b[m\r\n",
      "\u001b[31mEPI-227_S35_L004_5xmerg_allc.tsv\u001b[m\u001b[m\r\n",
      "\u001b[31mEPI-229_S36_L004_5xmerg_allc.tsv\u001b[m\u001b[m\r\n",
      "\u001b[31mEPI-230_S37_L004_5xmerg_allc.tsv\u001b[m\u001b[m\r\n",
      "\u001b[31mEPI-41_S38_L005_5xmerg_allc.tsv\u001b[m\u001b[m\r\n",
      "\u001b[31mEPI-42_S39_L005_5xmerg_allc.tsv\u001b[m\u001b[m\r\n",
      "\u001b[31mEPI-43_S40_L005_5xmerg_allc.tsv\u001b[m\u001b[m\r\n",
      "\u001b[31mEPI-44_S41_L005_5xmerg_allc.tsv\u001b[m\u001b[m\r\n",
      "\u001b[31mamb_AllTimes_DMR250bp_MCmax25_cov5x_rms_results.tsv.gz\u001b[m\u001b[m\r\n",
      "\u001b[31mamb_AllTimes_DMR250bp_MCmax25_cov5x_rms_results_collapsed.tsv\u001b[m\u001b[m\r\n",
      "\u001b[31mamb_AllTimes_DMR250bp_MCmax25_cov5x_rms_results_collapsed.tsv.DMR.bed\u001b[m\u001b[m\r\n",
      "\u001b[31mamb_AllTimes_DMR250bp_MCmax25_cov5x_rms_results_collapsed.tsv.DMS.bed\u001b[m\u001b[m\r\n",
      "\u001b[31mday10_AllpH_DMR250bp_MCmax25_cov5x_rms_results.tsv.gz\u001b[m\u001b[m\r\n",
      "\u001b[31mday10_AllpH_DMR250bp_MCmax25_cov5x_rms_results_collapsed.tsv\u001b[m\u001b[m\r\n",
      "\u001b[31mday10_AllpH_DMR250bp_MCmax25_cov5x_rms_results_collapsed.tsv.DMR.bed\u001b[m\u001b[m\r\n",
      "\u001b[31mday10_AllpH_DMR250bp_MCmax25_cov5x_rms_results_collapsed.tsv.DMS.bed\u001b[m\u001b[m\r\n",
      "\u001b[31mday135_AllpH_DMR250bp_MCmax25_cov5x_rms_results.tsv.gz\u001b[m\u001b[m\r\n",
      "\u001b[31mday135_AllpH_DMR250bp_MCmax25_cov5x_rms_results_collapsed.tsv\u001b[m\u001b[m\r\n",
      "\u001b[31mday135_AllpH_DMR250bp_MCmax25_cov5x_rms_results_collapsed.tsv.DMR.bed\u001b[m\u001b[m\r\n",
      "\u001b[31mday135_AllpH_DMR250bp_MCmax25_cov5x_rms_results_collapsed.tsv.DMS.bed\u001b[m\u001b[m\r\n",
      "\u001b[31mday145_AllpH_DMR250bp_MCmax25_cov5x_rms_results.tsv.gz\u001b[m\u001b[m\r\n",
      "\u001b[31mday145_AllpH_DMR250bp_MCmax25_cov5x_rms_results_collapsed.tsv\u001b[m\u001b[m\r\n",
      "\u001b[31mday145_AllpH_DMR250bp_MCmax25_cov5x_rms_results_collapsed.tsv.DMR.bed\u001b[m\u001b[m\r\n",
      "\u001b[31mday145_AllpH_DMR250bp_MCmax25_cov5x_rms_results_collapsed.tsv.DMS.bed\u001b[m\u001b[m\r\n"
     ]
    }
   ],
   "source": [
    "!ls /Volumes/web/metacarcinus/Pgenerosa/analyses/20191222"
   ]
  },
  {
   "cell_type": "code",
   "execution_count": null,
   "metadata": {},
   "outputs": [],
   "source": [
    "#remove output from GitHub repo"
   ]
  },
  {
   "cell_type": "code",
   "execution_count": 12,
   "metadata": {},
   "outputs": [
    {
     "name": "stdout",
     "output_type": "stream",
     "text": [
      "[Errno 2] No such file or directory: '/Users/strigg/Documents/GitHub/Shelly_Pgenerosa/analyses/20191220'\n",
      "/Users/strigg/Documents/GitHub/Shelly_Pgenerosa/analyses/20191222\n"
     ]
    }
   ],
   "source": [
    "cd /Users/strigg/Documents/GitHub/Shelly_Pgenerosa/analyses/20191220"
   ]
  },
  {
   "cell_type": "code",
   "execution_count": 13,
   "metadata": {},
   "outputs": [
    {
     "name": "stdout",
     "output_type": "stream",
     "text": [
      "shell-init: error retrieving current directory: getcwd: cannot access parent directories: No such file or directory\r\n"
     ]
    }
   ],
   "source": [
    "!ls"
   ]
  }
 ],
 "metadata": {
  "kernelspec": {
   "display_name": "Python 3",
   "language": "python",
   "name": "python3"
  },
  "language_info": {
   "codemirror_mode": {
    "name": "ipython",
    "version": 3
   },
   "file_extension": ".py",
   "mimetype": "text/x-python",
   "name": "python",
   "nbconvert_exporter": "python",
   "pygments_lexer": "ipython3",
   "version": "3.6.8"
  }
 },
 "nbformat": 4,
 "nbformat_minor": 2
}
