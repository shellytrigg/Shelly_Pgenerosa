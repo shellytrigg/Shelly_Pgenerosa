{
 "cells": [
  {
   "cell_type": "code",
   "execution_count": null,
   "metadata": {},
   "outputs": [],
   "source": [
    "#Copy genome and index file to my genome folder on Gannet"
   ]
  },
  {
   "cell_type": "code",
   "execution_count": 2,
   "metadata": {},
   "outputs": [],
   "source": [
    "!mkdir /Volumes/web/metacarcinus/Pgenerosa/GENOMES/v074"
   ]
  },
  {
   "cell_type": "code",
   "execution_count": 3,
   "metadata": {},
   "outputs": [],
   "source": [
    "!cp /Volumes/web/seashell/bu-mox/data/geoduck/v074/Pgenerosa_v074.fa /Volumes/web/metacarcinus/Pgenerosa/GENOMES/v074"
   ]
  },
  {
   "cell_type": "code",
   "execution_count": 4,
   "metadata": {},
   "outputs": [],
   "source": [
    "!cp /Volumes/web/Atumefaciens/20190722_pgen_v070_top18_scaffold_annotation_counts/Pgenerosa_v074.fa.fai /Volumes/web/metacarcinus/Pgenerosa/GENOMES/v074"
   ]
  },
  {
   "cell_type": "code",
   "execution_count": 5,
   "metadata": {},
   "outputs": [],
   "source": [
    "!cp /Volumes/web/Atumefaciens/20190722_pgen_v070_top18_scaffold_annotation_counts/pgen_v070_top18_scaffolds.gff /Volumes/web/metacarcinus/Pgenerosa/GENOMES/v074"
   ]
  },
  {
   "cell_type": "code",
   "execution_count": null,
   "metadata": {},
   "outputs": [],
   "source": [
    "# make feature tracks with GFF file"
   ]
  },
  {
   "cell_type": "code",
   "execution_count": 6,
   "metadata": {},
   "outputs": [],
   "source": [
    "!grep CDS /Volumes/web/Atumefaciens/20190722_pgen_v070_top18_scaffold_annotation_counts/pgen_v070_top18_scaffolds.gff \\\n",
    "> /Volumes/web/metacarcinus/Pgenerosa/GENOMES/v074/Pgenerosa_v074.CDS.gff"
   ]
  },
  {
   "cell_type": "code",
   "execution_count": 7,
   "metadata": {},
   "outputs": [],
   "source": [
    "!awk '{if($3~/mRNA/)print $0}' /Volumes/web/Atumefaciens/20190722_pgen_v070_top18_scaffold_annotation_counts/pgen_v070_top18_scaffolds.gff \\\n",
    "> /Volumes/web/metacarcinus/Pgenerosa/GENOMES/v074/Pgenerosa_v074.mRNA.gff"
   ]
  },
  {
   "cell_type": "code",
   "execution_count": 8,
   "metadata": {},
   "outputs": [],
   "source": [
    "!awk '{if($3~/gene/)print $0}' /Volumes/web/Atumefaciens/20190722_pgen_v070_top18_scaffold_annotation_counts/pgen_v070_top18_scaffolds.gff \\\n",
    "> /Volumes/web/metacarcinus/Pgenerosa/GENOMES/v074/Pgenerosa_v074.gene.gff"
   ]
  },
  {
   "cell_type": "code",
   "execution_count": null,
   "metadata": {},
   "outputs": [],
   "source": [
    "# prepare .cov files for loading into IGV:\n",
    "# 1. Threshold for positions with 3x coverage \n",
    "# 2. Filter for positions within DMRs\n",
    "# 3. Keep only chromosome, start, end, and % methylation info\n"
   ]
  },
  {
   "cell_type": "code",
   "execution_count": 22,
   "metadata": {},
   "outputs": [
    {
     "name": "stdout",
     "output_type": "stream",
     "text": [
      "/Volumes/web/seashell/bu-mox/scrubbed/0807-004\n"
     ]
    }
   ],
   "source": [
    "cd /Volumes/web/seashell/bu-mox/scrubbed/0807-004"
   ]
  },
  {
   "cell_type": "code",
   "execution_count": 11,
   "metadata": {},
   "outputs": [],
   "source": [
    "%%bash\n",
    "for f in *.cov.gz\n",
    "do\n",
    "zcat < ${f} | \\\n",
    "awk '{if($5+$6 >=3)print $0}'| \\ #the 5th and 6th columns contain the number of methylated and unmethylated C's respectively; this step thresholds for positions with at least 3x coverage\n",
    "/Users/Shared/bioinformatics/bedtools2/bin/intersectBed \\ #find positions that overlap with DMRs\n",
    "-a - \\ # the dash refers to the output from the awk command above\n",
    "-b /Users/strigg/Documents/GitHub/Shelly_Pgenerosa/analyses/JuviPgen_ALSL2lowd145/Get_DMRs_for_SR_v074_alignments/SR_v074_ALvSL-L_hyperANDhypoDMR.tsv| \\ # this file is the list of hyper and hypo DMRs \n",
    "awk -F\"\\t\" '{print $1FS$2FS$3FS$4}' \\ # this prints the chromosome, the start postion, the end position, and the percent methylation\n",
    "> /Users/strigg/Documents/GitHub/Shelly_Pgenerosa/analyses/JuviPgen_ALSL2lowd145/20190816_Pgnrv074_DMRs_in_IGV/${f}.3xcov.DMR.bedgraph\n",
    "done"
   ]
  },
  {
   "cell_type": "code",
   "execution_count": null,
   "metadata": {},
   "outputs": [],
   "source": [
    "#no do the same as above but for number of Cs"
   ]
  },
  {
   "cell_type": "code",
   "execution_count": 27,
   "metadata": {},
   "outputs": [],
   "source": [
    "%%bash\n",
    "for f in *.cov.gz\n",
    "do\n",
    "zcat < ${f} | awk '{if($5+$6 >=3)print $0}'| /Users/Shared/bioinformatics/bedtools2/bin/intersectBed -a - -b /Users/strigg/Documents/GitHub/Shelly_Pgenerosa/analyses/JuviPgen_ALSL2lowd145/Get_DMRs_for_SR_v074_alignments/SR_v074_ALvSL-L_hyperANDhypoDMR.tsv | awk -F\"\\t\" '{print $1FS$2FS$3FS$5+$6}' > /Users/strigg/Documents/GitHub/Shelly_Pgenerosa/analyses/JuviPgen_ALSL2lowd145/20190816_Pgnrv074_DMRs_in_IGV/${f}.NumCs3xcov.DMR.bedgraph\n",
    "\n",
    "done"
   ]
  },
  {
   "cell_type": "code",
   "execution_count": null,
   "metadata": {},
   "outputs": [],
   "source": [
    "#load files into IGV\n",
    "#start new session\n",
    "# from menu bar go to Genomes -> load genome from file\n",
    "#select /Volumes/web/metacarcinus/Pgenerosa/GENOMES/v074/Pgenerosa_v074.fa\n",
    "#This will load because the index file is also in the same folder (Pgenerosa_v074.fa.fai)\n",
    "#IF the index file is not in the same folder, IGV will not load the genome\n",
    "\n",
    "#IMPORT DMRs\n",
    "# from the menu bar go to Regions -> import regions and \n",
    "#select /Users/strigg/Documents/GitHub/Shelly_Pgenerosa/analyses/JuviPgen_ALSL2lowd145/Get_DMRs_for_SR_v074_alignments/SR_v074_ALvSL-L_hyperANDhypoDMR.tsv\n",
    "\n",
    "# LOAD COVERAGE DATA\n",
    "# from the menu bar go to File -> load from file and \n",
    "# select the following files (shift click to select multiple at a time)\n",
    "#/Users/strigg/Documents/GitHub/Shelly_Pgenerosa/analyses/JuviPgen_ALSL2lowd145/20190816_Pgnrv074_DMRs_in_IGV/EPI-205_S26_L004_R1_001_val_1_bismark_bt2_pe.deduplicated.bismark.cov.gz.3xcov.DMR.bedgraph\n",
    "#/Users/strigg/Documents/GitHub/Shelly_Pgenerosa/analyses/JuviPgen_ALSL2lowd145/20190816_Pgnrv074_DMRs_in_IGV/EPI-206_S26_L004_R1_001_val_1_bismark_bt2_pe.deduplicated.bismark.cov.gz.3xcov.DMR.bedgraph\n",
    "#/Users/strigg/Documents/GitHub/Shelly_Pgenerosa/analyses/JuviPgen_ALSL2lowd145/20190816_Pgnrv074_DMRs_in_IGV/EPI-214_S26_L004_R1_001_val_1_bismark_bt2_pe.deduplicated.bismark.cov.gz.3xcov.DMR.bedgraph\n",
    "#/Users/strigg/Documents/GitHub/Shelly_Pgenerosa/analyses/JuviPgen_ALSL2lowd145/20190816_Pgnrv074_DMRs_in_IGV/EPI-215_S26_L004_R1_001_val_1_bismark_bt2_pe.deduplicated.bismark.cov.gz.3xcov.DMR.bedgraph\n",
    "#/Users/strigg/Documents/GitHub/Shelly_Pgenerosa/analyses/JuviPgen_ALSL2lowd145/20190816_Pgnrv074_DMRs_in_IGV/EPI-220_S26_L004_R1_001_val_1_bismark_bt2_pe.deduplicated.bismark.cov.gz.3xcov.DMR.bedgraph\n",
    "#/Users/strigg/Documents/GitHub/Shelly_Pgenerosa/analyses/JuviPgen_ALSL2lowd145/20190816_Pgnrv074_DMRs_in_IGV/EPI-221_S26_L004_R1_001_val_1_bismark_bt2_pe.deduplicated.bismark.cov.gz.3xcov.DMR.bedgraph\n",
    "#/Users/strigg/Documents/GitHub/Shelly_Pgenerosa/analyses/JuviPgen_ALSL2lowd145/20190816_Pgnrv074_DMRs_in_IGV/EPI-226_S26_L004_R1_001_val_1_bismark_bt2_pe.deduplicated.bismark.cov.gz.3xcov.DMR.bedgraph\n",
    "#/Users/strigg/Documents/GitHub/Shelly_Pgenerosa/analyses/JuviPgen_ALSL2lowd145/20190816_Pgnrv074_DMRs_in_IGV/EPI-227_S26_L004_R1_001_val_1_bismark_bt2_pe.deduplicated.bismark.cov.gz.3xcov.DMR.bedgraph\n",
    "\n",
    "#LOAD GENOME FEATURE TRACKS\n",
    "# from the menu bar go to File -> load from file and \n",
    "# select the following files (shift click to select multiple at a time)\n",
    "#/Volumes/web/metacarcinus/Pgenerosa/GENOMES/v074/Pgenerosa_v074.CDS.gff\n",
    "#/Volumes/web/metacarcinus/Pgenerosa/GENOMES/v074/Pgenerosa_v074.mRNA.gff and \n",
    "#/Volumes/web/metacarcinus/Pgenerosa/GENOMES/v074/Pgenerosa_v074.gene.gff\n",
    "\n",
    "\n",
    "\n"
   ]
  },
  {
   "cell_type": "code",
   "execution_count": null,
   "metadata": {},
   "outputs": [],
   "source": []
  },
  {
   "cell_type": "code",
   "execution_count": null,
   "metadata": {},
   "outputs": [],
   "source": []
  }
 ],
 "metadata": {
  "kernelspec": {
   "display_name": "Python 3",
   "language": "python",
   "name": "python3"
  },
  "language_info": {
   "codemirror_mode": {
    "name": "ipython",
    "version": 3
   },
   "file_extension": ".py",
   "mimetype": "text/x-python",
   "name": "python",
   "nbconvert_exporter": "python",
   "pygments_lexer": "ipython3",
   "version": "3.6.8"
  }
 },
 "nbformat": 4,
 "nbformat_minor": 2
}
