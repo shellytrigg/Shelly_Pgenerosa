{
 "cells": [
  {
   "cell_type": "code",
   "execution_count": null,
   "metadata": {},
   "outputs": [],
   "source": [
    "# this script concatenates .cov.gz files that bismark outputs\n",
    "# for common loci it sums the number of methylated cytosine and it sums the number of unmethylated cytosines. \n",
    "# the output is Chromosome\"\\t\"start\"\\t\"end\"\\t\"number methylated cytosines\"\\t\"number unmethylated cytocines\"\\t\"number of samples with cytosine coverage\n",
    "# idea for script came from here: https://unix.stackexchange.com/questions/338876/how-to-merge-and-sum-up-fields-based-on-2-columns"
   ]
  },
  {
   "cell_type": "code",
   "execution_count": null,
   "metadata": {},
   "outputs": [],
   "source": [
    "# test to see if it works\n",
    "#first make subset files of CpGs from 2 samples with common loci"
   ]
  },
  {
   "cell_type": "code",
   "execution_count": 6,
   "metadata": {},
   "outputs": [],
   "source": [
    "%%bash\n",
    "gzcat /Volumes/web/seashell/bu-mox/scrubbed/0807-004/EPI-208*.cov.gz | head -50 |gzip > /Users/strigg/Desktop/test_208S28.gz"
   ]
  },
  {
   "cell_type": "code",
   "execution_count": 7,
   "metadata": {},
   "outputs": [
    {
     "name": "stdout",
     "output_type": "stream",
     "text": [
      "PGA_scaffold1__77_contigs__length_89643857\t18\t18\t0\t0\t1\n",
      "PGA_scaffold1__77_contigs__length_89643857\t54\t54\t0\t0\t3\n",
      "PGA_scaffold1__77_contigs__length_89643857\t72\t72\t0\t0\t3\n",
      "PGA_scaffold1__77_contigs__length_89643857\t96\t96\t33.3333333333333\t1\t2\n",
      "PGA_scaffold1__77_contigs__length_89643857\t193\t193\t0\t0\t1\n",
      "PGA_scaffold1__77_contigs__length_89643857\t202\t202\t0\t0\t2\n",
      "PGA_scaffold1__77_contigs__length_89643857\t209\t209\t0\t0\t2\n",
      "PGA_scaffold1__77_contigs__length_89643857\t213\t213\t0\t0\t2\n",
      "PGA_scaffold1__77_contigs__length_89643857\t221\t221\t0\t0\t3\n",
      "PGA_scaffold1__77_contigs__length_89643857\t238\t238\t0\t0\t4\n",
      "PGA_scaffold1__77_contigs__length_89643857\t239\t239\t0\t0\t2\n",
      "PGA_scaffold1__77_contigs__length_89643857\t395\t395\t0\t0\t1\n",
      "PGA_scaffold1__77_contigs__length_89643857\t565\t565\t0\t0\t5\n",
      "PGA_scaffold1__77_contigs__length_89643857\t577\t577\t0\t0\t5\n",
      "PGA_scaffold1__77_contigs__length_89643857\t583\t583\t0\t0\t5\n",
      "PGA_scaffold1__77_contigs__length_89643857\t618\t618\t66.6666666666667\t2\t1\n",
      "PGA_scaffold1__77_contigs__length_89643857\t720\t720\t0\t0\t1\n",
      "PGA_scaffold1__77_contigs__length_89643857\t724\t724\t0\t0\t1\n",
      "PGA_scaffold1__77_contigs__length_89643857\t971\t971\t0\t0\t1\n",
      "PGA_scaffold1__77_contigs__length_89643857\t1959\t1959\t100\t1\t0\n",
      "PGA_scaffold1__77_contigs__length_89643857\t1973\t1973\t0\t0\t1\n",
      "PGA_scaffold1__77_contigs__length_89643857\t2083\t2083\t0\t0\t1\n",
      "PGA_scaffold1__77_contigs__length_89643857\t2153\t2153\t0\t0\t1\n",
      "PGA_scaffold1__77_contigs__length_89643857\t2449\t2449\t0\t0\t2\n",
      "PGA_scaffold1__77_contigs__length_89643857\t2509\t2509\t0\t0\t3\n",
      "PGA_scaffold1__77_contigs__length_89643857\t2795\t2795\t0\t0\t1\n",
      "PGA_scaffold1__77_contigs__length_89643857\t2800\t2800\t0\t0\t1\n",
      "PGA_scaffold1__77_contigs__length_89643857\t2855\t2855\t0\t0\t1\n",
      "PGA_scaffold1__77_contigs__length_89643857\t2958\t2958\t0\t0\t1\n",
      "PGA_scaffold1__77_contigs__length_89643857\t2959\t2959\t0\t0\t1\n",
      "PGA_scaffold1__77_contigs__length_89643857\t2963\t2963\t0\t0\t1\n",
      "PGA_scaffold1__77_contigs__length_89643857\t2964\t2964\t0\t0\t1\n",
      "PGA_scaffold1__77_contigs__length_89643857\t2975\t2975\t0\t0\t1\n",
      "PGA_scaffold1__77_contigs__length_89643857\t3003\t3003\t0\t0\t2\n",
      "PGA_scaffold1__77_contigs__length_89643857\t3024\t3024\t0\t0\t2\n",
      "PGA_scaffold1__77_contigs__length_89643857\t3071\t3071\t0\t0\t2\n",
      "PGA_scaffold1__77_contigs__length_89643857\t3510\t3510\t0\t0\t1\n",
      "PGA_scaffold1__77_contigs__length_89643857\t3531\t3531\t0\t0\t1\n",
      "PGA_scaffold1__77_contigs__length_89643857\t3723\t3723\t0\t0\t2\n",
      "PGA_scaffold1__77_contigs__length_89643857\t3726\t3726\t0\t0\t2\n",
      "PGA_scaffold1__77_contigs__length_89643857\t3729\t3729\t0\t0\t2\n",
      "PGA_scaffold1__77_contigs__length_89643857\t3762\t3762\t0\t0\t2\n",
      "PGA_scaffold1__77_contigs__length_89643857\t3820\t3820\t0\t0\t1\n",
      "PGA_scaffold1__77_contigs__length_89643857\t3916\t3916\t0\t0\t1\n",
      "PGA_scaffold1__77_contigs__length_89643857\t3995\t3995\t0\t0\t2\n",
      "PGA_scaffold1__77_contigs__length_89643857\t4598\t4598\t0\t0\t1\n",
      "PGA_scaffold1__77_contigs__length_89643857\t4661\t4661\t0\t0\t2\n",
      "PGA_scaffold1__77_contigs__length_89643857\t4666\t4666\t0\t0\t2\n",
      "PGA_scaffold1__77_contigs__length_89643857\t4671\t4671\t0\t0\t2\n",
      "PGA_scaffold1__77_contigs__length_89643857\t4690\t4690\t0\t0\t1\n"
     ]
    }
   ],
   "source": [
    "%%bash\n",
    "gzcat /Users/strigg/Desktop/test_208S28.gz"
   ]
  },
  {
   "cell_type": "code",
   "execution_count": 8,
   "metadata": {},
   "outputs": [],
   "source": [
    "%%bash\n",
    "gzcat /Volumes/web/seashell/bu-mox/scrubbed/0807-004/EPI-209*.cov.gz | head -50 | gzip > /Users/strigg/Desktop/test_209S29.gz"
   ]
  },
  {
   "cell_type": "code",
   "execution_count": 9,
   "metadata": {},
   "outputs": [
    {
     "name": "stdout",
     "output_type": "stream",
     "text": [
      "PGA_scaffold1__77_contigs__length_89643857\t193\t193\t0\t0\t2\n",
      "PGA_scaffold1__77_contigs__length_89643857\t202\t202\t0\t0\t2\n",
      "PGA_scaffold1__77_contigs__length_89643857\t209\t209\t0\t0\t2\n",
      "PGA_scaffold1__77_contigs__length_89643857\t213\t213\t0\t0\t2\n",
      "PGA_scaffold1__77_contigs__length_89643857\t221\t221\t0\t0\t2\n",
      "PGA_scaffold1__77_contigs__length_89643857\t238\t238\t0\t0\t2\n",
      "PGA_scaffold1__77_contigs__length_89643857\t565\t565\t0\t0\t1\n",
      "PGA_scaffold1__77_contigs__length_89643857\t577\t577\t0\t0\t1\n",
      "PGA_scaffold1__77_contigs__length_89643857\t583\t583\t0\t0\t1\n",
      "PGA_scaffold1__77_contigs__length_89643857\t618\t618\t0\t0\t1\n",
      "PGA_scaffold1__77_contigs__length_89643857\t1151\t1151\t0\t0\t1\n",
      "PGA_scaffold1__77_contigs__length_89643857\t1166\t1166\t0\t0\t1\n",
      "PGA_scaffold1__77_contigs__length_89643857\t2084\t2084\t0\t0\t1\n",
      "PGA_scaffold1__77_contigs__length_89643857\t2449\t2449\t0\t0\t2\n",
      "PGA_scaffold1__77_contigs__length_89643857\t2450\t2450\t0\t0\t1\n",
      "PGA_scaffold1__77_contigs__length_89643857\t2509\t2509\t0\t0\t2\n",
      "PGA_scaffold1__77_contigs__length_89643857\t2510\t2510\t0\t0\t1\n",
      "PGA_scaffold1__77_contigs__length_89643857\t2554\t2554\t0\t0\t2\n",
      "PGA_scaffold1__77_contigs__length_89643857\t2555\t2555\t0\t0\t1\n",
      "PGA_scaffold1__77_contigs__length_89643857\t2588\t2588\t0\t0\t1\n",
      "PGA_scaffold1__77_contigs__length_89643857\t2589\t2589\t0\t0\t1\n",
      "PGA_scaffold1__77_contigs__length_89643857\t2619\t2619\t0\t0\t1\n",
      "PGA_scaffold1__77_contigs__length_89643857\t2624\t2624\t0\t0\t1\n",
      "PGA_scaffold1__77_contigs__length_89643857\t2632\t2632\t0\t0\t1\n",
      "PGA_scaffold1__77_contigs__length_89643857\t2958\t2958\t0\t0\t1\n",
      "PGA_scaffold1__77_contigs__length_89643857\t2963\t2963\t0\t0\t1\n",
      "PGA_scaffold1__77_contigs__length_89643857\t3071\t3071\t0\t0\t2\n",
      "PGA_scaffold1__77_contigs__length_89643857\t3121\t3121\t0\t0\t2\n",
      "PGA_scaffold1__77_contigs__length_89643857\t3134\t3134\t0\t0\t2\n",
      "PGA_scaffold1__77_contigs__length_89643857\t3723\t3723\t0\t0\t4\n",
      "PGA_scaffold1__77_contigs__length_89643857\t3726\t3726\t0\t0\t4\n",
      "PGA_scaffold1__77_contigs__length_89643857\t3729\t3729\t0\t0\t4\n",
      "PGA_scaffold1__77_contigs__length_89643857\t3762\t3762\t0\t0\t4\n",
      "PGA_scaffold1__77_contigs__length_89643857\t3820\t3820\t0\t0\t1\n",
      "PGA_scaffold1__77_contigs__length_89643857\t3916\t3916\t0\t0\t4\n",
      "PGA_scaffold1__77_contigs__length_89643857\t3995\t3995\t0\t0\t2\n",
      "PGA_scaffold1__77_contigs__length_89643857\t5409\t5409\t0\t0\t3\n",
      "PGA_scaffold1__77_contigs__length_89643857\t5425\t5425\t0\t0\t3\n",
      "PGA_scaffold1__77_contigs__length_89643857\t5987\t5987\t0\t0\t1\n",
      "PGA_scaffold1__77_contigs__length_89643857\t6002\t6002\t0\t0\t1\n",
      "PGA_scaffold1__77_contigs__length_89643857\t6003\t6003\t0\t0\t3\n",
      "PGA_scaffold1__77_contigs__length_89643857\t6017\t6017\t0\t0\t1\n",
      "PGA_scaffold1__77_contigs__length_89643857\t6018\t6018\t0\t0\t3\n",
      "PGA_scaffold1__77_contigs__length_89643857\t6032\t6032\t0\t0\t1\n",
      "PGA_scaffold1__77_contigs__length_89643857\t6050\t6050\t0\t0\t1\n",
      "PGA_scaffold1__77_contigs__length_89643857\t6051\t6051\t0\t0\t3\n",
      "PGA_scaffold1__77_contigs__length_89643857\t6107\t6107\t0\t0\t1\n",
      "PGA_scaffold1__77_contigs__length_89643857\t6108\t6108\t0\t0\t2\n",
      "PGA_scaffold1__77_contigs__length_89643857\t6126\t6126\t0\t0\t2\n",
      "PGA_scaffold1__77_contigs__length_89643857\t6127\t6127\t0\t0\t2\n"
     ]
    }
   ],
   "source": [
    "%%bash\n",
    "gzcat /Users/strigg/Desktop/test_209S29.gz"
   ]
  },
  {
   "cell_type": "code",
   "execution_count": null,
   "metadata": {},
   "outputs": [],
   "source": [
    "#now concatenate .cov.gz subsets as described above"
   ]
  },
  {
   "cell_type": "code",
   "execution_count": 13,
   "metadata": {},
   "outputs": [],
   "source": [
    "%%bash\n",
    "gzcat /Users/strigg/Desktop/test_208S28.gz /Users/strigg/Desktop/test_209S29.gz \\\n",
    "| awk -F\"\\t\" '{a[$1\"\\t\"$2\"\\t\"$3]+=$5; b[$1\"\\t\"$2\"\\t\"$3]+=$6; c[$1\"\\t\"$2\"\\t\"$3]++}END{for(i in a)print i\"\\t\"a[i]\"\\t\"b[i]\"\\t\"c[i]}' \\\n",
    "|sort -n -k1 -k2,2 -k3,3 | gzip > /Users/strigg/Desktop/uber_methylome.cov.gz"
   ]
  },
  {
   "cell_type": "code",
   "execution_count": 14,
   "metadata": {},
   "outputs": [
    {
     "name": "stdout",
     "output_type": "stream",
     "text": [
      "PGA_scaffold1__77_contigs__length_89643857\t18\t18\t0\t1\t1\n",
      "PGA_scaffold1__77_contigs__length_89643857\t54\t54\t0\t3\t1\n",
      "PGA_scaffold1__77_contigs__length_89643857\t72\t72\t0\t3\t1\n",
      "PGA_scaffold1__77_contigs__length_89643857\t96\t96\t1\t2\t1\n",
      "PGA_scaffold1__77_contigs__length_89643857\t193\t193\t0\t3\t2\n",
      "PGA_scaffold1__77_contigs__length_89643857\t202\t202\t0\t4\t2\n",
      "PGA_scaffold1__77_contigs__length_89643857\t209\t209\t0\t4\t2\n",
      "PGA_scaffold1__77_contigs__length_89643857\t213\t213\t0\t4\t2\n",
      "PGA_scaffold1__77_contigs__length_89643857\t221\t221\t0\t5\t2\n",
      "PGA_scaffold1__77_contigs__length_89643857\t238\t238\t0\t6\t2\n",
      "PGA_scaffold1__77_contigs__length_89643857\t239\t239\t0\t2\t1\n",
      "PGA_scaffold1__77_contigs__length_89643857\t395\t395\t0\t1\t1\n",
      "PGA_scaffold1__77_contigs__length_89643857\t565\t565\t0\t6\t2\n",
      "PGA_scaffold1__77_contigs__length_89643857\t577\t577\t0\t6\t2\n",
      "PGA_scaffold1__77_contigs__length_89643857\t583\t583\t0\t6\t2\n",
      "PGA_scaffold1__77_contigs__length_89643857\t618\t618\t2\t2\t2\n",
      "PGA_scaffold1__77_contigs__length_89643857\t720\t720\t0\t1\t1\n",
      "PGA_scaffold1__77_contigs__length_89643857\t724\t724\t0\t1\t1\n",
      "PGA_scaffold1__77_contigs__length_89643857\t971\t971\t0\t1\t1\n",
      "PGA_scaffold1__77_contigs__length_89643857\t1151\t1151\t0\t1\t1\n",
      "PGA_scaffold1__77_contigs__length_89643857\t1166\t1166\t0\t1\t1\n",
      "PGA_scaffold1__77_contigs__length_89643857\t1959\t1959\t1\t0\t1\n",
      "PGA_scaffold1__77_contigs__length_89643857\t1973\t1973\t0\t1\t1\n",
      "PGA_scaffold1__77_contigs__length_89643857\t2083\t2083\t0\t1\t1\n",
      "PGA_scaffold1__77_contigs__length_89643857\t2084\t2084\t0\t1\t1\n",
      "PGA_scaffold1__77_contigs__length_89643857\t2153\t2153\t0\t1\t1\n",
      "PGA_scaffold1__77_contigs__length_89643857\t2449\t2449\t0\t4\t2\n",
      "PGA_scaffold1__77_contigs__length_89643857\t2450\t2450\t0\t1\t1\n",
      "PGA_scaffold1__77_contigs__length_89643857\t2509\t2509\t0\t5\t2\n",
      "PGA_scaffold1__77_contigs__length_89643857\t2510\t2510\t0\t1\t1\n",
      "PGA_scaffold1__77_contigs__length_89643857\t2554\t2554\t0\t2\t1\n",
      "PGA_scaffold1__77_contigs__length_89643857\t2555\t2555\t0\t1\t1\n",
      "PGA_scaffold1__77_contigs__length_89643857\t2588\t2588\t0\t1\t1\n",
      "PGA_scaffold1__77_contigs__length_89643857\t2589\t2589\t0\t1\t1\n",
      "PGA_scaffold1__77_contigs__length_89643857\t2619\t2619\t0\t1\t1\n",
      "PGA_scaffold1__77_contigs__length_89643857\t2624\t2624\t0\t1\t1\n",
      "PGA_scaffold1__77_contigs__length_89643857\t2632\t2632\t0\t1\t1\n",
      "PGA_scaffold1__77_contigs__length_89643857\t2795\t2795\t0\t1\t1\n",
      "PGA_scaffold1__77_contigs__length_89643857\t2800\t2800\t0\t1\t1\n",
      "PGA_scaffold1__77_contigs__length_89643857\t2855\t2855\t0\t1\t1\n",
      "PGA_scaffold1__77_contigs__length_89643857\t2958\t2958\t0\t2\t2\n",
      "PGA_scaffold1__77_contigs__length_89643857\t2959\t2959\t0\t1\t1\n",
      "PGA_scaffold1__77_contigs__length_89643857\t2963\t2963\t0\t2\t2\n",
      "PGA_scaffold1__77_contigs__length_89643857\t2964\t2964\t0\t1\t1\n",
      "PGA_scaffold1__77_contigs__length_89643857\t2975\t2975\t0\t1\t1\n",
      "PGA_scaffold1__77_contigs__length_89643857\t3003\t3003\t0\t2\t1\n",
      "PGA_scaffold1__77_contigs__length_89643857\t3024\t3024\t0\t2\t1\n",
      "PGA_scaffold1__77_contigs__length_89643857\t3071\t3071\t0\t4\t2\n",
      "PGA_scaffold1__77_contigs__length_89643857\t3121\t3121\t0\t2\t1\n",
      "PGA_scaffold1__77_contigs__length_89643857\t3134\t3134\t0\t2\t1\n",
      "PGA_scaffold1__77_contigs__length_89643857\t3510\t3510\t0\t1\t1\n",
      "PGA_scaffold1__77_contigs__length_89643857\t3531\t3531\t0\t1\t1\n",
      "PGA_scaffold1__77_contigs__length_89643857\t3723\t3723\t0\t6\t2\n",
      "PGA_scaffold1__77_contigs__length_89643857\t3726\t3726\t0\t6\t2\n",
      "PGA_scaffold1__77_contigs__length_89643857\t3729\t3729\t0\t6\t2\n",
      "PGA_scaffold1__77_contigs__length_89643857\t3762\t3762\t0\t6\t2\n",
      "PGA_scaffold1__77_contigs__length_89643857\t3820\t3820\t0\t2\t2\n",
      "PGA_scaffold1__77_contigs__length_89643857\t3916\t3916\t0\t5\t2\n",
      "PGA_scaffold1__77_contigs__length_89643857\t3995\t3995\t0\t4\t2\n",
      "PGA_scaffold1__77_contigs__length_89643857\t4598\t4598\t0\t1\t1\n",
      "PGA_scaffold1__77_contigs__length_89643857\t4661\t4661\t0\t2\t1\n",
      "PGA_scaffold1__77_contigs__length_89643857\t4666\t4666\t0\t2\t1\n",
      "PGA_scaffold1__77_contigs__length_89643857\t4671\t4671\t0\t2\t1\n",
      "PGA_scaffold1__77_contigs__length_89643857\t4690\t4690\t0\t1\t1\n",
      "PGA_scaffold1__77_contigs__length_89643857\t5409\t5409\t0\t3\t1\n",
      "PGA_scaffold1__77_contigs__length_89643857\t5425\t5425\t0\t3\t1\n",
      "PGA_scaffold1__77_contigs__length_89643857\t5987\t5987\t0\t1\t1\n",
      "PGA_scaffold1__77_contigs__length_89643857\t6002\t6002\t0\t1\t1\n",
      "PGA_scaffold1__77_contigs__length_89643857\t6003\t6003\t0\t3\t1\n",
      "PGA_scaffold1__77_contigs__length_89643857\t6017\t6017\t0\t1\t1\n",
      "PGA_scaffold1__77_contigs__length_89643857\t6018\t6018\t0\t3\t1\n",
      "PGA_scaffold1__77_contigs__length_89643857\t6032\t6032\t0\t1\t1\n",
      "PGA_scaffold1__77_contigs__length_89643857\t6050\t6050\t0\t1\t1\n",
      "PGA_scaffold1__77_contigs__length_89643857\t6051\t6051\t0\t3\t1\n",
      "PGA_scaffold1__77_contigs__length_89643857\t6107\t6107\t0\t1\t1\n",
      "PGA_scaffold1__77_contigs__length_89643857\t6108\t6108\t0\t2\t1\n",
      "PGA_scaffold1__77_contigs__length_89643857\t6126\t6126\t0\t2\t1\n",
      "PGA_scaffold1__77_contigs__length_89643857\t6127\t6127\t0\t2\t1\n"
     ]
    }
   ],
   "source": [
    "%%bash\n",
    "gzcat /Users/strigg/Desktop/uber_methylome.cov.gz"
   ]
  },
  {
   "cell_type": "code",
   "execution_count": null,
   "metadata": {},
   "outputs": [],
   "source": []
  },
  {
   "cell_type": "code",
   "execution_count": null,
   "metadata": {},
   "outputs": [],
   "source": []
  },
  {
   "cell_type": "code",
   "execution_count": null,
   "metadata": {},
   "outputs": [],
   "source": []
  }
 ],
 "metadata": {
  "kernelspec": {
   "display_name": "Python 3",
   "language": "python",
   "name": "python3"
  },
  "language_info": {
   "codemirror_mode": {
    "name": "ipython",
    "version": 3
   },
   "file_extension": ".py",
   "mimetype": "text/x-python",
   "name": "python",
   "nbconvert_exporter": "python",
   "pygments_lexer": "ipython3",
   "version": "3.6.8"
  }
 },
 "nbformat": 4,
 "nbformat_minor": 2
}
