{
 "cells": [
  {
   "cell_type": "code",
   "execution_count": null,
   "metadata": {},
   "outputs": [],
   "source": [
    "# run call methylation state on .bam"
   ]
  },
  {
   "cell_type": "code",
   "execution_count": null,
   "metadata": {},
   "outputs": [],
   "source": [
    "#copy genome and dedup bams to local directory to process"
   ]
  },
  {
   "cell_type": "code",
   "execution_count": 6,
   "metadata": {},
   "outputs": [],
   "source": [
    "!scp /Volumes/web/seashell/bu-mox/data/geoduck/v074/Pgenerosa_v074.fa \\\n",
    "/Users/strigg/Documents/GitHub/Shelly_Pgenerosa/analyses/JuviPgen_ALSL2lowd145/Get_DMRs_for_SR_v074_alignments/"
   ]
  },
  {
   "cell_type": "code",
   "execution_count": 22,
   "metadata": {},
   "outputs": [
    {
     "name": "stdout",
     "output_type": "stream",
     "text": [
      "Begin flipping the strand of read 2\n",
      "Mon Aug 19 15:37:31 2019\n",
      "\n",
      "[mpileup] 1 samples in 1 input files\n"
     ]
    }
   ],
   "source": [
    "!methylpy call-methylation-state --input-file /Users/strigg/Documents/GitHub/Shelly_Pgenerosa/analyses/JuviPgen_ALSL2lowd145/Get_DMRs_for_SR_v074_alignments/dedup_bams/EPI-205_S26_L004_R1_001_val_1_bismark_bt2_pe.deduplicated.sorted.bam --paired-end True --path-to-output /Users/strigg/Documents/GitHub/Shelly_Pgenerosa/analyses/JuviPgen_ALSL2lowd145/Get_DMRs_for_SR_v074_alignments/methylpy_DMRs --sample EPI-205 --ref-fasta /Users/strigg/Documents/GitHub/Shelly_Pgenerosa/analyses/JuviPgen_ALSL2lowd145/Get_DMRs_for_SR_v074_alignments/Pgenerosa_v074.fa --num-procs 8 --min-cov 3"
   ]
  },
  {
   "cell_type": "code",
   "execution_count": null,
   "metadata": {},
   "outputs": [
    {
     "name": "stdout",
     "output_type": "stream",
     "text": [
      "Begin flipping the strand of read 2\n",
      "Mon Aug 19 16:18:25 2019\n",
      "\n",
      "Input not indexed. Indexing...\n",
      "Mon Aug 19 16:20:20 2019\n",
      "\n",
      "[mpileup] 1 samples in 1 input files\n",
      "Begin flipping the strand of read 2\n",
      "Mon Aug 19 16:35:38 2019\n",
      "\n",
      "[mpileup] 1 samples in 1 input files\n",
      "Begin flipping the strand of read 2\n",
      "Mon Aug 19 16:58:09 2019\n",
      "\n",
      "[mpileup] 1 samples in 1 input files\n"
     ]
    }
   ],
   "source": [
    "!find /Users/strigg/Documents/GitHub/Shelly_Pgenerosa/analyses/JuviPgen_ALSL2lowd145/Get_DMRs_for_SR_v074_alignments/dedup_bams/*.deduplicated.sorted.bam \\\n",
    "| xargs basename -s .deduplicated.sorted.bam | xargs -I{} methylpy call-methylation-state \\\n",
    "--input-file /Users/strigg/Documents/GitHub/Shelly_Pgenerosa/analyses/JuviPgen_ALSL2lowd145/Get_DMRs_for_SR_v074_alignments/dedup_bams/{}.deduplicated.sorted.bam \\\n",
    "--paired-end TRUE \\\n",
    "--path-to-output /Users/strigg/Documents/GitHub/Shelly_Pgenerosa/analyses/JuviPgen_ALSL2lowd145/Get_DMRs_for_SR_v074_alignments/methylpy_DMRs \\\n",
    "--sample {} \\\n",
    "--ref-fasta /Users/strigg/Documents/GitHub/Shelly_Pgenerosa/analyses/JuviPgen_ALSL2lowd145/Get_DMRs_for_SR_v074_alignments/Pgenerosa_v074.fa \\\n",
    "--num-procs 8 \\\n",
    "--min-cov 3\n"
   ]
  },
  {
   "cell_type": "code",
   "execution_count": 12,
   "metadata": {},
   "outputs": [],
   "source": []
  },
  {
   "cell_type": "code",
   "execution_count": null,
   "metadata": {},
   "outputs": [],
   "source": []
  },
  {
   "cell_type": "code",
   "execution_count": null,
   "metadata": {},
   "outputs": [],
   "source": [
    "# create bigwig file"
   ]
  },
  {
   "cell_type": "code",
   "execution_count": null,
   "metadata": {},
   "outputs": [],
   "source": [
    "methylpy allc-to-bigwig \\\n",
    "--allc-file results/allc_mESC.tsv.gz \\\n",
    "--output-file results/allc_mESC.bw \\\n",
    "--ref-fasta mm10_bt2/mm10.fa \\\n",
    "--mc-type CGN \\\n",
    "--bin-size 1000"
   ]
  },
  {
   "cell_type": "code",
   "execution_count": null,
   "metadata": {},
   "outputs": [],
   "source": [
    "# get DMRs"
   ]
  },
  {
   "cell_type": "code",
   "execution_count": null,
   "metadata": {},
   "outputs": [],
   "source": [
    "cd /Users/strigg/Documents/GitHub/Shelly_Pgenerosa/analyses/JuviPgen_ALSL2lowd145/Get_DMRs_for_SR_v074_alignments/methylpy_DMRs"
   ]
  },
  {
   "cell_type": "code",
   "execution_count": null,
   "metadata": {},
   "outputs": [],
   "source": [
    "!methylpy DMRfind \\\n",
    "--allc-files  allc_EPI-205_S26_L004_R1_001_val_1_bismark_bt2_pe.tsv.gz \\\n",
    "allc_EPI-206_S27_L004_R1_001_val_1_bismark_bt2_pe.tsv.gz \\\n",
    "allc_EPI-214_S30_L004_R1_001_val_1_bismark_bt2_pe.tsv.gz \\\n",
    "allc_EPI-215_S31_L004_R1_001_val_1_bismark_bt2_pe.tsv.gz \\\n",
    "allc_EPI-220_S32_L004_R1_001_val_1_bismark_bt2_pe.tsv.gz \\\n",
    "allc_EPI-221_S33_L004_R1_001_val_1_bismark_bt2_pe.tsv.gz \\\n",
    "allc_EPI-226_S34_L004_R1_001_val_1_bismark_bt2_pe.tsv.gz \\\n",
    "allc_EPI-227_S35_L004_R1_001_val_1_bismark_bt2_pe.tsv.gz \\\n",
    "--samples EPI-205 EPI-206 EPI-214 EPI-215 EPI-220 EPI-221 EPI-226 EPI-227 \\\n",
    "--mc-type \"CGN\" \\\n",
    "--num-procs 8 \\\n",
    "--min-cov 3 \\\n",
    "--output-prefix DMR_ \\\n",
    "--dmr-max-dist 500 \\\n",
    "--min-num-dms 3"
   ]
  },
  {
   "cell_type": "code",
   "execution_count": null,
   "metadata": {},
   "outputs": [],
   "source": []
  },
  {
   "cell_type": "code",
   "execution_count": null,
   "metadata": {},
   "outputs": [],
   "source": []
  },
  {
   "cell_type": "code",
   "execution_count": null,
   "metadata": {},
   "outputs": [],
   "source": []
  },
  {
   "cell_type": "code",
   "execution_count": null,
   "metadata": {},
   "outputs": [],
   "source": []
  }
 ],
 "metadata": {
  "kernelspec": {
   "display_name": "Python 3",
   "language": "python",
   "name": "python3"
  },
  "language_info": {
   "codemirror_mode": {
    "name": "ipython",
    "version": 3
   },
   "file_extension": ".py",
   "mimetype": "text/x-python",
   "name": "python",
   "nbconvert_exporter": "python",
   "pygments_lexer": "ipython3",
   "version": "3.6.8"
  }
 },
 "nbformat": 4,
 "nbformat_minor": 2
}
