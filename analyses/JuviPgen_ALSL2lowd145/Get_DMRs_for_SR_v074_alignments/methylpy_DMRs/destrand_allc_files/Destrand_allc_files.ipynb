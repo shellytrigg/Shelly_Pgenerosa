{
 "cells": [
  {
   "cell_type": "code",
   "execution_count": null,
   "metadata": {},
   "outputs": [],
   "source": [
    "#destrand allc files "
   ]
  },
  {
   "cell_type": "code",
   "execution_count": 1,
   "metadata": {},
   "outputs": [
    {
     "data": {
      "text/plain": [
       "'/Users/strigg/Documents/GitHub/Shelly_Pgenerosa/analyses/JuviPgen_ALSL2lowd145/Get_DMRs_for_SR_v074_alignments/methylpy_DMRs/destrand_allc_files'"
      ]
     },
     "execution_count": 1,
     "metadata": {},
     "output_type": "execute_result"
    }
   ],
   "source": [
    "pwd"
   ]
  },
  {
   "cell_type": "code",
   "execution_count": 4,
   "metadata": {},
   "outputs": [
    {
     "name": "stdout",
     "output_type": "stream",
     "text": [
      "/Users/strigg/Documents/GitHub/Shelly_Pgenerosa/analyses/JuviPgen_ALSL2lowd145/Get_DMRs_for_SR_v074_alignments/methylpy_DMRs\n"
     ]
    }
   ],
   "source": [
    "cd ../"
   ]
  },
  {
   "cell_type": "code",
   "execution_count": 5,
   "metadata": {},
   "outputs": [
    {
     "name": "stdout",
     "output_type": "stream",
     "text": [
      "allc_EPI-205_S26_L004_R1_001_val_1_bismark_bt2_pe.tsv.gz\n",
      "allc_EPI-206_S27_L004_R1_001_val_1_bismark_bt2_pe.tsv.gz\n",
      "allc_EPI-214_S30_L004_R1_001_val_1_bismark_bt2_pe.tsv.gz\n",
      "allc_EPI-215_S31_L004_R1_001_val_1_bismark_bt2_pe.tsv.gz\n",
      "allc_EPI-220_S32_L004_R1_001_val_1_bismark_bt2_pe.tsv.gz\n",
      "allc_EPI-221_S33_L004_R1_001_val_1_bismark_bt2_pe.tsv.gz\n",
      "allc_EPI-226_S34_L004_R1_001_val_1_bismark_bt2_pe.tsv.gz\n",
      "allc_EPI-227_S35_L004_R1_001_val_1_bismark_bt2_pe.tsv.gz\n"
     ]
    }
   ],
   "source": [
    "%%bash\n",
    "for f in allc*.tsv.gz\n",
    "do\n",
    "echo ${f}\n",
    "done"
   ]
  },
  {
   "cell_type": "code",
   "execution_count": null,
   "metadata": {},
   "outputs": [],
   "source": [
    "%%bash\n",
    "for f in allc*.tsv.gz\n",
    "do\n",
    "zcat < ${f} | \\\n",
    "awk -F\"\\t\" '{if($3==\"-\")print $1FS$2-1FS\"+\"FS$4FS$5FS$6FS$7;else print $0}' | \\\n",
    "awk -F\"\\t\" '{if(($1==chr && $2==p && $4!=c))print chr\"\\t\"p\"\\t\"$3\"\\t\"c\"\\t\"$5\"\\t\"$6\"\\t\"$7;else print $0}{chr=$1;p=$2; c=$4}'| \\\n",
    "awk -F\"\\t\" '{a[$1\"\\t\"$2\"\\t\"$3\"\\t\"$4]+=$5; b[$1\"\\t\"$2\"\\t\"$3\"\\t\"$4]+=$6}END{for(i in a)print i\"\\t\"a[i]\"\\t\"b[i]\"\\t\"1}' | \\\n",
    "sort -n -k1,1 -k2,2 |\\\n",
    "gzip > destrand_allc_files/${f}\n",
    "done"
   ]
  }
 ],
 "metadata": {
  "kernelspec": {
   "display_name": "Python 3",
   "language": "python",
   "name": "python3"
  },
  "language_info": {
   "codemirror_mode": {
    "name": "ipython",
    "version": 3
   },
   "file_extension": ".py",
   "mimetype": "text/x-python",
   "name": "python",
   "nbconvert_exporter": "python",
   "pygments_lexer": "ipython3",
   "version": "3.6.8"
  }
 },
 "nbformat": 4,
 "nbformat_minor": 2
}
