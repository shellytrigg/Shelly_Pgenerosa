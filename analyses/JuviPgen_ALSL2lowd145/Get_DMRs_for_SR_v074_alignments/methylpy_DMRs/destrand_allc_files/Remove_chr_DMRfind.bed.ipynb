{
 "cells": [
  {
   "cell_type": "code",
   "execution_count": null,
   "metadata": {
    "collapsed": true
   },
   "outputs": [],
   "source": [
    "#before loading DMRs in IGV, need to remove the prefix chr before each chromosome name"
   ]
  },
  {
   "cell_type": "code",
   "execution_count": 1,
   "metadata": {},
   "outputs": [
    {
     "name": "stdout",
     "output_type": "stream",
     "text": [
      "chrPGA_scaffold11__79_contigs__length_51449921\t32764\t32789\t3\r\n",
      "chrPGA_scaffold12__71_contigs__length_50438331\t31798376\t31798402\t3\r\n",
      "chrPGA_scaffold14__91_contigs__length_45393038\t6931831\t6932023\t5\r\n",
      "chrPGA_scaffold14__91_contigs__length_45393038\t29002337\t29002358\t4\r\n",
      "chrPGA_scaffold15__101_contigs__length_47938513\t5533042\t5533057\t3\r\n",
      "chrPGA_scaffold17__51_contigs__length_34923512\t16402130\t16402146\t4\r\n",
      "chrPGA_scaffold1__77_contigs__length_89643857\t49664425\t49664547\t4\r\n",
      "chrPGA_scaffold1__77_contigs__length_89643857\t69693016\t69693036\t4\r\n",
      "chrPGA_scaffold4__129_contigs__length_65288255\t12562710\t12563194\t21\r\n",
      "chrPGA_scaffold4__129_contigs__length_65288255\t12711734\t12711757\t3\r\n"
     ]
    }
   ],
   "source": [
    "!head DMR1000sortbpMCmax25cov5x_rms_results_collapsed.tsv.DMR.bed"
   ]
  },
  {
   "cell_type": "code",
   "execution_count": 2,
   "metadata": {},
   "outputs": [
    {
     "name": "stdout",
     "output_type": "stream",
     "text": [
      "PGA_scaffold11__79_contigs__length_51449921\t32764\t32789\t3\r\n",
      "PGA_scaffold12__71_contigs__length_50438331\t31798376\t31798402\t3\r\n",
      "PGA_scaffold14__91_contigs__length_45393038\t6931831\t6932023\t5\r\n",
      "PGA_scaffold14__91_contigs__length_45393038\t29002337\t29002358\t4\r\n",
      "PGA_scaffold15__101_contigs__length_47938513\t5533042\t5533057\t3\r\n",
      "PGA_scaffold17__51_contigs__length_34923512\t16402130\t16402146\t4\r\n",
      "PGA_scaffold1__77_contigs__length_89643857\t49664425\t49664547\t4\r\n",
      "PGA_scaffold1__77_contigs__length_89643857\t69693016\t69693036\t4\r\n",
      "PGA_scaffold4__129_contigs__length_65288255\t12562710\t12563194\t21\r\n",
      "PGA_scaffold4__129_contigs__length_65288255\t12711734\t12711757\t3\r\n"
     ]
    }
   ],
   "source": [
    "!sed 's/chrPGA/PGA/g' DMR1000sortbpMCmax25cov5x_rms_results_collapsed.tsv.DMR.bed | head"
   ]
  },
  {
   "cell_type": "code",
   "execution_count": 3,
   "metadata": {
    "collapsed": true
   },
   "outputs": [],
   "source": [
    "!mkdir no_chr"
   ]
  },
  {
   "cell_type": "code",
   "execution_count": 4,
   "metadata": {
    "collapsed": true
   },
   "outputs": [],
   "source": [
    "!sed 's/chrPGA/PGA/g' DMR1000sortbpMCmax25cov5x_rms_results_collapsed.tsv.DMR.bed \\\n",
    "> no_chr/DMR1000sortbpMCmax25cov5x_rms_results_collapsed.tsv.DMR.bed"
   ]
  },
  {
   "cell_type": "code",
   "execution_count": 5,
   "metadata": {
    "collapsed": true
   },
   "outputs": [],
   "source": [
    "!sed 's/chrPGA/PGA/g' DMR250sortbpMCmax25cov3x_rms_results_collapsed.tsv.DMR.bed \\\n",
    "> no_chr/DMR250sortbpMCmax25cov3x_rms_results_collapsed.tsv.DMR.bed"
   ]
  },
  {
   "cell_type": "code",
   "execution_count": 6,
   "metadata": {
    "collapsed": true
   },
   "outputs": [],
   "source": [
    "!sed 's/chrPGA/PGA/g' DMR1000sortbpMCmax25cov5x_rms_results_collapsed.tsv.DMS.bed \\\n",
    "> no_chr/DMR1000sortbpMCmax25cov5x_rms_results_collapsed.tsv.DMS.bed"
   ]
  },
  {
   "cell_type": "code",
   "execution_count": 7,
   "metadata": {
    "collapsed": true
   },
   "outputs": [],
   "source": [
    "!sed 's/chrPGA/PGA/g' DMR250sortbpMCmax25cov3x_rms_results_collapsed.tsv.DMS.bed \\\n",
    "> no_chr/DMR250sortbpMCmax25cov3x_rms_results_collapsed.tsv.DMS.bed"
   ]
  },
  {
   "cell_type": "code",
   "execution_count": 8,
   "metadata": {
    "collapsed": true
   },
   "outputs": [],
   "source": [
    "!sed 's/chrPGA/PGA/g' DMR1000sortbpMCmax25_rms_results_collapsed.tsv.DMR.bed \\\n",
    "> no_chr/DMR1000sortbpMCmax25_rms_results_collapsed.tsv.DMR.bed"
   ]
  },
  {
   "cell_type": "code",
   "execution_count": 9,
   "metadata": {
    "collapsed": true
   },
   "outputs": [],
   "source": [
    "!sed 's/chrPGA/PGA/g' DMR1000sortbpMCmax25_rms_results_collapsed.tsv.DMS.bed \\\n",
    "> no_chr/DMR1000sortbpMCmax25_rms_results_collapsed.tsv.DMS.bed"
   ]
  },
  {
   "cell_type": "code",
   "execution_count": 10,
   "metadata": {
    "collapsed": true
   },
   "outputs": [],
   "source": [
    "!sed 's/chrPGA/PGA/g' DMR250sortbpMCmax25cov5x_rms_results_collapsed.tsv.DMS.bed \\\n",
    "> no_chr/DMR250sortbpMCmax25cov5x_rms_results_collapsed.tsv.DMS.bed"
   ]
  },
  {
   "cell_type": "code",
   "execution_count": 11,
   "metadata": {
    "collapsed": true
   },
   "outputs": [],
   "source": [
    "!sed 's/chrPGA/PGA/g' DMR250sortbpMCmax25cov5x_rms_results_collapsed.tsv.DMR.bed \\\n",
    "> no_chr/DMR250sortbpMCmax25cov5x_rms_results_collapsed.tsv.DMR.bed"
   ]
  },
  {
   "cell_type": "code",
   "execution_count": 12,
   "metadata": {},
   "outputs": [
    {
     "name": "stdout",
     "output_type": "stream",
     "text": [
      "/Users/Shelly/Documents/GitHub/Shelly_Pgenerosa/analyses/JuviPgen_ALSL2lowd145/Get_DMRs_for_SR_v074_alignments/methylpy_DMRs/destrand_allc_files/no_chr\n"
     ]
    }
   ],
   "source": [
    "cd no_chr/"
   ]
  },
  {
   "cell_type": "code",
   "execution_count": 13,
   "metadata": {},
   "outputs": [
    {
     "name": "stdout",
     "output_type": "stream",
     "text": [
      "DMR1000sortbpMCmax25_rms_results_collapsed.tsv.DMR.bed\r\n",
      "DMR1000sortbpMCmax25_rms_results_collapsed.tsv.DMS.bed\r\n",
      "DMR1000sortbpMCmax25cov5x_rms_results_collapsed.tsv.DMR.bed\r\n",
      "DMR1000sortbpMCmax25cov5x_rms_results_collapsed.tsv.DMS.bed\r\n",
      "DMR250sortbpMCmax25cov3x_rms_results_collapsed.tsv.DMR.bed\r\n",
      "DMR250sortbpMCmax25cov3x_rms_results_collapsed.tsv.DMS.bed\r\n",
      "DMR250sortbpMCmax25cov5x_rms_results_collapsed.tsv.DMR.bed\r\n",
      "DMR250sortbpMCmax25cov5x_rms_results_collapsed.tsv.DMS.bed\r\n"
     ]
    }
   ],
   "source": [
    "!ls"
   ]
  },
  {
   "cell_type": "code",
   "execution_count": 14,
   "metadata": {},
   "outputs": [
    {
     "name": "stdout",
     "output_type": "stream",
     "text": [
      "PGA_scaffold11__79_contigs__length_51449921\t32764\t32789\t3\r\n",
      "PGA_scaffold12__71_contigs__length_50438331\t31798376\t31798402\t3\r\n",
      "PGA_scaffold14__91_contigs__length_45393038\t6931831\t6932023\t5\r\n",
      "PGA_scaffold14__91_contigs__length_45393038\t29002337\t29002358\t4\r\n",
      "PGA_scaffold15__101_contigs__length_47938513\t5533042\t5533057\t3\r\n",
      "PGA_scaffold17__51_contigs__length_34923512\t16402130\t16402146\t4\r\n",
      "PGA_scaffold1__77_contigs__length_89643857\t49664425\t49664547\t4\r\n",
      "PGA_scaffold1__77_contigs__length_89643857\t69693016\t69693036\t4\r\n",
      "PGA_scaffold4__129_contigs__length_65288255\t12562710\t12563194\t21\r\n",
      "PGA_scaffold4__129_contigs__length_65288255\t12711734\t12711757\t3\r\n"
     ]
    }
   ],
   "source": [
    "!head DMR1000sortbpMCmax25cov5x_rms_results_collapsed.tsv.DMR.bed"
   ]
  },
  {
   "cell_type": "code",
   "execution_count": 15,
   "metadata": {},
   "outputs": [
    {
     "name": "stdout",
     "output_type": "stream",
     "text": [
      "      25 DMR1000sortbpMCmax25cov5x_rms_results_collapsed.tsv.DMR.bed\r\n"
     ]
    }
   ],
   "source": [
    "!wc -l DMR1000sortbpMCmax25cov5x_rms_results_collapsed.tsv.DMR.bed"
   ]
  }
 ],
 "metadata": {
  "kernelspec": {
   "display_name": "Python 3",
   "language": "python",
   "name": "python3"
  },
  "language_info": {
   "codemirror_mode": {
    "name": "ipython",
    "version": 3
   },
   "file_extension": ".py",
   "mimetype": "text/x-python",
   "name": "python",
   "nbconvert_exporter": "python",
   "pygments_lexer": "ipython3",
   "version": "3.6.8"
  }
 },
 "nbformat": 4,
 "nbformat_minor": 2
}
