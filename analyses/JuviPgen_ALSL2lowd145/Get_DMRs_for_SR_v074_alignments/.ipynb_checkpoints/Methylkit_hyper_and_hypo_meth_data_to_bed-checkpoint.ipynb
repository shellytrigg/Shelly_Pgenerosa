{
 "cells": [
  {
   "cell_type": "code",
   "execution_count": null,
   "metadata": {
    "collapsed": true
   },
   "outputs": [],
   "source": [
    "#saving only the genome coordinates as a .bed file to load into IGF"
   ]
  },
  {
   "cell_type": "code",
   "execution_count": 1,
   "metadata": {
    "collapsed": true
   },
   "outputs": [],
   "source": [
    "!cat SR_v074_ALvSL-L_hyperANDhypoDMR.tsv | awk -F\"\\t\" '{print $1FS$2FS$3}' > SR_v074_ALvSL-L_hyperANDhypoDMR.bed"
   ]
  },
  {
   "cell_type": "code",
   "execution_count": 2,
   "metadata": {},
   "outputs": [
    {
     "name": "stdout",
     "output_type": "stream",
     "text": [
      "PGA_scaffold10__49_contigs__length_53961475\t353001\t354000\r\n",
      "PGA_scaffold10__49_contigs__length_53961475\t563001\t564000\r\n",
      "PGA_scaffold10__49_contigs__length_53961475\t919001\t920000\r\n",
      "PGA_scaffold10__49_contigs__length_53961475\t1122001\t1123000\r\n",
      "PGA_scaffold10__49_contigs__length_53961475\t1189001\t1190000\r\n",
      "PGA_scaffold10__49_contigs__length_53961475\t1705001\t1706000\r\n",
      "PGA_scaffold10__49_contigs__length_53961475\t2331001\t2332000\r\n",
      "PGA_scaffold10__49_contigs__length_53961475\t2462001\t2463000\r\n",
      "PGA_scaffold10__49_contigs__length_53961475\t2470001\t2471000\r\n",
      "PGA_scaffold10__49_contigs__length_53961475\t2634001\t2635000\r\n"
     ]
    }
   ],
   "source": [
    "!head SR_v074_ALvSL-L_hyperANDhypoDMR.bed"
   ]
  },
  {
   "cell_type": "code",
   "execution_count": 3,
   "metadata": {
    "collapsed": true
   },
   "outputs": [],
   "source": [
    "!cat SR_v074_ALvSL-L_hyperANDhypoDMR_unite3Ldestrand.tsv | awk -F\"\\t\" '{print $1FS$2FS$3}' > SR_v074_ALvSL-L_hyperANDhypoDMR_unite3Ldestrand.bed"
   ]
  },
  {
   "cell_type": "code",
   "execution_count": 4,
   "metadata": {
    "collapsed": true
   },
   "outputs": [],
   "source": [
    "!cat SR_v074_ALvSL-L_hyperANDhypoDMR_unite.minpgdefault.destrand.tsv | awk -F\"\\t\" '{print $1FS$2FS$3}' > SR_v074_ALvSL-L_hyperANDhypoDMR_unite.minpgdefault.destrand.bed"
   ]
  }
 ],
 "metadata": {
  "kernelspec": {
   "display_name": "Python 3",
   "language": "python",
   "name": "python3"
  },
  "language_info": {
   "codemirror_mode": {
    "name": "ipython",
    "version": 3
   },
   "file_extension": ".py",
   "mimetype": "text/x-python",
   "name": "python",
   "nbconvert_exporter": "python",
   "pygments_lexer": "ipython3",
   "version": "3.6.8"
  }
 },
 "nbformat": 4,
 "nbformat_minor": 2
}
