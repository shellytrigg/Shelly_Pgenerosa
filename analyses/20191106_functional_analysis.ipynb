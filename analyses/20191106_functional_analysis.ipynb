{
 "cells": [
  {
   "cell_type": "code",
   "execution_count": null,
   "metadata": {
    "collapsed": true
   },
   "outputs": [],
   "source": [
    "# intersect TE gff and gene gff with DMR files generated from 20191030 analysis"
   ]
  },
  {
   "cell_type": "code",
   "execution_count": 1,
   "metadata": {},
   "outputs": [
    {
     "name": "stdout",
     "output_type": "stream",
     "text": [
      "/Users/Shelly/Documents/GitHub/Shelly_Pgenerosa/analyses\n"
     ]
    }
   ],
   "source": [
    "cd ~/Documents/GitHub/Shelly_Pgenerosa/analyses"
   ]
  },
  {
   "cell_type": "code",
   "execution_count": 1,
   "metadata": {
    "collapsed": true
   },
   "outputs": [],
   "source": [
    "!mkdir 20191106_anno"
   ]
  },
  {
   "cell_type": "code",
   "execution_count": 1,
   "metadata": {},
   "outputs": [
    {
     "name": "stdout",
     "output_type": "stream",
     "text": [
      "/Users/Shelly/Documents/GitHub/Shelly_Pgenerosa/analyses/20191106_anno\n"
     ]
    }
   ],
   "source": [
    "cd 20191106_anno"
   ]
  },
  {
   "cell_type": "code",
   "execution_count": 2,
   "metadata": {},
   "outputs": [
    {
     "name": "stdout",
     "output_type": "stream",
     "text": [
      "PGA_scaffold10__49_contigs__length_53961475\t11112810\t11112940\t6\r\n",
      "PGA_scaffold10__49_contigs__length_53961475\t18556589\t18556610\t6\r\n",
      "PGA_scaffold10__49_contigs__length_53961475\t19149223\t19149262\t3\r\n",
      "PGA_scaffold10__49_contigs__length_53961475\t23948376\t23948381\t3\r\n",
      "PGA_scaffold11__79_contigs__length_51449921\t33245946\t33246014\t6\r\n",
      "PGA_scaffold11__79_contigs__length_51449921\t34242236\t34242266\t4\r\n",
      "PGA_scaffold11__79_contigs__length_51449921\t34247796\t34247825\t6\r\n",
      "PGA_scaffold11__79_contigs__length_51449921\t36477247\t36477284\t3\r\n",
      "PGA_scaffold11__79_contigs__length_51449921\t46672468\t46672516\t4\r\n",
      "PGA_scaffold12__71_contigs__length_50438331\t7000227\t7000253\t3\r\n"
     ]
    }
   ],
   "source": [
    "!head /Volumes/web/metacarcinus/Pgenerosa/analyses/20191024/amb_AllTimes_DMR250bp_MCmax30_cov5x.filtered.bed"
   ]
  },
  {
   "cell_type": "code",
   "execution_count": 4,
   "metadata": {},
   "outputs": [
    {
     "name": "stdout",
     "output_type": "stream",
     "text": [
      "      82 /Volumes/web/metacarcinus/Pgenerosa/analyses/20191024/amb_AllTimes_DMR250bp_MCmax30_cov5x.filtered.bed\r\n"
     ]
    }
   ],
   "source": [
    "!wc -l /Volumes/web/metacarcinus/Pgenerosa/analyses/20191024/amb_AllTimes_DMR250bp_MCmax30_cov5x.filtered.bed"
   ]
  },
  {
   "cell_type": "code",
   "execution_count": null,
   "metadata": {
    "collapsed": true
   },
   "outputs": [],
   "source": [
    "#confirmed it has the correct number of lines (DMRs)"
   ]
  },
  {
   "cell_type": "code",
   "execution_count": 5,
   "metadata": {},
   "outputs": [
    {
     "data": {
      "text/plain": [
       "'/Users/Shelly/Documents/GitHub/Shelly_Pgenerosa/analyses/20191106_anno'"
      ]
     },
     "execution_count": 5,
     "metadata": {},
     "output_type": "execute_result"
    }
   ],
   "source": [
    "pwd"
   ]
  },
  {
   "cell_type": "code",
   "execution_count": null,
   "metadata": {
    "collapsed": true
   },
   "outputs": [],
   "source": [
    "#bedtools intersect to find DMRs overlapping with genomic features\n",
    "# use -wb option to output gff info along with DMR info\n",
    "\n",
    "#for ambient samples at all time points"
   ]
  },
  {
   "cell_type": "code",
   "execution_count": 6,
   "metadata": {
    "collapsed": true
   },
   "outputs": [],
   "source": [
    "%%bash\n",
    "FILES=/Volumes/web/metacarcinus/Pgenerosa/analyses/20191024/*_DMR250bp_MCmax30_cov5x.filtered.bed\n",
    "for f in $FILES\n",
    "do\n",
    "intersectBed \\\n",
    "-a ${f}  \\\n",
    "-b /Volumes/web/Atumefaciens/20190928_Pgenerosa_v074.a4_gensas_annotation/Panopea-generosa-vv0.74.a4-merged-2019-10-07-4-46-46.gff3 \\\n",
    "-wb \\\n",
    "> $(basename ${f%_DMR250bp_MCmax30_cov5x.filtered.bed})_filtrd_0928GFF3.txt\n",
    "done"
   ]
  },
  {
   "cell_type": "code",
   "execution_count": 7,
   "metadata": {},
   "outputs": [
    {
     "name": "stdout",
     "output_type": "stream",
     "text": [
      "     264 amb_AllTimes_filtrd_0928GFF3.txt\r\n",
      "     244 day10_AllpH_filtrd_0928GFF3.txt\r\n",
      "     118 day135_AllpH_filtrd_0928GFF3.txt\r\n",
      "      67 day145_AllpH_filtrd_0928GFF3.txt\r\n",
      "     693 total\r\n"
     ]
    }
   ],
   "source": [
    "!wc -l *_filtrd_0928GFF3.txt"
   ]
  },
  {
   "cell_type": "code",
   "execution_count": null,
   "metadata": {
    "collapsed": true
   },
   "outputs": [],
   "source": [
    "#see what features DMRs are in "
   ]
  },
  {
   "cell_type": "code",
   "execution_count": 8,
   "metadata": {},
   "outputs": [
    {
     "name": "stdout",
     "output_type": "stream",
     "text": [
      "  55 CDS\n",
      "  55 exon\n",
      "  57 gene\n",
      "  73 mRNA\n",
      "  23 repeat_region\n",
      "   1 tRNA\n",
      "  34 CDS\n",
      "  34 exon\n",
      "  59 gene\n",
      "  69 mRNA\n",
      "  47 repeat_region\n",
      "   1 tRNA\n",
      "  22 CDS\n",
      "  22 exon\n",
      "  29 gene\n",
      "  31 mRNA\n",
      "  14 repeat_region\n",
      "  13 CDS\n",
      "  13 exon\n",
      "  14 gene\n",
      "  17 mRNA\n",
      "   1 rRNA\n",
      "   9 repeat_region\n"
     ]
    }
   ],
   "source": [
    "%%bash\n",
    "FILES=*_filtrd_0928GFF3.txt\n",
    "for f in $FILES\n",
    "do\n",
    "awk -F\"\\t\" '{print $7}' ${f}|\\\n",
    "sort | \\\n",
    "uniq -c\n",
    "done\n"
   ]
  }
 ],
 "metadata": {
  "kernelspec": {
   "display_name": "Python 3",
   "language": "python",
   "name": "python3"
  },
  "language_info": {
   "codemirror_mode": {
    "name": "ipython",
    "version": 3
   },
   "file_extension": ".py",
   "mimetype": "text/x-python",
   "name": "python",
   "nbconvert_exporter": "python",
   "pygments_lexer": "ipython3",
   "version": "3.6.8"
  }
 },
 "nbformat": 4,
 "nbformat_minor": 2
}
