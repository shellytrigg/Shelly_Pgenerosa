{
 "cells": [
  {
   "cell_type": "code",
   "execution_count": null,
   "metadata": {
    "collapsed": true
   },
   "outputs": [],
   "source": [
    "#get DMR sequences"
   ]
  },
  {
   "cell_type": "code",
   "execution_count": 1,
   "metadata": {},
   "outputs": [
    {
     "name": "stdout",
     "output_type": "stream",
     "text": [
      "/Users/Shelly/anaconda3/bin/bedtools\r\n"
     ]
    }
   ],
   "source": [
    "!which bedtools"
   ]
  },
  {
   "cell_type": "code",
   "execution_count": null,
   "metadata": {
    "collapsed": true
   },
   "outputs": [],
   "source": []
  },
  {
   "cell_type": "code",
   "execution_count": 4,
   "metadata": {},
   "outputs": [],
   "source": [
    "!/Users/Shelly/anaconda3/bin/bedtools getfasta \\\n",
    "-fi /Volumes/web/metacarcinus/Salmo_Calig/GENOMES/v2/RefSeq/chr1-29MT/GCF_000233375.1_ICSASG_v2_genomic.fa \\\n",
    "-bed /Users/Shelly/Documents/GitHub/Salmon_sealice/analyses/MCmax25_asinT_groupStats/DMR_2wayAOVTxStuk0.05.bed \\\n",
    "-fo /Users/Shelly/Documents/GitHub/Salmon_sealice/analyses/MCmax25_asinT_groupStats/DMR_2wayAOVTxStuk0.05.fa"
   ]
  },
  {
   "cell_type": "code",
   "execution_count": 9,
   "metadata": {},
   "outputs": [
    {
     "name": "stdout",
     "output_type": "stream",
     "text": [
      ">NC_001960.1:8663-8768\r\n",
      "GTCCTTCACTCCTGAGCCGTCCCTTCCTTAGGTGTAAAAATGGACGCAGTCCCAGGACGATTAAACCAAACAGCCTTTATTGCCTCTCGACCTGGAGTATTCTAC\r\n",
      ">NC_001960.1:16227-16274\r\n",
      "GCTCCATTCCTAACAAACTAGGCGGAGTACTCGCCCTCTTATTCTCG\r\n",
      ">NC_027300.1:15122262-15122271\r\n",
      "GCCGAATTC\r\n",
      ">NC_027300.1:65107271-65107455\r\n",
      "GTTTTATGCTGGGAAAAGatcaaataaacatttattttagccCGAAATGGAGGAAGAAGTACGATTTTGATGAATGTTTAAATGTTGAAAAAATTGGAATCAATGGAATCAATGGTTAAACAAATAAATAGGGTCTGTGGGGATAAGACAGAGAAGCAGCGTACAGAAGGCCTCGAAACCGCTC\r\n",
      ">NC_027300.1:69211159-69211369\r\n",
      "GAGAACTTCAGCACATATGAGGAGCGATTTTTGCAGTTTTTGGAGGCCAACGAGATAGCTGACGACCACAGAAGAGCGGTGTTTCTATCAGTCGTGGGTTCAAAGACGTTTACGCTGCTGAAAGATTTGGTAGCGCTGAAGAAGCCGGGACAGGCTAGCTTCCAGGAGCTAATTTCAGCTCTGAGAGACTTTTATGCGCCAAAACGGAAC\r\n"
     ]
    }
   ],
   "source": [
    "!head /Users/Shelly/Documents/GitHub/Salmon_sealice/analyses/MCmax25_asinT_groupStats/DMR_2wayAOVTxStuk0.05.fa"
   ]
  },
  {
   "cell_type": "code",
   "execution_count": 8,
   "metadata": {},
   "outputs": [
    {
     "name": "stdout",
     "output_type": "stream",
     "text": [
      "^C\r\n"
     ]
    }
   ],
   "source": [
    "!/Users/Shelly/anaconda3/bin/bedtools getfasta \\\n",
    "-fi /Volumes/web/metacarcinus/Salmo_Calig/GENOMES/v2/RefSeq/chr1-29MT/GCF_000233375.1_ICSASG_v2_genomic.fa \\\n",
    "-bed /Users/Shelly/Documents/GitHub/Salmon_sealice/analyses/MCmax25_asinT_groupStats/DMR_2wayAOVTxStuk0.05.bed \\\n",
    "-tab \\\n",
    "-fo /Users/Shelly/Documents/GitHub/Salmon_sealice/analyses/MCmax25_asinT_groupStats/DMR_2wayAOVTxStuk0.05.tab"
   ]
  },
  {
   "cell_type": "code",
   "execution_count": null,
   "metadata": {
    "collapsed": true
   },
   "outputs": [],
   "source": []
  }
 ],
 "metadata": {
  "kernelspec": {
   "display_name": "Python 3",
   "language": "python",
   "name": "python3"
  },
  "language_info": {
   "codemirror_mode": {
    "name": "ipython",
    "version": 3
   },
   "file_extension": ".py",
   "mimetype": "text/x-python",
   "name": "python",
   "nbconvert_exporter": "python",
   "pygments_lexer": "ipython3",
   "version": "3.6.8"
  }
 },
 "nbformat": 4,
 "nbformat_minor": 2
}
