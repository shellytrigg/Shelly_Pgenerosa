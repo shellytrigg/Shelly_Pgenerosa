{
 "cells": [
  {
   "cell_type": "code",
   "execution_count": null,
   "metadata": {},
   "outputs": [],
   "source": [
    "# intersect TE gff and gene gff with DMR files generated from 20190926 analysis"
   ]
  },
  {
   "cell_type": "code",
   "execution_count": 1,
   "metadata": {},
   "outputs": [
    {
     "name": "stdout",
     "output_type": "stream",
     "text": [
      "/Users/strigg/Documents/GitHub/Shelly_Pgenerosa/analyses\n"
     ]
    }
   ],
   "source": [
    "cd ~/Documents/GitHub/Shelly_Pgenerosa/analyses"
   ]
  },
  {
   "cell_type": "code",
   "execution_count": 2,
   "metadata": {},
   "outputs": [],
   "source": [
    "!mkdir 20191001_anno"
   ]
  },
  {
   "cell_type": "code",
   "execution_count": 3,
   "metadata": {},
   "outputs": [
    {
     "name": "stdout",
     "output_type": "stream",
     "text": [
      "/Users/strigg/Documents/GitHub/Shelly_Pgenerosa/analyses/20191001_anno\n"
     ]
    }
   ],
   "source": [
    "cd 20191001_anno/"
   ]
  },
  {
   "cell_type": "code",
   "execution_count": null,
   "metadata": {},
   "outputs": [],
   "source": [
    "#sed to remove chr prefix from chromosome names in DMR bed files\n",
    "#bedtools intersect to find DMRs overlapping with genomic features\n",
    "# use -wb option to output gff info along with DMR info\n",
    "\n",
    "#for ambient samples at all time points"
   ]
  },
  {
   "cell_type": "code",
   "execution_count": 5,
   "metadata": {},
   "outputs": [],
   "source": [
    "!sed 's/chrPGA/PGA/g' /Volumes/web/metacarcinus/Pgenerosa/analyses/20190926/amb_AllTimes_DMR250bp_MCmax25_cov5x_clst3_rms_results_collapsed.tsv.DMR.bed | \\\n",
    "/Users/Shared/bioinformatics/bedtools2/bin/intersectBed \\\n",
    "-a - \\\n",
    "-b /Volumes/web-1/halfshell/genomic-databank/Panopea-generosa-vv0.74.a3.TE.gff3 \\\n",
    "-wb \\\n",
    "> amb_AllTimes_TE.txt"
   ]
  },
  {
   "cell_type": "code",
   "execution_count": 6,
   "metadata": {},
   "outputs": [],
   "source": [
    "!sed 's/chrPGA/PGA/g' /Volumes/web/metacarcinus/Pgenerosa/analyses/20190926/amb_AllTimes_DMR250bp_MCmax25_cov5x_clst3_rms_results_collapsed.tsv.DMR.bed | \\\n",
    "/Users/Shared/bioinformatics/bedtools2/bin/intersectBed \\\n",
    "-a - \\\n",
    "-b /Volumes/web-1/halfshell/genomic-databank/Panopea-generosa-vv0.74.a3.gene.gff3 \\\n",
    "-wb \\\n",
    "> amb_AllTimes_gene.txt"
   ]
  },
  {
   "cell_type": "code",
   "execution_count": null,
   "metadata": {},
   "outputs": [],
   "source": [
    "# for day 10 all samples"
   ]
  },
  {
   "cell_type": "code",
   "execution_count": 7,
   "metadata": {},
   "outputs": [],
   "source": [
    "!sed 's/chrPGA/PGA/g' /Volumes/web/metacarcinus/Pgenerosa/analyses/20190926/day10_AllpH_DMR250bp_MCmax25_cov5x_clst3_rms_results_collapsed.tsv.DMR.bed | \\\n",
    "/Users/Shared/bioinformatics/bedtools2/bin/intersectBed \\\n",
    "-a - \\\n",
    "-b /Volumes/web-1/halfshell/genomic-databank/Panopea-generosa-vv0.74.a3.TE.gff3 \\\n",
    "-wb \\\n",
    "> day10_AllpH_TE.txt"
   ]
  },
  {
   "cell_type": "code",
   "execution_count": 8,
   "metadata": {},
   "outputs": [],
   "source": [
    "!sed 's/chrPGA/PGA/g' /Volumes/web/metacarcinus/Pgenerosa/analyses/20190926/day10_AllpH_DMR250bp_MCmax25_cov5x_clst3_rms_results_collapsed.tsv.DMR.bed | \\\n",
    "/Users/Shared/bioinformatics/bedtools2/bin/intersectBed \\\n",
    "-a - \\\n",
    "-b /Volumes/web-1/halfshell/genomic-databank/Panopea-generosa-vv0.74.a3.gene.gff3 \\\n",
    "-wb \\\n",
    "> day10_AllpH_gene.txt"
   ]
  },
  {
   "cell_type": "code",
   "execution_count": null,
   "metadata": {},
   "outputs": [],
   "source": []
  },
  {
   "cell_type": "code",
   "execution_count": null,
   "metadata": {},
   "outputs": [],
   "source": []
  },
  {
   "cell_type": "code",
   "execution_count": null,
   "metadata": {},
   "outputs": [],
   "source": [
    "#for day 135 samples"
   ]
  },
  {
   "cell_type": "code",
   "execution_count": 9,
   "metadata": {},
   "outputs": [],
   "source": [
    "!sed 's/chrPGA/PGA/g' /Volumes/web/metacarcinus/Pgenerosa/analyses/20190926/day135_AllpH_DMR250bp_MCmax25_cov5x_clst3_rms_results_collapsed.tsv.DMR.bed | \\\n",
    "/Users/Shared/bioinformatics/bedtools2/bin/intersectBed \\\n",
    "-a - \\\n",
    "-b /Volumes/web-1/halfshell/genomic-databank/Panopea-generosa-vv0.74.a3.TE.gff3 \\\n",
    "-wb \\\n",
    "> day135_AllpH_TE.txt"
   ]
  },
  {
   "cell_type": "code",
   "execution_count": 10,
   "metadata": {},
   "outputs": [],
   "source": [
    "!sed 's/chrPGA/PGA/g' /Volumes/web/metacarcinus/Pgenerosa/analyses/20190926/day135_AllpH_DMR250bp_MCmax25_cov5x_clst3_rms_results_collapsed.tsv.DMR.bed | \\\n",
    "/Users/Shared/bioinformatics/bedtools2/bin/intersectBed \\\n",
    "-a - \\\n",
    "-b /Volumes/web-1/halfshell/genomic-databank/Panopea-generosa-vv0.74.a3.gene.gff3 \\\n",
    "-wb \\\n",
    "> day135_AllpH_gene.txt"
   ]
  },
  {
   "cell_type": "code",
   "execution_count": null,
   "metadata": {},
   "outputs": [],
   "source": [
    "#for day 145 samples"
   ]
  },
  {
   "cell_type": "code",
   "execution_count": 11,
   "metadata": {},
   "outputs": [],
   "source": [
    "!sed 's/chrPGA/PGA/g' /Volumes/web/metacarcinus/Pgenerosa/analyses/20190926/day145_AllpH_DMR250bp_MCmax25_cov5x_clst3_rms_results_collapsed.tsv.DMR.bed | \\\n",
    "/Users/Shared/bioinformatics/bedtools2/bin/intersectBed \\\n",
    "-a - \\\n",
    "-b /Volumes/web-1/halfshell/genomic-databank/Panopea-generosa-vv0.74.a3.TE.gff3 \\\n",
    "-wb \\\n",
    "> day145_AllpH_TE.txt"
   ]
  },
  {
   "cell_type": "code",
   "execution_count": 12,
   "metadata": {},
   "outputs": [],
   "source": [
    "!sed 's/chrPGA/PGA/g' /Volumes/web/metacarcinus/Pgenerosa/analyses/20190926/day145_AllpH_DMR250bp_MCmax25_cov5x_clst3_rms_results_collapsed.tsv.DMR.bed | \\\n",
    "/Users/Shared/bioinformatics/bedtools2/bin/intersectBed \\\n",
    "-a - \\\n",
    "-b /Volumes/web-1/halfshell/genomic-databank/Panopea-generosa-vv0.74.a3.gene.gff3 \\\n",
    "-wb \\\n",
    "> day145_AllpH_gene.txt"
   ]
  },
  {
   "cell_type": "code",
   "execution_count": null,
   "metadata": {},
   "outputs": [],
   "source": [
    "#count number of features in each DMR file"
   ]
  },
  {
   "cell_type": "code",
   "execution_count": 13,
   "metadata": {},
   "outputs": [
    {
     "name": "stdout",
     "output_type": "stream",
     "text": [
      "       3 amb_AllTimes_TE.txt\r\n",
      "      31 amb_AllTimes_gene.txt\r\n",
      "       6 day10_AllpH_TE.txt\r\n",
      "      11 day10_AllpH_gene.txt\r\n",
      "       0 day135_AllpH_TE.txt\r\n",
      "       9 day135_AllpH_gene.txt\r\n",
      "       0 day145_AllpH_TE.txt\r\n",
      "       6 day145_AllpH_gene.txt\r\n",
      "      66 total\r\n"
     ]
    }
   ],
   "source": [
    "!wc -l *"
   ]
  },
  {
   "cell_type": "code",
   "execution_count": null,
   "metadata": {},
   "outputs": [],
   "source": [
    "#count the number of DMRs in each comparison file"
   ]
  },
  {
   "cell_type": "code",
   "execution_count": 15,
   "metadata": {},
   "outputs": [
    {
     "name": "stdout",
     "output_type": "stream",
     "text": [
      "      39 /Volumes/web/metacarcinus/Pgenerosa/analyses/20190926/amb_AllTimes_DMR250bp_MCmax25_cov5x_clst3_rms_results_collapsed.tsv.DMR.bed\r\n",
      "      14 /Volumes/web/metacarcinus/Pgenerosa/analyses/20190926/day10_AllpH_DMR250bp_MCmax25_cov5x_clst3_rms_results_collapsed.tsv.DMR.bed\r\n",
      "      12 /Volumes/web/metacarcinus/Pgenerosa/analyses/20190926/day135_AllpH_DMR250bp_MCmax25_cov5x_clst3_rms_results_collapsed.tsv.DMR.bed\r\n",
      "      11 /Volumes/web/metacarcinus/Pgenerosa/analyses/20190926/day145_AllpH_DMR250bp_MCmax25_cov5x_clst3_rms_results_collapsed.tsv.DMR.bed\r\n",
      "      76 total\r\n"
     ]
    }
   ],
   "source": [
    "!wc -l /Volumes/web/metacarcinus/Pgenerosa/analyses/20190926/*DMR.bed"
   ]
  },
  {
   "cell_type": "code",
   "execution_count": null,
   "metadata": {},
   "outputs": [],
   "source": [
    "#count unique features that DMRs overlap with "
   ]
  },
  {
   "cell_type": "code",
   "execution_count": 16,
   "metadata": {},
   "outputs": [
    {
     "name": "stdout",
     "output_type": "stream",
     "text": [
      "       2\n",
      "      31\n",
      "       6\n",
      "      11\n",
      "       0\n",
      "       9\n",
      "       0\n",
      "       6\n"
     ]
    }
   ],
   "source": [
    "%%bash\n",
    "for f in *.txt\n",
    "do\n",
    "awk '{print $1,$2,$3,$4}' ${f} | sort | uniq -c| wc -l\n",
    "done"
   ]
  },
  {
   "cell_type": "code",
   "execution_count": null,
   "metadata": {},
   "outputs": [],
   "source": [
    "#counts above show all but one feature are unique"
   ]
  },
  {
   "cell_type": "code",
   "execution_count": null,
   "metadata": {},
   "outputs": [],
   "source": [
    "#extract protein ID from .txt files"
   ]
  },
  {
   "cell_type": "code",
   "execution_count": null,
   "metadata": {},
   "outputs": [],
   "source": [
    "#first practice on one file"
   ]
  },
  {
   "cell_type": "code",
   "execution_count": 17,
   "metadata": {
    "scrolled": true
   },
   "outputs": [
    {
     "name": "stdout",
     "output_type": "stream",
     "text": [
      "PGA_scaffold10__49_contigs__length_53961475\t10029617\t10029642\t4\tPGA_scaffold10__49_contigs__length_53961475\tGenSAS_5d6843e21278a-publish\tgene\t10029501\t10030454\t.\t+\t.\tID=PGEN_.00g274750;Name=PGEN_.00g274750;original_ID=19849-PGEN_.00g274750;Alias=g27475;original_name=19849-PGEN_.00g274750;Notes=sp|Q96DM1|PGBD4_HUMAN [BLAST protein vs protein (blastp) 2.7.1],IPR029526 [InterProScan 5.29-68.0]\r\n",
      "PGA_scaffold13__52_contigs__length_44396874\t12504668\t12504688\t3\tPGA_scaffold13__52_contigs__length_44396874\tGenSAS_5d6843e21278a-publish\tgene\t12446421\t12504870\t.\t-\t.\tID=PGEN_.00g346290;Name=PGEN_.00g346290;original_ID=19849-PGEN_.00g346290;Alias=g34629;original_name=19849-PGEN_.00g346290;Notes=sp|Q6I6G8|HECW2_MOUSE [BLAST protein vs protein (blastp) 2.7.1],sp|Q9P2P5|HECW2_HUMAN [DIAMOND Functional 0.9.22]\r\n",
      "PGA_scaffold13__52_contigs__length_44396874\t17937025\t17937040\t4\tPGA_scaffold13__52_contigs__length_44396874\tGenSAS_5d6843e21278a-publish\tgene\t17935328\t17937332\t.\t+\t.\tID=PGEN_.00g348740;Name=PGEN_.00g348740;original_ID=19849-PGEN_.00g348740;Alias=g34874;original_name=19849-PGEN_.00g348740;Notes=sp|Q96DM1|PGBD4_HUMAN [BLAST protein vs protein (blastp) 2.7.1],IPR029526 [InterProScan 5.29-68.0]\r\n",
      "PGA_scaffold14__91_contigs__length_45393038\t31099430\t31099451\t3\tPGA_scaffold14__91_contigs__length_45393038\tGenSAS_5d6843e21278a-publish\tgene\t31096576\t31102663\t.\t+\t.\tID=PGEN_.00g378330;Name=PGEN_.00g378330;original_ID=19849-PGEN_.00g378330;Alias=g37833;original_name=19849-PGEN_.00g378330\r\n",
      "PGA_scaffold1__77_contigs__length_89643857\t85637672\t85637719\t4\tPGA_scaffold1__77_contigs__length_89643857\tGenSAS_5d6843e21278a-publish\tgene\t85618530\t85639149\t.\t-\t.\tID=PGEN_.00g041790;Name=PGEN_.00g041790;original_ID=19849-PGEN_.00g041790;Alias=g4179;original_name=19849-PGEN_.00g041790;Notes=sp|P49109|FMO5_CAVPO [BLAST protein vs protein (blastp) 2.7.1],sp|P49109|FMO5_CAVPO [DIAMOND Functional 0.9.22],IPR020946 [InterProScan 5.29-68.0]\r\n",
      "PGA_scaffold2__36_contigs__length_69596280\t60329225\t60329271\t4\tPGA_scaffold2__36_contigs__length_69596280\tGenSAS_5d6843e21278a-publish\tgene\t60327551\t60332193\t.\t+\t.\tID=PGEN_.00g073860;Name=PGEN_.00g073860;original_ID=19849-PGEN_.00g073860;Alias=g7386;original_name=19849-PGEN_.00g073860\r\n",
      "PGA_scaffold3__111_contigs__length_57743597\t15572963\t15573076\t3\tPGA_scaffold3__111_contigs__length_57743597\tGenSAS_5d6843e21278a-publish\tgene\t15539311\t15576088\t.\t+\t.\tID=PGEN_.00g085180;Name=PGEN_.00g085180;original_ID=19849-PGEN_.00g085180;Alias=g8518;original_name=19849-PGEN_.00g085180;Notes=sp|Q3V1H9|SAMD5_MOUSE [BLAST protein vs protein (blastp) 2.7.1],sp|Q5TGI4|SAMD5_HUMAN [DIAMOND Functional 0.9.22]\r\n",
      "PGA_scaffold3__111_contigs__length_57743597\t16521339\t16521367\t4\tPGA_scaffold3__111_contigs__length_57743597\tGenSAS_5d6843e21278a-publish\tgene\t16521254\t16527634\t.\t+\t.\tID=PGEN_.00g085650;Name=PGEN_.00g085650;original_ID=19849-PGEN_.00g085650;Alias=g8565;original_name=19849-PGEN_.00g085650\r\n",
      "PGA_scaffold6__104_contigs__length_61759565\t17708086\t17708133\t14\tPGA_scaffold6__104_contigs__length_61759565\tGenSAS_5d6843e21278a-publish\tgene\t17663266\t17717542\t.\t-\t.\tID=PGEN_.00g180410;Name=PGEN_.00g180410;original_ID=19849-PGEN_.00g180410;Alias=g18041;original_name=19849-PGEN_.00g180410;Notes=IPR006553 [InterProScan 5.29-68.0]\r\n",
      "PGA_scaffold8__63_contigs__length_61151155\t55792823\t55792863\t3\tPGA_scaffold8__63_contigs__length_61151155\tGenSAS_5d6843e21278a-publish\tgene\t55756507\t55817116\t.\t+\t.\tID=PGEN_.00g249400;Name=PGEN_.00g249400;original_ID=19849-PGEN_.00g249400;Alias=g24940;original_name=19849-PGEN_.00g249400;Notes=sp|A8TX70|CO6A5_HUMAN [BLAST protein vs protein (blastp) 2.7.1],sp|A6NMZ7|CO6A6_HUMAN [DIAMOND Functional 0.9.22],IPR002035 [InterProScan 5.29-68.0]\r\n"
     ]
    }
   ],
   "source": [
    "!head day10_AllpH_gene.txt"
   ]
  },
  {
   "cell_type": "code",
   "execution_count": null,
   "metadata": {},
   "outputs": [],
   "source": [
    "#found this code helpful https://stackoverflow.com/questions/34684396/remove-part-of-the-data-in-a-column-in-awk"
   ]
  },
  {
   "cell_type": "code",
   "execution_count": 18,
   "metadata": {},
   "outputs": [
    {
     "name": "stdout",
     "output_type": "stream",
     "text": [
      "PGA_scaffold10__49_contigs__length_53961475 10029617 10029642 4 ID=PGEN_.00g274750\r\n",
      "PGA_scaffold13__52_contigs__length_44396874 12504668 12504688 3 ID=PGEN_.00g346290\r\n",
      "PGA_scaffold13__52_contigs__length_44396874 17937025 17937040 4 ID=PGEN_.00g348740\r\n",
      "PGA_scaffold14__91_contigs__length_45393038 31099430 31099451 3 ID=PGEN_.00g378330\r\n",
      "PGA_scaffold1__77_contigs__length_89643857 85637672 85637719 4 ID=PGEN_.00g041790\r\n",
      "PGA_scaffold2__36_contigs__length_69596280 60329225 60329271 4 ID=PGEN_.00g073860\r\n",
      "PGA_scaffold3__111_contigs__length_57743597 15572963 15573076 3 ID=PGEN_.00g085180\r\n",
      "PGA_scaffold3__111_contigs__length_57743597 16521339 16521367 4 ID=PGEN_.00g085650\r\n",
      "PGA_scaffold6__104_contigs__length_61759565 17708086 17708133 14 ID=PGEN_.00g180410\r\n",
      "PGA_scaffold8__63_contigs__length_61151155 55792823 55792863 3 ID=PGEN_.00g249400\r\n"
     ]
    }
   ],
   "source": [
    "!head day10_AllpH_gene.txt | awk -F\"\\t\" '{sub(/;.*/,\"\",$13);print $1,$2,$3,$4,$13}'"
   ]
  },
  {
   "cell_type": "code",
   "execution_count": null,
   "metadata": {},
   "outputs": [],
   "source": [
    "#great, no I can just remove the \"ID=\" part"
   ]
  },
  {
   "cell_type": "code",
   "execution_count": 19,
   "metadata": {},
   "outputs": [
    {
     "name": "stdout",
     "output_type": "stream",
     "text": [
      "PGA_scaffold10__49_contigs__length_53961475 10029617 10029642 4 PGEN_.00g274750\r\n",
      "PGA_scaffold13__52_contigs__length_44396874 12504668 12504688 3 PGEN_.00g346290\r\n",
      "PGA_scaffold13__52_contigs__length_44396874 17937025 17937040 4 PGEN_.00g348740\r\n",
      "PGA_scaffold14__91_contigs__length_45393038 31099430 31099451 3 PGEN_.00g378330\r\n",
      "PGA_scaffold1__77_contigs__length_89643857 85637672 85637719 4 PGEN_.00g041790\r\n",
      "PGA_scaffold2__36_contigs__length_69596280 60329225 60329271 4 PGEN_.00g073860\r\n",
      "PGA_scaffold3__111_contigs__length_57743597 15572963 15573076 3 PGEN_.00g085180\r\n",
      "PGA_scaffold3__111_contigs__length_57743597 16521339 16521367 4 PGEN_.00g085650\r\n",
      "PGA_scaffold6__104_contigs__length_61759565 17708086 17708133 14 PGEN_.00g180410\r\n",
      "PGA_scaffold8__63_contigs__length_61151155 55792823 55792863 3 PGEN_.00g249400\r\n"
     ]
    }
   ],
   "source": [
    "!head ~/Documents/GitHub/Shelly_Pgenerosa/analyses/20191001_anno/day10_AllpH_gene.txt | \\\n",
    "awk -F\"\\t\" '{sub(/;.*/,\"\",$13); sub(\"ID=\",\"\",$13);print $1,$2,$3,$4,$13}'"
   ]
  },
  {
   "cell_type": "code",
   "execution_count": null,
   "metadata": {},
   "outputs": [],
   "source": [
    "#so I can get the DMRs + the gene ID; can I get the SP ID too?\n",
    "#First I'll try to remove everything upstream \";Notes=\""
   ]
  },
  {
   "cell_type": "code",
   "execution_count": 20,
   "metadata": {
    "scrolled": true
   },
   "outputs": [
    {
     "name": "stdout",
     "output_type": "stream",
     "text": [
      "PGA_scaffold10__49_contigs__length_53961475 10029617 10029642 4 sp|Q96DM1|PGBD4_HUMAN [BLAST protein vs protein (blastp) 2.7.1],IPR029526 [InterProScan 5.29-68.0]\r\n",
      "PGA_scaffold13__52_contigs__length_44396874 12504668 12504688 3 sp|Q6I6G8|HECW2_MOUSE [BLAST protein vs protein (blastp) 2.7.1],sp|Q9P2P5|HECW2_HUMAN [DIAMOND Functional 0.9.22]\r\n",
      "PGA_scaffold13__52_contigs__length_44396874 17937025 17937040 4 sp|Q96DM1|PGBD4_HUMAN [BLAST protein vs protein (blastp) 2.7.1],IPR029526 [InterProScan 5.29-68.0]\r\n",
      "PGA_scaffold14__91_contigs__length_45393038 31099430 31099451 3 ID=PGEN_.00g378330;Name=PGEN_.00g378330;original_ID=19849-PGEN_.00g378330;Alias=g37833;original_name=19849-PGEN_.00g378330\r\n",
      "PGA_scaffold1__77_contigs__length_89643857 85637672 85637719 4 sp|P49109|FMO5_CAVPO [BLAST protein vs protein (blastp) 2.7.1],sp|P49109|FMO5_CAVPO [DIAMOND Functional 0.9.22],IPR020946 [InterProScan 5.29-68.0]\r\n",
      "PGA_scaffold2__36_contigs__length_69596280 60329225 60329271 4 ID=PGEN_.00g073860;Name=PGEN_.00g073860;original_ID=19849-PGEN_.00g073860;Alias=g7386;original_name=19849-PGEN_.00g073860\r\n",
      "PGA_scaffold3__111_contigs__length_57743597 15572963 15573076 3 sp|Q3V1H9|SAMD5_MOUSE [BLAST protein vs protein (blastp) 2.7.1],sp|Q5TGI4|SAMD5_HUMAN [DIAMOND Functional 0.9.22]\r\n",
      "PGA_scaffold3__111_contigs__length_57743597 16521339 16521367 4 ID=PGEN_.00g085650;Name=PGEN_.00g085650;original_ID=19849-PGEN_.00g085650;Alias=g8565;original_name=19849-PGEN_.00g085650\r\n",
      "PGA_scaffold6__104_contigs__length_61759565 17708086 17708133 14 IPR006553 [InterProScan 5.29-68.0]\r\n",
      "PGA_scaffold8__63_contigs__length_61151155 55792823 55792863 3 sp|A8TX70|CO6A5_HUMAN [BLAST protein vs protein (blastp) 2.7.1],sp|A6NMZ7|CO6A6_HUMAN [DIAMOND Functional 0.9.22],IPR002035 [InterProScan 5.29-68.0]\r\n"
     ]
    }
   ],
   "source": [
    "!head ~/Documents/GitHub/Shelly_Pgenerosa/analyses/20191001_anno/day10_AllpH_gene.txt | \\\n",
    "awk -F\"\\t\" '{sub(/.*;Notes=/,\"\",$13);print $1,$2,$3,$4,$13}'"
   ]
  },
  {
   "cell_type": "code",
   "execution_count": null,
   "metadata": {},
   "outputs": [],
   "source": [
    "#great, that worked. So now I need to remove everything downstream the sp|XXXXXX\n",
    "#to do this I'm going to substitute sp| with sp_"
   ]
  },
  {
   "cell_type": "code",
   "execution_count": 22,
   "metadata": {
    "scrolled": true
   },
   "outputs": [
    {
     "name": "stdout",
     "output_type": "stream",
     "text": [
      "PGA_scaffold10__49_contigs__length_53961475 10029617 10029642 4 sp_Q96DM1|PGBD4_HUMAN [BLAST protein vs protein (blastp) 2.7.1],IPR029526 [InterProScan 5.29-68.0]\r\n",
      "PGA_scaffold13__52_contigs__length_44396874 12504668 12504688 3 sp_Q6I6G8|HECW2_MOUSE [BLAST protein vs protein (blastp) 2.7.1],sp|Q9P2P5|HECW2_HUMAN [DIAMOND Functional 0.9.22]\r\n",
      "PGA_scaffold13__52_contigs__length_44396874 17937025 17937040 4 sp_Q96DM1|PGBD4_HUMAN [BLAST protein vs protein (blastp) 2.7.1],IPR029526 [InterProScan 5.29-68.0]\r\n",
      "PGA_scaffold14__91_contigs__length_45393038 31099430 31099451 3 ID=PGEN_.00g378330;Name=PGEN_.00g378330;original_ID=19849-PGEN_.00g378330;Alias=g37833;original_name=19849-PGEN_.00g378330\r\n",
      "PGA_scaffold1__77_contigs__length_89643857 85637672 85637719 4 sp_P49109|FMO5_CAVPO [BLAST protein vs protein (blastp) 2.7.1],sp|P49109|FMO5_CAVPO [DIAMOND Functional 0.9.22],IPR020946 [InterProScan 5.29-68.0]\r\n",
      "PGA_scaffold2__36_contigs__length_69596280 60329225 60329271 4 ID=PGEN_.00g073860;Name=PGEN_.00g073860;original_ID=19849-PGEN_.00g073860;Alias=g7386;original_name=19849-PGEN_.00g073860\r\n",
      "PGA_scaffold3__111_contigs__length_57743597 15572963 15573076 3 sp_Q3V1H9|SAMD5_MOUSE [BLAST protein vs protein (blastp) 2.7.1],sp|Q5TGI4|SAMD5_HUMAN [DIAMOND Functional 0.9.22]\r\n",
      "PGA_scaffold3__111_contigs__length_57743597 16521339 16521367 4 ID=PGEN_.00g085650;Name=PGEN_.00g085650;original_ID=19849-PGEN_.00g085650;Alias=g8565;original_name=19849-PGEN_.00g085650\r\n",
      "PGA_scaffold6__104_contigs__length_61759565 17708086 17708133 14 IPR006553 [InterProScan 5.29-68.0]\r\n",
      "PGA_scaffold8__63_contigs__length_61151155 55792823 55792863 3 sp_A8TX70|CO6A5_HUMAN [BLAST protein vs protein (blastp) 2.7.1],sp|A6NMZ7|CO6A6_HUMAN [DIAMOND Functional 0.9.22],IPR002035 [InterProScan 5.29-68.0]\r\n"
     ]
    }
   ],
   "source": [
    "!head ~/Documents/GitHub/Shelly_Pgenerosa/analyses/20191001_anno/day10_AllpH_gene.txt | \\\n",
    "awk -F\"\\t\" '{sub(/.*;Notes=/,\"\",$13);sub(/sp\\|/,\"sp_\",$13);print $1,$2,$3,$4,$13}'"
   ]
  },
  {
   "cell_type": "code",
   "execution_count": null,
   "metadata": {},
   "outputs": [],
   "source": [
    "#then I can remove everything downstream the \"|\""
   ]
  },
  {
   "cell_type": "code",
   "execution_count": 23,
   "metadata": {},
   "outputs": [
    {
     "name": "stdout",
     "output_type": "stream",
     "text": [
      "PGA_scaffold10__49_contigs__length_53961475 10029617 10029642 4 sp_Q96DM1\r\n",
      "PGA_scaffold13__52_contigs__length_44396874 12504668 12504688 3 sp_Q6I6G8\r\n",
      "PGA_scaffold13__52_contigs__length_44396874 17937025 17937040 4 sp_Q96DM1\r\n",
      "PGA_scaffold14__91_contigs__length_45393038 31099430 31099451 3 ID=PGEN_.00g378330;Name=PGEN_.00g378330;original_ID=19849-PGEN_.00g378330;Alias=g37833;original_name=19849-PGEN_.00g378330\r\n",
      "PGA_scaffold1__77_contigs__length_89643857 85637672 85637719 4 sp_P49109\r\n",
      "PGA_scaffold2__36_contigs__length_69596280 60329225 60329271 4 ID=PGEN_.00g073860;Name=PGEN_.00g073860;original_ID=19849-PGEN_.00g073860;Alias=g7386;original_name=19849-PGEN_.00g073860\r\n",
      "PGA_scaffold3__111_contigs__length_57743597 15572963 15573076 3 sp_Q3V1H9\r\n",
      "PGA_scaffold3__111_contigs__length_57743597 16521339 16521367 4 ID=PGEN_.00g085650;Name=PGEN_.00g085650;original_ID=19849-PGEN_.00g085650;Alias=g8565;original_name=19849-PGEN_.00g085650\r\n",
      "PGA_scaffold6__104_contigs__length_61759565 17708086 17708133 14 IPR006553 [InterProScan 5.29-68.0]\r\n",
      "PGA_scaffold8__63_contigs__length_61151155 55792823 55792863 3 sp_A8TX70\r\n"
     ]
    }
   ],
   "source": [
    "!head ~/Documents/GitHub/Shelly_Pgenerosa/analyses/20191001_anno/day10_AllpH_gene.txt | \\\n",
    "awk -F\"\\t\" '{sub(/.*;Notes=/,\"\",$13);sub(/sp\\|/,\"sp_\",$13);sub(/\\|.*/,\"\",$13);print $1,$2,$3,$4,$13}'"
   ]
  },
  {
   "cell_type": "code",
   "execution_count": null,
   "metadata": {},
   "outputs": [],
   "source": [
    "#now I can grep just lines that have sp_ and I can remove that prefix"
   ]
  },
  {
   "cell_type": "code",
   "execution_count": 25,
   "metadata": {},
   "outputs": [
    {
     "name": "stdout",
     "output_type": "stream",
     "text": [
      "PGA_scaffold10__49_contigs__length_53961475 10029617 10029642 4 Q96DM1\r\n",
      "PGA_scaffold13__52_contigs__length_44396874 12504668 12504688 3 Q6I6G8\r\n",
      "PGA_scaffold13__52_contigs__length_44396874 17937025 17937040 4 Q96DM1\r\n",
      "PGA_scaffold1__77_contigs__length_89643857 85637672 85637719 4 P49109\r\n",
      "PGA_scaffold3__111_contigs__length_57743597 15572963 15573076 3 Q3V1H9\r\n",
      "PGA_scaffold8__63_contigs__length_61151155 55792823 55792863 3 A8TX70\r\n"
     ]
    }
   ],
   "source": [
    "!head ~/Documents/GitHub/Shelly_Pgenerosa/analyses/20191001_anno/day10_AllpH_gene.txt | \\\n",
    "awk -F\"\\t\" '{sub(/.*;Notes=/,\"\",$13);sub(/sp\\|/,\"sp_\",$13);sub(/\\|.*/,\"\",$13);print $1,$2,$3,$4,$13}'| \\\n",
    "grep \"sp_\" | sed 's/sp_//g'"
   ]
  },
  {
   "cell_type": "code",
   "execution_count": null,
   "metadata": {},
   "outputs": [],
   "source": [
    "#make DMR files with just gene ID"
   ]
  },
  {
   "cell_type": "code",
   "execution_count": 26,
   "metadata": {},
   "outputs": [],
   "source": [
    "%%bash\n",
    "for f in *_gene.txt\n",
    "do\n",
    "cat ${f} | \\\n",
    "awk -F\"\\t\" '{sub(/;.*/,\"\",$13); sub(\"ID=\",\"\",$13);print $1,$2,$3,$4,$13}' \\\n",
    "> $(basename ${f} _gene.txt).geneID.txt\n",
    "done"
   ]
  },
  {
   "cell_type": "code",
   "execution_count": 27,
   "metadata": {},
   "outputs": [
    {
     "name": "stdout",
     "output_type": "stream",
     "text": [
      "PGA_scaffold11__79_contigs__length_51449921 11487620 11487657 6 PGEN_.00g300420\r\n",
      "PGA_scaffold11__79_contigs__length_51449921 36936614 36936748 3 PGEN_.00g312290\r\n",
      "PGA_scaffold11__79_contigs__length_51449921 46397198 46397224 4 PGEN_.00g316750\r\n",
      "PGA_scaffold12__71_contigs__length_50438331 11980021 11980184 7 PGEN_.00g324710\r\n",
      "PGA_scaffold12__71_contigs__length_50438331 21584071 21584084 3 PGEN_.00g328610\r\n",
      "PGA_scaffold12__71_contigs__length_50438331 44762794 44762845 5 PGEN_.00g338610\r\n",
      "PGA_scaffold14__91_contigs__length_45393038 10585578 10585768 21 PGEN_.00g366740\r\n",
      "PGA_scaffold15__101_contigs__length_47938513 5358697 5358721 3 PGEN_.00g391020\r\n",
      "PGA_scaffold16__33_contigs__length_31980953 20997913 20997946 5 PGEN_.00g422750\r\n",
      "PGA_scaffold17__51_contigs__length_34923512 13046384 13046459 4 PGEN_.00g433840\r\n"
     ]
    }
   ],
   "source": [
    "!head amb_AllTimes.geneID.txt"
   ]
  },
  {
   "cell_type": "code",
   "execution_count": null,
   "metadata": {},
   "outputs": [],
   "source": [
    "#make DMR files with just sp ID"
   ]
  },
  {
   "cell_type": "code",
   "execution_count": 28,
   "metadata": {},
   "outputs": [],
   "source": [
    "%%bash\n",
    "for f in *_gene.txt\n",
    "do\n",
    "cat ${f} | \\\n",
    "awk -F\"\\t\" '{sub(/.*;Notes=/,\"\",$13);sub(/sp\\|/,\"sp_\",$13);sub(/\\|.*/,\"\",$13);print $1,$2,$3,$4,$13}'| \\\n",
    "grep \"sp_\" | sed 's/sp_//g' \\\n",
    "> $(basename ${f} _gene.txt).spID.txt\n",
    "done"
   ]
  },
  {
   "cell_type": "code",
   "execution_count": 29,
   "metadata": {},
   "outputs": [
    {
     "name": "stdout",
     "output_type": "stream",
     "text": [
      "PGA_scaffold11__79_contigs__length_51449921 11487620 11487657 6 Q99797\r\n",
      "PGA_scaffold11__79_contigs__length_51449921 36936614 36936748 3 O95819\r\n",
      "PGA_scaffold11__79_contigs__length_51449921 46397198 46397224 4 Q4LDE5\r\n",
      "PGA_scaffold12__71_contigs__length_50438331 21584071 21584084 3 Q2EMV9\r\n",
      "PGA_scaffold12__71_contigs__length_50438331 44762794 44762845 5 Q5F3G0\r\n",
      "PGA_scaffold16__33_contigs__length_31980953 20997913 20997946 5 Q9SMT7\r\n",
      "PGA_scaffold17__51_contigs__length_34923512 13046384 13046459 4 O14513\r\n",
      "PGA_scaffold1__77_contigs__length_89643857 41850783 41850792 4 Q5RBN9\r\n",
      "PGA_scaffold1__77_contigs__length_89643857 45423489 45423520 6 Q07352\r\n",
      "PGA_scaffold1__77_contigs__length_89643857 60340881 60341112 9 Q96SL1\r\n"
     ]
    }
   ],
   "source": [
    "!head amb_AllTimes.spID.txt"
   ]
  },
  {
   "cell_type": "code",
   "execution_count": null,
   "metadata": {},
   "outputs": [],
   "source": [
    "#combine gene ID and sp ID files"
   ]
  },
  {
   "cell_type": "code",
   "execution_count": 47,
   "metadata": {},
   "outputs": [],
   "source": [
    "%%bash\n",
    "for f in *.geneID.txt\n",
    "do\n",
    "cat ${f} | \\\n",
    "awk 'NR==FNR{a[$1,$2,$3,$4]=$5;next}($1,$2,$3,$4)in a{print $0,a[$1,$2,$3,$4]}' \\\n",
    "$(basename ${f} .geneID.txt).spID.txt - \\\n",
    "> $(basename ${f} .geneID.txt).geneANDspID.txt\n",
    "done"
   ]
  },
  {
   "cell_type": "code",
   "execution_count": 48,
   "metadata": {},
   "outputs": [
    {
     "name": "stdout",
     "output_type": "stream",
     "text": [
      "PGA_scaffold11__79_contigs__length_51449921 11487620 11487657 6 PGEN_.00g300420 Q99797\r\n",
      "PGA_scaffold11__79_contigs__length_51449921 36936614 36936748 3 PGEN_.00g312290 O95819\r\n",
      "PGA_scaffold11__79_contigs__length_51449921 46397198 46397224 4 PGEN_.00g316750 Q4LDE5\r\n",
      "PGA_scaffold12__71_contigs__length_50438331 21584071 21584084 3 PGEN_.00g328610 Q2EMV9\r\n",
      "PGA_scaffold12__71_contigs__length_50438331 44762794 44762845 5 PGEN_.00g338610 Q5F3G0\r\n",
      "PGA_scaffold16__33_contigs__length_31980953 20997913 20997946 5 PGEN_.00g422750 Q9SMT7\r\n",
      "PGA_scaffold17__51_contigs__length_34923512 13046384 13046459 4 PGEN_.00g433840 O14513\r\n",
      "PGA_scaffold1__77_contigs__length_89643857 41850783 41850792 4 PGEN_.00g021160 Q5RBN9\r\n",
      "PGA_scaffold1__77_contigs__length_89643857 45423489 45423520 6 PGEN_.00g022770 Q07352\r\n",
      "PGA_scaffold1__77_contigs__length_89643857 60340881 60341112 9 PGEN_.00g029500 Q96SL1\r\n"
     ]
    }
   ],
   "source": [
    "!head amb_AllTimes.geneANDspID.txt"
   ]
  },
  {
   "cell_type": "code",
   "execution_count": null,
   "metadata": {},
   "outputs": [],
   "source": [
    "#now to get the GO IDs for each SP ID I will use the Uniprot mapping function here:\n",
    "# https://www.uniprot.org/uploadlists/"
   ]
  },
  {
   "cell_type": "code",
   "execution_count": 51,
   "metadata": {},
   "outputs": [
    {
     "name": "stdout",
     "output_type": "stream",
     "text": [
      "\r\n",
      "A8TX70\r\n",
      "E9Q5G3\r\n",
      "G5EFI8\r\n",
      "O14513\r\n",
      "O95714\r\n",
      "O95819\r\n",
      "P10394\r\n",
      "P36956\r\n",
      "P49109\r\n",
      "Q07352\r\n",
      "Q09575\r\n",
      "Q2EMV9\r\n",
      "Q3V1H9\r\n",
      "Q4LDE5\r\n",
      "Q5F3G0\r\n",
      "Q5RBN9\r\n",
      "Q6I6G8\r\n",
      "Q8C5S7\r\n",
      "Q8L706\r\n",
      "Q8N9B5\r\n",
      "Q8NEN9\r\n",
      "Q8WUA2\r\n",
      "Q96AY4\r\n",
      "Q96DM1\r\n",
      "Q96SL1\r\n",
      "Q99797\r\n",
      "Q9NQP4\r\n",
      "Q9NZJ4\r\n",
      "Q9QZM5\r\n",
      "Q9SMT7\r\n"
     ]
    }
   ],
   "source": [
    "!cat *.geneANDspID.txt | awk '{print $6}' | sort | uniq"
   ]
  },
  {
   "cell_type": "code",
   "execution_count": null,
   "metadata": {},
   "outputs": [],
   "source": []
  }
 ],
 "metadata": {
  "kernelspec": {
   "display_name": "Python 3",
   "language": "python",
   "name": "python3"
  },
  "language_info": {
   "codemirror_mode": {
    "name": "ipython",
    "version": 3
   },
   "file_extension": ".py",
   "mimetype": "text/x-python",
   "name": "python",
   "nbconvert_exporter": "python",
   "pygments_lexer": "ipython3",
   "version": "3.6.8"
  }
 },
 "nbformat": 4,
 "nbformat_minor": 2
}
