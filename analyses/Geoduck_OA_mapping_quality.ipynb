{
 "cells": [
  {
   "cell_type": "code",
   "execution_count": null,
   "metadata": {
    "collapsed": true
   },
   "outputs": [],
   "source": [
    "#FASTQC and trimming info here: http://onsnetwork.org/kubu4/2018/05/16/trimgalorefastqcmultiqc-trimgalore-rrbs-geoduck-bs-seq-fastq-data-directional/"
   ]
  },
  {
   "cell_type": "code",
   "execution_count": null,
   "metadata": {
    "collapsed": true
   },
   "outputs": [],
   "source": [
    "!mkdir /Volumes/web/metacarcinus/Pgenerosa/GENOMES"
   ]
  },
  {
   "cell_type": "code",
   "execution_count": null,
   "metadata": {
    "collapsed": true
   },
   "outputs": [],
   "source": [
    "!mkdir /Volumes/web/metacarcinus/Pgenerosa/GENOMES/v070"
   ]
  },
  {
   "cell_type": "code",
   "execution_count": 3,
   "metadata": {
    "collapsed": true
   },
   "outputs": [],
   "source": [
    "!mkdir /Volumes/web/metacarcinus/Pgenerosa/GENOMES/v070/Bismark_genome"
   ]
  },
  {
   "cell_type": "code",
   "execution_count": null,
   "metadata": {
    "collapsed": true
   },
   "outputs": [],
   "source": [
    "#copy Pgenerosa genome v070 to metacarcinus folder to build genome"
   ]
  },
  {
   "cell_type": "code",
   "execution_count": null,
   "metadata": {
    "collapsed": true
   },
   "outputs": [],
   "source": [
    "!cp /Volumes/web-1/halfshell/genomic-databank/Pgenerosa_v070.fa /Volumes/web/metacarcinus/Pgenerosa/GENOMES/v070"
   ]
  },
  {
   "cell_type": "code",
   "execution_count": null,
   "metadata": {
    "collapsed": true
   },
   "outputs": [],
   "source": [
    "#move to the directory where we want to save the genome"
   ]
  },
  {
   "cell_type": "code",
   "execution_count": 1,
   "metadata": {
    "collapsed": true
   },
   "outputs": [],
   "source": [
    "!cd /Volumes/web/metacarcinus/Pgenerosa/GENOMES/v070"
   ]
  },
  {
   "cell_type": "code",
   "execution_count": null,
   "metadata": {
    "collapsed": true
   },
   "outputs": [],
   "source": [
    "#build Bismark genome using ostrich"
   ]
  },
  {
   "cell_type": "code",
   "execution_count": null,
   "metadata": {
    "collapsed": true
   },
   "outputs": [],
   "source": [
    "!/Users/Shared/bioinformatics/bismark_v0.15.0/bismark_genome_preparation \\\n",
    "--path_to_bowtie /Users/Shared/bioinformatics/bowtie2-2.2.9//bowtie2 \\\n",
    "--verbose /Volumes/web/metacarcinus/Pgenerosa/GENOMES/v070 \\\n",
    "2> /Volumes/web/metacarcinus/Pgenerosa/GENOMES/v070/genomeprep.err"
   ]
  },
  {
   "cell_type": "code",
   "execution_count": null,
   "metadata": {
    "collapsed": true
   },
   "outputs": [],
   "source": [
    "#genomeprep.err says \"Warning: Encountered reference sequence with only gaps\""
   ]
  },
  {
   "cell_type": "code",
   "execution_count": null,
   "metadata": {
    "collapsed": true
   },
   "outputs": [],
   "source": [
    "#Checking .fa file for gaps and missing sequence (http://seqanswers.com/forums/showthread.php?t=6301)"
   ]
  },
  {
   "cell_type": "code",
   "execution_count": null,
   "metadata": {
    "collapsed": true
   },
   "outputs": [],
   "source": [
    "#first make short file with only the chromosome and the first line of sequence"
   ]
  },
  {
   "cell_type": "code",
   "execution_count": null,
   "metadata": {
    "collapsed": true
   },
   "outputs": [],
   "source": [
    "!grep '>'  -A 1 /Volumes/web/metacarcinus/Pgenerosa/GENOMES/v070/Pgenerosa_v070.fa \\\n",
    "> /Volumes/web/metacarcinus/Pgenerosa/GENOMES/v070/missing_seq_check"
   ]
  },
  {
   "cell_type": "code",
   "execution_count": null,
   "metadata": {
    "collapsed": true
   },
   "outputs": [],
   "source": [
    "#then check for chromosomes where there is no sequence (based on this code:  https://www.biostars.org/p/78786/)"
   ]
  },
  {
   "cell_type": "code",
   "execution_count": 2,
   "metadata": {},
   "outputs": [
    {
     "name": "stdout",
     "output_type": "stream",
     "text": [
      ">"
     ]
    }
   ],
   "source": [
    "!awk 'BEGIN {RS = \">\" ; FS = \"\\n\" ; ORS = \"\"} {if (!$2) print \">\"$0}' \\\n",
    "/Volumes/web/metacarcinus/Pgenerosa/GENOMES/v070/missing_seq_check"
   ]
  },
  {
   "cell_type": "code",
   "execution_count": null,
   "metadata": {
    "collapsed": true
   },
   "outputs": [],
   "source": [
    "#doesn't seem to be any chromosomes where sequence is missing \n",
    "#not sure why the carrot printed out\n",
    "#running another check in case there is a line with no chromosome name"
   ]
  },
  {
   "cell_type": "code",
   "execution_count": 3,
   "metadata": {
    "collapsed": true
   },
   "outputs": [],
   "source": [
    "!grep '>$' /Volumes/web/metacarcinus/Pgenerosa/GENOMES/v070/missing_seq_check"
   ]
  },
  {
   "cell_type": "code",
   "execution_count": null,
   "metadata": {
    "collapsed": true
   },
   "outputs": [],
   "source": [
    "#confirmed there are no chromosomes without any sequence or random carrots\n",
    "#now testing for NNNNs in seqeuence"
   ]
  },
  {
   "cell_type": "code",
   "execution_count": 5,
   "metadata": {},
   "outputs": [
    {
     "name": "stdout",
     "output_type": "stream",
     "text": [
      "GNNNNNNNNNNAACTGTTACACAATGCATCATCCGAGGATCTTTTGTAATAATAAGTATCACCCTCCTGACTCAGACCAA\n",
      "TTTTTTCTCCCACCCGGAATGTTTTCTATCCCCTTCCCCCCCNNNNNNNNNNNNNNNNNNNNNNNNNNNNNNNNNNNNNN\n",
      "NNNNNNNNNNNNNNNNNNNNNNNNNNNNNNNNNNNNNNNNNNNNNNNNNNNNNNNNNNNNNNCAAACAGCATGGGAACAA\n",
      "TACATTAGGAACTTTGCTATAAAGGACAGTAAGATAATTGACAAAAATGTACAGATGTATACTTAAAAGTNNNNNNNNNN\n",
      "NNNNNNNNNNNNNNNNNNNNNNNNNNNNNNNNNNNNNNNNNNNNNNNNNNNNNNNNNNNNNNNNNNNNNNNNNNNNNNNN\n",
      "NNNNNNNNNNGACATGTTCCCTACTGTCATTTCCAGATCTGTGAGACATGTTCCCTAATGTCATTTCCATCATTGTGAGA\n",
      "ACCGGTAGAGGGTACTGCATAGAATAATGTTCAGAATATATATANNNNNNNNNNGATACCGGTAGAGGGTACTGCATAGA\n",
      "TTGCATAGGAGACTAGACAGAAGATTTTTTTTTTCGATCTGAAATTCAAGATGGCCGCCATTACTAAAAATNNNNNNNNN\n",
      "NNNNNNNNNNNNNNNNNNNNNNNNNNNNNNNNNNNNNNNNNNNNNNNNNNNNNNNNNNNNNNNNNNNNNNNNNNNNNNNN\n",
      "NNNNNNNNNNNATGTAAATGATTTTGCCTATATCTTCACAGAAGCATTGTTTGGTGAAGGAGGTTCAGATTTGTAAAAAT\n",
      "^C\n"
     ]
    }
   ],
   "source": [
    "!grep NNNN /Volumes/web/metacarcinus/Pgenerosa/GENOMES/v070/Pgenerosa_v070.fa |head"
   ]
  },
  {
   "cell_type": "code",
   "execution_count": null,
   "metadata": {
    "collapsed": true
   },
   "outputs": [],
   "source": [
    "#lots of lines contain many Ns. Is this problematic? No, see issue on GitHub"
   ]
  },
  {
   "cell_type": "code",
   "execution_count": null,
   "metadata": {
    "collapsed": true
   },
   "outputs": [],
   "source": [
    "#test alignments using subset of data. \n",
    "#Ran 20181011_bmrkAS1.2I60test_Pgenr.sh on mox which aligned 10K reads per sample\n",
    "#transferred everything from gscratch on mox to Gannet\n",
    "#rsync --archive --progress --verbose strigg@mox.hyak.uw.edu:/gscratch/srlab/strigg/analyses/20181011 ."
   ]
  },
  {
   "cell_type": "code",
   "execution_count": null,
   "metadata": {
    "collapsed": true
   },
   "outputs": [],
   "source": [
    "#report mapping efficiency and genome coverage"
   ]
  },
  {
   "cell_type": "code",
   "execution_count": 4,
   "metadata": {},
   "outputs": [],
   "source": [
    "#create summary report of mapping efficiency and dedup. \n",
    "!cat /Volumes/web/metacarcinus/Pgenerosa/20181011/*PE_report.txt | \\\n",
    "grep 'Mapping\\ efficiency\\:' | \\\n",
    "cat - /Volumes/web/metacarcinus/Pgenerosa/20181011/*.deduplication_report.txt | \\\n",
    "grep 'Mapping\\ efficiency\\:\\|removed' \\\n",
    "> /Volumes/web/metacarcinus/Pgenerosa/20181011/EPI_mapping_dedup_summary.txt"
   ]
  },
  {
   "cell_type": "code",
   "execution_count": 5,
   "metadata": {
    "collapsed": true
   },
   "outputs": [
    {
     "name": "stdout",
     "output_type": "stream",
     "text": [
      "\n",
      " *** Bismark methylation extractor version v0.20.0 ***\n",
      "\n",
      "Output will be written into the directory: /Volumes/web/metacarcinus/Pgenerosa/\n",
      "Trying to determine the type of mapping from the SAM header line of file /Volumes/web/metacarcinus/Pgenerosa/EPI-103_S27_L005_R1_001_val_1_bismark_bt2_pe.deduplicated.bam\n",
      "[E::hts_open_format] Failed to open file /Volumes/web/metacarcinus/Pgenerosa/EPI-103_S27_L005_R1_001_val_1_bismark_bt2_pe.deduplicated.bam\n",
      "samtools view: failed to open \"/Volumes/web/metacarcinus/Pgenerosa/EPI-103_S27_L005_R1_001_val_1_bismark_bt2_pe.deduplicated.bam\" for reading: No such file or directory\n",
      "Setting core usage to single-threaded (default). Consider using --multicore <int> to speed up the extraction process.\n",
      "\n",
      "Summarising Bismark methylation extractor parameters:\n",
      "===============================================================\n",
      "Number of cores to be used: 1\n",
      "Output path specified as: /Volumes/web/metacarcinus/Pgenerosa/\n",
      "\n",
      "\n",
      "Summarising bedGraph parameters:\n",
      "===============================================================\n",
      "Generating additional output in bedGraph and coverage format\n",
      "bedGraph format:\t<Chromosome> <Start Position> <End Position> <Methylation Percentage>\n",
      "coverage format:\t<Chromosome> <Start Position> <End Position> <Methylation Percentage> <count methylated> <count non-methylated>\n",
      "\n",
      "Using a cutoff of 1 read(s) to report cytosine positions\n",
      "Reporting and sorting cytosine methylation information in CpG context only (default)\n",
      "The bedGraph UNIX sort command will use the following memory setting:\t'2G'. Temporary directory used for sorting is the output directory\n",
      "\n",
      "Checking file >>/Volumes/web/metacarcinus/Pgenerosa/EPI-103_S27_L005_R1_001_val_1_bismark_bt2_pe.deduplicated.bam<< for signs of file truncation...\n",
      "Captured error message: '[E::hts_open_format] Failed to open file /Volumes/web/metacarcinus/Pgenerosa/EPI-103_S27_L005_R1_001_val_1_bismark_bt2_pe.deduplicated.bam'\n",
      "\n",
      "[ERROR] The file appears to be truncated, please ensure that there were no errors while copying the file!!! Exiting...\n",
      "\n",
      "\n",
      " *** Bismark methylation extractor version v0.20.0 ***\n",
      "\n",
      "Output will be written into the directory: /Volumes/web/metacarcinus/Pgenerosa/\n",
      "Trying to determine the type of mapping from the SAM header line of file /Volumes/web/metacarcinus/Pgenerosa/EPI-104_S28_L005_R1_001_val_1_bismark_bt2_pe.deduplicated.bam\n",
      "[E::hts_open_format] Failed to open file /Volumes/web/metacarcinus/Pgenerosa/EPI-104_S28_L005_R1_001_val_1_bismark_bt2_pe.deduplicated.bam\n",
      "samtools view: failed to open \"/Volumes/web/metacarcinus/Pgenerosa/EPI-104_S28_L005_R1_001_val_1_bismark_bt2_pe.deduplicated.bam\" for reading: No such file or directory\n",
      "Setting core usage to single-threaded (default). Consider using --multicore <int> to speed up the extraction process.\n",
      "\n",
      "Summarising Bismark methylation extractor parameters:\n",
      "===============================================================\n",
      "Number of cores to be used: 1\n",
      "Output path specified as: /Volumes/web/metacarcinus/Pgenerosa/\n",
      "\n",
      "\n",
      "Summarising bedGraph parameters:\n",
      "===============================================================\n",
      "Generating additional output in bedGraph and coverage format\n",
      "bedGraph format:\t<Chromosome> <Start Position> <End Position> <Methylation Percentage>\n",
      "coverage format:\t<Chromosome> <Start Position> <End Position> <Methylation Percentage> <count methylated> <count non-methylated>\n",
      "\n",
      "Using a cutoff of 1 read(s) to report cytosine positions\n",
      "Reporting and sorting cytosine methylation information in CpG context only (default)\n",
      "The bedGraph UNIX sort command will use the following memory setting:\t'2G'. Temporary directory used for sorting is the output directory\n",
      "\n",
      "Checking file >>/Volumes/web/metacarcinus/Pgenerosa/EPI-104_S28_L005_R1_001_val_1_bismark_bt2_pe.deduplicated.bam<< for signs of file truncation...\n",
      "Captured error message: '[E::hts_open_format] Failed to open file /Volumes/web/metacarcinus/Pgenerosa/EPI-104_S28_L005_R1_001_val_1_bismark_bt2_pe.deduplicated.bam'\n",
      "\n",
      "[ERROR] The file appears to be truncated, please ensure that there were no errors while copying the file!!! Exiting...\n",
      "\n",
      "\n",
      " *** Bismark methylation extractor version v0.20.0 ***\n",
      "\n",
      "Output will be written into the directory: /Volumes/web/metacarcinus/Pgenerosa/\n",
      "Trying to determine the type of mapping from the SAM header line of file /Volumes/web/metacarcinus/Pgenerosa/EPI-111_S29_L005_R1_001_val_1_bismark_bt2_pe.deduplicated.bam\n",
      "[E::hts_open_format] Failed to open file /Volumes/web/metacarcinus/Pgenerosa/EPI-111_S29_L005_R1_001_val_1_bismark_bt2_pe.deduplicated.bam\n",
      "samtools view: failed to open \"/Volumes/web/metacarcinus/Pgenerosa/EPI-111_S29_L005_R1_001_val_1_bismark_bt2_pe.deduplicated.bam\" for reading: No such file or directory\n",
      "Setting core usage to single-threaded (default). Consider using --multicore <int> to speed up the extraction process.\n",
      "\n",
      "Summarising Bismark methylation extractor parameters:\n",
      "===============================================================\n",
      "Number of cores to be used: 1\n",
      "Output path specified as: /Volumes/web/metacarcinus/Pgenerosa/\n",
      "\n",
      "\n",
      "Summarising bedGraph parameters:\n",
      "===============================================================\n",
      "Generating additional output in bedGraph and coverage format\n",
      "bedGraph format:\t<Chromosome> <Start Position> <End Position> <Methylation Percentage>\n",
      "coverage format:\t<Chromosome> <Start Position> <End Position> <Methylation Percentage> <count methylated> <count non-methylated>\n",
      "\n",
      "Using a cutoff of 1 read(s) to report cytosine positions\n",
      "Reporting and sorting cytosine methylation information in CpG context only (default)\n",
      "The bedGraph UNIX sort command will use the following memory setting:\t'2G'. Temporary directory used for sorting is the output directory\n",
      "\n",
      "Checking file >>/Volumes/web/metacarcinus/Pgenerosa/EPI-111_S29_L005_R1_001_val_1_bismark_bt2_pe.deduplicated.bam<< for signs of file truncation...\n",
      "Captured error message: '[E::hts_open_format] Failed to open file /Volumes/web/metacarcinus/Pgenerosa/EPI-111_S29_L005_R1_001_val_1_bismark_bt2_pe.deduplicated.bam'\n",
      "\n",
      "[ERROR] The file appears to be truncated, please ensure that there were no errors while copying the file!!! Exiting...\n",
      "\n",
      "\n",
      " *** Bismark methylation extractor version v0.20.0 ***\n",
      "\n",
      "Output will be written into the directory: /Volumes/web/metacarcinus/Pgenerosa/\n",
      "Trying to determine the type of mapping from the SAM header line of file /Volumes/web/metacarcinus/Pgenerosa/EPI-113_S30_L005_R1_001_val_1_bismark_bt2_pe.deduplicated.bam\n",
      "[E::hts_open_format] Failed to open file /Volumes/web/metacarcinus/Pgenerosa/EPI-113_S30_L005_R1_001_val_1_bismark_bt2_pe.deduplicated.bam\n",
      "samtools view: failed to open \"/Volumes/web/metacarcinus/Pgenerosa/EPI-113_S30_L005_R1_001_val_1_bismark_bt2_pe.deduplicated.bam\" for reading: No such file or directory\n",
      "Setting core usage to single-threaded (default). Consider using --multicore <int> to speed up the extraction process.\n",
      "\n",
      "Summarising Bismark methylation extractor parameters:\n",
      "===============================================================\n",
      "Number of cores to be used: 1\n",
      "Output path specified as: /Volumes/web/metacarcinus/Pgenerosa/\n",
      "\n",
      "\n",
      "Summarising bedGraph parameters:\n",
      "===============================================================\n",
      "Generating additional output in bedGraph and coverage format\n",
      "bedGraph format:\t<Chromosome> <Start Position> <End Position> <Methylation Percentage>\n",
      "coverage format:\t<Chromosome> <Start Position> <End Position> <Methylation Percentage> <count methylated> <count non-methylated>\n",
      "\n",
      "Using a cutoff of 1 read(s) to report cytosine positions\n",
      "Reporting and sorting cytosine methylation information in CpG context only (default)\n",
      "The bedGraph UNIX sort command will use the following memory setting:\t'2G'. Temporary directory used for sorting is the output directory\n",
      "\n",
      "Checking file >>/Volumes/web/metacarcinus/Pgenerosa/EPI-113_S30_L005_R1_001_val_1_bismark_bt2_pe.deduplicated.bam<< for signs of file truncation...\n",
      "Captured error message: '[E::hts_open_format] Failed to open file /Volumes/web/metacarcinus/Pgenerosa/EPI-113_S30_L005_R1_001_val_1_bismark_bt2_pe.deduplicated.bam'\n",
      "\n",
      "[ERROR] The file appears to be truncated, please ensure that there were no errors while copying the file!!! Exiting...\n",
      "\n",
      "\n",
      " *** Bismark methylation extractor version v0.20.0 ***\n",
      "\n",
      "Output will be written into the directory: /Volumes/web/metacarcinus/Pgenerosa/\n",
      "Trying to determine the type of mapping from the SAM header line of file /Volumes/web/metacarcinus/Pgenerosa/EPI-119_S31_L005_R1_001_val_1_bismark_bt2_pe.deduplicated.bam\n"
     ]
    },
    {
     "name": "stdout",
     "output_type": "stream",
     "text": [
      "[E::hts_open_format] Failed to open file /Volumes/web/metacarcinus/Pgenerosa/EPI-119_S31_L005_R1_001_val_1_bismark_bt2_pe.deduplicated.bam\n",
      "samtools view: failed to open \"/Volumes/web/metacarcinus/Pgenerosa/EPI-119_S31_L005_R1_001_val_1_bismark_bt2_pe.deduplicated.bam\" for reading: No such file or directory\n",
      "Setting core usage to single-threaded (default). Consider using --multicore <int> to speed up the extraction process.\n",
      "\n",
      "Summarising Bismark methylation extractor parameters:\n",
      "===============================================================\n",
      "Number of cores to be used: 1\n",
      "Output path specified as: /Volumes/web/metacarcinus/Pgenerosa/\n",
      "\n",
      "\n",
      "Summarising bedGraph parameters:\n",
      "===============================================================\n",
      "Generating additional output in bedGraph and coverage format\n",
      "bedGraph format:\t<Chromosome> <Start Position> <End Position> <Methylation Percentage>\n",
      "coverage format:\t<Chromosome> <Start Position> <End Position> <Methylation Percentage> <count methylated> <count non-methylated>\n",
      "\n",
      "Using a cutoff of 1 read(s) to report cytosine positions\n",
      "Reporting and sorting cytosine methylation information in CpG context only (default)\n",
      "The bedGraph UNIX sort command will use the following memory setting:\t'2G'. Temporary directory used for sorting is the output directory\n",
      "\n",
      "Checking file >>/Volumes/web/metacarcinus/Pgenerosa/EPI-119_S31_L005_R1_001_val_1_bismark_bt2_pe.deduplicated.bam<< for signs of file truncation...\n",
      "Captured error message: '[E::hts_open_format] Failed to open file /Volumes/web/metacarcinus/Pgenerosa/EPI-119_S31_L005_R1_001_val_1_bismark_bt2_pe.deduplicated.bam'\n",
      "\n",
      "[ERROR] The file appears to be truncated, please ensure that there were no errors while copying the file!!! Exiting...\n",
      "\n",
      "\n",
      " *** Bismark methylation extractor version v0.20.0 ***\n",
      "\n",
      "Output will be written into the directory: /Volumes/web/metacarcinus/Pgenerosa/\n",
      "Trying to determine the type of mapping from the SAM header line of file /Volumes/web/metacarcinus/Pgenerosa/EPI-120_S32_L005_R1_001_val_1_bismark_bt2_pe.deduplicated.bam\n",
      "[E::hts_open_format] Failed to open file /Volumes/web/metacarcinus/Pgenerosa/EPI-120_S32_L005_R1_001_val_1_bismark_bt2_pe.deduplicated.bam\n",
      "samtools view: failed to open \"/Volumes/web/metacarcinus/Pgenerosa/EPI-120_S32_L005_R1_001_val_1_bismark_bt2_pe.deduplicated.bam\" for reading: No such file or directory\n",
      "Setting core usage to single-threaded (default). Consider using --multicore <int> to speed up the extraction process.\n",
      "\n",
      "Summarising Bismark methylation extractor parameters:\n",
      "===============================================================\n",
      "Number of cores to be used: 1\n",
      "Output path specified as: /Volumes/web/metacarcinus/Pgenerosa/\n",
      "\n",
      "\n",
      "Summarising bedGraph parameters:\n",
      "===============================================================\n",
      "Generating additional output in bedGraph and coverage format\n",
      "bedGraph format:\t<Chromosome> <Start Position> <End Position> <Methylation Percentage>\n",
      "coverage format:\t<Chromosome> <Start Position> <End Position> <Methylation Percentage> <count methylated> <count non-methylated>\n",
      "\n",
      "Using a cutoff of 1 read(s) to report cytosine positions\n",
      "Reporting and sorting cytosine methylation information in CpG context only (default)\n",
      "The bedGraph UNIX sort command will use the following memory setting:\t'2G'. Temporary directory used for sorting is the output directory\n",
      "\n",
      "Checking file >>/Volumes/web/metacarcinus/Pgenerosa/EPI-120_S32_L005_R1_001_val_1_bismark_bt2_pe.deduplicated.bam<< for signs of file truncation...\n",
      "Captured error message: '[E::hts_open_format] Failed to open file /Volumes/web/metacarcinus/Pgenerosa/EPI-120_S32_L005_R1_001_val_1_bismark_bt2_pe.deduplicated.bam'\n",
      "\n",
      "[ERROR] The file appears to be truncated, please ensure that there were no errors while copying the file!!! Exiting...\n",
      "\n",
      "\n",
      " *** Bismark methylation extractor version v0.20.0 ***\n",
      "\n",
      "Output will be written into the directory: /Volumes/web/metacarcinus/Pgenerosa/\n",
      "Trying to determine the type of mapping from the SAM header line of file /Volumes/web/metacarcinus/Pgenerosa/EPI-127_S33_L005_R1_001_val_1_bismark_bt2_pe.deduplicated.bam\n",
      "[E::hts_open_format] Failed to open file /Volumes/web/metacarcinus/Pgenerosa/EPI-127_S33_L005_R1_001_val_1_bismark_bt2_pe.deduplicated.bam\n",
      "samtools view: failed to open \"/Volumes/web/metacarcinus/Pgenerosa/EPI-127_S33_L005_R1_001_val_1_bismark_bt2_pe.deduplicated.bam\" for reading: No such file or directory\n",
      "Setting core usage to single-threaded (default). Consider using --multicore <int> to speed up the extraction process.\n",
      "\n",
      "Summarising Bismark methylation extractor parameters:\n",
      "===============================================================\n",
      "Number of cores to be used: 1\n",
      "Output path specified as: /Volumes/web/metacarcinus/Pgenerosa/\n",
      "\n",
      "\n",
      "Summarising bedGraph parameters:\n",
      "===============================================================\n",
      "Generating additional output in bedGraph and coverage format\n",
      "bedGraph format:\t<Chromosome> <Start Position> <End Position> <Methylation Percentage>\n",
      "coverage format:\t<Chromosome> <Start Position> <End Position> <Methylation Percentage> <count methylated> <count non-methylated>\n",
      "\n",
      "Using a cutoff of 1 read(s) to report cytosine positions\n",
      "Reporting and sorting cytosine methylation information in CpG context only (default)\n",
      "The bedGraph UNIX sort command will use the following memory setting:\t'2G'. Temporary directory used for sorting is the output directory\n",
      "\n",
      "Checking file >>/Volumes/web/metacarcinus/Pgenerosa/EPI-127_S33_L005_R1_001_val_1_bismark_bt2_pe.deduplicated.bam<< for signs of file truncation...\n",
      "Captured error message: '[E::hts_open_format] Failed to open file /Volumes/web/metacarcinus/Pgenerosa/EPI-127_S33_L005_R1_001_val_1_bismark_bt2_pe.deduplicated.bam'\n",
      "\n",
      "[ERROR] The file appears to be truncated, please ensure that there were no errors while copying the file!!! Exiting...\n",
      "\n",
      "\n",
      " *** Bismark methylation extractor version v0.20.0 ***\n",
      "\n",
      "Output will be written into the directory: /Volumes/web/metacarcinus/Pgenerosa/\n",
      "Trying to determine the type of mapping from the SAM header line of file /Volumes/web/metacarcinus/Pgenerosa/EPI-128_S34_L005_R1_001_val_1_bismark_bt2_pe.deduplicated.bam\n",
      "[E::hts_open_format] Failed to open file /Volumes/web/metacarcinus/Pgenerosa/EPI-128_S34_L005_R1_001_val_1_bismark_bt2_pe.deduplicated.bam\n",
      "samtools view: failed to open \"/Volumes/web/metacarcinus/Pgenerosa/EPI-128_S34_L005_R1_001_val_1_bismark_bt2_pe.deduplicated.bam\" for reading: No such file or directory\n",
      "Setting core usage to single-threaded (default). Consider using --multicore <int> to speed up the extraction process.\n",
      "\n",
      "Summarising Bismark methylation extractor parameters:\n",
      "===============================================================\n",
      "Number of cores to be used: 1\n",
      "Output path specified as: /Volumes/web/metacarcinus/Pgenerosa/\n",
      "\n",
      "\n",
      "Summarising bedGraph parameters:\n",
      "===============================================================\n",
      "Generating additional output in bedGraph and coverage format\n",
      "bedGraph format:\t<Chromosome> <Start Position> <End Position> <Methylation Percentage>\n",
      "coverage format:\t<Chromosome> <Start Position> <End Position> <Methylation Percentage> <count methylated> <count non-methylated>\n",
      "\n",
      "Using a cutoff of 1 read(s) to report cytosine positions\n",
      "Reporting and sorting cytosine methylation information in CpG context only (default)\n",
      "The bedGraph UNIX sort command will use the following memory setting:\t'2G'. Temporary directory used for sorting is the output directory\n",
      "\n",
      "Checking file >>/Volumes/web/metacarcinus/Pgenerosa/EPI-128_S34_L005_R1_001_val_1_bismark_bt2_pe.deduplicated.bam<< for signs of file truncation...\n",
      "Captured error message: '[E::hts_open_format] Failed to open file /Volumes/web/metacarcinus/Pgenerosa/EPI-128_S34_L005_R1_001_val_1_bismark_bt2_pe.deduplicated.bam'\n",
      "\n",
      "[ERROR] The file appears to be truncated, please ensure that there were no errors while copying the file!!! Exiting...\n",
      "\n",
      "\n",
      " *** Bismark methylation extractor version v0.20.0 ***\n",
      "\n",
      "Output will be written into the directory: /Volumes/web/metacarcinus/Pgenerosa/\n",
      "Trying to determine the type of mapping from the SAM header line of file /Volumes/web/metacarcinus/Pgenerosa/EPI-135_S35_L005_R1_001_val_1_bismark_bt2_pe.deduplicated.bam\n",
      "[E::hts_open_format] Failed to open file /Volumes/web/metacarcinus/Pgenerosa/EPI-135_S35_L005_R1_001_val_1_bismark_bt2_pe.deduplicated.bam\n",
      "samtools view: failed to open \"/Volumes/web/metacarcinus/Pgenerosa/EPI-135_S35_L005_R1_001_val_1_bismark_bt2_pe.deduplicated.bam\" for reading: No such file or directory\n",
      "Setting core usage to single-threaded (default). Consider using --multicore <int> to speed up the extraction process.\n",
      "\n",
      "Summarising Bismark methylation extractor parameters:\n",
      "===============================================================\n",
      "Number of cores to be used: 1\n",
      "Output path specified as: /Volumes/web/metacarcinus/Pgenerosa/\n"
     ]
    },
    {
     "name": "stdout",
     "output_type": "stream",
     "text": [
      "\n",
      "\n",
      "Summarising bedGraph parameters:\n",
      "===============================================================\n",
      "Generating additional output in bedGraph and coverage format\n",
      "bedGraph format:\t<Chromosome> <Start Position> <End Position> <Methylation Percentage>\n",
      "coverage format:\t<Chromosome> <Start Position> <End Position> <Methylation Percentage> <count methylated> <count non-methylated>\n",
      "\n",
      "Using a cutoff of 1 read(s) to report cytosine positions\n",
      "Reporting and sorting cytosine methylation information in CpG context only (default)\n",
      "The bedGraph UNIX sort command will use the following memory setting:\t'2G'. Temporary directory used for sorting is the output directory\n",
      "\n",
      "Checking file >>/Volumes/web/metacarcinus/Pgenerosa/EPI-135_S35_L005_R1_001_val_1_bismark_bt2_pe.deduplicated.bam<< for signs of file truncation...\n",
      "Captured error message: '[E::hts_open_format] Failed to open file /Volumes/web/metacarcinus/Pgenerosa/EPI-135_S35_L005_R1_001_val_1_bismark_bt2_pe.deduplicated.bam'\n",
      "\n",
      "[ERROR] The file appears to be truncated, please ensure that there were no errors while copying the file!!! Exiting...\n",
      "\n",
      "\n",
      " *** Bismark methylation extractor version v0.20.0 ***\n",
      "\n",
      "Output will be written into the directory: /Volumes/web/metacarcinus/Pgenerosa/\n",
      "Trying to determine the type of mapping from the SAM header line of file /Volumes/web/metacarcinus/Pgenerosa/EPI-136_S36_L005_R1_001_val_1_bismark_bt2_pe.deduplicated.bam\n",
      "[E::hts_open_format] Failed to open file /Volumes/web/metacarcinus/Pgenerosa/EPI-136_S36_L005_R1_001_val_1_bismark_bt2_pe.deduplicated.bam\n",
      "samtools view: failed to open \"/Volumes/web/metacarcinus/Pgenerosa/EPI-136_S36_L005_R1_001_val_1_bismark_bt2_pe.deduplicated.bam\" for reading: No such file or directory\n",
      "Setting core usage to single-threaded (default). Consider using --multicore <int> to speed up the extraction process.\n",
      "\n",
      "Summarising Bismark methylation extractor parameters:\n",
      "===============================================================\n",
      "Number of cores to be used: 1\n",
      "Output path specified as: /Volumes/web/metacarcinus/Pgenerosa/\n",
      "\n",
      "\n",
      "Summarising bedGraph parameters:\n",
      "===============================================================\n",
      "Generating additional output in bedGraph and coverage format\n",
      "bedGraph format:\t<Chromosome> <Start Position> <End Position> <Methylation Percentage>\n",
      "coverage format:\t<Chromosome> <Start Position> <End Position> <Methylation Percentage> <count methylated> <count non-methylated>\n",
      "\n",
      "Using a cutoff of 1 read(s) to report cytosine positions\n",
      "Reporting and sorting cytosine methylation information in CpG context only (default)\n",
      "The bedGraph UNIX sort command will use the following memory setting:\t'2G'. Temporary directory used for sorting is the output directory\n",
      "\n",
      "Checking file >>/Volumes/web/metacarcinus/Pgenerosa/EPI-136_S36_L005_R1_001_val_1_bismark_bt2_pe.deduplicated.bam<< for signs of file truncation...\n",
      "Captured error message: '[E::hts_open_format] Failed to open file /Volumes/web/metacarcinus/Pgenerosa/EPI-136_S36_L005_R1_001_val_1_bismark_bt2_pe.deduplicated.bam'\n",
      "\n",
      "[ERROR] The file appears to be truncated, please ensure that there were no errors while copying the file!!! Exiting...\n",
      "\n",
      "\n",
      " *** Bismark methylation extractor version v0.20.0 ***\n",
      "\n",
      "Output will be written into the directory: /Volumes/web/metacarcinus/Pgenerosa/\n",
      "Trying to determine the type of mapping from the SAM header line of file /Volumes/web/metacarcinus/Pgenerosa/EPI-143_S37_L005_R1_001_val_1_bismark_bt2_pe.deduplicated.bam\n",
      "[E::hts_open_format] Failed to open file /Volumes/web/metacarcinus/Pgenerosa/EPI-143_S37_L005_R1_001_val_1_bismark_bt2_pe.deduplicated.bam\n",
      "samtools view: failed to open \"/Volumes/web/metacarcinus/Pgenerosa/EPI-143_S37_L005_R1_001_val_1_bismark_bt2_pe.deduplicated.bam\" for reading: No such file or directory\n",
      "Setting core usage to single-threaded (default). Consider using --multicore <int> to speed up the extraction process.\n",
      "\n",
      "Summarising Bismark methylation extractor parameters:\n",
      "===============================================================\n",
      "Number of cores to be used: 1\n",
      "Output path specified as: /Volumes/web/metacarcinus/Pgenerosa/\n",
      "\n",
      "\n",
      "Summarising bedGraph parameters:\n",
      "===============================================================\n",
      "Generating additional output in bedGraph and coverage format\n",
      "bedGraph format:\t<Chromosome> <Start Position> <End Position> <Methylation Percentage>\n",
      "coverage format:\t<Chromosome> <Start Position> <End Position> <Methylation Percentage> <count methylated> <count non-methylated>\n",
      "\n",
      "Using a cutoff of 1 read(s) to report cytosine positions\n",
      "Reporting and sorting cytosine methylation information in CpG context only (default)\n",
      "The bedGraph UNIX sort command will use the following memory setting:\t'2G'. Temporary directory used for sorting is the output directory\n",
      "\n",
      "Checking file >>/Volumes/web/metacarcinus/Pgenerosa/EPI-143_S37_L005_R1_001_val_1_bismark_bt2_pe.deduplicated.bam<< for signs of file truncation...\n",
      "Captured error message: '[E::hts_open_format] Failed to open file /Volumes/web/metacarcinus/Pgenerosa/EPI-143_S37_L005_R1_001_val_1_bismark_bt2_pe.deduplicated.bam'\n",
      "\n",
      "[ERROR] The file appears to be truncated, please ensure that there were no errors while copying the file!!! Exiting...\n",
      "\n",
      "\n",
      " *** Bismark methylation extractor version v0.20.0 ***\n",
      "\n",
      "Output will be written into the directory: /Volumes/web/metacarcinus/Pgenerosa/\n",
      "Trying to determine the type of mapping from the SAM header line of file /Volumes/web/metacarcinus/Pgenerosa/EPI-145_S38_L005_R1_001_val_1_bismark_bt2_pe.deduplicated.bam\n",
      "[E::hts_open_format] Failed to open file /Volumes/web/metacarcinus/Pgenerosa/EPI-145_S38_L005_R1_001_val_1_bismark_bt2_pe.deduplicated.bam\n",
      "samtools view: failed to open \"/Volumes/web/metacarcinus/Pgenerosa/EPI-145_S38_L005_R1_001_val_1_bismark_bt2_pe.deduplicated.bam\" for reading: No such file or directory\n",
      "Setting core usage to single-threaded (default). Consider using --multicore <int> to speed up the extraction process.\n",
      "\n",
      "Summarising Bismark methylation extractor parameters:\n",
      "===============================================================\n",
      "Number of cores to be used: 1\n",
      "Output path specified as: /Volumes/web/metacarcinus/Pgenerosa/\n",
      "\n",
      "\n",
      "Summarising bedGraph parameters:\n",
      "===============================================================\n",
      "Generating additional output in bedGraph and coverage format\n",
      "bedGraph format:\t<Chromosome> <Start Position> <End Position> <Methylation Percentage>\n",
      "coverage format:\t<Chromosome> <Start Position> <End Position> <Methylation Percentage> <count methylated> <count non-methylated>\n",
      "\n",
      "Using a cutoff of 1 read(s) to report cytosine positions\n",
      "Reporting and sorting cytosine methylation information in CpG context only (default)\n",
      "The bedGraph UNIX sort command will use the following memory setting:\t'2G'. Temporary directory used for sorting is the output directory\n",
      "\n",
      "Checking file >>/Volumes/web/metacarcinus/Pgenerosa/EPI-145_S38_L005_R1_001_val_1_bismark_bt2_pe.deduplicated.bam<< for signs of file truncation...\n",
      "Captured error message: '[E::hts_open_format] Failed to open file /Volumes/web/metacarcinus/Pgenerosa/EPI-145_S38_L005_R1_001_val_1_bismark_bt2_pe.deduplicated.bam'\n",
      "\n",
      "[ERROR] The file appears to be truncated, please ensure that there were no errors while copying the file!!! Exiting...\n",
      "\n",
      "\n",
      " *** Bismark methylation extractor version v0.20.0 ***\n",
      "\n",
      "Output will be written into the directory: /Volumes/web/metacarcinus/Pgenerosa/\n",
      "Trying to determine the type of mapping from the SAM header line of file /Volumes/web/metacarcinus/Pgenerosa/EPI-151_S2_L002_R1_001_val_1_bismark_bt2_pe.deduplicated.bam\n",
      "[E::hts_open_format] Failed to open file /Volumes/web/metacarcinus/Pgenerosa/EPI-151_S2_L002_R1_001_val_1_bismark_bt2_pe.deduplicated.bam\n",
      "samtools view: failed to open \"/Volumes/web/metacarcinus/Pgenerosa/EPI-151_S2_L002_R1_001_val_1_bismark_bt2_pe.deduplicated.bam\" for reading: No such file or directory\n",
      "Setting core usage to single-threaded (default). Consider using --multicore <int> to speed up the extraction process.\n",
      "\n",
      "Summarising Bismark methylation extractor parameters:\n",
      "===============================================================\n",
      "Number of cores to be used: 1\n",
      "Output path specified as: /Volumes/web/metacarcinus/Pgenerosa/\n",
      "\n",
      "\n",
      "Summarising bedGraph parameters:\n",
      "===============================================================\n",
      "Generating additional output in bedGraph and coverage format\n",
      "bedGraph format:\t<Chromosome> <Start Position> <End Position> <Methylation Percentage>\n",
      "coverage format:\t<Chromosome> <Start Position> <End Position> <Methylation Percentage> <count methylated> <count non-methylated>\n",
      "\n",
      "Using a cutoff of 1 read(s) to report cytosine positions\n",
      "Reporting and sorting cytosine methylation information in CpG context only (default)\n",
      "The bedGraph UNIX sort command will use the following memory setting:\t'2G'. Temporary directory used for sorting is the output directory\n"
     ]
    },
    {
     "name": "stdout",
     "output_type": "stream",
     "text": [
      "^C\r\n"
     ]
    }
   ],
   "source": [
    "#run methylation extractor\n",
    "#This command isn't working yet...do I even need to run this?\n",
    "!find /Volumes/web/metacarcinus/Pgenerosa/20181011/*.deduplicated.bam \\\n",
    "| xargs basename -s _R1_001_val_1_bismark_bt2_pe.deduplicated.bam | \\\n",
    "xargs -I{} bismark_methylation_extractor --gzip -bedGraph \\\n",
    "/Volumes/web/metacarcinus/Pgenerosa/{}_R1_001_val_1_bismark_bt2_pe.deduplicated.bam \\\n",
    "-o /Volumes/web/metacarcinus/Pgenerosa/"
   ]
  },
  {
   "cell_type": "code",
   "execution_count": null,
   "metadata": {
    "collapsed": true
   },
   "outputs": [],
   "source": [
    "##compiling bam files and sorting"
   ]
  },
  {
   "cell_type": "code",
   "execution_count": 7,
   "metadata": {},
   "outputs": [],
   "source": [
    "%%bash\n",
    "find /Volumes/web/metacarcinus/Pgenerosa/20181011/*deduplicated.bam| \\\n",
    "xargs basename -s _R1_001_val_1_bismark_bt2_pe.deduplicated.bam | xargs -I{} /Users/Shelly/anaconda3/bin/samtools \\\n",
    "sort /Volumes/web/metacarcinus/Pgenerosa/20181011/{}_R1_001_val_1_bismark_bt2_pe.deduplicated.bam \\\n",
    "-o /Volumes/web/metacarcinus/Pgenerosa/20181011/{}_dedup.sorted.bam\n"
   ]
  }
 ],
 "metadata": {
  "kernelspec": {
   "display_name": "Python 3",
   "language": "python",
   "name": "python3"
  },
  "language_info": {
   "codemirror_mode": {
    "name": "ipython",
    "version": 3
   },
   "file_extension": ".py",
   "mimetype": "text/x-python",
   "name": "python",
   "nbconvert_exporter": "python",
   "pygments_lexer": "ipython3",
   "version": "3.6.3"
  }
 },
 "nbformat": 4,
 "nbformat_minor": 2
}
