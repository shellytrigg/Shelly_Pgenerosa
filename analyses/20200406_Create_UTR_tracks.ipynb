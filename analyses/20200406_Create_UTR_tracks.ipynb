{
 "cells": [
  {
   "cell_type": "code",
   "execution_count": null,
   "metadata": {},
   "outputs": [],
   "source": [
    "#try to make a promoter track"
   ]
  },
  {
   "cell_type": "code",
   "execution_count": null,
   "metadata": {},
   "outputs": [],
   "source": [
    "!/Users/Shelly/anaconda3/bin/bedtools flank \\\n",
    "-i /Users/Shelly/Downloads/feature_tracks/Panopea-generosa-v1.0.a4.gene.gff3 \\\n",
    "-g /Volumes/web/metacarcinus/Pgenerosa/GENOMES/Panopea-generosa-v1.0.fa.fai \\\n",
    "-l 1000 \\\n",
    "-r 0 \\\n",
    "-s |\\\n",
    "head\n"
   ]
  },
  {
   "cell_type": "code",
   "execution_count": null,
   "metadata": {},
   "outputs": [],
   "source": [
    "#generate putative promoter gff"
   ]
  },
  {
   "cell_type": "code",
   "execution_count": null,
   "metadata": {},
   "outputs": [],
   "source": [
    "!/Users/Shelly/anaconda3/bin/bedtools flank \\\n",
    "-i /Users/Shelly/Downloads/feature_tracks/Panopea-generosa-v1.0.a4.gene.gff3 \\\n",
    "-g /Volumes/web/metacarcinus/Pgenerosa/GENOMES/Panopea-generosa-v1.0.fa.fai \\\n",
    "-l 1000 \\\n",
    "-r 0 \\\n",
    "-s |\\\n",
    "sed 's/gene/put_promoter/g' |\\\n",
    "awk '{if($5-$4 > 3)print $0}'\\\n",
    "> /Users/Shelly/Downloads/feature_tracks/Panopea-generosa-v1.0.a4.putprom.gff3"
   ]
  },
  {
   "cell_type": "code",
   "execution_count": null,
   "metadata": {},
   "outputs": [],
   "source": [
    "#generate first exon gff"
   ]
  },
  {
   "cell_type": "code",
   "execution_count": null,
   "metadata": {},
   "outputs": [],
   "source": [
    "!head /Users/Shelly/Downloads/feature_tracks/Panopea-generosa-v1.0.a4.exon.gff3"
   ]
  },
  {
   "cell_type": "code",
   "execution_count": null,
   "metadata": {},
   "outputs": [],
   "source": [
    "!grep \"exon1;\" /Users/Shelly/Downloads/feature_tracks/Panopea-generosa-v1.0.a4.exon.gff3 |\\\n",
    "head"
   ]
  },
  {
   "cell_type": "code",
   "execution_count": null,
   "metadata": {},
   "outputs": [],
   "source": [
    "!grep \"exon1;\" /Users/Shelly/Downloads/feature_tracks/Panopea-generosa-v1.0.a4.exon.gff3 |\\\n",
    "awk '{ gsub(\"exon\",\"1stExon\",$3); print $0 }' |\\\n",
    "tr ' ' '\\t' |\\\n",
    "head"
   ]
  },
  {
   "cell_type": "code",
   "execution_count": null,
   "metadata": {},
   "outputs": [],
   "source": [
    "!grep \"exon1;\" /Users/Shelly/Downloads/feature_tracks/Panopea-generosa-v1.0.a4.exon.gff3 |\\\n",
    "awk '{ gsub(\"exon\",\"1stExon\",$3); print $0 }' |\\\n",
    "tr ' ' '\\t' |\\\n",
    "/Users/Shelly/anaconda3/bin/bedtools sort -i - \\\n",
    "> /Users/Shelly/Downloads/feature_tracks/Panopea-generosa-v1.0.a4.1stexon.gff3"
   ]
  },
  {
   "cell_type": "code",
   "execution_count": null,
   "metadata": {},
   "outputs": [],
   "source": [
    "#generate first intron track"
   ]
  },
  {
   "cell_type": "code",
   "execution_count": null,
   "metadata": {},
   "outputs": [],
   "source": [
    "!head /Users/Shelly/Downloads/feature_tracks/Panopea-generosa-v1.0.a4.introns.bed \\"
   ]
  },
  {
   "cell_type": "code",
   "execution_count": null,
   "metadata": {},
   "outputs": [],
   "source": [
    "!/Users/Shelly/anaconda3/bin/bedtools sort -i \\\n",
    "/Users/Shelly/Downloads/feature_tracks/Panopea-generosa-v1.0.a4.introns.bed |\\\n",
    "/Users/Shelly/anaconda3/bin/bedtools closest \\\n",
    "-a /Users/Shelly/Downloads/feature_tracks/Panopea-generosa-v1.0.a4.1stexon.gff3 \\\n",
    "-b - \\\n",
    "-wb | \\\n",
    "head"
   ]
  },
  {
   "cell_type": "code",
   "execution_count": null,
   "metadata": {},
   "outputs": [],
   "source": [
    "!/Users/Shelly/anaconda3/bin/bedtools sort -i \\\n",
    "/Users/Shelly/Downloads/feature_tracks/Panopea-generosa-v1.0.a4.introns.bed |\\\n",
    "/Users/Shelly/anaconda3/bin/bedtools closest \\\n",
    "-a /Users/Shelly/Downloads/feature_tracks/Panopea-generosa-v1.0.a4.1stexon.gff3 \\\n",
    "-b - \\\n",
    "-wb | \\\n",
    "awk -F\"\\t\" '{if((($7==\"-\")&&($4-$12 < 5 )&&($4-$12 >=0 ))||(($7==\"+\")&&($11-$5 < 5)&&($11-$5 >=0)))print $0}' |\\\n",
    "head"
   ]
  },
  {
   "cell_type": "code",
   "execution_count": null,
   "metadata": {},
   "outputs": [],
   "source": [
    "!/Users/Shelly/anaconda3/bin/bedtools sort -i \\\n",
    "/Users/Shelly/Downloads/feature_tracks/Panopea-generosa-v1.0.a4.introns.bed |\\\n",
    "/Users/Shelly/anaconda3/bin/bedtools closest \\\n",
    "-a /Users/Shelly/Downloads/feature_tracks/Panopea-generosa-v1.0.a4.1stexon.gff3 \\\n",
    "-b - \\\n",
    "-wb | \\\n",
    "awk -F\"\\t\" '{if((($7==\"-\")&&($4-$12 < 5 )&&($4-$12 >=0 ))||(($7==\"+\")&&($11-$5 < 5)&&($11-$5 >=0)))print $0}' |\\\n",
    "awk '{ gsub(\"1stExon\",\"1stIntron\",$3); print $1,$2,$3,$11,$12,$6,$7,$8,$9 }' |\\\n",
    "tr ' ' '\\t' \\\n",
    "> /Users/Shelly/Downloads/feature_tracks/Panopea-generosa-v1.0.a4.1stintron.gff3"
   ]
  },
  {
   "cell_type": "code",
   "execution_count": null,
   "metadata": {},
   "outputs": [],
   "source": [
    "!head /Users/Shelly/Downloads/feature_tracks/Panopea-generosa-v1.0.a4.1stintron.gff3"
   ]
  },
  {
   "cell_type": "code",
   "execution_count": null,
   "metadata": {},
   "outputs": [],
   "source": []
  }
 ],
 "metadata": {
  "kernelspec": {
   "display_name": "Python 3",
   "language": "python",
   "name": "python3"
  },
  "language_info": {
   "codemirror_mode": {
    "name": "ipython",
    "version": 3
   },
   "file_extension": ".py",
   "mimetype": "text/x-python",
   "name": "python",
   "nbconvert_exporter": "python",
   "pygments_lexer": "ipython3",
   "version": "3.6.8"
  }
 },
 "nbformat": 4,
 "nbformat_minor": 2
}
