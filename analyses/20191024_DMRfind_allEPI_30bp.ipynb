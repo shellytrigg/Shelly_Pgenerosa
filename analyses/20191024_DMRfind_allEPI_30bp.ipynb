{
 "cells": [
  {
   "cell_type": "code",
   "execution_count": null,
   "metadata": {
    "collapsed": true
   },
   "outputs": [],
   "source": [
    "#change directory to where new output is"
   ]
  },
  {
   "cell_type": "code",
   "execution_count": 1,
   "metadata": {},
   "outputs": [
    {
     "name": "stdout",
     "output_type": "stream",
     "text": [
      "/Volumes/web/metacarcinus/Pgenerosa/analyses/20191024\n"
     ]
    }
   ],
   "source": [
    "cd /Volumes/web/metacarcinus/Pgenerosa/analyses/20191024"
   ]
  },
  {
   "cell_type": "code",
   "execution_count": 3,
   "metadata": {
    "collapsed": true
   },
   "outputs": [],
   "source": [
    "#need to remove 'chr' from the beginning of each line in the bed files"
   ]
  },
  {
   "cell_type": "code",
   "execution_count": 2,
   "metadata": {},
   "outputs": [
    {
     "name": "stdout",
     "output_type": "stream",
     "text": [
      "PGA_scaffold10__49_contigs__length_53961475\t11112809\t11112940\t6\r\n",
      "PGA_scaffold10__49_contigs__length_53961475\t18556588\t18556610\t6\r\n",
      "PGA_scaffold10__49_contigs__length_53961475\t19149222\t19149262\t3\r\n",
      "PGA_scaffold10__49_contigs__length_53961475\t23634159\t23634189\t3\r\n",
      "PGA_scaffold10__49_contigs__length_53961475\t23859927\t23859940\t3\r\n",
      "PGA_scaffold10__49_contigs__length_53961475\t23948375\t23948381\t3\r\n",
      "PGA_scaffold10__49_contigs__length_53961475\t31386377\t31386406\t10\r\n",
      "PGA_scaffold10__49_contigs__length_53961475\t32953410\t32953437\t4\r\n",
      "PGA_scaffold11__79_contigs__length_51449921\t9728144\t9728176\t4\r\n",
      "PGA_scaffold11__79_contigs__length_51449921\t11487610\t11487657\t7\r\n"
     ]
    }
   ],
   "source": [
    "!sed 's/chrPGA/PGA/g' amb_AllTimes_DMR250bp_MCmax30_cov5x_rms_results_collapsed.tsv.DMR.bed | head"
   ]
  },
  {
   "cell_type": "code",
   "execution_count": 4,
   "metadata": {},
   "outputs": [
    {
     "name": "stdout",
     "output_type": "stream",
     "text": [
      "PGA_scaffold10__49_contigs__length_53961475\t11112810\t11112940\t6\r\n",
      "PGA_scaffold10__49_contigs__length_53961475\t18556589\t18556610\t6\r\n",
      "PGA_scaffold10__49_contigs__length_53961475\t19149223\t19149262\t3\r\n",
      "PGA_scaffold10__49_contigs__length_53961475\t23948376\t23948381\t3\r\n",
      "PGA_scaffold11__79_contigs__length_51449921\t33245946\t33246014\t6\r\n",
      "PGA_scaffold11__79_contigs__length_51449921\t34242236\t34242266\t4\r\n",
      "PGA_scaffold11__79_contigs__length_51449921\t34247796\t34247825\t6\r\n",
      "PGA_scaffold11__79_contigs__length_51449921\t36477247\t36477284\t3\r\n",
      "PGA_scaffold11__79_contigs__length_51449921\t46672468\t46672516\t4\r\n",
      "PGA_scaffold12__71_contigs__length_50438331\t7000227\t7000253\t3\r\n"
     ]
    }
   ],
   "source": [
    "!sed 's/chrPGA/PGA/g' amb_AllTimes_DMR250bp_MCmax30_cov5x_rms_results_collapsed.tsv.DMR.bed | \\\n",
    "intersectBed -a - -b /Users/Shelly/Documents/GitHub/Shelly_Pgenerosa/analyses/DMR_cov_in_0.75_SamplesPerCategory/amb_AllTimes_DMR250bp_MCmax30_cov5x_rms_results_filtered.tsv |\\\n",
    "head"
   ]
  },
  {
   "cell_type": "code",
   "execution_count": 5,
   "metadata": {},
   "outputs": [
    {
     "name": "stdout",
     "output_type": "stream",
     "text": [
      "      82\r\n"
     ]
    }
   ],
   "source": [
    "!sed 's/chrPGA/PGA/g' amb_AllTimes_DMR250bp_MCmax30_cov5x_rms_results_collapsed.tsv.DMR.bed | \\\n",
    "intersectBed -a - -b /Users/Shelly/Documents/GitHub/Shelly_Pgenerosa/analyses/DMR_cov_in_0.75_SamplesPerCategory/amb_AllTimes_DMR250bp_MCmax30_cov5x_rms_results_filtered.tsv |\\\n",
    "wc -l"
   ]
  },
  {
   "cell_type": "code",
   "execution_count": null,
   "metadata": {
    "collapsed": true
   },
   "outputs": [],
   "source": [
    "#count the number of lines in the filtered file (remember it has a header)"
   ]
  },
  {
   "cell_type": "code",
   "execution_count": 7,
   "metadata": {},
   "outputs": [
    {
     "name": "stdout",
     "output_type": "stream",
     "text": [
      "      83 /Users/Shelly/Documents/GitHub/Shelly_Pgenerosa/analyses/DMR_cov_in_0.75_SamplesPerCategory/amb_AllTimes_DMR250bp_MCmax30_cov5x_rms_results_filtered.tsv\r\n"
     ]
    }
   ],
   "source": [
    "!wc -l /Users/Shelly/Documents/GitHub/Shelly_Pgenerosa/analyses/DMR_cov_in_0.75_SamplesPerCategory/amb_AllTimes_DMR250bp_MCmax30_cov5x_rms_results_filtered.tsv "
   ]
  },
  {
   "cell_type": "code",
   "execution_count": null,
   "metadata": {
    "collapsed": true
   },
   "outputs": [],
   "source": [
    "#since intersect bed works, create filtered bedfiles in for loop"
   ]
  },
  {
   "cell_type": "code",
   "execution_count": 10,
   "metadata": {
    "collapsed": true
   },
   "outputs": [],
   "source": [
    "%%bash\n",
    "for f in *.DMR.bed\n",
    "do\n",
    "sed 's/chrPGA/PGA/g' ${f} | \\\n",
    "intersectBed -a - -b /Users/Shelly/Documents/GitHub/Shelly_Pgenerosa/analyses/DMR_cov_in_0.75_SamplesPerCategory/$(basename ${f} collapsed.tsv.DMR.bed)filtered.tsv \\\n",
    "> $(basename ${f} _rms_results_collapsed.tsv.DMR.bed).filtered.bed\n",
    "done"
   ]
  },
  {
   "cell_type": "code",
   "execution_count": 12,
   "metadata": {},
   "outputs": [
    {
     "name": "stdout",
     "output_type": "stream",
     "text": [
      "\u001b[31mamb_AllTimes_DMR250bp_MCmax30_cov5x.filtered.bed\u001b[m\u001b[m\r\n",
      "\u001b[31mamb_AllTimes_DMR250bp_MCmax30_cov5x_rms_results.tsv.gz\u001b[m\u001b[m\r\n",
      "\u001b[31mamb_AllTimes_DMR250bp_MCmax30_cov5x_rms_results_collapsed.tsv\u001b[m\u001b[m\r\n",
      "\u001b[31mamb_AllTimes_DMR250bp_MCmax30_cov5x_rms_results_collapsed.tsv.DMR.bed\u001b[m\u001b[m\r\n",
      "\u001b[31mamb_AllTimes_DMR250bp_MCmax30_cov5x_rms_results_collapsed.tsv.DMS.bed\u001b[m\u001b[m\r\n",
      "\u001b[31mday10_AllpH_DMR250bp_MCmax30_cov5x.filtered.bed\u001b[m\u001b[m\r\n",
      "\u001b[31mday10_AllpH_DMR250bp_MCmax30_cov5x_rms_results.tsv.gz\u001b[m\u001b[m\r\n",
      "\u001b[31mday10_AllpH_DMR250bp_MCmax30_cov5x_rms_results_collapsed.tsv\u001b[m\u001b[m\r\n",
      "\u001b[31mday10_AllpH_DMR250bp_MCmax30_cov5x_rms_results_collapsed.tsv.DMR.bed\u001b[m\u001b[m\r\n",
      "\u001b[31mday10_AllpH_DMR250bp_MCmax30_cov5x_rms_results_collapsed.tsv.DMS.bed\u001b[m\u001b[m\r\n",
      "\u001b[31mday135_AllpH_DMR250bp_MCmax30_cov5x.filtered.bed\u001b[m\u001b[m\r\n",
      "\u001b[31mday135_AllpH_DMR250bp_MCmax30_cov5x_rms_results.tsv.gz\u001b[m\u001b[m\r\n",
      "\u001b[31mday135_AllpH_DMR250bp_MCmax30_cov5x_rms_results_collapsed.tsv\u001b[m\u001b[m\r\n",
      "\u001b[31mday135_AllpH_DMR250bp_MCmax30_cov5x_rms_results_collapsed.tsv.DMR.bed\u001b[m\u001b[m\r\n",
      "\u001b[31mday135_AllpH_DMR250bp_MCmax30_cov5x_rms_results_collapsed.tsv.DMS.bed\u001b[m\u001b[m\r\n",
      "\u001b[31mday145_AllpH_DMR250bp_MCmax30_cov5x.filtered.bed\u001b[m\u001b[m\r\n",
      "\u001b[31mday145_AllpH_DMR250bp_MCmax30_cov5x_rms_results.tsv.gz\u001b[m\u001b[m\r\n",
      "\u001b[31mday145_AllpH_DMR250bp_MCmax30_cov5x_rms_results_collapsed.tsv\u001b[m\u001b[m\r\n",
      "\u001b[31mday145_AllpH_DMR250bp_MCmax30_cov5x_rms_results_collapsed.tsv.DMR.bed\u001b[m\u001b[m\r\n",
      "\u001b[31mday145_AllpH_DMR250bp_MCmax30_cov5x_rms_results_collapsed.tsv.DMS.bed\u001b[m\u001b[m\r\n",
      "\u001b[31mslurm-1423059.out\u001b[m\u001b[m\r\n"
     ]
    }
   ],
   "source": [
    "!ls"
   ]
  },
  {
   "cell_type": "code",
   "execution_count": 13,
   "metadata": {},
   "outputs": [
    {
     "name": "stdout",
     "output_type": "stream",
     "text": [
      "PGA_scaffold10__49_contigs__length_53961475\t11112810\t11112940\t6\r\n",
      "PGA_scaffold10__49_contigs__length_53961475\t18556589\t18556610\t6\r\n",
      "PGA_scaffold10__49_contigs__length_53961475\t19149223\t19149262\t3\r\n",
      "PGA_scaffold10__49_contigs__length_53961475\t23948376\t23948381\t3\r\n",
      "PGA_scaffold11__79_contigs__length_51449921\t33245946\t33246014\t6\r\n",
      "PGA_scaffold11__79_contigs__length_51449921\t34242236\t34242266\t4\r\n",
      "PGA_scaffold11__79_contigs__length_51449921\t34247796\t34247825\t6\r\n",
      "PGA_scaffold11__79_contigs__length_51449921\t36477247\t36477284\t3\r\n",
      "PGA_scaffold11__79_contigs__length_51449921\t46672468\t46672516\t4\r\n",
      "PGA_scaffold12__71_contigs__length_50438331\t7000227\t7000253\t3\r\n"
     ]
    }
   ],
   "source": [
    "!head amb_AllTimes_DMR250bp_MCmax30_cov5x.filtered.bed"
   ]
  },
  {
   "cell_type": "code",
   "execution_count": 17,
   "metadata": {},
   "outputs": [
    {
     "name": "stdout",
     "output_type": "stream",
     "text": [
      "      82 amb_AllTimes_DMR250bp_MCmax30_cov5x.filtered.bed\n",
      "      99 day10_AllpH_DMR250bp_MCmax30_cov5x.filtered.bed\n",
      "      42 day135_AllpH_DMR250bp_MCmax30_cov5x.filtered.bed\n",
      "      26 day145_AllpH_DMR250bp_MCmax30_cov5x.filtered.bed\n",
      "     249 total\n"
     ]
    }
   ],
   "source": [
    "!wc -l *.filtered.bed"
   ]
  },
  {
   "cell_type": "code",
   "execution_count": 19,
   "metadata": {},
   "outputs": [
    {
     "name": "stdout",
     "output_type": "stream",
     "text": [
      "      83 /Users/Shelly/Documents/GitHub/Shelly_Pgenerosa/analyses/DMR_cov_in_0.75_SamplesPerCategory/amb_AllTimes_DMR250bp_MCmax30_cov5x_rms_results_filtered.tsv\r\n",
      "     100 /Users/Shelly/Documents/GitHub/Shelly_Pgenerosa/analyses/DMR_cov_in_0.75_SamplesPerCategory/day10_AllpH_DMR250bp_MCmax30_cov5x_rms_results_filtered.tsv\r\n",
      "      43 /Users/Shelly/Documents/GitHub/Shelly_Pgenerosa/analyses/DMR_cov_in_0.75_SamplesPerCategory/day135_AllpH_DMR250bp_MCmax30_cov5x_rms_results_filtered.tsv\r\n",
      "      27 /Users/Shelly/Documents/GitHub/Shelly_Pgenerosa/analyses/DMR_cov_in_0.75_SamplesPerCategory/day145_AllpH_DMR250bp_MCmax30_cov5x_rms_results_filtered.tsv\r\n",
      "     253 total\r\n"
     ]
    }
   ],
   "source": [
    "!wc -l /Users/Shelly/Documents/GitHub/Shelly_Pgenerosa/analyses/DMR_cov_in_0.75_SamplesPerCategory/*MCmax30_cov5x_rms_results_filtered.tsv"
   ]
  },
  {
   "cell_type": "code",
   "execution_count": null,
   "metadata": {
    "collapsed": true
   },
   "outputs": [],
   "source": []
  },
  {
   "cell_type": "code",
   "execution_count": null,
   "metadata": {
    "collapsed": true
   },
   "outputs": [],
   "source": []
  },
  {
   "cell_type": "code",
   "execution_count": null,
   "metadata": {
    "collapsed": true
   },
   "outputs": [],
   "source": []
  }
 ],
 "metadata": {
  "kernelspec": {
   "display_name": "Python 3",
   "language": "python",
   "name": "python3"
  },
  "language_info": {
   "codemirror_mode": {
    "name": "ipython",
    "version": 3
   },
   "file_extension": ".py",
   "mimetype": "text/x-python",
   "name": "python",
   "nbconvert_exporter": "python",
   "pygments_lexer": "ipython3",
   "version": "3.6.8"
  }
 },
 "nbformat": 4,
 "nbformat_minor": 2
}
