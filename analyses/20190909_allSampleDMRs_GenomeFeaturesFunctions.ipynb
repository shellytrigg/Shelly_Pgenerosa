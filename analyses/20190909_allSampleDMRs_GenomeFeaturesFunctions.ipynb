{
 "cells": [
  {
   "cell_type": "code",
   "execution_count": null,
   "metadata": {},
   "outputs": [],
   "source": [
    "# intersect TE gff and gene gff with DMR files generated from 20190822 analysis"
   ]
  },
  {
   "cell_type": "code",
   "execution_count": 1,
   "metadata": {},
   "outputs": [
    {
     "name": "stdout",
     "output_type": "stream",
     "text": [
      "/Volumes/web/metacarcinus/Pgenerosa/analyses\n"
     ]
    }
   ],
   "source": [
    "cd /Volumes/web/metacarcinus/Pgenerosa/analyses"
   ]
  },
  {
   "cell_type": "code",
   "execution_count": 2,
   "metadata": {},
   "outputs": [],
   "source": [
    "!mkdir 20190909_anno"
   ]
  },
  {
   "cell_type": "code",
   "execution_count": 3,
   "metadata": {},
   "outputs": [
    {
     "name": "stdout",
     "output_type": "stream",
     "text": [
      "/Volumes/web/metacarcinus/Pgenerosa/analyses/20190909_anno\n"
     ]
    }
   ],
   "source": [
    "cd 20190909_anno/"
   ]
  },
  {
   "cell_type": "code",
   "execution_count": null,
   "metadata": {},
   "outputs": [],
   "source": [
    "#sed to remove chr prefix from chromosome names in DMR bed files\n",
    "#bedtools intersect to find DMRs overlapping with genomic features\n",
    "# use -wb option to output gff info along with DMR info\n",
    "\n",
    "#for ambient samples at all time points"
   ]
  },
  {
   "cell_type": "code",
   "execution_count": 4,
   "metadata": {},
   "outputs": [],
   "source": [
    "!sed 's/chrPGA/PGA/g' /Volumes/web/metacarcinus/Pgenerosa/analyses/20190822/amb_AllTimes_DMR250bp_MCmax25_cov5x_rms_results_collapsed.tsv.DMR.bed | \\\n",
    "/Users/Shared/bioinformatics/bedtools2/bin/intersectBed \\\n",
    "-a - \\\n",
    "-b /Volumes/web-1/halfshell/genomic-databank/Panopea-generosa-vv0.74.a3.TE.gff3 \\\n",
    "-wb \\\n",
    "> amb_AllTimes_TE.txt"
   ]
  },
  {
   "cell_type": "code",
   "execution_count": 5,
   "metadata": {},
   "outputs": [],
   "source": [
    "!sed 's/chrPGA/PGA/g' /Volumes/web/metacarcinus/Pgenerosa/analyses/20190822/amb_AllTimes_DMR250bp_MCmax25_cov5x_rms_results_collapsed.tsv.DMR.bed | \\\n",
    "/Users/Shared/bioinformatics/bedtools2/bin/intersectBed \\\n",
    "-a - \\\n",
    "-b /Volumes/web-1/halfshell/genomic-databank/Panopea-generosa-vv0.74.a3.gene.gff3 \\\n",
    "-wb \\\n",
    "> amb_AllTimes_gene.txt"
   ]
  },
  {
   "cell_type": "code",
   "execution_count": null,
   "metadata": {},
   "outputs": [],
   "source": [
    "# for day 10 all samples"
   ]
  },
  {
   "cell_type": "code",
   "execution_count": 6,
   "metadata": {},
   "outputs": [],
   "source": [
    "!sed 's/chrPGA/PGA/g' /Volumes/web/metacarcinus/Pgenerosa/analyses/20190822/day10_AllpH_DMR250bp_MCmax25_cov5x_rms_results_collapsed.tsv.DMR.bed | \\\n",
    "/Users/Shared/bioinformatics/bedtools2/bin/intersectBed \\\n",
    "-a - \\\n",
    "-b /Volumes/web-1/halfshell/genomic-databank/Panopea-generosa-vv0.74.a3.TE.gff3 \\\n",
    "-wb \\\n",
    "> day10_AllpH_TE.txt"
   ]
  },
  {
   "cell_type": "code",
   "execution_count": 7,
   "metadata": {},
   "outputs": [],
   "source": [
    "!sed 's/chrPGA/PGA/g' /Volumes/web/metacarcinus/Pgenerosa/analyses/20190822/day10_AllpH_DMR250bp_MCmax25_cov5x_rms_results_collapsed.tsv.DMR.bed | \\\n",
    "/Users/Shared/bioinformatics/bedtools2/bin/intersectBed \\\n",
    "-a - \\\n",
    "-b /Volumes/web-1/halfshell/genomic-databank/Panopea-generosa-vv0.74.a3.gene.gff3 \\\n",
    "-wb \\\n",
    "> day10_AllpH_gene.txt"
   ]
  },
  {
   "cell_type": "code",
   "execution_count": null,
   "metadata": {},
   "outputs": [],
   "source": [
    "#for day 135 samples"
   ]
  },
  {
   "cell_type": "code",
   "execution_count": 8,
   "metadata": {},
   "outputs": [],
   "source": [
    "!sed 's/chrPGA/PGA/g' /Volumes/web/metacarcinus/Pgenerosa/analyses/20190822/day135_AllpH_DMR250bp_MCmax25_cov5x_rms_results_collapsed.tsv.DMR.bed | \\\n",
    "/Users/Shared/bioinformatics/bedtools2/bin/intersectBed \\\n",
    "-a - \\\n",
    "-b /Volumes/web-1/halfshell/genomic-databank/Panopea-generosa-vv0.74.a3.TE.gff3 \\\n",
    "-wb \\\n",
    "> day135_AllpH_TE.txt"
   ]
  },
  {
   "cell_type": "code",
   "execution_count": 9,
   "metadata": {},
   "outputs": [],
   "source": [
    "!sed 's/chrPGA/PGA/g' /Volumes/web/metacarcinus/Pgenerosa/analyses/20190822/day135_AllpH_DMR250bp_MCmax25_cov5x_rms_results_collapsed.tsv.DMR.bed | \\\n",
    "/Users/Shared/bioinformatics/bedtools2/bin/intersectBed \\\n",
    "-a - \\\n",
    "-b /Volumes/web-1/halfshell/genomic-databank/Panopea-generosa-vv0.74.a3.gene.gff3 \\\n",
    "-wb \\\n",
    "> day135_AllpH_gene.txt"
   ]
  },
  {
   "cell_type": "code",
   "execution_count": null,
   "metadata": {},
   "outputs": [],
   "source": [
    "#for day 145 samples"
   ]
  },
  {
   "cell_type": "code",
   "execution_count": 10,
   "metadata": {},
   "outputs": [],
   "source": [
    "!sed 's/chrPGA/PGA/g' /Volumes/web/metacarcinus/Pgenerosa/analyses/20190822/day145_AllpH_DMR250bp_MCmax25_cov5x_rms_results_collapsed.tsv.DMR.bed | \\\n",
    "/Users/Shared/bioinformatics/bedtools2/bin/intersectBed \\\n",
    "-a - \\\n",
    "-b /Volumes/web-1/halfshell/genomic-databank/Panopea-generosa-vv0.74.a3.TE.gff3 \\\n",
    "-wb \\\n",
    "> day145_AllpH_TE.txt"
   ]
  },
  {
   "cell_type": "code",
   "execution_count": 11,
   "metadata": {},
   "outputs": [],
   "source": [
    "!sed 's/chrPGA/PGA/g' /Volumes/web/metacarcinus/Pgenerosa/analyses/20190822/day145_AllpH_DMR250bp_MCmax25_cov5x_rms_results_collapsed.tsv.DMR.bed | \\\n",
    "/Users/Shared/bioinformatics/bedtools2/bin/intersectBed \\\n",
    "-a - \\\n",
    "-b /Volumes/web-1/halfshell/genomic-databank/Panopea-generosa-vv0.74.a3.gene.gff3 \\\n",
    "-wb \\\n",
    "> day145_AllpH_gene.txt"
   ]
  },
  {
   "cell_type": "code",
   "execution_count": null,
   "metadata": {},
   "outputs": [],
   "source": [
    "#count number of overlapping features in each file"
   ]
  },
  {
   "cell_type": "code",
   "execution_count": 12,
   "metadata": {},
   "outputs": [
    {
     "name": "stdout",
     "output_type": "stream",
     "text": [
      "     118 amb_AllTimes_TE.txt\r\n"
     ]
    }
   ],
   "source": [
    "!wc -l amb_AllTimes_TE.txt"
   ]
  },
  {
   "cell_type": "code",
   "execution_count": 13,
   "metadata": {},
   "outputs": [
    {
     "name": "stdout",
     "output_type": "stream",
     "text": [
      "     146 amb_AllTimes_gene.txt\r\n"
     ]
    }
   ],
   "source": [
    "!wc -l amb_AllTimes_gene.txt"
   ]
  },
  {
   "cell_type": "code",
   "execution_count": 14,
   "metadata": {},
   "outputs": [
    {
     "name": "stdout",
     "output_type": "stream",
     "text": [
      "     101 day10_AllpH_TE.txt\r\n"
     ]
    }
   ],
   "source": [
    "!wc -l day10_AllpH_TE.txt"
   ]
  },
  {
   "cell_type": "code",
   "execution_count": 15,
   "metadata": {},
   "outputs": [
    {
     "name": "stdout",
     "output_type": "stream",
     "text": [
      "      91 day10_AllpH_gene.txt\r\n"
     ]
    }
   ],
   "source": [
    "!wc -l day10_AllpH_gene.txt"
   ]
  },
  {
   "cell_type": "code",
   "execution_count": 16,
   "metadata": {},
   "outputs": [
    {
     "name": "stdout",
     "output_type": "stream",
     "text": [
      "      60 day135_AllpH_TE.txt\r\n"
     ]
    }
   ],
   "source": [
    "!wc -l day135_AllpH_TE.txt"
   ]
  },
  {
   "cell_type": "code",
   "execution_count": 17,
   "metadata": {},
   "outputs": [
    {
     "name": "stdout",
     "output_type": "stream",
     "text": [
      "      62 day135_AllpH_gene.txt\r\n"
     ]
    }
   ],
   "source": [
    "!wc -l day135_AllpH_gene.txt"
   ]
  },
  {
   "cell_type": "code",
   "execution_count": 18,
   "metadata": {},
   "outputs": [
    {
     "name": "stdout",
     "output_type": "stream",
     "text": [
      "     120 day145_AllpH_TE.txt\r\n"
     ]
    }
   ],
   "source": [
    "!wc -l day145_AllpH_TE.txt"
   ]
  },
  {
   "cell_type": "code",
   "execution_count": 19,
   "metadata": {},
   "outputs": [
    {
     "name": "stdout",
     "output_type": "stream",
     "text": [
      "     121 day145_AllpH_gene.txt\r\n"
     ]
    }
   ],
   "source": [
    "!wc -l day145_AllpH_gene.txt"
   ]
  },
  {
   "cell_type": "code",
   "execution_count": null,
   "metadata": {},
   "outputs": [],
   "source": [
    "# count unique DMRs in TEs"
   ]
  },
  {
   "cell_type": "code",
   "execution_count": 20,
   "metadata": {},
   "outputs": [
    {
     "name": "stdout",
     "output_type": "stream",
     "text": [
      "      85\r\n"
     ]
    }
   ],
   "source": [
    "!awk '{print $1,$2,$3,$4}' day10_AllpH_TE.txt | sort | uniq -c| wc -l"
   ]
  },
  {
   "cell_type": "code",
   "execution_count": 22,
   "metadata": {},
   "outputs": [
    {
     "name": "stdout",
     "output_type": "stream",
     "text": [
      "      47\r\n"
     ]
    }
   ],
   "source": [
    "!awk '{print $1,$2,$3,$4}' day135_AllpH_TE.txt | sort | uniq -c| wc -l"
   ]
  },
  {
   "cell_type": "code",
   "execution_count": 23,
   "metadata": {},
   "outputs": [
    {
     "name": "stdout",
     "output_type": "stream",
     "text": [
      "     102\r\n"
     ]
    }
   ],
   "source": [
    "!awk '{print $1,$2,$3,$4}' day145_AllpH_TE.txt | sort | uniq -c| wc -l"
   ]
  },
  {
   "cell_type": "code",
   "execution_count": 25,
   "metadata": {},
   "outputs": [
    {
     "name": "stdout",
     "output_type": "stream",
     "text": [
      "     102\r\n"
     ]
    }
   ],
   "source": [
    "!awk '{print $1,$2,$3,$4}' amb_AllTimes_TE.txt | sort | uniq -c| wc -l"
   ]
  },
  {
   "cell_type": "code",
   "execution_count": null,
   "metadata": {},
   "outputs": [],
   "source": [
    "#count unique DMRs in genes"
   ]
  },
  {
   "cell_type": "code",
   "execution_count": 26,
   "metadata": {},
   "outputs": [
    {
     "name": "stdout",
     "output_type": "stream",
     "text": [
      "      91\r\n"
     ]
    }
   ],
   "source": [
    "!awk '{print $1,$2,$3,$4}' day10_AllpH_gene.txt | sort | uniq -c| wc -l"
   ]
  },
  {
   "cell_type": "code",
   "execution_count": 27,
   "metadata": {},
   "outputs": [
    {
     "name": "stdout",
     "output_type": "stream",
     "text": [
      "      62\r\n"
     ]
    }
   ],
   "source": [
    "!awk '{print $1,$2,$3,$4}' day135_AllpH_gene.txt | sort | uniq -c| wc -l"
   ]
  },
  {
   "cell_type": "code",
   "execution_count": 28,
   "metadata": {},
   "outputs": [
    {
     "name": "stdout",
     "output_type": "stream",
     "text": [
      "     121\r\n"
     ]
    }
   ],
   "source": [
    "!awk '{print $1,$2,$3,$4}' day145_AllpH_gene.txt | sort | uniq -c| wc -l"
   ]
  },
  {
   "cell_type": "code",
   "execution_count": 29,
   "metadata": {},
   "outputs": [
    {
     "name": "stdout",
     "output_type": "stream",
     "text": [
      "     146\r\n"
     ]
    }
   ],
   "source": [
    "!awk '{print $1,$2,$3,$4}' amb_AllTimes_gene.txt | sort | uniq -c| wc -l"
   ]
  },
  {
   "cell_type": "code",
   "execution_count": null,
   "metadata": {},
   "outputs": [],
   "source": [
    "### match gene features to interpro data\n",
    "#first need to create another column with gene name"
   ]
  },
  {
   "cell_type": "code",
   "execution_count": 32,
   "metadata": {},
   "outputs": [
    {
     "name": "stdout",
     "output_type": "stream",
     "text": [
      "ID=PGEN_.00g269600;Name=PGEN_.00g269600;original_ID=19849-PGEN_.00g269600;Alias=g26960;original_name=19849-PGEN_.00g269600\r\n",
      "ID=PGEN_.00g284230;Name=PGEN_.00g284230;original_ID=19849-PGEN_.00g284230;Alias=g28423;original_name=19849-PGEN_.00g284230\r\n",
      "ID=PGEN_.00g292000;Name=PGEN_.00g292000;original_ID=19849-PGEN_.00g292000;Alias=g29200;original_name=19849-PGEN_.00g292000\r\n",
      "ID=PGEN_.00g311940;Name=PGEN_.00g311940;original_ID=19849-PGEN_.00g311940;Alias=g31194;original_name=19849-PGEN_.00g311940\r\n",
      "ID=PGEN_.00g330940;Name=PGEN_.00g330940;original_ID=19849-PGEN_.00g330940;Alias=g33094;original_name=19849-PGEN_.00g330940\r\n",
      "ID=PGEN_.00g336490;Name=PGEN_.00g336490;original_ID=19849-PGEN_.00g336490;Alias=g33649;original_name=19849-PGEN_.00g336490\r\n",
      "ID=PGEN_.00g336820;Name=PGEN_.00g336820;original_ID=19849-PGEN_.00g336820;Alias=g33682;original_name=19849-PGEN_.00g336820\r\n",
      "ID=PGEN_.00g336820;Name=PGEN_.00g336820;original_ID=19849-PGEN_.00g336820;Alias=g33682;original_name=19849-PGEN_.00g336820\r\n",
      "ID=PGEN_.00g337960;Name=PGEN_.00g337960;original_ID=19849-PGEN_.00g337960;Alias=g33796;original_name=19849-PGEN_.00g337960\r\n",
      "ID=PGEN_.00g343300;Name=PGEN_.00g343300;original_ID=19849-PGEN_.00g343300;Alias=g34330;original_name=19849-PGEN_.00g343300\r\n"
     ]
    }
   ],
   "source": [
    "!awk '{print $13}' day10_AllpH_gene.txt | head"
   ]
  },
  {
   "cell_type": "code",
   "execution_count": 33,
   "metadata": {},
   "outputs": [
    {
     "name": "stdout",
     "output_type": "stream",
     "text": [
      "PGEN_.00g269600\r\n",
      "PGEN_.00g284230\r\n",
      "PGEN_.00g292000\r\n",
      "PGEN_.00g311940\r\n",
      "PGEN_.00g330940\r\n",
      "PGEN_.00g336490\r\n",
      "PGEN_.00g336820\r\n",
      "PGEN_.00g336820\r\n",
      "PGEN_.00g337960\r\n",
      "PGEN_.00g343300\r\n"
     ]
    }
   ],
   "source": [
    "!awk '{print substr($13, 4,15)}' day10_AllpH_gene.txt | head"
   ]
  },
  {
   "cell_type": "code",
   "execution_count": 35,
   "metadata": {},
   "outputs": [],
   "source": [
    "!awk -F\"\\t\" '{print $0\"\\t\"substr($13, 4,15)}' day10_AllpH_gene.txt > day10_AllpH_gene_geneID.txt"
   ]
  },
  {
   "cell_type": "code",
   "execution_count": 36,
   "metadata": {},
   "outputs": [],
   "source": [
    "!awk -F\"\\t\" '{print $0\"\\t\"substr($13, 4,15)}' day135_AllpH_gene.txt > day135_AllpH_gene_geneID.txt"
   ]
  },
  {
   "cell_type": "code",
   "execution_count": 37,
   "metadata": {},
   "outputs": [],
   "source": [
    "!awk -F\"\\t\" '{print $0\"\\t\"substr($13, 4,15)}' day145_AllpH_gene.txt > day145_AllpH_gene_geneID.txt"
   ]
  },
  {
   "cell_type": "code",
   "execution_count": 38,
   "metadata": {},
   "outputs": [],
   "source": [
    "!awk -F\"\\t\" '{print $0\"\\t\"substr($13, 4,15)}' amb_AllTimes_gene.txt > amb_AllTimes_gene_geneID.txt"
   ]
  },
  {
   "cell_type": "code",
   "execution_count": null,
   "metadata": {},
   "outputs": [],
   "source": [
    "# count number of unique genes with DMRs"
   ]
  },
  {
   "cell_type": "code",
   "execution_count": 39,
   "metadata": {},
   "outputs": [
    {
     "name": "stdout",
     "output_type": "stream",
     "text": [
      "      86\r\n"
     ]
    }
   ],
   "source": [
    "!awk '{print $14}' day10_AllpH_gene_geneID.txt | sort | uniq -c| sort -rn | wc -l"
   ]
  },
  {
   "cell_type": "code",
   "execution_count": 41,
   "metadata": {},
   "outputs": [
    {
     "name": "stdout",
     "output_type": "stream",
     "text": [
      "      61\r\n"
     ]
    }
   ],
   "source": [
    "!awk '{print $14}' day135_AllpH_gene_geneID.txt | sort | uniq -c| sort -rn | wc -l"
   ]
  },
  {
   "cell_type": "code",
   "execution_count": 42,
   "metadata": {},
   "outputs": [
    {
     "name": "stdout",
     "output_type": "stream",
     "text": [
      "     119\r\n"
     ]
    }
   ],
   "source": [
    "!awk '{print $14}' day145_AllpH_gene_geneID.txt | sort | uniq -c| sort -rn | wc -l"
   ]
  },
  {
   "cell_type": "code",
   "execution_count": 43,
   "metadata": {},
   "outputs": [
    {
     "name": "stdout",
     "output_type": "stream",
     "text": [
      "     140\r\n"
     ]
    }
   ],
   "source": [
    "!awk '{print $14}' amb_AllTimes_gene_geneID.txt | sort | uniq -c| sort -rn | wc -l"
   ]
  },
  {
   "cell_type": "code",
   "execution_count": null,
   "metadata": {},
   "outputs": [],
   "source": [
    "# count number of unique genes with DMRs that have annotations in interpro"
   ]
  },
  {
   "cell_type": "code",
   "execution_count": 44,
   "metadata": {},
   "outputs": [
    {
     "name": "stdout",
     "output_type": "stream",
     "text": [
      "      71\r\n"
     ]
    }
   ],
   "source": [
    "!awk -F\"\\t\" 'NR==FNR{a[$14]=$0;next}(substr($1,7,15) in a){print a[substr($1,7,15)]\"\\t\"$0}' \\\n",
    "day10_AllpH_gene_geneID.txt \\\n",
    "/Volumes/web/Atumefaciens/20190710_Pgenerosa_v074_gensas_annotation/Panopea-generosa-vv0.74.a3.5d65aaa22961e-interproscan.tab | \\\n",
    "awk '{print $14}' | sort | uniq | wc -l"
   ]
  },
  {
   "cell_type": "code",
   "execution_count": 47,
   "metadata": {},
   "outputs": [
    {
     "name": "stdout",
     "output_type": "stream",
     "text": [
      "      50\r\n"
     ]
    }
   ],
   "source": [
    "!awk -F\"\\t\" 'NR==FNR{a[$14]=$0;next}(substr($1,7,15) in a){print a[substr($1,7,15)]\"\\t\"$0}' \\\n",
    "day135_AllpH_gene_geneID.txt \\\n",
    "/Volumes/web/Atumefaciens/20190710_Pgenerosa_v074_gensas_annotation/Panopea-generosa-vv0.74.a3.5d65aaa22961e-interproscan.tab | \\\n",
    "awk '{print $14}' | sort | uniq | wc -l"
   ]
  },
  {
   "cell_type": "code",
   "execution_count": 48,
   "metadata": {},
   "outputs": [
    {
     "name": "stdout",
     "output_type": "stream",
     "text": [
      "     101\r\n"
     ]
    }
   ],
   "source": [
    "!awk -F\"\\t\" 'NR==FNR{a[$14]=$0;next}(substr($1,7,15) in a){print a[substr($1,7,15)]\"\\t\"$0}' \\\n",
    "day145_AllpH_gene_geneID.txt \\\n",
    "/Volumes/web/Atumefaciens/20190710_Pgenerosa_v074_gensas_annotation/Panopea-generosa-vv0.74.a3.5d65aaa22961e-interproscan.tab | \\\n",
    "awk '{print $14}' | sort | uniq | wc -l"
   ]
  },
  {
   "cell_type": "code",
   "execution_count": 49,
   "metadata": {},
   "outputs": [
    {
     "name": "stdout",
     "output_type": "stream",
     "text": [
      "     111\r\n"
     ]
    }
   ],
   "source": [
    "!awk -F\"\\t\" 'NR==FNR{a[$14]=$0;next}(substr($1,7,15) in a){print a[substr($1,7,15)]\"\\t\"$0}' \\\n",
    "amb_AllTimes_gene_geneID.txt \\\n",
    "/Volumes/web/Atumefaciens/20190710_Pgenerosa_v074_gensas_annotation/Panopea-generosa-vv0.74.a3.5d65aaa22961e-interproscan.tab | \\\n",
    "awk '{print $14}' | sort | uniq | wc -l"
   ]
  },
  {
   "cell_type": "code",
   "execution_count": null,
   "metadata": {},
   "outputs": [],
   "source": [
    "#count how many genes have multiple DMRs"
   ]
  },
  {
   "cell_type": "code",
   "execution_count": 50,
   "metadata": {},
   "outputs": [
    {
     "name": "stdout",
     "output_type": "stream",
     "text": [
      "   3 PGEN_.00g249400\r\n",
      "   2 PGEN_.00g336820\r\n",
      "   2 PGEN_.00g262440\r\n",
      "   2 PGEN_.00g138650\r\n"
     ]
    }
   ],
   "source": [
    "!awk '{print $14}' day10_AllpH_gene_geneID.txt | \\\n",
    "sort | uniq -c| sort -rn | awk '{if($1>1)print $0}'"
   ]
  },
  {
   "cell_type": "code",
   "execution_count": 51,
   "metadata": {},
   "outputs": [
    {
     "name": "stdout",
     "output_type": "stream",
     "text": [
      "   2 PGEN_.00g023230\r\n"
     ]
    }
   ],
   "source": [
    "!awk '{print $14}' day135_AllpH_gene_geneID.txt | \\\n",
    "sort | uniq -c| sort -rn | awk '{if($1>1)print $0}'"
   ]
  },
  {
   "cell_type": "code",
   "execution_count": 52,
   "metadata": {},
   "outputs": [
    {
     "name": "stdout",
     "output_type": "stream",
     "text": [
      "   2 PGEN_.00g249400\r\n",
      "   2 PGEN_.00g119320\r\n"
     ]
    }
   ],
   "source": [
    "!awk '{print $14}' day145_AllpH_gene_geneID.txt | \\\n",
    "sort | uniq -c| sort -rn | awk '{if($1>1)print $0}'"
   ]
  },
  {
   "cell_type": "code",
   "execution_count": 53,
   "metadata": {},
   "outputs": [
    {
     "name": "stdout",
     "output_type": "stream",
     "text": [
      "   3 PGEN_.00g261410\r\n",
      "   2 PGEN_.00g433840\r\n",
      "   2 PGEN_.00g217490\r\n",
      "   2 PGEN_.00g154720\r\n",
      "   2 PGEN_.00g107120\r\n"
     ]
    }
   ],
   "source": [
    "!awk '{print $14}' amb_AllTimes_gene_geneID.txt | \\\n",
    "sort | uniq -c| sort -rn | awk '{if($1>1)print $0}'"
   ]
  }
 ],
 "metadata": {
  "kernelspec": {
   "display_name": "Python 3",
   "language": "python",
   "name": "python3"
  },
  "language_info": {
   "codemirror_mode": {
    "name": "ipython",
    "version": 3
   },
   "file_extension": ".py",
   "mimetype": "text/x-python",
   "name": "python",
   "nbconvert_exporter": "python",
   "pygments_lexer": "ipython3",
   "version": "3.6.8"
  }
 },
 "nbformat": 4,
 "nbformat_minor": 2
}
