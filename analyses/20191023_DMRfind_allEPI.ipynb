{
 "cells": [
  {
   "cell_type": "code",
   "execution_count": null,
   "metadata": {
    "collapsed": true
   },
   "outputs": [],
   "source": [
    "#make directory for new output"
   ]
  },
  {
   "cell_type": "code",
   "execution_count": 1,
   "metadata": {},
   "outputs": [
    {
     "name": "stdout",
     "output_type": "stream",
     "text": [
      "/Volumes/web/metacarcinus/Pgenerosa/analyses/20191023\n"
     ]
    }
   ],
   "source": [
    "cd /Volumes/web/metacarcinus/Pgenerosa/analyses/20191023"
   ]
  },
  {
   "cell_type": "code",
   "execution_count": 3,
   "metadata": {
    "collapsed": true
   },
   "outputs": [],
   "source": [
    "#need to remove 'chr' from the beginning of each line in the bed files"
   ]
  },
  {
   "cell_type": "code",
   "execution_count": 4,
   "metadata": {},
   "outputs": [
    {
     "name": "stdout",
     "output_type": "stream",
     "text": [
      "PGA_scaffold10__49_contigs__length_53961475\t126672\t126756\t3\r\n",
      "PGA_scaffold10__49_contigs__length_53961475\t8833791\t8833836\t3\r\n",
      "PGA_scaffold10__49_contigs__length_53961475\t11112809\t11112940\t7\r\n",
      "PGA_scaffold10__49_contigs__length_53961475\t12088512\t12088530\t3\r\n",
      "PGA_scaffold10__49_contigs__length_53961475\t12145809\t12145856\t5\r\n",
      "PGA_scaffold10__49_contigs__length_53961475\t13207080\t13207143\t5\r\n",
      "PGA_scaffold10__49_contigs__length_53961475\t14136908\t14136953\t3\r\n",
      "PGA_scaffold10__49_contigs__length_53961475\t16695637\t16695672\t3\r\n",
      "PGA_scaffold10__49_contigs__length_53961475\t18556588\t18556610\t6\r\n",
      "PGA_scaffold10__49_contigs__length_53961475\t20953461\t20953501\t4\r\n",
      "sed: stdout: Broken pipe\r\n"
     ]
    }
   ],
   "source": [
    "!sed 's/chrPGA/PGA/g' amb_AllTimes_DMR250bp_MCmax50_cov5x_rms_results_collapsed.tsv.DMR.bed | head"
   ]
  },
  {
   "cell_type": "code",
   "execution_count": 6,
   "metadata": {},
   "outputs": [
    {
     "name": "stdout",
     "output_type": "stream",
     "text": [
      "PGA_scaffold10__49_contigs__length_53961475\t11112810\t11112940\t7\r\n",
      "PGA_scaffold10__49_contigs__length_53961475\t18556589\t18556610\t6\r\n",
      "PGA_scaffold10__49_contigs__length_53961475\t23948376\t23948381\t3\r\n",
      "PGA_scaffold11__79_contigs__length_51449921\t34242236\t34242266\t4\r\n",
      "PGA_scaffold11__79_contigs__length_51449921\t34247796\t34247828\t7\r\n",
      "PGA_scaffold11__79_contigs__length_51449921\t46397175\t46397240\t6\r\n",
      "PGA_scaffold11__79_contigs__length_51449921\t46672468\t46672516\t4\r\n",
      "PGA_scaffold12__71_contigs__length_50438331\t7000227\t7000253\t3\r\n",
      "PGA_scaffold12__71_contigs__length_50438331\t19367759\t19368101\t7\r\n",
      "PGA_scaffold12__71_contigs__length_50438331\t43253817\t43253895\t12\r\n"
     ]
    }
   ],
   "source": [
    "!sed 's/chrPGA/PGA/g' amb_AllTimes_DMR250bp_MCmax50_cov5x_rms_results_collapsed.tsv.DMR.bed | \\\n",
    "intersectBed -a - -b amb_AllTimes_DMR250bp_MCmax50_cov5x_rms_results_filtered.tsv |\\\n",
    "head"
   ]
  },
  {
   "cell_type": "code",
   "execution_count": 7,
   "metadata": {},
   "outputs": [
    {
     "name": "stdout",
     "output_type": "stream",
     "text": [
      "      87\r\n"
     ]
    }
   ],
   "source": [
    "!sed 's/chrPGA/PGA/g' amb_AllTimes_DMR250bp_MCmax50_cov5x_rms_results_collapsed.tsv.DMR.bed | \\\n",
    "intersectBed -a - -b amb_AllTimes_DMR250bp_MCmax50_cov5x_rms_results_filtered.tsv |\\\n",
    "wc -l"
   ]
  },
  {
   "cell_type": "code",
   "execution_count": null,
   "metadata": {
    "collapsed": true
   },
   "outputs": [],
   "source": [
    "#count the number of lines in the filtered file (remember it has a header)"
   ]
  },
  {
   "cell_type": "code",
   "execution_count": 8,
   "metadata": {},
   "outputs": [
    {
     "name": "stdout",
     "output_type": "stream",
     "text": [
      "      88 amb_AllTimes_DMR250bp_MCmax50_cov5x_rms_results_filtered.tsv\r\n"
     ]
    }
   ],
   "source": [
    "!wc -l amb_AllTimes_DMR250bp_MCmax50_cov5x_rms_results_filtered.tsv"
   ]
  },
  {
   "cell_type": "code",
   "execution_count": null,
   "metadata": {
    "collapsed": true
   },
   "outputs": [],
   "source": [
    "#since intersect bed works, create filtered bedfiles in for loop"
   ]
  },
  {
   "cell_type": "code",
   "execution_count": 9,
   "metadata": {},
   "outputs": [],
   "source": [
    "%%bash\n",
    "for f in *.DMR.bed\n",
    "do\n",
    "sed 's/chrPGA/PGA/g' ${f} | \\\n",
    "intersectBed -a - -b $(basename ${f} collapsed.tsv.DMR.bed)filtered.tsv \\\n",
    "> $(basename ${f} _rms_results_collapsed.tsv.DMR.bed).filtered.bed\n",
    "done"
   ]
  },
  {
   "cell_type": "code",
   "execution_count": 10,
   "metadata": {},
   "outputs": [
    {
     "name": "stdout",
     "output_type": "stream",
     "text": [
      "PGA_scaffold10__49_contigs__length_53961475\t11112810\t11112940\t7\r\n",
      "PGA_scaffold10__49_contigs__length_53961475\t18556589\t18556610\t6\r\n",
      "PGA_scaffold10__49_contigs__length_53961475\t23948376\t23948381\t3\r\n",
      "PGA_scaffold11__79_contigs__length_51449921\t34242236\t34242266\t4\r\n",
      "PGA_scaffold11__79_contigs__length_51449921\t34247796\t34247828\t7\r\n",
      "PGA_scaffold11__79_contigs__length_51449921\t46397175\t46397240\t6\r\n",
      "PGA_scaffold11__79_contigs__length_51449921\t46672468\t46672516\t4\r\n",
      "PGA_scaffold12__71_contigs__length_50438331\t7000227\t7000253\t3\r\n",
      "PGA_scaffold12__71_contigs__length_50438331\t19367759\t19368101\t7\r\n",
      "PGA_scaffold12__71_contigs__length_50438331\t43253817\t43253895\t12\r\n"
     ]
    }
   ],
   "source": [
    "!head amb_AllTimes_DMR250bp_MCmax50_cov5x.filtered.bed"
   ]
  },
  {
   "cell_type": "code",
   "execution_count": 11,
   "metadata": {},
   "outputs": [
    {
     "name": "stdout",
     "output_type": "stream",
     "text": [
      "      87 amb_AllTimes_DMR250bp_MCmax50_cov5x.filtered.bed\n",
      "     110 day10_AllpH_DMR250bp_MCmax50_cov5x.filtered.bed\n",
      "      65 day135_AllpH_DMR250bp_MCmax50_cov5x.filtered.bed\n",
      "      36 day145_AllpH_DMR250bp_MCmax50_cov5x.filtered.bed\n",
      "     298 total\n"
     ]
    }
   ],
   "source": [
    "!wc -l *.filtered.bed"
   ]
  },
  {
   "cell_type": "code",
   "execution_count": 15,
   "metadata": {},
   "outputs": [
    {
     "name": "stdout",
     "output_type": "stream",
     "text": [
      "      88 amb_AllTimes_DMR250bp_MCmax50_cov5x_rms_results_filtered.tsv\n",
      "     111 day10_AllpH_DMR250bp_MCmax50_cov5x_rms_results_filtered.tsv\n",
      "      66 day135_AllpH_DMR250bp_MCmax50_cov5x_rms_results_filtered.tsv\n",
      "      37 day145_AllpH_DMR250bp_MCmax50_cov5x_rms_results_filtered.tsv\n",
      "     302 total\n"
     ]
    }
   ],
   "source": [
    "!wc -l *filtered.tsv"
   ]
  },
  {
   "cell_type": "code",
   "execution_count": null,
   "metadata": {
    "collapsed": true
   },
   "outputs": [],
   "source": []
  },
  {
   "cell_type": "code",
   "execution_count": null,
   "metadata": {
    "collapsed": true
   },
   "outputs": [],
   "source": []
  },
  {
   "cell_type": "code",
   "execution_count": null,
   "metadata": {
    "collapsed": true
   },
   "outputs": [],
   "source": []
  }
 ],
 "metadata": {
  "kernelspec": {
   "display_name": "Python 3",
   "language": "python",
   "name": "python3"
  },
  "language_info": {
   "codemirror_mode": {
    "name": "ipython",
    "version": 3
   },
   "file_extension": ".py",
   "mimetype": "text/x-python",
   "name": "python",
   "nbconvert_exporter": "python",
   "pygments_lexer": "ipython3",
   "version": "3.6.8"
  }
 },
 "nbformat": 4,
 "nbformat_minor": 2
}
