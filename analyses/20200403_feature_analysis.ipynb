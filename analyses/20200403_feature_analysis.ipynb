{
 "cells": [
  {
   "cell_type": "code",
   "execution_count": null,
   "metadata": {
    "collapsed": true
   },
   "outputs": [],
   "source": [
    "#downloaded feature_tracks from OSF\n",
    "#downloaded intergenic and intron bed files from Gannet\n",
    "\n",
    "```\n",
    "Shellys-MacBook-Pro:feature_tracks Shelly$ wget https://gannet.fish.washington.edu/Atumefaciens/20191105_swoose_pgen_v074_renaming/Panopea-generosa-v1.0.a4.intergenic.bed\n",
    "--2020-04-03 08:01:35--  https://gannet.fish.washington.edu/Atumefaciens/20191105_swoose_pgen_v074_renaming/Panopea-generosa-v1.0.a4.intergenic.bed\n",
    "Resolving gannet.fish.washington.edu (gannet.fish.washington.edu)... 128.95.149.52\n",
    "Connecting to gannet.fish.washington.edu (gannet.fish.washington.edu)|128.95.149.52|:443... connected.\n",
    "HTTP request sent, awaiting response... 200 OK\n",
    "Length: 1019566 (996K) [application/vnd.realvnc.bed]\n",
    "Saving to: ‘Panopea-generosa-v1.0.a4.intergenic.bed’\n",
    "\n",
    "Panopea-generosa-v1 100%[===================>] 995.67K   249KB/s    in 4.0s    \n",
    "\n",
    "2020-04-03 08:01:39 (249 KB/s) - ‘Panopea-generosa-v1.0.a4.intergenic.bed’ saved [1019566/1019566]\n",
    "\n",
    "Shellys-MacBook-Pro:feature_tracks Shelly$ wget https://gannet.fish.washington.edu/Atumefaciens/20191105_swoose_pgen_v074_renaming/Panopea-generosa-v1.0.a4.introns.bed\n",
    "--2020-04-03 08:01:54--  https://gannet.fish.washington.edu/Atumefaciens/20191105_swoose_pgen_v074_renaming/Panopea-generosa-v1.0.a4.introns.bed\n",
    "Resolving gannet.fish.washington.edu (gannet.fish.washington.edu)... 128.95.149.52\n",
    "Connecting to gannet.fish.washington.edu (gannet.fish.washington.edu)|128.95.149.52|:443... connected.\n",
    "HTTP request sent, awaiting response... 200 OK\n",
    "Length: 4579012 (4.4M) [application/vnd.realvnc.bed]\n",
    "Saving to: ‘Panopea-generosa-v1.0.a4.introns.bed’\n",
    "\n",
    "Panopea-generosa-v1 100%[===================>]   4.37M   797KB/s    in 6.8s    \n",
    "\n",
    "2020-04-03 08:02:02 (660 KB/s) - ‘Panopea-generosa-v1.0.a4.introns.bed’ saved [4579012/4579012]\n",
    "```"
   ]
  },
  {
   "cell_type": "code",
   "execution_count": 1,
   "metadata": {},
   "outputs": [
    {
     "name": "stdout",
     "output_type": "stream",
     "text": [
      "Panopea-generosa-v1.0.CpG.gff\r\n",
      "Panopea-generosa-v1.0.a4.CDS.gff3\r\n",
      "Panopea-generosa-v1.0.a4.exon.gff3\r\n",
      "Panopea-generosa-v1.0.a4.gene.gff3\r\n",
      "Panopea-generosa-v1.0.a4.intergenic.bed\r\n",
      "Panopea-generosa-v1.0.a4.introns.bed\r\n",
      "Panopea-generosa-v1.0.a4.mRNA.gff3\r\n",
      "Panopea-generosa-v1.0.a4.rRNA.gff3\r\n",
      "Panopea-generosa-v1.0.a4.repeat_region.gff3\r\n",
      "Panopea-generosa-v1.0.a4.repeats.DNA.gff3\r\n",
      "Panopea-generosa-v1.0.a4.repeats.LINE.gff3\r\n",
      "Panopea-generosa-v1.0.a4.repeats.LTR.gff3\r\n",
      "Panopea-generosa-v1.0.a4.repeats.RC.gff3\r\n",
      "Panopea-generosa-v1.0.a4.repeats.SINE.gff3\r\n",
      "Panopea-generosa-v1.0.a4.repeats.Simple_repeat.gff3\r\n",
      "Panopea-generosa-v1.0.a4.repeats.Unknown.gff3\r\n",
      "Panopea-generosa-v1.0.a4.tRNA.gff3\r\n"
     ]
    }
   ],
   "source": [
    "!ls /Users/Shelly/Downloads/feature_tracks/"
   ]
  },
  {
   "cell_type": "code",
   "execution_count": 2,
   "metadata": {},
   "outputs": [
    {
     "name": "stdout",
     "output_type": "stream",
     "text": [
      "##gff-version 3\r\n",
      "##Generated using GenSAS, Tuesday 26th of November 2019 07:12:25 PM\r\n",
      "##Project Name : Pgenerosa_v074\r\n",
      "Scaffold_01\tGenSAS_5d9637f372b5d-publish\texon\t2\t125\t.\t+\t.\tID=PGEN_.00g000010.m01.exon01;Name=PGEN_.00g000010.m01.exon01;Parent=PGEN_.00g000010.m01;original_ID=21510-PGEN_.00g234140.m01.exon1;Alias=21510-PGEN_.00g234140.m01.exon1\r\n",
      "Scaffold_01\tGenSAS_5d9637f372b5d-publish\texon\t1995\t2095\t.\t+\t.\tID=PGEN_.00g000010.m01.exon02;Name=PGEN_.00g000010.m01.exon02;Parent=PGEN_.00g000010.m01;original_ID=21510-PGEN_.00g234140.m01.exon2;Alias=21510-PGEN_.00g234140.m01.exon2\r\n",
      "Scaffold_01\tGenSAS_5d9637f372b5d-publish\texon\t3325\t3495\t.\t+\t.\tID=PGEN_.00g000010.m01.exon03;Name=PGEN_.00g000010.m01.exon03;Parent=PGEN_.00g000010.m01;original_ID=21510-PGEN_.00g234140.m01.exon3;Alias=21510-PGEN_.00g234140.m01.exon3\r\n",
      "Scaffold_01\tGenSAS_5d9637f372b5d-publish\texon\t4651\t4719\t.\t+\t.\tID=PGEN_.00g000010.m01.exon04;Name=PGEN_.00g000010.m01.exon04;Parent=PGEN_.00g000010.m01;original_ID=21510-PGEN_.00g234140.m01.exon4;Alias=21510-PGEN_.00g234140.m01.exon4\r\n",
      "Scaffold_01\tGenSAS_5d9637f372b5d-publish\texon\t19808\t19943\t.\t-\t.\tID=PGEN_.00g000020.m01.exon01;Name=PGEN_.00g000020.m01.exon01;Parent=PGEN_.00g000020.m01;original_ID=21510-PGEN_.00g234150.m01.exon10;Alias=21510-PGEN_.00g234150.m01.exon10\r\n",
      "Scaffold_01\tGenSAS_5d9637f372b5d-publish\texon\t21133\t21362\t.\t-\t.\tID=PGEN_.00g000020.m01.exon02;Name=PGEN_.00g000020.m01.exon02;Parent=PGEN_.00g000020.m01;original_ID=21510-PGEN_.00g234150.m01.exon9;Alias=21510-PGEN_.00g234150.m01.exon9\r\n",
      "Scaffold_01\tGenSAS_5d9637f372b5d-publish\texon\t22487\t22613\t.\t-\t.\tID=PGEN_.00g000020.m01.exon03;Name=PGEN_.00g000020.m01.exon03;Parent=PGEN_.00g000020.m01;original_ID=21510-PGEN_.00g234150.m01.exon8;Alias=21510-PGEN_.00g234150.m01.exon8\r\n"
     ]
    }
   ],
   "source": [
    "!head /Users/Shelly/Downloads/feature_tracks/Panopea-generosa-v1.0.a4.exon.gff3"
   ]
  },
  {
   "cell_type": "code",
   "execution_count": 3,
   "metadata": {
    "collapsed": true
   },
   "outputs": [],
   "source": [
    "!rm /Users/Shelly/Downloads/feature_tracks/Panopea-generosa-v1.0.CpG.gff"
   ]
  },
  {
   "cell_type": "code",
   "execution_count": 4,
   "metadata": {},
   "outputs": [
    {
     "name": "stdout",
     "output_type": "stream",
     "text": [
      "/Users/Shelly/Downloads/feature_tracks\n"
     ]
    }
   ],
   "source": [
    "cd /Users/Shelly/Downloads/feature_tracks/"
   ]
  },
  {
   "cell_type": "code",
   "execution_count": null,
   "metadata": {
    "collapsed": true
   },
   "outputs": [],
   "source": [
    "#concatenate all gffs"
   ]
  },
  {
   "cell_type": "code",
   "execution_count": 6,
   "metadata": {},
   "outputs": [
    {
     "data": {
      "text/plain": [
       "[]"
      ]
     },
     "execution_count": 6,
     "metadata": {},
     "output_type": "execute_result"
    }
   ],
   "source": [
    "!!cat *.gff3 > Panopea-generosa-v1.0.gff3"
   ]
  },
  {
   "cell_type": "code",
   "execution_count": 7,
   "metadata": {},
   "outputs": [
    {
     "name": "stdout",
     "output_type": "stream",
     "text": [
      "Scaffold_10\t0\t1\r\n",
      "Scaffold_10\t1145\t19539\r\n",
      "Scaffold_10\t36845\t36983\r\n",
      "Scaffold_10\t37535\t41156\r\n",
      "Scaffold_10\t41960\t61913\r\n",
      "Scaffold_10\t82099\t90960\r\n",
      "Scaffold_10\t109412\t135014\r\n",
      "Scaffold_10\t215664\t218086\r\n",
      "Scaffold_10\t219013\t225102\r\n",
      "Scaffold_10\t230053\t232785\r\n"
     ]
    }
   ],
   "source": [
    "!head Panopea-generosa-v1.0.a4.intergenic.bed"
   ]
  },
  {
   "cell_type": "code",
   "execution_count": 8,
   "metadata": {},
   "outputs": [
    {
     "name": "stdout",
     "output_type": "stream",
     "text": [
      "Scaffold_10\t19684\t20882\r\n",
      "Scaffold_10\t21135\t21899\r\n",
      "Scaffold_10\t21979\t23162\r\n",
      "Scaffold_10\t23252\t24165\r\n",
      "Scaffold_10\t24256\t26334\r\n",
      "Scaffold_10\t26461\t28467\r\n",
      "Scaffold_10\t35936\t36093\r\n",
      "Scaffold_10\t28624\t35328\r\n",
      "Scaffold_10\t61983\t65309\r\n",
      "Scaffold_10\t65860\t81002\r\n"
     ]
    }
   ],
   "source": [
    "!head Panopea-generosa-v1.0.a4.introns.bed"
   ]
  },
  {
   "cell_type": "code",
   "execution_count": null,
   "metadata": {},
   "outputs": [],
   "source": [
    "#convert .bed files to .gff format"
   ]
  },
  {
   "cell_type": "code",
   "execution_count": 9,
   "metadata": {
    "collapsed": true
   },
   "outputs": [],
   "source": [
    "!cat Panopea-generosa-v1.0.a4.intergenic.bed | \\\n",
    "awk -F\"\\t\" '{print $1\"\\t\"\"NA\"\"\\t\"\"intergenic\"\"\\t\"$2\"\\t\"$3\"\\t\"\"NA\"\"\\t\"\"NA\"\"\\t\"\"NA\"\"\\t\"\"NA\"}' \\\n",
    "> Panopea-generosa-v1.0.a4.intergenic.gff3"
   ]
  },
  {
   "cell_type": "code",
   "execution_count": 10,
   "metadata": {},
   "outputs": [
    {
     "name": "stdout",
     "output_type": "stream",
     "text": [
      "Scaffold_10\tNA\tintergenic\t0\t1\tNA\tNA\tNA\tNA\r\n",
      "Scaffold_10\tNA\tintergenic\t1145\t19539\tNA\tNA\tNA\tNA\r\n",
      "Scaffold_10\tNA\tintergenic\t36845\t36983\tNA\tNA\tNA\tNA\r\n",
      "Scaffold_10\tNA\tintergenic\t37535\t41156\tNA\tNA\tNA\tNA\r\n",
      "Scaffold_10\tNA\tintergenic\t41960\t61913\tNA\tNA\tNA\tNA\r\n",
      "Scaffold_10\tNA\tintergenic\t82099\t90960\tNA\tNA\tNA\tNA\r\n",
      "Scaffold_10\tNA\tintergenic\t109412\t135014\tNA\tNA\tNA\tNA\r\n",
      "Scaffold_10\tNA\tintergenic\t215664\t218086\tNA\tNA\tNA\tNA\r\n",
      "Scaffold_10\tNA\tintergenic\t219013\t225102\tNA\tNA\tNA\tNA\r\n",
      "Scaffold_10\tNA\tintergenic\t230053\t232785\tNA\tNA\tNA\tNA\r\n"
     ]
    }
   ],
   "source": [
    "!head Panopea-generosa-v1.0.a4.intergenic.gff3"
   ]
  },
  {
   "cell_type": "code",
   "execution_count": 11,
   "metadata": {
    "collapsed": true
   },
   "outputs": [],
   "source": [
    "!cat Panopea-generosa-v1.0.a4.introns.bed | \\\n",
    "awk -F\"\\t\" '{print $1\"\\t\"\"NA\"\"\\t\"\"intron\"\"\\t\"$2\"\\t\"$3\"\\t\"\"NA\"\"\\t\"\"NA\"\"\\t\"\"NA\"\"\\t\"\"NA\"}' \\\n",
    "> Panopea-generosa-v1.0.a4.intron.gff3"
   ]
  },
  {
   "cell_type": "code",
   "execution_count": 12,
   "metadata": {
    "collapsed": true
   },
   "outputs": [],
   "source": [
    "!cat Panopea-generosa-v1.0.gff3 \\\n",
    "Panopea-generosa-v1.0.a4.intergenic.gff3 \\\n",
    "Panopea-generosa-v1.0.a4.intron.gff3 \\\n",
    "> Panopea-generosa-v1.0.a4.gff3"
   ]
  },
  {
   "cell_type": "code",
   "execution_count": 14,
   "metadata": {},
   "outputs": [
    {
     "name": "stdout",
     "output_type": "stream",
     "text": [
      "Error: malformed GFF entry at line 3917221. Coordinate detected that is < 1. Exiting.\r\n"
     ]
    }
   ],
   "source": [
    "!/Users/Shelly/anaconda3/bin/bedtools sort -i Panopea-generosa-v1.0.a4.gff3 > Panopea-generosa-v1.0.a4.sorted.gff3"
   ]
  },
  {
   "cell_type": "code",
   "execution_count": 15,
   "metadata": {},
   "outputs": [
    {
     "name": "stdout",
     "output_type": "stream",
     "text": [
      "14\r\n"
     ]
    }
   ],
   "source": [
    "!grep -c gff-version Panopea-generosa-v1.0.a4.gff3"
   ]
  },
  {
   "cell_type": "code",
   "execution_count": 16,
   "metadata": {},
   "outputs": [
    {
     "name": "stdout",
     "output_type": "stream",
     "text": [
      " 4106483 Panopea-generosa-v1.0.a4.gff3\r\n"
     ]
    }
   ],
   "source": [
    "!wc -l Panopea-generosa-v1.0.a4.gff3"
   ]
  },
  {
   "cell_type": "code",
   "execution_count": 17,
   "metadata": {
    "collapsed": true
   },
   "outputs": [],
   "source": [
    "!awk -F\"\\t\" '{if(($1 !~/gff-version/) && ($1 !~/Generated/)&&($1!~/Project/))print $0}' \\\n",
    "Panopea-generosa-v1.0.a4.gff3 \\\n",
    "> Panopea-generosa-v1.0.a4.noheader.gff3"
   ]
  },
  {
   "cell_type": "code",
   "execution_count": 18,
   "metadata": {},
   "outputs": [
    {
     "name": "stdout",
     "output_type": "stream",
     "text": [
      " 4106441 Panopea-generosa-v1.0.a4.noheader.gff3\r\n"
     ]
    }
   ],
   "source": [
    "!wc -l Panopea-generosa-v1.0.a4.noheader.gff3"
   ]
  },
  {
   "cell_type": "code",
   "execution_count": 19,
   "metadata": {},
   "outputs": [
    {
     "name": "stdout",
     "output_type": "stream",
     "text": [
      "Error: malformed GFF entry at line 3917179. Coordinate detected that is < 1. Exiting.\r\n"
     ]
    }
   ],
   "source": [
    "!/Users/Shelly/anaconda3/bin/bedtools sort -i \\\n",
    "Panopea-generosa-v1.0.a4.noheader.gff3 \\\n",
    "> Panopea-generosa-v1.0.a4.sorted.gff3"
   ]
  },
  {
   "cell_type": "code",
   "execution_count": 20,
   "metadata": {},
   "outputs": [
    {
     "name": "stdout",
     "output_type": "stream",
     "text": [
      "Scaffold_18\tGenSAS_5d82b316cd298-trnascan\ttRNA\t837542\t837615\t25.9\t.\t.\tID=21513.GS22252522.PGEN_.tRNA00000535;Name=Pro;anti_codon=CGG;gene_no=16340;\r\n",
      "Scaffold_18\tGenSAS_5d82b316cd298-trnascan\ttRNA\t814779\t814854\t34.2\t.\t.\tID=21513.GS22252522.PGEN_.tRNA00000536;Name=Leu;anti_codon=TAG;gene_no=16341;\r\n",
      "Scaffold_18\tGenSAS_5d82b316cd298-trnascan\ttRNA\t797926\t797994\t22.8\t.\t.\tID=21513.GS22252522.PGEN_.tRNA00000537;Name=Met;anti_codon=CAT;gene_no=16342;\r\n",
      "Scaffold_18\tGenSAS_5d82b316cd298-trnascan\ttRNA\t466659\t466735\t48.0\t.\t.\tID=21513.GS22252522.PGEN_.tRNA00000538;Name=Ala;anti_codon=CGC;gene_no=16343;\r\n",
      "Scaffold_18\tGenSAS_5d82b316cd298-trnascan\ttRNA\t434168\t434247\t23.3\t.\t.\tID=21513.GS22252522.PGEN_.tRNA00000539;Name=Asp;anti_codon=ATC;gene_no=16344;\r\n",
      "Scaffold_18\tGenSAS_5d82b316cd298-trnascan\ttRNA\t432182\t432259\t20.7\t.\t.\tID=21513.GS22252522.PGEN_.tRNA00000540;Name=Asp;anti_codon=ATC;gene_no=16345;\r\n",
      "Scaffold_18\tGenSAS_5d82b316cd298-trnascan\ttRNA\t130811\t130884\t27.1\t.\t.\tID=21513.GS22252522.PGEN_.tRNA00000541;Name=Ala;anti_codon=CGC;gene_no=16346;\r\n",
      "Scaffold_18\tGenSAS_5d82b316cd298-trnascan\ttRNA\t65169\t65236\t24.4\t.\t.\tID=21513.GS22252522.PGEN_.tRNA00000542;Name=Thr;anti_codon=CGT;gene_no=16347;\r\n",
      "Scaffold_10\tNA\tintergenic\t0\t1\tNA\tNA\tNA\tNA\r\n",
      "Scaffold_10\tNA\tintergenic\t1145\t19539\tNA\tNA\tNA\tNA\r\n"
     ]
    }
   ],
   "source": [
    "!head -n 3917180 Panopea-generosa-v1.0.a4.noheader.gff3 | tail"
   ]
  },
  {
   "cell_type": "code",
   "execution_count": null,
   "metadata": {
    "collapsed": true
   },
   "outputs": [],
   "source": [
    "#just make a big bed file"
   ]
  },
  {
   "cell_type": "code",
   "execution_count": 21,
   "metadata": {
    "collapsed": true
   },
   "outputs": [],
   "source": [
    "!awk -F\"\\t\" '{print $1\"\\t\"$4\"\\t\"$5\"\\t\"$3}' Panopea-generosa-v1.0.a4.noheader.gff3 \\\n",
    "> Panopea-generosa-v1.0.a4.noheader.bed"
   ]
  },
  {
   "cell_type": "code",
   "execution_count": 22,
   "metadata": {
    "collapsed": true
   },
   "outputs": [],
   "source": [
    "!/Users/Shelly/anaconda3/bin/bedtools sort -i \\\n",
    "Panopea-generosa-v1.0.a4.noheader.bed \\\n",
    "> Panopea-generosa-v1.0.a4.sorted.bed"
   ]
  },
  {
   "cell_type": "code",
   "execution_count": null,
   "metadata": {
    "collapsed": true
   },
   "outputs": [],
   "source": []
  },
  {
   "cell_type": "code",
   "execution_count": null,
   "metadata": {
    "collapsed": true
   },
   "outputs": [],
   "source": []
  },
  {
   "cell_type": "code",
   "execution_count": null,
   "metadata": {
    "collapsed": true
   },
   "outputs": [],
   "source": []
  },
  {
   "cell_type": "code",
   "execution_count": null,
   "metadata": {
    "collapsed": true
   },
   "outputs": [],
   "source": []
  }
 ],
 "metadata": {
  "kernelspec": {
   "display_name": "Python 3",
   "language": "python",
   "name": "python3"
  },
  "language_info": {
   "codemirror_mode": {
    "name": "ipython",
    "version": 3
   },
   "file_extension": ".py",
   "mimetype": "text/x-python",
   "name": "python",
   "nbconvert_exporter": "python",
   "pygments_lexer": "ipython3",
   "version": "3.6.8"
  }
 },
 "nbformat": 4,
 "nbformat_minor": 2
}
