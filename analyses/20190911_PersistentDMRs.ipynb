{
 "cells": [
  {
   "cell_type": "code",
   "execution_count": null,
   "metadata": {},
   "outputs": [],
   "source": [
    "# this notebook is for finding overlap across DMRs identified in \n",
    "# treatment comparisons at specific time points\n",
    "# to answer the question do overlapping DMRs show consistent patterns?"
   ]
  },
  {
   "cell_type": "code",
   "execution_count": null,
   "metadata": {},
   "outputs": [],
   "source": [
    "# This notebook was run on Ostrich with gannet mounted "
   ]
  },
  {
   "cell_type": "code",
   "execution_count": null,
   "metadata": {},
   "outputs": [],
   "source": [
    "# compare day 10 DMRs to day 135 DMRs ID'd by DMR analysis \n",
    "# from this mox script 20190822_DMRfindAllEPIsamples.sh\n",
    "# which included the following parameters\n",
    "## --mc-type \"CGN\" \\\n",
    "## --num-procs 8 \\\n",
    "## --min-cov 5 \\\n",
    "## --output-prefix amb_AllTimes_DMR250bp_MCmax25_cov5x \\\n",
    "## --mc-max-dist 25 \\\n",
    "## --dmr-max-dist 250 \\\n",
    "## --min-num-dms 3 \\"
   ]
  },
  {
   "cell_type": "code",
   "execution_count": null,
   "metadata": {},
   "outputs": [],
   "source": [
    "#change directory into 20190822 analysis folder"
   ]
  },
  {
   "cell_type": "code",
   "execution_count": 1,
   "metadata": {},
   "outputs": [
    {
     "name": "stdout",
     "output_type": "stream",
     "text": [
      "/Volumes/web/metacarcinus/Pgenerosa/analyses/20190822\n"
     ]
    }
   ],
   "source": [
    "cd /Volumes/web/metacarcinus/Pgenerosa/analyses/20190822/"
   ]
  },
  {
   "cell_type": "code",
   "execution_count": null,
   "metadata": {},
   "outputs": [],
   "source": [
    "# preview DMRs identified at Day 10"
   ]
  },
  {
   "cell_type": "code",
   "execution_count": 2,
   "metadata": {},
   "outputs": [
    {
     "name": "stdout",
     "output_type": "stream",
     "text": [
      "chrPGA_scaffold10__49_contigs__length_53961475\t314\t354\t5\r\n",
      "chrPGA_scaffold10__49_contigs__length_53961475\t30435420\t30435467\t4\r\n",
      "chrPGA_scaffold10__49_contigs__length_53961475\t46346752\t46346973\t6\r\n",
      "chrPGA_scaffold11__79_contigs__length_51449921\t12229920\t12229943\t4\r\n",
      "chrPGA_scaffold11__79_contigs__length_51449921\t23691101\t23691115\t3\r\n",
      "chrPGA_scaffold11__79_contigs__length_51449921\t36084698\t36084801\t7\r\n",
      "chrPGA_scaffold12__71_contigs__length_50438331\t27198341\t27198378\t4\r\n",
      "chrPGA_scaffold12__71_contigs__length_50438331\t34895564\t34895584\t3\r\n",
      "chrPGA_scaffold12__71_contigs__length_50438331\t37496152\t37496252\t6\r\n",
      "chrPGA_scaffold12__71_contigs__length_50438331\t39565701\t39565765\t6\r\n"
     ]
    }
   ],
   "source": [
    "!head day10_AllpH_DMR250bp_MCmax25_cov5x_rms_results_collapsed.tsv.DMR.bed"
   ]
  },
  {
   "cell_type": "code",
   "execution_count": null,
   "metadata": {},
   "outputs": [],
   "source": [
    "#preview day 135 DMRs"
   ]
  },
  {
   "cell_type": "code",
   "execution_count": 3,
   "metadata": {},
   "outputs": [
    {
     "name": "stdout",
     "output_type": "stream",
     "text": [
      "chrPGA_scaffold10__49_contigs__length_53961475\t24776155\t24776170\t3\r\n",
      "chrPGA_scaffold10__49_contigs__length_53961475\t27552705\t27552723\t4\r\n",
      "chrPGA_scaffold10__49_contigs__length_53961475\t43494139\t43494159\t4\r\n",
      "chrPGA_scaffold11__79_contigs__length_51449921\t12223453\t12223578\t4\r\n",
      "chrPGA_scaffold11__79_contigs__length_51449921\t14810048\t14810073\t3\r\n",
      "chrPGA_scaffold11__79_contigs__length_51449921\t48342252\t48342282\t4\r\n",
      "chrPGA_scaffold12__71_contigs__length_50438331\t16522827\t16522843\t4\r\n",
      "chrPGA_scaffold12__71_contigs__length_50438331\t21584061\t21584200\t7\r\n",
      "chrPGA_scaffold13__52_contigs__length_44396874\t3048748\t3048816\t6\r\n",
      "chrPGA_scaffold13__52_contigs__length_44396874\t37957888\t37957925\t5\r\n"
     ]
    }
   ],
   "source": [
    "!head day135_AllpH_DMR250bp_MCmax25_cov5x_rms_results_collapsed.tsv.DMR.bed"
   ]
  },
  {
   "cell_type": "code",
   "execution_count": null,
   "metadata": {},
   "outputs": [],
   "source": [
    "#use bedtools closest to find overlapping regions \n",
    "#between the two time points\n",
    "# -d option prints distance between closest DMRs in the last column"
   ]
  },
  {
   "cell_type": "code",
   "execution_count": 6,
   "metadata": {},
   "outputs": [
    {
     "name": "stdout",
     "output_type": "stream",
     "text": [
      "chrPGA_scaffold10__49_contigs__length_53961475\t314\t354\t5\tchrPGA_scaffold10__49_contigs__length_53961475\t24776155\t24776170\t3\t24775802\r\n",
      "chrPGA_scaffold10__49_contigs__length_53961475\t30435420\t30435467\t4\tchrPGA_scaffold10__49_contigs__length_53961475\t27552705\t27552723\t4\t2882698\r\n",
      "chrPGA_scaffold10__49_contigs__length_53961475\t46346752\t46346973\t6\tchrPGA_scaffold10__49_contigs__length_53961475\t43494139\t43494159\t4\t2852594\r\n",
      "chrPGA_scaffold11__79_contigs__length_51449921\t12229920\t12229943\t4\tchrPGA_scaffold11__79_contigs__length_51449921\t12223453\t12223578\t4\t6343\r\n",
      "chrPGA_scaffold11__79_contigs__length_51449921\t23691101\t23691115\t3\tchrPGA_scaffold11__79_contigs__length_51449921\t14810048\t14810073\t3\t8881029\r\n",
      "chrPGA_scaffold11__79_contigs__length_51449921\t36084698\t36084801\t7\tchrPGA_scaffold11__79_contigs__length_51449921\t48342252\t48342282\t4\t12257452\r\n",
      "chrPGA_scaffold12__71_contigs__length_50438331\t27198341\t27198378\t4\tchrPGA_scaffold12__71_contigs__length_50438331\t21584061\t21584200\t7\t5614142\r\n",
      "chrPGA_scaffold12__71_contigs__length_50438331\t34895564\t34895584\t3\tchrPGA_scaffold12__71_contigs__length_50438331\t21584061\t21584200\t7\t13311365\r\n",
      "chrPGA_scaffold12__71_contigs__length_50438331\t37496152\t37496252\t6\tchrPGA_scaffold12__71_contigs__length_50438331\t21584061\t21584200\t7\t15911953\r\n",
      "chrPGA_scaffold12__71_contigs__length_50438331\t39565701\t39565765\t6\tchrPGA_scaffold12__71_contigs__length_50438331\t21584061\t21584200\t7\t17981502\r\n"
     ]
    }
   ],
   "source": [
    "!/Users/Shared/bioinformatics/bedtools2/bin/closestBed \\\n",
    "-a day10_AllpH_DMR250bp_MCmax25_cov5x_rms_results_collapsed.tsv.DMR.bed \\\n",
    "-b day135_AllpH_DMR250bp_MCmax25_cov5x_rms_results_collapsed.tsv.DMR.bed \\\n",
    "-d | head"
   ]
  },
  {
   "cell_type": "code",
   "execution_count": null,
   "metadata": {},
   "outputs": [],
   "source": [
    "#to see the DMRs that are overlapping or very close, sort by the last column"
   ]
  },
  {
   "cell_type": "code",
   "execution_count": 7,
   "metadata": {},
   "outputs": [
    {
     "name": "stdout",
     "output_type": "stream",
     "text": [
      "chrPGA_scaffold14__91_contigs__length_45393038\t31099429\t31099474\t5\tchrPGA_scaffold14__91_contigs__length_45393038\t31099429\t31099474\t5\t0\r\n",
      "chrPGA_scaffold1__77_contigs__length_89643857\t60340186\t60340199\t3\tchrPGA_scaffold1__77_contigs__length_89643857\t60340186\t60340199\t3\t0\r\n",
      "chrPGA_scaffold1__77_contigs__length_89643857\t63319624\t63319658\t3\tchrPGA_scaffold1__77_contigs__length_89643857\t63319608\t63319640\t3\t0\r\n",
      "chrPGA_scaffold3__111_contigs__length_57743597\t4273750\t4274543\t14\tchrPGA_scaffold3__111_contigs__length_57743597\t4273883\t4273924\t5\t0\r\n",
      "chrPGA_scaffold3__111_contigs__length_57743597\t51961502\t51961549\t4\tchrPGA_scaffold3__111_contigs__length_57743597\t51961860\t51961882\t3\t312\r\n",
      "chrPGA_scaffold6__104_contigs__length_61759565\t61557691\t61557942\t8\tchrPGA_scaffold6__104_contigs__length_61759565\t61556455\t61556568\t8\t1124\r\n",
      "chrPGA_scaffold1__77_contigs__length_89643857\t78289546\t78289694\t6\tchrPGA_scaffold1__77_contigs__length_89643857\t78292161\t78292195\t6\t2468\r\n",
      "chrPGA_scaffold11__79_contigs__length_51449921\t12229920\t12229943\t4\tchrPGA_scaffold11__79_contigs__length_51449921\t12223453\t12223578\t4\t6343\r\n",
      "chrPGA_scaffold13__52_contigs__length_44396874\t37946985\t37947012\t4\tchrPGA_scaffold13__52_contigs__length_44396874\t37957888\t37957925\t5\t10877\r\n",
      "chrPGA_scaffold14__91_contigs__length_45393038\t44429304\t44429444\t5\tchrPGA_scaffold14__91_contigs__length_45393038\t44457484\t44457536\t4\t28041\r\n"
     ]
    }
   ],
   "source": [
    "!/Users/Shared/bioinformatics/bedtools2/bin/closestBed \\\n",
    "-a day10_AllpH_DMR250bp_MCmax25_cov5x_rms_results_collapsed.tsv.DMR.bed \\\n",
    "-b day135_AllpH_DMR250bp_MCmax25_cov5x_rms_results_collapsed.tsv.DMR.bed \\\n",
    "-d | sort -k9,9n | head"
   ]
  },
  {
   "cell_type": "code",
   "execution_count": null,
   "metadata": {},
   "outputs": [],
   "source": [
    "# 4 DMRs are exactly overlapping (distance = 0)\n",
    "# 1 DMR is 312 bp away\n",
    "# 1 DMR is ~1kb away\n",
    "# 1 DMR is ~2.5kb away\n",
    "# the rest of the DMRs are not very close"
   ]
  },
  {
   "cell_type": "code",
   "execution_count": null,
   "metadata": {},
   "outputs": [],
   "source": [
    "# for 7 DMRs that are overlapping or relatively close, look at them in IGV"
   ]
  },
  {
   "cell_type": "code",
   "execution_count": null,
   "metadata": {},
   "outputs": [],
   "source": []
  },
  {
   "cell_type": "code",
   "execution_count": null,
   "metadata": {},
   "outputs": [],
   "source": []
  }
 ],
 "metadata": {
  "kernelspec": {
   "display_name": "Python 3",
   "language": "python",
   "name": "python3"
  },
  "language_info": {
   "codemirror_mode": {
    "name": "ipython",
    "version": 3
   },
   "file_extension": ".py",
   "mimetype": "text/x-python",
   "name": "python",
   "nbconvert_exporter": "python",
   "pygments_lexer": "ipython3",
   "version": "3.6.8"
  }
 },
 "nbformat": 4,
 "nbformat_minor": 2
}
