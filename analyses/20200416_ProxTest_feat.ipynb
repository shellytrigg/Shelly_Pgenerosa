{
 "cells": [
  {
   "cell_type": "code",
   "execution_count": null,
   "metadata": {
    "collapsed": true
   },
   "outputs": [],
   "source": [
    "#match sig DMRs ID'd in DMRfind iterations with different DMS proximity for day 10 sample"
   ]
  },
  {
   "cell_type": "code",
   "execution_count": 1,
   "metadata": {},
   "outputs": [
    {
     "name": "stdout",
     "output_type": "stream",
     "text": [
      "/Users/Shelly/Documents/GitHub/Shelly_Pgenerosa/analyses/20200415\n"
     ]
    }
   ],
   "source": [
    "cd 20200415/"
   ]
  },
  {
   "cell_type": "code",
   "execution_count": 2,
   "metadata": {},
   "outputs": [
    {
     "name": "stdout",
     "output_type": "stream",
     "text": [
      "20200415.Rproj\r\n",
      "Prox_1000_sigDMR.bed\r\n",
      "Prox_100_sigDMR.bed\r\n",
      "Prox_150_sigDMR.bed\r\n",
      "Prox_200_sigDMR.bed\r\n",
      "Prox_250_sigDMR.bed\r\n",
      "Prox_25_sigDMR.bed\r\n",
      "Prox_300_sigDMR.bed\r\n",
      "Prox_500_sigDMR.bed\r\n",
      "Prox_50_sigDMR.bed\r\n",
      "Screen Shot 2020-04-15 at 2.48.30 PM.png\r\n",
      "Screen Shot 2020-04-15 at 2.49.17 PM.png\r\n",
      "Screen Shot 2020-04-15 at 2.49.33 PM.png\r\n",
      "Screen Shot 2020-04-15 at 2.54.33 PM.png\r\n",
      "Screen Shot 2020-04-15 at 2.55.25 PM.png\r\n",
      "Screen Shot 2020-04-15 at 2.56.09 PM.png\r\n",
      "Screen Shot 2020-04-15 at 2.56.55 PM.png\r\n",
      "Screen Shot 2020-04-15 at 2.58.03 PM.png\r\n"
     ]
    }
   ],
   "source": [
    "!ls"
   ]
  },
  {
   "cell_type": "code",
   "execution_count": 5,
   "metadata": {},
   "outputs": [
    {
     "name": "stdout",
     "output_type": "stream",
     "text": [
      "Scaffold_01\t11337939\t11338156\r\n",
      "Scaffold_01\t24305706\t24305892\r\n",
      "Scaffold_01\t34979839\t34980439\r\n",
      "Scaffold_01\t38944845\t38946398\r\n",
      "Scaffold_01\t45628495\t45628595\r\n",
      "Scaffold_02\t47739909\t47740842\r\n",
      "Scaffold_02\t58122038\t58122086\r\n",
      "Scaffold_02\t59245887\t59245949\r\n",
      "Scaffold_02\t61737304\t61737425\r\n",
      "Scaffold_03\t13433176\t13433235\r\n"
     ]
    }
   ],
   "source": [
    "!head Prox_1000_sigDMR.bed"
   ]
  },
  {
   "cell_type": "code",
   "execution_count": null,
   "metadata": {
    "collapsed": true
   },
   "outputs": [],
   "source": [
    "#count the number of DMRs in each bed file"
   ]
  },
  {
   "cell_type": "code",
   "execution_count": 33,
   "metadata": {},
   "outputs": [
    {
     "name": "stdout",
     "output_type": "stream",
     "text": [
      "      53 Prox_1000_sigDMR.bed\r\n",
      "      33 Prox_100_sigDMR.bed\r\n",
      "      34 Prox_150_sigDMR.bed\r\n",
      "      38 Prox_200_sigDMR.bed\r\n",
      "      41 Prox_250_sigDMR.bed\r\n",
      "      23 Prox_25_sigDMR.bed\r\n",
      "      51 Prox_300_sigDMR.bed\r\n",
      "      46 Prox_500_sigDMR.bed\r\n",
      "      29 Prox_50_sigDMR.bed\r\n",
      "     348 total\r\n"
     ]
    }
   ],
   "source": [
    "!wc -l *.bed"
   ]
  },
  {
   "cell_type": "code",
   "execution_count": null,
   "metadata": {
    "collapsed": true
   },
   "outputs": [],
   "source": [
    "# try bedtools intersect using each different bedfile as the background\n",
    "\n",
    "#the loop below intersects each different bedfile with significant DMRs \n",
    "# from DMRfind where DMCpG dist is set to 1000\n",
    "# and then prints out the name of the bedfile and the number of lines that intersected\n",
    "\n",
    "#so the first two lines of output show the overlap between\n",
    "# Prox_1000_sigDMR.bed and Prox_1000_sigDMR.bed (the same file)\n",
    "# there are 53 lines in this file and all overlap because it's the same file\n",
    "# the next two lines show 22 DMRs in Prox_100_sigDMR.bed overlap with Prox_1000_sigDMR.bed, etc.\n",
    "\n",
    "# I'm going to use these outputs to make a matrix and plot a heatmap in R\n",
    "# to show overlap in regions identified with different settings"
   ]
  },
  {
   "cell_type": "code",
   "execution_count": 31,
   "metadata": {},
   "outputs": [
    {
     "name": "stdout",
     "output_type": "stream",
     "text": [
      "Prox_1000_sigDMR.bed\n",
      "      53\n",
      "Prox_100_sigDMR.bed\n",
      "      22\n",
      "Prox_150_sigDMR.bed\n",
      "      25\n",
      "Prox_200_sigDMR.bed\n",
      "      25\n",
      "Prox_250_sigDMR.bed\n",
      "      26\n",
      "Prox_25_sigDMR.bed\n",
      "      11\n",
      "Prox_300_sigDMR.bed\n",
      "      36\n",
      "Prox_500_sigDMR.bed\n",
      "      33\n",
      "Prox_50_sigDMR.bed\n",
      "      20\n"
     ]
    }
   ],
   "source": [
    "%%bash\n",
    "\n",
    "\n",
    "FILES=*DMR.bed\n",
    "\n",
    "for f in $FILES\n",
    "do\n",
    "echo ${f}\n",
    "/Users/Shelly/anaconda3/bin/intersectBed \\\n",
    "-a Prox_1000_sigDMR.bed \\\n",
    "-b ${f} \\\n",
    "-wa \\\n",
    "-wb \\\n",
    "-filenames|\\\n",
    "wc -l \n",
    "done"
   ]
  },
  {
   "cell_type": "code",
   "execution_count": 21,
   "metadata": {},
   "outputs": [
    {
     "name": "stdout",
     "output_type": "stream",
     "text": [
      "Prox_1000_sigDMR.bed\n",
      "      33\n",
      "Prox_100_sigDMR.bed\n",
      "      22\n",
      "Prox_150_sigDMR.bed\n",
      "      26\n",
      "Prox_200_sigDMR.bed\n",
      "      25\n",
      "Prox_250_sigDMR.bed\n",
      "      29\n",
      "Prox_25_sigDMR.bed\n",
      "      12\n",
      "Prox_300_sigDMR.bed\n",
      "      36\n",
      "Prox_500_sigDMR.bed\n",
      "      46\n",
      "Prox_50_sigDMR.bed\n",
      "      19\n"
     ]
    }
   ],
   "source": [
    "%%bash\n",
    "\n",
    "\n",
    "FILES=*DMR.bed\n",
    "\n",
    "for f in $FILES\n",
    "do\n",
    "echo ${f}\n",
    "/Users/Shelly/anaconda3/bin/intersectBed \\\n",
    "-a Prox_500_sigDMR.bed \\\n",
    "-b ${f} \\\n",
    "-wa \\\n",
    "-wb \\\n",
    "-filenames|\\\n",
    "wc -l\n",
    "done"
   ]
  },
  {
   "cell_type": "code",
   "execution_count": 39,
   "metadata": {},
   "outputs": [
    {
     "name": "stdout",
     "output_type": "stream",
     "text": [
      "Prox_1000_sigDMR.bed\n",
      "      36\n",
      "Prox_100_sigDMR.bed\n",
      "      23\n",
      "Prox_150_sigDMR.bed\n",
      "      26\n",
      "Prox_200_sigDMR.bed\n",
      "      28\n",
      "Prox_250_sigDMR.bed\n",
      "      33\n",
      "Prox_25_sigDMR.bed\n",
      "      12\n",
      "Prox_300_sigDMR.bed\n",
      "      51\n",
      "Prox_500_sigDMR.bed\n",
      "      36\n",
      "Prox_50_sigDMR.bed\n",
      "      22\n"
     ]
    }
   ],
   "source": [
    "%%bash\n",
    "\n",
    "\n",
    "FILES=*DMR.bed\n",
    "\n",
    "for f in $FILES\n",
    "do\n",
    "echo ${f}\n",
    "/Users/Shelly/anaconda3/bin/intersectBed \\\n",
    "-a Prox_300_sigDMR.bed \\\n",
    "-b ${f} \\\n",
    "-wa \\\n",
    "-wb \\\n",
    "-filenames|\\\n",
    "wc -l\n",
    "done"
   ]
  },
  {
   "cell_type": "code",
   "execution_count": 40,
   "metadata": {},
   "outputs": [
    {
     "name": "stdout",
     "output_type": "stream",
     "text": [
      "Prox_1000_sigDMR.bed\n",
      "      26\n",
      "Prox_100_sigDMR.bed\n",
      "      19\n",
      "Prox_150_sigDMR.bed\n",
      "      26\n",
      "Prox_200_sigDMR.bed\n",
      "      27\n",
      "Prox_250_sigDMR.bed\n",
      "      41\n",
      "Prox_25_sigDMR.bed\n",
      "      12\n",
      "Prox_300_sigDMR.bed\n",
      "      33\n",
      "Prox_500_sigDMR.bed\n",
      "      29\n",
      "Prox_50_sigDMR.bed\n",
      "      21\n"
     ]
    }
   ],
   "source": [
    "%%bash\n",
    "\n",
    "\n",
    "FILES=*DMR.bed\n",
    "\n",
    "for f in $FILES\n",
    "do\n",
    "echo ${f}\n",
    "/Users/Shelly/anaconda3/bin/intersectBed \\\n",
    "-a Prox_250_sigDMR.bed \\\n",
    "-b ${f} \\\n",
    "-wa \\\n",
    "-wb \\\n",
    "-filenames|\\\n",
    "wc -l\n",
    "done"
   ]
  },
  {
   "cell_type": "code",
   "execution_count": 41,
   "metadata": {},
   "outputs": [
    {
     "name": "stdout",
     "output_type": "stream",
     "text": [
      "Prox_1000_sigDMR.bed\n",
      "      25\n",
      "Prox_100_sigDMR.bed\n",
      "      24\n",
      "Prox_150_sigDMR.bed\n",
      "      25\n",
      "Prox_200_sigDMR.bed\n",
      "      38\n",
      "Prox_250_sigDMR.bed\n",
      "      27\n",
      "Prox_25_sigDMR.bed\n",
      "      12\n",
      "Prox_300_sigDMR.bed\n",
      "      28\n",
      "Prox_500_sigDMR.bed\n",
      "      25\n",
      "Prox_50_sigDMR.bed\n",
      "      23\n"
     ]
    }
   ],
   "source": [
    "%%bash\n",
    "\n",
    "\n",
    "FILES=*DMR.bed\n",
    "\n",
    "for f in $FILES\n",
    "do\n",
    "echo ${f}\n",
    "/Users/Shelly/anaconda3/bin/intersectBed \\\n",
    "-a Prox_200_sigDMR.bed \\\n",
    "-b ${f} \\\n",
    "-wa \\\n",
    "-wb \\\n",
    "-filenames|\\\n",
    "wc -l\n",
    "done"
   ]
  },
  {
   "cell_type": "code",
   "execution_count": 42,
   "metadata": {},
   "outputs": [
    {
     "name": "stdout",
     "output_type": "stream",
     "text": [
      "Prox_1000_sigDMR.bed\n",
      "      25\n",
      "Prox_100_sigDMR.bed\n",
      "      19\n",
      "Prox_150_sigDMR.bed\n",
      "      34\n",
      "Prox_200_sigDMR.bed\n",
      "      25\n",
      "Prox_250_sigDMR.bed\n",
      "      26\n",
      "Prox_25_sigDMR.bed\n",
      "       9\n",
      "Prox_300_sigDMR.bed\n",
      "      26\n",
      "Prox_500_sigDMR.bed\n",
      "      26\n",
      "Prox_50_sigDMR.bed\n",
      "      18\n"
     ]
    }
   ],
   "source": [
    "%%bash\n",
    "\n",
    "\n",
    "FILES=*DMR.bed\n",
    "\n",
    "for f in $FILES\n",
    "do\n",
    "echo ${f}\n",
    "/Users/Shelly/anaconda3/bin/intersectBed \\\n",
    "-a Prox_150_sigDMR.bed \\\n",
    "-b ${f} \\\n",
    "-wa \\\n",
    "-wb \\\n",
    "-filenames|\\\n",
    "wc -l\n",
    "done"
   ]
  },
  {
   "cell_type": "code",
   "execution_count": 43,
   "metadata": {},
   "outputs": [
    {
     "name": "stdout",
     "output_type": "stream",
     "text": [
      "Prox_1000_sigDMR.bed\n",
      "      22\n",
      "Prox_100_sigDMR.bed\n",
      "      33\n",
      "Prox_150_sigDMR.bed\n",
      "      19\n",
      "Prox_200_sigDMR.bed\n",
      "      24\n",
      "Prox_250_sigDMR.bed\n",
      "      19\n",
      "Prox_25_sigDMR.bed\n",
      "      12\n",
      "Prox_300_sigDMR.bed\n",
      "      23\n",
      "Prox_500_sigDMR.bed\n",
      "      22\n",
      "Prox_50_sigDMR.bed\n",
      "      22\n"
     ]
    }
   ],
   "source": [
    "%%bash\n",
    "\n",
    "\n",
    "FILES=*DMR.bed\n",
    "\n",
    "for f in $FILES\n",
    "do\n",
    "echo ${f}\n",
    "/Users/Shelly/anaconda3/bin/intersectBed \\\n",
    "-a Prox_100_sigDMR.bed \\\n",
    "-b ${f} \\\n",
    "-wa \\\n",
    "-wb \\\n",
    "-filenames|\\\n",
    "wc -l\n",
    "done"
   ]
  },
  {
   "cell_type": "code",
   "execution_count": 44,
   "metadata": {},
   "outputs": [
    {
     "name": "stdout",
     "output_type": "stream",
     "text": [
      "Prox_1000_sigDMR.bed\n",
      "      20\n",
      "Prox_100_sigDMR.bed\n",
      "      22\n",
      "Prox_150_sigDMR.bed\n",
      "      18\n",
      "Prox_200_sigDMR.bed\n",
      "      23\n",
      "Prox_250_sigDMR.bed\n",
      "      21\n",
      "Prox_25_sigDMR.bed\n",
      "      11\n",
      "Prox_300_sigDMR.bed\n",
      "      22\n",
      "Prox_500_sigDMR.bed\n",
      "      19\n",
      "Prox_50_sigDMR.bed\n",
      "      29\n"
     ]
    }
   ],
   "source": [
    "%%bash\n",
    "\n",
    "\n",
    "FILES=*DMR.bed\n",
    "\n",
    "for f in $FILES\n",
    "do\n",
    "echo ${f}\n",
    "/Users/Shelly/anaconda3/bin/intersectBed \\\n",
    "-a Prox_50_sigDMR.bed \\\n",
    "-b ${f} \\\n",
    "-wa \\\n",
    "-wb \\\n",
    "-filenames|\\\n",
    "wc -l\n",
    "done"
   ]
  },
  {
   "cell_type": "code",
   "execution_count": 45,
   "metadata": {},
   "outputs": [
    {
     "name": "stdout",
     "output_type": "stream",
     "text": [
      "Prox_1000_sigDMR.bed\n",
      "      11\n",
      "Prox_100_sigDMR.bed\n",
      "      12\n",
      "Prox_150_sigDMR.bed\n",
      "       9\n",
      "Prox_200_sigDMR.bed\n",
      "      12\n",
      "Prox_250_sigDMR.bed\n",
      "      12\n",
      "Prox_25_sigDMR.bed\n",
      "      23\n",
      "Prox_300_sigDMR.bed\n",
      "      12\n",
      "Prox_500_sigDMR.bed\n",
      "      12\n",
      "Prox_50_sigDMR.bed\n",
      "      11\n"
     ]
    }
   ],
   "source": [
    "%%bash\n",
    "\n",
    "\n",
    "FILES=*DMR.bed\n",
    "\n",
    "for f in $FILES\n",
    "do\n",
    "echo ${f}\n",
    "/Users/Shelly/anaconda3/bin/intersectBed \\\n",
    "-a Prox_25_sigDMR.bed \\\n",
    "-b ${f} \\\n",
    "-wa \\\n",
    "-wb \\\n",
    "-filenames|\\\n",
    "wc -l\n",
    "done"
   ]
  },
  {
   "cell_type": "code",
   "execution_count": null,
   "metadata": {
    "collapsed": true
   },
   "outputs": [],
   "source": [
    "# Below are alternate analyses I tried but didn't push forward with"
   ]
  },
  {
   "cell_type": "code",
   "execution_count": null,
   "metadata": {
    "collapsed": true
   },
   "outputs": [],
   "source": [
    "#create a union bedgraph and determine overlap with the union bedgraph?"
   ]
  },
  {
   "cell_type": "code",
   "execution_count": 38,
   "metadata": {},
   "outputs": [
    {
     "name": "stdout",
     "output_type": "stream",
     "text": [
      "chrom\tstart\tend\t25\t50\t100\t150\t200\t250\t300\t500\t1000\r\n",
      "Scaffold_01\t11337939\t11338156\tN/A\tN/A\tN/A\tN/A\tN/A\tN/A\t300\tN/A\t1000\r\n",
      "Scaffold_01\t24305706\t24305892\tN/A\tN/A\tN/A\t150\tN/A\tN/A\t300\t500\t1000\r\n",
      "Scaffold_01\t26811206\t26811326\tN/A\tN/A\tN/A\t150\tN/A\t250\tN/A\tN/A\tN/A\r\n",
      "Scaffold_01\t34979213\t34979775\tN/A\tN/A\tN/A\tN/A\tN/A\tN/A\tN/A\t500\tN/A\r\n",
      "Scaffold_01\t34979839\t34980439\tN/A\tN/A\tN/A\tN/A\tN/A\tN/A\tN/A\tN/A\t1000\r\n",
      "Scaffold_01\t38944845\t38946398\tN/A\tN/A\tN/A\tN/A\tN/A\tN/A\tN/A\tN/A\t1000\r\n",
      "Scaffold_01\t39008805\t39008838\t25\t50\t100\tN/A\t200\tN/A\tN/A\tN/A\tN/A\r\n",
      "Scaffold_01\t39008838\t8257747\tN/A\t50\t100\tN/A\tN/A\tN/A\tN/A\tN/A\tN/A\r\n",
      "Scaffold_01\t8257747\t39008838\tN/A\t50\t100\tN/A\tN/A\tN/A\tN/A\tN/A\tN/A\r\n",
      "Scaffold_01\t39008838\t45628495\tN/A\tN/A\tN/A\tN/A\tN/A\tN/A\tN/A\tN/A\tN/A\r\n",
      "Scaffold_01\t45628495\t45628595\tN/A\tN/A\t100\tN/A\t200\tN/A\t300\t500\t1000\r\n",
      "Scaffold_02\t23640521\t23640682\tN/A\tN/A\tN/A\tN/A\tN/A\tN/A\tN/A\t500\tN/A\r\n",
      "Scaffold_02\t23640682\t47739891\tN/A\tN/A\tN/A\tN/A\tN/A\tN/A\tN/A\tN/A\tN/A\r\n",
      "Scaffold_02\t47739891\t47739909\tN/A\tN/A\tN/A\tN/A\tN/A\t250\tN/A\tN/A\tN/A\r\n",
      "Scaffold_02\t47739909\t47740259\tN/A\tN/A\tN/A\tN/A\t200\t250\t300\tN/A\t1000\r\n",
      "Scaffold_02\t47740259\t47740298\t25\tN/A\tN/A\tN/A\t200\t250\t300\tN/A\t1000\r\n",
      "Scaffold_02\t47740298\t47740438\tN/A\tN/A\tN/A\tN/A\tN/A\t250\t300\tN/A\t1000\r\n",
      "Scaffold_02\t47740441\t47740842\tN/A\tN/A\tN/A\tN/A\tN/A\tN/A\tN/A\tN/A\t1000\r\n",
      "Scaffold_02\t47740842\t50890568\tN/A\tN/A\tN/A\tN/A\tN/A\tN/A\tN/A\tN/A\tN/A\r\n",
      "Scaffold_02\t50890568\t50890603\t25\tN/A\tN/A\tN/A\tN/A\tN/A\tN/A\tN/A\tN/A\r\n",
      "Scaffold_02\t50890603\t53313189\tN/A\tN/A\tN/A\tN/A\tN/A\tN/A\tN/A\tN/A\tN/A\r\n",
      "Scaffold_02\t53313318\t58122038\tN/A\tN/A\tN/A\tN/A\tN/A\tN/A\tN/A\tN/A\tN/A\r\n",
      "Scaffold_02\t58122038\t58122086\tN/A\t50\t100\t150\t200\t250\t300\t500\t1000\r\n",
      "Scaffold_02\t58122086\t59245887\tN/A\tN/A\tN/A\tN/A\tN/A\tN/A\tN/A\tN/A\tN/A\r\n",
      "Scaffold_02\t59245887\t59245949\tN/A\t50\t100\tN/A\tN/A\tN/A\t300\tN/A\t1000\r\n",
      "Scaffold_02\t59245949\t61737304\tN/A\tN/A\tN/A\tN/A\tN/A\tN/A\tN/A\tN/A\tN/A\r\n",
      "Scaffold_02\t61737304\t61737361\tN/A\tN/A\t100\t150\t200\t250\t300\t500\t1000\r\n",
      "Scaffold_02\t61737361\t61737425\t25\t50\t100\t150\t200\t250\t300\t500\t1000\r\n",
      "Scaffold_03\t13433176\t13433235\tN/A\t50\tN/A\t150\t200\t250\t300\t500\t1000\r\n",
      "Scaffold_03\t13433235\t14109888\tN/A\tN/A\tN/A\tN/A\tN/A\tN/A\tN/A\tN/A\tN/A\r\n",
      "Scaffold_03\t14109888\t14109953\tN/A\tN/A\t100\tN/A\tN/A\tN/A\tN/A\tN/A\tN/A\r\n",
      "Scaffold_03\t14109953\t14697169\tN/A\tN/A\tN/A\tN/A\tN/A\tN/A\tN/A\tN/A\tN/A\r\n",
      "Scaffold_03\t14697169\t14697413\tN/A\tN/A\tN/A\tN/A\tN/A\t250\t300\t500\tN/A\r\n",
      "Scaffold_03\t14697413\t14697606\tN/A\tN/A\tN/A\tN/A\tN/A\t250\t300\t500\t1000\r\n",
      "Scaffold_03\t14697631\t14698341\tN/A\tN/A\tN/A\tN/A\tN/A\tN/A\tN/A\tN/A\t1000\r\n",
      "Scaffold_03\t14698349\t14698459\tN/A\tN/A\t100\t150\t200\t250\t300\t500\t1000\r\n",
      "Scaffold_03\t14698459\t14698512\tN/A\t50\t100\t150\t200\t250\t300\t500\t1000\r\n",
      "Scaffold_03\t14698512\t14698539\tN/A\t50\t100\tN/A\t200\t250\tN/A\t500\t1000\r\n",
      "Scaffold_03\t14698539\t14718454\tN/A\tN/A\tN/A\tN/A\tN/A\tN/A\tN/A\tN/A\tN/A\r\n",
      "Scaffold_03\t14718454\t14718517\tN/A\t50\t100\t150\t200\t250\t300\t500\t1000\r\n",
      "Scaffold_03\t14718517\t14718621\tN/A\tN/A\t100\t150\t200\t250\t300\t500\t1000\r\n",
      "Scaffold_03\t14718621\t14719206\tN/A\tN/A\tN/A\tN/A\tN/A\tN/A\tN/A\tN/A\t1000\r\n",
      "Scaffold_03\t14719536\t14719554\tN/A\tN/A\tN/A\tN/A\tN/A\t250\tN/A\t500\t1000\r\n",
      "Scaffold_03\t14719554\t14719821\tN/A\tN/A\tN/A\tN/A\tN/A\t250\t300\t500\t1000\r\n",
      "Scaffold_03\t14719821\t14719864\tN/A\tN/A\t100\tN/A\tN/A\t250\t300\t500\t1000\r\n",
      "Scaffold_03\t14719864\t4272822\tN/A\tN/A\tN/A\tN/A\tN/A\t250\tN/A\t500\t1000\r\n",
      "Scaffold_03\t14719864\t14720585\tN/A\tN/A\tN/A\tN/A\tN/A\tN/A\tN/A\tN/A\t1000\r\n",
      "Scaffold_03\t14720585\t15572963\tN/A\tN/A\tN/A\tN/A\tN/A\tN/A\tN/A\tN/A\tN/A\r\n",
      "Scaffold_03\t15572963\t15573188\tN/A\tN/A\tN/A\t150\t200\t250\t300\t500\t1000\r\n",
      "Scaffold_03\t15573188\t1736047\tN/A\tN/A\tN/A\tN/A\t200\t250\t300\t500\t1000\r\n",
      "Scaffold_03\t4272379\t4272911\tN/A\tN/A\tN/A\t150\t200\t250\t300\t500\t1000\r\n",
      "Scaffold_03\t4530793\t4530948\tN/A\tN/A\tN/A\t150\t200\t250\t300\t500\t1000\r\n",
      "Scaffold_03\t15573188\t1736047\tN/A\tN/A\tN/A\tN/A\tN/A\t250\t300\t500\t1000\r\n",
      "Scaffold_03\t1736047\t15573188\tN/A\tN/A\tN/A\tN/A\tN/A\t250\t300\t500\t1000\r\n",
      "Scaffold_03\t15573188\t1736047\tN/A\tN/A\tN/A\tN/A\tN/A\t250\tN/A\t500\t1000\r\n",
      "Scaffold_03\t1736047\t4272067\tN/A\tN/A\tN/A\tN/A\tN/A\t250\tN/A\t500\t1000\r\n",
      "Scaffold_03\t4272067\t4273449\tN/A\tN/A\tN/A\tN/A\tN/A\t250\t300\t500\t1000\r\n",
      "Scaffold_03\t4273449\t4273751\tN/A\tN/A\tN/A\tN/A\tN/A\t250\tN/A\t500\t1000\r\n",
      "Scaffold_03\t4273751\t4274584\tN/A\tN/A\tN/A\tN/A\tN/A\t250\t300\t500\t1000\r\n",
      "Scaffold_03\t4274584\t15573188\tN/A\tN/A\tN/A\tN/A\tN/A\t250\tN/A\t500\t1000\r\n",
      "Scaffold_03\t15573188\t4272822\tN/A\tN/A\tN/A\tN/A\tN/A\t250\tN/A\t500\t1000\r\n",
      "Scaffold_03\t4272822\t15573188\tN/A\tN/A\tN/A\tN/A\tN/A\t250\tN/A\t500\t1000\r\n",
      "Scaffold_03\t15573188\t1736047\tN/A\tN/A\tN/A\tN/A\tN/A\t250\tN/A\t500\tN/A\r\n",
      "Scaffold_03\t1736047\t15573188\tN/A\tN/A\tN/A\tN/A\tN/A\t250\tN/A\t500\tN/A\r\n",
      "Scaffold_03\t15573188\t4274616\tN/A\tN/A\tN/A\tN/A\tN/A\t250\tN/A\t500\tN/A\r\n",
      "Scaffold_03\t4274616\t7648783\tN/A\tN/A\tN/A\tN/A\tN/A\t250\tN/A\t500\tN/A\r\n",
      "Scaffold_03\t7648783\t7649338\tN/A\tN/A\tN/A\tN/A\tN/A\t250\tN/A\t500\t1000\r\n",
      "Scaffold_03\t7649338\t15573188\tN/A\tN/A\tN/A\tN/A\tN/A\t250\tN/A\t500\tN/A\r\n",
      "Scaffold_03\t15573188\t1736047\tN/A\tN/A\tN/A\tN/A\tN/A\tN/A\tN/A\t500\tN/A\r\n",
      "Scaffold_03\t1736047\t15573188\tN/A\tN/A\tN/A\tN/A\tN/A\tN/A\tN/A\t500\tN/A\r\n",
      "Scaffold_03\t15573188\t4272822\tN/A\tN/A\tN/A\tN/A\tN/A\tN/A\tN/A\t500\tN/A\r\n",
      "Scaffold_03\t4272822\t4273751\tN/A\tN/A\tN/A\tN/A\tN/A\tN/A\tN/A\t500\tN/A\r\n",
      "Scaffold_03\t4273751\t4274584\tN/A\tN/A\tN/A\tN/A\tN/A\t250\tN/A\t500\tN/A\r\n",
      "Scaffold_03\t4274584\t7176961\tN/A\tN/A\tN/A\tN/A\tN/A\tN/A\tN/A\t500\tN/A\r\n",
      "Scaffold_03\t7176961\t7176994\tN/A\tN/A\tN/A\tN/A\tN/A\t250\tN/A\t500\tN/A\r\n",
      "Scaffold_03\t7176994\t15573188\tN/A\tN/A\tN/A\tN/A\tN/A\tN/A\tN/A\t500\tN/A\r\n",
      "Scaffold_03\t15573188\t1736047\tN/A\tN/A\tN/A\tN/A\tN/A\tN/A\tN/A\tN/A\tN/A\r\n",
      "Scaffold_03\t1736047\t15573188\tN/A\tN/A\tN/A\tN/A\tN/A\tN/A\tN/A\tN/A\tN/A\r\n",
      "Scaffold_03\t15573188\t4274584\tN/A\tN/A\tN/A\tN/A\tN/A\tN/A\tN/A\tN/A\tN/A\r\n",
      "Scaffold_03\t4274584\t15573188\tN/A\tN/A\tN/A\tN/A\tN/A\tN/A\tN/A\tN/A\tN/A\r\n",
      "Scaffold_03\t15573188\t25520773\tN/A\tN/A\tN/A\tN/A\tN/A\tN/A\tN/A\tN/A\tN/A\r\n",
      "Scaffold_03\t25520773\t25521306\tN/A\tN/A\tN/A\tN/A\tN/A\tN/A\tN/A\tN/A\t1000\r\n",
      "Scaffold_03\t25521306\t33875105\tN/A\tN/A\tN/A\tN/A\tN/A\tN/A\tN/A\tN/A\tN/A\r\n",
      "Scaffold_03\t33875105\t33875840\tN/A\tN/A\tN/A\tN/A\tN/A\tN/A\tN/A\t500\tN/A\r\n",
      "Scaffold_03\t33875840\t40279667\tN/A\tN/A\tN/A\tN/A\tN/A\tN/A\tN/A\tN/A\tN/A\r\n",
      "Scaffold_03\t40279667\t40279744\tN/A\t50\tN/A\tN/A\t200\t250\tN/A\tN/A\tN/A\r\n",
      "Scaffold_03\t40279744\t4272163\tN/A\tN/A\tN/A\tN/A\tN/A\tN/A\tN/A\tN/A\tN/A\r\n",
      "Scaffold_03\t4272163\t4272535\tN/A\tN/A\tN/A\tN/A\tN/A\tN/A\tN/A\tN/A\tN/A\r\n",
      "Scaffold_03\t4272535\t4272675\tN/A\t50\tN/A\tN/A\tN/A\tN/A\tN/A\tN/A\tN/A\r\n",
      "Scaffold_03\t4272675\t7176961\tN/A\tN/A\tN/A\tN/A\tN/A\tN/A\tN/A\tN/A\tN/A\r\n",
      "Scaffold_03\t7176961\t7176994\tN/A\t50\tN/A\tN/A\tN/A\tN/A\tN/A\tN/A\tN/A\r\n",
      "Scaffold_03\t7176994\t40279744\tN/A\tN/A\tN/A\tN/A\tN/A\tN/A\tN/A\tN/A\tN/A\r\n",
      "Scaffold_04\t21965091\t21965175\t25\t50\tN/A\tN/A\tN/A\tN/A\tN/A\tN/A\tN/A\r\n",
      "Scaffold_04\t21965175\t24775778\tN/A\tN/A\tN/A\tN/A\tN/A\tN/A\tN/A\tN/A\tN/A\r\n",
      "Scaffold_04\t24775778\t24775978\tN/A\tN/A\tN/A\tN/A\tN/A\tN/A\t300\tN/A\t1000\r\n",
      "Scaffold_04\t24775978\t35050467\tN/A\tN/A\tN/A\tN/A\tN/A\tN/A\tN/A\tN/A\tN/A\r\n",
      "Scaffold_04\t35050467\t35050624\tN/A\tN/A\tN/A\tN/A\tN/A\t250\tN/A\tN/A\tN/A\r\n",
      "Scaffold_04\t35050624\t60064541\tN/A\tN/A\tN/A\tN/A\tN/A\tN/A\tN/A\tN/A\tN/A\r\n",
      "Scaffold_04\t60064541\t60064580\t25\t50\t100\tN/A\tN/A\tN/A\tN/A\tN/A\tN/A\r\n",
      "Scaffold_04\t60064580\t8989943\tN/A\t50\tN/A\tN/A\tN/A\tN/A\tN/A\tN/A\tN/A\r\n",
      "Scaffold_04\t8989943\t60064580\tN/A\t50\tN/A\tN/A\tN/A\tN/A\tN/A\tN/A\tN/A\r\n",
      "Scaffold_05\t13866386\t13866777\tN/A\tN/A\tN/A\tN/A\tN/A\tN/A\t300\t500\t1000\r\n",
      "Scaffold_05\t13866777\t13866911\tN/A\tN/A\tN/A\tN/A\tN/A\tN/A\t300\tN/A\t1000\r\n",
      "Scaffold_05\t13866911\t19756155\tN/A\tN/A\tN/A\tN/A\tN/A\tN/A\tN/A\tN/A\tN/A\r\n",
      "Scaffold_05\t19756155\t19756175\t25\tN/A\tN/A\tN/A\tN/A\tN/A\tN/A\tN/A\tN/A\r\n",
      "Scaffold_05\t19756175\t21524290\tN/A\tN/A\tN/A\tN/A\tN/A\tN/A\tN/A\tN/A\tN/A\r\n",
      "Scaffold_05\t21524290\t21524662\tN/A\tN/A\tN/A\tN/A\tN/A\tN/A\tN/A\t500\t1000\r\n",
      "Scaffold_05\t21524662\t21524813\tN/A\tN/A\tN/A\tN/A\tN/A\tN/A\t300\t500\t1000\r\n",
      "Scaffold_05\t21524813\t21524827\t25\tN/A\tN/A\tN/A\tN/A\tN/A\t300\t500\t1000\r\n",
      "Scaffold_05\t21524827\t21524855\tN/A\tN/A\tN/A\tN/A\tN/A\tN/A\t300\t500\t1000\r\n",
      "Scaffold_05\t21524855\t21524858\tN/A\tN/A\tN/A\tN/A\tN/A\tN/A\tN/A\t500\t1000\r\n",
      "Scaffold_05\t21524858\t22235951\tN/A\tN/A\tN/A\tN/A\tN/A\tN/A\tN/A\tN/A\tN/A\r\n",
      "Scaffold_05\t22235951\t22235984\tN/A\t50\t100\tN/A\t200\tN/A\tN/A\tN/A\tN/A\r\n",
      "Scaffold_05\t22235984\t22236167\tN/A\tN/A\t100\tN/A\t200\tN/A\tN/A\tN/A\tN/A\r\n",
      "Scaffold_05\t22236167\t2337763\tN/A\tN/A\t100\tN/A\tN/A\tN/A\tN/A\tN/A\tN/A\r\n",
      "Scaffold_05\t2337763\t22236167\tN/A\tN/A\t100\tN/A\tN/A\tN/A\tN/A\tN/A\tN/A\r\n",
      "Scaffold_05\t22236167\t28178818\tN/A\tN/A\tN/A\tN/A\tN/A\tN/A\tN/A\tN/A\tN/A\r\n",
      "Scaffold_05\t28178818\t28178967\tN/A\tN/A\tN/A\tN/A\t200\tN/A\tN/A\tN/A\tN/A\r\n",
      "Scaffold_05\t28178967\t41972712\tN/A\tN/A\tN/A\tN/A\tN/A\tN/A\tN/A\tN/A\tN/A\r\n",
      "Scaffold_05\t41972712\t41973290\tN/A\tN/A\tN/A\tN/A\tN/A\tN/A\t300\t500\t1000\r\n",
      "Scaffold_06\t57229939\t57230007\tN/A\t50\tN/A\tN/A\t200\t250\t300\tN/A\tN/A\r\n",
      "Scaffold_06\t57230007\t57230010\tN/A\tN/A\tN/A\tN/A\tN/A\t250\tN/A\tN/A\tN/A\r\n",
      "Scaffold_07\t10858992\t10859007\t25\tN/A\tN/A\tN/A\tN/A\tN/A\tN/A\tN/A\tN/A\r\n",
      "Scaffold_07\t10859007\t31666020\tN/A\tN/A\tN/A\tN/A\tN/A\tN/A\tN/A\tN/A\tN/A\r\n",
      "Scaffold_07\t31666020\t31666052\tN/A\t50\t100\t150\t200\t250\t300\t500\t1000\r\n",
      "Scaffold_07\t31666052\t31666079\tN/A\tN/A\t100\t150\t200\t250\t300\tN/A\t1000\r\n",
      "Scaffold_07\t31666079\t31666083\tN/A\tN/A\t100\tN/A\t200\t250\t300\tN/A\t1000\r\n",
      "Scaffold_07\t31666083\t33397600\tN/A\tN/A\tN/A\tN/A\tN/A\tN/A\tN/A\tN/A\tN/A\r\n",
      "Scaffold_07\t33397600\t33397734\tN/A\tN/A\tN/A\tN/A\tN/A\tN/A\tN/A\tN/A\t1000\r\n",
      "Scaffold_07\t33397734\t33397737\tN/A\tN/A\t100\tN/A\tN/A\tN/A\t300\tN/A\t1000\r\n",
      "Scaffold_07\t33397737\t33397830\tN/A\tN/A\t100\tN/A\t200\tN/A\t300\tN/A\t1000\r\n",
      "Scaffold_07\t33397830\t33397850\tN/A\t50\t100\t150\t200\tN/A\t300\tN/A\t1000\r\n",
      "Scaffold_07\t33397850\t33397898\tN/A\t50\tN/A\t150\t200\tN/A\tN/A\tN/A\t1000\r\n",
      "Scaffold_07\t33397898\t5473046\tN/A\tN/A\tN/A\t150\t200\tN/A\tN/A\tN/A\tN/A\r\n",
      "Scaffold_07\t5473046\t33397898\tN/A\tN/A\tN/A\t150\t200\tN/A\tN/A\tN/A\tN/A\r\n",
      "Scaffold_07\t33397898\t5473046\tN/A\tN/A\tN/A\tN/A\tN/A\tN/A\tN/A\tN/A\tN/A\r\n",
      "Scaffold_07\t5473046\t33397898\tN/A\tN/A\tN/A\tN/A\tN/A\tN/A\tN/A\tN/A\tN/A\r\n",
      "Scaffold_08\t1741225\t1741610\tN/A\tN/A\tN/A\tN/A\tN/A\tN/A\tN/A\tN/A\t1000\r\n",
      "Scaffold_08\t1741610\t2408019\tN/A\tN/A\tN/A\tN/A\tN/A\tN/A\tN/A\tN/A\tN/A\r\n",
      "Scaffold_08\t2408019\t2408275\tN/A\tN/A\tN/A\tN/A\tN/A\tN/A\t300\t500\t1000\r\n",
      "Scaffold_08\t2408275\t2408375\tN/A\tN/A\tN/A\tN/A\t200\tN/A\t300\t500\t1000\r\n",
      "Scaffold_08\t2408375\t2408442\tN/A\tN/A\tN/A\tN/A\t200\tN/A\tN/A\tN/A\tN/A\r\n",
      "Scaffold_08\t2408442\t2408601\tN/A\tN/A\tN/A\tN/A\tN/A\tN/A\tN/A\tN/A\tN/A\r\n",
      "Scaffold_08\t2408601\t2409311\tN/A\tN/A\tN/A\tN/A\tN/A\tN/A\tN/A\tN/A\t1000\r\n",
      "Scaffold_08\t2409311\t3282763\tN/A\tN/A\tN/A\tN/A\tN/A\tN/A\tN/A\tN/A\tN/A\r\n",
      "Scaffold_08\t3282763\t3283557\tN/A\tN/A\tN/A\tN/A\tN/A\tN/A\tN/A\tN/A\t1000\r\n",
      "Scaffold_08\t3283557\t4252222\tN/A\tN/A\tN/A\tN/A\tN/A\tN/A\tN/A\tN/A\tN/A\r\n",
      "Scaffold_08\t4252222\t4252303\tN/A\tN/A\tN/A\t150\tN/A\tN/A\tN/A\t500\tN/A\r\n",
      "Scaffold_08\t4252303\t5121902\tN/A\tN/A\tN/A\tN/A\tN/A\tN/A\tN/A\tN/A\tN/A\r\n",
      "Scaffold_08\t5121902\t5122480\tN/A\tN/A\tN/A\tN/A\tN/A\tN/A\tN/A\tN/A\t1000\r\n",
      "Scaffold_08\t5122480\t18093218\tN/A\tN/A\tN/A\tN/A\tN/A\tN/A\tN/A\tN/A\tN/A\r\n",
      "Scaffold_08\t18093218\t18093280\tN/A\tN/A\t100\tN/A\tN/A\tN/A\tN/A\tN/A\tN/A\r\n",
      "Scaffold_08\t18093280\t2408442\tN/A\tN/A\tN/A\tN/A\tN/A\tN/A\tN/A\tN/A\tN/A\r\n",
      "Scaffold_08\t2408442\t18093280\tN/A\tN/A\tN/A\tN/A\tN/A\tN/A\tN/A\tN/A\tN/A\r\n",
      "Scaffold_08\t18093280\t27696303\tN/A\tN/A\tN/A\tN/A\tN/A\tN/A\tN/A\tN/A\tN/A\r\n",
      "Scaffold_08\t27696303\t27696324\tN/A\tN/A\tN/A\tN/A\tN/A\t250\t300\tN/A\tN/A\r\n",
      "Scaffold_08\t27696324\t4252303\tN/A\tN/A\tN/A\tN/A\tN/A\tN/A\t300\tN/A\tN/A\r\n",
      "Scaffold_08\t4252303\t27696324\tN/A\tN/A\tN/A\tN/A\tN/A\tN/A\t300\tN/A\tN/A\r\n",
      "Scaffold_08\t27696324\t4252303\tN/A\tN/A\tN/A\tN/A\tN/A\tN/A\tN/A\tN/A\tN/A\r\n",
      "Scaffold_08\t4252303\t5102002\tN/A\tN/A\tN/A\tN/A\tN/A\tN/A\tN/A\tN/A\tN/A\r\n",
      "Scaffold_08\t5102002\t5102171\tN/A\tN/A\tN/A\tN/A\tN/A\tN/A\t300\tN/A\tN/A\r\n",
      "Scaffold_08\t5102171\t27696324\tN/A\tN/A\tN/A\tN/A\tN/A\tN/A\tN/A\tN/A\tN/A\r\n",
      "Scaffold_08\t27696324\t47516820\tN/A\tN/A\tN/A\tN/A\tN/A\tN/A\tN/A\tN/A\tN/A\r\n",
      "Scaffold_08\t47516820\t47516855\t25\tN/A\t100\tN/A\t200\t250\tN/A\t500\tN/A\r\n",
      "Scaffold_08\t47516855\t5122480\t25\tN/A\t100\tN/A\t200\t250\tN/A\tN/A\tN/A\r\n",
      "Scaffold_08\t5122480\t47516855\t25\tN/A\t100\tN/A\t200\t250\tN/A\tN/A\tN/A\r\n",
      "Scaffold_08\t47516855\t53130083\tN/A\tN/A\tN/A\tN/A\tN/A\tN/A\tN/A\tN/A\tN/A\r\n",
      "Scaffold_08\t53130083\t53130120\t25\tN/A\tN/A\tN/A\tN/A\tN/A\tN/A\tN/A\tN/A\r\n",
      "Scaffold_08\t53130120\t55803219\tN/A\tN/A\tN/A\tN/A\tN/A\tN/A\tN/A\tN/A\tN/A\r\n",
      "Scaffold_08\t55803219\t55803387\tN/A\tN/A\tN/A\t150\tN/A\tN/A\tN/A\tN/A\tN/A\r\n",
      "Scaffold_08\t55803387\t55841202\tN/A\tN/A\tN/A\tN/A\tN/A\tN/A\tN/A\tN/A\tN/A\r\n",
      "Scaffold_08\t55841202\t55842017\tN/A\tN/A\tN/A\tN/A\tN/A\tN/A\tN/A\tN/A\t1000\r\n",
      "Scaffold_08\t55842017\t58717104\tN/A\tN/A\tN/A\tN/A\tN/A\tN/A\tN/A\tN/A\tN/A\r\n",
      "Scaffold_08\t58717104\t58717434\tN/A\tN/A\tN/A\tN/A\tN/A\tN/A\t300\t500\t1000\r\n",
      "Scaffold_08\t58717434\t58717687\tN/A\tN/A\tN/A\t150\tN/A\t250\t300\t500\t1000\r\n",
      "Scaffold_08\t58717687\t58717964\tN/A\tN/A\tN/A\tN/A\tN/A\t250\t300\t500\t1000\r\n",
      "Scaffold_08\t58717964\t58953930\tN/A\tN/A\tN/A\tN/A\tN/A\tN/A\tN/A\tN/A\tN/A\r\n",
      "Scaffold_08\t58953930\t58954002\tN/A\tN/A\t100\t150\tN/A\t250\tN/A\t500\t1000\r\n",
      "Scaffold_08\t58954002\t58954052\tN/A\tN/A\tN/A\t150\tN/A\tN/A\tN/A\t500\tN/A\r\n",
      "Scaffold_08\t58954052\t60436956\tN/A\tN/A\tN/A\tN/A\tN/A\tN/A\tN/A\tN/A\tN/A\r\n",
      "Scaffold_08\t60436956\t60436961\t25\t50\t100\t150\t200\t250\tN/A\t500\tN/A\r\n",
      "Scaffold_08\t60436961\t60436992\t25\t50\t100\t150\t200\t250\t300\t500\t1000\r\n",
      "Scaffold_08\t60436992\t60437025\tN/A\t50\t100\t150\t200\t250\t300\t500\t1000\r\n",
      "Scaffold_08\t60437025\t60437068\tN/A\tN/A\t100\t150\t200\t250\t300\t500\t1000\r\n",
      "Scaffold_08\t60437068\t60437089\t25\tN/A\t100\t150\t200\t250\t300\t500\t1000\r\n",
      "Scaffold_08\t60437089\t60437220\t25\t50\t100\t150\t200\t250\t300\t500\t1000\r\n",
      "Scaffold_08\t60437220\t60438786\tN/A\tN/A\tN/A\tN/A\tN/A\tN/A\tN/A\tN/A\tN/A\r\n",
      "Scaffold_08\t60438786\t60438960\tN/A\tN/A\tN/A\t150\tN/A\tN/A\tN/A\tN/A\tN/A\r\n",
      "Scaffold_09\t29902457\t29902492\tN/A\tN/A\t100\tN/A\tN/A\tN/A\t300\tN/A\t1000\r\n",
      "Scaffold_09\t29902492\t32979298\tN/A\tN/A\tN/A\tN/A\tN/A\tN/A\tN/A\tN/A\tN/A\r\n",
      "Scaffold_09\t32979298\t32979474\tN/A\tN/A\tN/A\t150\t200\t250\tN/A\tN/A\tN/A\r\n",
      "Scaffold_10\t11112744\t11112912\tN/A\tN/A\tN/A\t150\t200\t250\t300\t500\t1000\r\n",
      "Scaffold_10\t11112912\t11112983\tN/A\tN/A\tN/A\tN/A\t200\tN/A\t300\tN/A\t1000\r\n",
      "Scaffold_10\t11112983\t13645154\tN/A\tN/A\tN/A\tN/A\tN/A\tN/A\tN/A\tN/A\tN/A\r\n",
      "Scaffold_10\t13645154\t13645258\tN/A\tN/A\tN/A\tN/A\tN/A\t250\t300\tN/A\tN/A\r\n",
      "Scaffold_10\t13645258\t21939574\tN/A\tN/A\tN/A\tN/A\tN/A\tN/A\tN/A\tN/A\tN/A\r\n",
      "Scaffold_10\t21939574\t21940396\tN/A\tN/A\tN/A\tN/A\tN/A\tN/A\tN/A\tN/A\t1000\r\n",
      "Scaffold_12\t31195527\t31196537\tN/A\tN/A\tN/A\tN/A\tN/A\tN/A\tN/A\tN/A\t1000\r\n",
      "Scaffold_12\t31196537\t37496226\tN/A\tN/A\tN/A\tN/A\tN/A\tN/A\tN/A\tN/A\tN/A\r\n",
      "Scaffold_12\t37496226\t37496248\t25\tN/A\t100\tN/A\tN/A\t250\t300\t500\tN/A\r\n",
      "Scaffold_13\t8939966\t8940755\tN/A\tN/A\tN/A\tN/A\tN/A\tN/A\tN/A\tN/A\t1000\r\n",
      "Scaffold_13\t8940755\t39206017\tN/A\tN/A\tN/A\tN/A\tN/A\tN/A\tN/A\tN/A\tN/A\r\n",
      "Scaffold_13\t39206017\t39206112\tN/A\tN/A\tN/A\tN/A\tN/A\tN/A\t300\t500\tN/A\r\n",
      "Scaffold_13\t39206112\t39206174\tN/A\tN/A\tN/A\tN/A\tN/A\tN/A\t300\tN/A\tN/A\r\n",
      "Scaffold_13\t39206174\t40768538\tN/A\tN/A\tN/A\tN/A\tN/A\tN/A\tN/A\tN/A\tN/A\r\n",
      "Scaffold_13\t40768538\t40768658\tN/A\tN/A\t100\tN/A\tN/A\tN/A\tN/A\tN/A\tN/A\r\n",
      "Scaffold_14\t1592008\t1592010\tN/A\tN/A\tN/A\tN/A\t200\tN/A\tN/A\t500\t1000\r\n",
      "Scaffold_14\t1592010\t1592088\tN/A\tN/A\tN/A\t150\t200\tN/A\t300\t500\t1000\r\n",
      "Scaffold_14\t1592088\t1592166\tN/A\tN/A\t100\t150\t200\tN/A\t300\t500\t1000\r\n",
      "Scaffold_14\t1592166\t1592221\tN/A\tN/A\tN/A\tN/A\tN/A\tN/A\t300\tN/A\tN/A\r\n",
      "Scaffold_14\t1592221\t1831504\tN/A\tN/A\tN/A\tN/A\tN/A\tN/A\tN/A\tN/A\tN/A\r\n",
      "Scaffold_14\t1831504\t1831632\tN/A\t50\tN/A\tN/A\tN/A\tN/A\tN/A\tN/A\tN/A\r\n",
      "Scaffold_14\t1831632\t24151281\tN/A\tN/A\tN/A\tN/A\tN/A\tN/A\tN/A\tN/A\tN/A\r\n",
      "Scaffold_14\t24151281\t24151475\tN/A\tN/A\tN/A\tN/A\t200\tN/A\tN/A\tN/A\t1000\r\n",
      "Scaffold_14\t24151475\t24151631\tN/A\tN/A\tN/A\tN/A\t200\tN/A\t300\tN/A\t1000\r\n",
      "Scaffold_14\t24151631\t24151670\tN/A\t50\t100\t150\t200\t250\t300\t500\t1000\r\n",
      "Scaffold_14\t24151670\t24151701\t25\t50\t100\t150\t200\t250\t300\t500\t1000\r\n",
      "Scaffold_14\t24151701\t24151740\tN/A\t50\t100\t150\t200\t250\t300\t500\t1000\r\n",
      "Scaffold_14\t24151740\t24915667\tN/A\tN/A\tN/A\tN/A\tN/A\tN/A\tN/A\tN/A\tN/A\r\n",
      "Scaffold_14\t24915667\t24916266\tN/A\tN/A\tN/A\tN/A\tN/A\tN/A\tN/A\tN/A\t1000\r\n",
      "Scaffold_14\t24916266\t2975202\tN/A\tN/A\tN/A\tN/A\tN/A\tN/A\tN/A\tN/A\tN/A\r\n",
      "Scaffold_14\t2975202\t24916266\tN/A\tN/A\tN/A\tN/A\tN/A\tN/A\tN/A\tN/A\tN/A\r\n",
      "Scaffold_14\t24916266\t26478693\tN/A\tN/A\tN/A\tN/A\tN/A\tN/A\tN/A\tN/A\tN/A\r\n",
      "Scaffold_14\t26478693\t26478945\tN/A\tN/A\tN/A\tN/A\tN/A\t250\t300\tN/A\tN/A\r\n",
      "Scaffold_14\t26478945\t26968000\tN/A\tN/A\tN/A\tN/A\tN/A\tN/A\tN/A\tN/A\tN/A\r\n",
      "Scaffold_14\t26968000\t26968153\tN/A\tN/A\tN/A\tN/A\tN/A\tN/A\tN/A\t500\tN/A\r\n",
      "Scaffold_14\t26968153\t2974431\tN/A\tN/A\tN/A\tN/A\tN/A\tN/A\tN/A\tN/A\tN/A\r\n",
      "Scaffold_14\t2974431\t26968153\tN/A\tN/A\tN/A\tN/A\tN/A\tN/A\tN/A\tN/A\tN/A\r\n",
      "Scaffold_14\t26968153\t35869946\tN/A\tN/A\tN/A\tN/A\tN/A\tN/A\tN/A\tN/A\tN/A\r\n",
      "Scaffold_14\t35869946\t35870050\tN/A\tN/A\tN/A\t150\t200\t250\t300\t500\t1000\r\n",
      "Scaffold_14\t35870050\t35870084\tN/A\t50\tN/A\t150\t200\t250\t300\t500\t1000\r\n",
      "Scaffold_14\t35870084\t35870171\tN/A\t50\t100\t150\t200\t250\t300\t500\t1000\r\n",
      "Scaffold_14\t35870171\t35870223\tN/A\tN/A\t100\t150\t200\t250\t300\t500\t1000\r\n",
      "Scaffold_14\t35870223\t35870354\tN/A\t50\t100\t150\t200\t250\t300\t500\t1000\r\n",
      "Scaffold_14\t35870354\t35870434\tN/A\tN/A\t100\t150\t200\t250\t300\t500\t1000\r\n",
      "Scaffold_14\t35870434\t35870456\t25\t50\t100\t150\t200\t250\t300\t500\t1000\r\n",
      "Scaffold_14\t35870456\t35870486\tN/A\t50\t100\t150\t200\t250\t300\t500\t1000\r\n",
      "Scaffold_14\t35870486\t35870574\tN/A\tN/A\t100\t150\t200\t250\t300\t500\t1000\r\n",
      "Scaffold_14\t35870574\t35870588\tN/A\t50\t100\t150\t200\t250\t300\t500\t1000\r\n",
      "Scaffold_14\t35870588\t35870632\tN/A\t50\t100\tN/A\t200\t250\t300\t500\t1000\r\n",
      "Scaffold_14\t35870632\t35870764\tN/A\tN/A\t100\tN/A\t200\t250\t300\t500\t1000\r\n",
      "Scaffold_14\t35870764\t35870895\tN/A\tN/A\t100\t150\t200\t250\t300\t500\t1000\r\n",
      "Scaffold_14\t35870895\t35870939\tN/A\t50\t100\t150\t200\t250\t300\t500\t1000\r\n",
      "Scaffold_14\t35870939\t35871093\t25\t50\t100\t150\t200\t250\t300\t500\t1000\r\n",
      "Scaffold_14\t35871093\t35871230\tN/A\tN/A\tN/A\tN/A\tN/A\t250\t300\t500\t1000\r\n",
      "Scaffold_14\t35871230\t35871325\tN/A\tN/A\t100\tN/A\tN/A\t250\t300\t500\t1000\r\n",
      "Scaffold_14\t35871325\t35871361\tN/A\t50\t100\t150\t200\t250\t300\t500\t1000\r\n",
      "Scaffold_14\t35871361\t35871369\t25\t50\t100\t150\t200\t250\t300\t500\t1000\r\n",
      "Scaffold_14\t35871369\t35871383\t25\tN/A\t100\t150\t200\t250\t300\t500\t1000\r\n",
      "Scaffold_14\t35871383\t35871457\tN/A\tN/A\t100\t150\t200\t250\t300\t500\t1000\r\n",
      "Scaffold_14\t35871457\t35871501\tN/A\t50\t100\t150\t200\t250\t300\t500\t1000\r\n",
      "Scaffold_14\t35871501\t35871559\t25\t50\t100\t150\t200\t250\t300\t500\t1000\r\n",
      "Scaffold_14\t35871559\t35871589\tN/A\t50\t100\t150\t200\t250\t300\t500\t1000\r\n",
      "Scaffold_14\t35871589\t35871647\tN/A\tN/A\t100\t150\t200\t250\t300\t500\t1000\r\n",
      "Scaffold_14\t35871647\t35871956\tN/A\tN/A\t100\t150\t200\tN/A\tN/A\tN/A\tN/A\r\n",
      "Scaffold_14\t35871956\t4516577\tN/A\tN/A\tN/A\tN/A\t200\tN/A\tN/A\tN/A\tN/A\r\n",
      "Scaffold_14\t4516577\t5559405\tN/A\tN/A\tN/A\tN/A\t200\tN/A\tN/A\tN/A\tN/A\r\n",
      "Scaffold_14\t5559405\t5559539\tN/A\tN/A\tN/A\t150\t200\tN/A\tN/A\tN/A\tN/A\r\n",
      "Scaffold_14\t5559539\t671403\tN/A\tN/A\tN/A\tN/A\t200\tN/A\tN/A\tN/A\tN/A\r\n",
      "Scaffold_14\t671403\t5559539\tN/A\tN/A\tN/A\tN/A\t200\tN/A\tN/A\tN/A\tN/A\r\n",
      "Scaffold_14\t5559539\t35871956\tN/A\tN/A\tN/A\tN/A\t200\tN/A\tN/A\tN/A\tN/A\r\n",
      "Scaffold_14\t35871956\t35872087\tN/A\tN/A\tN/A\tN/A\t200\tN/A\tN/A\tN/A\tN/A\r\n",
      "Scaffold_14\t35872087\t35872117\tN/A\tN/A\tN/A\tN/A\tN/A\tN/A\tN/A\tN/A\tN/A\r\n",
      "Scaffold_14\t35872117\t35872310\tN/A\tN/A\t100\tN/A\t200\t250\t300\t500\t1000\r\n",
      "Scaffold_14\t35872310\t4516637\tN/A\tN/A\t100\tN/A\tN/A\tN/A\tN/A\t500\t1000\r\n",
      "Scaffold_14\t4516637\t671403\tN/A\tN/A\t100\tN/A\tN/A\tN/A\tN/A\t500\t1000\r\n",
      "Scaffold_14\t671403\t4516637\tN/A\tN/A\t100\tN/A\tN/A\tN/A\tN/A\t500\t1000\r\n",
      "Scaffold_14\t4516637\t35872310\tN/A\tN/A\t100\tN/A\tN/A\tN/A\tN/A\t500\t1000\r\n",
      "Scaffold_14\t35872310\t4516605\tN/A\tN/A\t100\tN/A\tN/A\tN/A\tN/A\tN/A\t1000\r\n",
      "Scaffold_14\t4516605\t5559405\tN/A\tN/A\t100\tN/A\tN/A\tN/A\tN/A\tN/A\t1000\r\n",
      "Scaffold_14\t5559405\t5559539\tN/A\tN/A\t100\tN/A\tN/A\tN/A\tN/A\t500\t1000\r\n",
      "Scaffold_14\t5559539\t671403\tN/A\tN/A\t100\tN/A\tN/A\tN/A\tN/A\tN/A\t1000\r\n",
      "Scaffold_14\t671403\t5559539\tN/A\tN/A\t100\tN/A\tN/A\tN/A\tN/A\tN/A\t1000\r\n",
      "Scaffold_14\t5559539\t35872310\tN/A\tN/A\t100\tN/A\tN/A\tN/A\tN/A\tN/A\t1000\r\n",
      "Scaffold_14\t35872310\t671403\tN/A\tN/A\tN/A\tN/A\tN/A\tN/A\tN/A\tN/A\t1000\r\n",
      "Scaffold_14\t671403\t35872310\tN/A\tN/A\tN/A\tN/A\tN/A\tN/A\tN/A\tN/A\t1000\r\n",
      "Scaffold_14\t35872310\t35873122\tN/A\tN/A\tN/A\tN/A\tN/A\tN/A\tN/A\tN/A\t1000\r\n",
      "Scaffold_14\t35873122\t37013847\tN/A\tN/A\tN/A\tN/A\tN/A\tN/A\tN/A\tN/A\tN/A\r\n",
      "Scaffold_14\t37013847\t37014065\tN/A\tN/A\tN/A\tN/A\tN/A\t250\tN/A\tN/A\t1000\r\n",
      "Scaffold_14\t37014065\t4516605\tN/A\tN/A\tN/A\tN/A\tN/A\tN/A\tN/A\tN/A\t1000\r\n",
      "Scaffold_14\t4516605\t5559405\tN/A\tN/A\tN/A\tN/A\tN/A\tN/A\tN/A\tN/A\t1000\r\n",
      "Scaffold_14\t5559405\t5559539\tN/A\tN/A\tN/A\tN/A\tN/A\t250\tN/A\tN/A\t1000\r\n",
      "Scaffold_14\t5559539\t671403\tN/A\tN/A\tN/A\tN/A\tN/A\tN/A\tN/A\tN/A\t1000\r\n",
      "Scaffold_14\t671403\t5559539\tN/A\tN/A\tN/A\tN/A\tN/A\tN/A\tN/A\tN/A\t1000\r\n",
      "Scaffold_14\t5559539\t37014065\tN/A\tN/A\tN/A\tN/A\tN/A\tN/A\tN/A\tN/A\t1000\r\n",
      "Scaffold_14\t37014065\t4516637\tN/A\tN/A\tN/A\tN/A\tN/A\tN/A\tN/A\tN/A\tN/A\r\n",
      "Scaffold_14\t4516637\t5559405\tN/A\tN/A\tN/A\tN/A\tN/A\tN/A\tN/A\tN/A\tN/A\r\n",
      "Scaffold_14\t5559405\t5559539\tN/A\tN/A\tN/A\tN/A\tN/A\tN/A\tN/A\tN/A\t1000\r\n",
      "Scaffold_14\t5559539\t671403\tN/A\tN/A\tN/A\tN/A\tN/A\tN/A\tN/A\tN/A\tN/A\r\n",
      "Scaffold_14\t671403\t5559539\tN/A\tN/A\tN/A\tN/A\tN/A\tN/A\tN/A\tN/A\tN/A\r\n",
      "Scaffold_14\t5559539\t37014065\tN/A\tN/A\tN/A\tN/A\tN/A\tN/A\tN/A\tN/A\tN/A\r\n",
      "Scaffold_14\t37014065\t37729576\tN/A\tN/A\tN/A\tN/A\tN/A\tN/A\tN/A\tN/A\tN/A\r\n",
      "Scaffold_14\t37729576\t37729775\tN/A\tN/A\tN/A\tN/A\tN/A\tN/A\t300\tN/A\tN/A\r\n",
      "Scaffold_14\t37729775\t4516605\tN/A\tN/A\tN/A\tN/A\tN/A\tN/A\tN/A\tN/A\tN/A\r\n",
      "Scaffold_14\t4516605\t5559405\tN/A\tN/A\tN/A\tN/A\tN/A\tN/A\tN/A\tN/A\tN/A\r\n",
      "Scaffold_14\t5559405\t5559539\tN/A\tN/A\tN/A\tN/A\tN/A\tN/A\t300\tN/A\tN/A\r\n",
      "Scaffold_14\t5559539\t671403\tN/A\tN/A\tN/A\tN/A\tN/A\tN/A\tN/A\tN/A\tN/A\r\n",
      "Scaffold_14\t671403\t5559539\tN/A\tN/A\tN/A\tN/A\tN/A\tN/A\tN/A\tN/A\tN/A\r\n",
      "Scaffold_14\t5559539\t37729775\tN/A\tN/A\tN/A\tN/A\tN/A\tN/A\tN/A\tN/A\tN/A\r\n",
      "Scaffold_14\t37729775\t41137167\tN/A\tN/A\tN/A\tN/A\tN/A\tN/A\tN/A\tN/A\tN/A\r\n",
      "Scaffold_14\t41137167\t41137202\t25\tN/A\tN/A\tN/A\tN/A\tN/A\tN/A\tN/A\tN/A\r\n",
      "Scaffold_14\t41137202\t4516253\tN/A\tN/A\tN/A\tN/A\tN/A\tN/A\tN/A\tN/A\tN/A\r\n",
      "Scaffold_14\t4516253\t41137202\tN/A\tN/A\tN/A\tN/A\tN/A\tN/A\tN/A\tN/A\tN/A\r\n",
      "Scaffold_14\t41137202\t42067453\tN/A\tN/A\tN/A\tN/A\tN/A\tN/A\tN/A\tN/A\tN/A\r\n",
      "Scaffold_14\t42067453\t42068680\tN/A\tN/A\tN/A\tN/A\tN/A\tN/A\tN/A\t500\t1000\r\n",
      "Scaffold_15\t11947178\t11947185\tN/A\tN/A\t100\t150\tN/A\t250\t300\t500\t1000\r\n",
      "Scaffold_15\t11947185\t11947224\tN/A\tN/A\t100\t150\t200\t250\t300\t500\t1000\r\n",
      "Scaffold_15\t11947224\t18839068\tN/A\tN/A\tN/A\tN/A\tN/A\tN/A\tN/A\tN/A\tN/A\r\n",
      "Scaffold_15\t18839068\t18839320\tN/A\tN/A\tN/A\t150\t200\tN/A\tN/A\tN/A\tN/A\r\n",
      "Scaffold_15\t18839320\t18839488\tN/A\tN/A\t100\t150\t200\tN/A\tN/A\tN/A\tN/A\r\n",
      "Scaffold_15\t18839488\t30412423\tN/A\tN/A\tN/A\tN/A\tN/A\tN/A\tN/A\tN/A\tN/A\r\n",
      "Scaffold_15\t30412423\t30412475\tN/A\tN/A\tN/A\tN/A\t200\t250\t300\t500\t1000\r\n",
      "Scaffold_15\t30412475\t30412682\tN/A\tN/A\t100\t150\t200\t250\t300\t500\t1000\r\n",
      "Scaffold_15\t30412682\t30412821\tN/A\tN/A\tN/A\t150\t200\t250\tN/A\t500\t1000\r\n",
      "Scaffold_15\t30412821\t30412832\tN/A\tN/A\tN/A\t150\tN/A\t250\tN/A\t500\tN/A\r\n",
      "Scaffold_15\t30412832\t30675937\tN/A\tN/A\tN/A\tN/A\tN/A\tN/A\tN/A\tN/A\tN/A\r\n",
      "Scaffold_15\t30675937\t30676273\tN/A\tN/A\tN/A\tN/A\tN/A\tN/A\t300\tN/A\tN/A\r\n",
      "Scaffold_15\t30676273\t31761152\tN/A\tN/A\tN/A\tN/A\tN/A\tN/A\tN/A\tN/A\tN/A\r\n",
      "Scaffold_15\t31761152\t31761290\tN/A\tN/A\tN/A\t150\t200\t250\t300\t500\tN/A\r\n",
      "Scaffold_16\t11049990\t11050225\tN/A\tN/A\tN/A\tN/A\t200\t250\t300\tN/A\tN/A\r\n",
      "Scaffold_17\t6009474\t6010848\tN/A\tN/A\tN/A\tN/A\tN/A\tN/A\tN/A\tN/A\t1000\r\n",
      "Scaffold_17\t6010848\t14589149\tN/A\tN/A\tN/A\tN/A\tN/A\tN/A\tN/A\tN/A\tN/A\r\n",
      "Scaffold_17\t14589149\t14589329\tN/A\tN/A\t100\t150\t200\tN/A\tN/A\tN/A\tN/A\r\n",
      "Scaffold_17\t14589329\t14589340\tN/A\tN/A\tN/A\t150\tN/A\tN/A\tN/A\tN/A\tN/A\r\n",
      "Scaffold_17\t14589340\t18071037\tN/A\tN/A\tN/A\tN/A\tN/A\tN/A\tN/A\tN/A\tN/A\r\n",
      "Scaffold_17\t18071037\t18071128\tN/A\tN/A\tN/A\tN/A\tN/A\tN/A\tN/A\t500\tN/A\r\n",
      "Scaffold_17\t18071128\t28120555\tN/A\tN/A\tN/A\tN/A\tN/A\tN/A\tN/A\tN/A\tN/A\r\n",
      "Scaffold_17\t28120555\t28120826\tN/A\tN/A\tN/A\tN/A\tN/A\tN/A\t300\tN/A\tN/A\r\n",
      "Scaffold_17\t28120826\t28122158\tN/A\tN/A\tN/A\tN/A\tN/A\tN/A\tN/A\tN/A\tN/A\r\n",
      "Scaffold_17\t28122158\t28122350\tN/A\tN/A\tN/A\tN/A\tN/A\tN/A\tN/A\t500\tN/A\r\n",
      "Scaffold_18\t2842818\t2843769\tN/A\tN/A\tN/A\tN/A\tN/A\tN/A\tN/A\tN/A\t1000\r\n",
      "Scaffold_18\t2843769\t23287106\tN/A\tN/A\tN/A\tN/A\tN/A\tN/A\tN/A\tN/A\tN/A\r\n",
      "Scaffold_18\t23287106\t23287192\tN/A\t50\t100\tN/A\t200\t250\t300\t500\tN/A\r\n",
      "Scaffold_18\t23287192\t23287294\tN/A\tN/A\tN/A\tN/A\t200\t250\t300\t500\tN/A\r\n"
     ]
    }
   ],
   "source": [
    "!/Users/Shelly/anaconda3/bin/bedtools \\\n",
    "unionbedg \\\n",
    "-header \\\n",
    "-filler N/A \\\n",
    "-names 25 50 100 150 200 250 300 500 1000 \\\n",
    "-i \\\n",
    "Prox_25_sigDMR.bed \\\n",
    "Prox_50_sigDMR.bed \\\n",
    "Prox_100_sigDMR.bed \\\n",
    "Prox_150_sigDMR.bed \\\n",
    "Prox_200_sigDMR.bed \\\n",
    "Prox_250_sigDMR.bed \\\n",
    "Prox_300_sigDMR.bed \\\n",
    "Prox_500_sigDMR.bed \\\n",
    "Prox_1000_sigDMR.bed \\"
   ]
  },
  {
   "cell_type": "code",
   "execution_count": null,
   "metadata": {
    "collapsed": true
   },
   "outputs": [],
   "source": [
    "# check for intersection of different DMRs with gneomic features"
   ]
  },
  {
   "cell_type": "code",
   "execution_count": 8,
   "metadata": {
    "collapsed": true
   },
   "outputs": [],
   "source": [
    "%%bash\n",
    "\n",
    "FILES=*DMR.bed\n",
    "\n",
    "for f in $FILES\n",
    "do\n",
    "/Users/Shelly/anaconda3/bin/intersectBed \\\n",
    "-a ${f} \\\n",
    "-b /Volumes/web/metacarcinus/Pgenerosa/analyses/20200408/Panopea-generosa-v1.0.a4.2Kbin.uniq.bed \\\n",
    "> $(basename ${f%DMR.bed})_0416.txt\n",
    "done"
   ]
  },
  {
   "cell_type": "code",
   "execution_count": 7,
   "metadata": {},
   "outputs": [
    {
     "name": "stdout",
     "output_type": "stream",
     "text": [
      "Scaffold_01\t11337939\t11338156\tScaffold_01\t11336279\t11338278\t3prime_UTR\r\n",
      "Scaffold_01\t11337939\t11338156\tScaffold_01\t11336417\t11338278\tintergenic\r\n",
      "Scaffold_01\t11337939\t11338020\tScaffold_01\t11337659\t11338020\trepeat_region\r\n",
      "Scaffold_01\t24305706\t24305892\tScaffold_01\t24304322\t24306322\tintron\r\n",
      "Scaffold_01\t34979910\t34980439\tScaffold_01\t34979910\t34980755\tintergenic\r\n",
      "Scaffold_01\t34979911\t34980439\tScaffold_01\t34979911\t34981910\t3prime_UTR\r\n",
      "Scaffold_01\t34979839\t34980439\tScaffold_01\t34978756\t34980755\t3prime_UTR\r\n",
      "Scaffold_01\t34979839\t34979910\tScaffold_01\t34979674\t34979910\texon\r\n",
      "Scaffold_01\t38944845\t38945111\tScaffold_01\t38944794\t38945111\trepeat_region\r\n",
      "Scaffold_01\t38944845\t38946398\tScaffold_01\t38944829\t38946514\trepeat_region\r\n"
     ]
    }
   ],
   "source": [
    "!head Prox_1000_sig_0416.txt"
   ]
  },
  {
   "cell_type": "code",
   "execution_count": null,
   "metadata": {
    "collapsed": true
   },
   "outputs": [],
   "source": [
    "#output file name for all interesecting DMRs"
   ]
  },
  {
   "cell_type": "code",
   "execution_count": 14,
   "metadata": {},
   "outputs": [
    {
     "name": "stdout",
     "output_type": "stream",
     "text": [
      "Scaffold_01\t8256735\t8257734\tput_promoter\tProx_25_sigDMR.bed\tScaffold_01\t8257702\t8257747\n",
      "Scaffold_01\t8257067\t8258104\texon\tProx_25_sigDMR.bed\tScaffold_01\t8257702\t8257747\n",
      "Scaffold_01\t11336279\t11338278\t3prime_UTR\tProx_1000_sigDMR.bed\tScaffold_01\t11337939\t11338156\n",
      "Scaffold_01\t11336279\t11338278\t3prime_UTR\tProx_300_sigDMR.bed\tScaffold_01\t11337939\t11338156\n",
      "Scaffold_01\t11336417\t11338278\tintergenic\tProx_1000_sigDMR.bed\tScaffold_01\t11337939\t11338156\n",
      "Scaffold_01\t11336417\t11338278\tintergenic\tProx_300_sigDMR.bed\tScaffold_01\t11337939\t11338156\n",
      "Scaffold_01\t11337659\t11338020\trepeat_region\tProx_1000_sigDMR.bed\tScaffold_01\t11337939\t11338156\n",
      "Scaffold_01\t11337659\t11338020\trepeat_region\tProx_300_sigDMR.bed\tScaffold_01\t11337939\t11338156\n",
      "Scaffold_01\t24304322\t24306322\tintron\tProx_1000_sigDMR.bed\tScaffold_01\t24305706\t24305892\n",
      "Scaffold_01\t24304322\t24306322\tintron\tProx_150_sigDMR.bed\tScaffold_01\t24305706\t24305892\n"
     ]
    }
   ],
   "source": [
    "%%bash\n",
    "\n",
    "/Users/Shelly/anaconda3/bin/intersectBed \\\n",
    "-a /Volumes/web/metacarcinus/Pgenerosa/analyses/20200408/Panopea-generosa-v1.0.a4.2Kbin.uniq.bed \\\n",
    "-b *.bed \\\n",
    "-wa \\\n",
    "-wb \\\n",
    "-filenames|\\\n",
    "head"
   ]
  },
  {
   "cell_type": "code",
   "execution_count": null,
   "metadata": {
    "collapsed": true
   },
   "outputs": [],
   "source": [
    "#output file name for all interesecting DMRs and sort the output"
   ]
  },
  {
   "cell_type": "code",
   "execution_count": 15,
   "metadata": {
    "scrolled": true
   },
   "outputs": [
    {
     "name": "stdout",
     "output_type": "stream",
     "text": [
      "Scaffold_01\t8256735\t8257734\tput_promoter\tProx_25_sigDMR.bed\tScaffold_01\t8257702\t8257747\n",
      "Scaffold_01\t8257067\t8258104\texon\tProx_25_sigDMR.bed\tScaffold_01\t8257702\t8257747\n",
      "Scaffold_01\t11336279\t11338278\t3prime_UTR\tProx_1000_sigDMR.bed\tScaffold_01\t11337939\t11338156\n",
      "Scaffold_01\t11336279\t11338278\t3prime_UTR\tProx_300_sigDMR.bed\tScaffold_01\t11337939\t11338156\n",
      "Scaffold_01\t11336417\t11338278\tintergenic\tProx_1000_sigDMR.bed\tScaffold_01\t11337939\t11338156\n",
      "Scaffold_01\t11336417\t11338278\tintergenic\tProx_300_sigDMR.bed\tScaffold_01\t11337939\t11338156\n",
      "Scaffold_01\t11337659\t11338020\trepeat_region\tProx_1000_sigDMR.bed\tScaffold_01\t11337939\t11338156\n",
      "Scaffold_01\t11337659\t11338020\trepeat_region\tProx_300_sigDMR.bed\tScaffold_01\t11337939\t11338156\n",
      "Scaffold_01\t24304322\t24306322\tintron\tProx_1000_sigDMR.bed\tScaffold_01\t24305706\t24305892\n",
      "Scaffold_01\t24304322\t24306322\tintron\tProx_150_sigDMR.bed\tScaffold_01\t24305706\t24305892\n"
     ]
    }
   ],
   "source": [
    "%%bash\n",
    "\n",
    "/Users/Shelly/anaconda3/bin/intersectBed \\\n",
    "-a /Volumes/web/metacarcinus/Pgenerosa/analyses/20200408/Panopea-generosa-v1.0.a4.2Kbin.uniq.bed \\\n",
    "-b *.bed \\\n",
    "-wa \\\n",
    "-wb \\\n",
    "-filenames|\\\n",
    "/Users/Shelly/anaconda3/bin/sortBed -i - |\\\n",
    "head"
   ]
  },
  {
   "cell_type": "code",
   "execution_count": null,
   "metadata": {
    "collapsed": true
   },
   "outputs": [],
   "source": [
    "#output the count of unique overlaps for each DMR file"
   ]
  },
  {
   "cell_type": "code",
   "execution_count": 18,
   "metadata": {},
   "outputs": [
    {
     "name": "stdout",
     "output_type": "stream",
     "text": [
      "   7 Scaffold_14 35869816 35871816 repeat_region Prox_50_sigDMR.bed\n",
      "   6 Scaffold_14 35869434 35871433 3prime_UTR Prox_50_sigDMR.bed\n",
      "   6 Scaffold_14 35869433 35871433 intergenic Prox_50_sigDMR.bed\n",
      "   4 Scaffold_14 35869816 35871816 repeat_region Prox_25_sigDMR.bed\n",
      "   3 Scaffold_14 35869816 35871816 repeat_region Prox_150_sigDMR.bed\n",
      "   3 Scaffold_14 35869434 35871433 3prime_UTR Prox_25_sigDMR.bed\n",
      "   3 Scaffold_14 35869434 35871433 3prime_UTR Prox_150_sigDMR.bed\n",
      "   3 Scaffold_14 35869433 35871433 intergenic Prox_25_sigDMR.bed\n",
      "   3 Scaffold_14 35869433 35871433 intergenic Prox_150_sigDMR.bed\n",
      "   2 Scaffold_14 35871816 35872566 repeat_region Prox_200_sigDMR.bed\n"
     ]
    }
   ],
   "source": [
    "%%bash\n",
    "\n",
    "/Users/Shelly/anaconda3/bin/intersectBed \\\n",
    "-a /Volumes/web/metacarcinus/Pgenerosa/analyses/20200408/Panopea-generosa-v1.0.a4.2Kbin.uniq.bed \\\n",
    "-b *.bed \\\n",
    "-wa \\\n",
    "-wb \\\n",
    "-filenames|\\\n",
    "/Users/Shelly/anaconda3/bin/sortBed -i - |\\\n",
    "awk -F\"\\t\" '{print $1,$2,$3,$4,$5}' |\\\n",
    "uniq -c | sort -rn | head"
   ]
  },
  {
   "cell_type": "code",
   "execution_count": null,
   "metadata": {
    "collapsed": true
   },
   "outputs": [],
   "source": []
  }
 ],
 "metadata": {
  "kernelspec": {
   "display_name": "Python 3",
   "language": "python",
   "name": "python3"
  },
  "language_info": {
   "codemirror_mode": {
    "name": "ipython",
    "version": 3
   },
   "file_extension": ".py",
   "mimetype": "text/x-python",
   "name": "python",
   "nbconvert_exporter": "python",
   "pygments_lexer": "ipython3",
   "version": "3.6.8"
  }
 },
 "nbformat": 4,
 "nbformat_minor": 2
}
