{
 "cells": [
  {
   "cell_type": "code",
   "execution_count": 1,
   "metadata": {
    "collapsed": true
   },
   "outputs": [],
   "source": [
    "!mkdir /Volumes/web/metacarcinus/Pgenerosa/analyses/20200311/extractDMS"
   ]
  },
  {
   "cell_type": "code",
   "execution_count": 2,
   "metadata": {},
   "outputs": [
    {
     "name": "stdout",
     "output_type": "stream",
     "text": [
      "/Volumes/web/metacarcinus/Pgenerosa/analyses/20200311/extractDMS\n"
     ]
    }
   ],
   "source": [
    "cd /Volumes/web/metacarcinus/Pgenerosa/analyses/20200311/extractDMS"
   ]
  },
  {
   "cell_type": "code",
   "execution_count": null,
   "metadata": {
    "collapsed": true
   },
   "outputs": [],
   "source": [
    "#create file with DMR and DMS side by side"
   ]
  },
  {
   "cell_type": "code",
   "execution_count": 4,
   "metadata": {},
   "outputs": [
    {
     "name": "stdout",
     "output_type": "stream",
     "text": [
      "chrScaffold_01\t191265\t191290\t3\tchrScaffold_01\t191265\t191266\tCGA;+\t0.0003\t0\n",
      "chrScaffold_01\t191265\t191290\t3\tchrScaffold_01\t191278\t191279\tCGA;+\t0.0003\t0\n",
      "chrScaffold_01\t191265\t191290\t3\tchrScaffold_01\t191289\t191290\tCGA;+\t0.0003\t0\n",
      "chrScaffold_01\t420238\t420252\t3\tchrScaffold_01\t420238\t420239\tCGA;+\t0.0003\t0\n",
      "chrScaffold_01\t420238\t420252\t3\tchrScaffold_01\t420248\t420249\tCGA;+\t0.0003\t0\n",
      "chrScaffold_01\t420238\t420252\t3\tchrScaffold_01\t420251\t420252\tCGA;+\t0.0003\t0\n",
      "chrScaffold_01\t660957\t660981\t4\tchrScaffold_01\t660957\t660958\tCGA;+\t0.0003\t0\n",
      "chrScaffold_01\t660957\t660981\t4\tchrScaffold_01\t660965\t660966\tCGA;+\t0.0003\t0\n",
      "chrScaffold_01\t660957\t660981\t4\tchrScaffold_01\t660971\t660972\tCGA;+\t0.0003\t0\n",
      "chrScaffold_01\t660957\t660981\t4\tchrScaffold_01\t660980\t660981\tCGA;+\t0.0003\t0\n"
     ]
    }
   ],
   "source": [
    "%%bash\n",
    "bedtools closest \\\n",
    "-a ../../20191222/amb_AllTimes_DMR250bp_MCmax25_cov5x_rms_results_collapsed.tsv.DMR.bed \\\n",
    "-b ../../20191222/amb_AllTimes_DMR250bp_MCmax25_cov5x_rms_results_collapsed.tsv.DMS.bed \\\n",
    "-d |\\\n",
    "head"
   ]
  },
  {
   "cell_type": "code",
   "execution_count": 5,
   "metadata": {},
   "outputs": [
    {
     "name": "stderr",
     "output_type": "stream",
     "text": [
      "Error: Sorted input specified, but the file ../../20191222/amb_AllTimes_DMR250bp_MCmax25_cov5x_rms_results_collapsed.tsv.DMS.bed has the following out of order record\n",
      "chrScaffold_15\t30313587\t30313588\tCGA;+\t0.0003\n"
     ]
    }
   ],
   "source": [
    "%%bash\n",
    "bedtools closest \\\n",
    "-a ../../20191222/amb_AllTimes_DMR250bp_MCmax25_cov5x_rms_results_collapsed.tsv.DMR.bed \\\n",
    "-b ../../20191222/amb_AllTimes_DMR250bp_MCmax25_cov5x_rms_results_collapsed.tsv.DMS.bed \\\n",
    "-d > amb_AllTimes_DMR250bp_MCmax25_cov5x_DMR_and_DMS.bed"
   ]
  },
  {
   "cell_type": "code",
   "execution_count": 6,
   "metadata": {
    "collapsed": true
   },
   "outputs": [],
   "source": [
    "%%bash\n",
    "bedtools sort -i ../../20191222/amb_AllTimes_DMR250bp_MCmax25_cov5x_rms_results_collapsed.tsv.DMS.bed |\\\n",
    "bedtools closest \\\n",
    "-a ../../20191222/amb_AllTimes_DMR250bp_MCmax25_cov5x_rms_results_collapsed.tsv.DMR.bed \\\n",
    "-b - \\\n",
    "-d > amb_AllTimes_DMR250bp_MCmax25_cov5x_DMR_and_DMS.bed"
   ]
  },
  {
   "cell_type": "code",
   "execution_count": 7,
   "metadata": {},
   "outputs": [
    {
     "name": "stdout",
     "output_type": "stream",
     "text": [
      "chrScaffold_01\t191265\t191290\t3\tchrScaffold_01\t191265\t191266\tCGA;+\t0.0003\t0\r\n",
      "chrScaffold_01\t191265\t191290\t3\tchrScaffold_01\t191278\t191279\tCGA;+\t0.0003\t0\r\n",
      "chrScaffold_01\t191265\t191290\t3\tchrScaffold_01\t191289\t191290\tCGA;+\t0.0003\t0\r\n",
      "chrScaffold_01\t420238\t420252\t3\tchrScaffold_01\t420238\t420239\tCGA;+\t0.0003\t0\r\n",
      "chrScaffold_01\t420238\t420252\t3\tchrScaffold_01\t420248\t420249\tCGA;+\t0.0003\t0\r\n",
      "chrScaffold_01\t420238\t420252\t3\tchrScaffold_01\t420251\t420252\tCGA;+\t0.0003\t0\r\n",
      "chrScaffold_01\t660957\t660981\t4\tchrScaffold_01\t660957\t660958\tCGA;+\t0.0003\t0\r\n",
      "chrScaffold_01\t660957\t660981\t4\tchrScaffold_01\t660965\t660966\tCGA;+\t0.0003\t0\r\n",
      "chrScaffold_01\t660957\t660981\t4\tchrScaffold_01\t660971\t660972\tCGA;+\t0.0003\t0\r\n",
      "chrScaffold_01\t660957\t660981\t4\tchrScaffold_01\t660980\t660981\tCGA;+\t0.0003\t0\r\n"
     ]
    }
   ],
   "source": [
    "!head amb_AllTimes_DMR250bp_MCmax25_cov5x_DMR_and_DMS.bed"
   ]
  },
  {
   "cell_type": "code",
   "execution_count": 14,
   "metadata": {},
   "outputs": [
    {
     "name": "stdout",
     "output_type": "stream",
     "text": [
      "chrScaffold_01\t191265\t191290\t3\tchrScaffold_01\t191265\t191266\tCGA;+\t0.0003\t0\tScaffold_01\t191266\t+\tCGA\t0.0003\t-1\t11\t6\t4\t3\t0\t0\t8\t7\t12\t0\t3\t5\t2\t5\t0\t-1\t45\t84\t16\t103\t138\t49\t116\t55\t75\t34\t32\t80\t57\t49\t20\r\n",
      "chrScaffold_01\t191265\t191290\t3\tchrScaffold_01\t191278\t191279\tCGA;+\t0.0003\t0\tScaffold_01\t191279\t+\tCGA\t0.0003\t-1\t11\t3\t-1\t4\t0\t0\t5\t6\t15\t0\t2\t3\t1\t5\t0\t-1\t36\t74\t-1\t89\t120\t32\t96\t45\t62\t25\t22\t68\t39\t43\t15\r\n",
      "chrScaffold_01\t191265\t191290\t3\tchrScaffold_01\t191289\t191290\tCGA;+\t0.0003\t0\tScaffold_01\t191290\t+\tCGA\t0.0003\t-1\t8\t1\t-1\t3\t0\t-1\t3\t4\t12\t-1\t-1\t2\t-1\t4\t-1\t-1\t26\t54\t-1\t65\t89\t-1\t69\t32\t43\t-1\t-1\t52\t-1\t33\t-1\r\n",
      "chrScaffold_01\t420238\t420252\t3\tchrScaffold_01\t420238\t420239\tCGA;+\t0.0003\t0\tScaffold_01\t420239\t+\tCGA\t0.0003\t33\t94\t44\t41\t62\t63\t78\t73\t69\t94\t61\t55\t78\t88\t41\t13\t36\t102\t46\t49\t94\t95\t91\t108\t80\t113\t77\t60\t97\t122\t58\t16\r\n",
      "chrScaffold_01\t420238\t420252\t3\tchrScaffold_01\t420248\t420249\tCGA;+\t0.0003\t0\tScaffold_01\t420249\t+\tCGA\t0.0003\t33\t94\t44\t41\t62\t63\t78\t73\t69\t94\t61\t55\t78\t88\t41\t13\t36\t102\t46\t49\t94\t95\t91\t108\t80\t113\t77\t60\t97\t122\t58\t16\r\n",
      "chrScaffold_01\t420238\t420252\t3\tchrScaffold_01\t420251\t420252\tCGA;+\t0.0003\t0\tScaffold_01\t420252\t+\tCGA\t0.0003\t40\t125\t58\t55\t83\t81\t96\t96\t91\t127\t79\t73\t97\t112\t54\t17\t47\t134\t61\t66\t123\t124\t120\t142\t106\t151\t99\t81\t125\t161\t78\t22\r\n",
      "chrScaffold_01\t660957\t660981\t4\tchrScaffold_01\t660957\t660958\tCGA;+\t0.0003\t0\tScaffold_01\t660958\t+\tCGA\t0.0003\t24\t44\t-1\t15\t50\t32\t56\t35\t-1\t41\t24\t13\t22\t41\t25\t10\t45\t57\t-1\t39\t96\t82\t130\t92\t-1\t80\t40\t41\t53\t97\t34\t30\r\n",
      "chrScaffold_01\t660957\t660981\t4\tchrScaffold_01\t660965\t660966\tCGA;+\t0.0003\t0\tScaffold_01\t660966\t+\tCGA\t0.0003\t24\t44\t18\t15\t50\t32\t56\t35\t11\t41\t24\t13\t22\t41\t25\t10\t45\t57\t23\t39\t96\t82\t130\t92\t18\t80\t40\t41\t53\t97\t34\t30\r\n",
      "chrScaffold_01\t660957\t660981\t4\tchrScaffold_01\t660971\t660972\tCGA;+\t0.0003\t0\tScaffold_01\t660972\t+\tCGA\t0.0003\t24\t44\t18\t15\t50\t32\t56\t35\t11\t41\t24\t13\t22\t41\t25\t10\t45\t57\t23\t39\t96\t82\t130\t92\t18\t80\t40\t41\t53\t97\t34\t30\r\n",
      "chrScaffold_01\t660957\t660981\t4\tchrScaffold_01\t660980\t660981\tCGA;+\t0.0003\t0\tScaffold_01\t660981\t+\tCGA\t0.0003\t24\t44\t18\t15\t50\t32\t56\t35\t11\t41\t24\t13\t22\t41\t25\t10\t45\t57\t23\t39\t96\t82\t130\t92\t18\t80\t40\t41\t53\t97\t34\t30\r\n"
     ]
    }
   ],
   "source": [
    "!zcat < ../../20191222/amb_AllTimes_DMR250bp_MCmax25_cov5x_rms_results.tsv.gz | \\\n",
    "awk -F\"\\t\" 'NR==FNR{a[substr($5,4,11)\"\\t\"$7]=$0;next}($1\"\\t\"$2)in a{print a[$1\"\\t\"$2]\"\\t\"$0}' \\\n",
    "amb_AllTimes_DMR250bp_MCmax25_cov5x_DMR_and_DMS.bed - | \\\n",
    "cut -f1-47 |\\\n",
    "head"
   ]
  },
  {
   "cell_type": "code",
   "execution_count": 15,
   "metadata": {
    "collapsed": true
   },
   "outputs": [],
   "source": [
    "!zcat < ../../20191222/amb_AllTimes_DMR250bp_MCmax25_cov5x_rms_results.tsv.gz | \\\n",
    "awk -F\"\\t\" 'NR==FNR{a[substr($5,4,11)\"\\t\"$7]=$0;next}($1\"\\t\"$2)in a{print a[$1\"\\t\"$2]\"\\t\"$0}' \\\n",
    "amb_AllTimes_DMR250bp_MCmax25_cov5x_DMR_and_DMS.bed - | \\\n",
    "cut -f1-47 > amb_AllTimes_DMR250bp_MCmax25_cov5x_DMR_and_DMS_mC_tC.tsv"
   ]
  },
  {
   "cell_type": "code",
   "execution_count": 27,
   "metadata": {},
   "outputs": [
    {
     "name": "stdout",
     "output_type": "stream",
     "text": [
      "chrScaffold_01\t191265\t191290\t3\t-3\t30\t10\t2\t10\t0\t-1\t16\t17\t39\t-1\t4\t10\t2\t14\t-1\t-3\t107\t212\t14\t257\t347\t80\t281\t132\t180\t58\t53\t200\t95\t125\t34\t\n",
      "chrScaffold_01\t420238\t420252\t3\t106\t313\t146\t137\t207\t207\t252\t242\t229\t315\t201\t183\t253\t288\t136\t43\t119\t338\t153\t164\t311\t314\t302\t358\t266\t377\t253\t201\t319\t405\t194\t54\t\n",
      "chrScaffold_01\t660957\t660981\t4\t96\t176\t53\t60\t200\t128\t224\t140\t32\t164\t96\t52\t88\t164\t100\t40\t180\t228\t68\t156\t384\t328\t520\t368\t53\t320\t160\t164\t212\t388\t136\t120\t\n",
      "chrScaffold_01\t3343137\t3343145\t3\t-3\t9\t-3\t-3\t27\t24\t36\t33\t-1\t0\t7\t12\t30\t21\t21\t-3\t-3\t51\t-3\t-3\t72\t93\t45\t45\t3\t105\t19\t54\t72\t105\t81\t-3\t\n",
      "chrScaffold_01\t5569670\t5569896\t11\t-5\t20\t5\t20\t77\t2\t40\t22\t49\t0\t16\t-7\t70\t131\t-5\t-11\t106\t320\t591\t161\t981\t456\t365\t1033\t825\t699\t141\t155\t511\t706\t11\t-11\t\n",
      "chrScaffold_01\t7779603\t7779637\t4\t29\t75\t-4\t0\t56\t4\t27\t10\t29\t49\t81\t96\t86\t29\t39\t-4\t36\t99\t-4\t2\t83\t70\t62\t86\t34\t83\t96\t105\t123\t62\t71\t-4\t\n",
      "chrScaffold_01\t8310645\t8310721\t3\t-2\t-3\t-2\t-2\t27\t39\t4\t46\t7\t2\t2\t-2\t3\t19\t-2\t-3\t5\t-3\t3\t3\t84\t64\t9\t76\t47\t5\t5\t6\t43\t70\t4\t-3\t\n",
      "chrScaffold_01\t8516631\t8516652\t6\t120\t156\t-2\t-6\t102\t48\t204\t49\t94\t14\t126\t78\t168\t48\t30\t-6\t402\t492\t2\t-6\t756\t510\t720\t124\t144\t22\t240\t94\t378\t276\t94\t-6\t\n",
      "chrScaffold_01\t9786512\t9786613\t5\t109\t109\t73\t76\t162\t67\t53\t73\t95\t80\t49\t56\t143\t131\t83\t53\t320\t306\t224\t266\t521\t417\t475\t451\t251\t400\t182\t218\t421\t440\t257\t116\t\n",
      "chrScaffold_01\t9886785\t9886804\t3\t-1\t-3\t-3\t-3\t1\t-2\t-3\t-3\t-3\t0\t-3\t-3\t27\t7\t12\t-3\t38\t-3\t-3\t-3\t134\t3\t-3\t-3\t-3\t12\t-3\t-3\t48\t87\t32\t-3\t\n"
     ]
    }
   ],
   "source": [
    "%%bash\n",
    "cat amb_AllTimes_DMR250bp_MCmax25_cov5x_DMR_and_DMS_mC_tC.tsv |\\\n",
    "awk -F\"\\t\" '{a[$1\"\\t\"$2\"\\t\"$3\"\\t\"$4]+=$16; \\\n",
    "b[$1\"\\t\"$2\"\\t\"$3\"\\t\"$4]+=$17; \\\n",
    "c[$1\"\\t\"$2\"\\t\"$3\"\\t\"$4]+=$18; \\\n",
    "d[$1\"\\t\"$2\"\\t\"$3\"\\t\"$4]+=$19; \\\n",
    "e[$1\"\\t\"$2\"\\t\"$3\"\\t\"$4]+=$20; \\\n",
    "f[$1\"\\t\"$2\"\\t\"$3\"\\t\"$4]+=$21; \\\n",
    "g[$1\"\\t\"$2\"\\t\"$3\"\\t\"$4]+=$22; \\\n",
    "h[$1\"\\t\"$2\"\\t\"$3\"\\t\"$4]+=$23; \\\n",
    "gg[$1\"\\t\"$2\"\\t\"$3\"\\t\"$4]+=$24; \\\n",
    "j[$1\"\\t\"$2\"\\t\"$3\"\\t\"$4]+=$25; \\\n",
    "k[$1\"\\t\"$2\"\\t\"$3\"\\t\"$4]+=$26; \\\n",
    "l[$1\"\\t\"$2\"\\t\"$3\"\\t\"$4]+=$27; \\\n",
    "m[$1\"\\t\"$2\"\\t\"$3\"\\t\"$4]+=$28; \\\n",
    "n[$1\"\\t\"$2\"\\t\"$3\"\\t\"$4]+=$29; \\\n",
    "o[$1\"\\t\"$2\"\\t\"$3\"\\t\"$4]+=$30; \\\n",
    "p[$1\"\\t\"$2\"\\t\"$3\"\\t\"$4]+=$31; \\\n",
    "q[$1\"\\t\"$2\"\\t\"$3\"\\t\"$4]+=$32; \\\n",
    "r[$1\"\\t\"$2\"\\t\"$3\"\\t\"$4]+=$33; \\\n",
    "s[$1\"\\t\"$2\"\\t\"$3\"\\t\"$4]+=$34; \\\n",
    "t[$1\"\\t\"$2\"\\t\"$3\"\\t\"$4]+=$35; \\\n",
    "u[$1\"\\t\"$2\"\\t\"$3\"\\t\"$4]+=$36; \\\n",
    "v[$1\"\\t\"$2\"\\t\"$3\"\\t\"$4]+=$37; \\\n",
    "w[$1\"\\t\"$2\"\\t\"$3\"\\t\"$4]+=$38; \\\n",
    "x[$1\"\\t\"$2\"\\t\"$3\"\\t\"$4]+=$39; \\\n",
    "y[$1\"\\t\"$2\"\\t\"$3\"\\t\"$4]+=$40; \\\n",
    "z[$1\"\\t\"$2\"\\t\"$3\"\\t\"$4]+=$41; \\\n",
    "aa[$1\"\\t\"$2\"\\t\"$3\"\\t\"$4]+=$42; \\\n",
    "bb[$1\"\\t\"$2\"\\t\"$3\"\\t\"$4]+=$43; \\\n",
    "cc[$1\"\\t\"$2\"\\t\"$3\"\\t\"$4]+=$44; \\\n",
    "dd[$1\"\\t\"$2\"\\t\"$3\"\\t\"$4]+=$45; \\\n",
    "ee[$1\"\\t\"$2\"\\t\"$3\"\\t\"$4]+=$46; \\\n",
    "ff[$1\"\\t\"$2\"\\t\"$3\"\\t\"$4]+=$47; \\\n",
    "}END{for(i in a)print i\"\\t\"a[i]\"\\t\"b[i]\"\\t\"c[i]\"\\t\"d[i]\"\\t\"e[i]\"\\t\"f[i]\"\\t\"g[i]\"\\t\"h[i]\"\\t\"gg[i]\"\\t\"j[i]\"\\t\"k[i]\"\\t\"l[i]\"\\t\"m[i]\"\\t\"n[i]\"\\t\"o[i]\"\\t\"p[i]\"\\t\"q[i]\"\\t\"r[i]\"\\t\"s[i]\"\\t\"t[i]\"\\t\"u[i]\"\\t\"v[i]\"\\t\"w[i]\"\\t\"x[i]\"\\t\"y[i]\"\\t\"z[i]\"\\t\"aa[i]\"\\t\"bb[i]\"\\t\"cc[i]\"\\t\"dd[i]\"\\t\"ee[i]\"\\t\"ff[i]\"\\t\"}' |\\\n",
    "sort -k1,1 -k2,2n -k3,3n | \\\n",
    "head"
   ]
  },
  {
   "cell_type": "code",
   "execution_count": 28,
   "metadata": {},
   "outputs": [],
   "source": [
    "%%bash\n",
    "cat amb_AllTimes_DMR250bp_MCmax25_cov5x_DMR_and_DMS_mC_tC.tsv |\\\n",
    "awk -F\"\\t\" '{a[$1\"\\t\"$2\"\\t\"$3\"\\t\"$4]+=$16; \\\n",
    "b[$1\"\\t\"$2\"\\t\"$3\"\\t\"$4]+=$17; \\\n",
    "c[$1\"\\t\"$2\"\\t\"$3\"\\t\"$4]+=$18; \\\n",
    "d[$1\"\\t\"$2\"\\t\"$3\"\\t\"$4]+=$19; \\\n",
    "e[$1\"\\t\"$2\"\\t\"$3\"\\t\"$4]+=$20; \\\n",
    "f[$1\"\\t\"$2\"\\t\"$3\"\\t\"$4]+=$21; \\\n",
    "g[$1\"\\t\"$2\"\\t\"$3\"\\t\"$4]+=$22; \\\n",
    "h[$1\"\\t\"$2\"\\t\"$3\"\\t\"$4]+=$23; \\\n",
    "gg[$1\"\\t\"$2\"\\t\"$3\"\\t\"$4]+=$24; \\\n",
    "j[$1\"\\t\"$2\"\\t\"$3\"\\t\"$4]+=$25; \\\n",
    "k[$1\"\\t\"$2\"\\t\"$3\"\\t\"$4]+=$26; \\\n",
    "l[$1\"\\t\"$2\"\\t\"$3\"\\t\"$4]+=$27; \\\n",
    "m[$1\"\\t\"$2\"\\t\"$3\"\\t\"$4]+=$28; \\\n",
    "n[$1\"\\t\"$2\"\\t\"$3\"\\t\"$4]+=$29; \\\n",
    "o[$1\"\\t\"$2\"\\t\"$3\"\\t\"$4]+=$30; \\\n",
    "p[$1\"\\t\"$2\"\\t\"$3\"\\t\"$4]+=$31; \\\n",
    "q[$1\"\\t\"$2\"\\t\"$3\"\\t\"$4]+=$32; \\\n",
    "r[$1\"\\t\"$2\"\\t\"$3\"\\t\"$4]+=$33; \\\n",
    "s[$1\"\\t\"$2\"\\t\"$3\"\\t\"$4]+=$34; \\\n",
    "t[$1\"\\t\"$2\"\\t\"$3\"\\t\"$4]+=$35; \\\n",
    "u[$1\"\\t\"$2\"\\t\"$3\"\\t\"$4]+=$36; \\\n",
    "v[$1\"\\t\"$2\"\\t\"$3\"\\t\"$4]+=$37; \\\n",
    "w[$1\"\\t\"$2\"\\t\"$3\"\\t\"$4]+=$38; \\\n",
    "x[$1\"\\t\"$2\"\\t\"$3\"\\t\"$4]+=$39; \\\n",
    "y[$1\"\\t\"$2\"\\t\"$3\"\\t\"$4]+=$40; \\\n",
    "z[$1\"\\t\"$2\"\\t\"$3\"\\t\"$4]+=$41; \\\n",
    "aa[$1\"\\t\"$2\"\\t\"$3\"\\t\"$4]+=$42; \\\n",
    "bb[$1\"\\t\"$2\"\\t\"$3\"\\t\"$4]+=$43; \\\n",
    "cc[$1\"\\t\"$2\"\\t\"$3\"\\t\"$4]+=$44; \\\n",
    "dd[$1\"\\t\"$2\"\\t\"$3\"\\t\"$4]+=$45; \\\n",
    "ee[$1\"\\t\"$2\"\\t\"$3\"\\t\"$4]+=$46; \\\n",
    "ff[$1\"\\t\"$2\"\\t\"$3\"\\t\"$4]+=$47; \\\n",
    "}END{for(i in a)print i\"\\t\"a[i]\"\\t\"b[i]\"\\t\"c[i]\"\\t\"d[i]\"\\t\"e[i]\"\\t\"f[i]\"\\t\"g[i]\"\\t\"h[i]\"\\t\"gg[i]\"\\t\"j[i]\"\\t\"k[i]\"\\t\"l[i]\"\\t\"m[i]\"\\t\"n[i]\"\\t\"o[i]\"\\t\"p[i]\"\\t\"q[i]\"\\t\"r[i]\"\\t\"s[i]\"\\t\"t[i]\"\\t\"u[i]\"\\t\"v[i]\"\\t\"w[i]\"\\t\"x[i]\"\\t\"y[i]\"\\t\"z[i]\"\\t\"aa[i]\"\\t\"bb[i]\"\\t\"cc[i]\"\\t\"dd[i]\"\\t\"ee[i]\"\\t\"ff[i]\"\\t\"}' |\\\n",
    "sort -k1,1 -k2,2n -k3,3n \\\n",
    "> amb_AllTimes_DMR250bp_MCmax25_cov5x_DMR_SUMMED_mC_tC.tsv"
   ]
  },
  {
   "cell_type": "code",
   "execution_count": 30,
   "metadata": {},
   "outputs": [
    {
     "name": "stdout",
     "output_type": "stream",
     "text": [
      "-3\t30\t10\t2\t10\t0\r\n",
      "106\t313\t146\t137\t207\t207\r\n",
      "96\t176\t53\t60\t200\t128\r\n",
      "-3\t9\t-3\t-3\t27\t24\r\n",
      "-5\t20\t5\t20\t77\t2\r\n",
      "29\t75\t-4\t0\t56\t4\r\n",
      "-2\t-3\t-2\t-2\t27\t39\r\n",
      "120\t156\t-2\t-6\t102\t48\r\n",
      "109\t109\t73\t76\t162\t67\r\n",
      "-1\t-3\t-3\t-3\t1\t-2\r\n",
      "awk: i/o error occurred while closing /dev/stdout\r\n",
      " input record number 1227, file amb_AllTimes_DMR250bp_MCmax25_cov5x_DMR_SUMMED_mC_tC.tsv\r\n",
      " source line number 1\r\n"
     ]
    }
   ],
   "source": [
    "!awk -F\"\\t\" '{print $5FS$6FS$7FS$8FS$9FS$10}' amb_AllTimes_DMR250bp_MCmax25_cov5x_DMR_SUMMED_mC_tC.tsv| head"
   ]
  },
  {
   "cell_type": "code",
   "execution_count": 33,
   "metadata": {},
   "outputs": [
    {
     "name": "stdout",
     "output_type": "stream",
     "text": [
      "chrScaffold_01\t191265\t191290\t3\t-1\t11\t6\t4\t3\t0\r\n",
      "chrScaffold_01\t191265\t191290\t3\t-1\t11\t3\t-1\t4\t0\r\n",
      "chrScaffold_01\t191265\t191290\t3\t-1\t8\t1\t-1\t3\t0\r\n",
      "chrScaffold_01\t420238\t420252\t3\t33\t94\t44\t41\t62\t63\r\n",
      "chrScaffold_01\t420238\t420252\t3\t33\t94\t44\t41\t62\t63\r\n",
      "chrScaffold_01\t420238\t420252\t3\t40\t125\t58\t55\t83\t81\r\n",
      "chrScaffold_01\t660957\t660981\t4\t24\t44\t-1\t15\t50\t32\r\n",
      "chrScaffold_01\t660957\t660981\t4\t24\t44\t18\t15\t50\t32\r\n",
      "chrScaffold_01\t660957\t660981\t4\t24\t44\t18\t15\t50\t32\r\n",
      "chrScaffold_01\t660957\t660981\t4\t24\t44\t18\t15\t50\t32\r\n",
      "chrScaffold_01\t3343137\t3343145\t3\t-1\t3\t-1\t-1\t9\t8\r\n",
      "chrScaffold_01\t3343137\t3343145\t3\t-1\t3\t-1\t-1\t9\t8\r\n",
      "chrScaffold_01\t3343137\t3343145\t3\t-1\t3\t-1\t-1\t9\t8\r\n",
      "chrScaffold_01\t5569670\t5569896\t11\t-1\t-1\t0\t-1\t7\t0\r\n",
      "chrScaffold_01\t5569670\t5569896\t11\t-1\t-1\t0\t-1\t7\t0\r\n",
      "chrScaffold_01\t5569670\t5569896\t11\t-1\t-1\t0\t1\t5\t0\r\n",
      "chrScaffold_01\t5569670\t5569896\t11\t-1\t-1\t0\t1\t5\t0\r\n",
      "chrScaffold_01\t5569670\t5569896\t11\t-1\t0\t1\t-1\t6\t0\r\n",
      "chrScaffold_01\t5569670\t5569896\t11\t-1\t2\t1\t-1\t10\t0\r\n",
      "chrScaffold_01\t5569670\t5569896\t11\t-1\t2\t1\t5\t9\t0\r\n",
      "chrScaffold_01\t5569670\t5569896\t11\t1\t4\t1\t6\t10\t0\r\n",
      "chrScaffold_01\t5569670\t5569896\t11\t1\t4\t1\t6\t9\t0\r\n",
      "chrScaffold_01\t5569670\t5569896\t11\t1\t4\t1\t6\t9\t0\r\n",
      "chrScaffold_01\t5569670\t5569896\t11\t-1\t8\t-1\t-1\t0\t2\r\n",
      "chrScaffold_01\t7779603\t7779637\t4\t9\t14\t-1\t3\t9\t2\r\n",
      "chrScaffold_01\t7779603\t7779637\t4\t13\t25\t-1\t-1\t19\t2\r\n",
      "chrScaffold_01\t7779603\t7779637\t4\t8\t18\t-1\t-1\t14\t0\r\n",
      "chrScaffold_01\t7779603\t7779637\t4\t-1\t18\t-1\t-1\t14\t0\r\n",
      "chrScaffold_01\t8310645\t8310721\t3\t-1\t-1\t-1\t-1\t5\t-1\r\n",
      "chrScaffold_01\t8310645\t8310721\t3\t-1\t-1\t-1\t-1\t13\t24\r\n",
      "chrScaffold_01\t8310645\t8310721\t3\t0\t-1\t0\t0\t9\t16\r\n",
      "chrScaffold_01\t8516631\t8516652\t6\t20\t26\t3\t-1\t17\t8\r\n",
      "chrScaffold_01\t8516631\t8516652\t6\t20\t26\t-1\t-1\t17\t8\r\n",
      "chrScaffold_01\t8516631\t8516652\t6\t20\t26\t-1\t-1\t17\t8\r\n",
      "chrScaffold_01\t8516631\t8516652\t6\t20\t26\t-1\t-1\t17\t8\r\n",
      "chrScaffold_01\t8516631\t8516652\t6\t20\t26\t-1\t-1\t17\t8\r\n",
      "chrScaffold_01\t8516631\t8516652\t6\t20\t26\t-1\t-1\t17\t8\r\n",
      "chrScaffold_01\t9786512\t9786613\t5\t16\t31\t23\t15\t22\t10\r\n",
      "chrScaffold_01\t9786512\t9786613\t5\t16\t31\t23\t15\t22\t10\r\n",
      "chrScaffold_01\t9786512\t9786613\t5\t21\t17\t11\t12\t30\t13\r\n",
      "chrScaffold_01\t9786512\t9786613\t5\t28\t15\t8\t17\t44\t17\r\n",
      "chrScaffold_01\t9786512\t9786613\t5\t28\t15\t8\t17\t44\t17\r\n",
      "chrScaffold_01\t9886785\t9886804\t3\t-1\t-1\t-1\t-1\t0\t-1\r\n",
      "chrScaffold_01\t9886785\t9886804\t3\t0\t-1\t-1\t-1\t0\t0\r\n",
      "chrScaffold_01\t9886785\t9886804\t3\t0\t-1\t-1\t-1\t1\t-1\r\n",
      "chrScaffold_01\t10580352\t10580372\t3\t0\t6\t1\t2\t6\t0\r\n",
      "chrScaffold_01\t10580352\t10580372\t3\t-1\t3\t0\t0\t4\t0\r\n",
      "chrScaffold_01\t10580352\t10580372\t3\t-1\t3\t0\t0\t4\t0\r\n",
      "chrScaffold_01\t10800794\t10800859\t3\t-1\t0\t0\t-1\t3\t0\r\n",
      "chrScaffold_01\t10800794\t10800859\t3\t-1\t37\t30\t-1\t38\t52\r\n",
      "chrScaffold_01\t10800794\t10800859\t3\t-1\t38\t29\t-1\t37\t54\r\n",
      "chrScaffold_01\t11431100\t11431154\t5\t58\t45\t31\t8\t65\t31\r\n",
      "chrScaffold_01\t11431100\t11431154\t5\t58\t45\t31\t8\t65\t31\r\n",
      "chrScaffold_01\t11431100\t11431154\t5\t70\t57\t37\t11\t81\t37\r\n",
      "chrScaffold_01\t11431100\t11431154\t5\t33\t38\t23\t5\t47\t15\r\n",
      "chrScaffold_01\t11431100\t11431154\t5\t21\t31\t18\t-1\t36\t10\r\n",
      "chrScaffold_01\t11985384\t11985404\t3\t-1\t-1\t-1\t-1\t30\t-1\r\n",
      "chrScaffold_01\t11985384\t11985404\t3\t-1\t-1\t12\t-1\t30\t15\r\n",
      "chrScaffold_01\t11985384\t11985404\t3\t-1\t-1\t16\t-1\t36\t21\r\n",
      "chrScaffold_01\t12080513\t12080539\t3\t10\t16\t13\t9\t4\t13\r\n",
      "chrScaffold_01\t12080513\t12080539\t3\t9\t19\t14\t14\t5\t16\r\n",
      "chrScaffold_01\t12080513\t12080539\t3\t9\t20\t13\t13\t6\t19\r\n",
      "chrScaffold_01\t12227302\t12227369\t6\t11\t24\t22\t11\t11\t12\r\n",
      "chrScaffold_01\t12227302\t12227369\t6\t11\t24\t22\t11\t11\t12\r\n",
      "chrScaffold_01\t12227302\t12227369\t6\t9\t26\t22\t9\t10\t13\r\n",
      "chrScaffold_01\t12227302\t12227369\t6\t5\t25\t14\t9\t6\t9\r\n",
      "chrScaffold_01\t12227302\t12227369\t6\t2\t23\t9\t10\t4\t7\r\n",
      "chrScaffold_01\t12227302\t12227369\t6\t1\t15\t4\t8\t3\t4\r\n",
      "chrScaffold_01\t12949065\t12949121\t5\t7\t-1\t11\t-1\t3\t7\r\n",
      "chrScaffold_01\t12949065\t12949121\t5\t8\t3\t10\t-1\t3\t5\r\n",
      "chrScaffold_01\t12949065\t12949121\t5\t10\t6\t14\t-1\t3\t3\r\n",
      "chrScaffold_01\t12949065\t12949121\t5\t7\t3\t10\t-1\t2\t1\r\n",
      "chrScaffold_01\t12949065\t12949121\t5\t9\t4\t11\t-1\t3\t4\r\n",
      "chrScaffold_01\t13623950\t13623966\t3\t14\t10\t6\t-1\t3\t0\r\n",
      "chrScaffold_01\t13623950\t13623966\t3\t14\t10\t6\t-1\t3\t0\r\n",
      "chrScaffold_01\t13623950\t13623966\t3\t14\t10\t6\t-1\t3\t0\r\n",
      "chrScaffold_01\t15035451\t15035669\t4\t9\t14\t4\t1\t15\t11\r\n",
      "chrScaffold_01\t15035451\t15035669\t4\t15\t21\t8\t3\t9\t6\r\n",
      "chrScaffold_01\t15035451\t15035669\t4\t11\t17\t5\t2\t5\t4\r\n",
      "chrScaffold_01\t15035451\t15035669\t4\t11\t17\t5\t2\t5\t4\r\n",
      "chrScaffold_01\t15047761\t15047863\t3\t7\t11\t0\t2\t6\t1\r\n",
      "chrScaffold_01\t15047761\t15047863\t3\t7\t11\t0\t2\t6\t1\r\n",
      "chrScaffold_01\t15047761\t15047863\t3\t7\t5\t0\t0\t1\t2\r\n",
      "chrScaffold_01\t16036176\t16036195\t3\t3\t7\t5\t4\t15\t5\r\n",
      "chrScaffold_01\t16036176\t16036195\t3\t3\t15\t-1\t4\t15\t5\r\n",
      "chrScaffold_01\t16036176\t16036195\t3\t3\t19\t5\t-1\t15\t5\r\n",
      "chrScaffold_01\t16421095\t16421186\t4\t68\t83\t94\t61\t85\t113\r\n",
      "chrScaffold_01\t16421095\t16421186\t4\t68\t83\t94\t61\t85\t113\r\n",
      "chrScaffold_01\t16421095\t16421186\t4\t10\t19\t19\t19\t17\t38\r\n",
      "chrScaffold_01\t16421095\t16421186\t4\t10\t19\t19\t19\t17\t38\r\n",
      "chrScaffold_01\t20163182\t20163192\t3\t11\t24\t2\t12\t3\t32\r\n",
      "chrScaffold_01\t20163182\t20163192\t3\t11\t24\t2\t12\t3\t32\r\n",
      "chrScaffold_01\t20163182\t20163192\t3\t11\t24\t2\t12\t3\t32\r\n",
      "chrScaffold_01\t21151190\t21151357\t3\t4\t5\t0\t6\t0\t12\r\n",
      "chrScaffold_01\t21151190\t21151357\t3\t6\t12\t0\t4\t0\t14\r\n",
      "chrScaffold_01\t21151190\t21151357\t3\t6\t11\t0\t4\t0\t13\r\n",
      "chrScaffold_01\t21274122\t21274330\t4\t-1\t-1\t6\t7\t-1\t-1\r\n",
      "chrScaffold_01\t21274122\t21274330\t4\t-1\t-1\t6\t7\t-1\t-1\r\n",
      "chrScaffold_01\t21274122\t21274330\t4\t-1\t-1\t-1\t8\t0\t0\r\n",
      "chrScaffold_01\t21274122\t21274330\t4\t-1\t1\t-1\t8\t0\t0\r\n"
     ]
    }
   ],
   "source": [
    "!cut -f1-4,16-21 amb_AllTimes_DMR250bp_MCmax25_cov5x_DMR_and_DMS_mC_tC.tsv | head -100"
   ]
  },
  {
   "cell_type": "code",
   "execution_count": null,
   "metadata": {
    "collapsed": true
   },
   "outputs": [],
   "source": [
    "#substitute -1 for 0.0001"
   ]
  },
  {
   "cell_type": "code",
   "execution_count": 34,
   "metadata": {
    "collapsed": true
   },
   "outputs": [],
   "source": [
    "%%bash\n",
    "cat amb_AllTimes_DMR250bp_MCmax25_cov5x_DMR_and_DMS_mC_tC.tsv |\\\n",
    "sed 's/-1/0.0001/g' |\\\n",
    "awk -F\"\\t\" '{a[$1\"\\t\"$2\"\\t\"$3\"\\t\"$4]+=$16; \\\n",
    "b[$1\"\\t\"$2\"\\t\"$3\"\\t\"$4]+=$17; \\\n",
    "c[$1\"\\t\"$2\"\\t\"$3\"\\t\"$4]+=$18; \\\n",
    "d[$1\"\\t\"$2\"\\t\"$3\"\\t\"$4]+=$19; \\\n",
    "e[$1\"\\t\"$2\"\\t\"$3\"\\t\"$4]+=$20; \\\n",
    "f[$1\"\\t\"$2\"\\t\"$3\"\\t\"$4]+=$21; \\\n",
    "g[$1\"\\t\"$2\"\\t\"$3\"\\t\"$4]+=$22; \\\n",
    "h[$1\"\\t\"$2\"\\t\"$3\"\\t\"$4]+=$23; \\\n",
    "gg[$1\"\\t\"$2\"\\t\"$3\"\\t\"$4]+=$24; \\\n",
    "j[$1\"\\t\"$2\"\\t\"$3\"\\t\"$4]+=$25; \\\n",
    "k[$1\"\\t\"$2\"\\t\"$3\"\\t\"$4]+=$26; \\\n",
    "l[$1\"\\t\"$2\"\\t\"$3\"\\t\"$4]+=$27; \\\n",
    "m[$1\"\\t\"$2\"\\t\"$3\"\\t\"$4]+=$28; \\\n",
    "n[$1\"\\t\"$2\"\\t\"$3\"\\t\"$4]+=$29; \\\n",
    "o[$1\"\\t\"$2\"\\t\"$3\"\\t\"$4]+=$30; \\\n",
    "p[$1\"\\t\"$2\"\\t\"$3\"\\t\"$4]+=$31; \\\n",
    "q[$1\"\\t\"$2\"\\t\"$3\"\\t\"$4]+=$32; \\\n",
    "r[$1\"\\t\"$2\"\\t\"$3\"\\t\"$4]+=$33; \\\n",
    "s[$1\"\\t\"$2\"\\t\"$3\"\\t\"$4]+=$34; \\\n",
    "t[$1\"\\t\"$2\"\\t\"$3\"\\t\"$4]+=$35; \\\n",
    "u[$1\"\\t\"$2\"\\t\"$3\"\\t\"$4]+=$36; \\\n",
    "v[$1\"\\t\"$2\"\\t\"$3\"\\t\"$4]+=$37; \\\n",
    "w[$1\"\\t\"$2\"\\t\"$3\"\\t\"$4]+=$38; \\\n",
    "x[$1\"\\t\"$2\"\\t\"$3\"\\t\"$4]+=$39; \\\n",
    "y[$1\"\\t\"$2\"\\t\"$3\"\\t\"$4]+=$40; \\\n",
    "z[$1\"\\t\"$2\"\\t\"$3\"\\t\"$4]+=$41; \\\n",
    "aa[$1\"\\t\"$2\"\\t\"$3\"\\t\"$4]+=$42; \\\n",
    "bb[$1\"\\t\"$2\"\\t\"$3\"\\t\"$4]+=$43; \\\n",
    "cc[$1\"\\t\"$2\"\\t\"$3\"\\t\"$4]+=$44; \\\n",
    "dd[$1\"\\t\"$2\"\\t\"$3\"\\t\"$4]+=$45; \\\n",
    "ee[$1\"\\t\"$2\"\\t\"$3\"\\t\"$4]+=$46; \\\n",
    "ff[$1\"\\t\"$2\"\\t\"$3\"\\t\"$4]+=$47; \\\n",
    "}END{for(i in a)print i\"\\t\"a[i]\"\\t\"b[i]\"\\t\"c[i]\"\\t\"d[i]\"\\t\"e[i]\"\\t\"f[i]\"\\t\"g[i]\"\\t\"h[i]\"\\t\"gg[i]\"\\t\"j[i]\"\\t\"k[i]\"\\t\"l[i]\"\\t\"m[i]\"\\t\"n[i]\"\\t\"o[i]\"\\t\"p[i]\"\\t\"q[i]\"\\t\"r[i]\"\\t\"s[i]\"\\t\"t[i]\"\\t\"u[i]\"\\t\"v[i]\"\\t\"w[i]\"\\t\"x[i]\"\\t\"y[i]\"\\t\"z[i]\"\\t\"aa[i]\"\\t\"bb[i]\"\\t\"cc[i]\"\\t\"dd[i]\"\\t\"ee[i]\"\\t\"ff[i]\"\\t\"}' |\\\n",
    "sort -k1,1 -k2,2n -k3,3n \\\n",
    "> amb_AllTimes_DMR250bp_MCmax25_cov5x_DMR_SUMMED_mC_tC.tsv"
   ]
  },
  {
   "cell_type": "code",
   "execution_count": 35,
   "metadata": {},
   "outputs": [
    {
     "name": "stdout",
     "output_type": "stream",
     "text": [
      "0.0003\t30\t10\t4.0002\t10\t0\r\n",
      "106\t313\t146\t137\t207\t207\r\n",
      "96\t176\t54.0001\t60\t200\t128\r\n",
      "0.0003\t9\t0.0003\t0.0003\t27\t24\r\n",
      "3.0008\t24.0004\t6.0001\t25.0005\t77\t2\r\n",
      "30.0001\t75\t0.0004\t3.0003\t56\t4\r\n",
      "0.0002\t0.0003\t0.0002\t0.0002\t27\t40.0001\r\n",
      "120\t156\t3.0005\t0.0006\t102\t48\r\n",
      "109\t109\t73\t76\t162\t67\r\n",
      "0.0001\t0.0003\t0.0003\t0.0003\t1\t0.0002\r\n",
      "awk: i/o error occurred while closing /dev/stdout\r\n",
      " input record number 1227, file amb_AllTimes_DMR250bp_MCmax25_cov5x_DMR_SUMMED_mC_tC.tsv\r\n",
      " source line number 1\r\n"
     ]
    }
   ],
   "source": [
    "!awk -F\"\\t\" '{print $5FS$6FS$7FS$8FS$9FS$10}' amb_AllTimes_DMR250bp_MCmax25_cov5x_DMR_SUMMED_mC_tC.tsv| head"
   ]
  },
  {
   "cell_type": "code",
   "execution_count": 36,
   "metadata": {},
   "outputs": [
    {
     "name": "stdout",
     "output_type": "stream",
     "text": [
      "chrScaffold_01\t191265\t191290\t3\t-1\t11\t6\t4\t3\t0\r\n",
      "chrScaffold_01\t191265\t191290\t3\t-1\t11\t3\t-1\t4\t0\r\n",
      "chrScaffold_01\t191265\t191290\t3\t-1\t8\t1\t-1\t3\t0\r\n",
      "chrScaffold_01\t420238\t420252\t3\t33\t94\t44\t41\t62\t63\r\n",
      "chrScaffold_01\t420238\t420252\t3\t33\t94\t44\t41\t62\t63\r\n",
      "chrScaffold_01\t420238\t420252\t3\t40\t125\t58\t55\t83\t81\r\n",
      "chrScaffold_01\t660957\t660981\t4\t24\t44\t-1\t15\t50\t32\r\n",
      "chrScaffold_01\t660957\t660981\t4\t24\t44\t18\t15\t50\t32\r\n",
      "chrScaffold_01\t660957\t660981\t4\t24\t44\t18\t15\t50\t32\r\n",
      "chrScaffold_01\t660957\t660981\t4\t24\t44\t18\t15\t50\t32\r\n",
      "chrScaffold_01\t3343137\t3343145\t3\t-1\t3\t-1\t-1\t9\t8\r\n",
      "chrScaffold_01\t3343137\t3343145\t3\t-1\t3\t-1\t-1\t9\t8\r\n",
      "chrScaffold_01\t3343137\t3343145\t3\t-1\t3\t-1\t-1\t9\t8\r\n",
      "chrScaffold_01\t5569670\t5569896\t11\t-1\t-1\t0\t-1\t7\t0\r\n",
      "chrScaffold_01\t5569670\t5569896\t11\t-1\t-1\t0\t-1\t7\t0\r\n",
      "chrScaffold_01\t5569670\t5569896\t11\t-1\t-1\t0\t1\t5\t0\r\n",
      "chrScaffold_01\t5569670\t5569896\t11\t-1\t-1\t0\t1\t5\t0\r\n",
      "chrScaffold_01\t5569670\t5569896\t11\t-1\t0\t1\t-1\t6\t0\r\n",
      "chrScaffold_01\t5569670\t5569896\t11\t-1\t2\t1\t-1\t10\t0\r\n",
      "chrScaffold_01\t5569670\t5569896\t11\t-1\t2\t1\t5\t9\t0\r\n",
      "chrScaffold_01\t5569670\t5569896\t11\t1\t4\t1\t6\t10\t0\r\n",
      "chrScaffold_01\t5569670\t5569896\t11\t1\t4\t1\t6\t9\t0\r\n",
      "chrScaffold_01\t5569670\t5569896\t11\t1\t4\t1\t6\t9\t0\r\n",
      "chrScaffold_01\t5569670\t5569896\t11\t-1\t8\t-1\t-1\t0\t2\r\n",
      "chrScaffold_01\t7779603\t7779637\t4\t9\t14\t-1\t3\t9\t2\r\n",
      "chrScaffold_01\t7779603\t7779637\t4\t13\t25\t-1\t-1\t19\t2\r\n",
      "chrScaffold_01\t7779603\t7779637\t4\t8\t18\t-1\t-1\t14\t0\r\n",
      "chrScaffold_01\t7779603\t7779637\t4\t-1\t18\t-1\t-1\t14\t0\r\n",
      "chrScaffold_01\t8310645\t8310721\t3\t-1\t-1\t-1\t-1\t5\t-1\r\n",
      "chrScaffold_01\t8310645\t8310721\t3\t-1\t-1\t-1\t-1\t13\t24\r\n",
      "chrScaffold_01\t8310645\t8310721\t3\t0\t-1\t0\t0\t9\t16\r\n",
      "chrScaffold_01\t8516631\t8516652\t6\t20\t26\t3\t-1\t17\t8\r\n",
      "chrScaffold_01\t8516631\t8516652\t6\t20\t26\t-1\t-1\t17\t8\r\n",
      "chrScaffold_01\t8516631\t8516652\t6\t20\t26\t-1\t-1\t17\t8\r\n",
      "chrScaffold_01\t8516631\t8516652\t6\t20\t26\t-1\t-1\t17\t8\r\n",
      "chrScaffold_01\t8516631\t8516652\t6\t20\t26\t-1\t-1\t17\t8\r\n",
      "chrScaffold_01\t8516631\t8516652\t6\t20\t26\t-1\t-1\t17\t8\r\n",
      "chrScaffold_01\t9786512\t9786613\t5\t16\t31\t23\t15\t22\t10\r\n",
      "chrScaffold_01\t9786512\t9786613\t5\t16\t31\t23\t15\t22\t10\r\n",
      "chrScaffold_01\t9786512\t9786613\t5\t21\t17\t11\t12\t30\t13\r\n",
      "chrScaffold_01\t9786512\t9786613\t5\t28\t15\t8\t17\t44\t17\r\n",
      "chrScaffold_01\t9786512\t9786613\t5\t28\t15\t8\t17\t44\t17\r\n",
      "chrScaffold_01\t9886785\t9886804\t3\t-1\t-1\t-1\t-1\t0\t-1\r\n",
      "chrScaffold_01\t9886785\t9886804\t3\t0\t-1\t-1\t-1\t0\t0\r\n",
      "chrScaffold_01\t9886785\t9886804\t3\t0\t-1\t-1\t-1\t1\t-1\r\n",
      "chrScaffold_01\t10580352\t10580372\t3\t0\t6\t1\t2\t6\t0\r\n",
      "chrScaffold_01\t10580352\t10580372\t3\t-1\t3\t0\t0\t4\t0\r\n",
      "chrScaffold_01\t10580352\t10580372\t3\t-1\t3\t0\t0\t4\t0\r\n",
      "chrScaffold_01\t10800794\t10800859\t3\t-1\t0\t0\t-1\t3\t0\r\n",
      "chrScaffold_01\t10800794\t10800859\t3\t-1\t37\t30\t-1\t38\t52\r\n"
     ]
    }
   ],
   "source": [
    "!cut -f1-4,16-21 amb_AllTimes_DMR250bp_MCmax25_cov5x_DMR_and_DMS_mC_tC.tsv | head -50"
   ]
  },
  {
   "cell_type": "code",
   "execution_count": null,
   "metadata": {
    "collapsed": true
   },
   "outputs": [],
   "source": [
    "#create a file containing just the header from the mC and tC counts file"
   ]
  },
  {
   "cell_type": "code",
   "execution_count": 39,
   "metadata": {},
   "outputs": [],
   "source": [
    "!zcat < ../../20191222/amb_AllTimes_DMR250bp_MCmax25_cov5x_rms_results.tsv.gz | \\\n",
    "cut -f1-37 |\\\n",
    "head -1 > amb_AllTimes_DMR250bp_MCmax25_cov5x_rms_results.HEADER.tsv\n"
   ]
  },
  {
   "cell_type": "code",
   "execution_count": null,
   "metadata": {
    "collapsed": true
   },
   "outputs": [],
   "source": [
    "#see what counts look like for DMR scaffold 1 10580352-10580372"
   ]
  },
  {
   "cell_type": "code",
   "execution_count": 42,
   "metadata": {},
   "outputs": [
    {
     "name": "stdout",
     "output_type": "stream",
     "text": [
      "chrScaffold_01\t10580352\t10580372\t3\t0\t15\r\n",
      "chrScaffold_01\t10580352\t10580372\t3\t-1\t-1\r\n",
      "chrScaffold_01\t10580352\t10580372\t3\t-1\t-1\r\n"
     ]
    }
   ],
   "source": [
    "!grep 10580352 amb_AllTimes_DMR250bp_MCmax25_cov5x_DMR_and_DMS_mC_tC.tsv|\\\n",
    "cut -f1-4,16,32"
   ]
  }
 ],
 "metadata": {
  "kernelspec": {
   "display_name": "Python 3",
   "language": "python",
   "name": "python3"
  },
  "language_info": {
   "codemirror_mode": {
    "name": "ipython",
    "version": 3
   },
   "file_extension": ".py",
   "mimetype": "text/x-python",
   "name": "python",
   "nbconvert_exporter": "python",
   "pygments_lexer": "ipython3",
   "version": "3.6.8"
  }
 },
 "nbformat": 4,
 "nbformat_minor": 2
}
