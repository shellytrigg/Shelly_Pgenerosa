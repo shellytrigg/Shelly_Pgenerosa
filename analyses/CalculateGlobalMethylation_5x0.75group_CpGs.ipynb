{
 "cells": [
  {
   "cell_type": "code",
   "execution_count": 15,
   "metadata": {},
   "outputs": [
    {
     "name": "stdout",
     "output_type": "stream",
     "text": [
      "/Volumes/web/metacarcinus/Salmo_Calig/analyses/20191113/5x_allc\n"
     ]
    }
   ],
   "source": [
    "cd /Volumes/web/metacarcinus/Salmo_Calig/analyses/20191113/5x_allc/"
   ]
  },
  {
   "cell_type": "code",
   "execution_count": null,
   "metadata": {
    "collapsed": true
   },
   "outputs": [],
   "source": [
    "#count number of mCpG and CpG "
   ]
  },
  {
   "cell_type": "code",
   "execution_count": 11,
   "metadata": {},
   "outputs": [
    {
     "name": "stdout",
     "output_type": "stream",
     "text": [
      "3514337 5315527 66.1146\n",
      "2723211 3976210 68.4876\n",
      "2121319 2994123 70.8494\n",
      "2366785 3398704 69.6379\n",
      "3747956 5429753 69.0263\n",
      "2796276 4259343 65.6504\n",
      "1602362 2321654 69.0181\n",
      "1784525 2720771 65.5889\n",
      "2051667 3068137 66.8701\n",
      "3218985 4824974 66.7151\n",
      "3062193 4461473 68.6364\n",
      "2300120 3292116 69.8675\n",
      "2472547 3689687 67.0124\n",
      "1402648 2165416 64.775\n",
      "2081213 3077204 67.6332\n",
      "2001453 3179523 62.9482\n",
      "3663355 5231156 70.0295\n",
      "2091581 3034814 68.9196\n",
      "1873086 2737265 68.4291\n",
      "3480306 4984773 69.8187\n"
     ]
    }
   ],
   "source": [
    "%%bash\n",
    "for f in *.5x.tsv\n",
    "do\n",
    "cat ${f} | \\\n",
    "awk '{MCsum +=$5;Csum+=$6}END{print MCsum,Csum, (MCsum/Csum)*100}'\n",
    "done"
   ]
  },
  {
   "cell_type": "code",
   "execution_count": 16,
   "metadata": {},
   "outputs": [
    {
     "name": "stdout",
     "output_type": "stream",
     "text": [
      "allc_16C_26psu_1_S13\n",
      "1404193 2198752 63.8632\n",
      "allc_16C_26psu_2_S14\n",
      "1255655 1866141 67.2862\n",
      "allc_16C_26psu_3_S15\n",
      "644751 986764 65.3399\n",
      "allc_16C_26psu_4_S16\n",
      "1208946 1783800 67.7736\n",
      "allc_16C_32psu_1_S1\n",
      "1536639 2286373 67.2086\n",
      "allc_16C_32psu_2_S2\n",
      "1250637 2035529 61.4404\n",
      "allc_16C_32psu_3_S3\n",
      "966887 1419347 68.122\n",
      "allc_16C_32psu_4_S4\n",
      "722280 1173330 61.5581\n",
      "allc_8C_26psu_1_S9\n",
      "1001724 1599452 62.6292\n",
      "allc_8C_26psu_2_S10\n",
      "1268923 2000422 63.4328\n",
      "allc_8C_26psu_3_S11\n",
      "1313220 2003744 65.5383\n",
      "allc_8C_26psu_4_S12\n",
      "419776 637975 65.7982\n",
      "allc_8C_32psu_1_S5\n",
      "1200877 1887506 63.6224\n",
      "allc_8C_32psu_2_S6\n",
      "843791 1357925 62.1383\n",
      "allc_8C_32psu_3_S7\n",
      "1113471 1695151 65.6857\n",
      "allc_8C_32psu_4_S8\n",
      "956411 1558048 61.3852\n",
      "allc_CTRL_16C_26psu_1_S19\n",
      "1734619 2473389 70.1313\n",
      "allc_CTRL_16C_26psu_2_S21\n",
      "1184590 1806879 65.56\n",
      "allc_CTRL_8C_26psu_1_S17\n",
      "820500 1251291 65.5723\n",
      "allc_CTRL_8C_26psu_2_S18\n",
      "1682853 2456192 68.5147\n"
     ]
    }
   ],
   "source": [
    "%%bash\n",
    "for f in *.5x.5x.0.75grp.bed\n",
    "do\n",
    "echo $(basename ${f%.5x.5x.0.75grp.bed})\n",
    "cat ${f} | \\\n",
    "awk '{MCsum +=$4;Csum+=$5}END{print MCsum,Csum, (MCsum/Csum)*100}'\n",
    "done"
   ]
  },
  {
   "cell_type": "code",
   "execution_count": null,
   "metadata": {
    "collapsed": true
   },
   "outputs": [],
   "source": [
    "!cat *.bed | cut -f 1 | sort | uniq -c"
   ]
  },
  {
   "cell_type": "code",
   "execution_count": null,
   "metadata": {
    "collapsed": true
   },
   "outputs": [],
   "source": []
  },
  {
   "cell_type": "code",
   "execution_count": null,
   "metadata": {
    "collapsed": true
   },
   "outputs": [],
   "source": []
  }
 ],
 "metadata": {
  "kernelspec": {
   "display_name": "Python 3",
   "language": "python",
   "name": "python3"
  },
  "language_info": {
   "codemirror_mode": {
    "name": "ipython",
    "version": 3
   },
   "file_extension": ".py",
   "mimetype": "text/x-python",
   "name": "python",
   "nbconvert_exporter": "python",
   "pygments_lexer": "ipython3",
   "version": "3.6.8"
  }
 },
 "nbformat": 4,
 "nbformat_minor": 2
}
