{
 "cells": [
  {
   "cell_type": "code",
   "execution_count": null,
   "metadata": {},
   "outputs": [],
   "source": [
    "#run multiqc on all EPI samples"
   ]
  },
  {
   "cell_type": "code",
   "execution_count": null,
   "metadata": {},
   "outputs": [],
   "source": [
    "#create data file describing the input data. \n",
    "#Format of the file is 2 column tsv\n",
    "#column 1 = sample name\n",
    "#column 2 = path to bam file\n"
   ]
  },
  {
   "cell_type": "code",
   "execution_count": 1,
   "metadata": {},
   "outputs": [
    {
     "name": "stdout",
     "output_type": "stream",
     "text": [
      "/Volumes/web/metacarcinus/Pgenerosa/analyses/20190822\n"
     ]
    }
   ],
   "source": [
    "cd /Volumes/web/metacarcinus/Pgenerosa/analyses/20190822/"
   ]
  },
  {
   "cell_type": "code",
   "execution_count": 2,
   "metadata": {},
   "outputs": [
    {
     "name": "stdout",
     "output_type": "stream",
     "text": [
      "\u001b[31mDay0_amb.tsv.gz\u001b[m\u001b[m\r\n",
      "\u001b[31mallc_EPI-103_S27.bw\u001b[m\u001b[m\r\n",
      "\u001b[31mallc_EPI-103_S27.tsv.gz\u001b[m\u001b[m\r\n",
      "\u001b[31mallc_EPI-103_S27.tsv.gz.idx\u001b[m\u001b[m\r\n",
      "\u001b[31mallc_EPI-104_S28.bw\u001b[m\u001b[m\r\n",
      "\u001b[31mallc_EPI-104_S28.tsv.gz\u001b[m\u001b[m\r\n",
      "\u001b[31mallc_EPI-104_S28.tsv.gz.idx\u001b[m\u001b[m\r\n",
      "\u001b[31mallc_EPI-111_S29.bw\u001b[m\u001b[m\r\n",
      "\u001b[31mallc_EPI-111_S29.tsv.gz\u001b[m\u001b[m\r\n",
      "\u001b[31mallc_EPI-111_S29.tsv.gz.idx\u001b[m\u001b[m\r\n",
      "\u001b[31mallc_EPI-113_S30.bw\u001b[m\u001b[m\r\n",
      "\u001b[31mallc_EPI-113_S30.tsv.gz\u001b[m\u001b[m\r\n",
      "\u001b[31mallc_EPI-113_S30.tsv.gz.idx\u001b[m\u001b[m\r\n",
      "\u001b[31mallc_EPI-119_S31.bw\u001b[m\u001b[m\r\n",
      "\u001b[31mallc_EPI-119_S31.tsv.gz\u001b[m\u001b[m\r\n",
      "\u001b[31mallc_EPI-119_S31.tsv.gz.idx\u001b[m\u001b[m\r\n",
      "\u001b[31mallc_EPI-120_S32.bw\u001b[m\u001b[m\r\n",
      "\u001b[31mallc_EPI-120_S32.tsv.gz\u001b[m\u001b[m\r\n",
      "\u001b[31mallc_EPI-120_S32.tsv.gz.idx\u001b[m\u001b[m\r\n",
      "\u001b[31mallc_EPI-127_S33.bw\u001b[m\u001b[m\r\n",
      "\u001b[31mallc_EPI-127_S33.tsv.gz\u001b[m\u001b[m\r\n",
      "\u001b[31mallc_EPI-127_S33.tsv.gz.idx\u001b[m\u001b[m\r\n",
      "\u001b[31mallc_EPI-128_S34.bw\u001b[m\u001b[m\r\n",
      "\u001b[31mallc_EPI-128_S34.tsv.gz\u001b[m\u001b[m\r\n",
      "\u001b[31mallc_EPI-128_S34.tsv.gz.idx\u001b[m\u001b[m\r\n",
      "\u001b[31mallc_EPI-135_S35.bw\u001b[m\u001b[m\r\n",
      "\u001b[31mallc_EPI-135_S35.tsv.gz\u001b[m\u001b[m\r\n",
      "\u001b[31mallc_EPI-135_S35.tsv.gz.idx\u001b[m\u001b[m\r\n",
      "\u001b[31mallc_EPI-136_S36.bw\u001b[m\u001b[m\r\n",
      "\u001b[31mallc_EPI-136_S36.tsv.gz\u001b[m\u001b[m\r\n",
      "\u001b[31mallc_EPI-136_S36.tsv.gz.idx\u001b[m\u001b[m\r\n",
      "\u001b[31mallc_EPI-143_S37.bw\u001b[m\u001b[m\r\n",
      "\u001b[31mallc_EPI-143_S37.tsv.gz\u001b[m\u001b[m\r\n",
      "\u001b[31mallc_EPI-143_S37.tsv.gz.idx\u001b[m\u001b[m\r\n",
      "\u001b[31mallc_EPI-145_S38.bw\u001b[m\u001b[m\r\n",
      "\u001b[31mallc_EPI-145_S38.tsv.gz\u001b[m\u001b[m\r\n",
      "\u001b[31mallc_EPI-145_S38.tsv.gz.idx\u001b[m\u001b[m\r\n",
      "\u001b[31mallc_EPI-151_S2.bw\u001b[m\u001b[m\r\n",
      "\u001b[31mallc_EPI-151_S2.tsv.gz\u001b[m\u001b[m\r\n",
      "\u001b[31mallc_EPI-151_S2.tsv.gz.idx\u001b[m\u001b[m\r\n",
      "\u001b[31mallc_EPI-152_S3.bw\u001b[m\u001b[m\r\n",
      "\u001b[31mallc_EPI-152_S3.tsv.gz\u001b[m\u001b[m\r\n",
      "\u001b[31mallc_EPI-152_S3.tsv.gz.idx\u001b[m\u001b[m\r\n",
      "\u001b[31mallc_EPI-153_S4.bw\u001b[m\u001b[m\r\n",
      "\u001b[31mallc_EPI-153_S4.tsv.gz\u001b[m\u001b[m\r\n",
      "\u001b[31mallc_EPI-153_S4.tsv.gz.idx\u001b[m\u001b[m\r\n",
      "\u001b[31mallc_EPI-154_S5.bw\u001b[m\u001b[m\r\n",
      "\u001b[31mallc_EPI-154_S5.tsv.gz\u001b[m\u001b[m\r\n",
      "\u001b[31mallc_EPI-154_S5.tsv.gz.idx\u001b[m\u001b[m\r\n",
      "\u001b[31mallc_EPI-159_S6.bw\u001b[m\u001b[m\r\n",
      "\u001b[31mallc_EPI-159_S6.tsv.gz\u001b[m\u001b[m\r\n",
      "\u001b[31mallc_EPI-159_S6.tsv.gz.idx\u001b[m\u001b[m\r\n",
      "\u001b[31mallc_EPI-160_S7.bw\u001b[m\u001b[m\r\n",
      "\u001b[31mallc_EPI-160_S7.tsv.gz\u001b[m\u001b[m\r\n",
      "\u001b[31mallc_EPI-160_S7.tsv.gz.idx\u001b[m\u001b[m\r\n",
      "\u001b[31mallc_EPI-161_S8.bw\u001b[m\u001b[m\r\n",
      "\u001b[31mallc_EPI-161_S8.tsv.gz\u001b[m\u001b[m\r\n",
      "\u001b[31mallc_EPI-161_S8.tsv.gz.idx\u001b[m\u001b[m\r\n",
      "\u001b[31mallc_EPI-162_S9.bw\u001b[m\u001b[m\r\n",
      "\u001b[31mallc_EPI-162_S9.tsv.gz\u001b[m\u001b[m\r\n",
      "\u001b[31mallc_EPI-162_S9.tsv.gz.idx\u001b[m\u001b[m\r\n",
      "\u001b[31mallc_EPI-167_S10.bw\u001b[m\u001b[m\r\n",
      "\u001b[31mallc_EPI-167_S10.tsv.gz\u001b[m\u001b[m\r\n",
      "\u001b[31mallc_EPI-167_S10.tsv.gz.idx\u001b[m\u001b[m\r\n",
      "\u001b[31mallc_EPI-168_S11.bw\u001b[m\u001b[m\r\n",
      "\u001b[31mallc_EPI-168_S11.tsv.gz\u001b[m\u001b[m\r\n",
      "\u001b[31mallc_EPI-168_S11.tsv.gz.idx\u001b[m\u001b[m\r\n",
      "\u001b[31mallc_EPI-169_S12.bw\u001b[m\u001b[m\r\n",
      "\u001b[31mallc_EPI-169_S12.tsv.gz\u001b[m\u001b[m\r\n",
      "\u001b[31mallc_EPI-169_S12.tsv.gz.idx\u001b[m\u001b[m\r\n",
      "\u001b[31mallc_EPI-170_S13.bw\u001b[m\u001b[m\r\n",
      "\u001b[31mallc_EPI-170_S13.tsv.gz\u001b[m\u001b[m\r\n",
      "\u001b[31mallc_EPI-170_S13.tsv.gz.idx\u001b[m\u001b[m\r\n",
      "\u001b[31mallc_EPI-175_S14.bw\u001b[m\u001b[m\r\n",
      "\u001b[31mallc_EPI-175_S14.tsv.gz\u001b[m\u001b[m\r\n",
      "\u001b[31mallc_EPI-175_S14.tsv.gz.idx\u001b[m\u001b[m\r\n",
      "\u001b[31mallc_EPI-176_S15.bw\u001b[m\u001b[m\r\n",
      "\u001b[31mallc_EPI-176_S15.tsv.gz\u001b[m\u001b[m\r\n",
      "\u001b[31mallc_EPI-176_S15.tsv.gz.idx\u001b[m\u001b[m\r\n",
      "\u001b[31mallc_EPI-181_S16.bw\u001b[m\u001b[m\r\n",
      "\u001b[31mallc_EPI-181_S16.tsv.gz\u001b[m\u001b[m\r\n",
      "\u001b[31mallc_EPI-181_S16.tsv.gz.idx\u001b[m\u001b[m\r\n",
      "\u001b[31mallc_EPI-182_S17.bw\u001b[m\u001b[m\r\n",
      "\u001b[31mallc_EPI-182_S17.tsv.gz\u001b[m\u001b[m\r\n",
      "\u001b[31mallc_EPI-182_S17.tsv.gz.idx\u001b[m\u001b[m\r\n",
      "\u001b[31mallc_EPI-184_S18.bw\u001b[m\u001b[m\r\n",
      "\u001b[31mallc_EPI-184_S18.tsv.gz\u001b[m\u001b[m\r\n",
      "\u001b[31mallc_EPI-184_S18.tsv.gz.idx\u001b[m\u001b[m\r\n",
      "\u001b[31mallc_EPI-185_S19.bw\u001b[m\u001b[m\r\n",
      "\u001b[31mallc_EPI-185_S19.tsv.gz\u001b[m\u001b[m\r\n",
      "\u001b[31mallc_EPI-185_S19.tsv.gz.idx\u001b[m\u001b[m\r\n",
      "\u001b[31mallc_EPI-187_S20.bw\u001b[m\u001b[m\r\n",
      "\u001b[31mallc_EPI-187_S20.tsv.gz\u001b[m\u001b[m\r\n",
      "\u001b[31mallc_EPI-187_S20.tsv.gz.idx\u001b[m\u001b[m\r\n",
      "\u001b[31mallc_EPI-188_S21.bw\u001b[m\u001b[m\r\n",
      "\u001b[31mallc_EPI-188_S21.tsv.gz\u001b[m\u001b[m\r\n",
      "\u001b[31mallc_EPI-188_S21.tsv.gz.idx\u001b[m\u001b[m\r\n",
      "\u001b[31mallc_EPI-193_S22.bw\u001b[m\u001b[m\r\n",
      "\u001b[31mallc_EPI-193_S22.tsv.gz\u001b[m\u001b[m\r\n",
      "\u001b[31mallc_EPI-193_S22.tsv.gz.idx\u001b[m\u001b[m\r\n",
      "\u001b[31mallc_EPI-194_S23.bw\u001b[m\u001b[m\r\n",
      "\u001b[31mallc_EPI-194_S23.tsv.gz\u001b[m\u001b[m\r\n",
      "\u001b[31mallc_EPI-194_S23.tsv.gz.idx\u001b[m\u001b[m\r\n",
      "\u001b[31mallc_EPI-199_S24.bw\u001b[m\u001b[m\r\n",
      "\u001b[31mallc_EPI-199_S24.tsv.gz\u001b[m\u001b[m\r\n",
      "\u001b[31mallc_EPI-199_S24.tsv.gz.idx\u001b[m\u001b[m\r\n",
      "\u001b[31mallc_EPI-200_S25.bw\u001b[m\u001b[m\r\n",
      "\u001b[31mallc_EPI-200_S25.tsv.gz\u001b[m\u001b[m\r\n",
      "\u001b[31mallc_EPI-200_S25.tsv.gz.idx\u001b[m\u001b[m\r\n",
      "\u001b[31mallc_EPI-205_S26.bw\u001b[m\u001b[m\r\n",
      "\u001b[31mallc_EPI-205_S26.tsv.gz\u001b[m\u001b[m\r\n",
      "\u001b[31mallc_EPI-205_S26.tsv.gz.idx\u001b[m\u001b[m\r\n",
      "\u001b[31mallc_EPI-206_S27.bw\u001b[m\u001b[m\r\n",
      "\u001b[31mallc_EPI-206_S27.tsv.gz\u001b[m\u001b[m\r\n",
      "\u001b[31mallc_EPI-206_S27.tsv.gz.idx\u001b[m\u001b[m\r\n",
      "\u001b[31mallc_EPI-208_S28.bw\u001b[m\u001b[m\r\n",
      "\u001b[31mallc_EPI-208_S28.tsv.gz\u001b[m\u001b[m\r\n",
      "\u001b[31mallc_EPI-208_S28.tsv.gz.idx\u001b[m\u001b[m\r\n",
      "\u001b[31mallc_EPI-209_S29.bw\u001b[m\u001b[m\r\n",
      "\u001b[31mallc_EPI-209_S29.tsv.gz\u001b[m\u001b[m\r\n",
      "\u001b[31mallc_EPI-209_S29.tsv.gz.idx\u001b[m\u001b[m\r\n",
      "\u001b[31mallc_EPI-214_S30.bw\u001b[m\u001b[m\r\n",
      "\u001b[31mallc_EPI-214_S30.tsv.gz\u001b[m\u001b[m\r\n",
      "\u001b[31mallc_EPI-214_S30.tsv.gz.idx\u001b[m\u001b[m\r\n",
      "\u001b[31mallc_EPI-215_S31.bw\u001b[m\u001b[m\r\n",
      "\u001b[31mallc_EPI-215_S31.tsv.gz\u001b[m\u001b[m\r\n",
      "\u001b[31mallc_EPI-215_S31.tsv.gz.idx\u001b[m\u001b[m\r\n",
      "\u001b[31mallc_EPI-220_S32.bw\u001b[m\u001b[m\r\n",
      "\u001b[31mallc_EPI-220_S32.tsv.gz\u001b[m\u001b[m\r\n",
      "\u001b[31mallc_EPI-220_S32.tsv.gz.idx\u001b[m\u001b[m\r\n",
      "\u001b[31mallc_EPI-221_S33.bw\u001b[m\u001b[m\r\n",
      "\u001b[31mallc_EPI-221_S33.tsv.gz\u001b[m\u001b[m\r\n",
      "\u001b[31mallc_EPI-221_S33.tsv.gz.idx\u001b[m\u001b[m\r\n",
      "\u001b[31mallc_EPI-226_S34.bw\u001b[m\u001b[m\r\n",
      "\u001b[31mallc_EPI-226_S34.tsv.gz\u001b[m\u001b[m\r\n",
      "\u001b[31mallc_EPI-226_S34.tsv.gz.idx\u001b[m\u001b[m\r\n",
      "\u001b[31mallc_EPI-227_S35.bw\u001b[m\u001b[m\r\n",
      "\u001b[31mallc_EPI-227_S35.tsv.gz\u001b[m\u001b[m\r\n",
      "\u001b[31mallc_EPI-227_S35.tsv.gz.idx\u001b[m\u001b[m\r\n",
      "\u001b[31mallc_EPI-229_S36.bw\u001b[m\u001b[m\r\n",
      "\u001b[31mallc_EPI-229_S36.tsv.gz\u001b[m\u001b[m\r\n",
      "\u001b[31mallc_EPI-229_S36.tsv.gz.idx\u001b[m\u001b[m\r\n",
      "\u001b[31mallc_EPI-230_S37.bw\u001b[m\u001b[m\r\n",
      "\u001b[31mallc_EPI-230_S37.tsv.gz\u001b[m\u001b[m\r\n",
      "\u001b[31mallc_EPI-230_S37.tsv.gz.idx\u001b[m\u001b[m\r\n",
      "\u001b[31mallc_EPI-41_S38.bw\u001b[m\u001b[m\r\n",
      "\u001b[31mallc_EPI-41_S38.tsv.gz\u001b[m\u001b[m\r\n",
      "\u001b[31mallc_EPI-41_S38.tsv.gz.idx\u001b[m\u001b[m\r\n",
      "\u001b[31mallc_EPI-42_S39.bw\u001b[m\u001b[m\r\n",
      "\u001b[31mallc_EPI-42_S39.tsv.gz\u001b[m\u001b[m\r\n",
      "\u001b[31mallc_EPI-42_S39.tsv.gz.idx\u001b[m\u001b[m\r\n",
      "\u001b[31mallc_EPI-43_S40.bw\u001b[m\u001b[m\r\n",
      "\u001b[31mallc_EPI-43_S40.tsv.gz\u001b[m\u001b[m\r\n",
      "\u001b[31mallc_EPI-43_S40.tsv.gz.idx\u001b[m\u001b[m\r\n",
      "\u001b[31mallc_EPI-44_S41.bw\u001b[m\u001b[m\r\n",
      "\u001b[31mallc_EPI-44_S41.tsv.gz\u001b[m\u001b[m\r\n",
      "\u001b[31mallc_EPI-44_S41.tsv.gz.idx\u001b[m\u001b[m\r\n",
      "\u001b[31mamb_AllTimes_DMR250bp_MCmax25_cov5x_clst3_rms_results.tsv.gz\u001b[m\u001b[m\r\n",
      "\u001b[31mamb_AllTimes_DMR250bp_MCmax25_cov5x_clst3_rms_results_collapsed.tsv\u001b[m\u001b[m\r\n",
      "\u001b[31mamb_AllTimes_DMR250bp_MCmax25_cov5x_clst3_rms_results_collapsed.tsv.DMR.bed\u001b[m\u001b[m\r\n",
      "\u001b[31mamb_AllTimes_DMR250bp_MCmax25_cov5x_clst3_rms_results_collapsed.tsv.DMS.bed\u001b[m\u001b[m\r\n",
      "\u001b[31mamb_AllTimes_DMR250bp_MCmax25_cov5x_rms_results.tsv.gz\u001b[m\u001b[m\r\n",
      "\u001b[31mamb_AllTimes_DMR250bp_MCmax25_cov5x_rms_results_collapsed.tsv\u001b[m\u001b[m\r\n",
      "\u001b[31mamb_AllTimes_DMR250bp_MCmax25_cov5x_rms_results_collapsed.tsv.DMR.bed\u001b[m\u001b[m\r\n",
      "\u001b[31mamb_AllTimes_DMR250bp_MCmax25_cov5x_rms_results_collapsed.tsv.DMS.bed\u001b[m\u001b[m\r\n",
      "\u001b[31mamb_AllTimes_DMR250bp_MCmax50_cov5x_clst3_rms_results.tsv.gz\u001b[m\u001b[m\r\n",
      "\u001b[31mamb_AllTimes_DMR250bp_MCmax50_cov5x_clst3_rms_results_collapsed.tsv\u001b[m\u001b[m\r\n",
      "\u001b[31mamb_AllTimes_DMR250bp_MCmax50_cov5x_clst3_rms_results_collapsed.tsv.DMR.bed\u001b[m\u001b[m\r\n",
      "\u001b[31mamb_AllTimes_DMR250bp_MCmax50_cov5x_clst3_rms_results_collapsed.tsv.DMS.bed\u001b[m\u001b[m\r\n",
      "\u001b[31mamb_AllTimes_DMR250bp_MCmax50_cov5x_clst3_rms_results_for_PGA_scaffold10__49_contigs__length_53961475_chunk_0.tsv\u001b[m\u001b[m\r\n",
      "\u001b[31mamb_AllTimes_DMR250bp_MCmax50_cov5x_clst3_rms_results_for_PGA_scaffold10__49_contigs__length_53961475_chunk_1.tsv\u001b[m\u001b[m\r\n",
      "\u001b[31mamb_AllTimes_DMR250bp_MCmax50_cov5x_clst3_rms_results_for_PGA_scaffold10__49_contigs__length_53961475_chunk_2.tsv\u001b[m\u001b[m\r\n",
      "\u001b[31mamb_AllTimes_DMR250bp_MCmax50_cov5x_clst3_rms_results_for_PGA_scaffold10__49_contigs__length_53961475_chunk_3.tsv\u001b[m\u001b[m\r\n",
      "\u001b[31mamb_AllTimes_DMR250bp_MCmax50_cov5x_clst3_rms_results_for_PGA_scaffold10__49_contigs__length_53961475_chunk_4.tsv\u001b[m\u001b[m\r\n",
      "\u001b[31mamb_AllTimes_DMR250bp_MCmax50_cov5x_clst3_rms_results_for_PGA_scaffold10__49_contigs__length_53961475_chunk_5.tsv\u001b[m\u001b[m\r\n",
      "\u001b[31mamb_AllTimes_DMR250bp_MCmax50_cov5x_clst3_rms_results_for_PGA_scaffold10__49_contigs__length_53961475_chunk_6.tsv\u001b[m\u001b[m\r\n",
      "\u001b[31mamb_AllTimes_DMR250bp_MCmax50_cov5x_clst3_rms_results_for_PGA_scaffold10__49_contigs__length_53961475_chunk_7.tsv\u001b[m\u001b[m\r\n",
      "\u001b[31mamb_AllTimes_DMR250bp_MCmax50_cov5x_clst3_rms_results_for_PGA_scaffold11__79_contigs__length_51449921_chunk_0.tsv\u001b[m\u001b[m\r\n",
      "\u001b[31mamb_AllTimes_DMR250bp_MCmax50_cov5x_clst3_rms_results_for_PGA_scaffold11__79_contigs__length_51449921_chunk_1.tsv\u001b[m\u001b[m\r\n",
      "\u001b[31mamb_AllTimes_DMR250bp_MCmax50_cov5x_clst3_rms_results_for_PGA_scaffold11__79_contigs__length_51449921_chunk_2.tsv\u001b[m\u001b[m\r\n",
      "\u001b[31mamb_AllTimes_DMR250bp_MCmax50_cov5x_clst3_rms_results_for_PGA_scaffold11__79_contigs__length_51449921_chunk_3.tsv\u001b[m\u001b[m\r\n",
      "\u001b[31mamb_AllTimes_DMR250bp_MCmax50_cov5x_clst3_rms_results_for_PGA_scaffold11__79_contigs__length_51449921_chunk_4.tsv\u001b[m\u001b[m\r\n",
      "\u001b[31mamb_AllTimes_DMR250bp_MCmax50_cov5x_clst3_rms_results_for_PGA_scaffold11__79_contigs__length_51449921_chunk_5.tsv\u001b[m\u001b[m\r\n",
      "\u001b[31mamb_AllTimes_DMR250bp_MCmax50_cov5x_clst3_rms_results_for_PGA_scaffold11__79_contigs__length_51449921_chunk_6.tsv\u001b[m\u001b[m\r\n",
      "\u001b[31mamb_AllTimes_DMR250bp_MCmax50_cov5x_clst3_rms_results_for_PGA_scaffold11__79_contigs__length_51449921_chunk_7.tsv\u001b[m\u001b[m\r\n",
      "\u001b[31mamb_AllTimes_DMR250bp_MCmax50_cov5x_clst3_rms_results_for_PGA_scaffold12__71_contigs__length_50438331_chunk_0.tsv\u001b[m\u001b[m\r\n",
      "\u001b[31mamb_AllTimes_DMR250bp_MCmax50_cov5x_clst3_rms_results_for_PGA_scaffold12__71_contigs__length_50438331_chunk_1.tsv\u001b[m\u001b[m\r\n",
      "\u001b[31mamb_AllTimes_DMR250bp_MCmax50_cov5x_clst3_rms_results_for_PGA_scaffold12__71_contigs__length_50438331_chunk_2.tsv\u001b[m\u001b[m\r\n",
      "\u001b[31mamb_AllTimes_DMR250bp_MCmax50_cov5x_clst3_rms_results_for_PGA_scaffold12__71_contigs__length_50438331_chunk_3.tsv\u001b[m\u001b[m\r\n",
      "\u001b[31mamb_AllTimes_DMR250bp_MCmax50_cov5x_clst3_rms_results_for_PGA_scaffold12__71_contigs__length_50438331_chunk_4.tsv\u001b[m\u001b[m\r\n",
      "\u001b[31mamb_AllTimes_DMR250bp_MCmax50_cov5x_clst3_rms_results_for_PGA_scaffold12__71_contigs__length_50438331_chunk_5.tsv\u001b[m\u001b[m\r\n",
      "\u001b[31mamb_AllTimes_DMR250bp_MCmax50_cov5x_clst3_rms_results_for_PGA_scaffold12__71_contigs__length_50438331_chunk_6.tsv\u001b[m\u001b[m\r\n",
      "\u001b[31mamb_AllTimes_DMR250bp_MCmax50_cov5x_clst3_rms_results_for_PGA_scaffold12__71_contigs__length_50438331_chunk_7.tsv\u001b[m\u001b[m\r\n",
      "\u001b[31mamb_AllTimes_DMR250bp_MCmax50_cov5x_clst3_rms_results_for_PGA_scaffold13__52_contigs__length_44396874_chunk_0.tsv\u001b[m\u001b[m\r\n",
      "\u001b[31mamb_AllTimes_DMR250bp_MCmax50_cov5x_clst3_rms_results_for_PGA_scaffold13__52_contigs__length_44396874_chunk_1.tsv\u001b[m\u001b[m\r\n",
      "\u001b[31mamb_AllTimes_DMR250bp_MCmax50_cov5x_clst3_rms_results_for_PGA_scaffold13__52_contigs__length_44396874_chunk_2.tsv\u001b[m\u001b[m\r\n",
      "\u001b[31mamb_AllTimes_DMR250bp_MCmax50_cov5x_clst3_rms_results_for_PGA_scaffold13__52_contigs__length_44396874_chunk_3.tsv\u001b[m\u001b[m\r\n",
      "\u001b[31mamb_AllTimes_DMR250bp_MCmax50_cov5x_clst3_rms_results_for_PGA_scaffold13__52_contigs__length_44396874_chunk_4.tsv\u001b[m\u001b[m\r\n",
      "\u001b[31mamb_AllTimes_DMR250bp_MCmax50_cov5x_clst3_rms_results_for_PGA_scaffold13__52_contigs__length_44396874_chunk_5.tsv\u001b[m\u001b[m\r\n",
      "\u001b[31mamb_AllTimes_DMR250bp_MCmax50_cov5x_clst3_rms_results_for_PGA_scaffold13__52_contigs__length_44396874_chunk_6.tsv\u001b[m\u001b[m\r\n",
      "\u001b[31mamb_AllTimes_DMR250bp_MCmax50_cov5x_clst3_rms_results_for_PGA_scaffold13__52_contigs__length_44396874_chunk_7.tsv\u001b[m\u001b[m\r\n",
      "\u001b[31mamb_AllTimes_DMR250bp_MCmax50_cov5x_clst3_rms_results_for_PGA_scaffold14__91_contigs__length_45393038_chunk_0.tsv\u001b[m\u001b[m\r\n",
      "\u001b[31mamb_AllTimes_DMR250bp_MCmax50_cov5x_clst3_rms_results_for_PGA_scaffold14__91_contigs__length_45393038_chunk_1.tsv\u001b[m\u001b[m\r\n",
      "\u001b[31mamb_AllTimes_DMR250bp_MCmax50_cov5x_clst3_rms_results_for_PGA_scaffold14__91_contigs__length_45393038_chunk_2.tsv\u001b[m\u001b[m\r\n",
      "\u001b[31mamb_AllTimes_DMR250bp_MCmax50_cov5x_clst3_rms_results_for_PGA_scaffold14__91_contigs__length_45393038_chunk_3.tsv\u001b[m\u001b[m\r\n",
      "\u001b[31mamb_AllTimes_DMR250bp_MCmax50_cov5x_clst3_rms_results_for_PGA_scaffold14__91_contigs__length_45393038_chunk_4.tsv\u001b[m\u001b[m\r\n",
      "\u001b[31mamb_AllTimes_DMR250bp_MCmax50_cov5x_clst3_rms_results_for_PGA_scaffold14__91_contigs__length_45393038_chunk_5.tsv\u001b[m\u001b[m\r\n",
      "\u001b[31mamb_AllTimes_DMR250bp_MCmax50_cov5x_clst3_rms_results_for_PGA_scaffold14__91_contigs__length_45393038_chunk_6.tsv\u001b[m\u001b[m\r\n",
      "\u001b[31mamb_AllTimes_DMR250bp_MCmax50_cov5x_clst3_rms_results_for_PGA_scaffold14__91_contigs__length_45393038_chunk_7.tsv\u001b[m\u001b[m\r\n",
      "\u001b[31mamb_AllTimes_DMR250bp_MCmax50_cov5x_clst3_rms_results_for_PGA_scaffold15__101_contigs__length_47938513_chunk_0.tsv\u001b[m\u001b[m\r\n",
      "\u001b[31mamb_AllTimes_DMR250bp_MCmax50_cov5x_clst3_rms_results_for_PGA_scaffold15__101_contigs__length_47938513_chunk_1.tsv\u001b[m\u001b[m\r\n",
      "\u001b[31mamb_AllTimes_DMR250bp_MCmax50_cov5x_clst3_rms_results_for_PGA_scaffold15__101_contigs__length_47938513_chunk_2.tsv\u001b[m\u001b[m\r\n",
      "\u001b[31mamb_AllTimes_DMR250bp_MCmax50_cov5x_clst3_rms_results_for_PGA_scaffold15__101_contigs__length_47938513_chunk_3.tsv\u001b[m\u001b[m\r\n",
      "\u001b[31mamb_AllTimes_DMR250bp_MCmax50_cov5x_clst3_rms_results_for_PGA_scaffold15__101_contigs__length_47938513_chunk_4.tsv\u001b[m\u001b[m\r\n",
      "\u001b[31mamb_AllTimes_DMR250bp_MCmax50_cov5x_clst3_rms_results_for_PGA_scaffold15__101_contigs__length_47938513_chunk_5.tsv\u001b[m\u001b[m\r\n",
      "\u001b[31mamb_AllTimes_DMR250bp_MCmax50_cov5x_clst3_rms_results_for_PGA_scaffold15__101_contigs__length_47938513_chunk_6.tsv\u001b[m\u001b[m\r\n",
      "\u001b[31mamb_AllTimes_DMR250bp_MCmax50_cov5x_clst3_rms_results_for_PGA_scaffold15__101_contigs__length_47938513_chunk_7.tsv\u001b[m\u001b[m\r\n",
      "\u001b[31mamb_AllTimes_DMR250bp_MCmax50_cov5x_clst3_rms_results_for_PGA_scaffold16__33_contigs__length_31980953_chunk_0.tsv\u001b[m\u001b[m\r\n",
      "\u001b[31mamb_AllTimes_DMR250bp_MCmax50_cov5x_clst3_rms_results_for_PGA_scaffold16__33_contigs__length_31980953_chunk_1.tsv\u001b[m\u001b[m\r\n",
      "\u001b[31mamb_AllTimes_DMR250bp_MCmax50_cov5x_clst3_rms_results_for_PGA_scaffold16__33_contigs__length_31980953_chunk_2.tsv\u001b[m\u001b[m\r\n",
      "\u001b[31mamb_AllTimes_DMR250bp_MCmax50_cov5x_clst3_rms_results_for_PGA_scaffold16__33_contigs__length_31980953_chunk_3.tsv\u001b[m\u001b[m\r\n",
      "\u001b[31mamb_AllTimes_DMR250bp_MCmax50_cov5x_clst3_rms_results_for_PGA_scaffold16__33_contigs__length_31980953_chunk_4.tsv\u001b[m\u001b[m\r\n",
      "\u001b[31mamb_AllTimes_DMR250bp_MCmax50_cov5x_clst3_rms_results_for_PGA_scaffold16__33_contigs__length_31980953_chunk_5.tsv\u001b[m\u001b[m\r\n",
      "\u001b[31mamb_AllTimes_DMR250bp_MCmax50_cov5x_clst3_rms_results_for_PGA_scaffold16__33_contigs__length_31980953_chunk_6.tsv\u001b[m\u001b[m\r\n",
      "\u001b[31mamb_AllTimes_DMR250bp_MCmax50_cov5x_clst3_rms_results_for_PGA_scaffold16__33_contigs__length_31980953_chunk_7.tsv\u001b[m\u001b[m\r\n",
      "\u001b[31mamb_AllTimes_DMR250bp_MCmax50_cov5x_clst3_rms_results_for_PGA_scaffold17__51_contigs__length_34923512_chunk_0.tsv\u001b[m\u001b[m\r\n",
      "\u001b[31mamb_AllTimes_DMR250bp_MCmax50_cov5x_clst3_rms_results_for_PGA_scaffold17__51_contigs__length_34923512_chunk_1.tsv\u001b[m\u001b[m\r\n",
      "\u001b[31mamb_AllTimes_DMR250bp_MCmax50_cov5x_clst3_rms_results_for_PGA_scaffold17__51_contigs__length_34923512_chunk_2.tsv\u001b[m\u001b[m\r\n",
      "\u001b[31mamb_AllTimes_DMR250bp_MCmax50_cov5x_clst3_rms_results_for_PGA_scaffold17__51_contigs__length_34923512_chunk_3.tsv\u001b[m\u001b[m\r\n",
      "\u001b[31mamb_AllTimes_DMR250bp_MCmax50_cov5x_clst3_rms_results_for_PGA_scaffold17__51_contigs__length_34923512_chunk_4.tsv\u001b[m\u001b[m\r\n",
      "\u001b[31mamb_AllTimes_DMR250bp_MCmax50_cov5x_clst3_rms_results_for_PGA_scaffold17__51_contigs__length_34923512_chunk_5.tsv\u001b[m\u001b[m\r\n",
      "\u001b[31mamb_AllTimes_DMR250bp_MCmax50_cov5x_clst3_rms_results_for_PGA_scaffold17__51_contigs__length_34923512_chunk_6.tsv\u001b[m\u001b[m\r\n",
      "\u001b[31mamb_AllTimes_DMR250bp_MCmax50_cov5x_clst3_rms_results_for_PGA_scaffold17__51_contigs__length_34923512_chunk_7.tsv\u001b[m\u001b[m\r\n",
      "\u001b[31mamb_AllTimes_DMR250bp_MCmax50_cov5x_clst3_rms_results_for_PGA_scaffold18__69_contigs__length_27737463_chunk_0.tsv\u001b[m\u001b[m\r\n",
      "\u001b[31mamb_AllTimes_DMR250bp_MCmax50_cov5x_clst3_rms_results_for_PGA_scaffold18__69_contigs__length_27737463_chunk_1.tsv\u001b[m\u001b[m\r\n",
      "\u001b[31mamb_AllTimes_DMR250bp_MCmax50_cov5x_clst3_rms_results_for_PGA_scaffold18__69_contigs__length_27737463_chunk_2.tsv\u001b[m\u001b[m\r\n",
      "\u001b[31mamb_AllTimes_DMR250bp_MCmax50_cov5x_clst3_rms_results_for_PGA_scaffold18__69_contigs__length_27737463_chunk_3.tsv\u001b[m\u001b[m\r\n",
      "\u001b[31mamb_AllTimes_DMR250bp_MCmax50_cov5x_clst3_rms_results_for_PGA_scaffold18__69_contigs__length_27737463_chunk_4.tsv\u001b[m\u001b[m\r\n",
      "\u001b[31mamb_AllTimes_DMR250bp_MCmax50_cov5x_clst3_rms_results_for_PGA_scaffold18__69_contigs__length_27737463_chunk_5.tsv\u001b[m\u001b[m\r\n",
      "\u001b[31mamb_AllTimes_DMR250bp_MCmax50_cov5x_clst3_rms_results_for_PGA_scaffold18__69_contigs__length_27737463_chunk_6.tsv\u001b[m\u001b[m\r\n",
      "\u001b[31mamb_AllTimes_DMR250bp_MCmax50_cov5x_clst3_rms_results_for_PGA_scaffold18__69_contigs__length_27737463_chunk_7.tsv\u001b[m\u001b[m\r\n",
      "\u001b[31mamb_AllTimes_DMR250bp_MCmax50_cov5x_clst3_rms_results_for_PGA_scaffold1__77_contigs__length_89643857_chunk_0.tsv\u001b[m\u001b[m\r\n",
      "\u001b[31mamb_AllTimes_DMR250bp_MCmax50_cov5x_clst3_rms_results_for_PGA_scaffold1__77_contigs__length_89643857_chunk_1.tsv\u001b[m\u001b[m\r\n",
      "\u001b[31mamb_AllTimes_DMR250bp_MCmax50_cov5x_clst3_rms_results_for_PGA_scaffold1__77_contigs__length_89643857_chunk_2.tsv\u001b[m\u001b[m\r\n",
      "\u001b[31mamb_AllTimes_DMR250bp_MCmax50_cov5x_clst3_rms_results_for_PGA_scaffold1__77_contigs__length_89643857_chunk_3.tsv\u001b[m\u001b[m\r\n",
      "\u001b[31mamb_AllTimes_DMR250bp_MCmax50_cov5x_clst3_rms_results_for_PGA_scaffold1__77_contigs__length_89643857_chunk_4.tsv\u001b[m\u001b[m\r\n",
      "\u001b[31mamb_AllTimes_DMR250bp_MCmax50_cov5x_clst3_rms_results_for_PGA_scaffold1__77_contigs__length_89643857_chunk_5.tsv\u001b[m\u001b[m\r\n",
      "\u001b[31mamb_AllTimes_DMR250bp_MCmax50_cov5x_clst3_rms_results_for_PGA_scaffold1__77_contigs__length_89643857_chunk_6.tsv\u001b[m\u001b[m\r\n",
      "\u001b[31mamb_AllTimes_DMR250bp_MCmax50_cov5x_clst3_rms_results_for_PGA_scaffold1__77_contigs__length_89643857_chunk_7.tsv\u001b[m\u001b[m\r\n",
      "\u001b[31mamb_AllTimes_DMR250bp_MCmax50_cov5x_clst3_rms_results_for_PGA_scaffold2__36_contigs__length_69596280_chunk_0.tsv\u001b[m\u001b[m\r\n",
      "\u001b[31mamb_AllTimes_DMR250bp_MCmax50_cov5x_clst3_rms_results_for_PGA_scaffold2__36_contigs__length_69596280_chunk_1.tsv\u001b[m\u001b[m\r\n",
      "\u001b[31mamb_AllTimes_DMR250bp_MCmax50_cov5x_clst3_rms_results_for_PGA_scaffold2__36_contigs__length_69596280_chunk_2.tsv\u001b[m\u001b[m\r\n",
      "\u001b[31mamb_AllTimes_DMR250bp_MCmax50_cov5x_clst3_rms_results_for_PGA_scaffold2__36_contigs__length_69596280_chunk_3.tsv\u001b[m\u001b[m\r\n",
      "\u001b[31mamb_AllTimes_DMR250bp_MCmax50_cov5x_clst3_rms_results_for_PGA_scaffold2__36_contigs__length_69596280_chunk_4.tsv\u001b[m\u001b[m\r\n",
      "\u001b[31mamb_AllTimes_DMR250bp_MCmax50_cov5x_clst3_rms_results_for_PGA_scaffold2__36_contigs__length_69596280_chunk_5.tsv\u001b[m\u001b[m\r\n",
      "\u001b[31mamb_AllTimes_DMR250bp_MCmax50_cov5x_clst3_rms_results_for_PGA_scaffold2__36_contigs__length_69596280_chunk_6.tsv\u001b[m\u001b[m\r\n",
      "\u001b[31mamb_AllTimes_DMR250bp_MCmax50_cov5x_clst3_rms_results_for_PGA_scaffold2__36_contigs__length_69596280_chunk_7.tsv\u001b[m\u001b[m\r\n",
      "\u001b[31mamb_AllTimes_DMR250bp_MCmax50_cov5x_clst3_rms_results_for_PGA_scaffold3__111_contigs__length_57743597_chunk_0.tsv\u001b[m\u001b[m\r\n",
      "\u001b[31mamb_AllTimes_DMR250bp_MCmax50_cov5x_clst3_rms_results_for_PGA_scaffold3__111_contigs__length_57743597_chunk_1.tsv\u001b[m\u001b[m\r\n",
      "\u001b[31mamb_AllTimes_DMR250bp_MCmax50_cov5x_clst3_rms_results_for_PGA_scaffold3__111_contigs__length_57743597_chunk_2.tsv\u001b[m\u001b[m\r\n",
      "\u001b[31mamb_AllTimes_DMR250bp_MCmax50_cov5x_clst3_rms_results_for_PGA_scaffold3__111_contigs__length_57743597_chunk_3.tsv\u001b[m\u001b[m\r\n",
      "\u001b[31mamb_AllTimes_DMR250bp_MCmax50_cov5x_clst3_rms_results_for_PGA_scaffold3__111_contigs__length_57743597_chunk_4.tsv\u001b[m\u001b[m\r\n",
      "\u001b[31mamb_AllTimes_DMR250bp_MCmax50_cov5x_clst3_rms_results_for_PGA_scaffold3__111_contigs__length_57743597_chunk_5.tsv\u001b[m\u001b[m\r\n",
      "\u001b[31mamb_AllTimes_DMR250bp_MCmax50_cov5x_clst3_rms_results_for_PGA_scaffold3__111_contigs__length_57743597_chunk_6.tsv\u001b[m\u001b[m\r\n",
      "\u001b[31mamb_AllTimes_DMR250bp_MCmax50_cov5x_clst3_rms_results_for_PGA_scaffold3__111_contigs__length_57743597_chunk_7.tsv\u001b[m\u001b[m\r\n",
      "\u001b[31mamb_AllTimes_DMR250bp_MCmax50_cov5x_clst3_rms_results_for_PGA_scaffold4__129_contigs__length_65288255_chunk_0.tsv\u001b[m\u001b[m\r\n",
      "\u001b[31mamb_AllTimes_DMR250bp_MCmax50_cov5x_clst3_rms_results_for_PGA_scaffold4__129_contigs__length_65288255_chunk_1.tsv\u001b[m\u001b[m\r\n",
      "\u001b[31mamb_AllTimes_DMR250bp_MCmax50_cov5x_clst3_rms_results_for_PGA_scaffold4__129_contigs__length_65288255_chunk_2.tsv\u001b[m\u001b[m\r\n",
      "\u001b[31mamb_AllTimes_DMR250bp_MCmax50_cov5x_clst3_rms_results_for_PGA_scaffold4__129_contigs__length_65288255_chunk_3.tsv\u001b[m\u001b[m\r\n",
      "\u001b[31mamb_AllTimes_DMR250bp_MCmax50_cov5x_clst3_rms_results_for_PGA_scaffold4__129_contigs__length_65288255_chunk_4.tsv\u001b[m\u001b[m\r\n",
      "\u001b[31mamb_AllTimes_DMR250bp_MCmax50_cov5x_clst3_rms_results_for_PGA_scaffold4__129_contigs__length_65288255_chunk_5.tsv\u001b[m\u001b[m\r\n",
      "\u001b[31mamb_AllTimes_DMR250bp_MCmax50_cov5x_clst3_rms_results_for_PGA_scaffold4__129_contigs__length_65288255_chunk_6.tsv\u001b[m\u001b[m\r\n",
      "\u001b[31mamb_AllTimes_DMR250bp_MCmax50_cov5x_clst3_rms_results_for_PGA_scaffold4__129_contigs__length_65288255_chunk_7.tsv\u001b[m\u001b[m\r\n",
      "\u001b[31mamb_AllTimes_DMR250bp_MCmax50_cov5x_clst3_rms_results_for_PGA_scaffold5__109_contigs__length_67248332_chunk_0.tsv\u001b[m\u001b[m\r\n",
      "\u001b[31mamb_AllTimes_DMR250bp_MCmax50_cov5x_clst3_rms_results_for_PGA_scaffold5__109_contigs__length_67248332_chunk_1.tsv\u001b[m\u001b[m\r\n",
      "\u001b[31mamb_AllTimes_DMR250bp_MCmax50_cov5x_clst3_rms_results_for_PGA_scaffold5__109_contigs__length_67248332_chunk_2.tsv\u001b[m\u001b[m\r\n",
      "\u001b[31mamb_AllTimes_DMR250bp_MCmax50_cov5x_clst3_rms_results_for_PGA_scaffold5__109_contigs__length_67248332_chunk_3.tsv\u001b[m\u001b[m\r\n",
      "\u001b[31mamb_AllTimes_DMR250bp_MCmax50_cov5x_clst3_rms_results_for_PGA_scaffold5__109_contigs__length_67248332_chunk_4.tsv\u001b[m\u001b[m\r\n",
      "\u001b[31mamb_AllTimes_DMR250bp_MCmax50_cov5x_clst3_rms_results_for_PGA_scaffold5__109_contigs__length_67248332_chunk_5.tsv\u001b[m\u001b[m\r\n",
      "\u001b[31mamb_AllTimes_DMR250bp_MCmax50_cov5x_clst3_rms_results_for_PGA_scaffold5__109_contigs__length_67248332_chunk_6.tsv\u001b[m\u001b[m\r\n",
      "\u001b[31mamb_AllTimes_DMR250bp_MCmax50_cov5x_clst3_rms_results_for_PGA_scaffold5__109_contigs__length_67248332_chunk_7.tsv\u001b[m\u001b[m\r\n",
      "\u001b[31mamb_AllTimes_DMR250bp_MCmax50_cov5x_clst3_rms_results_for_PGA_scaffold6__104_contigs__length_61759565_chunk_0.tsv\u001b[m\u001b[m\r\n",
      "\u001b[31mamb_AllTimes_DMR250bp_MCmax50_cov5x_clst3_rms_results_for_PGA_scaffold6__104_contigs__length_61759565_chunk_1.tsv\u001b[m\u001b[m\r\n",
      "\u001b[31mamb_AllTimes_DMR250bp_MCmax50_cov5x_clst3_rms_results_for_PGA_scaffold6__104_contigs__length_61759565_chunk_2.tsv\u001b[m\u001b[m\r\n",
      "\u001b[31mamb_AllTimes_DMR250bp_MCmax50_cov5x_clst3_rms_results_for_PGA_scaffold6__104_contigs__length_61759565_chunk_3.tsv\u001b[m\u001b[m\r\n",
      "\u001b[31mamb_AllTimes_DMR250bp_MCmax50_cov5x_clst3_rms_results_for_PGA_scaffold6__104_contigs__length_61759565_chunk_4.tsv\u001b[m\u001b[m\r\n",
      "\u001b[31mamb_AllTimes_DMR250bp_MCmax50_cov5x_clst3_rms_results_for_PGA_scaffold6__104_contigs__length_61759565_chunk_5.tsv\u001b[m\u001b[m\r\n",
      "\u001b[31mamb_AllTimes_DMR250bp_MCmax50_cov5x_clst3_rms_results_for_PGA_scaffold6__104_contigs__length_61759565_chunk_6.tsv\u001b[m\u001b[m\r\n",
      "\u001b[31mamb_AllTimes_DMR250bp_MCmax50_cov5x_clst3_rms_results_for_PGA_scaffold6__104_contigs__length_61759565_chunk_7.tsv\u001b[m\u001b[m\r\n",
      "\u001b[31mamb_AllTimes_DMR250bp_MCmax50_cov5x_clst3_rms_results_for_PGA_scaffold7__69_contigs__length_43120122_chunk_0.tsv\u001b[m\u001b[m\r\n",
      "\u001b[31mamb_AllTimes_DMR250bp_MCmax50_cov5x_clst3_rms_results_for_PGA_scaffold7__69_contigs__length_43120122_chunk_1.tsv\u001b[m\u001b[m\r\n",
      "\u001b[31mamb_AllTimes_DMR250bp_MCmax50_cov5x_clst3_rms_results_for_PGA_scaffold7__69_contigs__length_43120122_chunk_2.tsv\u001b[m\u001b[m\r\n",
      "\u001b[31mamb_AllTimes_DMR250bp_MCmax50_cov5x_clst3_rms_results_for_PGA_scaffold7__69_contigs__length_43120122_chunk_3.tsv\u001b[m\u001b[m\r\n",
      "\u001b[31mamb_AllTimes_DMR250bp_MCmax50_cov5x_clst3_rms_results_for_PGA_scaffold7__69_contigs__length_43120122_chunk_4.tsv\u001b[m\u001b[m\r\n",
      "\u001b[31mamb_AllTimes_DMR250bp_MCmax50_cov5x_clst3_rms_results_for_PGA_scaffold7__69_contigs__length_43120122_chunk_5.tsv\u001b[m\u001b[m\r\n",
      "\u001b[31mamb_AllTimes_DMR250bp_MCmax50_cov5x_clst3_rms_results_for_PGA_scaffold7__69_contigs__length_43120122_chunk_6.tsv\u001b[m\u001b[m\r\n",
      "\u001b[31mamb_AllTimes_DMR250bp_MCmax50_cov5x_clst3_rms_results_for_PGA_scaffold7__69_contigs__length_43120122_chunk_7.tsv\u001b[m\u001b[m\r\n",
      "\u001b[31mamb_AllTimes_DMR250bp_MCmax50_cov5x_clst3_rms_results_for_PGA_scaffold8__63_contigs__length_61151155_chunk_0.tsv\u001b[m\u001b[m\r\n",
      "\u001b[31mamb_AllTimes_DMR250bp_MCmax50_cov5x_clst3_rms_results_for_PGA_scaffold8__63_contigs__length_61151155_chunk_1.tsv\u001b[m\u001b[m\r\n",
      "\u001b[31mamb_AllTimes_DMR250bp_MCmax50_cov5x_clst3_rms_results_for_PGA_scaffold8__63_contigs__length_61151155_chunk_2.tsv\u001b[m\u001b[m\r\n",
      "\u001b[31mamb_AllTimes_DMR250bp_MCmax50_cov5x_clst3_rms_results_for_PGA_scaffold8__63_contigs__length_61151155_chunk_3.tsv\u001b[m\u001b[m\r\n",
      "\u001b[31mamb_AllTimes_DMR250bp_MCmax50_cov5x_clst3_rms_results_for_PGA_scaffold8__63_contigs__length_61151155_chunk_4.tsv\u001b[m\u001b[m\r\n",
      "\u001b[31mamb_AllTimes_DMR250bp_MCmax50_cov5x_clst3_rms_results_for_PGA_scaffold8__63_contigs__length_61151155_chunk_5.tsv\u001b[m\u001b[m\r\n",
      "\u001b[31mamb_AllTimes_DMR250bp_MCmax50_cov5x_clst3_rms_results_for_PGA_scaffold8__63_contigs__length_61151155_chunk_6.tsv\u001b[m\u001b[m\r\n",
      "\u001b[31mamb_AllTimes_DMR250bp_MCmax50_cov5x_clst3_rms_results_for_PGA_scaffold8__63_contigs__length_61151155_chunk_7.tsv\u001b[m\u001b[m\r\n",
      "\u001b[31mamb_AllTimes_DMR250bp_MCmax50_cov5x_clst3_rms_results_for_PGA_scaffold9__45_contigs__length_38581958_chunk_0.tsv\u001b[m\u001b[m\r\n",
      "\u001b[31mamb_AllTimes_DMR250bp_MCmax50_cov5x_clst3_rms_results_for_PGA_scaffold9__45_contigs__length_38581958_chunk_1.tsv\u001b[m\u001b[m\r\n",
      "\u001b[31mamb_AllTimes_DMR250bp_MCmax50_cov5x_clst3_rms_results_for_PGA_scaffold9__45_contigs__length_38581958_chunk_2.tsv\u001b[m\u001b[m\r\n",
      "\u001b[31mamb_AllTimes_DMR250bp_MCmax50_cov5x_clst3_rms_results_for_PGA_scaffold9__45_contigs__length_38581958_chunk_3.tsv\u001b[m\u001b[m\r\n",
      "\u001b[31mamb_AllTimes_DMR250bp_MCmax50_cov5x_clst3_rms_results_for_PGA_scaffold9__45_contigs__length_38581958_chunk_4.tsv\u001b[m\u001b[m\r\n",
      "\u001b[31mamb_AllTimes_DMR250bp_MCmax50_cov5x_clst3_rms_results_for_PGA_scaffold9__45_contigs__length_38581958_chunk_5.tsv\u001b[m\u001b[m\r\n",
      "\u001b[31mamb_AllTimes_DMR250bp_MCmax50_cov5x_clst3_rms_results_for_PGA_scaffold9__45_contigs__length_38581958_chunk_6.tsv\u001b[m\u001b[m\r\n",
      "\u001b[31mamb_AllTimes_DMR250bp_MCmax50_cov5x_clst3_rms_results_for_PGA_scaffold9__45_contigs__length_38581958_chunk_7.tsv\u001b[m\u001b[m\r\n",
      "\u001b[31mday10_AllpH_DMR250bp_MCmax25_cov5x_rms_results.tsv.gz\u001b[m\u001b[m\r\n",
      "\u001b[31mday10_AllpH_DMR250bp_MCmax25_cov5x_rms_results_collapsed.tsv\u001b[m\u001b[m\r\n",
      "\u001b[31mday10_AllpH_DMR250bp_MCmax25_cov5x_rms_results_collapsed.tsv.DMR.bed\u001b[m\u001b[m\r\n",
      "\u001b[31mday10_AllpH_DMR250bp_MCmax25_cov5x_rms_results_collapsed.tsv.DMS.bed\u001b[m\u001b[m\r\n",
      "\u001b[31mday10_DMRs_minClst2.xml\u001b[m\u001b[m\r\n",
      "\u001b[31mday135_AllpH_DMR250bp_MCmax25_cov5x_rms_results.tsv.gz\u001b[m\u001b[m\r\n",
      "\u001b[31mday135_AllpH_DMR250bp_MCmax25_cov5x_rms_results_collapsed.tsv\u001b[m\u001b[m\r\n",
      "\u001b[31mday135_AllpH_DMR250bp_MCmax25_cov5x_rms_results_collapsed.tsv.DMR.bed\u001b[m\u001b[m\r\n",
      "\u001b[31mday135_AllpH_DMR250bp_MCmax25_cov5x_rms_results_collapsed.tsv.DMS.bed\u001b[m\u001b[m\r\n",
      "\u001b[31mday145_AllpH_DMR250bp_MCmax25_cov5x_rms_results.tsv.gz\u001b[m\u001b[m\r\n",
      "\u001b[31mday145_AllpH_DMR250bp_MCmax25_cov5x_rms_results_collapsed.tsv\u001b[m\u001b[m\r\n",
      "\u001b[31mday145_AllpH_DMR250bp_MCmax25_cov5x_rms_results_collapsed.tsv.DMR.bed\u001b[m\u001b[m\r\n",
      "\u001b[31mday145_AllpH_DMR250bp_MCmax25_cov5x_rms_results_collapsed.tsv.DMS.bed\u001b[m\u001b[m\r\n",
      "\u001b[34mdedup_bams\u001b[m\u001b[m\r\n",
      "\u001b[34mdestrand_allc_files\u001b[m\u001b[m\r\n",
      "\u001b[34mgenome\u001b[m\u001b[m\r\n",
      "\u001b[34mmerge_allc\u001b[m\u001b[m\r\n",
      "\u001b[34mmerged_allc\u001b[m\u001b[m\r\n",
      "\u001b[31mslurm-1223727.out\u001b[m\u001b[m\r\n",
      "\u001b[31mslurm-1231397.out\u001b[m\u001b[m\r\n",
      "\u001b[31mslurm-1239077.out\u001b[m\u001b[m\r\n",
      "\u001b[31mslurm-1240043.out\u001b[m\u001b[m\r\n"
     ]
    }
   ],
   "source": [
    "!ls"
   ]
  },
  {
   "cell_type": "code",
   "execution_count": 3,
   "metadata": {},
   "outputs": [
    {
     "name": "stdout",
     "output_type": "stream",
     "text": [
      "/Volumes/web/metacarcinus/Pgenerosa/analyses/20190822/dedup_bams\n"
     ]
    }
   ],
   "source": [
    "cd dedup_bams/"
   ]
  },
  {
   "cell_type": "code",
   "execution_count": 4,
   "metadata": {},
   "outputs": [
    {
     "name": "stdout",
     "output_type": "stream",
     "text": [
      "\u001b[34m0807\u001b[m\u001b[m     \u001b[34m0807-003\u001b[m\u001b[m \u001b[34m0807-004\u001b[m\u001b[m \u001b[34m0809-005\u001b[m\u001b[m\r\n"
     ]
    }
   ],
   "source": [
    "!ls"
   ]
  },
  {
   "cell_type": "code",
   "execution_count": 11,
   "metadata": {},
   "outputs": [
    {
     "name": "stdout",
     "output_type": "stream",
     "text": [
      "      52\r\n"
     ]
    }
   ],
   "source": [
    "!ls -d -1 \"$PWD/\"*/* | wc -l"
   ]
  },
  {
   "cell_type": "code",
   "execution_count": 12,
   "metadata": {
    "scrolled": true
   },
   "outputs": [
    {
     "name": "stdout",
     "output_type": "stream",
     "text": [
      "\u001b[31m/Volumes/web/metacarcinus/Pgenerosa/analyses/20190822/dedup_bams/0807-003/EPI-175_S14_L003_R1_001_val_1_bismark_bt2_pe.deduplicated.sorted.bam\u001b[m\u001b[m\r\n",
      "\u001b[31m/Volumes/web/metacarcinus/Pgenerosa/analyses/20190822/dedup_bams/0807-003/EPI-176_S15_L003_R1_001_val_1_bismark_bt2_pe.deduplicated.sorted.bam\u001b[m\u001b[m\r\n",
      "\u001b[31m/Volumes/web/metacarcinus/Pgenerosa/analyses/20190822/dedup_bams/0807-003/EPI-181_S16_L003_R1_001_val_1_bismark_bt2_pe.deduplicated.sorted.bam\u001b[m\u001b[m\r\n",
      "\u001b[31m/Volumes/web/metacarcinus/Pgenerosa/analyses/20190822/dedup_bams/0807-003/EPI-182_S17_L003_R1_001_val_1_bismark_bt2_pe.deduplicated.sorted.bam\u001b[m\u001b[m\r\n",
      "\u001b[31m/Volumes/web/metacarcinus/Pgenerosa/analyses/20190822/dedup_bams/0807-003/EPI-184_S18_L003_R1_001_val_1_bismark_bt2_pe.deduplicated.sorted.bam\u001b[m\u001b[m\r\n",
      "\u001b[31m/Volumes/web/metacarcinus/Pgenerosa/analyses/20190822/dedup_bams/0807-003/EPI-185_S19_L003_R1_001_val_1_bismark_bt2_pe.deduplicated.sorted.bam\u001b[m\u001b[m\r\n",
      "\u001b[31m/Volumes/web/metacarcinus/Pgenerosa/analyses/20190822/dedup_bams/0807-003/EPI-187_S20_L003_R1_001_val_1_bismark_bt2_pe.deduplicated.sorted.bam\u001b[m\u001b[m\r\n",
      "\u001b[31m/Volumes/web/metacarcinus/Pgenerosa/analyses/20190822/dedup_bams/0807-003/EPI-188_S21_L003_R1_001_val_1_bismark_bt2_pe.deduplicated.sorted.bam\u001b[m\u001b[m\r\n",
      "\u001b[31m/Volumes/web/metacarcinus/Pgenerosa/analyses/20190822/dedup_bams/0807-003/EPI-193_S22_L003_R1_001_val_1_bismark_bt2_pe.deduplicated.sorted.bam\u001b[m\u001b[m\r\n",
      "\u001b[31m/Volumes/web/metacarcinus/Pgenerosa/analyses/20190822/dedup_bams/0807-003/EPI-194_S23_L003_R1_001_val_1_bismark_bt2_pe.deduplicated.sorted.bam\u001b[m\u001b[m\r\n",
      "\u001b[31m/Volumes/web/metacarcinus/Pgenerosa/analyses/20190822/dedup_bams/0807-003/EPI-199_S24_L003_R1_001_val_1_bismark_bt2_pe.deduplicated.sorted.bam\u001b[m\u001b[m\r\n",
      "\u001b[31m/Volumes/web/metacarcinus/Pgenerosa/analyses/20190822/dedup_bams/0807-003/EPI-200_S25_L003_R1_001_val_1_bismark_bt2_pe.deduplicated.sorted.bam\u001b[m\u001b[m\r\n",
      "\u001b[31m/Volumes/web/metacarcinus/Pgenerosa/analyses/20190822/dedup_bams/0807-004/EPI-205_S26_L004_R1_001_val_1_bismark_bt2_pe.deduplicated.sorted.bam\u001b[m\u001b[m\r\n",
      "\u001b[31m/Volumes/web/metacarcinus/Pgenerosa/analyses/20190822/dedup_bams/0807-004/EPI-206_S27_L004_R1_001_val_1_bismark_bt2_pe.deduplicated.sorted.bam\u001b[m\u001b[m\r\n",
      "\u001b[31m/Volumes/web/metacarcinus/Pgenerosa/analyses/20190822/dedup_bams/0807-004/EPI-208_S28_L004_R1_001_val_1_bismark_bt2_pe.deduplicated.sorted.bam\u001b[m\u001b[m\r\n",
      "\u001b[31m/Volumes/web/metacarcinus/Pgenerosa/analyses/20190822/dedup_bams/0807-004/EPI-209_S29_L004_R1_001_val_1_bismark_bt2_pe.deduplicated.sorted.bam\u001b[m\u001b[m\r\n",
      "\u001b[31m/Volumes/web/metacarcinus/Pgenerosa/analyses/20190822/dedup_bams/0807-004/EPI-214_S30_L004_R1_001_val_1_bismark_bt2_pe.deduplicated.sorted.bam\u001b[m\u001b[m\r\n",
      "\u001b[31m/Volumes/web/metacarcinus/Pgenerosa/analyses/20190822/dedup_bams/0807-004/EPI-215_S31_L004_R1_001_val_1_bismark_bt2_pe.deduplicated.sorted.bam\u001b[m\u001b[m\r\n",
      "\u001b[31m/Volumes/web/metacarcinus/Pgenerosa/analyses/20190822/dedup_bams/0807-004/EPI-220_S32_L004_R1_001_val_1_bismark_bt2_pe.deduplicated.sorted.bam\u001b[m\u001b[m\r\n",
      "\u001b[31m/Volumes/web/metacarcinus/Pgenerosa/analyses/20190822/dedup_bams/0807-004/EPI-221_S33_L004_R1_001_val_1_bismark_bt2_pe.deduplicated.sorted.bam\u001b[m\u001b[m\r\n",
      "\u001b[31m/Volumes/web/metacarcinus/Pgenerosa/analyses/20190822/dedup_bams/0807-004/EPI-226_S34_L004_R1_001_val_1_bismark_bt2_pe.deduplicated.sorted.bam\u001b[m\u001b[m\r\n",
      "\u001b[31m/Volumes/web/metacarcinus/Pgenerosa/analyses/20190822/dedup_bams/0807-004/EPI-227_S35_L004_R1_001_val_1_bismark_bt2_pe.deduplicated.sorted.bam\u001b[m\u001b[m\r\n",
      "\u001b[31m/Volumes/web/metacarcinus/Pgenerosa/analyses/20190822/dedup_bams/0807-004/EPI-229_S36_L004_R1_001_val_1_bismark_bt2_pe.deduplicated.sorted.bam\u001b[m\u001b[m\r\n",
      "\u001b[31m/Volumes/web/metacarcinus/Pgenerosa/analyses/20190822/dedup_bams/0807-004/EPI-230_S37_L004_R1_001_val_1_bismark_bt2_pe.deduplicated.sorted.bam\u001b[m\u001b[m\r\n",
      "\u001b[31m/Volumes/web/metacarcinus/Pgenerosa/analyses/20190822/dedup_bams/0807/EPI-151_S2_L002_R1_001_val_1_bismark_bt2_pe.deduplicated.sorted.bam\u001b[m\u001b[m\r\n",
      "\u001b[31m/Volumes/web/metacarcinus/Pgenerosa/analyses/20190822/dedup_bams/0807/EPI-152_S3_L002_R1_001_val_1_bismark_bt2_pe.deduplicated.sorted.bam\u001b[m\u001b[m\r\n",
      "\u001b[31m/Volumes/web/metacarcinus/Pgenerosa/analyses/20190822/dedup_bams/0807/EPI-153_S4_L002_R1_001_val_1_bismark_bt2_pe.deduplicated.sorted.bam\u001b[m\u001b[m\r\n",
      "\u001b[31m/Volumes/web/metacarcinus/Pgenerosa/analyses/20190822/dedup_bams/0807/EPI-154_S5_L002_R1_001_val_1_bismark_bt2_pe.deduplicated.sorted.bam\u001b[m\u001b[m\r\n",
      "\u001b[31m/Volumes/web/metacarcinus/Pgenerosa/analyses/20190822/dedup_bams/0807/EPI-159_S6_L002_R1_001_val_1_bismark_bt2_pe.deduplicated.sorted.bam\u001b[m\u001b[m\r\n",
      "\u001b[31m/Volumes/web/metacarcinus/Pgenerosa/analyses/20190822/dedup_bams/0807/EPI-160_S7_L002_R1_001_val_1_bismark_bt2_pe.deduplicated.sorted.bam\u001b[m\u001b[m\r\n",
      "\u001b[31m/Volumes/web/metacarcinus/Pgenerosa/analyses/20190822/dedup_bams/0807/EPI-161_S8_L002_R1_001_val_1_bismark_bt2_pe.deduplicated.sorted.bam\u001b[m\u001b[m\r\n",
      "\u001b[31m/Volumes/web/metacarcinus/Pgenerosa/analyses/20190822/dedup_bams/0807/EPI-162_S9_L002_R1_001_val_1_bismark_bt2_pe.deduplicated.sorted.bam\u001b[m\u001b[m\r\n",
      "\u001b[31m/Volumes/web/metacarcinus/Pgenerosa/analyses/20190822/dedup_bams/0807/EPI-167_S10_L002_R1_001_val_1_bismark_bt2_pe.deduplicated.sorted.bam\u001b[m\u001b[m\r\n",
      "\u001b[31m/Volumes/web/metacarcinus/Pgenerosa/analyses/20190822/dedup_bams/0807/EPI-168_S11_L002_R1_001_val_1_bismark_bt2_pe.deduplicated.sorted.bam\u001b[m\u001b[m\r\n",
      "\u001b[31m/Volumes/web/metacarcinus/Pgenerosa/analyses/20190822/dedup_bams/0807/EPI-169_S12_L002_R1_001_val_1_bismark_bt2_pe.deduplicated.sorted.bam\u001b[m\u001b[m\r\n",
      "\u001b[31m/Volumes/web/metacarcinus/Pgenerosa/analyses/20190822/dedup_bams/0807/EPI-170_S13_L002_R1_001_val_1_bismark_bt2_pe.deduplicated.sorted.bam\u001b[m\u001b[m\r\n",
      "\u001b[31m/Volumes/web/metacarcinus/Pgenerosa/analyses/20190822/dedup_bams/0809-005/EPI-103_S27_L005_R1_001_val_1_bismark_bt2_pe.deduplicated.sorted.bam\u001b[m\u001b[m\r\n",
      "\u001b[31m/Volumes/web/metacarcinus/Pgenerosa/analyses/20190822/dedup_bams/0809-005/EPI-104_S28_L005_R1_001_val_1_bismark_bt2_pe.deduplicated.sorted.bam\u001b[m\u001b[m\r\n",
      "\u001b[31m/Volumes/web/metacarcinus/Pgenerosa/analyses/20190822/dedup_bams/0809-005/EPI-111_S29_L005_R1_001_val_1_bismark_bt2_pe.deduplicated.sorted.bam\u001b[m\u001b[m\r\n",
      "\u001b[31m/Volumes/web/metacarcinus/Pgenerosa/analyses/20190822/dedup_bams/0809-005/EPI-113_S30_L005_R1_001_val_1_bismark_bt2_pe.deduplicated.sorted.bam\u001b[m\u001b[m\r\n",
      "\u001b[31m/Volumes/web/metacarcinus/Pgenerosa/analyses/20190822/dedup_bams/0809-005/EPI-119_S31_L005_R1_001_val_1_bismark_bt2_pe.deduplicated.sorted.bam\u001b[m\u001b[m\r\n",
      "\u001b[31m/Volumes/web/metacarcinus/Pgenerosa/analyses/20190822/dedup_bams/0809-005/EPI-120_S32_L005_R1_001_val_1_bismark_bt2_pe.deduplicated.sorted.bam\u001b[m\u001b[m\r\n",
      "\u001b[31m/Volumes/web/metacarcinus/Pgenerosa/analyses/20190822/dedup_bams/0809-005/EPI-127_S33_L005_R1_001_val_1_bismark_bt2_pe.deduplicated.sorted.bam\u001b[m\u001b[m\r\n",
      "\u001b[31m/Volumes/web/metacarcinus/Pgenerosa/analyses/20190822/dedup_bams/0809-005/EPI-128_S34_L005_R1_001_val_1_bismark_bt2_pe.deduplicated.sorted.bam\u001b[m\u001b[m\r\n",
      "\u001b[31m/Volumes/web/metacarcinus/Pgenerosa/analyses/20190822/dedup_bams/0809-005/EPI-135_S35_L005_R1_001_val_1_bismark_bt2_pe.deduplicated.sorted.bam\u001b[m\u001b[m\r\n",
      "\u001b[31m/Volumes/web/metacarcinus/Pgenerosa/analyses/20190822/dedup_bams/0809-005/EPI-136_S36_L005_R1_001_val_1_bismark_bt2_pe.deduplicated.sorted.bam\u001b[m\u001b[m\r\n",
      "\u001b[31m/Volumes/web/metacarcinus/Pgenerosa/analyses/20190822/dedup_bams/0809-005/EPI-143_S37_L005_R1_001_val_1_bismark_bt2_pe.deduplicated.sorted.bam\u001b[m\u001b[m\r\n",
      "\u001b[31m/Volumes/web/metacarcinus/Pgenerosa/analyses/20190822/dedup_bams/0809-005/EPI-145_S38_L005_R1_001_val_1_bismark_bt2_pe.deduplicated.sorted.bam\u001b[m\u001b[m\r\n",
      "\u001b[31m/Volumes/web/metacarcinus/Pgenerosa/analyses/20190822/dedup_bams/0809-005/EPI-41_S38_L005_R1_001_val_1_bismark_bt2_pe.deduplicated.sorted.bam\u001b[m\u001b[m\r\n",
      "\u001b[31m/Volumes/web/metacarcinus/Pgenerosa/analyses/20190822/dedup_bams/0809-005/EPI-42_S39_L005_R1_001_val_1_bismark_bt2_pe.deduplicated.sorted.bam\u001b[m\u001b[m\r\n",
      "\u001b[31m/Volumes/web/metacarcinus/Pgenerosa/analyses/20190822/dedup_bams/0809-005/EPI-43_S40_L005_R1_001_val_1_bismark_bt2_pe.deduplicated.sorted.bam\u001b[m\u001b[m\r\n",
      "\u001b[31m/Volumes/web/metacarcinus/Pgenerosa/analyses/20190822/dedup_bams/0809-005/EPI-44_S41_L005_R1_001_val_1_bismark_bt2_pe.deduplicated.sorted.bam\u001b[m\u001b[m\r\n"
     ]
    }
   ],
   "source": [
    "!ls -d -1 \"$PWD/\"*/* "
   ]
  },
  {
   "cell_type": "code",
   "execution_count": 23,
   "metadata": {},
   "outputs": [
    {
     "name": "stdout",
     "output_type": "stream",
     "text": [
      "EPI-175_S14_L003_R1_001_val_1_bismark_bt2_pe.deduplicated.sorted.bam\r\n",
      "EPI-176_S15_L003_R1_001_val_1_bismark_bt2_pe.deduplicated.sorted.bam\r\n",
      "EPI-181_S16_L003_R1_001_val_1_bismark_bt2_pe.deduplicated.sorted.bam\r\n",
      "EPI-182_S17_L003_R1_001_val_1_bismark_bt2_pe.deduplicated.sorted.bam\r\n",
      "EPI-184_S18_L003_R1_001_val_1_bismark_bt2_pe.deduplicated.sorted.bam\r\n",
      "EPI-185_S19_L003_R1_001_val_1_bismark_bt2_pe.deduplicated.sorted.bam\r\n",
      "EPI-187_S20_L003_R1_001_val_1_bismark_bt2_pe.deduplicated.sorted.bam\r\n",
      "EPI-188_S21_L003_R1_001_val_1_bismark_bt2_pe.deduplicated.sorted.bam\r\n",
      "EPI-193_S22_L003_R1_001_val_1_bismark_bt2_pe.deduplicated.sorted.bam\r\n",
      "EPI-194_S23_L003_R1_001_val_1_bismark_bt2_pe.deduplicated.sorted.bam\r\n"
     ]
    }
   ],
   "source": [
    "!ls */* | sed 's/.*\\///g' | head"
   ]
  },
  {
   "cell_type": "code",
   "execution_count": 24,
   "metadata": {},
   "outputs": [
    {
     "name": "stdout",
     "output_type": "stream",
     "text": [
      "EPI-175\r\n",
      "EPI-176\r\n",
      "EPI-181\r\n",
      "EPI-182\r\n",
      "EPI-184\r\n",
      "EPI-185\r\n",
      "EPI-187\r\n",
      "EPI-188\r\n",
      "EPI-193\r\n",
      "EPI-194\r\n"
     ]
    }
   ],
   "source": [
    "!ls */* | sed 's/.*\\///g' |sed 's/_S.*//g' | head"
   ]
  },
  {
   "cell_type": "code",
   "execution_count": 25,
   "metadata": {},
   "outputs": [],
   "source": [
    "!ls */* | sed 's/.*\\///g' |sed 's/_S.*//g' > sample_names.txt"
   ]
  },
  {
   "cell_type": "code",
   "execution_count": 26,
   "metadata": {},
   "outputs": [],
   "source": [
    "!mkdir multibamQC"
   ]
  },
  {
   "cell_type": "code",
   "execution_count": 27,
   "metadata": {},
   "outputs": [],
   "source": [
    "!mv sample_names.txt multibamQC/"
   ]
  },
  {
   "cell_type": "code",
   "execution_count": 28,
   "metadata": {},
   "outputs": [
    {
     "name": "stdout",
     "output_type": "stream",
     "text": [
      "EPI-175\t/Volumes/web/metacarcinus/Pgenerosa/analyses/20190822/dedup_bams/0807-003/EPI-175_S14_L003_R1_001_val_1_bismark_bt2_pe.deduplicated.sorted.bam\r\n",
      "EPI-176\t/Volumes/web/metacarcinus/Pgenerosa/analyses/20190822/dedup_bams/0807-003/EPI-176_S15_L003_R1_001_val_1_bismark_bt2_pe.deduplicated.sorted.bam\r\n",
      "EPI-181\t/Volumes/web/metacarcinus/Pgenerosa/analyses/20190822/dedup_bams/0807-003/EPI-181_S16_L003_R1_001_val_1_bismark_bt2_pe.deduplicated.sorted.bam\r\n",
      "EPI-182\t/Volumes/web/metacarcinus/Pgenerosa/analyses/20190822/dedup_bams/0807-003/EPI-182_S17_L003_R1_001_val_1_bismark_bt2_pe.deduplicated.sorted.bam\r\n",
      "EPI-184\t/Volumes/web/metacarcinus/Pgenerosa/analyses/20190822/dedup_bams/0807-003/EPI-184_S18_L003_R1_001_val_1_bismark_bt2_pe.deduplicated.sorted.bam\r\n",
      "EPI-185\t/Volumes/web/metacarcinus/Pgenerosa/analyses/20190822/dedup_bams/0807-003/EPI-185_S19_L003_R1_001_val_1_bismark_bt2_pe.deduplicated.sorted.bam\r\n",
      "EPI-187\t/Volumes/web/metacarcinus/Pgenerosa/analyses/20190822/dedup_bams/0807-003/EPI-187_S20_L003_R1_001_val_1_bismark_bt2_pe.deduplicated.sorted.bam\r\n",
      "EPI-188\t/Volumes/web/metacarcinus/Pgenerosa/analyses/20190822/dedup_bams/0807-003/EPI-188_S21_L003_R1_001_val_1_bismark_bt2_pe.deduplicated.sorted.bam\r\n",
      "EPI-193\t/Volumes/web/metacarcinus/Pgenerosa/analyses/20190822/dedup_bams/0807-003/EPI-193_S22_L003_R1_001_val_1_bismark_bt2_pe.deduplicated.sorted.bam\r\n",
      "EPI-194\t/Volumes/web/metacarcinus/Pgenerosa/analyses/20190822/dedup_bams/0807-003/EPI-194_S23_L003_R1_001_val_1_bismark_bt2_pe.deduplicated.sorted.bam\r\n"
     ]
    }
   ],
   "source": [
    "!ls -d -1 \"$PWD/\"*/* | paste multibamQC/sample_names.txt - | head"
   ]
  },
  {
   "cell_type": "code",
   "execution_count": 29,
   "metadata": {},
   "outputs": [],
   "source": [
    "!ls -d -1 \"$PWD/\"*/* | paste multibamQC/sample_names.txt - > multiBamqc_data_paths.txt"
   ]
  },
  {
   "cell_type": "code",
   "execution_count": 30,
   "metadata": {},
   "outputs": [],
   "source": [
    "!mv multiBamqc_data_paths.txt multibamQC/"
   ]
  },
  {
   "cell_type": "code",
   "execution_count": null,
   "metadata": {},
   "outputs": [],
   "source": [
    "%%bash\n",
    "\n",
    "/Users/Shared/bioinformatics/qualimap_v2.2.1/qualimap multi-bamqc \\\n",
    "-d multibamQC/multiBamqc_data_paths.txt \\\n",
    "-outdir multibamQC/ \\\n",
    "-r"
   ]
  },
  {
   "cell_type": "code",
   "execution_count": null,
   "metadata": {},
   "outputs": [],
   "source": []
  }
 ],
 "metadata": {
  "kernelspec": {
   "display_name": "Python 3",
   "language": "python",
   "name": "python3"
  },
  "language_info": {
   "codemirror_mode": {
    "name": "ipython",
    "version": 3
   },
   "file_extension": ".py",
   "mimetype": "text/x-python",
   "name": "python",
   "nbconvert_exporter": "python",
   "pygments_lexer": "ipython3",
   "version": "3.6.8"
  }
 },
 "nbformat": 4,
 "nbformat_minor": 2
}
