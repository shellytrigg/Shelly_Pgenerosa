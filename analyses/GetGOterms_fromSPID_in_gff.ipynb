{
 "cells": [
  {
   "cell_type": "code",
   "execution_count": 3,
   "metadata": {},
   "outputs": [
    {
     "name": "stdout",
     "output_type": "stream",
     "text": [
      "Scaffold_01 GenSAS_5d9637f372b5d-publish gene 2 4719 Q86IC9\r\n",
      "Scaffold_01 GenSAS_5d9637f372b5d-publish gene 19808 36739 P04177\r\n",
      "Scaffold_01 GenSAS_5d9637f372b5d-publish gene 67586 69113 Q8L840\r\n",
      "Scaffold_01 GenSAS_5d9637f372b5d-publish gene 70713 81099 Q61043\r\n",
      "Scaffold_01 GenSAS_5d9637f372b5d-publish gene 187328 188353 A1E2V0\r\n",
      "Scaffold_01 GenSAS_5d9637f372b5d-publish gene 189849 190460 P34456\r\n",
      "Scaffold_01 GenSAS_5d9637f372b5d-publish gene 192526 193324 P34457\r\n",
      "Scaffold_01 GenSAS_5d9637f372b5d-publish gene 225369 238796 O00463\r\n",
      "Scaffold_01 GenSAS_5d9637f372b5d-publish gene 311069 315793 Q00945\r\n",
      "Scaffold_01 GenSAS_5d9637f372b5d-publish gene 326245 329049 Q5SWK7\r\n",
      "sed: stdout: Broken pipe\r\n"
     ]
    }
   ],
   "source": [
    "!cat 20200108_anno/Panopea-generosa-v1.0.a4.gene.gff3 |\\\n",
    "awk -F\"\\t\" '{sub(/.*;Notes=/,\"\",$9);sub(/sp\\|/,\"sp_\",$9);sub(/\\|.*/,\"\",$9);print $1,$2,$3,$4,$5,$9}'| \\\n",
    "grep \"sp_\" | sed 's/sp_//g' | head"
   ]
  },
  {
   "cell_type": "code",
   "execution_count": 4,
   "metadata": {
    "collapsed": true
   },
   "outputs": [],
   "source": [
    "!cat 20200108_anno/Panopea-generosa-v1.0.a4.gene.gff3 |\\\n",
    "awk -F\"\\t\" '{sub(/.*;Notes=/,\"\",$9);sub(/sp\\|/,\"sp_\",$9);sub(/\\|.*/,\"\",$9);print $1,$2,$3,$4,$5,$9}'| \\\n",
    "grep \"sp_\" | sed 's/sp_//g' > 20200108_anno/Panopea-generosa-v1.0.a4.gene.SPIDs"
   ]
  },
  {
   "cell_type": "code",
   "execution_count": 2,
   "metadata": {},
   "outputs": [
    {
     "name": "stdout",
     "output_type": "stream",
     "text": [
      "##gff-version 3     \r\n",
      "##Generated using GenSAS, Tuesday 26th of November 2019 07:12:25 PM     \r\n",
      "##Project Name : Pgenerosa_v074     \r\n",
      "Scaffold_01 GenSAS_5d9637f372b5d-publish gene 2 4719 PGEN_.00g000010\r\n",
      "Scaffold_01 GenSAS_5d9637f372b5d-publish gene 19808 36739 PGEN_.00g000020\r\n",
      "Scaffold_01 GenSAS_5d9637f372b5d-publish gene 49248 52578 PGEN_.00g000030\r\n",
      "Scaffold_01 GenSAS_5d9637f372b5d-publish gene 55792 67546 PGEN_.00g000040\r\n",
      "Scaffold_01 GenSAS_5d9637f372b5d-publish gene 67586 69113 PGEN_.00g000050\r\n",
      "Scaffold_01 GenSAS_5d9637f372b5d-publish gene 70713 81099 PGEN_.00g000060\r\n",
      "Scaffold_01 GenSAS_5d9637f372b5d-publish gene 183686 186073 PGEN_.00g000070\r\n",
      "awk: write error on /dev/stdout\r\n",
      " input record number 423, file \r\n",
      " source line number 1\r\n",
      "cat: stdout: Broken pipe\r\n"
     ]
    }
   ],
   "source": [
    "!cat 20200108_anno/Panopea-generosa-v1.0.a4.gene.gff3 |\\\n",
    "awk -F\"\\t\" '{sub(/;.*/,\"\",$9); sub(\"ID=\",\"\",$9);print $1,$2,$3,$4,$5,$9}' |\\\n",
    "head\n",
    "\n"
   ]
  },
  {
   "cell_type": "code",
   "execution_count": 5,
   "metadata": {
    "collapsed": true
   },
   "outputs": [],
   "source": [
    "!cat 20200108_anno/Panopea-generosa-v1.0.a4.gene.gff3 |\\\n",
    "awk -F\"\\t\" '{sub(/;.*/,\"\",$9); sub(\"ID=\",\"\",$9);print $1,$2,$3,$4,$5,$9}' \\\n",
    "> 20200108_anno/Panopea-generosa-v1.0.a4.gene.geneIDs"
   ]
  },
  {
   "cell_type": "code",
   "execution_count": null,
   "metadata": {
    "collapsed": true
   },
   "outputs": [],
   "source": [
    "#merge gene and SP ID files"
   ]
  },
  {
   "cell_type": "code",
   "execution_count": 37,
   "metadata": {},
   "outputs": [
    {
     "name": "stdout",
     "output_type": "stream",
     "text": [
      "##gff-version 3      NA\n",
      "##Generated using GenSAS, Tuesday 26th of November 2019 07:12:25 PM      NA\n",
      "##Project Name : Pgenerosa_v074      NA\n",
      "Scaffold_01 GenSAS_5d9637f372b5d-publish gene 2 4719 PGEN_.00g000010 Q86IC9\n",
      "Scaffold_01 GenSAS_5d9637f372b5d-publish gene 19808 36739 PGEN_.00g000020 P04177\n",
      "Scaffold_01 GenSAS_5d9637f372b5d-publish gene 49248 52578 PGEN_.00g000030 NA\n",
      "Scaffold_01 GenSAS_5d9637f372b5d-publish gene 55792 67546 PGEN_.00g000040 NA\n",
      "Scaffold_01 GenSAS_5d9637f372b5d-publish gene 67586 69113 PGEN_.00g000050 Q8L840\n",
      "Scaffold_01 GenSAS_5d9637f372b5d-publish gene 70713 81099 PGEN_.00g000060 Q61043\n",
      "Scaffold_01 GenSAS_5d9637f372b5d-publish gene 183686 186073 PGEN_.00g000070 NA\n",
      "awk: write error on /dev/stdout\n",
      " input record number 397, file 20200108_anno/Panopea-generosa-v1.0.a4.gene.geneIDs\n",
      " source line number 1\n"
     ]
    }
   ],
   "source": [
    "!awk 'NR==FNR{a[$1,$2,$3,$4,$5]=$6;next}{if(($1,$2,$3,$4,$5) in a)print $0,a[$1,$2,$3,$4,$5];else print $0,\"NA\"}' \\\n",
    "20200108_anno/Panopea-generosa-v1.0.a4.gene.SPIDs \\\n",
    "20200108_anno/Panopea-generosa-v1.0.a4.gene.geneIDs |\\\n",
    "head"
   ]
  },
  {
   "cell_type": "code",
   "execution_count": 38,
   "metadata": {
    "collapsed": true
   },
   "outputs": [],
   "source": [
    "!awk 'NR==FNR{a[$1,$2,$3,$4,$5]=$6;next}{if(($1,$2,$3,$4,$5) in a)print $0,a[$1,$2,$3,$4,$5];else print $0,\"NA\"}' \\\n",
    "20200108_anno/Panopea-generosa-v1.0.a4.gene.SPIDs \\\n",
    "20200108_anno/Panopea-generosa-v1.0.a4.gene.geneIDs > 20200108_anno/Panopea-generosa-v1.0.a4.gene.geneANDSPIDs"
   ]
  },
  {
   "cell_type": "code",
   "execution_count": 9,
   "metadata": {},
   "outputs": [
    {
     "name": "stdout",
     "output_type": "stream",
     "text": [
      "A0A044RE18\r\n",
      "A0A060WQA3\r\n",
      "A0A0A7DNP6\r\n",
      "A0A0B5A7M7\r\n",
      "A0A0B5A8P8\r\n",
      "A0A0E0RTV6\r\n",
      "A0A0F7YYX3\r\n",
      "A0A0F7YZI5\r\n",
      "A0A0F7Z3J2\r\n",
      "A0A0G2K344\r\n"
     ]
    }
   ],
   "source": [
    "!cut -d \" \" -f 7 20200108_anno/Panopea-generosa-v1.0.a4.gene.geneANDSPIDs |\\\n",
    "sort | uniq | head"
   ]
  },
  {
   "cell_type": "code",
   "execution_count": null,
   "metadata": {
    "collapsed": true
   },
   "outputs": [],
   "source": [
    "#save a file with all unique SP IDs for uploading to Uniprot ID mapper"
   ]
  },
  {
   "cell_type": "code",
   "execution_count": 10,
   "metadata": {
    "collapsed": true
   },
   "outputs": [],
   "source": [
    "!cut -d \" \" -f 7 20200108_anno/Panopea-generosa-v1.0.a4.gene.geneANDSPIDs |\\\n",
    "sort | uniq > 20200108_anno/all_uniq_SPID.txt"
   ]
  },
  {
   "cell_type": "code",
   "execution_count": null,
   "metadata": {
    "collapsed": true
   },
   "outputs": [],
   "source": [
    "#upload list of unique SP IDs (all_uniq_SPID.txt) to Uniprot ID mapper\n",
    "#download output\n",
    "#I saved the tab delimited output as uniprot-all_uniq_SPID.tab in the 20200108_anno directory"
   ]
  },
  {
   "cell_type": "code",
   "execution_count": null,
   "metadata": {
    "collapsed": true
   },
   "outputs": [],
   "source": [
    "#merge uniprot data with Panopea-generosa-v1.0.a4.gene.geneANDSPIDs"
   ]
  },
  {
   "cell_type": "code",
   "execution_count": 11,
   "metadata": {},
   "outputs": [
    {
     "name": "stdout",
     "output_type": "stream",
     "text": [
      "yourlist:M202001086746803381A1F0E0DB47453E0216320D568DFC1\tEntry\tEntry name\tProtein names\tGene ontology IDs\tGene ontology (GO)\tGene names\r\n",
      "A0A044RE18\tA0A044RE18\tBLI_ONCVO\tEndoprotease bli (EC 3.4.21.75) (Blisterase)\tGO:0004252; GO:0005576; GO:0005634; GO:0007635; GO:0031638; GO:0040002; GO:0045887; GO:0046872; GO:0090472; GO:1902075\textracellular region [GO:0005576]; nucleus [GO:0005634]; metal ion binding [GO:0046872]; serine-type endopeptidase activity [GO:0004252]; cellular response to salt [GO:1902075]; chemosensory behavior [GO:0007635]; collagen and cuticulin-based cuticle development [GO:0040002]; dibasic protein processing [GO:0090472]; positive regulation of synaptic growth at neuromuscular junction [GO:0045887]; zymogen activation [GO:0031638]\tBli\r\n",
      "A0A060WQA3\tA0A060WQA3\tOTOL1_ONCMY\tOtolin-1\tGO:0005509; GO:0005576; GO:0005581; GO:0005623; GO:0045299\tcell [GO:0005623]; collagen trimer [GO:0005581]; extracellular region [GO:0005576]; calcium ion binding [GO:0005509]; otolith mineralization [GO:0045299]\tOtol1 GSONMT00063289001\r\n",
      "A0A0A7DNP6\tA0A0A7DNP6\tGRHLP_RUDPH\tPrepro-gonadotropin-releasing hormone-like protein (rp-GnRH) [Cleaved into: GnRH dodecapeptide; GnRH-associated peptide (GAP)]\tGO:0005576; GO:0007218\textracellular region [GO:0005576]; neuropeptide signaling pathway [GO:0007218]\t\r\n",
      "A0A0B5A7M7\tA0A0B5A7M7\tINS1_CONIM\tCon-Ins Im1 (Insulin 1) [Cleaved into: Con-Ins I1 B chain; Con-Ins I1 A chain]\tGO:0005179; GO:0005576; GO:0006006; GO:0009405; GO:0090729\textracellular region [GO:0005576]; hormone activity [GO:0005179]; toxin activity [GO:0090729]; glucose metabolic process [GO:0006006]; pathogenesis [GO:0009405]\t\r\n",
      "A0A0B5A8P8\tA0A0B5A8P8\tINS2_CONIM\tCon-Ins Im2 (Insulin 2) [Cleaved into: Con-Ins I2 B chain; Con-Ins I2 A chain]\tGO:0005179; GO:0005576; GO:0006006; GO:0009405; GO:0090729\textracellular region [GO:0005576]; hormone activity [GO:0005179]; toxin activity [GO:0090729]; glucose metabolic process [GO:0006006]; pathogenesis [GO:0009405]\t\r\n",
      "A0A0E0RTV6\tA0A0E0RTV6\tZEB1_GIBZE\tFAD-linked oxidoreductase ZEB1 (EC 1.-.-.-) (Zearalenone biosynthesis protein 1)\tGO:0016491; GO:0071949\tFAD binding [GO:0071949]; oxidoreductase activity [GO:0016491]\tZEB1 FGRAMPH1_01T05753 FGSG_02397\r\n",
      "A0A0F7YYX3\tA0A0F7YYX3\tCPROH_CONVC\tNeuropeptide prohormone-4\tGO:0005576\textracellular region [GO:0005576]\t\r\n",
      "A0A0F7YZI5\tA0A0F7YZI5\tCTHB5_CONVC\tThyrostimulin beta-5 subunit\tGO:0005179; GO:0005576; GO:0009405; GO:0090729\textracellular region [GO:0005576]; hormone activity [GO:0005179]; toxin activity [GO:0090729]; pathogenesis [GO:0009405]\t\r\n",
      "A0A0F7Z3J2\tA0A0F7Z3J2\tCTHA2_CONVC\tThyrostimulin alpha-2 subunit\tGO:0005179; GO:0005576; GO:0009405; GO:0090729\textracellular region [GO:0005576]; hormone activity [GO:0005179]; toxin activity [GO:0090729]; pathogenesis [GO:0009405]\t\r\n"
     ]
    }
   ],
   "source": [
    "!head 20200108_anno/uniprot-all_uniq_SPID.tab"
   ]
  },
  {
   "cell_type": "code",
   "execution_count": 12,
   "metadata": {},
   "outputs": [
    {
     "name": "stdout",
     "output_type": "stream",
     "text": [
      "Scaffold_01 GenSAS_5d9637f372b5d-publish gene 2 4719 PGEN_.00g000010 Q86IC9\r\n",
      "Scaffold_01 GenSAS_5d9637f372b5d-publish gene 19808 36739 PGEN_.00g000020 P04177\r\n",
      "Scaffold_01 GenSAS_5d9637f372b5d-publish gene 67586 69113 PGEN_.00g000050 Q8L840\r\n",
      "Scaffold_01 GenSAS_5d9637f372b5d-publish gene 70713 81099 PGEN_.00g000060 Q61043\r\n",
      "Scaffold_01 GenSAS_5d9637f372b5d-publish gene 187328 188353 PGEN_.00g000080 A1E2V0\r\n",
      "Scaffold_01 GenSAS_5d9637f372b5d-publish gene 189849 190460 PGEN_.00g000090 P34456\r\n",
      "Scaffold_01 GenSAS_5d9637f372b5d-publish gene 192526 193324 PGEN_.00g000120 P34457\r\n",
      "Scaffold_01 GenSAS_5d9637f372b5d-publish gene 225369 238796 PGEN_.00g000210 O00463\r\n",
      "Scaffold_01 GenSAS_5d9637f372b5d-publish gene 311069 315793 PGEN_.00g000230 Q00945\r\n",
      "Scaffold_01 GenSAS_5d9637f372b5d-publish gene 326245 329049 PGEN_.00g000240 Q5SWK7\r\n"
     ]
    }
   ],
   "source": [
    "!head 20200108_anno/Panopea-generosa-v1.0.a4.gene.geneANDSPIDs"
   ]
  },
  {
   "cell_type": "code",
   "execution_count": 39,
   "metadata": {
    "collapsed": true
   },
   "outputs": [],
   "source": [
    "!tr ' ' '\\t' < 20200108_anno/Panopea-generosa-v1.0.a4.gene.geneANDSPIDs \\\n",
    "> 20200108_anno/Panopea-generosa-v1.0.a4.gene.geneANDSPIDs.tab"
   ]
  },
  {
   "cell_type": "code",
   "execution_count": 40,
   "metadata": {},
   "outputs": [
    {
     "name": "stdout",
     "output_type": "stream",
     "text": [
      "   34950 20200108_anno/Panopea-generosa-v1.0.a4.gene.geneANDSPIDs.tab\r\n"
     ]
    }
   ],
   "source": [
    "!wc -l 20200108_anno/Panopea-generosa-v1.0.a4.gene.geneANDSPIDs.tab"
   ]
  },
  {
   "cell_type": "code",
   "execution_count": 41,
   "metadata": {},
   "outputs": [
    {
     "name": "stdout",
     "output_type": "stream",
     "text": [
      "##gff-version\t3\t\t\t\t\t\tNA\tNA\tNA\tNA\tNA\r\n",
      "##Generated\tusing\tGenSAS,\tTuesday\t26th\tof\tNovember\t2019\t07:12:25\tPM\t\t\t\t\t\tNA\tNA\tNA\tNA\tNA\r\n",
      "##Project\tName\t:\tPgenerosa_v074\t\t\t\t\t\tNA\tNA\tNA\tNA\tNA\r\n",
      "Scaffold_01\tGenSAS_5d9637f372b5d-publish\tgene\t2\t4719\tPGEN_.00g000010\tQ86IC9\tCAMT1_DICDI\tProbable caffeoyl-CoA O-methyltransferase 1 (EC 2.1.1.104) (O-methyltransferase 5)\tGO:0032259; GO:0042409; GO:0046872\tcaffeoyl-CoA O-methyltransferase activity [GO:0042409]; metal ion binding [GO:0046872]; methylation [GO:0032259]\r\n",
      "Scaffold_01\tGenSAS_5d9637f372b5d-publish\tgene\t19808\t36739\tPGEN_.00g000020\tP04177\tTY3H_RAT\tTyrosine 3-monooxygenase (EC 1.14.16.2) (Tyrosine 3-hydroxylase) (TH)\tGO:0001666; GO:0001963; GO:0001975; GO:0004497; GO:0004511; GO:0005634; GO:0005737; GO:0005739; GO:0005790; GO:0005829; GO:0006585; GO:0006631; GO:0006665; GO:0007507; GO:0007601; GO:0007605; GO:0007612; GO:0007613; GO:0007617; GO:0007626; GO:0008016; GO:0008021; GO:0008198; GO:0008199; GO:0009414; GO:0009416; GO:0009635; GO:0009651; GO:0009887; GO:0009898; GO:0010038; GO:0010043; GO:0010259; GO:0014070; GO:0014823; GO:0015842; GO:0016137; GO:0016597; GO:0017085; GO:0018963; GO:0019825; GO:0019899; GO:0019904; GO:0021987; GO:0030424; GO:0030425; GO:0030659; GO:0031410; GO:0031667; GO:0032355; GO:0032496; GO:0033076; GO:0033162; GO:0034617; GO:0035094; GO:0035176; GO:0035240; GO:0035690; GO:0035900; GO:0035902; GO:0042136; GO:0042214; GO:0042416; GO:0042418; GO:0042421; GO:0042423; GO:0042462; GO:0042493; GO:0042745; GO:0042755; GO:0042802; GO:0043005; GO:0043025; GO:0043195; GO:0043204; GO:0043434; GO:0045471; GO:0045472; GO:0046684; GO:0048545; GO:0048596; GO:0050890; GO:0051412; GO:0051602; GO:0052314; GO:0070848; GO:0071287; GO:0071312; GO:0071316; GO:0071333; GO:0071363\taxon [GO:0030424]; cytoplasm [GO:0005737]; cytoplasmic side of plasma membrane [GO:0009898]; cytoplasmic vesicle [GO:0031410]; cytoplasmic vesicle membrane [GO:0030659]; cytosol [GO:0005829]; dendrite [GO:0030425]; melanosome membrane [GO:0033162]; mitochondrion [GO:0005739]; neuron projection [GO:0043005]; neuronal cell body [GO:0043025]; nucleus [GO:0005634]; perikaryon [GO:0043204]; smooth endoplasmic reticulum [GO:0005790]; synaptic vesicle [GO:0008021]; terminal bouton [GO:0043195]; amino acid binding [GO:0016597]; dopamine binding [GO:0035240]; enzyme binding [GO:0019899]; ferric iron binding [GO:0008199]; ferrous iron binding [GO:0008198]; identical protein binding [GO:0042802]; monooxygenase activity [GO:0004497]; oxygen binding [GO:0019825]; protein domain specific binding [GO:0019904]; tetrahydrobiopterin binding [GO:0034617]; tyrosine 3-monooxygenase activity [GO:0004511]; aminergic neurotransmitter loading into synaptic vesicle [GO:0015842]; animal organ morphogenesis [GO:0009887]; catecholamine biosynthetic process [GO:0042423]; cellular response to alkaloid [GO:0071312]; cellular response to drug [GO:0035690]; cellular response to glucose stimulus [GO:0071333]; cellular response to growth factor stimulus [GO:0071363]; cellular response to manganese ion [GO:0071287]; cellular response to nicotine [GO:0071316]; cerebral cortex development [GO:0021987]; circadian sleep/wake cycle [GO:0042745]; cognition [GO:0050890]; dopamine biosynthetic process [GO:0042416]; dopamine biosynthetic process from tyrosine [GO:0006585]; eating behavior [GO:0042755]; embryonic camera-type eye morphogenesis [GO:0048596]; epinephrine biosynthetic process [GO:0042418]; eye photoreceptor cell development [GO:0042462]; fatty acid metabolic process [GO:0006631]; glycoside metabolic process [GO:0016137]; heart development [GO:0007507]; isoquinoline alkaloid metabolic process [GO:0033076]; learning [GO:0007612]; locomotory behavior [GO:0007626]; mating behavior [GO:0007617]; memory [GO:0007613]; multicellular organism aging [GO:0010259]; neurotransmitter biosynthetic process [GO:0042136]; norepinephrine biosynthetic process [GO:0042421]; phthalate metabolic process [GO:0018963]; phytoalexin metabolic process [GO:0052314]; regulation of heart contraction [GO:0008016]; response to activity [GO:0014823]; response to amphetamine [GO:0001975]; response to corticosterone [GO:0051412]; response to drug [GO:0042493]; response to electrical stimulus [GO:0051602]; response to estradiol [GO:0032355]; response to ethanol [GO:0045471]; response to ether [GO:0045472]; response to growth factor [GO:0070848]; response to herbicide [GO:0009635]; response to hypoxia [GO:0001666]; response to immobilization stress [GO:0035902]; response to insecticide [GO:0017085]; response to isolation stress [GO:0035900]; response to light stimulus [GO:0009416]; response to lipopolysaccharide [GO:0032496]; response to metal ion [GO:0010038]; response to nicotine [GO:0035094]; response to nutrient levels [GO:0031667]; response to organic cyclic compound [GO:0014070]; response to peptide hormone [GO:0043434]; response to pyrethroid [GO:0046684]; response to salt stress [GO:0009651]; response to steroid hormone [GO:0048545]; response to water deprivation [GO:0009414]; response to zinc ion [GO:0010043]; sensory perception of sound [GO:0007605]; social behavior [GO:0035176]; sphingolipid metabolic process [GO:0006665]; synaptic transmission, dopaminergic [GO:0001963]; terpene metabolic process [GO:0042214]; visual perception [GO:0007601]\r\n",
      "Scaffold_01\tGenSAS_5d9637f372b5d-publish\tgene\t49248\t52578\tPGEN_.00g000030\tNA\tNA\tNA\tNA\tNA\r\n",
      "Scaffold_01\tGenSAS_5d9637f372b5d-publish\tgene\t55792\t67546\tPGEN_.00g000040\tNA\tNA\tNA\tNA\tNA\r\n",
      "Scaffold_01\tGenSAS_5d9637f372b5d-publish\tgene\t67586\t69113\tPGEN_.00g000050\tQ8L840\tRQL4A_ARATH\tATP-dependent DNA helicase Q-like 4A (EC 3.6.4.12) (RecQ-like protein 4A) (AtRecQ4A) (AtRecQl4A) (SGS1-like protein) (AtSGS1)\tGO:0000724; GO:0003676; GO:0005524; GO:0005634; GO:0005694; GO:0005737; GO:0006268; GO:0006281; GO:0006310; GO:0006974; GO:0009378; GO:0009506; GO:0032508; GO:0043138; GO:0046872; GO:0051276; GO:0070417; GO:0071215\tchromosome [GO:0005694]; cytoplasm [GO:0005737]; nucleus [GO:0005634]; plasmodesma [GO:0009506]; 3'-5' DNA helicase activity [GO:0043138]; ATP binding [GO:0005524]; four-way junction helicase activity [GO:0009378]; metal ion binding [GO:0046872]; nucleic acid binding [GO:0003676]; cellular response to abscisic acid stimulus [GO:0071215]; cellular response to cold [GO:0070417]; cellular response to DNA damage stimulus [GO:0006974]; chromosome organization [GO:0051276]; DNA duplex unwinding [GO:0032508]; DNA recombination [GO:0006310]; DNA repair [GO:0006281]; DNA unwinding involved in DNA replication [GO:0006268]; double-strand break repair via homologous recombination [GO:0000724]\r\n",
      "Scaffold_01\tGenSAS_5d9637f372b5d-publish\tgene\t70713\t81099\tPGEN_.00g000060\tQ61043\tNIN_MOUSE\tNinein\tGO:0000242; GO:0000922; GO:0005509; GO:0005525; GO:0005654; GO:0005730; GO:0005737; GO:0005813; GO:0005814; GO:0005886; GO:0008104; GO:0010457; GO:0019900; GO:0021540; GO:0021957; GO:0030424; GO:0030425; GO:0031116; GO:0034454; GO:0036449; GO:0044295; GO:0045177; GO:0048668; GO:0050772; GO:0051642; GO:0072686; GO:0090222; GO:0097431; GO:0097539; GO:0120103\tapical part of cell [GO:0045177]; axon [GO:0030424]; axonal growth cone [GO:0044295]; centriolar subdistal appendage [GO:0120103]; centriole [GO:0005814]; centrosome [GO:0005813]; ciliary transition fiber [GO:0097539]; cytoplasm [GO:0005737]; dendrite [GO:0030425]; microtubule minus-end [GO:0036449]; mitotic spindle [GO:0072686]; mitotic spindle pole [GO:0097431]; nucleolus [GO:0005730]; nucleoplasm [GO:0005654]; pericentriolar material [GO:0000242]; plasma membrane [GO:0005886]; spindle pole [GO:0000922]; calcium ion binding [GO:0005509]; GTP binding [GO:0005525]; kinase binding [GO:0019900]; centriole-centriole cohesion [GO:0010457]; centrosome localization [GO:0051642]; centrosome-templated microtubule nucleation [GO:0090222]; collateral sprouting [GO:0048668]; corpus callosum morphogenesis [GO:0021540]; corticospinal tract morphogenesis [GO:0021957]; microtubule anchoring at centrosome [GO:0034454]; positive regulation of axonogenesis [GO:0050772]; positive regulation of microtubule polymerization [GO:0031116]; protein localization [GO:0008104]\r\n",
      "Scaffold_01\tGenSAS_5d9637f372b5d-publish\tgene\t183686\t186073\tPGEN_.00g000070\tNA\tNA\tNA\tNA\tNA\r\n",
      "awk: write error on /dev/stdout\r\n",
      " input record number 194, file 20200108_anno/Panopea-generosa-v1.0.a4.gene.geneANDSPIDs.tab\r\n",
      " source line number 1\r\n"
     ]
    }
   ],
   "source": [
    "!awk -F\"\\t\" 'NR==FNR{a[$2]=$3\"\\t\"$4\"\\t\"$5\"\\t\"$6;next}{if($7 in a)print $0\"\\t\"a[$7];else print $0\"\\t\"\"NA\"\"\\t\"\"NA\"\"\\t\"\"NA\"\"\\t\"\"NA\"}' \\\n",
    "20200108_anno/uniprot-all_uniq_SPID.tab \\\n",
    "20200108_anno/Panopea-generosa-v1.0.a4.gene.geneANDSPIDs.tab | head"
   ]
  },
  {
   "cell_type": "code",
   "execution_count": 42,
   "metadata": {
    "collapsed": true
   },
   "outputs": [],
   "source": [
    "!awk -F\"\\t\" 'NR==FNR{a[$2]=$3\"\\t\"$4\"\\t\"$5\"\\t\"$6;next}{if($7 in a)print $0\"\\t\"a[$7];else print $0\"\\t\"\"NA\"\"\\t\"\"NA\"\"\\t\"\"NA\"\"\\t\"\"NA\"}' \\\n",
    "20200108_anno/uniprot-all_uniq_SPID.tab \\\n",
    "20200108_anno/Panopea-generosa-v1.0.a4.gene.geneANDSPIDs.tab > 20200108_anno/Panopea-generosa-v1.0.a4.gene.GOids.tab"
   ]
  },
  {
   "cell_type": "code",
   "execution_count": 43,
   "metadata": {},
   "outputs": [
    {
     "name": "stdout",
     "output_type": "stream",
     "text": [
      "   34950 20200108_anno/Panopea-generosa-v1.0.a4.gene.GOids.tab\r\n"
     ]
    }
   ],
   "source": [
    "!wc -l 20200108_anno/Panopea-generosa-v1.0.a4.gene.GOids.tab"
   ]
  },
  {
   "cell_type": "code",
   "execution_count": 44,
   "metadata": {},
   "outputs": [
    {
     "name": "stdout",
     "output_type": "stream",
     "text": [
      "/Users/Shelly/Documents/GitHub/Shelly_Pgenerosa/analyses/20200108_anno\n"
     ]
    }
   ],
   "source": [
    "cd 20200108_anno/"
   ]
  },
  {
   "cell_type": "code",
   "execution_count": 45,
   "metadata": {},
   "outputs": [
    {
     "name": "stdout",
     "output_type": "stream",
     "text": [
      "20200108_anno.Rproj\r\n",
      "Panopea-generosa-v1.0.CpG.gff\r\n",
      "Panopea-generosa-v1.0.a4.CDS.gff3\r\n",
      "Panopea-generosa-v1.0.a4.all.features.gff3\r\n",
      "Panopea-generosa-v1.0.a4.exon.gff3\r\n",
      "Panopea-generosa-v1.0.a4.gene.GOids.tab\r\n",
      "Panopea-generosa-v1.0.a4.gene.SPIDs\r\n",
      "Panopea-generosa-v1.0.a4.gene.geneANDSPIDs\r\n",
      "Panopea-generosa-v1.0.a4.gene.geneANDSPIDs.tab\r\n",
      "Panopea-generosa-v1.0.a4.gene.geneIDs\r\n",
      "Panopea-generosa-v1.0.a4.gene.gff3\r\n",
      "Panopea-generosa-v1.0.a4.mRNA.gff3\r\n",
      "Panopea-generosa-v1.0.a4.rRNA.gff3\r\n",
      "Panopea-generosa-v1.0.a4.repeat_region.gff3\r\n",
      "Panopea-generosa-v1.0.a4.repeats.DNA.gff3\r\n",
      "Panopea-generosa-v1.0.a4.repeats.LINE.gff3\r\n",
      "Panopea-generosa-v1.0.a4.repeats.LTR.gff3\r\n",
      "Panopea-generosa-v1.0.a4.repeats.RC.gff3\r\n",
      "Panopea-generosa-v1.0.a4.repeats.SINE.gff3\r\n",
      "Panopea-generosa-v1.0.a4.repeats.Simple_repeat.gff3\r\n",
      "Panopea-generosa-v1.0.a4.repeats.Unknown.gff3\r\n",
      "Panopea-generosa-v1.0.a4.tRNA.gff3\r\n",
      "all_uniq_SPID.txt\r\n",
      "uniprot-all_uniq_SPID.tab\r\n"
     ]
    }
   ],
   "source": [
    "!ls"
   ]
  },
  {
   "cell_type": "code",
   "execution_count": 46,
   "metadata": {},
   "outputs": [
    {
     "name": "stdout",
     "output_type": "stream",
     "text": [
      "building file list ... \n",
      "33 files to consider\n",
      "20200108_anno/Panopea-generosa-v1.0.a4.gene.GOids.tab\n",
      "    14133651 100%   13.20MB/s    0:00:01 (xfer#1, to-check=26/33)\n",
      "20200108_anno/Panopea-generosa-v1.0.a4.gene.geneANDSPIDs\n",
      "     2944753 100%    7.80MB/s    0:00:00 (xfer#2, to-check=24/33)\n",
      "20200108_anno/Panopea-generosa-v1.0.a4.gene.geneANDSPIDs.tab\n",
      "     2944753 100%    3.96MB/s    0:00:00 (xfer#3, to-check=23/33)\n",
      "\n",
      "sent 20026693 bytes  received 224 bytes  8010766.80 bytes/sec\n",
      "total size is 3925451061  speedup is 196.01\n"
     ]
    }
   ],
   "source": [
    "!rsync --archive --progress --verbose ../20200108_anno /Volumes/web/metacarcinus/Pgenerosa/analyses/"
   ]
  },
  {
   "cell_type": "code",
   "execution_count": null,
   "metadata": {
    "collapsed": true
   },
   "outputs": [],
   "source": [
    "#Check IDs match with gene FASTA\n",
    "#downloaded Panopea-generosa-vv0.74.a4.5d9637f372b5d-publish.genes.fna from https://osf.io/ct623/?show=revision\n",
    "#copy to Gannet"
   ]
  },
  {
   "cell_type": "code",
   "execution_count": 49,
   "metadata": {},
   "outputs": [
    {
     "name": "stdout",
     "output_type": "stream",
     "text": [
      "building file list ... \n",
      "1 file to consider\n",
      "Panopea-generosa-vv0.74.a4.5d9637f372b5d-publish.genes.fna\n",
      "   392214489 100%   13.66MB/s    0:00:27 (xfer#1, to-check=0/1)\n",
      "\n",
      "sent 392262541 bytes  received 42 bytes  14264093.93 bytes/sec\n",
      "total size is 392214489  speedup is 1.00\n"
     ]
    }
   ],
   "source": [
    "!rsync --archive --progress --verbose /Users/Shelly/Downloads/Panopea-generosa-vv0.74.a4.5d9637f372b5d-publish.genes.fna /Volumes/web/metacarcinus/Pgenerosa/analyses/20200108_anno/"
   ]
  },
  {
   "cell_type": "code",
   "execution_count": null,
   "metadata": {
    "collapsed": true
   },
   "outputs": [],
   "source": [
    "#preview FASTA names"
   ]
  },
  {
   "cell_type": "code",
   "execution_count": 50,
   "metadata": {},
   "outputs": [
    {
     "name": "stdout",
     "output_type": "stream",
     "text": [
      ">PGEN_.00g000010-vv0.74.a ID=PGEN_.00g000010-vv0.74.a|Name=PGEN_.00g000010|organism=Panopea generosa|type=gene|length=4718|location=PGA_scaffold1__77_contigs__length_89643857:2..4719+\n",
      ">PGEN_.00g000020-vv0.74.a ID=PGEN_.00g000020-vv0.74.a|Name=PGEN_.00g000020|organism=Panopea generosa|type=gene|length=16932|location=PGA_scaffold1__77_contigs__length_89643857:19808..36739-\n",
      ">PGEN_.00g000030-vv0.74.a ID=PGEN_.00g000030-vv0.74.a|Name=PGEN_.00g000030|organism=Panopea generosa|type=gene|length=3331|location=PGA_scaffold1__77_contigs__length_89643857:49248..52578-\n",
      ">PGEN_.00g000040-vv0.74.a ID=PGEN_.00g000040-vv0.74.a|Name=PGEN_.00g000040|organism=Panopea generosa|type=gene|length=11755|location=PGA_scaffold1__77_contigs__length_89643857:55792..67546+\n",
      ">PGEN_.00g000050-vv0.74.a ID=PGEN_.00g000050-vv0.74.a|Name=PGEN_.00g000050|organism=Panopea generosa|type=gene|length=1528|location=PGA_scaffold1__77_contigs__length_89643857:67586..69113-\n",
      ">PGEN_.00g000060-vv0.74.a ID=PGEN_.00g000060-vv0.74.a|Name=PGEN_.00g000060|organism=Panopea generosa|type=gene|length=10387|location=PGA_scaffold1__77_contigs__length_89643857:70713..81099+\n",
      ">PGEN_.00g000070-vv0.74.a ID=PGEN_.00g000070-vv0.74.a|Name=PGEN_.00g000070|organism=Panopea generosa|type=gene|length=2388|location=PGA_scaffold1__77_contigs__length_89643857:183686..186073+\n",
      ">PGEN_.00g000080-vv0.74.a ID=PGEN_.00g000080-vv0.74.a|Name=PGEN_.00g000080|organism=Panopea generosa|type=gene|length=1026|location=PGA_scaffold1__77_contigs__length_89643857:187328..188353+\n",
      ">PGEN_.00g000090-vv0.74.a ID=PGEN_.00g000090-vv0.74.a|Name=PGEN_.00g000090|organism=Panopea generosa|type=gene|length=612|location=PGA_scaffold1__77_contigs__length_89643857:189849..190460-\n",
      ">PGEN_.00g000100-vv0.74.a ID=PGEN_.00g000100-vv0.74.a|Name=PGEN_.00g000100|organism=Panopea generosa|type=gene|length=342|location=PGA_scaffold1__77_contigs__length_89643857:191069..191410-\n",
      "awk: write error on /dev/stdout\n",
      " input record number 34125, file /Volumes/web/metacarcinus/Pgenerosa/analyses/20200108_anno/Panopea-generosa-vv0.74.a4.5d9637f372b5d-publish.genes.fna\n",
      " source line number 1\n"
     ]
    }
   ],
   "source": [
    "!awk '{if ($1~/>/)print $0}' /Volumes/web/metacarcinus/Pgenerosa/analyses/20200108_anno/Panopea-generosa-vv0.74.a4.5d9637f372b5d-publish.genes.fna |\\\n",
    "head"
   ]
  },
  {
   "cell_type": "code",
   "execution_count": null,
   "metadata": {
    "collapsed": true
   },
   "outputs": [],
   "source": [
    "#preview gff"
   ]
  },
  {
   "cell_type": "code",
   "execution_count": 51,
   "metadata": {},
   "outputs": [
    {
     "name": "stdout",
     "output_type": "stream",
     "text": [
      "##gff-version 3\r\n",
      "##Generated using GenSAS, Tuesday 26th of November 2019 07:12:25 PM\r\n",
      "##Project Name : Pgenerosa_v074\r\n",
      "Scaffold_01\tGenSAS_5d9637f372b5d-publish\tgene\t2\t4719\t.\t+\t.\tID=PGEN_.00g000010;Name=PGEN_.00g000010;original_ID=21510-PGEN_.00g234140;Alias=21510-PGEN_.00g234140;original_name=21510-PGEN_.00g234140;Notes=sp|Q86IC9|CAMT1_DICDI [BLAST protein vs protein (blastp) 2.7.1],PF01596.12 [Pfam 1.6]\r\n",
      "Scaffold_01\tGenSAS_5d9637f372b5d-publish\tgene\t19808\t36739\t.\t-\t.\tID=PGEN_.00g000020;Name=PGEN_.00g000020;original_ID=21510-PGEN_.00g234150;Alias=21510-PGEN_.00g234150;original_name=21510-PGEN_.00g234150;Notes=sp|P04177|TY3H_RAT [BLAST protein vs protein (blastp) 2.7.1],sp|P04177|TY3H_RAT [DIAMOND Functional 0.9.22],IPR036951 [InterProScan 5.29-68.0],PF00351.16 [Pfam 1.6]\r\n",
      "Scaffold_01\tGenSAS_5d9637f372b5d-publish\tgene\t49248\t52578\t.\t-\t.\tID=PGEN_.00g000030;Name=PGEN_.00g000030;original_ID=21510-PGEN_.00g234160;Alias=21510-PGEN_.00g234160;original_name=21510-PGEN_.00g234160;Notes=PF08054.6 [Pfam 1.6]\r\n",
      "Scaffold_01\tGenSAS_5d9637f372b5d-publish\tgene\t55792\t67546\t.\t+\t.\tID=PGEN_.00g000040;Name=PGEN_.00g000040;original_ID=21510-PGEN_.00g234170;Alias=21510-PGEN_.00g234170;original_name=21510-PGEN_.00g234170\r\n",
      "Scaffold_01\tGenSAS_5d9637f372b5d-publish\tgene\t67586\t69113\t.\t-\t.\tID=PGEN_.00g000050;Name=PGEN_.00g000050;original_ID=21510-PGEN_.00g234180;Alias=21510-PGEN_.00g234180;original_name=21510-PGEN_.00g234180;Notes=sp|Q8L840|RQL4A_ARATH [BLAST protein vs protein (blastp) 2.7.1],sp|Q8L840|RQL4A_ARATH [DIAMOND Functional 0.9.22],PF00270.24 [Pfam 1.6]\r\n",
      "Scaffold_01\tGenSAS_5d9637f372b5d-publish\tgene\t70713\t81099\t.\t+\t.\tID=PGEN_.00g000060;Name=PGEN_.00g000060;original_ID=21510-PGEN_.00g234190;Alias=21510-PGEN_.00g234190;original_name=21510-PGEN_.00g234190;Notes=sp|Q61043|NIN_MOUSE [DIAMOND Functional 0.9.22],PF04443.7 [Pfam 1.6]\r\n",
      "Scaffold_01\tGenSAS_5d9637f372b5d-publish\tgene\t183686\t186073\t.\t+\t.\tID=PGEN_.00g000070;Name=PGEN_.00g000070;original_ID=21510-PGEN_.00g234200;Alias=21510-PGEN_.00g234200;original_name=21510-PGEN_.00g234200;Notes=PF15364.1 [Pfam 1.6]\r\n"
     ]
    }
   ],
   "source": [
    "!head /Volumes/web/metacarcinus/Pgenerosa/analyses/20200108_anno/Panopea-generosa-v1.0.a4.gene.gff3"
   ]
  },
  {
   "cell_type": "code",
   "execution_count": null,
   "metadata": {
    "collapsed": true
   },
   "outputs": [],
   "source": [
    "#compare location of genes in fasta and genes in gff"
   ]
  },
  {
   "cell_type": "code",
   "execution_count": null,
   "metadata": {
    "collapsed": true
   },
   "outputs": [],
   "source": [
    "#first preview fasta gene coordinates"
   ]
  },
  {
   "cell_type": "code",
   "execution_count": 53,
   "metadata": {
    "scrolled": true
   },
   "outputs": [
    {
     "name": "stdout",
     "output_type": "stream",
     "text": [
      "PGA_scaffold1__77_contigs__length_89643857:2..4719+\n",
      "PGA_scaffold1__77_contigs__length_89643857:19808..36739-\n",
      "PGA_scaffold1__77_contigs__length_89643857:49248..52578-\n",
      "PGA_scaffold1__77_contigs__length_89643857:55792..67546+\n",
      "PGA_scaffold1__77_contigs__length_89643857:67586..69113-\n",
      "PGA_scaffold1__77_contigs__length_89643857:70713..81099+\n",
      "PGA_scaffold1__77_contigs__length_89643857:183686..186073+\n",
      "PGA_scaffold1__77_contigs__length_89643857:187328..188353+\n",
      "PGA_scaffold1__77_contigs__length_89643857:189849..190460-\n",
      "PGA_scaffold1__77_contigs__length_89643857:191069..191410-\n",
      "awk: write error on /dev/stdout\n",
      " input record number 535, file \n",
      " source line number 1\n",
      "awk: write error on /dev/stdout\n",
      " input record number 141785, file /Volumes/web/metacarcinus/Pgenerosa/analyses/20200108_anno/Panopea-generosa-vv0.74.a4.5d9637f372b5d-publish.genes.fna\n",
      " source line number 1\n"
     ]
    }
   ],
   "source": [
    "!awk '{if ($1~/>/)print $0}' /Volumes/web/metacarcinus/Pgenerosa/analyses/20200108_anno/Panopea-generosa-vv0.74.a4.5d9637f372b5d-publish.genes.fna |\\\n",
    "awk -F\"\\t\" '{sub(/.*location=/,\"\",$1);print $1}'| head"
   ]
  },
  {
   "cell_type": "code",
   "execution_count": null,
   "metadata": {
    "collapsed": true
   },
   "outputs": [],
   "source": [
    "#preview gff coordinates"
   ]
  },
  {
   "cell_type": "code",
   "execution_count": 54,
   "metadata": {},
   "outputs": [
    {
     "name": "stdout",
     "output_type": "stream",
     "text": [
      "##gff-version  \n",
      "##Generated Tuesday 26th\n",
      "##Project Pgenerosa_v074 \n",
      "Scaffold_01 2 4719\n",
      "Scaffold_01 19808 36739\n",
      "Scaffold_01 49248 52578\n",
      "Scaffold_01 55792 67546\n",
      "Scaffold_01 67586 69113\n",
      "Scaffold_01 70713 81099\n",
      "Scaffold_01 183686 186073\n",
      "awk: write error on /dev/stdout\n",
      " input record number 1123, file /Volumes/web/metacarcinus/Pgenerosa/analyses/20200108_anno/Panopea-generosa-v1.0.a4.gene.gff3\n",
      " source line number 1\n"
     ]
    }
   ],
   "source": [
    "!awk '{print $1,$4,$5}' /Volumes/web/metacarcinus/Pgenerosa/analyses/20200108_anno/Panopea-generosa-v1.0.a4.gene.gff3|\\\n",
    "head "
   ]
  },
  {
   "cell_type": "code",
   "execution_count": 56,
   "metadata": {},
   "outputs": [
    {
     "name": "stdout",
     "output_type": "stream",
     "text": [
      "   34947\r\n"
     ]
    }
   ],
   "source": [
    "#count the number of gene sequences in fasta\n",
    "!awk '{if ($1~/>/)print $0}' /Volumes/web/metacarcinus/Pgenerosa/analyses/20200108_anno/Panopea-generosa-vv0.74.a4.5d9637f372b5d-publish.genes.fna |\\\n",
    "wc -l "
   ]
  },
  {
   "cell_type": "code",
   "execution_count": null,
   "metadata": {
    "collapsed": true
   },
   "outputs": [],
   "source": [
    "#see if FASTA \"Names\" are the same as the \"IDs\" in my GO file"
   ]
  },
  {
   "cell_type": "code",
   "execution_count": 57,
   "metadata": {},
   "outputs": [
    {
     "name": "stdout",
     "output_type": "stream",
     "text": [
      "PGEN_.00g000010\n",
      "PGEN_.00g000020\n",
      "PGEN_.00g000030\n",
      "PGEN_.00g000040\n",
      "PGEN_.00g000050\n",
      "PGEN_.00g000060\n",
      "PGEN_.00g000070\n",
      "PGEN_.00g000080\n",
      "PGEN_.00g000090\n",
      "PGEN_.00g000100\n",
      "awk: write error on /dev/stdout\n",
      " input record number 2049, file \n",
      " source line number 1\n",
      "awk: write error on /dev/stdout\n",
      " input record number 498471, file /Volumes/web/metacarcinus/Pgenerosa/analyses/20200108_anno/Panopea-generosa-vv0.74.a4.5d9637f372b5d-publish.genes.fna\n",
      " source line number 1\n"
     ]
    }
   ],
   "source": [
    "#first preview the code to extract the Name field\n",
    "!awk '{if ($1~/>/)print $0}' /Volumes/web/metacarcinus/Pgenerosa/analyses/20200108_anno/Panopea-generosa-vv0.74.a4.5d9637f372b5d-publish.genes.fna |\\\n",
    "awk -F\"\\t\" '{sub(/.*Name=/,\"\",$1);sub(/\\|.*/,\"\",$1);print $1}' | head"
   ]
  },
  {
   "cell_type": "code",
   "execution_count": 59,
   "metadata": {
    "collapsed": true
   },
   "outputs": [],
   "source": [
    "#create file with just FASTA names\n",
    "!awk '{if ($1~/>/)print $0}' /Volumes/web/metacarcinus/Pgenerosa/analyses/20200108_anno/Panopea-generosa-vv0.74.a4.5d9637f372b5d-publish.genes.fna |\\\n",
    "awk -F\"\\t\" '{sub(/.*Name=/,\"\",$1);sub(/\\|.*/,\"\",$1);print $1}' > /Volumes/web/metacarcinus/Pgenerosa/analyses/20200108_anno/gene.fna.names.txt"
   ]
  },
  {
   "cell_type": "code",
   "execution_count": 61,
   "metadata": {},
   "outputs": [
    {
     "name": "stdout",
     "output_type": "stream",
     "text": [
      "##gff-version\t3\t\t\t\t\t\tNA\tNA\tNA\tNA\tNA\r\n",
      "##Generated\tusing\tGenSAS,\tTuesday\t26th\tof\tNovember\t2019\t07:12:25\tPM\t\t\t\t\t\tNA\tNA\tNA\tNA\tNA\r\n",
      "##Project\tName\t:\tPgenerosa_v074\t\t\t\t\t\tNA\tNA\tNA\tNA\tNA\r\n",
      "Scaffold_01\tGenSAS_5d9637f372b5d-publish\tgene\t2\t4719\tPGEN_.00g000010\tQ86IC9\tCAMT1_DICDI\tProbable caffeoyl-CoA O-methyltransferase 1 (EC 2.1.1.104) (O-methyltransferase 5)\tGO:0032259; GO:0042409; GO:0046872\tcaffeoyl-CoA O-methyltransferase activity [GO:0042409]; metal ion binding [GO:0046872]; methylation [GO:0032259]\r\n",
      "Scaffold_01\tGenSAS_5d9637f372b5d-publish\tgene\t19808\t36739\tPGEN_.00g000020\tP04177\tTY3H_RAT\tTyrosine 3-monooxygenase (EC 1.14.16.2) (Tyrosine 3-hydroxylase) (TH)\tGO:0001666; GO:0001963; GO:0001975; GO:0004497; GO:0004511; GO:0005634; GO:0005737; GO:0005739; GO:0005790; GO:0005829; GO:0006585; GO:0006631; GO:0006665; GO:0007507; GO:0007601; GO:0007605; GO:0007612; GO:0007613; GO:0007617; GO:0007626; GO:0008016; GO:0008021; GO:0008198; GO:0008199; GO:0009414; GO:0009416; GO:0009635; GO:0009651; GO:0009887; GO:0009898; GO:0010038; GO:0010043; GO:0010259; GO:0014070; GO:0014823; GO:0015842; GO:0016137; GO:0016597; GO:0017085; GO:0018963; GO:0019825; GO:0019899; GO:0019904; GO:0021987; GO:0030424; GO:0030425; GO:0030659; GO:0031410; GO:0031667; GO:0032355; GO:0032496; GO:0033076; GO:0033162; GO:0034617; GO:0035094; GO:0035176; GO:0035240; GO:0035690; GO:0035900; GO:0035902; GO:0042136; GO:0042214; GO:0042416; GO:0042418; GO:0042421; GO:0042423; GO:0042462; GO:0042493; GO:0042745; GO:0042755; GO:0042802; GO:0043005; GO:0043025; GO:0043195; GO:0043204; GO:0043434; GO:0045471; GO:0045472; GO:0046684; GO:0048545; GO:0048596; GO:0050890; GO:0051412; GO:0051602; GO:0052314; GO:0070848; GO:0071287; GO:0071312; GO:0071316; GO:0071333; GO:0071363\taxon [GO:0030424]; cytoplasm [GO:0005737]; cytoplasmic side of plasma membrane [GO:0009898]; cytoplasmic vesicle [GO:0031410]; cytoplasmic vesicle membrane [GO:0030659]; cytosol [GO:0005829]; dendrite [GO:0030425]; melanosome membrane [GO:0033162]; mitochondrion [GO:0005739]; neuron projection [GO:0043005]; neuronal cell body [GO:0043025]; nucleus [GO:0005634]; perikaryon [GO:0043204]; smooth endoplasmic reticulum [GO:0005790]; synaptic vesicle [GO:0008021]; terminal bouton [GO:0043195]; amino acid binding [GO:0016597]; dopamine binding [GO:0035240]; enzyme binding [GO:0019899]; ferric iron binding [GO:0008199]; ferrous iron binding [GO:0008198]; identical protein binding [GO:0042802]; monooxygenase activity [GO:0004497]; oxygen binding [GO:0019825]; protein domain specific binding [GO:0019904]; tetrahydrobiopterin binding [GO:0034617]; tyrosine 3-monooxygenase activity [GO:0004511]; aminergic neurotransmitter loading into synaptic vesicle [GO:0015842]; animal organ morphogenesis [GO:0009887]; catecholamine biosynthetic process [GO:0042423]; cellular response to alkaloid [GO:0071312]; cellular response to drug [GO:0035690]; cellular response to glucose stimulus [GO:0071333]; cellular response to growth factor stimulus [GO:0071363]; cellular response to manganese ion [GO:0071287]; cellular response to nicotine [GO:0071316]; cerebral cortex development [GO:0021987]; circadian sleep/wake cycle [GO:0042745]; cognition [GO:0050890]; dopamine biosynthetic process [GO:0042416]; dopamine biosynthetic process from tyrosine [GO:0006585]; eating behavior [GO:0042755]; embryonic camera-type eye morphogenesis [GO:0048596]; epinephrine biosynthetic process [GO:0042418]; eye photoreceptor cell development [GO:0042462]; fatty acid metabolic process [GO:0006631]; glycoside metabolic process [GO:0016137]; heart development [GO:0007507]; isoquinoline alkaloid metabolic process [GO:0033076]; learning [GO:0007612]; locomotory behavior [GO:0007626]; mating behavior [GO:0007617]; memory [GO:0007613]; multicellular organism aging [GO:0010259]; neurotransmitter biosynthetic process [GO:0042136]; norepinephrine biosynthetic process [GO:0042421]; phthalate metabolic process [GO:0018963]; phytoalexin metabolic process [GO:0052314]; regulation of heart contraction [GO:0008016]; response to activity [GO:0014823]; response to amphetamine [GO:0001975]; response to corticosterone [GO:0051412]; response to drug [GO:0042493]; response to electrical stimulus [GO:0051602]; response to estradiol [GO:0032355]; response to ethanol [GO:0045471]; response to ether [GO:0045472]; response to growth factor [GO:0070848]; response to herbicide [GO:0009635]; response to hypoxia [GO:0001666]; response to immobilization stress [GO:0035902]; response to insecticide [GO:0017085]; response to isolation stress [GO:0035900]; response to light stimulus [GO:0009416]; response to lipopolysaccharide [GO:0032496]; response to metal ion [GO:0010038]; response to nicotine [GO:0035094]; response to nutrient levels [GO:0031667]; response to organic cyclic compound [GO:0014070]; response to peptide hormone [GO:0043434]; response to pyrethroid [GO:0046684]; response to salt stress [GO:0009651]; response to steroid hormone [GO:0048545]; response to water deprivation [GO:0009414]; response to zinc ion [GO:0010043]; sensory perception of sound [GO:0007605]; social behavior [GO:0035176]; sphingolipid metabolic process [GO:0006665]; synaptic transmission, dopaminergic [GO:0001963]; terpene metabolic process [GO:0042214]; visual perception [GO:0007601]\r\n",
      "Scaffold_01\tGenSAS_5d9637f372b5d-publish\tgene\t49248\t52578\tPGEN_.00g000030\tNA\tNA\tNA\tNA\tNA\r\n",
      "Scaffold_01\tGenSAS_5d9637f372b5d-publish\tgene\t55792\t67546\tPGEN_.00g000040\tNA\tNA\tNA\tNA\tNA\r\n",
      "Scaffold_01\tGenSAS_5d9637f372b5d-publish\tgene\t67586\t69113\tPGEN_.00g000050\tQ8L840\tRQL4A_ARATH\tATP-dependent DNA helicase Q-like 4A (EC 3.6.4.12) (RecQ-like protein 4A) (AtRecQ4A) (AtRecQl4A) (SGS1-like protein) (AtSGS1)\tGO:0000724; GO:0003676; GO:0005524; GO:0005634; GO:0005694; GO:0005737; GO:0006268; GO:0006281; GO:0006310; GO:0006974; GO:0009378; GO:0009506; GO:0032508; GO:0043138; GO:0046872; GO:0051276; GO:0070417; GO:0071215\tchromosome [GO:0005694]; cytoplasm [GO:0005737]; nucleus [GO:0005634]; plasmodesma [GO:0009506]; 3'-5' DNA helicase activity [GO:0043138]; ATP binding [GO:0005524]; four-way junction helicase activity [GO:0009378]; metal ion binding [GO:0046872]; nucleic acid binding [GO:0003676]; cellular response to abscisic acid stimulus [GO:0071215]; cellular response to cold [GO:0070417]; cellular response to DNA damage stimulus [GO:0006974]; chromosome organization [GO:0051276]; DNA duplex unwinding [GO:0032508]; DNA recombination [GO:0006310]; DNA repair [GO:0006281]; DNA unwinding involved in DNA replication [GO:0006268]; double-strand break repair via homologous recombination [GO:0000724]\r\n",
      "Scaffold_01\tGenSAS_5d9637f372b5d-publish\tgene\t70713\t81099\tPGEN_.00g000060\tQ61043\tNIN_MOUSE\tNinein\tGO:0000242; GO:0000922; GO:0005509; GO:0005525; GO:0005654; GO:0005730; GO:0005737; GO:0005813; GO:0005814; GO:0005886; GO:0008104; GO:0010457; GO:0019900; GO:0021540; GO:0021957; GO:0030424; GO:0030425; GO:0031116; GO:0034454; GO:0036449; GO:0044295; GO:0045177; GO:0048668; GO:0050772; GO:0051642; GO:0072686; GO:0090222; GO:0097431; GO:0097539; GO:0120103\tapical part of cell [GO:0045177]; axon [GO:0030424]; axonal growth cone [GO:0044295]; centriolar subdistal appendage [GO:0120103]; centriole [GO:0005814]; centrosome [GO:0005813]; ciliary transition fiber [GO:0097539]; cytoplasm [GO:0005737]; dendrite [GO:0030425]; microtubule minus-end [GO:0036449]; mitotic spindle [GO:0072686]; mitotic spindle pole [GO:0097431]; nucleolus [GO:0005730]; nucleoplasm [GO:0005654]; pericentriolar material [GO:0000242]; plasma membrane [GO:0005886]; spindle pole [GO:0000922]; calcium ion binding [GO:0005509]; GTP binding [GO:0005525]; kinase binding [GO:0019900]; centriole-centriole cohesion [GO:0010457]; centrosome localization [GO:0051642]; centrosome-templated microtubule nucleation [GO:0090222]; collateral sprouting [GO:0048668]; corpus callosum morphogenesis [GO:0021540]; corticospinal tract morphogenesis [GO:0021957]; microtubule anchoring at centrosome [GO:0034454]; positive regulation of axonogenesis [GO:0050772]; positive regulation of microtubule polymerization [GO:0031116]; protein localization [GO:0008104]\r\n",
      "Scaffold_01\tGenSAS_5d9637f372b5d-publish\tgene\t183686\t186073\tPGEN_.00g000070\tNA\tNA\tNA\tNA\tNA\r\n"
     ]
    }
   ],
   "source": [
    "!head /Volumes/web/metacarcinus/Pgenerosa/analyses/20200108_anno/Panopea-generosa-v1.0.a4.gene.GOids.tab"
   ]
  },
  {
   "cell_type": "code",
   "execution_count": 62,
   "metadata": {},
   "outputs": [
    {
     "name": "stdout",
     "output_type": "stream",
     "text": [
      "\n",
      "of\n",
      "\n",
      "PGEN_.00g000010\n",
      "PGEN_.00g000020\n",
      "PGEN_.00g000030\n",
      "PGEN_.00g000040\n",
      "PGEN_.00g000050\n",
      "PGEN_.00g000060\n",
      "PGEN_.00g000070\n",
      "awk: write error on /dev/stdout\n",
      " input record number 2051, file /Volumes/web/metacarcinus/Pgenerosa/analyses/20200108_anno/Panopea-generosa-v1.0.a4.gene.GOids.tab\n",
      " source line number 1\n"
     ]
    }
   ],
   "source": [
    "#create a file with only Gene IDs from my GO file\n",
    "!awk -F\"\\t\" '{print $6}' /Volumes/web/metacarcinus/Pgenerosa/analyses/20200108_anno/Panopea-generosa-v1.0.a4.gene.GOids.tab |\\\n",
    "head"
   ]
  },
  {
   "cell_type": "code",
   "execution_count": 63,
   "metadata": {},
   "outputs": [
    {
     "name": "stdout",
     "output_type": "stream",
     "text": [
      "PGEN_.00g000010\r\n",
      "PGEN_.00g000020\r\n",
      "PGEN_.00g000030\r\n",
      "PGEN_.00g000040\r\n",
      "PGEN_.00g000050\r\n",
      "PGEN_.00g000060\r\n",
      "PGEN_.00g000070\r\n",
      "PGEN_.00g000080\r\n",
      "PGEN_.00g000090\r\n",
      "PGEN_.00g000100\r\n",
      "awk: write error on /dev/stdout\r\n",
      " input record number 2052, file /Volumes/web/metacarcinus/Pgenerosa/analyses/20200108_anno/Panopea-generosa-v1.0.a4.gene.GOids.tab\r\n",
      " source line number 1\r\n"
     ]
    }
   ],
   "source": [
    "#need to skip the first 3 header lines \n",
    "!awk -F\"\\t\" 'NR>3{print $6}' /Volumes/web/metacarcinus/Pgenerosa/analyses/20200108_anno/Panopea-generosa-v1.0.a4.gene.GOids.tab |\\\n",
    "head"
   ]
  },
  {
   "cell_type": "code",
   "execution_count": 64,
   "metadata": {
    "collapsed": true
   },
   "outputs": [],
   "source": [
    "#save output\n",
    "!awk -F\"\\t\" 'NR>3{print $6}' /Volumes/web/metacarcinus/Pgenerosa/analyses/20200108_anno/Panopea-generosa-v1.0.a4.gene.GOids.tab \\\n",
    "> /Volumes/web/metacarcinus/Pgenerosa/analyses/20200108_anno/gene.GOids.tab.geneIDsONLY.txt"
   ]
  },
  {
   "cell_type": "code",
   "execution_count": 68,
   "metadata": {},
   "outputs": [
    {
     "name": "stdout",
     "output_type": "stream",
     "text": [
      "MD5 (/Volumes/web/metacarcinus/Pgenerosa/analyses/20200108_anno/gene.fna.names.txt) = ab57476888a9c6cc8402c58f4d27d913\n",
      "MD5 (/Volumes/web/metacarcinus/Pgenerosa/analyses/20200108_anno/gene.GOids.tab.geneIDsONLY.txt) = ab57476888a9c6cc8402c58f4d27d913\n"
     ]
    }
   ],
   "source": [
    "#check if files are the same\n",
    "!md5 /Volumes/web/metacarcinus/Pgenerosa/analyses/20200108_anno/gene.fna.names.txt /Volumes/web/metacarcinus/Pgenerosa/analyses/20200108_anno/gene.GOids.tab.geneIDsONLY.txt\n"
   ]
  },
  {
   "cell_type": "code",
   "execution_count": null,
   "metadata": {
    "collapsed": true
   },
   "outputs": [],
   "source": [
    "#they are the same"
   ]
  },
  {
   "cell_type": "code",
   "execution_count": 69,
   "metadata": {},
   "outputs": [
    {
     "name": "stdout",
     "output_type": "stream",
     "text": [
      "PGEN_.00g000010\n",
      "PGEN_.00g000020\n",
      "PGEN_.00g000030\n",
      "PGEN_.00g000040\n",
      "PGEN_.00g000050\n",
      "PGEN_.00g000060\n",
      "PGEN_.00g000070\n",
      "PGEN_.00g000080\n",
      "PGEN_.00g000090\n",
      "PGEN_.00g000100\n",
      "awk: write error on /dev/stdout\n",
      " input record number 2049, file \n",
      " source line number 1\n",
      "awk: write error on /dev/stdout\n",
      " input record number 736504, file /Volumes/web/metacarcinus/Pgenerosa/analyses/20200108_anno/Panopea-generosa-vv0.74.a4.5d9637f372b5d-publish.genes.fna\n",
      " source line number 1\n"
     ]
    }
   ],
   "source": [
    "#check if FASTA ID is the same with suffix removed\n",
    "!awk '{if ($1~/>/)print $1}' /Volumes/web/metacarcinus/Pgenerosa/analyses/20200108_anno/Panopea-generosa-vv0.74.a4.5d9637f372b5d-publish.genes.fna |\\\n",
    "awk '{sub(/>/,\"\",$1);sub(/-vv0.74.a/,\"\",$1);print $1}' | head"
   ]
  },
  {
   "cell_type": "code",
   "execution_count": 70,
   "metadata": {
    "collapsed": true
   },
   "outputs": [],
   "source": [
    "#save output\n",
    "!awk '{if ($1~/>/)print $1}' /Volumes/web/metacarcinus/Pgenerosa/analyses/20200108_anno/Panopea-generosa-vv0.74.a4.5d9637f372b5d-publish.genes.fna |\\\n",
    "awk '{sub(/>/,\"\",$1);sub(/-vv0.74.a/,\"\",$1);print $1}' > /Volumes/web/metacarcinus/Pgenerosa/analyses/20200108_anno/gene.fna.IDnosuffix.txt"
   ]
  },
  {
   "cell_type": "code",
   "execution_count": 71,
   "metadata": {},
   "outputs": [
    {
     "name": "stdout",
     "output_type": "stream",
     "text": [
      "MD5 (/Volumes/web/metacarcinus/Pgenerosa/analyses/20200108_anno/gene.fna.IDnosuffix.txt) = ab57476888a9c6cc8402c58f4d27d913\n",
      "MD5 (/Volumes/web/metacarcinus/Pgenerosa/analyses/20200108_anno/gene.GOids.tab.geneIDsONLY.txt) = ab57476888a9c6cc8402c58f4d27d913\n"
     ]
    }
   ],
   "source": [
    "#check if files are the same\n",
    "!md5 /Volumes/web/metacarcinus/Pgenerosa/analyses/20200108_anno/gene.fna.IDnosuffix.txt /Volumes/web/metacarcinus/Pgenerosa/analyses/20200108_anno/gene.GOids.tab.geneIDsONLY.txt\n"
   ]
  },
  {
   "cell_type": "code",
   "execution_count": null,
   "metadata": {
    "collapsed": true
   },
   "outputs": [],
   "source": [
    "#files are the same"
   ]
  }
 ],
 "metadata": {
  "kernelspec": {
   "display_name": "Python 3",
   "language": "python",
   "name": "python3"
  },
  "language_info": {
   "codemirror_mode": {
    "name": "ipython",
    "version": 3
   },
   "file_extension": ".py",
   "mimetype": "text/x-python",
   "name": "python",
   "nbconvert_exporter": "python",
   "pygments_lexer": "ipython3",
   "version": "3.6.8"
  }
 },
 "nbformat": 4,
 "nbformat_minor": 2
}
