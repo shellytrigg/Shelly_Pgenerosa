{
 "cells": [
  {
   "cell_type": "code",
   "execution_count": null,
   "metadata": {
    "collapsed": true
   },
   "outputs": [],
   "source": [
    "#print chromosome, feature start, feature end, feature, ID"
   ]
  },
  {
   "cell_type": "code",
   "execution_count": null,
   "metadata": {
    "collapsed": true
   },
   "outputs": [],
   "source": [
    "#preview"
   ]
  },
  {
   "cell_type": "code",
   "execution_count": 5,
   "metadata": {
    "scrolled": true
   },
   "outputs": [
    {
     "name": "stdout",
     "output_type": "stream",
     "text": [
      "PGA_scaffold10__49_contigs__length_53961475 10023695 10023788 repeat_region 19535.GS22252514.PGEN_.repeat00948491\r\n",
      "PGA_scaffold10__49_contigs__length_53961475 10023695 10023788 repeat_region 19535.GS22252514.PGEN_.repeat00948491\r\n",
      "PGA_scaffold10__49_contigs__length_53961475 10023695 10023788 repeat_region 19535.GS22252514.PGEN_.repeat00948491\r\n",
      "PGA_scaffold10__49_contigs__length_53961475 10023695 10023788 repeat_region 19535.GS22252514.PGEN_.repeat00948491\r\n",
      "PGA_scaffold10__49_contigs__length_53961475 10023695 10023788 repeat_region 19535.GS22252514.PGEN_.repeat00948491\r\n",
      "PGA_scaffold10__49_contigs__length_53961475 10023733 10023926 repeat_region 19535.GS22252514.PGEN_.repeat00948492\r\n",
      "PGA_scaffold10__49_contigs__length_53961475 10023695 10023788 repeat_region 19535.GS22252514.PGEN_.repeat00948491\r\n",
      "PGA_scaffold10__49_contigs__length_53961475 10023733 10023926 repeat_region 19535.GS22252514.PGEN_.repeat00948492\r\n",
      "PGA_scaffold10__49_contigs__length_53961475 10034695 10034820 repeat_region 19535.GS22252514.PGEN_.repeat00948500\r\n",
      "PGA_scaffold10__49_contigs__length_53961475 10086676 10086777 repeat_region 19535.GS22252514.PGEN_.repeat00948588\r\n"
     ]
    }
   ],
   "source": [
    "!head /Volumes/web/metacarcinus/Pgenerosa/analyses/20191109/all_amb_bkgd_0928GFF3.txt | \\\n",
    "awk -F\"\\t\" '{sub(/;.*/,\"\",$12); sub(\"ID=\",\"\",$12);print $1,$7,$8,$6,$12}' "
   ]
  },
  {
   "cell_type": "code",
   "execution_count": null,
   "metadata": {
    "collapsed": true
   },
   "outputs": [],
   "source": [
    "#change directory into today's analysis "
   ]
  },
  {
   "cell_type": "code",
   "execution_count": 7,
   "metadata": {},
   "outputs": [
    {
     "name": "stdout",
     "output_type": "stream",
     "text": [
      "/Volumes/web/metacarcinus/Pgenerosa/analyses/20191109\n"
     ]
    }
   ],
   "source": [
    "cd  /Volumes/web/metacarcinus/Pgenerosa/analyses/20191109/"
   ]
  },
  {
   "cell_type": "code",
   "execution_count": null,
   "metadata": {
    "collapsed": true
   },
   "outputs": [],
   "source": [
    "#loop over all _0928GFF3.txt files and run the same code as above \n",
    "#to print chromosome, feature start, feature end, feature, and ID\n",
    "# sort and unique to only print features once\n",
    "# they are listed multiple times because of each CpG site listed\n"
   ]
  },
  {
   "cell_type": "code",
   "execution_count": 8,
   "metadata": {},
   "outputs": [],
   "source": [
    "%%bash\n",
    "for f in *_0928GFF3.txt\n",
    "do\n",
    "cat ${f} | \\\n",
    "awk -F\"\\t\" '{sub(/;.*/,\"\",$12); sub(\"ID=\",\"\",$12);print $1,$7,$8,$6,$12}' | \\\n",
    "sort | \\\n",
    "uniq \\\n",
    "> $(basename ${f} _0928GFF3.txt).geneID.txt\n",
    "done"
   ]
  },
  {
   "cell_type": "code",
   "execution_count": 9,
   "metadata": {},
   "outputs": [
    {
     "name": "stdout",
     "output_type": "stream",
     "text": [
      "PGA_scaffold10__49_contigs__length_53961475 10023695 10023788 repeat_region 19535.GS22252514.PGEN_.repeat00948491\r\n",
      "PGA_scaffold10__49_contigs__length_53961475 10023733 10023926 repeat_region 19535.GS22252514.PGEN_.repeat00948492\r\n",
      "PGA_scaffold10__49_contigs__length_53961475 10034695 10034820 repeat_region 19535.GS22252514.PGEN_.repeat00948500\r\n",
      "PGA_scaffold10__49_contigs__length_53961475 10042133 10115253 gene PGEN_.00g207910\r\n",
      "PGA_scaffold10__49_contigs__length_53961475 10042133 10115253 mRNA PGEN_.00g207910.m01\r\n",
      "PGA_scaffold10__49_contigs__length_53961475 10086676 10086777 repeat_region 19535.GS22252514.PGEN_.repeat00948588\r\n",
      "PGA_scaffold10__49_contigs__length_53961475 10212955 10295441 gene PGEN_.00g207950\r\n",
      "PGA_scaffold10__49_contigs__length_53961475 10212955 10295441 mRNA PGEN_.00g207950.m01\r\n",
      "PGA_scaffold10__49_contigs__length_53961475 10214022 10214168 repeat_region 19535.GS22252514.PGEN_.repeat00948821\r\n",
      "PGA_scaffold10__49_contigs__length_53961475 10226492 10227054 repeat_region 19535.GS22252514.PGEN_.repeat00948850\r\n"
     ]
    }
   ],
   "source": [
    "!head all_amb_bkgd.geneID.txt"
   ]
  },
  {
   "cell_type": "code",
   "execution_count": null,
   "metadata": {
    "collapsed": true
   },
   "outputs": [],
   "source": [
    "#preview of output looks good. "
   ]
  },
  {
   "cell_type": "code",
   "execution_count": null,
   "metadata": {
    "collapsed": true
   },
   "outputs": [],
   "source": [
    "#Next create a file with SP ID to be able to get GO info"
   ]
  },
  {
   "cell_type": "code",
   "execution_count": 12,
   "metadata": {
    "collapsed": true
   },
   "outputs": [],
   "source": [
    "%%bash\n",
    "for f in *_0928GFF3.txt\n",
    "do\n",
    "cat ${f} | \\\n",
    "awk -F\"\\t\" '{sub(/.*;Notes=/,\"\",$12);sub(/sp\\|/,\"sp_\",$12);sub(/\\|.*/,\"\",$12);print $1,$7,$8,$6,$12}'| \\\n",
    "grep \"sp_\" | sed 's/sp_//g' |\\\n",
    "sort | uniq \\\n",
    "> $(basename ${f} _0928GFF3.txt).spID.txt\n",
    "done\n"
   ]
  },
  {
   "cell_type": "code",
   "execution_count": 13,
   "metadata": {},
   "outputs": [
    {
     "name": "stdout",
     "output_type": "stream",
     "text": [
      "PGA_scaffold10__49_contigs__length_53961475 10042133 10115253 gene Q8IPH9\r\n",
      "PGA_scaffold10__49_contigs__length_53961475 10212955 10295441 gene Q8C0L8\r\n",
      "PGA_scaffold10__49_contigs__length_53961475 1034525 1035841 gene O54910\r\n",
      "PGA_scaffold10__49_contigs__length_53961475 10439193 10482181 gene Q32M08\r\n",
      "PGA_scaffold10__49_contigs__length_53961475 10587710 10613576 gene P51644\r\n",
      "PGA_scaffold10__49_contigs__length_53961475 10791078 10793345 gene P21158\r\n",
      "PGA_scaffold10__49_contigs__length_53961475 10805149 10821912 gene Q7Z9I2\r\n",
      "PGA_scaffold10__49_contigs__length_53961475 1081948 1097696 gene Q62165\r\n",
      "PGA_scaffold10__49_contigs__length_53961475 10822995 10839587 gene Q8K2M3\r\n",
      "PGA_scaffold10__49_contigs__length_53961475 10897229 10946372 gene Q95M18\r\n"
     ]
    }
   ],
   "source": [
    "!head all_amb_bkgd.spID.txt"
   ]
  },
  {
   "cell_type": "code",
   "execution_count": null,
   "metadata": {
    "collapsed": true
   },
   "outputs": [],
   "source": [
    "#join gene ID and sp ID files"
   ]
  },
  {
   "cell_type": "code",
   "execution_count": 17,
   "metadata": {
    "collapsed": true
   },
   "outputs": [],
   "source": [
    "%%bash\n",
    "for f in *.geneID.txt\n",
    "do\n",
    "cat ${f} | \\\n",
    "awk 'NR==FNR{a[$1,$2,$3,$4]=$5;next}{if(($1,$2,$3,$4)in a)print $0,a[$1,$2,$3,$4];else print $0,\"NA\"}' \\\n",
    "$(basename ${f} .geneID.txt).spID.txt - \\\n",
    "> $(basename ${f} .geneID.txt).geneANDspID.txt\n",
    "done"
   ]
  },
  {
   "cell_type": "code",
   "execution_count": 18,
   "metadata": {},
   "outputs": [
    {
     "name": "stdout",
     "output_type": "stream",
     "text": [
      "PGA_scaffold10__49_contigs__length_53961475 10023695 10023788 repeat_region 19535.GS22252514.PGEN_.repeat00948491 NA\r\n",
      "PGA_scaffold10__49_contigs__length_53961475 10023733 10023926 repeat_region 19535.GS22252514.PGEN_.repeat00948492 NA\r\n",
      "PGA_scaffold10__49_contigs__length_53961475 10034695 10034820 repeat_region 19535.GS22252514.PGEN_.repeat00948500 NA\r\n",
      "PGA_scaffold10__49_contigs__length_53961475 10042133 10115253 gene PGEN_.00g207910 Q8IPH9\r\n",
      "PGA_scaffold10__49_contigs__length_53961475 10042133 10115253 mRNA PGEN_.00g207910.m01 NA\r\n",
      "PGA_scaffold10__49_contigs__length_53961475 10086676 10086777 repeat_region 19535.GS22252514.PGEN_.repeat00948588 NA\r\n",
      "PGA_scaffold10__49_contigs__length_53961475 10212955 10295441 gene PGEN_.00g207950 Q8C0L8\r\n",
      "PGA_scaffold10__49_contigs__length_53961475 10212955 10295441 mRNA PGEN_.00g207950.m01 NA\r\n",
      "PGA_scaffold10__49_contigs__length_53961475 10214022 10214168 repeat_region 19535.GS22252514.PGEN_.repeat00948821 NA\r\n",
      "PGA_scaffold10__49_contigs__length_53961475 10226492 10227054 repeat_region 19535.GS22252514.PGEN_.repeat00948850 NA\r\n"
     ]
    }
   ],
   "source": [
    "!head all_amb_bkgd.geneANDspID.txt"
   ]
  },
  {
   "cell_type": "code",
   "execution_count": 21,
   "metadata": {},
   "outputs": [
    {
     "name": "stdout",
     "output_type": "stream",
     "text": [
      "    6597\r\n"
     ]
    }
   ],
   "source": [
    "!cat *.geneANDspID.txt | awk '{if($6!=\"NA\")print $6}' | sort | uniq | wc -l"
   ]
  },
  {
   "cell_type": "code",
   "execution_count": 23,
   "metadata": {},
   "outputs": [],
   "source": [
    "!cat *.geneANDspID.txt | awk '{if($6!=\"NA\")print $6}' | sort | uniq > all_bkgd_spID.txt"
   ]
  },
  {
   "cell_type": "code",
   "execution_count": null,
   "metadata": {
    "collapsed": true
   },
   "outputs": [],
   "source": [
    "#next take a look at the Uniprot GO table I downloaded"
   ]
  },
  {
   "cell_type": "code",
   "execution_count": 24,
   "metadata": {},
   "outputs": [
    {
     "name": "stdout",
     "output_type": "stream",
     "text": [
      "yourlist:M201911108471C63D39733769F8E060B506551E12529E275\tEntry\tEntry name\tProtein names\tGene ontology IDs\tGene ontology (GO)\n",
      "A0A044RE18\tA0A044RE18\tBLI_ONCVO\tEndoprotease bli (EC 3.4.21.75) (Blisterase)\tGO:0004252; GO:0005576; GO:0005634; GO:0007635; GO:0031638; GO:0040002; GO:0045887; GO:0046872; GO:0090472; GO:1902075\textracellular region [GO:0005576]; nucleus [GO:0005634]; metal ion binding [GO:0046872]; serine-type endopeptidase activity [GO:0004252]; cellular response to salt [GO:1902075]; chemosensory behavior [GO:0007635]; collagen and cuticulin-based cuticle development [GO:0040002]; dibasic protein processing [GO:0090472]; positive regulation of synaptic growth at neuromuscular junction [GO:0045887]; zymogen activation [GO:0031638]\n",
      "A0A0B5A7M7\tA0A0B5A7M7\tINS1_CONIM\tCon-Ins Im1 (Insulin 1) [Cleaved into: Con-Ins I1 B chain; Con-Ins I1 A chain]\tGO:0005179; GO:0005576; GO:0006006; GO:0090729\textracellular region [GO:0005576]; hormone activity [GO:0005179]; toxin activity [GO:0090729]; glucose metabolic process [GO:0006006]\n",
      "A0A0E0RTV6\tA0A0E0RTV6\tZEB1_GIBZE\tFAD-linked oxidoreductase ZEB1 (EC 1.-.-.-) (Zearalenone biosynthesis protein 1)\tGO:0016491; GO:0071949\tFAD binding [GO:0071949]; oxidoreductase activity [GO:0016491]\n",
      "A0A0F7YYX3\tA0A0F7YYX3\tCPROH_CONVC\tNeuropeptide prohormone-4\tGO:0005576\textracellular region [GO:0005576]\n",
      "A0A0F7Z3J2\tA0A0F7Z3J2\tCTHA2_CONVC\tThyrostimulin alpha-2 subunit\tGO:0005179; GO:0005576; GO:0090729\textracellular region [GO:0005576]; hormone activity [GO:0005179]; toxin activity [GO:0090729]\n",
      "A0A0G2K344\tA0A0G2K344\tPK3CA_RAT\tPhosphatidylinositol 4,5-bisphosphate 3-kinase catalytic subunit alpha isoform (PI3-kinase subunit alpha) (PI3K-alpha) (PI3Kalpha) (PtdIns-3-kinase subunit alpha) (EC 2.7.1.153) (Phosphatidylinositol 4,5-bisphosphate 3-kinase 110 kDa catalytic subunit alpha) (PtdIns-3-kinase subunit p110-alpha) (p110alpha) (Phosphoinositide-3-kinase catalytic alpha polypeptide) (Serine/threonine protein kinase PIK3CA) (EC 2.7.11.1)\tGO:0001525; GO:0004674; GO:0005524; GO:0005737; GO:0005829; GO:0005886; GO:0005942; GO:0005943; GO:0006909; GO:0010629; GO:0014065; GO:0014870; GO:0016020; GO:0016303; GO:0035005; GO:0036092; GO:0043201; GO:0046854; GO:0046934; GO:0048015; GO:0048661; GO:0052812; GO:0071548; GO:1903544\tcytoplasm [GO:0005737]; cytosol [GO:0005829]; membrane [GO:0016020]; phosphatidylinositol 3-kinase complex [GO:0005942]; phosphatidylinositol 3-kinase complex, class IA [GO:0005943]; plasma membrane [GO:0005886]; 1-phosphatidylinositol-3-kinase activity [GO:0016303]; 1-phosphatidylinositol-4-phosphate 3-kinase activity [GO:0035005]; ATP binding [GO:0005524]; phosphatidylinositol-3,4-bisphosphate 5-kinase activity [GO:0052812]; phosphatidylinositol-4,5-bisphosphate 3-kinase activity [GO:0046934]; protein serine/threonine kinase activity [GO:0004674]; angiogenesis [GO:0001525]; negative regulation of gene expression [GO:0010629]; phagocytosis [GO:0006909]; phosphatidylinositol 3-kinase signaling [GO:0014065]; phosphatidylinositol phosphorylation [GO:0046854]; phosphatidylinositol-3-phosphate biosynthetic process [GO:0036092]; phosphatidylinositol-mediated signaling [GO:0048015]; positive regulation of smooth muscle cell proliferation [GO:0048661]; response to butyrate [GO:1903544]; response to dexamethasone [GO:0071548]; response to leucine [GO:0043201]; response to muscle inactivity [GO:0014870]\n",
      "A0A0H5BMX5\tA0A0H5BMX5\tTCEB1_TULGE\tTuliposide B-converting enzyme 1, amyloplastic (TgTCEB1) (EC 4.2.99.23)\tGO:0006952; GO:0009501; GO:0016787; GO:0016829\tamyloplast [GO:0009501]; hydrolase activity [GO:0016787]; lyase activity [GO:0016829]; defense response [GO:0006952]\n",
      "A0A0P0XM10\tA0A0P0XM10\tPAO6_ORYSJ\tPolyamine oxidase 6 (OsPAO6) (EC 1.5.3.-) (Polyamine oxidase B)\tGO:0016491; GO:0046208; GO:0048046\tapoplast [GO:0048046]; oxidoreductase activity [GO:0016491]; spermine catabolic process [GO:0046208]\n",
      "A0A0R4I9Y1\tA0A0R4I9Y1\tR213B_DANRE\tE3 ubiquitin-protein ligase rnf213-beta (EC 2.3.2.27) (EC 3.6.4.-) (Mysterin-B) (Mysterin-beta) (RING finger protein 213-B) (RING finger protein 213-beta) (RING-type E3 ubiquitin transferase rnf213-beta)\tGO:0004842; GO:0005829; GO:0006511; GO:0016887; GO:0046872\tcytosol [GO:0005829]; ATPase activity [GO:0016887]; metal ion binding [GO:0046872]; ubiquitin-protein transferase activity [GO:0004842]; ubiquitin-dependent protein catabolic process [GO:0006511]\n"
     ]
    }
   ],
   "source": [
    "!head uniprot-20191109.tab"
   ]
  },
  {
   "cell_type": "code",
   "execution_count": null,
   "metadata": {
    "collapsed": true
   },
   "outputs": [],
   "source": [
    "#now bind .geneANDspID.txt files with uniprot GO annotations\n",
    "#code explanation:\n",
    "#loop through each .geneANDspID.txt file (there is one file for each DMR comparison: e.g. Day10 all pHs)\n",
    "#tr opens the file and replaces all spaces in the .geneANDspID.txt file with tabs\n",
    "#awk -F\"\\t\" specifies input files are tab delimited \n",
    "#'NR==FNR' specifies comparing two files\n",
    "#{a[$1]=$2\"\\t\"$3\"\\t\"$4\"\\t\"$5;next} creates an array of the first input file where\n",
    "## the first field ($1) is the key and the 2nd, 3rd, 4th, and 5th field are the definition\n",
    "#{if($6 in a)print $0\"\\t\"a[$6];else print $0\"\\t\"\"NA\"\"\\t\"\"NA\"\"\\t\"\"NA\"\"\\t\"\"NA\"} \n",
    "## if the 6th field of the second file is in the array (which is the list of Entry IDs in the first file)\n",
    "#print the whole like of the second file followed by the definition of the Entry ID in the array\n",
    "# if the 6th field of the second file is NOT in the array (print NA in all fields)\n",
    "# uniprot-20191102.tab - \\\n",
    "# the first file is uniprot-20191001_GO.tab and the second file is the .geneANDspID.txt file "
   ]
  },
  {
   "cell_type": "code",
   "execution_count": 25,
   "metadata": {
    "collapsed": true
   },
   "outputs": [],
   "source": [
    "%%bash\n",
    "for f in *.geneANDspID.txt\n",
    "do\n",
    "tr < ${f} ' ' '\\t' |\\\n",
    "awk -F\"\\t\" 'NR==FNR{a[$2]=$3\"\\t\"$4\"\\t\"$5\"\\t\"$6;next}{if($6 in a)print $0\"\\t\"a[$6];else print $0\"\\t\"\"NA\"\"\\t\"\"NA\"\"\\t\"\"NA\"\"\\t\"\"NA\"}' \\\n",
    "uniprot-20191109.tab - \\\n",
    "> $(basename ${f} .geneANDspID.txt).GO.txt\n",
    "done"
   ]
  },
  {
   "cell_type": "code",
   "execution_count": 26,
   "metadata": {},
   "outputs": [
    {
     "name": "stdout",
     "output_type": "stream",
     "text": [
      "PGA_scaffold10__49_contigs__length_53961475\t10023695\t10023788\trepeat_region\t19535.GS22252514.PGEN_.repeat00948491\tNA\tNA\tNA\tNA\tNA\r\n",
      "PGA_scaffold10__49_contigs__length_53961475\t10023733\t10023926\trepeat_region\t19535.GS22252514.PGEN_.repeat00948492\tNA\tNA\tNA\tNA\tNA\r\n",
      "PGA_scaffold10__49_contigs__length_53961475\t10034695\t10034820\trepeat_region\t19535.GS22252514.PGEN_.repeat00948500\tNA\tNA\tNA\tNA\tNA\r\n",
      "PGA_scaffold10__49_contigs__length_53961475\t10042133\t10115253\tgene\tPGEN_.00g207910\tQ8IPH9\tSLOB_DROME\tSlowpoke-binding protein\tGO:0004672; GO:0005737; GO:0005886; GO:0007274; GO:0032780; GO:0042391; GO:0042594; GO:0043271; GO:0050804\tcytoplasm [GO:0005737]; plasma membrane [GO:0005886]; protein kinase activity [GO:0004672]; modulation of chemical synaptic transmission [GO:0050804]; negative regulation of ATPase activity [GO:0032780]; negative regulation of ion transport [GO:0043271]; neuromuscular synaptic transmission [GO:0007274]; regulation of membrane potential [GO:0042391]; response to starvation [GO:0042594]\r\n",
      "PGA_scaffold10__49_contigs__length_53961475\t10042133\t10115253\tmRNA\tPGEN_.00g207910.m01\tNA\tNA\tNA\tNA\tNA\r\n",
      "PGA_scaffold10__49_contigs__length_53961475\t10086676\t10086777\trepeat_region\t19535.GS22252514.PGEN_.repeat00948588\tNA\tNA\tNA\tNA\tNA\r\n",
      "PGA_scaffold10__49_contigs__length_53961475\t10212955\t10295441\tgene\tPGEN_.00g207950\tQ8C0L8\tCOG5_MOUSE\tConserved oligomeric Golgi complex subunit 5 (COG complex subunit 5) (Component of oligomeric Golgi complex 5)\tGO:0000139; GO:0005654; GO:0005794; GO:0005829; GO:0006891; GO:0015031; GO:0017119; GO:0048219\tcytosol [GO:0005829]; Golgi apparatus [GO:0005794]; Golgi membrane [GO:0000139]; Golgi transport complex [GO:0017119]; nucleoplasm [GO:0005654]; inter-Golgi cisterna vesicle-mediated transport [GO:0048219]; intra-Golgi vesicle-mediated transport [GO:0006891]; protein transport [GO:0015031]\r\n",
      "PGA_scaffold10__49_contigs__length_53961475\t10212955\t10295441\tmRNA\tPGEN_.00g207950.m01\tNA\tNA\tNA\tNA\tNA\r\n",
      "PGA_scaffold10__49_contigs__length_53961475\t10214022\t10214168\trepeat_region\t19535.GS22252514.PGEN_.repeat00948821\tNA\tNA\tNA\tNA\tNA\r\n",
      "PGA_scaffold10__49_contigs__length_53961475\t10226492\t10227054\trepeat_region\t19535.GS22252514.PGEN_.repeat00948850\tNA\tNA\tNA\tNA\tNA\r\n"
     ]
    }
   ],
   "source": [
    "!head all_amb_bkgd.GO.txt"
   ]
  },
  {
   "cell_type": "code",
   "execution_count": null,
   "metadata": {
    "collapsed": true
   },
   "outputs": [],
   "source": []
  },
  {
   "cell_type": "code",
   "execution_count": null,
   "metadata": {
    "collapsed": true
   },
   "outputs": [],
   "source": []
  },
  {
   "cell_type": "code",
   "execution_count": null,
   "metadata": {
    "collapsed": true
   },
   "outputs": [],
   "source": []
  },
  {
   "cell_type": "code",
   "execution_count": null,
   "metadata": {
    "collapsed": true
   },
   "outputs": [],
   "source": []
  },
  {
   "cell_type": "code",
   "execution_count": null,
   "metadata": {
    "collapsed": true
   },
   "outputs": [],
   "source": []
  }
 ],
 "metadata": {
  "kernelspec": {
   "display_name": "Python 3",
   "language": "python",
   "name": "python3"
  },
  "language_info": {
   "codemirror_mode": {
    "name": "ipython",
    "version": 3
   },
   "file_extension": ".py",
   "mimetype": "text/x-python",
   "name": "python",
   "nbconvert_exporter": "python",
   "pygments_lexer": "ipython3",
   "version": "3.6.8"
  }
 },
 "nbformat": 4,
 "nbformat_minor": 2
}
