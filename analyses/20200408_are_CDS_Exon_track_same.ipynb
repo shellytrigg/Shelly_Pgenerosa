{
 "cells": [
  {
   "cell_type": "code",
   "execution_count": null,
   "metadata": {},
   "outputs": [],
   "source": [
    "#remove duplicates from 2kb bin file"
   ]
  },
  {
   "cell_type": "code",
   "execution_count": 1,
   "metadata": {},
   "outputs": [],
   "source": [
    "!/Users/Shared/bioinformatics/bedtools2/bin/bedtools sort \\\n",
    "-i /Users/strigg/Desktop/20200406/Panopea-generosa-v1.0.a4.2Kbin.bed | \\\n",
    "uniq > /Users/strigg/Desktop/20200406/Panopea-generosa-v1.0.a4.2Kbin.uniq.bed\n",
    "\n"
   ]
  },
  {
   "cell_type": "code",
   "execution_count": 3,
   "metadata": {},
   "outputs": [],
   "source": [
    "!/Users/Shared/bioinformatics/bedtools2/bin/intersectBed \\\n",
    "-a /Users/strigg/Desktop/20200406/amb.3xCpG.allgrps.bed \\\n",
    "-b /Users/strigg/Desktop/20200406/Panopea-generosa-v1.0.a4.2Kbin.uniq.bed \\\n",
    "-wb \\\n",
    "> /Users/strigg/Desktop/20200406/amb_features_uniq.txt\n"
   ]
  },
  {
   "cell_type": "code",
   "execution_count": 5,
   "metadata": {},
   "outputs": [
    {
     "name": "stdout",
     "output_type": "stream",
     "text": [
      "Scaffold_01\t8770990\t8770992\tScaffold_01\t8770966\t8771055\tCDS\r\n",
      "Scaffold_01\t8770990\t8770992\tScaffold_01\t8770966\t8771055\texon\r\n",
      "Scaffold_01\t8771007\t8771009\tScaffold_01\t8770966\t8771055\tCDS\r\n",
      "Scaffold_01\t8771007\t8771009\tScaffold_01\t8770966\t8771055\texon\r\n"
     ]
    }
   ],
   "source": [
    "!grep 8770966 /Users/strigg/Desktop/20200406/amb_features_uniq.txt"
   ]
  },
  {
   "cell_type": "code",
   "execution_count": 6,
   "metadata": {},
   "outputs": [],
   "source": [
    "!cat /Users/strigg/Desktop/20200406/amb_features_uniq.txt |\\\n",
    "awk -F\"\\t\" '{print $4,$5,$6,$7}' |\\\n",
    "sort |\\\n",
    "uniq -c |\\\n",
    "awk '{if($1>2)print $2\"\\t\"$3\"\\t\"$4\"\\t\"$5}'\\\n",
    "> /Users/strigg/Desktop/20200406/amb_features_uniq.3CpG.txt"
   ]
  },
  {
   "cell_type": "code",
   "execution_count": 7,
   "metadata": {},
   "outputs": [
    {
     "name": "stdout",
     "output_type": "stream",
     "text": [
      "   77701 /Users/strigg/Desktop/20200406/amb_features_uniq.3CpG.txt\r\n"
     ]
    }
   ],
   "source": [
    "!wc -l /Users/strigg/Desktop/20200406/amb_features_uniq.3CpG.txt"
   ]
  },
  {
   "cell_type": "code",
   "execution_count": 8,
   "metadata": {},
   "outputs": [],
   "source": [
    "!grep 8770966 /Users/strigg/Desktop/20200406/amb_features_uniq.3CpG.txt"
   ]
  }
 ],
 "metadata": {
  "kernelspec": {
   "display_name": "Python 3",
   "language": "python",
   "name": "python3"
  },
  "language_info": {
   "codemirror_mode": {
    "name": "ipython",
    "version": 3
   },
   "file_extension": ".py",
   "mimetype": "text/x-python",
   "name": "python",
   "nbconvert_exporter": "python",
   "pygments_lexer": "ipython3",
   "version": "3.6.8"
  }
 },
 "nbformat": 4,
 "nbformat_minor": 2
}
