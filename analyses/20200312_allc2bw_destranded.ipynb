{
 "cells": [
  {
   "cell_type": "code",
   "execution_count": null,
   "metadata": {},
   "outputs": [],
   "source": [
    "#convert allc files to bw for igv"
   ]
  },
  {
   "cell_type": "code",
   "execution_count": 7,
   "metadata": {},
   "outputs": [
    {
     "name": "stdout",
     "output_type": "stream",
     "text": [
      "/Users/strigg/Desktop/20200311_DMRfind/EPI-103_S27_L005_5xmerg_allc.tsv\n",
      "/Users/strigg/Desktop/20200311_DMRfind/EPI-104_S28_L005_5xmerg_allc.tsv\n",
      "/Users/strigg/Desktop/20200311_DMRfind/EPI-111_S29_L005_5xmerg_allc.tsv\n",
      "/Users/strigg/Desktop/20200311_DMRfind/EPI-113_S30_L005_5xmerg_allc.tsv\n",
      "/Users/strigg/Desktop/20200311_DMRfind/EPI-119_S31_L005_5xmerg_allc.tsv\n",
      "/Users/strigg/Desktop/20200311_DMRfind/EPI-120_S32_L005_5xmerg_allc.tsv\n",
      "/Users/strigg/Desktop/20200311_DMRfind/EPI-127_S33_L005_5xmerg_allc.tsv\n",
      "/Users/strigg/Desktop/20200311_DMRfind/EPI-128_S34_L005_5xmerg_allc.tsv\n",
      "/Users/strigg/Desktop/20200311_DMRfind/EPI-135_S35_L005_5xmerg_allc.tsv\n",
      "/Users/strigg/Desktop/20200311_DMRfind/EPI-136_S36_L005_5xmerg_allc.tsv\n",
      "/Users/strigg/Desktop/20200311_DMRfind/EPI-143_S37_L005_5xmerg_allc.tsv\n",
      "/Users/strigg/Desktop/20200311_DMRfind/EPI-145_S38_L005_5xmerg_allc.tsv\n",
      "/Users/strigg/Desktop/20200311_DMRfind/EPI-151_S2_L002_5xmerg_allc.tsv\n",
      "/Users/strigg/Desktop/20200311_DMRfind/EPI-152_S3_L002_5xmerg_allc.tsv\n",
      "/Users/strigg/Desktop/20200311_DMRfind/EPI-153_S4_L002_5xmerg_allc.tsv\n",
      "/Users/strigg/Desktop/20200311_DMRfind/EPI-154_S5_L002_5xmerg_allc.tsv\n",
      "/Users/strigg/Desktop/20200311_DMRfind/EPI-159_S6_L002_5xmerg_allc.tsv\n",
      "/Users/strigg/Desktop/20200311_DMRfind/EPI-160_S7_L002_5xmerg_allc.tsv\n",
      "/Users/strigg/Desktop/20200311_DMRfind/EPI-161_S8_L002_5xmerg_allc.tsv\n",
      "/Users/strigg/Desktop/20200311_DMRfind/EPI-162_S9_L002_5xmerg_allc.tsv\n",
      "/Users/strigg/Desktop/20200311_DMRfind/EPI-167_S10_L002_5xmerg_allc.tsv\n",
      "/Users/strigg/Desktop/20200311_DMRfind/EPI-168_S11_L002_5xmerg_allc.tsv\n",
      "/Users/strigg/Desktop/20200311_DMRfind/EPI-169_S12_L002_5xmerg_allc.tsv\n",
      "/Users/strigg/Desktop/20200311_DMRfind/EPI-170_S13_L002_5xmerg_allc.tsv\n",
      "/Users/strigg/Desktop/20200311_DMRfind/EPI-175_S14_L003_5xmerg_allc.tsv\n",
      "/Users/strigg/Desktop/20200311_DMRfind/EPI-176_S15_L003_5xmerg_allc.tsv\n",
      "/Users/strigg/Desktop/20200311_DMRfind/EPI-181_S16_L003_5xmerg_allc.tsv\n",
      "/Users/strigg/Desktop/20200311_DMRfind/EPI-182_S17_L003_5xmerg_allc.tsv\n",
      "/Users/strigg/Desktop/20200311_DMRfind/EPI-184_S18_L003_5xmerg_allc.tsv\n",
      "/Users/strigg/Desktop/20200311_DMRfind/EPI-185_S19_L003_5xmerg_allc.tsv\n",
      "/Users/strigg/Desktop/20200311_DMRfind/EPI-187_S20_L003_5xmerg_allc.tsv\n",
      "/Users/strigg/Desktop/20200311_DMRfind/EPI-188_S21_L003_5xmerg_allc.tsv\n",
      "/Users/strigg/Desktop/20200311_DMRfind/EPI-193_S22_L003_5xmerg_allc.tsv\n",
      "/Users/strigg/Desktop/20200311_DMRfind/EPI-194_S23_L003_5xmerg_allc.tsv\n",
      "/Users/strigg/Desktop/20200311_DMRfind/EPI-199_S24_L003_5xmerg_allc.tsv\n",
      "/Users/strigg/Desktop/20200311_DMRfind/EPI-200_S25_L003_5xmerg_allc.tsv\n",
      "/Users/strigg/Desktop/20200311_DMRfind/EPI-205_S26_L004_5xmerg_allc.tsv\n",
      "/Users/strigg/Desktop/20200311_DMRfind/EPI-206_S27_L004_5xmerg_allc.tsv\n",
      "/Users/strigg/Desktop/20200311_DMRfind/EPI-208_S28_L004_5xmerg_allc.tsv\n",
      "/Users/strigg/Desktop/20200311_DMRfind/EPI-209_S29_L004_5xmerg_allc.tsv\n",
      "/Users/strigg/Desktop/20200311_DMRfind/EPI-214_S30_L004_5xmerg_allc.tsv\n",
      "/Users/strigg/Desktop/20200311_DMRfind/EPI-215_S31_L004_5xmerg_allc.tsv\n",
      "/Users/strigg/Desktop/20200311_DMRfind/EPI-220_S32_L004_5xmerg_allc.tsv\n",
      "/Users/strigg/Desktop/20200311_DMRfind/EPI-221_S33_L004_5xmerg_allc.tsv\n",
      "/Users/strigg/Desktop/20200311_DMRfind/EPI-226_S34_L004_5xmerg_allc.tsv\n",
      "/Users/strigg/Desktop/20200311_DMRfind/EPI-227_S35_L004_5xmerg_allc.tsv\n",
      "/Users/strigg/Desktop/20200311_DMRfind/EPI-229_S36_L004_5xmerg_allc.tsv\n",
      "/Users/strigg/Desktop/20200311_DMRfind/EPI-230_S37_L004_5xmerg_allc.tsv\n",
      "/Users/strigg/Desktop/20200311_DMRfind/EPI-41_S38_L005_5xmerg_allc.tsv\n",
      "/Users/strigg/Desktop/20200311_DMRfind/EPI-42_S39_L005_5xmerg_allc.tsv\n",
      "/Users/strigg/Desktop/20200311_DMRfind/EPI-43_S40_L005_5xmerg_allc.tsv\n",
      "/Users/strigg/Desktop/20200311_DMRfind/EPI-44_S41_L005_5xmerg_allc.tsv\n"
     ]
    }
   ],
   "source": [
    "%%bash\n",
    "for f in  /Users/strigg/Desktop/20200311_DMRfind/${EPI-*}_5xmerg_allc.tsv\n",
    "do\n",
    "echo ${f}\n",
    "done"
   ]
  },
  {
   "cell_type": "code",
   "execution_count": 10,
   "metadata": {},
   "outputs": [],
   "source": [
    "%%bash\n",
    "for f in  /Users/strigg/Desktop/20200311_DMRfind/${EPI-*}_5xmerg_allc.tsv\n",
    "do\n",
    "methylpy allc-to-bigwig \\\n",
    "--allc-file ${f} \\\n",
    "--output-file ${f}.bw \\\n",
    "--ref-fasta /Volumes/web/metacarcinus/Pgenerosa/GENOMES/Panopea-generosa-v1.0.fa \\\n",
    "--mc-type CGN \\\n",
    "--bin-size 25\n",
    "done"
   ]
  },
  {
   "cell_type": "code",
   "execution_count": 11,
   "metadata": {},
   "outputs": [],
   "source": [
    "!mv /Users/strigg/Desktop/20200311_DMRfind/*.bw \\\n",
    "/Volumes/web/metacarcinus/Pgenerosa/analyses/20200311/"
   ]
  },
  {
   "cell_type": "code",
   "execution_count": null,
   "metadata": {},
   "outputs": [],
   "source": [
    "#create bed files in /Volumes/web/metacarcinus/Pgenerosa/analyses/20200311/ using this code:\n",
    "```\n",
    "Shellys-MacBook-Pro:20200311 Shelly$ awk -F\"\\t\" '{print $1\"\\t\"$2\"\\t\"$3\"\\t\"$5\"\\t\"$6\"\\t\"$4}' EPI-103_S27_L005_5x.tab > EPI-103_S27_L005_5x.bed \n",
    "Shellys-MacBook-Pro:20200311 Shelly$ awk -F\"\\t\" '{print $1\"\\t\"$2\"\\t\"$3\"\\t\"$5\"\\t\"$6\"\\t\"$4}' ../20191220/merged_tab/EPI-104_S28_L005_5x.tab > EPI-104_S28_L005_5x.bed \n",
    "Shellys-MacBook-Pro:20200311 Shelly$ awk -F\"\\t\" '{print $1\"\\t\"$2\"\\t\"$3\"\\t\"$5\"\\t\"$6\"\\t\"$4}' ../20191220/merged_tab/EPI-111_S29_L005_5x.tab > EPI-111_S29_L005_5x.bed \n",
    "Shellys-MacBook-Pro:20200311 Shelly$ awk -F\"\\t\" '{print $1\"\\t\"$2\"\\t\"$3\"\\t\"$5\"\\t\"$6\"\\t\"$4}' ../20191220/merged_tab/EPI-113_S30_L005_5x.tab > EPI-113_S30_L005_5x.bed \n",
    "Shellys-MacBook-Pro:20200311 Shelly$ awk -F\"\\t\" '{print $1\"\\t\"$2\"\\t\"$3\"\\t\"$5\"\\t\"$6\"\\t\"$4}' ../20191220/merged_tab/EPI-119_S31_L005_5x.tab > EPI-119_S31_L005_5x.bed \n",
    "Shellys-MacBook-Pro:20200311 Shelly$ awk -F\"\\t\" '{print $1\"\\t\"$2\"\\t\"$3\"\\t\"$5\"\\t\"$6\"\\t\"$4}' ../20191220/merged_tab/EPI-12 > EPI-119_S31_L005_5x.bed \n",
    "EPI-120_S32_L005_5x.tab  EPI-127_S33_L005_5x.tab  EPI-128_S34_L005_5x.tab  \n",
    "Shellys-MacBook-Pro:20200311 Shelly$ awk -F\"\\t\" '{print $1\"\\t\"$2\"\\t\"$3\"\\t\"$5\"\\t\"$6\"\\t\"$4}' ../20191220/merged_tab/EPI-120_S32_L005_5x.tab > EPI-120_S32_L005_5x.bed \n",
    "Shellys-MacBook-Pro:20200311 Shelly$ awk -F\"\\t\" '{print $1\"\\t\"$2\"\\t\"$3\"\\t\"$5\"\\t\"$6\"\\t\"$4}' ../20191220/merged_tab/EPI-135_S35_L005_5x.tab > EPI-120_S35_L005_5x.bed \n",
    "Shellys-MacBook-Pro:20200311 Shelly$ mv EPI-120_S35_L005_5x.bed EPI-135_S35_L005_5x.bed\n",
    "Shellys-MacBook-Pro:20200311 Shelly$ awk -F\"\\t\" '{print $1\"\\t\"$2\"\\t\"$3\"\\t\"$5\"\\t\"$6\"\\t\"$4}' ../20191220/merged_tab/EPI-136_S36_L005_5x.tab > EPI-136_S36_L005_5x.bed \n",
    "Shellys-MacBook-Pro:20200311 Shelly$ awk -F\"\\t\" '{print $1\"\\t\"$2\"\\t\"$3\"\\t\"$5\"\\t\"$6\"\\t\"$4}' ../20191220/merged_tab/EPI-127_S33_L005_5x.tab > EPI-127_S33_L005_5x.bed \n",
    "Shellys-MacBook-Pro:20200311 Shelly$ awk -F\"\\t\" '{print $1\"\\t\"$2\"\\t\"$3\"\\t\"$5\"\\t\"$6\"\\t\"$4}' ../20191220/merged_tab/EPI-128_S34_L005_5x.tab > EPI-128_S34_L005_5x.bed \n",
    "Shellys-MacBook-Pro:20200311 Shelly$ awk -F\"\\t\" '{print $1\"\\t\"$2\"\\t\"$3\"\\t\"$5\"\\t\"$6\"\\t\"$4}' ../20191220/merged_tab/EPI-143_S37_L005_5x.tab > EPI-143_S37_L005_5x.bed \n",
    "Shellys-MacBook-Pro:20200311 Shelly$ awk -F\"\\t\" '{print $1\"\\t\"$2\"\\t\"$3\"\\t\"$5\"\\t\"$6\"\\t\"$4}' ../20191220/merged_tab/EPI-145_S38_L005_5x.tab > EPI-145_S38_L005_5x.tab \n",
    "```    "
   ]
  },
  {
   "cell_type": "code",
   "execution_count": null,
   "metadata": {},
   "outputs": [],
   "source": []
  }
 ],
 "metadata": {
  "kernelspec": {
   "display_name": "Python 3",
   "language": "python",
   "name": "python3"
  },
  "language_info": {
   "codemirror_mode": {
    "name": "ipython",
    "version": 3
   },
   "file_extension": ".py",
   "mimetype": "text/x-python",
   "name": "python",
   "nbconvert_exporter": "python",
   "pygments_lexer": "ipython3",
   "version": "3.6.8"
  }
 },
 "nbformat": 4,
 "nbformat_minor": 2
}
