{
 "cells": [
  {
   "cell_type": "code",
   "execution_count": null,
   "metadata": {
    "collapsed": true
   },
   "outputs": [],
   "source": [
    "#convert scaffold names"
   ]
  },
  {
   "cell_type": "code",
   "execution_count": 1,
   "metadata": {},
   "outputs": [
    {
     "name": "stdout",
     "output_type": "stream",
     "text": [
      "/Users/Shelly/Documents/GitHub/Shelly_Pgenerosa/analyses\r\n"
     ]
    }
   ],
   "source": [
    "!pwd"
   ]
  },
  {
   "cell_type": "code",
   "execution_count": 2,
   "metadata": {},
   "outputs": [
    {
     "name": "stdout",
     "output_type": "stream",
     "text": [
      "/Users/Shelly/Documents/GitHub/Shelly_Pgenerosa/analyses/MCmax30_asinT_groupStats\n"
     ]
    }
   ],
   "source": [
    "cd MCmax30_asinT_groupStats/"
   ]
  },
  {
   "cell_type": "code",
   "execution_count": 3,
   "metadata": {},
   "outputs": [
    {
     "name": "stdout",
     "output_type": "stream",
     "text": [
      "PGA_scaffold10__49_contigs__length_53961475\t11112810\t11112940\t6\r\n",
      "PGA_scaffold11__79_contigs__length_51449921\t34242236\t34242266\t4\r\n",
      "PGA_scaffold11__79_contigs__length_51449921\t46672468\t46672516\t4\r\n",
      "PGA_scaffold12__71_contigs__length_50438331\t7000227\t7000253\t3\r\n",
      "PGA_scaffold12__71_contigs__length_50438331\t44762795\t44762874\t6\r\n",
      "PGA_scaffold13__52_contigs__length_44396874\t6615896\t6615924\t5\r\n",
      "PGA_scaffold14__91_contigs__length_45393038\t9365992\t9366024\t3\r\n",
      "PGA_scaffold14__91_contigs__length_45393038\t10741127\t10741221\t6\r\n",
      "PGA_scaffold14__91_contigs__length_45393038\t15698493\t15698502\t4\r\n",
      "PGA_scaffold14__91_contigs__length_45393038\t34995746\t34995952\t8\r\n"
     ]
    }
   ],
   "source": [
    "!head amb_AllTimes_DMR250bp_MCmax30_cov5x_rms_results_collapsed_AOV0.1.DMR.bed"
   ]
  },
  {
   "cell_type": "code",
   "execution_count": 4,
   "metadata": {},
   "outputs": [
    {
     "name": "stdout",
     "output_type": "stream",
     "text": [
      "Scaffold10__49_contigs__length_53961475\t11112810\t11112940\t6\r\n",
      "Scaffold11__79_contigs__length_51449921\t34242236\t34242266\t4\r\n",
      "Scaffold11__79_contigs__length_51449921\t46672468\t46672516\t4\r\n",
      "Scaffold12__71_contigs__length_50438331\t7000227\t7000253\t3\r\n",
      "Scaffold12__71_contigs__length_50438331\t44762795\t44762874\t6\r\n",
      "Scaffold13__52_contigs__length_44396874\t6615896\t6615924\t5\r\n",
      "Scaffold14__91_contigs__length_45393038\t9365992\t9366024\t3\r\n",
      "Scaffold14__91_contigs__length_45393038\t10741127\t10741221\t6\r\n",
      "Scaffold14__91_contigs__length_45393038\t15698493\t15698502\t4\r\n",
      "Scaffold14__91_contigs__length_45393038\t34995746\t34995952\t8\r\n"
     ]
    }
   ],
   "source": [
    "!sed 's/PGA_s/S/g' amb_AllTimes_DMR250bp_MCmax30_cov5x_rms_results_collapsed_AOV0.1.DMR.bed | head"
   ]
  },
  {
   "cell_type": "code",
   "execution_count": 6,
   "metadata": {},
   "outputs": [
    {
     "name": "stdout",
     "output_type": "stream",
     "text": [
      "PGA_scaffold10\r\n",
      "PGA_scaffold11\r\n",
      "PGA_scaffold11\r\n",
      "PGA_scaffold12\r\n",
      "PGA_scaffold12\r\n",
      "PGA_scaffold13\r\n",
      "PGA_scaffold14\r\n",
      "PGA_scaffold14\r\n",
      "PGA_scaffold14\r\n",
      "PGA_scaffold14\r\n"
     ]
    }
   ],
   "source": [
    "!sed 's/__.*//g' amb_AllTimes_DMR250bp_MCmax30_cov5x_rms_results_collapsed_AOV0.1.DMR.bed | head"
   ]
  },
  {
   "cell_type": "code",
   "execution_count": 8,
   "metadata": {},
   "outputs": [
    {
     "name": "stdout",
     "output_type": "stream",
     "text": [
      "PGA_scaffold_10__49_contigs__length_53961475\t11112810\t11112940\t6\r\n",
      "PGA_scaffold_11__79_contigs__length_51449921\t34242236\t34242266\t4\r\n",
      "PGA_scaffold_11__79_contigs__length_51449921\t46672468\t46672516\t4\r\n",
      "PGA_scaffold_12__71_contigs__length_50438331\t7000227\t7000253\t3\r\n",
      "PGA_scaffold_12__71_contigs__length_50438331\t44762795\t44762874\t6\r\n",
      "PGA_scaffold_13__52_contigs__length_44396874\t6615896\t6615924\t5\r\n",
      "PGA_scaffold_14__91_contigs__length_45393038\t9365992\t9366024\t3\r\n",
      "PGA_scaffold_14__91_contigs__length_45393038\t10741127\t10741221\t6\r\n",
      "PGA_scaffold_14__91_contigs__length_45393038\t15698493\t15698502\t4\r\n",
      "PGA_scaffold_14__91_contigs__length_45393038\t34995746\t34995952\t8\r\n"
     ]
    }
   ],
   "source": [
    "!sed 's/d/d_/g' amb_AllTimes_DMR250bp_MCmax30_cov5x_rms_results_collapsed_AOV0.1.DMR.bed | head"
   ]
  },
  {
   "cell_type": "code",
   "execution_count": 40,
   "metadata": {},
   "outputs": [],
   "source": [
    "!cat amb_AllTimes_DMR250bp_MCmax30_cov5x_rms_results_collapsed_AOV0.1.DMR.bed |\\\n",
    "awk -F\"\\t\" '{sub(/__.*/,\"\",$1);sub(/d/,\"d_\",$1);sub(/PGA_s/,\"S\",$1);print $1,$2,$3,$4}' \\\n",
    "> ../20200306_ConvertScaffoldNames/amb_AllTimes_DMR250bp_MCmax30_cov5x_rms_results_collapsed_AOV0.1.DMR.bed"
   ]
  },
  {
   "cell_type": "code",
   "execution_count": 41,
   "metadata": {},
   "outputs": [
    {
     "name": "stdout",
     "output_type": "stream",
     "text": [
      "Scaffold_10 11112810 11112940 6\r\n",
      "Scaffold_11 34242236 34242266 4\r\n",
      "Scaffold_11 46672468 46672516 4\r\n",
      "Scaffold_12 7000227 7000253 3\r\n",
      "Scaffold_12 44762795 44762874 6\r\n",
      "Scaffold_13 6615896 6615924 5\r\n",
      "Scaffold_14 9365992 9366024 3\r\n",
      "Scaffold_14 10741127 10741221 6\r\n",
      "Scaffold_14 15698493 15698502 4\r\n",
      "Scaffold_14 34995746 34995952 8\r\n"
     ]
    }
   ],
   "source": [
    "!head ../20200306_ConvertScaffoldNames/amb_AllTimes_DMR250bp_MCmax30_cov5x_rms_results_collapsed_AOV0.1.DMR.bed"
   ]
  },
  {
   "cell_type": "code",
   "execution_count": 42,
   "metadata": {},
   "outputs": [],
   "source": [
    "!cat day10_AllpH_DMR250bp_MCmax30_cov5x_rms_results_collapsed_AOV0.1.DMR.bed |\\\n",
    "awk -F\"\\t\" '{sub(/__.*/,\"\",$1);sub(/d/,\"d_\",$1);sub(/PGA_s/,\"S\",$1);print $1,$2,$3,$4}' \\\n",
    "> ../20200306_ConvertScaffoldNames/day10_AllpH_DMR250bp_MCmax30_cov5x_rms_results_collapsed_AOV0.1.DMR.bed"
   ]
  },
  {
   "cell_type": "code",
   "execution_count": 43,
   "metadata": {},
   "outputs": [],
   "source": [
    "!cat day135_AllpH_DMR250bp_MCmax30_cov5x_rms_results_collapsed_AOV0.1.DMR.bed |\\\n",
    "awk -F\"\\t\" '{sub(/__.*/,\"\",$1);sub(/d/,\"d_\",$1);sub(/PGA_s/,\"S\",$1);print $1,$2,$3,$4}' \\\n",
    "> ../20200306_ConvertScaffoldNames/day135_AllpH_DMR250bp_MCmax30_cov5x_rms_results_collapsed_AOV0.1.DMR.bed"
   ]
  },
  {
   "cell_type": "code",
   "execution_count": 44,
   "metadata": {
    "collapsed": true
   },
   "outputs": [],
   "source": [
    "!cat day145_AllpH_DMR250bp_MCmax30_cov5x_rms_results_collapsed_AOV0.1.DMR.bed |\\\n",
    "awk -F\"\\t\" '{sub(/__.*/,\"\",$1);sub(/d/,\"d_\",$1);sub(/PGA_s/,\"S\",$1);print $1,$2,$3,$4}' \\\n",
    "> ../20200306_ConvertScaffoldNames/day145_AllpH_DMR250bp_MCmax30_cov5x_rms_results_collapsed_AOV0.1.DMR.bed"
   ]
  }
 ],
 "metadata": {
  "kernelspec": {
   "display_name": "Python 3",
   "language": "python",
   "name": "python3"
  },
  "language_info": {
   "codemirror_mode": {
    "name": "ipython",
    "version": 3
   },
   "file_extension": ".py",
   "mimetype": "text/x-python",
   "name": "python",
   "nbconvert_exporter": "python",
   "pygments_lexer": "ipython3",
   "version": "3.6.8"
  }
 },
 "nbformat": 4,
 "nbformat_minor": 2
}
