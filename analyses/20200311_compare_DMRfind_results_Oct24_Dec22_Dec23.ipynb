{
 "cells": [
  {
   "cell_type": "code",
   "execution_count": null,
   "metadata": {
    "collapsed": true
   },
   "outputs": [],
   "source": [
    "#compare results from DMRfind where the only difference is the input files used. \n",
    "#Oct 24 did not use destranded data and Dec 22 did"
   ]
  },
  {
   "cell_type": "code",
   "execution_count": null,
   "metadata": {
    "collapsed": true
   },
   "outputs": [],
   "source": [
    "#preview script that generated Oct 24 results"
   ]
  },
  {
   "cell_type": "code",
   "execution_count": 1,
   "metadata": {
    "collapsed": true
   },
   "outputs": [
    {
     "name": "stdout",
     "output_type": "stream",
     "text": [
      "#!/bin/bash\r\n",
      "## Job Name\r\n",
      "#SBATCH --job-name=DMRfindAllEPIsamples\r\n",
      "## Allocation Definition \r\n",
      "#SBATCH --account=srlab\r\n",
      "#SBATCH --partition=srlab\r\n",
      "## Resources\r\n",
      "## Nodes \r\n",
      "#SBATCH --nodes=1\r\n",
      "## Walltime (days-hours:minutes:seconds format)\r\n",
      "#SBATCH --time=4-23:30:00\r\n",
      "## Memory per node\r\n",
      "#SBATCH --mem=100G\r\n",
      "##turn on e-mail notification\r\n",
      "#SBATCH --mail-type=ALL\r\n",
      "#SBATCH --mail-user=strigg@uw.edu\r\n",
      "## Specify the working directory for this job\r\n",
      "#SBATCH --chdir=/gscratch/scrubbed/strigg/analyses/20191024_25bp\r\n",
      "\r\n",
      "#run DMR find requiring 3 groups/treatment have coverage and DMS = 25bp\r\n",
      "\r\n",
      "# For table S1, compare day 0, day 10, day 135, and day 145\r\n",
      "\r\n",
      "%%bash\r\n",
      "\r\n",
      "methylpy DMRfind \\\r\n",
      "--allc-files /gscratch/scrubbed/strigg/analyses/20190925/allc_EPI-41_S38.tsv.gz \\\r\n",
      "/gscratch/scrubbed/strigg/analyses/20190925/allc_EPI-42_S39.tsv.gz \\\r\n",
      "/gscratch/scrubbed/strigg/analyses/20190925/allc_EPI-43_S40.tsv.gz \\\r\n",
      "/gscratch/scrubbed/strigg/analyses/20190925/allc_EPI-44_S41.tsv.gz \\\r\n",
      "/gscratch/scrubbed/strigg/analyses/20190925/allc_EPI-119_S31.tsv.gz \\\r\n",
      "/gscratch/scrubbed/strigg/analyses/20190925/allc_EPI-120_S32.tsv.gz \\\r\n",
      "/gscratch/scrubbed/strigg/analyses/20190925/allc_EPI-135_S35.tsv.gz \\\r\n",
      "/gscratch/scrubbed/strigg/analyses/20190925/allc_EPI-136_S36.tsv.gz \\\r\n",
      "/gscratch/scrubbed/strigg/analyses/20190925/allc_EPI-151_S2.tsv.gz \\\r\n",
      "/gscratch/scrubbed/strigg/analyses/20190925/allc_EPI-152_S3.tsv.gz \\\r\n",
      "/gscratch/scrubbed/strigg/analyses/20190925/allc_EPI-153_S4.tsv.gz \\\r\n",
      "/gscratch/scrubbed/strigg/analyses/20190925/allc_EPI-154_S5.tsv.gz \\\r\n",
      "/gscratch/scrubbed/strigg/analyses/20190925/allc_EPI-181_S16.tsv.gz \\\r\n",
      "/gscratch/scrubbed/strigg/analyses/20190925/allc_EPI-182_S17.tsv.gz \\\r\n",
      "/gscratch/scrubbed/strigg/analyses/20190925/allc_EPI-184_S18.tsv.gz \\\r\n",
      "/gscratch/scrubbed/strigg/analyses/20190925/allc_EPI-185_S19.tsv.gz \\\r\n",
      "--samples EPI-41 EPI-42 EPI-43 EPI-44 EPI-119 EPI-120 EPI-135 EPI-136 EPI-151 EPI-152 EPI-153 EPI-154 EPI-181 EPI-182 EPI-184 EPI-185 \\\r\n",
      "--mc-type \"CGN\" \\\r\n",
      "--num-procs 8 \\\r\n",
      "--min-cov 5 \\\r\n",
      "--output-prefix amb_AllTimes_DMR250bp_MCmax25_cov5x \\\r\n",
      "--mc-max-dist 25 \\\r\n",
      "--dmr-max-dist 250 \\\r\n",
      "--min-num-dms 3 \\\r\n",
      "--sample-category 0 0 0 0 1 1 1 1 2 2 2 2 3 3 3 3 \r\n",
      "\r\n",
      "\r\n",
      "\r\n",
      "# For table S2, compare pH treatments at Day 10\r\n",
      "methylpy DMRfind \\\r\n",
      "--allc-files /gscratch/scrubbed/strigg/analyses/20190925/allc_EPI-103_S27.tsv.gz \\\r\n",
      "/gscratch/scrubbed/strigg/analyses/20190925/allc_EPI-104_S28.tsv.gz \\\r\n",
      "/gscratch/scrubbed/strigg/analyses/20190925/allc_EPI-111_S29.tsv.gz \\\r\n",
      "/gscratch/scrubbed/strigg/analyses/20190925/allc_EPI-113_S30.tsv.gz \\\r\n",
      "/gscratch/scrubbed/strigg/analyses/20190925/allc_EPI-119_S31.tsv.gz \\\r\n",
      "/gscratch/scrubbed/strigg/analyses/20190925/allc_EPI-120_S32.tsv.gz \\\r\n",
      "/gscratch/scrubbed/strigg/analyses/20190925/allc_EPI-135_S35.tsv.gz \\\r\n",
      "/gscratch/scrubbed/strigg/analyses/20190925/allc_EPI-136_S36.tsv.gz \\\r\n",
      "/gscratch/scrubbed/strigg/analyses/20190925/allc_EPI-127_S33.tsv.gz \\\r\n",
      "/gscratch/scrubbed/strigg/analyses/20190925/allc_EPI-128_S34.tsv.gz \\\r\n",
      "/gscratch/scrubbed/strigg/analyses/20190925/allc_EPI-143_S37.tsv.gz \\\r\n",
      "/gscratch/scrubbed/strigg/analyses/20190925/allc_EPI-145_S38.tsv.gz \\\r\n",
      "--samples EPI-103 EPI-104 EPI-111 EPI-113 EPI-119 EPI-120 EPI-135 EPI-136 EPI-127 EPI-128 EPI-143 EPI-145 \\\r\n",
      "--mc-type \"CGN\" \\\r\n",
      "--num-procs 8 \\\r\n",
      "--min-cov 5 \\\r\n",
      "--output-prefix day10_AllpH_DMR250bp_MCmax25_cov5x \\\r\n",
      "--mc-max-dist 25 \\\r\n",
      "--dmr-max-dist 250 \\\r\n",
      "--min-num-dms 3 \\\r\n",
      "--sample-category 0 0 1 1 2 2 2 2 0 0 1 1 \r\n",
      "\r\n",
      "\r\n",
      "\r\n",
      "# For table S3, compare pH treatments at Day 135\r\n",
      "%%bash\r\n",
      "\r\n",
      "methylpy DMRfind \\\r\n",
      "--allc-files /gscratch/scrubbed/strigg/analyses/20190925/allc_EPI-151_S2.tsv.gz \\\r\n",
      "/gscratch/scrubbed/strigg/analyses/20190925/allc_EPI-152_S3.tsv.gz \\\r\n",
      "/gscratch/scrubbed/strigg/analyses/20190925/allc_EPI-153_S4.tsv.gz \\\r\n",
      "/gscratch/scrubbed/strigg/analyses/20190925/allc_EPI-154_S5.tsv.gz \\\r\n",
      "/gscratch/scrubbed/strigg/analyses/20190925/allc_EPI-159_S6.tsv.gz \\\r\n",
      "/gscratch/scrubbed/strigg/analyses/20190925/allc_EPI-160_S7.tsv.gz \\\r\n",
      "/gscratch/scrubbed/strigg/analyses/20190925/allc_EPI-161_S8.tsv.gz \\\r\n",
      "/gscratch/scrubbed/strigg/analyses/20190925/allc_EPI-162_S9.tsv.gz \\\r\n",
      "/gscratch/scrubbed/strigg/analyses/20190925/allc_EPI-167_S10.tsv.gz \\\r\n",
      "/gscratch/scrubbed/strigg/analyses/20190925/allc_EPI-168_S11.tsv.gz \\\r\n",
      "/gscratch/scrubbed/strigg/analyses/20190925/allc_EPI-169_S12.tsv.gz \\\r\n",
      "/gscratch/scrubbed/strigg/analyses/20190925/allc_EPI-170_S13.tsv.gz \\\r\n",
      "--samples EPI-151 EPI-152 EPI-153 EPI-154 EPI-159 EPI-160 EPI-161 EPI-162 EPI-167 EPI-168 EPI-169 EPI-170 \\\r\n",
      "--mc-type \"CGN\" \\\r\n",
      "--num-procs 8 \\\r\n",
      "--min-cov 5 \\\r\n",
      "--output-prefix day135_AllpH_DMR250bp_MCmax25_cov5x \\\r\n",
      "--mc-max-dist 25 \\\r\n",
      "--dmr-max-dist 250 \\\r\n",
      "--min-num-dms 3 \\\r\n",
      "--sample-category 0 0 0 0 1 1 1 1 2 2 2 2 \r\n",
      "\r\n",
      "# For table S4, compare pH treatments at Day 145\r\n",
      "%%bash\r\n",
      "\r\n",
      "methylpy DMRfind \\\r\n",
      "--allc-files /gscratch/scrubbed/strigg/analyses/20190925/allc_EPI-175_S14.tsv.gz \\\r\n",
      "/gscratch/scrubbed/strigg/analyses/20190925/allc_EPI-176_S15.tsv.gz \\\r\n",
      "/gscratch/scrubbed/strigg/analyses/20190925/allc_EPI-181_S16.tsv.gz \\\r\n",
      "/gscratch/scrubbed/strigg/analyses/20190925/allc_EPI-182_S17.tsv.gz \\\r\n",
      "/gscratch/scrubbed/strigg/analyses/20190925/allc_EPI-184_S18.tsv.gz \\\r\n",
      "/gscratch/scrubbed/strigg/analyses/20190925/allc_EPI-185_S19.tsv.gz \\\r\n",
      "/gscratch/scrubbed/strigg/analyses/20190925/allc_EPI-187_S20.tsv.gz \\\r\n",
      "/gscratch/scrubbed/strigg/analyses/20190925/allc_EPI-188_S21.tsv.gz \\\r\n",
      "/gscratch/scrubbed/strigg/analyses/20190925/allc_EPI-193_S22.tsv.gz \\\r\n",
      "/gscratch/scrubbed/strigg/analyses/20190925/allc_EPI-194_S23.tsv.gz \\\r\n",
      "/gscratch/scrubbed/strigg/analyses/20190925/allc_EPI-199_S24.tsv.gz \\\r\n",
      "/gscratch/scrubbed/strigg/analyses/20190925/allc_EPI-200_S25.tsv.gz \\\r\n",
      "/gscratch/scrubbed/strigg/analyses/20190925/allc_EPI-205_S26.tsv.gz \\\r\n",
      "/gscratch/scrubbed/strigg/analyses/20190925/allc_EPI-206_S27.tsv.gz \\\r\n",
      "/gscratch/scrubbed/strigg/analyses/20190925/allc_EPI-208_S28.tsv.gz \\\r\n",
      "/gscratch/scrubbed/strigg/analyses/20190925/allc_EPI-209_S29.tsv.gz \\\r\n",
      "/gscratch/scrubbed/strigg/analyses/20190925/allc_EPI-214_S30.tsv.gz \\\r\n",
      "/gscratch/scrubbed/strigg/analyses/20190925/allc_EPI-215_S31.tsv.gz \\\r\n",
      "/gscratch/scrubbed/strigg/analyses/20190925/allc_EPI-220_S32.tsv.gz \\\r\n",
      "/gscratch/scrubbed/strigg/analyses/20190925/allc_EPI-221_S33.tsv.gz \\\r\n",
      "/gscratch/scrubbed/strigg/analyses/20190925/allc_EPI-226_S34.tsv.gz \\\r\n",
      "/gscratch/scrubbed/strigg/analyses/20190925/allc_EPI-227_S35.tsv.gz \\\r\n",
      "/gscratch/scrubbed/strigg/analyses/20190925/allc_EPI-229_S36.tsv.gz \\\r\n",
      "/gscratch/scrubbed/strigg/analyses/20190925/allc_EPI-230_S37.tsv.gz \\\r\n",
      "--samples EPI-175 EPI-176 EPI-181 EPI-182 EPI-184 EPI-185 EPI-187 EPI-188 EPI-193 EPI-194 EPI-199 EPI-200 EPI-205 EPI-206 EPI-208 EPI-209 EPI-214 EPI-215 EPI-220 EPI-221 EPI-226 EPI-227 EPI-229 EPI-230 \\\r\n",
      "--mc-type \"CGN\" \\\r\n",
      "--num-procs 8 \\\r\n",
      "--min-cov 5 \\\r\n",
      "--output-prefix day145_AllpH_DMR250bp_MCmax25_cov5x \\\r\n",
      "--mc-max-dist 25 \\\r\n",
      "--dmr-max-dist 250 \\\r\n",
      "--min-num-dms 3 \\\r\n",
      "--sample-category 0 0 1 1 1 1 2 2 0 0 2 2 3 3 4 4 5 5 5 5 3 3 4 4 \r\n",
      "\r\n"
     ]
    }
   ],
   "source": [
    "!cat /Volumes/web/metacarcinus/mox_jobs/20191024_DMRfind_allEPI_25bp.sh"
   ]
  },
  {
   "cell_type": "code",
   "execution_count": null,
   "metadata": {
    "collapsed": true
   },
   "outputs": [],
   "source": [
    "#preview script that generated Dec 22 results;\n",
    "#this was run from jupyter notebook here:\n",
    "#https://github.com/shellytrigg/Shelly_Pgenerosa/blob/master/analyses/20191222_GlobalMethylation_5x_CpGs.ipynb"
   ]
  },
  {
   "cell_type": "code",
   "execution_count": null,
   "metadata": {
    "collapsed": true
   },
   "outputs": [],
   "source": [
    "#compare DMR output using bedtools "
   ]
  },
  {
   "cell_type": "code",
   "execution_count": 3,
   "metadata": {},
   "outputs": [
    {
     "name": "stdout",
     "output_type": "stream",
     "text": [
      "chrPGA_scaffold10__49_contigs__length_53961475\t5150645\t5150727\t3\t.\t-1\t-1\t.\n",
      "chrPGA_scaffold10__49_contigs__length_53961475\t11112809\t11112925\t5\t.\t-1\t-1\t.\n",
      "chrPGA_scaffold10__49_contigs__length_53961475\t18556588\t18556610\t6\t.\t-1\t-1\t.\n",
      "chrPGA_scaffold10__49_contigs__length_53961475\t19149222\t19149262\t3\t.\t-1\t-1\t.\n",
      "chrPGA_scaffold10__49_contigs__length_53961475\t23859927\t23859940\t3\t.\t-1\t-1\t.\n",
      "chrPGA_scaffold10__49_contigs__length_53961475\t23948375\t23948381\t3\t.\t-1\t-1\t.\n",
      "chrPGA_scaffold10__49_contigs__length_53961475\t24772691\t24772703\t3\t.\t-1\t-1\t.\n",
      "chrPGA_scaffold10__49_contigs__length_53961475\t31386383\t31386406\t7\t.\t-1\t-1\t.\n",
      "chrPGA_scaffold11__79_contigs__length_51449921\t9728144\t9728176\t4\t.\t-1\t-1\t.\n",
      "chrPGA_scaffold11__79_contigs__length_51449921\t11487620\t11487657\t7\t.\t-1\t-1\t.\n",
      "chrPGA_scaffold11__79_contigs__length_51449921\t34242235\t34242266\t4\t.\t-1\t-1\t.\n",
      "chrPGA_scaffold11__79_contigs__length_51449921\t34247795\t34247800\t4\t.\t-1\t-1\t.\n",
      "chrPGA_scaffold11__79_contigs__length_51449921\t34763441\t34763466\t4\t.\t-1\t-1\t.\n",
      "chrPGA_scaffold11__79_contigs__length_51449921\t39829431\t39829448\t4\t.\t-1\t-1\t.\n",
      "chrPGA_scaffold11__79_contigs__length_51449921\t46397198\t46397224\t4\t.\t-1\t-1\t.\n",
      "chrPGA_scaffold11__79_contigs__length_51449921\t46672493\t46672516\t3\t.\t-1\t-1\t.\n",
      "chrPGA_scaffold12__71_contigs__length_50438331\t787416\t787438\t4\t.\t-1\t-1\t.\n",
      "chrPGA_scaffold12__71_contigs__length_50438331\t11980045\t11980184\t4\t.\t-1\t-1\t.\n",
      "chrPGA_scaffold12__71_contigs__length_50438331\t19368076\t19368101\t3\t.\t-1\t-1\t.\n",
      "chrPGA_scaffold12__71_contigs__length_50438331\t21584071\t21584084\t3\t.\t-1\t-1\t.\n",
      "chrPGA_scaffold12__71_contigs__length_50438331\t38602268\t38602309\t4\t.\t-1\t-1\t.\n",
      "chrPGA_scaffold12__71_contigs__length_50438331\t43253816\t43253856\t9\t.\t-1\t-1\t.\n",
      "chrPGA_scaffold12__71_contigs__length_50438331\t44184004\t44184061\t7\t.\t-1\t-1\t.\n",
      "chrPGA_scaffold12__71_contigs__length_50438331\t44762794\t44762845\t5\t.\t-1\t-1\t.\n",
      "chrPGA_scaffold12__71_contigs__length_50438331\t47546257\t47546284\t4\t.\t-1\t-1\t.\n",
      "chrPGA_scaffold13__52_contigs__length_44396874\t6615895\t6615915\t4\t.\t-1\t-1\t.\n",
      "chrPGA_scaffold13__52_contigs__length_44396874\t6828680\t6828828\t5\t.\t-1\t-1\t.\n",
      "chrPGA_scaffold13__52_contigs__length_44396874\t17937025\t17937054\t5\t.\t-1\t-1\t.\n",
      "chrPGA_scaffold13__52_contigs__length_44396874\t21046992\t21046998\t3\t.\t-1\t-1\t.\n",
      "chrPGA_scaffold13__52_contigs__length_44396874\t26409941\t26410077\t3\t.\t-1\t-1\t.\n",
      "chrPGA_scaffold13__52_contigs__length_44396874\t29658551\t29658600\t4\t.\t-1\t-1\t.\n",
      "chrPGA_scaffold14__91_contigs__length_45393038\t25557\t25584\t8\t.\t-1\t-1\t.\n",
      "chrPGA_scaffold14__91_contigs__length_45393038\t6531973\t6532045\t6\t.\t-1\t-1\t.\n",
      "chrPGA_scaffold14__91_contigs__length_45393038\t7730449\t7730471\t3\t.\t-1\t-1\t.\n",
      "chrPGA_scaffold14__91_contigs__length_45393038\t8042652\t8042675\t4\t.\t-1\t-1\t.\n",
      "chrPGA_scaffold14__91_contigs__length_45393038\t10585565\t10585813\t21\t.\t-1\t-1\t.\n",
      "chrPGA_scaffold14__91_contigs__length_45393038\t12470851\t12470924\t3\t.\t-1\t-1\t.\n",
      "chrPGA_scaffold14__91_contigs__length_45393038\t12480522\t12480639\t6\t.\t-1\t-1\t.\n",
      "chrPGA_scaffold14__91_contigs__length_45393038\t12987474\t12987555\t6\t.\t-1\t-1\t.\n",
      "chrPGA_scaffold14__91_contigs__length_45393038\t22686453\t22686463\t3\t.\t-1\t-1\t.\n",
      "chrPGA_scaffold14__91_contigs__length_45393038\t31438621\t31438647\t3\t.\t-1\t-1\t.\n",
      "chrPGA_scaffold14__91_contigs__length_45393038\t33171214\t33171231\t3\t.\t-1\t-1\t.\n",
      "chrPGA_scaffold14__91_contigs__length_45393038\t34995745\t34995940\t7\t.\t-1\t-1\t.\n",
      "chrPGA_scaffold14__91_contigs__length_45393038\t36243797\t36243802\t3\t.\t-1\t-1\t.\n",
      "chrPGA_scaffold14__91_contigs__length_45393038\t40138005\t40138058\t4\t.\t-1\t-1\t.\n",
      "chrPGA_scaffold14__91_contigs__length_45393038\t40161320\t40161375\t5\t.\t-1\t-1\t.\n",
      "chrPGA_scaffold14__91_contigs__length_45393038\t42765591\t42765638\t3\t.\t-1\t-1\t.\n",
      "chrPGA_scaffold14__91_contigs__length_45393038\t44580865\t44580904\t3\t.\t-1\t-1\t.\n",
      "chrPGA_scaffold14__91_contigs__length_45393038\t44611259\t44611363\t9\t.\t-1\t-1\t.\n",
      "chrPGA_scaffold15__101_contigs__length_47938513\t5358697\t5358721\t3\t.\t-1\t-1\t.\n",
      "chrPGA_scaffold15__101_contigs__length_47938513\t12287576\t12287701\t10\t.\t-1\t-1\t.\n",
      "chrPGA_scaffold15__101_contigs__length_47938513\t13192848\t13192857\t3\t.\t-1\t-1\t.\n",
      "chrPGA_scaffold15__101_contigs__length_47938513\t14982647\t14982735\t14\t.\t-1\t-1\t.\n",
      "chrPGA_scaffold15__101_contigs__length_47938513\t15987797\t15987826\t4\t.\t-1\t-1\t.\n",
      "chrPGA_scaffold15__101_contigs__length_47938513\t18998010\t18998253\t8\t.\t-1\t-1\t.\n",
      "chrPGA_scaffold15__101_contigs__length_47938513\t19914627\t19914688\t9\t.\t-1\t-1\t.\n",
      "chrPGA_scaffold15__101_contigs__length_47938513\t20737117\t20737138\t3\t.\t-1\t-1\t.\n",
      "chrPGA_scaffold15__101_contigs__length_47938513\t22068622\t22068719\t3\t.\t-1\t-1\t.\n",
      "chrPGA_scaffold15__101_contigs__length_47938513\t30863729\t30863802\t10\t.\t-1\t-1\t.\n",
      "chrPGA_scaffold15__101_contigs__length_47938513\t34783679\t34783836\t5\t.\t-1\t-1\t.\n",
      "chrPGA_scaffold15__101_contigs__length_47938513\t37344489\t37344500\t4\t.\t-1\t-1\t.\n",
      "chrPGA_scaffold15__101_contigs__length_47938513\t42313181\t42313202\t3\t.\t-1\t-1\t.\n",
      "chrPGA_scaffold16__33_contigs__length_31980953\t12136999\t12137023\t3\t.\t-1\t-1\t.\n",
      "chrPGA_scaffold16__33_contigs__length_31980953\t18266847\t18266865\t3\t.\t-1\t-1\t.\n",
      "chrPGA_scaffold16__33_contigs__length_31980953\t28312202\t28312213\t4\t.\t-1\t-1\t.\n",
      "chrPGA_scaffold16__33_contigs__length_31980953\t29062504\t29062525\t3\t.\t-1\t-1\t.\n",
      "chrPGA_scaffold16__33_contigs__length_31980953\t31393617\t31393633\t4\t.\t-1\t-1\t.\n",
      "chrPGA_scaffold17__51_contigs__length_34923512\t1185753\t1185791\t5\t.\t-1\t-1\t.\n",
      "chrPGA_scaffold17__51_contigs__length_34923512\t1967784\t1967800\t3\t.\t-1\t-1\t.\n",
      "chrPGA_scaffold17__51_contigs__length_34923512\t11292319\t11292339\t3\t.\t-1\t-1\t.\n",
      "chrPGA_scaffold17__51_contigs__length_34923512\t11867262\t11867284\t3\t.\t-1\t-1\t.\n",
      "chrPGA_scaffold17__51_contigs__length_34923512\t13046384\t13046459\t4\t.\t-1\t-1\t.\n",
      "chrPGA_scaffold17__51_contigs__length_34923512\t18011211\t18011231\t4\t.\t-1\t-1\t.\n",
      "chrPGA_scaffold17__51_contigs__length_34923512\t18367848\t18367978\t4\t.\t-1\t-1\t.\n",
      "chrPGA_scaffold17__51_contigs__length_34923512\t23305776\t23305965\t3\t.\t-1\t-1\t.\n",
      "chrPGA_scaffold17__51_contigs__length_34923512\t31551504\t31551537\t3\t.\t-1\t-1\t.\n",
      "chrPGA_scaffold18__69_contigs__length_27737463\t6871207\t6871237\t4\t.\t-1\t-1\t.\n",
      "chrPGA_scaffold18__69_contigs__length_27737463\t7435390\t7435406\t3\t.\t-1\t-1\t.\n",
      "chrPGA_scaffold18__69_contigs__length_27737463\t7455868\t7455966\t6\t.\t-1\t-1\t.\n",
      "chrPGA_scaffold18__69_contigs__length_27737463\t7678211\t7678224\t3\t.\t-1\t-1\t.\n",
      "chrPGA_scaffold18__69_contigs__length_27737463\t18100874\t18101059\t7\t.\t-1\t-1\t.\n",
      "chrPGA_scaffold18__69_contigs__length_27737463\t18578183\t18578210\t5\t.\t-1\t-1\t.\n",
      "chrPGA_scaffold18__69_contigs__length_27737463\t18593687\t18593713\t4\t.\t-1\t-1\t.\n",
      "chrPGA_scaffold1__77_contigs__length_89643857\t11668050\t11668066\t3\t.\t-1\t-1\t.\n",
      "chrPGA_scaffold1__77_contigs__length_89643857\t11669156\t11669739\t9\t.\t-1\t-1\t.\n",
      "chrPGA_scaffold1__77_contigs__length_89643857\t20076241\t20076255\t3\t.\t-1\t-1\t.\n",
      "chrPGA_scaffold1__77_contigs__length_89643857\t21613910\t21613960\t4\t.\t-1\t-1\t.\n",
      "chrPGA_scaffold1__77_contigs__length_89643857\t34112463\t34112503\t4\t.\t-1\t-1\t.\n",
      "chrPGA_scaffold1__77_contigs__length_89643857\t34970599\t34970624\t4\t.\t-1\t-1\t.\n",
      "chrPGA_scaffold1__77_contigs__length_89643857\t34979509\t34979790\t5\t.\t-1\t-1\t.\n",
      "chrPGA_scaffold1__77_contigs__length_89643857\t41850783\t41850792\t4\t.\t-1\t-1\t.\n",
      "chrPGA_scaffold1__77_contigs__length_89643857\t45423489\t45423520\t6\t.\t-1\t-1\t.\n",
      "chrPGA_scaffold1__77_contigs__length_89643857\t46746229\t46746500\t11\t.\t-1\t-1\t.\n",
      "chrPGA_scaffold1__77_contigs__length_89643857\t47239836\t47240081\t7\t.\t-1\t-1\t.\n",
      "chrPGA_scaffold1__77_contigs__length_89643857\t48029844\t48029968\t5\t.\t-1\t-1\t.\n",
      "chrPGA_scaffold1__77_contigs__length_89643857\t57599107\t57599196\t6\t.\t-1\t-1\t.\n",
      "chrPGA_scaffold1__77_contigs__length_89643857\t60340881\t60341112\t9\t.\t-1\t-1\t.\n",
      "chrPGA_scaffold1__77_contigs__length_89643857\t60960398\t60960420\t5\t.\t-1\t-1\t.\n",
      "chrPGA_scaffold1__77_contigs__length_89643857\t74290008\t74290022\t4\t.\t-1\t-1\t.\n",
      "chrPGA_scaffold1__77_contigs__length_89643857\t85926710\t85926766\t3\t.\t-1\t-1\t.\n",
      "chrPGA_scaffold2__36_contigs__length_69596280\t937037\t937048\t3\t.\t-1\t-1\t.\n",
      "chrPGA_scaffold2__36_contigs__length_69596280\t4234851\t4234905\t4\t.\t-1\t-1\t.\n",
      "chrPGA_scaffold2__36_contigs__length_69596280\t10192581\t10192642\t3\t.\t-1\t-1\t.\n",
      "chrPGA_scaffold2__36_contigs__length_69596280\t22902107\t22902158\t7\t.\t-1\t-1\t.\n",
      "chrPGA_scaffold2__36_contigs__length_69596280\t25356228\t25356411\t10\t.\t-1\t-1\t.\n",
      "chrPGA_scaffold2__36_contigs__length_69596280\t28281839\t28281862\t3\t.\t-1\t-1\t.\n",
      "chrPGA_scaffold2__36_contigs__length_69596280\t41442653\t41442687\t5\t.\t-1\t-1\t.\n",
      "chrPGA_scaffold2__36_contigs__length_69596280\t45655610\t45655635\t3\t.\t-1\t-1\t.\n",
      "chrPGA_scaffold2__36_contigs__length_69596280\t47298598\t47298691\t5\t.\t-1\t-1\t.\n",
      "chrPGA_scaffold2__36_contigs__length_69596280\t52934429\t52934468\t3\t.\t-1\t-1\t.\n",
      "chrPGA_scaffold2__36_contigs__length_69596280\t53313177\t53313190\t3\t.\t-1\t-1\t.\n",
      "chrPGA_scaffold2__36_contigs__length_69596280\t60394487\t60394596\t5\t.\t-1\t-1\t.\n",
      "chrPGA_scaffold2__36_contigs__length_69596280\t69282712\t69282736\t4\t.\t-1\t-1\t.\n",
      "chrPGA_scaffold2__36_contigs__length_69596280\t69508004\t69508059\t7\t.\t-1\t-1\t.\n",
      "chrPGA_scaffold3__111_contigs__length_57743597\t132826\t132842\t3\t.\t-1\t-1\t.\n",
      "chrPGA_scaffold3__111_contigs__length_57743597\t1386897\t1386979\t6\t.\t-1\t-1\t.\n",
      "chrPGA_scaffold3__111_contigs__length_57743597\t19219372\t19219393\t6\t.\t-1\t-1\t.\n",
      "chrPGA_scaffold3__111_contigs__length_57743597\t21766367\t21766582\t8\t.\t-1\t-1\t.\n",
      "chrPGA_scaffold3__111_contigs__length_57743597\t23345893\t23345936\t6\t.\t-1\t-1\t.\n",
      "chrPGA_scaffold3__111_contigs__length_57743597\t28868107\t28868141\t6\t.\t-1\t-1\t.\n",
      "chrPGA_scaffold3__111_contigs__length_57743597\t29471895\t29471922\t3\t.\t-1\t-1\t.\n",
      "chrPGA_scaffold3__111_contigs__length_57743597\t32329147\t32329181\t7\t.\t-1\t-1\t.\n",
      "chrPGA_scaffold3__111_contigs__length_57743597\t32974526\t32974587\t6\t.\t-1\t-1\t.\n",
      "chrPGA_scaffold3__111_contigs__length_57743597\t34117503\t34117629\t6\t.\t-1\t-1\t.\n",
      "chrPGA_scaffold3__111_contigs__length_57743597\t42863021\t42863033\t3\t.\t-1\t-1\t.\n",
      "chrPGA_scaffold3__111_contigs__length_57743597\t43414264\t43414297\t4\t.\t-1\t-1\t.\n",
      "chrPGA_scaffold3__111_contigs__length_57743597\t43759847\t43759959\t9\t.\t-1\t-1\t.\n",
      "chrPGA_scaffold3__111_contigs__length_57743597\t47868037\t47868247\t7\t.\t-1\t-1\t.\n",
      "chrPGA_scaffold3__111_contigs__length_57743597\t47906686\t47906745\t7\t.\t-1\t-1\t.\n",
      "chrPGA_scaffold3__111_contigs__length_57743597\t50708751\t50708762\t4\t.\t-1\t-1\t.\n",
      "chrPGA_scaffold3__111_contigs__length_57743597\t52818957\t52819009\t3\t.\t-1\t-1\t.\n",
      "chrPGA_scaffold3__111_contigs__length_57743597\t54310799\t54310984\t9\t.\t-1\t-1\t.\n",
      "chrPGA_scaffold4__129_contigs__length_65288255\t4219394\t4219536\t5\t.\t-1\t-1\t.\n",
      "chrPGA_scaffold4__129_contigs__length_65288255\t4220452\t4220649\t7\t.\t-1\t-1\t.\n",
      "chrPGA_scaffold4__129_contigs__length_65288255\t6316051\t6316081\t9\t.\t-1\t-1\t.\n",
      "chrPGA_scaffold4__129_contigs__length_65288255\t9906809\t9906853\t6\t.\t-1\t-1\t.\n",
      "chrPGA_scaffold4__129_contigs__length_65288255\t10439182\t10439195\t6\t.\t-1\t-1\t.\n",
      "chrPGA_scaffold4__129_contigs__length_65288255\t12562428\t12562539\t7\t.\t-1\t-1\t.\n",
      "chrPGA_scaffold4__129_contigs__length_65288255\t19023656\t19023701\t8\t.\t-1\t-1\t.\n",
      "chrPGA_scaffold4__129_contigs__length_65288255\t19617235\t19617253\t3\t.\t-1\t-1\t.\n",
      "chrPGA_scaffold4__129_contigs__length_65288255\t21534381\t21534401\t4\t.\t-1\t-1\t.\n",
      "chrPGA_scaffold4__129_contigs__length_65288255\t23633195\t23633302\t8\t.\t-1\t-1\t.\n",
      "chrPGA_scaffold4__129_contigs__length_65288255\t25116033\t25116070\t3\t.\t-1\t-1\t.\n",
      "chrPGA_scaffold4__129_contigs__length_65288255\t29855256\t29855268\t3\t.\t-1\t-1\t.\n",
      "chrPGA_scaffold4__129_contigs__length_65288255\t33416048\t33416071\t5\t.\t-1\t-1\t.\n",
      "chrPGA_scaffold4__129_contigs__length_65288255\t44647963\t44648044\t6\t.\t-1\t-1\t.\n",
      "chrPGA_scaffold4__129_contigs__length_65288255\t45510380\t45510400\t4\t.\t-1\t-1\t.\n",
      "chrPGA_scaffold4__129_contigs__length_65288255\t45511269\t45511301\t3\t.\t-1\t-1\t.\n",
      "chrPGA_scaffold4__129_contigs__length_65288255\t49779177\t49779190\t3\t.\t-1\t-1\t.\n",
      "chrPGA_scaffold4__129_contigs__length_65288255\t54331959\t54332025\t6\t.\t-1\t-1\t.\n",
      "chrPGA_scaffold4__129_contigs__length_65288255\t55958651\t55958683\t6\t.\t-1\t-1\t.\n",
      "chrPGA_scaffold5__109_contigs__length_67248332\t13865802\t13865836\t4\t.\t-1\t-1\t.\n",
      "chrPGA_scaffold5__109_contigs__length_67248332\t15696631\t15696694\t5\t.\t-1\t-1\t.\n",
      "chrPGA_scaffold5__109_contigs__length_67248332\t16689278\t16689302\t5\t.\t-1\t-1\t.\n",
      "chrPGA_scaffold5__109_contigs__length_67248332\t21359431\t21359570\t3\t.\t-1\t-1\t.\n",
      "chrPGA_scaffold5__109_contigs__length_67248332\t21399463\t21399707\t7\t.\t-1\t-1\t.\n",
      "chrPGA_scaffold5__109_contigs__length_67248332\t21513415\t21513443\t12\t.\t-1\t-1\t.\n",
      "chrPGA_scaffold5__109_contigs__length_67248332\t23540727\t23540758\t3\t.\t-1\t-1\t.\n",
      "chrPGA_scaffold5__109_contigs__length_67248332\t28183037\t28183093\t3\t.\t-1\t-1\t.\n",
      "chrPGA_scaffold5__109_contigs__length_67248332\t29553817\t29553898\t4\t.\t-1\t-1\t.\n",
      "chrPGA_scaffold5__109_contigs__length_67248332\t29597991\t29598014\t3\t.\t-1\t-1\t.\n",
      "chrPGA_scaffold5__109_contigs__length_67248332\t31505403\t31505450\t5\t.\t-1\t-1\t.\n",
      "chrPGA_scaffold5__109_contigs__length_67248332\t31564378\t31564411\t9\t.\t-1\t-1\t.\n",
      "chrPGA_scaffold5__109_contigs__length_67248332\t34314166\t34314182\t3\t.\t-1\t-1\t.\n",
      "chrPGA_scaffold5__109_contigs__length_67248332\t34417336\t34417370\t4\t.\t-1\t-1\t.\n",
      "chrPGA_scaffold5__109_contigs__length_67248332\t47724287\t47724308\t3\t.\t-1\t-1\t.\n",
      "chrPGA_scaffold5__109_contigs__length_67248332\t49645619\t49645816\t7\t.\t-1\t-1\t.\n",
      "chrPGA_scaffold5__109_contigs__length_67248332\t51691992\t51692003\t4\t.\t-1\t-1\t.\n",
      "chrPGA_scaffold5__109_contigs__length_67248332\t52786283\t52786328\t4\t.\t-1\t-1\t.\n",
      "chrPGA_scaffold5__109_contigs__length_67248332\t60845357\t60845386\t6\t.\t-1\t-1\t.\n",
      "chrPGA_scaffold6__104_contigs__length_61759565\t108949\t108959\t3\t.\t-1\t-1\t.\n",
      "chrPGA_scaffold6__104_contigs__length_61759565\t3400505\t3400524\t4\t.\t-1\t-1\t.\n",
      "chrPGA_scaffold6__104_contigs__length_61759565\t4748419\t4748437\t3\t.\t-1\t-1\t.\n",
      "chrPGA_scaffold6__104_contigs__length_61759565\t8461342\t8461359\t3\t.\t-1\t-1\t.\n",
      "chrPGA_scaffold6__104_contigs__length_61759565\t10182992\t10183320\t24\t.\t-1\t-1\t.\n",
      "chrPGA_scaffold6__104_contigs__length_61759565\t11137677\t11137836\t8\t.\t-1\t-1\t.\n",
      "chrPGA_scaffold6__104_contigs__length_61759565\t11188668\t11188688\t4\t.\t-1\t-1\t.\n",
      "chrPGA_scaffold6__104_contigs__length_61759565\t16280319\t16280349\t3\t.\t-1\t-1\t.\n",
      "chrPGA_scaffold6__104_contigs__length_61759565\t16956938\t16957005\t5\t.\t-1\t-1\t.\n",
      "chrPGA_scaffold6__104_contigs__length_61759565\t31009809\t31009844\t5\t.\t-1\t-1\t.\n",
      "chrPGA_scaffold6__104_contigs__length_61759565\t34452041\t34452071\t8\t.\t-1\t-1\t.\n",
      "chrPGA_scaffold6__104_contigs__length_61759565\t36204229\t36204267\t6\t.\t-1\t-1\t.\n",
      "chrPGA_scaffold6__104_contigs__length_61759565\t37280959\t37281041\t7\t.\t-1\t-1\t.\n",
      "chrPGA_scaffold6__104_contigs__length_61759565\t40281641\t40281658\t4\t.\t-1\t-1\t.\n",
      "chrPGA_scaffold6__104_contigs__length_61759565\t42546653\t42546788\t11\t.\t-1\t-1\t.\n",
      "chrPGA_scaffold6__104_contigs__length_61759565\t42570838\t42570904\t6\t.\t-1\t-1\t.\n",
      "chrPGA_scaffold6__104_contigs__length_61759565\t43375341\t43375353\t3\t.\t-1\t-1\t.\n",
      "chrPGA_scaffold6__104_contigs__length_61759565\t43948883\t43948888\t4\t.\t-1\t-1\t.\n",
      "chrPGA_scaffold6__104_contigs__length_61759565\t46440083\t46440094\t4\t.\t-1\t-1\t.\n",
      "chrPGA_scaffold6__104_contigs__length_61759565\t49757425\t49757472\t3\t.\t-1\t-1\t.\n",
      "chrPGA_scaffold6__104_contigs__length_61759565\t52910785\t52910870\t4\t.\t-1\t-1\t.\n",
      "chrPGA_scaffold6__104_contigs__length_61759565\t59693363\t59693499\t4\t.\t-1\t-1\t.\n",
      "chrPGA_scaffold6__104_contigs__length_61759565\t59697154\t59697303\t4\t.\t-1\t-1\t.\n",
      "chrPGA_scaffold6__104_contigs__length_61759565\t60749877\t60749910\t3\t.\t-1\t-1\t.\n",
      "chrPGA_scaffold7__69_contigs__length_43120122\t2369602\t2369951\t15\t.\t-1\t-1\t.\n",
      "chrPGA_scaffold7__69_contigs__length_43120122\t6910344\t6910357\t4\t.\t-1\t-1\t.\n",
      "chrPGA_scaffold7__69_contigs__length_43120122\t13230074\t13230094\t5\t.\t-1\t-1\t.\n",
      "chrPGA_scaffold7__69_contigs__length_43120122\t19201855\t19201987\t4\t.\t-1\t-1\t.\n",
      "chrPGA_scaffold7__69_contigs__length_43120122\t25034717\t25034855\t5\t.\t-1\t-1\t.\n",
      "chrPGA_scaffold7__69_contigs__length_43120122\t41120772\t41120787\t3\t.\t-1\t-1\t.\n",
      "chrPGA_scaffold8__63_contigs__length_61151155\t5043817\t5043829\t6\t.\t-1\t-1\t.\n",
      "chrPGA_scaffold8__63_contigs__length_61151155\t5102160\t5102182\t4\t.\t-1\t-1\t.\n",
      "chrPGA_scaffold8__63_contigs__length_61151155\t5859492\t5859517\t4\t.\t-1\t-1\t.\n",
      "chrPGA_scaffold8__63_contigs__length_61151155\t6443039\t6443061\t3\t.\t-1\t-1\t.\n",
      "chrPGA_scaffold8__63_contigs__length_61151155\t14008334\t14008345\t4\t.\t-1\t-1\t.\n",
      "chrPGA_scaffold8__63_contigs__length_61151155\t17972364\t17972379\t3\t.\t-1\t-1\t.\n",
      "chrPGA_scaffold8__63_contigs__length_61151155\t34552448\t34552471\t3\t.\t-1\t-1\t.\n",
      "chrPGA_scaffold8__63_contigs__length_61151155\t41839483\t41839491\t3\t.\t-1\t-1\t.\n",
      "chrPGA_scaffold8__63_contigs__length_61151155\t42975733\t42975943\t5\t.\t-1\t-1\t.\n",
      "chrPGA_scaffold8__63_contigs__length_61151155\t43149714\t43149841\t5\t.\t-1\t-1\t.\n",
      "chrPGA_scaffold8__63_contigs__length_61151155\t55761725\t55761744\t4\t.\t-1\t-1\t.\n",
      "chrPGA_scaffold8__63_contigs__length_61151155\t55786711\t55786780\t4\t.\t-1\t-1\t.\n",
      "chrPGA_scaffold8__63_contigs__length_61151155\t55809540\t55809595\t3\t.\t-1\t-1\t.\n",
      "chrPGA_scaffold8__63_contigs__length_61151155\t60438367\t60438390\t3\t.\t-1\t-1\t.\n",
      "chrPGA_scaffold9__45_contigs__length_38581958\t1259628\t1259669\t6\t.\t-1\t-1\t.\n",
      "chrPGA_scaffold9__45_contigs__length_38581958\t3903516\t3903738\t10\t.\t-1\t-1\t.\n",
      "chrPGA_scaffold9__45_contigs__length_38581958\t7553875\t7553947\t8\t.\t-1\t-1\t.\n",
      "chrPGA_scaffold9__45_contigs__length_38581958\t8925260\t8925359\t7\t.\t-1\t-1\t.\n",
      "chrPGA_scaffold9__45_contigs__length_38581958\t16825863\t16825891\t3\t.\t-1\t-1\t.\n",
      "chrPGA_scaffold9__45_contigs__length_38581958\t21159873\t21159960\t4\t.\t-1\t-1\t.\n",
      "chrPGA_scaffold9__45_contigs__length_38581958\t21168762\t21168798\t3\t.\t-1\t-1\t.\n",
      "chrPGA_scaffold9__45_contigs__length_38581958\t21171129\t21171141\t3\t.\t-1\t-1\t.\n",
      "chrPGA_scaffold9__45_contigs__length_38581958\t32354165\t32354260\t6\t.\t-1\t-1\t.\n",
      "chrPGA_scaffold9__45_contigs__length_38581958\t32676736\t32676930\t4\t.\t-1\t-1\t.\n",
      "chrPGA_scaffold9__45_contigs__length_38581958\t32890943\t32891259\t6\t.\t-1\t-1\t.\n"
     ]
    }
   ],
   "source": [
    "%%bash\n",
    "/Users/Shelly/anaconda3/bin/closestBed \\\n",
    "-a /Volumes/web/metacarcinus/Pgenerosa/analyses/20191024_25bp/amb_AllTimes_DMR250bp_MCmax25_cov5x_rms_results_collapsed.tsv.DMR.bed \\\n",
    "-b /Volumes/web/metacarcinus/Pgenerosa/analyses/20191222/amb_AllTimes_DMR250bp_MCmax25_cov5x_rms_results_collapsed.tsv.DMR.bed \\\n",
    "-wb"
   ]
  },
  {
   "cell_type": "code",
   "execution_count": 4,
   "metadata": {},
   "outputs": [
    {
     "name": "stdout",
     "output_type": "stream",
     "text": [
      "chrPGA_scaffold10__49_contigs__length_53961475\t5150645\t5150727\t3\r\n",
      "chrPGA_scaffold10__49_contigs__length_53961475\t11112809\t11112925\t5\r\n",
      "chrPGA_scaffold10__49_contigs__length_53961475\t18556588\t18556610\t6\r\n",
      "chrPGA_scaffold10__49_contigs__length_53961475\t19149222\t19149262\t3\r\n",
      "chrPGA_scaffold10__49_contigs__length_53961475\t23859927\t23859940\t3\r\n",
      "chrPGA_scaffold10__49_contigs__length_53961475\t23948375\t23948381\t3\r\n",
      "chrPGA_scaffold10__49_contigs__length_53961475\t24772691\t24772703\t3\r\n",
      "chrPGA_scaffold10__49_contigs__length_53961475\t31386383\t31386406\t7\r\n",
      "chrPGA_scaffold11__79_contigs__length_51449921\t9728144\t9728176\t4\r\n",
      "chrPGA_scaffold11__79_contigs__length_51449921\t11487620\t11487657\t7\r\n"
     ]
    }
   ],
   "source": [
    "!head /Volumes/web/metacarcinus/Pgenerosa/analyses/20191024_25bp/amb_AllTimes_DMR250bp_MCmax25_cov5x_rms_results_collapsed.tsv.DMR.bed "
   ]
  },
  {
   "cell_type": "code",
   "execution_count": 5,
   "metadata": {},
   "outputs": [
    {
     "name": "stdout",
     "output_type": "stream",
     "text": [
      "chrScaffold_01\t191265\t191290\t3\r\n",
      "chrScaffold_01\t420238\t420252\t3\r\n",
      "chrScaffold_01\t660957\t660981\t4\r\n",
      "chrScaffold_01\t3343137\t3343145\t3\r\n",
      "chrScaffold_01\t5569670\t5569896\t11\r\n",
      "chrScaffold_01\t7779603\t7779637\t4\r\n",
      "chrScaffold_01\t8310645\t8310721\t3\r\n",
      "chrScaffold_01\t8516631\t8516652\t6\r\n",
      "chrScaffold_01\t9786512\t9786613\t5\r\n",
      "chrScaffold_01\t9886785\t9886804\t3\r\n"
     ]
    }
   ],
   "source": [
    "!head /Volumes/web/metacarcinus/Pgenerosa/analyses/20191222/amb_AllTimes_DMR250bp_MCmax25_cov5x_rms_results_collapsed.tsv.DMR.bed "
   ]
  },
  {
   "cell_type": "code",
   "execution_count": null,
   "metadata": {
    "collapsed": true
   },
   "outputs": [],
   "source": [
    "#get the genome and index files from OFS "
   ]
  },
  {
   "cell_type": "code",
   "execution_count": 13,
   "metadata": {},
   "outputs": [
    {
     "name": "stdout",
     "output_type": "stream",
     "text": [
      "  % Total    % Received % Xferd  Average Speed   Time    Time     Time  Current\n",
      "                                 Dload  Upload   Total   Spent    Left  Speed\n",
      "100  913M  100  913M    0     0  7380k      0  0:02:06  0:02:06 --:--:-- 7579k   0     0  6097k      0  0:02:33  0:00:07  0:02:26 7304k751M    0     0  7510k      0  0:02:04  0:01:42  0:00:22 9122k\n"
     ]
    }
   ],
   "source": [
    "!curl 'https://files.osf.io/v1/resources/yem8n/providers/osfstorage/5dc1b12896af97000c190257?action=download&direct&version=1' \\\n",
    "> /Volumes/web/metacarcinus/Pgenerosa/GENOMES/Panopea-generosa-v1.0.fa"
   ]
  },
  {
   "cell_type": "code",
   "execution_count": 14,
   "metadata": {},
   "outputs": [
    {
     "name": "stdout",
     "output_type": "stream",
     "text": [
      "  % Total    % Received % Xferd  Average Speed   Time    Time     Time  Current\n",
      "                                 Dload  Upload   Total   Spent    Left  Speed\n",
      "100   658  100   658    0     0    395      0  0:00:01  0:00:01 --:--:--   395\n"
     ]
    }
   ],
   "source": [
    "!curl 'https://files.osf.io/v1/resources/yem8n/providers/osfstorage/5dc1b029bb21c7000c86caf2?action=download&direct&version=2' \\\n",
    "> /Volumes/web/metacarcinus/Pgenerosa/GENOMES/Panopea-generosa-v1.0.fa.fai"
   ]
  },
  {
   "cell_type": "code",
   "execution_count": null,
   "metadata": {
    "collapsed": true
   },
   "outputs": [],
   "source": [
    "#create a new dir for bed files with old scaffold names"
   ]
  },
  {
   "cell_type": "code",
   "execution_count": 6,
   "metadata": {
    "collapsed": true
   },
   "outputs": [],
   "source": [
    "!mkdir 20200311_compare_DMRfind_output"
   ]
  },
  {
   "cell_type": "code",
   "execution_count": 18,
   "metadata": {},
   "outputs": [
    {
     "name": "stdout",
     "output_type": "stream",
     "text": [
      "Scaffold_10\t5150645\t5150727\t3\r\n",
      "Scaffold_10\t11112809\t11112925\t5\r\n",
      "Scaffold_10\t18556588\t18556610\t6\r\n",
      "Scaffold_10\t19149222\t19149262\t3\r\n",
      "Scaffold_10\t23859927\t23859940\t3\r\n",
      "Scaffold_10\t23948375\t23948381\t3\r\n",
      "Scaffold_10\t24772691\t24772703\t3\r\n",
      "Scaffold_10\t31386383\t31386406\t7\r\n",
      "Scaffold_11\t9728144\t9728176\t4\r\n",
      "Scaffold_11\t11487620\t11487657\t7\r\n"
     ]
    }
   ],
   "source": [
    "!cat /Volumes/web/metacarcinus/Pgenerosa/analyses/20191024_25bp/amb_AllTimes_DMR250bp_MCmax25_cov5x_rms_results_collapsed.tsv.DMR.bed  |\\\n",
    "awk -F\"\\t\" '{sub(/__.*/,\"\",$1);sub(/d/,\"d_\",$1);sub(/chrPGA_s/,\"S\",$1);print $1\"\\t\"$2\"\\t\"$3\"\\t\"$4}' |\\\n",
    "head"
   ]
  },
  {
   "cell_type": "code",
   "execution_count": 19,
   "metadata": {
    "collapsed": true
   },
   "outputs": [],
   "source": [
    "!cat /Volumes/web/metacarcinus/Pgenerosa/analyses/20191024_25bp/amb_AllTimes_DMR250bp_MCmax25_cov5x_rms_results_collapsed.tsv.DMR.bed  |\\\n",
    "awk -F\"\\t\" '{sub(/__.*/,\"\",$1);sub(/d/,\"d_\",$1);sub(/PGA_s/,\"S\",$1);print $1\"\\t\"$2\"\\t\"$3\"\\t\"$4}' \\\n",
    "> 20200311_compare_DMRfind_output/Oct24_amb_AllTimes_DMR250bp_MCmax25_cov5x_rms_results_collapsed.tsv.DMR.bed\n"
   ]
  },
  {
   "cell_type": "code",
   "execution_count": null,
   "metadata": {
    "collapsed": true
   },
   "outputs": [],
   "source": []
  },
  {
   "cell_type": "code",
   "execution_count": null,
   "metadata": {
    "collapsed": true
   },
   "outputs": [],
   "source": []
  },
  {
   "cell_type": "code",
   "execution_count": null,
   "metadata": {
    "collapsed": true
   },
   "outputs": [],
   "source": []
  }
 ],
 "metadata": {
  "kernelspec": {
   "display_name": "Python 3",
   "language": "python",
   "name": "python3"
  },
  "language_info": {
   "codemirror_mode": {
    "name": "ipython",
    "version": 3
   },
   "file_extension": ".py",
   "mimetype": "text/x-python",
   "name": "python",
   "nbconvert_exporter": "python",
   "pygments_lexer": "ipython3",
   "version": "3.6.8"
  }
 },
 "nbformat": 4,
 "nbformat_minor": 2
}
