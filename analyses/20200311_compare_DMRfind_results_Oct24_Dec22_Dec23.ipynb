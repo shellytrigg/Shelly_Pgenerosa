{
 "cells": [
  {
   "cell_type": "code",
   "execution_count": null,
   "metadata": {
    "collapsed": true
   },
   "outputs": [],
   "source": [
    "#compare results from DMRfind where the only difference is the input files used. \n",
    "#Oct 24 did not use destranded data and Dec 22 did"
   ]
  },
  {
   "cell_type": "code",
   "execution_count": null,
   "metadata": {
    "collapsed": true
   },
   "outputs": [],
   "source": [
    "#preview script that generated Oct 24 results"
   ]
  },
  {
   "cell_type": "code",
   "execution_count": 1,
   "metadata": {},
   "outputs": [
    {
     "name": "stdout",
     "output_type": "stream",
     "text": [
      "#!/bin/bash\r\n",
      "## Job Name\r\n",
      "#SBATCH --job-name=DMRfindAllEPIsamples\r\n",
      "## Allocation Definition \r\n",
      "#SBATCH --account=srlab\r\n",
      "#SBATCH --partition=srlab\r\n",
      "## Resources\r\n",
      "## Nodes \r\n",
      "#SBATCH --nodes=1\r\n",
      "## Walltime (days-hours:minutes:seconds format)\r\n",
      "#SBATCH --time=4-23:30:00\r\n",
      "## Memory per node\r\n",
      "#SBATCH --mem=100G\r\n",
      "##turn on e-mail notification\r\n",
      "#SBATCH --mail-type=ALL\r\n",
      "#SBATCH --mail-user=strigg@uw.edu\r\n",
      "## Specify the working directory for this job\r\n",
      "#SBATCH --chdir=/gscratch/scrubbed/strigg/analyses/20191024_25bp\r\n",
      "\r\n",
      "#run DMR find requiring 3 groups/treatment have coverage and DMS = 25bp\r\n",
      "\r\n",
      "# For table S1, compare day 0, day 10, day 135, and day 145\r\n",
      "\r\n",
      "%%bash\r\n",
      "\r\n",
      "methylpy DMRfind \\\r\n",
      "--allc-files /gscratch/scrubbed/strigg/analyses/20190925/allc_EPI-41_S38.tsv.gz \\\r\n",
      "/gscratch/scrubbed/strigg/analyses/20190925/allc_EPI-42_S39.tsv.gz \\\r\n",
      "/gscratch/scrubbed/strigg/analyses/20190925/allc_EPI-43_S40.tsv.gz \\\r\n",
      "/gscratch/scrubbed/strigg/analyses/20190925/allc_EPI-44_S41.tsv.gz \\\r\n",
      "/gscratch/scrubbed/strigg/analyses/20190925/allc_EPI-119_S31.tsv.gz \\\r\n",
      "/gscratch/scrubbed/strigg/analyses/20190925/allc_EPI-120_S32.tsv.gz \\\r\n",
      "/gscratch/scrubbed/strigg/analyses/20190925/allc_EPI-135_S35.tsv.gz \\\r\n",
      "/gscratch/scrubbed/strigg/analyses/20190925/allc_EPI-136_S36.tsv.gz \\\r\n",
      "/gscratch/scrubbed/strigg/analyses/20190925/allc_EPI-151_S2.tsv.gz \\\r\n",
      "/gscratch/scrubbed/strigg/analyses/20190925/allc_EPI-152_S3.tsv.gz \\\r\n",
      "/gscratch/scrubbed/strigg/analyses/20190925/allc_EPI-153_S4.tsv.gz \\\r\n",
      "/gscratch/scrubbed/strigg/analyses/20190925/allc_EPI-154_S5.tsv.gz \\\r\n",
      "/gscratch/scrubbed/strigg/analyses/20190925/allc_EPI-181_S16.tsv.gz \\\r\n",
      "/gscratch/scrubbed/strigg/analyses/20190925/allc_EPI-182_S17.tsv.gz \\\r\n",
      "/gscratch/scrubbed/strigg/analyses/20190925/allc_EPI-184_S18.tsv.gz \\\r\n",
      "/gscratch/scrubbed/strigg/analyses/20190925/allc_EPI-185_S19.tsv.gz \\\r\n",
      "--samples EPI-41 EPI-42 EPI-43 EPI-44 EPI-119 EPI-120 EPI-135 EPI-136 EPI-151 EPI-152 EPI-153 EPI-154 EPI-181 EPI-182 EPI-184 EPI-185 \\\r\n",
      "--mc-type \"CGN\" \\\r\n",
      "--num-procs 8 \\\r\n",
      "--min-cov 5 \\\r\n",
      "--output-prefix amb_AllTimes_DMR250bp_MCmax25_cov5x \\\r\n",
      "--mc-max-dist 25 \\\r\n",
      "--dmr-max-dist 250 \\\r\n",
      "--min-num-dms 3 \\\r\n",
      "--sample-category 0 0 0 0 1 1 1 1 2 2 2 2 3 3 3 3 \r\n",
      "\r\n",
      "\r\n",
      "\r\n",
      "# For table S2, compare pH treatments at Day 10\r\n",
      "methylpy DMRfind \\\r\n",
      "--allc-files /gscratch/scrubbed/strigg/analyses/20190925/allc_EPI-103_S27.tsv.gz \\\r\n",
      "/gscratch/scrubbed/strigg/analyses/20190925/allc_EPI-104_S28.tsv.gz \\\r\n",
      "/gscratch/scrubbed/strigg/analyses/20190925/allc_EPI-111_S29.tsv.gz \\\r\n",
      "/gscratch/scrubbed/strigg/analyses/20190925/allc_EPI-113_S30.tsv.gz \\\r\n",
      "/gscratch/scrubbed/strigg/analyses/20190925/allc_EPI-119_S31.tsv.gz \\\r\n",
      "/gscratch/scrubbed/strigg/analyses/20190925/allc_EPI-120_S32.tsv.gz \\\r\n",
      "/gscratch/scrubbed/strigg/analyses/20190925/allc_EPI-135_S35.tsv.gz \\\r\n",
      "/gscratch/scrubbed/strigg/analyses/20190925/allc_EPI-136_S36.tsv.gz \\\r\n",
      "/gscratch/scrubbed/strigg/analyses/20190925/allc_EPI-127_S33.tsv.gz \\\r\n",
      "/gscratch/scrubbed/strigg/analyses/20190925/allc_EPI-128_S34.tsv.gz \\\r\n",
      "/gscratch/scrubbed/strigg/analyses/20190925/allc_EPI-143_S37.tsv.gz \\\r\n",
      "/gscratch/scrubbed/strigg/analyses/20190925/allc_EPI-145_S38.tsv.gz \\\r\n",
      "--samples EPI-103 EPI-104 EPI-111 EPI-113 EPI-119 EPI-120 EPI-135 EPI-136 EPI-127 EPI-128 EPI-143 EPI-145 \\\r\n",
      "--mc-type \"CGN\" \\\r\n",
      "--num-procs 8 \\\r\n",
      "--min-cov 5 \\\r\n",
      "--output-prefix day10_AllpH_DMR250bp_MCmax25_cov5x \\\r\n",
      "--mc-max-dist 25 \\\r\n",
      "--dmr-max-dist 250 \\\r\n",
      "--min-num-dms 3 \\\r\n",
      "--sample-category 0 0 1 1 2 2 2 2 0 0 1 1 \r\n",
      "\r\n",
      "\r\n",
      "\r\n",
      "# For table S3, compare pH treatments at Day 135\r\n",
      "%%bash\r\n",
      "\r\n",
      "methylpy DMRfind \\\r\n",
      "--allc-files /gscratch/scrubbed/strigg/analyses/20190925/allc_EPI-151_S2.tsv.gz \\\r\n",
      "/gscratch/scrubbed/strigg/analyses/20190925/allc_EPI-152_S3.tsv.gz \\\r\n",
      "/gscratch/scrubbed/strigg/analyses/20190925/allc_EPI-153_S4.tsv.gz \\\r\n",
      "/gscratch/scrubbed/strigg/analyses/20190925/allc_EPI-154_S5.tsv.gz \\\r\n",
      "/gscratch/scrubbed/strigg/analyses/20190925/allc_EPI-159_S6.tsv.gz \\\r\n",
      "/gscratch/scrubbed/strigg/analyses/20190925/allc_EPI-160_S7.tsv.gz \\\r\n",
      "/gscratch/scrubbed/strigg/analyses/20190925/allc_EPI-161_S8.tsv.gz \\\r\n",
      "/gscratch/scrubbed/strigg/analyses/20190925/allc_EPI-162_S9.tsv.gz \\\r\n",
      "/gscratch/scrubbed/strigg/analyses/20190925/allc_EPI-167_S10.tsv.gz \\\r\n",
      "/gscratch/scrubbed/strigg/analyses/20190925/allc_EPI-168_S11.tsv.gz \\\r\n",
      "/gscratch/scrubbed/strigg/analyses/20190925/allc_EPI-169_S12.tsv.gz \\\r\n",
      "/gscratch/scrubbed/strigg/analyses/20190925/allc_EPI-170_S13.tsv.gz \\\r\n",
      "--samples EPI-151 EPI-152 EPI-153 EPI-154 EPI-159 EPI-160 EPI-161 EPI-162 EPI-167 EPI-168 EPI-169 EPI-170 \\\r\n",
      "--mc-type \"CGN\" \\\r\n",
      "--num-procs 8 \\\r\n",
      "--min-cov 5 \\\r\n",
      "--output-prefix day135_AllpH_DMR250bp_MCmax25_cov5x \\\r\n",
      "--mc-max-dist 25 \\\r\n",
      "--dmr-max-dist 250 \\\r\n",
      "--min-num-dms 3 \\\r\n",
      "--sample-category 0 0 0 0 1 1 1 1 2 2 2 2 \r\n",
      "\r\n",
      "# For table S4, compare pH treatments at Day 145\r\n",
      "%%bash\r\n",
      "\r\n",
      "methylpy DMRfind \\\r\n",
      "--allc-files /gscratch/scrubbed/strigg/analyses/20190925/allc_EPI-175_S14.tsv.gz \\\r\n",
      "/gscratch/scrubbed/strigg/analyses/20190925/allc_EPI-176_S15.tsv.gz \\\r\n",
      "/gscratch/scrubbed/strigg/analyses/20190925/allc_EPI-181_S16.tsv.gz \\\r\n",
      "/gscratch/scrubbed/strigg/analyses/20190925/allc_EPI-182_S17.tsv.gz \\\r\n",
      "/gscratch/scrubbed/strigg/analyses/20190925/allc_EPI-184_S18.tsv.gz \\\r\n",
      "/gscratch/scrubbed/strigg/analyses/20190925/allc_EPI-185_S19.tsv.gz \\\r\n",
      "/gscratch/scrubbed/strigg/analyses/20190925/allc_EPI-187_S20.tsv.gz \\\r\n",
      "/gscratch/scrubbed/strigg/analyses/20190925/allc_EPI-188_S21.tsv.gz \\\r\n",
      "/gscratch/scrubbed/strigg/analyses/20190925/allc_EPI-193_S22.tsv.gz \\\r\n",
      "/gscratch/scrubbed/strigg/analyses/20190925/allc_EPI-194_S23.tsv.gz \\\r\n",
      "/gscratch/scrubbed/strigg/analyses/20190925/allc_EPI-199_S24.tsv.gz \\\r\n",
      "/gscratch/scrubbed/strigg/analyses/20190925/allc_EPI-200_S25.tsv.gz \\\r\n",
      "/gscratch/scrubbed/strigg/analyses/20190925/allc_EPI-205_S26.tsv.gz \\\r\n",
      "/gscratch/scrubbed/strigg/analyses/20190925/allc_EPI-206_S27.tsv.gz \\\r\n",
      "/gscratch/scrubbed/strigg/analyses/20190925/allc_EPI-208_S28.tsv.gz \\\r\n",
      "/gscratch/scrubbed/strigg/analyses/20190925/allc_EPI-209_S29.tsv.gz \\\r\n",
      "/gscratch/scrubbed/strigg/analyses/20190925/allc_EPI-214_S30.tsv.gz \\\r\n",
      "/gscratch/scrubbed/strigg/analyses/20190925/allc_EPI-215_S31.tsv.gz \\\r\n",
      "/gscratch/scrubbed/strigg/analyses/20190925/allc_EPI-220_S32.tsv.gz \\\r\n",
      "/gscratch/scrubbed/strigg/analyses/20190925/allc_EPI-221_S33.tsv.gz \\\r\n",
      "/gscratch/scrubbed/strigg/analyses/20190925/allc_EPI-226_S34.tsv.gz \\\r\n",
      "/gscratch/scrubbed/strigg/analyses/20190925/allc_EPI-227_S35.tsv.gz \\\r\n",
      "/gscratch/scrubbed/strigg/analyses/20190925/allc_EPI-229_S36.tsv.gz \\\r\n",
      "/gscratch/scrubbed/strigg/analyses/20190925/allc_EPI-230_S37.tsv.gz \\\r\n",
      "--samples EPI-175 EPI-176 EPI-181 EPI-182 EPI-184 EPI-185 EPI-187 EPI-188 EPI-193 EPI-194 EPI-199 EPI-200 EPI-205 EPI-206 EPI-208 EPI-209 EPI-214 EPI-215 EPI-220 EPI-221 EPI-226 EPI-227 EPI-229 EPI-230 \\\r\n",
      "--mc-type \"CGN\" \\\r\n",
      "--num-procs 8 \\\r\n",
      "--min-cov 5 \\\r\n",
      "--output-prefix day145_AllpH_DMR250bp_MCmax25_cov5x \\\r\n",
      "--mc-max-dist 25 \\\r\n",
      "--dmr-max-dist 250 \\\r\n",
      "--min-num-dms 3 \\\r\n",
      "--sample-category 0 0 1 1 1 1 2 2 0 0 2 2 3 3 4 4 5 5 5 5 3 3 4 4 \r\n",
      "\r\n"
     ]
    }
   ],
   "source": [
    "!cat /Volumes/web/metacarcinus/mox_jobs/20191024_DMRfind_allEPI_25bp.sh"
   ]
  },
  {
   "cell_type": "code",
   "execution_count": null,
   "metadata": {
    "collapsed": true
   },
   "outputs": [],
   "source": [
    "#preview script that generated Dec 22 results;\n",
    "#this was run from jupyter notebook here:\n",
    "#https://github.com/shellytrigg/Shelly_Pgenerosa/blob/master/analyses/20191222_GlobalMethylation_5x_CpGs.ipynb"
   ]
  },
  {
   "cell_type": "code",
   "execution_count": 4,
   "metadata": {},
   "outputs": [
    {
     "name": "stdout",
     "output_type": "stream",
     "text": [
      "chrPGA_scaffold10__49_contigs__length_53961475\t5150645\t5150727\t3\r\n",
      "chrPGA_scaffold10__49_contigs__length_53961475\t11112809\t11112925\t5\r\n",
      "chrPGA_scaffold10__49_contigs__length_53961475\t18556588\t18556610\t6\r\n",
      "chrPGA_scaffold10__49_contigs__length_53961475\t19149222\t19149262\t3\r\n",
      "chrPGA_scaffold10__49_contigs__length_53961475\t23859927\t23859940\t3\r\n",
      "chrPGA_scaffold10__49_contigs__length_53961475\t23948375\t23948381\t3\r\n",
      "chrPGA_scaffold10__49_contigs__length_53961475\t24772691\t24772703\t3\r\n",
      "chrPGA_scaffold10__49_contigs__length_53961475\t31386383\t31386406\t7\r\n",
      "chrPGA_scaffold11__79_contigs__length_51449921\t9728144\t9728176\t4\r\n",
      "chrPGA_scaffold11__79_contigs__length_51449921\t11487620\t11487657\t7\r\n"
     ]
    }
   ],
   "source": [
    "!head /Volumes/web/metacarcinus/Pgenerosa/analyses/20191024_25bp/amb_AllTimes_DMR250bp_MCmax25_cov5x_rms_results_collapsed.tsv.DMR.bed "
   ]
  },
  {
   "cell_type": "code",
   "execution_count": 5,
   "metadata": {},
   "outputs": [
    {
     "name": "stdout",
     "output_type": "stream",
     "text": [
      "chrScaffold_01\t191265\t191290\t3\r\n",
      "chrScaffold_01\t420238\t420252\t3\r\n",
      "chrScaffold_01\t660957\t660981\t4\r\n",
      "chrScaffold_01\t3343137\t3343145\t3\r\n",
      "chrScaffold_01\t5569670\t5569896\t11\r\n",
      "chrScaffold_01\t7779603\t7779637\t4\r\n",
      "chrScaffold_01\t8310645\t8310721\t3\r\n",
      "chrScaffold_01\t8516631\t8516652\t6\r\n",
      "chrScaffold_01\t9786512\t9786613\t5\r\n",
      "chrScaffold_01\t9886785\t9886804\t3\r\n"
     ]
    }
   ],
   "source": [
    "!head /Volumes/web/metacarcinus/Pgenerosa/analyses/20191222/amb_AllTimes_DMR250bp_MCmax25_cov5x_rms_results_collapsed.tsv.DMR.bed "
   ]
  },
  {
   "cell_type": "code",
   "execution_count": null,
   "metadata": {
    "collapsed": true
   },
   "outputs": [],
   "source": [
    "#get the genome and index files from OFS "
   ]
  },
  {
   "cell_type": "code",
   "execution_count": 13,
   "metadata": {},
   "outputs": [
    {
     "name": "stdout",
     "output_type": "stream",
     "text": [
      "  % Total    % Received % Xferd  Average Speed   Time    Time     Time  Current\n",
      "                                 Dload  Upload   Total   Spent    Left  Speed\n",
      "100  913M  100  913M    0     0  7380k      0  0:02:06  0:02:06 --:--:-- 7579k   0     0  6097k      0  0:02:33  0:00:07  0:02:26 7304k751M    0     0  7510k      0  0:02:04  0:01:42  0:00:22 9122k\n"
     ]
    }
   ],
   "source": [
    "!curl 'https://files.osf.io/v1/resources/yem8n/providers/osfstorage/5dc1b12896af97000c190257?action=download&direct&version=1' \\\n",
    "> /Volumes/web/metacarcinus/Pgenerosa/GENOMES/Panopea-generosa-v1.0.fa"
   ]
  },
  {
   "cell_type": "code",
   "execution_count": 14,
   "metadata": {},
   "outputs": [
    {
     "name": "stdout",
     "output_type": "stream",
     "text": [
      "  % Total    % Received % Xferd  Average Speed   Time    Time     Time  Current\n",
      "                                 Dload  Upload   Total   Spent    Left  Speed\n",
      "100   658  100   658    0     0    395      0  0:00:01  0:00:01 --:--:--   395\n"
     ]
    }
   ],
   "source": [
    "!curl 'https://files.osf.io/v1/resources/yem8n/providers/osfstorage/5dc1b029bb21c7000c86caf2?action=download&direct&version=2' \\\n",
    "> /Volumes/web/metacarcinus/Pgenerosa/GENOMES/Panopea-generosa-v1.0.fa.fai"
   ]
  },
  {
   "cell_type": "code",
   "execution_count": null,
   "metadata": {
    "collapsed": true
   },
   "outputs": [],
   "source": [
    "#create a new dir for bed files with old scaffold names"
   ]
  },
  {
   "cell_type": "code",
   "execution_count": 6,
   "metadata": {
    "collapsed": true
   },
   "outputs": [],
   "source": [
    "!mkdir 20200311_compare_DMRfind_output"
   ]
  },
  {
   "cell_type": "code",
   "execution_count": 39,
   "metadata": {},
   "outputs": [
    {
     "name": "stdout",
     "output_type": "stream",
     "text": [
      "chrScaffold_10\t5150645\t5150727\t3\r\n",
      "chrScaffold_10\t11112809\t11112925\t5\r\n",
      "chrScaffold_10\t18556588\t18556610\t6\r\n",
      "chrScaffold_10\t19149222\t19149262\t3\r\n",
      "chrScaffold_10\t23859927\t23859940\t3\r\n",
      "chrScaffold_10\t23948375\t23948381\t3\r\n",
      "chrScaffold_10\t24772691\t24772703\t3\r\n",
      "chrScaffold_10\t31386383\t31386406\t7\r\n",
      "chrScaffold_11\t9728144\t9728176\t4\r\n",
      "chrScaffold_11\t11487620\t11487657\t7\r\n",
      "chrScaffold_11\t34242235\t34242266\t4\r\n",
      "chrScaffold_11\t34247795\t34247800\t4\r\n",
      "chrScaffold_11\t34763441\t34763466\t4\r\n",
      "chrScaffold_11\t39829431\t39829448\t4\r\n",
      "chrScaffold_11\t46397198\t46397224\t4\r\n",
      "chrScaffold_11\t46672493\t46672516\t3\r\n",
      "chrScaffold_12\t787416\t787438\t4\r\n",
      "chrScaffold_12\t11980045\t11980184\t4\r\n",
      "chrScaffold_12\t19368076\t19368101\t3\r\n",
      "chrScaffold_12\t21584071\t21584084\t3\r\n",
      "chrScaffold_12\t38602268\t38602309\t4\r\n",
      "chrScaffold_12\t43253816\t43253856\t9\r\n",
      "chrScaffold_12\t44184004\t44184061\t7\r\n",
      "chrScaffold_12\t44762794\t44762845\t5\r\n",
      "chrScaffold_12\t47546257\t47546284\t4\r\n",
      "chrScaffold_13\t6615895\t6615915\t4\r\n",
      "chrScaffold_13\t6828680\t6828828\t5\r\n",
      "chrScaffold_13\t17937025\t17937054\t5\r\n",
      "chrScaffold_13\t21046992\t21046998\t3\r\n",
      "chrScaffold_13\t26409941\t26410077\t3\r\n",
      "chrScaffold_13\t29658551\t29658600\t4\r\n",
      "chrScaffold_14\t25557\t25584\t8\r\n",
      "chrScaffold_14\t6531973\t6532045\t6\r\n",
      "chrScaffold_14\t7730449\t7730471\t3\r\n",
      "chrScaffold_14\t8042652\t8042675\t4\r\n",
      "chrScaffold_14\t10585565\t10585813\t21\r\n",
      "chrScaffold_14\t12470851\t12470924\t3\r\n",
      "chrScaffold_14\t12480522\t12480639\t6\r\n",
      "chrScaffold_14\t12987474\t12987555\t6\r\n",
      "chrScaffold_14\t22686453\t22686463\t3\r\n",
      "chrScaffold_14\t31438621\t31438647\t3\r\n",
      "chrScaffold_14\t33171214\t33171231\t3\r\n",
      "chrScaffold_14\t34995745\t34995940\t7\r\n",
      "chrScaffold_14\t36243797\t36243802\t3\r\n",
      "chrScaffold_14\t40138005\t40138058\t4\r\n",
      "chrScaffold_14\t40161320\t40161375\t5\r\n",
      "chrScaffold_14\t42765591\t42765638\t3\r\n",
      "chrScaffold_14\t44580865\t44580904\t3\r\n",
      "chrScaffold_14\t44611259\t44611363\t9\r\n",
      "chrScaffold_15\t5358697\t5358721\t3\r\n",
      "chrScaffold_15\t12287576\t12287701\t10\r\n",
      "chrScaffold_15\t13192848\t13192857\t3\r\n",
      "chrScaffold_15\t14982647\t14982735\t14\r\n",
      "chrScaffold_15\t15987797\t15987826\t4\r\n",
      "chrScaffold_15\t18998010\t18998253\t8\r\n",
      "chrScaffold_15\t19914627\t19914688\t9\r\n",
      "chrScaffold_15\t20737117\t20737138\t3\r\n",
      "chrScaffold_15\t22068622\t22068719\t3\r\n",
      "chrScaffold_15\t30863729\t30863802\t10\r\n",
      "chrScaffold_15\t34783679\t34783836\t5\r\n",
      "chrScaffold_15\t37344489\t37344500\t4\r\n",
      "chrScaffold_15\t42313181\t42313202\t3\r\n",
      "chrScaffold_16\t12136999\t12137023\t3\r\n",
      "chrScaffold_16\t18266847\t18266865\t3\r\n",
      "chrScaffold_16\t28312202\t28312213\t4\r\n",
      "chrScaffold_16\t29062504\t29062525\t3\r\n",
      "chrScaffold_16\t31393617\t31393633\t4\r\n",
      "chrScaffold_17\t1185753\t1185791\t5\r\n",
      "chrScaffold_17\t1967784\t1967800\t3\r\n",
      "chrScaffold_17\t11292319\t11292339\t3\r\n",
      "chrScaffold_17\t11867262\t11867284\t3\r\n",
      "chrScaffold_17\t13046384\t13046459\t4\r\n",
      "chrScaffold_17\t18011211\t18011231\t4\r\n",
      "chrScaffold_17\t18367848\t18367978\t4\r\n",
      "chrScaffold_17\t23305776\t23305965\t3\r\n",
      "chrScaffold_17\t31551504\t31551537\t3\r\n",
      "chrScaffold_18\t6871207\t6871237\t4\r\n",
      "chrScaffold_18\t7435390\t7435406\t3\r\n",
      "chrScaffold_18\t7455868\t7455966\t6\r\n",
      "chrScaffold_18\t7678211\t7678224\t3\r\n",
      "chrScaffold_18\t18100874\t18101059\t7\r\n",
      "chrScaffold_18\t18578183\t18578210\t5\r\n",
      "chrScaffold_18\t18593687\t18593713\t4\r\n",
      "chrScaffold_01\t11668050\t11668066\t3\r\n",
      "chrScaffold_01\t11669156\t11669739\t9\r\n",
      "chrScaffold_01\t20076241\t20076255\t3\r\n",
      "chrScaffold_01\t21613910\t21613960\t4\r\n",
      "chrScaffold_01\t34112463\t34112503\t4\r\n",
      "chrScaffold_01\t34970599\t34970624\t4\r\n",
      "chrScaffold_01\t34979509\t34979790\t5\r\n",
      "chrScaffold_01\t41850783\t41850792\t4\r\n",
      "chrScaffold_01\t45423489\t45423520\t6\r\n",
      "chrScaffold_01\t46746229\t46746500\t11\r\n",
      "chrScaffold_01\t47239836\t47240081\t7\r\n",
      "chrScaffold_01\t48029844\t48029968\t5\r\n",
      "chrScaffold_01\t57599107\t57599196\t6\r\n",
      "chrScaffold_01\t60340881\t60341112\t9\r\n",
      "chrScaffold_01\t60960398\t60960420\t5\r\n",
      "chrScaffold_01\t74290008\t74290022\t4\r\n",
      "chrScaffold_01\t85926710\t85926766\t3\r\n",
      "chrScaffold_02\t937037\t937048\t3\r\n",
      "chrScaffold_02\t4234851\t4234905\t4\r\n",
      "chrScaffold_02\t10192581\t10192642\t3\r\n",
      "chrScaffold_02\t22902107\t22902158\t7\r\n",
      "chrScaffold_02\t25356228\t25356411\t10\r\n",
      "chrScaffold_02\t28281839\t28281862\t3\r\n",
      "chrScaffold_02\t41442653\t41442687\t5\r\n",
      "chrScaffold_02\t45655610\t45655635\t3\r\n",
      "chrScaffold_02\t47298598\t47298691\t5\r\n",
      "chrScaffold_02\t52934429\t52934468\t3\r\n",
      "chrScaffold_02\t53313177\t53313190\t3\r\n",
      "chrScaffold_02\t60394487\t60394596\t5\r\n",
      "chrScaffold_02\t69282712\t69282736\t4\r\n",
      "chrScaffold_02\t69508004\t69508059\t7\r\n",
      "chrScaffold_03\t132826\t132842\t3\r\n",
      "chrScaffold_03\t1386897\t1386979\t6\r\n",
      "chrScaffold_03\t19219372\t19219393\t6\r\n",
      "chrScaffold_03\t21766367\t21766582\t8\r\n",
      "chrScaffold_03\t23345893\t23345936\t6\r\n",
      "chrScaffold_03\t28868107\t28868141\t6\r\n",
      "chrScaffold_03\t29471895\t29471922\t3\r\n",
      "chrScaffold_03\t32329147\t32329181\t7\r\n",
      "chrScaffold_03\t32974526\t32974587\t6\r\n",
      "chrScaffold_03\t34117503\t34117629\t6\r\n",
      "chrScaffold_03\t42863021\t42863033\t3\r\n",
      "chrScaffold_03\t43414264\t43414297\t4\r\n",
      "chrScaffold_03\t43759847\t43759959\t9\r\n",
      "chrScaffold_03\t47868037\t47868247\t7\r\n",
      "chrScaffold_03\t47906686\t47906745\t7\r\n",
      "chrScaffold_03\t50708751\t50708762\t4\r\n",
      "chrScaffold_03\t52818957\t52819009\t3\r\n",
      "chrScaffold_03\t54310799\t54310984\t9\r\n",
      "chrScaffold_04\t4219394\t4219536\t5\r\n",
      "chrScaffold_04\t4220452\t4220649\t7\r\n",
      "chrScaffold_04\t6316051\t6316081\t9\r\n",
      "chrScaffold_04\t9906809\t9906853\t6\r\n",
      "chrScaffold_04\t10439182\t10439195\t6\r\n",
      "chrScaffold_04\t12562428\t12562539\t7\r\n",
      "chrScaffold_04\t19023656\t19023701\t8\r\n",
      "chrScaffold_04\t19617235\t19617253\t3\r\n",
      "chrScaffold_04\t21534381\t21534401\t4\r\n",
      "chrScaffold_04\t23633195\t23633302\t8\r\n",
      "chrScaffold_04\t25116033\t25116070\t3\r\n",
      "chrScaffold_04\t29855256\t29855268\t3\r\n",
      "chrScaffold_04\t33416048\t33416071\t5\r\n",
      "chrScaffold_04\t44647963\t44648044\t6\r\n",
      "chrScaffold_04\t45510380\t45510400\t4\r\n",
      "chrScaffold_04\t45511269\t45511301\t3\r\n",
      "chrScaffold_04\t49779177\t49779190\t3\r\n",
      "chrScaffold_04\t54331959\t54332025\t6\r\n",
      "chrScaffold_04\t55958651\t55958683\t6\r\n",
      "chrScaffold_05\t13865802\t13865836\t4\r\n",
      "chrScaffold_05\t15696631\t15696694\t5\r\n",
      "chrScaffold_05\t16689278\t16689302\t5\r\n",
      "chrScaffold_05\t21359431\t21359570\t3\r\n",
      "chrScaffold_05\t21399463\t21399707\t7\r\n",
      "chrScaffold_05\t21513415\t21513443\t12\r\n",
      "chrScaffold_05\t23540727\t23540758\t3\r\n",
      "chrScaffold_05\t28183037\t28183093\t3\r\n",
      "chrScaffold_05\t29553817\t29553898\t4\r\n",
      "chrScaffold_05\t29597991\t29598014\t3\r\n",
      "chrScaffold_05\t31505403\t31505450\t5\r\n",
      "chrScaffold_05\t31564378\t31564411\t9\r\n",
      "chrScaffold_05\t34314166\t34314182\t3\r\n",
      "chrScaffold_05\t34417336\t34417370\t4\r\n",
      "chrScaffold_05\t47724287\t47724308\t3\r\n",
      "chrScaffold_05\t49645619\t49645816\t7\r\n",
      "chrScaffold_05\t51691992\t51692003\t4\r\n",
      "chrScaffold_05\t52786283\t52786328\t4\r\n",
      "chrScaffold_05\t60845357\t60845386\t6\r\n",
      "chrScaffold_06\t108949\t108959\t3\r\n",
      "chrScaffold_06\t3400505\t3400524\t4\r\n",
      "chrScaffold_06\t4748419\t4748437\t3\r\n",
      "chrScaffold_06\t8461342\t8461359\t3\r\n",
      "chrScaffold_06\t10182992\t10183320\t24\r\n",
      "chrScaffold_06\t11137677\t11137836\t8\r\n",
      "chrScaffold_06\t11188668\t11188688\t4\r\n",
      "chrScaffold_06\t16280319\t16280349\t3\r\n",
      "chrScaffold_06\t16956938\t16957005\t5\r\n",
      "chrScaffold_06\t31009809\t31009844\t5\r\n",
      "chrScaffold_06\t34452041\t34452071\t8\r\n",
      "chrScaffold_06\t36204229\t36204267\t6\r\n",
      "chrScaffold_06\t37280959\t37281041\t7\r\n",
      "chrScaffold_06\t40281641\t40281658\t4\r\n",
      "chrScaffold_06\t42546653\t42546788\t11\r\n",
      "chrScaffold_06\t42570838\t42570904\t6\r\n",
      "chrScaffold_06\t43375341\t43375353\t3\r\n",
      "chrScaffold_06\t43948883\t43948888\t4\r\n",
      "chrScaffold_06\t46440083\t46440094\t4\r\n",
      "chrScaffold_06\t49757425\t49757472\t3\r\n",
      "chrScaffold_06\t52910785\t52910870\t4\r\n",
      "chrScaffold_06\t59693363\t59693499\t4\r\n",
      "chrScaffold_06\t59697154\t59697303\t4\r\n",
      "chrScaffold_06\t60749877\t60749910\t3\r\n",
      "chrScaffold_07\t2369602\t2369951\t15\r\n",
      "chrScaffold_07\t6910344\t6910357\t4\r\n",
      "chrScaffold_07\t13230074\t13230094\t5\r\n",
      "chrScaffold_07\t19201855\t19201987\t4\r\n",
      "chrScaffold_07\t25034717\t25034855\t5\r\n",
      "chrScaffold_07\t41120772\t41120787\t3\r\n",
      "chrScaffold_08\t5043817\t5043829\t6\r\n",
      "chrScaffold_08\t5102160\t5102182\t4\r\n",
      "chrScaffold_08\t5859492\t5859517\t4\r\n",
      "chrScaffold_08\t6443039\t6443061\t3\r\n",
      "chrScaffold_08\t14008334\t14008345\t4\r\n",
      "chrScaffold_08\t17972364\t17972379\t3\r\n",
      "chrScaffold_08\t34552448\t34552471\t3\r\n",
      "chrScaffold_08\t41839483\t41839491\t3\r\n",
      "chrScaffold_08\t42975733\t42975943\t5\r\n",
      "chrScaffold_08\t43149714\t43149841\t5\r\n",
      "chrScaffold_08\t55761725\t55761744\t4\r\n",
      "chrScaffold_08\t55786711\t55786780\t4\r\n",
      "chrScaffold_08\t55809540\t55809595\t3\r\n",
      "chrScaffold_08\t60438367\t60438390\t3\r\n",
      "chrScaffold_09\t1259628\t1259669\t6\r\n",
      "chrScaffold_09\t3903516\t3903738\t10\r\n",
      "chrScaffold_09\t7553875\t7553947\t8\r\n",
      "chrScaffold_09\t8925260\t8925359\t7\r\n",
      "chrScaffold_09\t16825863\t16825891\t3\r\n",
      "chrScaffold_09\t21159873\t21159960\t4\r\n",
      "chrScaffold_09\t21168762\t21168798\t3\r\n",
      "chrScaffold_09\t21171129\t21171141\t3\r\n",
      "chrScaffold_09\t32354165\t32354260\t6\r\n",
      "chrScaffold_09\t32676736\t32676930\t4\r\n",
      "chrScaffold_09\t32890943\t32891259\t6\r\n"
     ]
    }
   ],
   "source": [
    "!cat /Volumes/web/metacarcinus/Pgenerosa/analyses/20191024_25bp/amb_AllTimes_DMR250bp_MCmax25_cov5x_rms_results_collapsed.tsv.DMR.bed  |\\\n",
    "awk -F\"\\t\" '{sub(/__.*/,\"\",$1);sub(/d/,\"d_\",$1);sub(/PGA_s/,\"S\",$1);print $1\"\\t\"$2\"\\t\"$3\"\\t\"$4}' |\\\n",
    "awk -F\"\\t\" '{split($1,a,\"_\");printf(\"%s_%02d\\t%s\\t%s\\t%s\\n\",a[1],a[2],$2,$3,$4)}'\n"
   ]
  },
  {
   "cell_type": "code",
   "execution_count": null,
   "metadata": {
    "collapsed": true
   },
   "outputs": [],
   "source": [
    "#this code helped me figure out how to add leading zeros: \n",
    "#https://www.datafix.com.au/BASHing/2019-09-13.html"
   ]
  },
  {
   "cell_type": "code",
   "execution_count": 41,
   "metadata": {
    "collapsed": true
   },
   "outputs": [],
   "source": [
    "!cat /Volumes/web/metacarcinus/Pgenerosa/analyses/20191024_25bp/amb_AllTimes_DMR250bp_MCmax25_cov5x_rms_results_collapsed.tsv.DMR.bed  |\\\n",
    "awk -F\"\\t\" '{sub(/__.*/,\"\",$1);sub(/d/,\"d_\",$1);sub(/PGA_s/,\"S\",$1);print $1\"\\t\"$2\"\\t\"$3\"\\t\"$4}' |\\\n",
    "awk -F\"\\t\" '{split($1,a,\"_\");printf(\"%s_%02d\\t%s\\t%s\\t%s\\n\",a[1],a[2],$2,$3,$4)}' \\\n",
    "> 20200311_compare_DMRfind_output/Oct24_amb_AllTimes_DMR250bp_MCmax25_cov5x_rms_results_collapsed.tsv.DMR.bed\n"
   ]
  },
  {
   "cell_type": "code",
   "execution_count": null,
   "metadata": {
    "collapsed": true
   },
   "outputs": [],
   "source": [
    "#compare DMR output using bedtools "
   ]
  },
  {
   "cell_type": "code",
   "execution_count": 44,
   "metadata": {},
   "outputs": [
    {
     "name": "stdout",
     "output_type": "stream",
     "text": [
      "chrScaffold_01\t21613910\t21613960\t4\tchrScaffold_01\t21613812\t21614023\t12\n",
      "chrScaffold_01\t34112463\t34112502\t4\tchrScaffold_01\t34112438\t34112502\t5\n",
      "chrScaffold_01\t45423489\t45423519\t6\tchrScaffold_01\t45423485\t45423519\t7\n",
      "chrScaffold_01\t46746229\t46746237\t11\tchrScaffold_01\t46745962\t46746237\t16\n",
      "chrScaffold_01\t60960398\t60960416\t5\tchrScaffold_01\t60960397\t60960416\t4\n",
      "chrScaffold_02\t28281839\t28281862\t3\tchrScaffold_02\t28281839\t28281862\t3\n",
      "chrScaffold_02\t41442653\t41442687\t5\tchrScaffold_02\t41442653\t41442687\t5\n",
      "chrScaffold_02\t47298650\t47298661\t5\tchrScaffold_02\t47298650\t47298661\t3\n",
      "chrScaffold_02\t52934429\t52934467\t3\tchrScaffold_02\t52934417\t52934467\t4\n",
      "chrScaffold_02\t69282712\t69282736\t4\tchrScaffold_02\t69282712\t69282736\t4\n",
      "chrScaffold_03\t19219372\t19219393\t6\tchrScaffold_03\t19219371\t19219396\t7\n",
      "chrScaffold_03\t21766373\t21766582\t8\tchrScaffold_03\t21766373\t21766582\t9\n",
      "chrScaffold_03\t32329147\t32329180\t7\tchrScaffold_03\t32329147\t32329180\t4\n",
      "chrScaffold_03\t34117503\t34117629\t6\tchrScaffold_03\t34117503\t34117629\t4\n",
      "chrScaffold_03\t43414264\t43414296\t4\tchrScaffold_03\t43414263\t43414296\t4\n",
      "chrScaffold_03\t43759847\t43759958\t9\tchrScaffold_03\t43759629\t43759958\t13\n",
      "chrScaffold_03\t52818957\t52819008\t3\tchrScaffold_03\t52818933\t52819008\t5\n",
      "chrScaffold_04\t4220452\t4220649\t7\tchrScaffold_04\t4220452\t4220649\t14\n",
      "chrScaffold_04\t6316051\t6316080\t9\tchrScaffold_04\t6316051\t6316080\t6\n",
      "chrScaffold_04\t10439182\t10439195\t6\tchrScaffold_04\t10439182\t10439430\t5\n",
      "chrScaffold_04\t25116033\t25116070\t3\tchrScaffold_04\t25116033\t25116070\t4\n",
      "chrScaffold_04\t29855256\t29855268\t3\tchrScaffold_04\t29855256\t29855268\t3\n",
      "chrScaffold_04\t44647963\t44648043\t6\tchrScaffold_04\t44647924\t44648043\t8\n",
      "chrScaffold_04\t45510380\t45510400\t4\tchrScaffold_04\t45510210\t45510400\t5\n",
      "chrScaffold_04\t55958651\t55958683\t6\tchrScaffold_04\t55958651\t55958683\t6\n",
      "chrScaffold_05\t21513415\t21513443\t12\tchrScaffold_05\t21513415\t21513808\t18\n",
      "chrScaffold_05\t29597991\t29598013\t3\tchrScaffold_05\t29597990\t29598013\t3\n",
      "chrScaffold_05\t31505403\t31505437\t5\tchrScaffold_05\t31505387\t31505437\t5\n",
      "chrScaffold_05\t34314166\t34314182\t3\tchrScaffold_05\t34314013\t34314182\t7\n",
      "chrScaffold_05\t47724287\t47724307\t3\tchrScaffold_05\t47724286\t47724307\t3\n",
      "chrScaffold_05\t49645619\t49645816\t7\tchrScaffold_05\t49645531\t49645816\t7\n",
      "chrScaffold_06\t108949\t108958\t3\tchrScaffold_06\t108948\t108958\t3\n",
      "chrScaffold_06\t10182992\t10183319\t24\tchrScaffold_06\t10182992\t10183319\t12\n",
      "chrScaffold_06\t16956938\t16957004\t5\tchrScaffold_06\t16956929\t16957004\t6\n",
      "chrScaffold_06\t31009809\t31009844\t5\tchrScaffold_06\t31009809\t31009844\t4\n",
      "chrScaffold_06\t36204229\t36204266\t6\tchrScaffold_06\t36204228\t36204266\t6\n",
      "chrScaffold_06\t42570838\t42570904\t6\tchrScaffold_06\t42570838\t42570904\t6\n",
      "chrScaffold_06\t43375341\t43375353\t3\tchrScaffold_06\t43375341\t43375512\t4\n",
      "chrScaffold_06\t59693363\t59693499\t4\tchrScaffold_06\t59693363\t59693499\t4\n",
      "chrScaffold_07\t2369602\t2369950\t15\tchrScaffold_07\t2369602\t2369950\t11\n",
      "chrScaffold_07\t25034724\t25034854\t5\tchrScaffold_07\t25034724\t25034854\t5\n",
      "chrScaffold_08\t5043817\t5043828\t6\tchrScaffold_08\t5043817\t5043828\t3\n",
      "chrScaffold_08\t5102160\t5102182\t4\tchrScaffold_08\t5102159\t5102195\t5\n",
      "chrScaffold_08\t6443039\t6443060\t3\tchrScaffold_08\t6443038\t6443060\t3\n",
      "chrScaffold_08\t17972364\t17972378\t3\tchrScaffold_08\t17972363\t17972378\t3\n",
      "chrScaffold_08\t43149714\t43149841\t5\tchrScaffold_08\t43149713\t43149920\t7\n",
      "chrScaffold_08\t55761725\t55761744\t4\tchrScaffold_08\t55761725\t55761826\t6\n",
      "chrScaffold_08\t55809584\t55809595\t3\tchrScaffold_08\t55809584\t55809670\t3\n",
      "chrScaffold_09\t7553875\t7553943\t8\tchrScaffold_09\t7553874\t7553943\t7\n",
      "chrScaffold_09\t21159873\t21159960\t4\tchrScaffold_09\t21159873\t21159960\t4\n",
      "chrScaffold_09\t21168762\t21168798\t3\tchrScaffold_09\t21168762\t21168798\t3\n",
      "chrScaffold_10\t23859927\t23859940\t3\tchrScaffold_10\t23859927\t23859940\t3\n",
      "chrScaffold_11\t9728144\t9728175\t4\tchrScaffold_11\t9728143\t9728175\t4\n",
      "chrScaffold_11\t11487620\t11487656\t7\tchrScaffold_11\t11487620\t11487656\t4\n",
      "chrScaffold_11\t34242235\t34242265\t4\tchrScaffold_11\t34242234\t34242265\t4\n",
      "chrScaffold_11\t46672493\t46672516\t3\tchrScaffold_11\t46672493\t46672516\t3\n",
      "chrScaffold_12\t19368076\t19368101\t3\tchrScaffold_12\t19367612\t19368347\t14\n",
      "chrScaffold_12\t21584071\t21584084\t3\tchrScaffold_12\t21584070\t21584180\t5\n",
      "chrScaffold_12\t44762794\t44762845\t5\tchrScaffold_12\t44762794\t44762845\t5\n",
      "chrScaffold_12\t47546257\t47546284\t4\tchrScaffold_12\t47546256\t47546302\t4\n",
      "chrScaffold_13\t21046992\t21046995\t3\tchrScaffold_13\t21046973\t21046995\t3\n",
      "chrScaffold_13\t29658551\t29658600\t4\tchrScaffold_13\t29658551\t29658600\t4\n",
      "chrScaffold_14\t25557\t25583\t8\tchrScaffold_14\t25557\t25583\t4\n",
      "chrScaffold_14\t12470851\t12470924\t3\tchrScaffold_14\t12470851\t12470924\t3\n",
      "chrScaffold_14\t12987474\t12987554\t6\tchrScaffold_14\t12987473\t12987554\t6\n",
      "chrScaffold_14\t42765591\t42765638\t3\tchrScaffold_14\t42765591\t42765638\t3\n",
      "chrScaffold_15\t5358697\t5358721\t3\tchrScaffold_15\t5358697\t5358721\t3\n",
      "chrScaffold_15\t15987797\t15987826\t4\tchrScaffold_15\t15987797\t15987826\t4\n",
      "chrScaffold_15\t19914627\t19914688\t9\tchrScaffold_15\t19914591\t19914691\t11\n",
      "chrScaffold_15\t37344489\t37344499\t4\tchrScaffold_15\t37344488\t37344499\t4\n",
      "chrScaffold_15\t42313181\t42313201\t3\tchrScaffold_15\t42313180\t42313201\t3\n",
      "chrScaffold_16\t12136999\t12137023\t3\tchrScaffold_16\t12136999\t12137023\t3\n",
      "chrScaffold_16\t18266847\t18266864\t3\tchrScaffold_16\t18266830\t18266864\t4\n",
      "chrScaffold_17\t1185753\t1185790\t5\tchrScaffold_17\t1185752\t1185790\t5\n",
      "chrScaffold_17\t11292319\t11292339\t3\tchrScaffold_17\t11292318\t11292360\t4\n",
      "chrScaffold_17\t18011211\t18011231\t4\tchrScaffold_17\t18011211\t18011231\t4\n",
      "chrScaffold_17\t23305776\t23305965\t3\tchrScaffold_17\t23305776\t23305974\t4\n",
      "chrScaffold_18\t18578183\t18578209\t5\tchrScaffold_18\t18578183\t18578209\t3\n"
     ]
    }
   ],
   "source": [
    "%%bash\n",
    "/Users/Shelly/anaconda3/bin/sortBed -i \\\n",
    "/Users/Shelly/Documents/GitHub/Shelly_Pgenerosa/analyses/20200311_compare_DMRfind_output/Oct24_amb_AllTimes_DMR250bp_MCmax25_cov5x_rms_results_collapsed.tsv.DMR.bed |\\\n",
    "/Users/Shelly/anaconda3/bin/intersectBed \\\n",
    "-a - \\\n",
    "-b /Volumes/web/metacarcinus/Pgenerosa/analyses/20191222/amb_AllTimes_DMR250bp_MCmax25_cov5x_rms_results_collapsed.tsv.DMR.bed \\\n",
    "-wb"
   ]
  },
  {
   "cell_type": "code",
   "execution_count": null,
   "metadata": {
    "collapsed": true
   },
   "outputs": [],
   "source": [
    "#count number of overlapping DMRs"
   ]
  },
  {
   "cell_type": "code",
   "execution_count": 45,
   "metadata": {},
   "outputs": [
    {
     "name": "stdout",
     "output_type": "stream",
     "text": [
      "      78\n"
     ]
    }
   ],
   "source": [
    "%%bash\n",
    "/Users/Shelly/anaconda3/bin/sortBed -i \\\n",
    "/Users/Shelly/Documents/GitHub/Shelly_Pgenerosa/analyses/20200311_compare_DMRfind_output/Oct24_amb_AllTimes_DMR250bp_MCmax25_cov5x_rms_results_collapsed.tsv.DMR.bed |\\\n",
    "/Users/Shelly/anaconda3/bin/intersectBed \\\n",
    "-a - \\\n",
    "-b /Volumes/web/metacarcinus/Pgenerosa/analyses/20191222/amb_AllTimes_DMR250bp_MCmax25_cov5x_rms_results_collapsed.tsv.DMR.bed |\\\n",
    "wc -l\n"
   ]
  },
  {
   "cell_type": "code",
   "execution_count": null,
   "metadata": {
    "collapsed": true
   },
   "outputs": [],
   "source": [
    "#count number DMRs in Oct. analysis (stranded)"
   ]
  },
  {
   "cell_type": "code",
   "execution_count": 46,
   "metadata": {},
   "outputs": [
    {
     "name": "stdout",
     "output_type": "stream",
     "text": [
      "     225 /Users/Shelly/Documents/GitHub/Shelly_Pgenerosa/analyses/20200311_compare_DMRfind_output/Oct24_amb_AllTimes_DMR250bp_MCmax25_cov5x_rms_results_collapsed.tsv.DMR.bed\r\n"
     ]
    }
   ],
   "source": [
    "!wc -l /Users/Shelly/Documents/GitHub/Shelly_Pgenerosa/analyses/20200311_compare_DMRfind_output/Oct24_amb_AllTimes_DMR250bp_MCmax25_cov5x_rms_results_collapsed.tsv.DMR.bed"
   ]
  },
  {
   "cell_type": "code",
   "execution_count": 47,
   "metadata": {},
   "outputs": [
    {
     "name": "stdout",
     "output_type": "stream",
     "text": [
      "    1227 /Volumes/web/metacarcinus/Pgenerosa/analyses/20191222/amb_AllTimes_DMR250bp_MCmax25_cov5x_rms_results_collapsed.tsv.DMR.bed\r\n"
     ]
    }
   ],
   "source": [
    "!wc -l /Volumes/web/metacarcinus/Pgenerosa/analyses/20191222/amb_AllTimes_DMR250bp_MCmax25_cov5x_rms_results_collapsed.tsv.DMR.bed"
   ]
  },
  {
   "cell_type": "code",
   "execution_count": 49,
   "metadata": {},
   "outputs": [
    {
     "name": "stdout",
     "output_type": "stream",
     "text": [
      "chrScaffold_01\t191265\t191290\t6\tchrScaffold_01\t191265\t191290\t3\n",
      "chrScaffold_01\t660957\t660981\t4\tchrScaffold_01\t660957\t660981\t4\n",
      "chrScaffold_01\t3343137\t3343145\t3\tchrScaffold_01\t3343137\t3343145\t3\n",
      "chrScaffold_01\t7779603\t7779637\t4\tchrScaffold_01\t7779603\t7779637\t4\n",
      "chrScaffold_01\t9886785\t9886804\t3\tchrScaffold_01\t9886785\t9886804\t3\n",
      "chrScaffold_01\t10800794\t10800859\t7\tchrScaffold_01\t10800794\t10800859\t3\n",
      "chrScaffold_01\t12949065\t12949121\t4\tchrScaffold_01\t12949065\t12949121\t5\n",
      "chrScaffold_01\t13623950\t13623966\t3\tchrScaffold_01\t13623950\t13623966\t3\n",
      "chrScaffold_01\t21274122\t21274330\t6\tchrScaffold_01\t21274122\t21274330\t4\n",
      "chrScaffold_01\t21613812\t21614023\t17\tchrScaffold_01\t21613812\t21614023\t12\n",
      "chrScaffold_01\t29033671\t29033715\t6\tchrScaffold_01\t29033671\t29033715\t5\n",
      "chrScaffold_01\t34096891\t34096915\t4\tchrScaffold_01\t34096891\t34096915\t3\n",
      "chrScaffold_01\t56899153\t56899175\t3\tchrScaffold_01\t56899153\t56899175\t3\n",
      "chrScaffold_01\t59186934\t59186958\t5\tchrScaffold_01\t59186934\t59186958\t4\n",
      "chrScaffold_01\t66187438\t66187480\t7\tchrScaffold_01\t66187438\t66187480\t6\n",
      "chrScaffold_01\t67013040\t67013142\t7\tchrScaffold_01\t67013040\t67013164\t4\n",
      "chrScaffold_01\t67679753\t67679774\t3\tchrScaffold_01\t67679753\t67679774\t3\n",
      "chrScaffold_01\t69254768\t69254821\t18\tchrScaffold_01\t69254768\t69254821\t6\n",
      "chrScaffold_01\t70855871\t70855889\t4\tchrScaffold_01\t70855871\t70855889\t3\n",
      "chrScaffold_01\t79704299\t79704307\t3\tchrScaffold_01\t79704204\t79704307\t3\n",
      "chrScaffold_01\t79813609\t79813620\t8\tchrScaffold_01\t79813609\t79813620\t3\n",
      "chrScaffold_01\t82706708\t82706902\t6\tchrScaffold_01\t82706708\t82706902\t5\n",
      "chrScaffold_01\t88784273\t88784413\t4\tchrScaffold_01\t88784273\t88784413\t4\n",
      "chrScaffold_01\t89642219\t89642310\t23\tchrScaffold_01\t89642219\t89642310\t10\n",
      "chrScaffold_02\t9197912\t9197936\t3\tchrScaffold_02\t9197912\t9197936\t3\n",
      "chrScaffold_02\t16033187\t16033255\t5\tchrScaffold_02\t16033187\t16033255\t5\n",
      "chrScaffold_02\t30399249\t30399302\t4\tchrScaffold_02\t30399249\t30399302\t4\n",
      "chrScaffold_02\t38723135\t38723161\t4\tchrScaffold_02\t38723135\t38723161\t3\n",
      "chrScaffold_02\t44630974\t44630991\t5\tchrScaffold_02\t44630974\t44630991\t3\n",
      "chrScaffold_02\t46404118\t46404204\t5\tchrScaffold_02\t46404118\t46404204\t5\n",
      "chrScaffold_02\t48996844\t48996864\t5\tchrScaffold_02\t48996844\t48996864\t3\n",
      "chrScaffold_02\t53506352\t53506558\t8\tchrScaffold_02\t53506352\t53506558\t6\n",
      "chrScaffold_02\t57644183\t57644198\t4\tchrScaffold_02\t57644183\t57644198\t3\n",
      "chrScaffold_03\t150836\t150853\t3\tchrScaffold_03\t150836\t150853\t4\n",
      "chrScaffold_03\t4271472\t4271501\t3\tchrScaffold_03\t4271472\t4271501\t3\n",
      "chrScaffold_03\t9067412\t9067454\t3\tchrScaffold_03\t9067412\t9067454\t4\n",
      "chrScaffold_03\t9220225\t9220259\t7\tchrScaffold_03\t9220225\t9220259\t4\n",
      "chrScaffold_03\t15571327\t15571336\t5\tchrScaffold_03\t15571327\t15571336\t3\n",
      "chrScaffold_03\t22251649\t22251836\t3\tchrScaffold_03\t22251228\t22251836\t12\n",
      "chrScaffold_03\t22365655\t22365772\t3\tchrScaffold_03\t22365263\t22365945\t10\n",
      "chrScaffold_03\t24200235\t24200545\t8\tchrScaffold_03\t24200220\t24200545\t12\n",
      "chrScaffold_03\t27312004\t27312020\t4\tchrScaffold_03\t27312004\t27312020\t4\n",
      "chrScaffold_03\t29542643\t29542672\t7\tchrScaffold_03\t29542520\t29542672\t5\n",
      "chrScaffold_03\t30601867\t30602033\t7\tchrScaffold_03\t30601867\t30602033\t6\n",
      "chrScaffold_03\t34112039\t34112096\t5\tchrScaffold_03\t34112039\t34112096\t5\n",
      "chrScaffold_03\t34610264\t34610287\t3\tchrScaffold_03\t34610264\t34610287\t3\n",
      "chrScaffold_03\t35455262\t35455282\t4\tchrScaffold_03\t35455262\t35455282\t3\n",
      "chrScaffold_03\t39907033\t39907111\t6\tchrScaffold_03\t39907033\t39907111\t6\n",
      "chrScaffold_03\t50316913\t50316942\t7\tchrScaffold_03\t50316913\t50316942\t5\n",
      "chrScaffold_03\t50320773\t50320806\t6\tchrScaffold_03\t50320773\t50320806\t6\n",
      "chrScaffold_03\t50402943\t50402963\t5\tchrScaffold_03\t50402943\t50402963\t4\n",
      "chrScaffold_03\t55848578\t55848637\t5\tchrScaffold_03\t55848578\t55848637\t4\n",
      "chrScaffold_03\t56596586\t56596628\t6\tchrScaffold_03\t56596586\t56596655\t6\n",
      "chrScaffold_04\t10672345\t10672353\t3\tchrScaffold_04\t10672345\t10672353\t3\n",
      "chrScaffold_04\t11400881\t11400906\t10\tchrScaffold_04\t11400881\t11400906\t7\n",
      "chrScaffold_04\t13384405\t13384414\t3\tchrScaffold_04\t13384405\t13384414\t3\n",
      "chrScaffold_04\t15415687\t15415705\t6\tchrScaffold_04\t15415687\t15415705\t3\n",
      "chrScaffold_04\t17078193\t17078213\t5\tchrScaffold_04\t17078193\t17078213\t3\n",
      "chrScaffold_04\t17292590\t17292596\t6\tchrScaffold_04\t17292590\t17292596\t3\n",
      "chrScaffold_04\t20602523\t20602548\t10\tchrScaffold_04\t20602523\t20602548\t6\n",
      "chrScaffold_04\t24204345\t24204380\t6\tchrScaffold_04\t24204107\t24204383\t16\n",
      "chrScaffold_04\t24617214\t24617259\t7\tchrScaffold_04\t24617214\t24617259\t4\n",
      "chrScaffold_04\t26925163\t26925231\t6\tchrScaffold_04\t26925163\t26925231\t6\n",
      "chrScaffold_04\t28388937\t28388951\t3\tchrScaffold_04\t28388937\t28388951\t3\n",
      "chrScaffold_04\t31885984\t31886009\t5\tchrScaffold_04\t31885799\t31886009\t4\n",
      "chrScaffold_04\t35953925\t35953945\t3\tchrScaffold_04\t35953925\t35953945\t3\n",
      "chrScaffold_04\t36162351\t36162499\t15\tchrScaffold_04\t36162351\t36162499\t6\n",
      "chrScaffold_04\t40336842\t40336994\t9\tchrScaffold_04\t40336842\t40336994\t4\n",
      "chrScaffold_04\t43065251\t43065432\t6\tchrScaffold_04\t43065251\t43065432\t3\n",
      "chrScaffold_04\t46291252\t46291278\t6\tchrScaffold_04\t46291252\t46291278\t5\n",
      "chrScaffold_04\t49053812\t49053975\t7\tchrScaffold_04\t49053812\t49053975\t8\n",
      "chrScaffold_04\t57528129\t57528243\t16\tchrScaffold_04\t57528129\t57528311\t14\n",
      "chrScaffold_04\t61364382\t61364412\t4\tchrScaffold_04\t61364368\t61364412\t6\n",
      "chrScaffold_05\t1306679\t1306720\t7\tchrScaffold_05\t1306679\t1306720\t5\n",
      "chrScaffold_05\t2323694\t2323776\t6\tchrScaffold_05\t2323694\t2323776\t4\n",
      "chrScaffold_05\t12611451\t12611485\t5\tchrScaffold_05\t12611381\t12611485\t4\n",
      "chrScaffold_05\t19757193\t19757201\t3\tchrScaffold_05\t19757162\t19757201\t5\n",
      "chrScaffold_05\t22095209\t22095283\t4\tchrScaffold_05\t22095209\t22095283\t4\n",
      "chrScaffold_05\t23579398\t23579434\t5\tchrScaffold_05\t23579398\t23579434\t4\n",
      "chrScaffold_05\t27317434\t27317457\t3\tchrScaffold_05\t27317434\t27317457\t3\n",
      "chrScaffold_05\t29538076\t29538092\t3\tchrScaffold_05\t29538076\t29538092\t3\n",
      "chrScaffold_05\t31505387\t31505437\t7\tchrScaffold_05\t31505387\t31505437\t5\n",
      "chrScaffold_05\t48367301\t48367336\t7\tchrScaffold_05\t48367301\t48367336\t5\n",
      "chrScaffold_05\t58367601\t58367632\t12\tchrScaffold_05\t58367601\t58367632\t9\n",
      "chrScaffold_05\t66823024\t66823035\t8\tchrScaffold_05\t66823024\t66823035\t4\n",
      "chrScaffold_05\t67208500\t67208523\t5\tchrScaffold_05\t67208500\t67208523\t3\n",
      "chrScaffold_06\t3135422\t3135612\t7\tchrScaffold_06\t3135422\t3135612\t3\n",
      "chrScaffold_06\t3165827\t3165850\t7\tchrScaffold_06\t3165827\t3165926\t8\n",
      "chrScaffold_06\t10804343\t10804440\t5\tchrScaffold_06\t10804343\t10804440\t5\n",
      "chrScaffold_06\t13739882\t13739960\t5\tchrScaffold_06\t13739882\t13739960\t5\n",
      "chrScaffold_06\t15101307\t15101339\t8\tchrScaffold_06\t15101307\t15101380\t6\n",
      "chrScaffold_06\t15101344\t15101380\t5\tchrScaffold_06\t15101307\t15101380\t6\n",
      "chrScaffold_06\t15190389\t15190423\t9\tchrScaffold_06\t15190389\t15190423\t6\n",
      "chrScaffold_06\t16731334\t16731364\t4\tchrScaffold_06\t16731334\t16731364\t4\n",
      "chrScaffold_06\t16956975\t16957004\t3\tchrScaffold_06\t16956929\t16957004\t6\n",
      "chrScaffold_06\t17685160\t17685211\t14\tchrScaffold_06\t17685160\t17685211\t12\n",
      "chrScaffold_06\t21488018\t21488083\t7\tchrScaffold_06\t21488018\t21488083\t7\n",
      "chrScaffold_06\t35730423\t35730452\t7\tchrScaffold_06\t35730423\t35730452\t4\n",
      "chrScaffold_06\t38739563\t38739564\t4\tchrScaffold_06\t38739490\t38739564\t3\n",
      "chrScaffold_06\t41312105\t41312131\t12\tchrScaffold_06\t41312105\t41312131\t5\n",
      "chrScaffold_06\t43154168\t43154181\t5\tchrScaffold_06\t43154168\t43154190\t4\n",
      "chrScaffold_06\t46436720\t46436760\t7\tchrScaffold_06\t46436720\t46436760\t6\n",
      "chrScaffold_06\t46883238\t46883275\t5\tchrScaffold_06\t46883238\t46883275\t4\n",
      "chrScaffold_06\t49592805\t49592821\t6\tchrScaffold_06\t49592805\t49592821\t4\n",
      "chrScaffold_06\t53015124\t53015202\t14\tchrScaffold_06\t53015124\t53015418\t7\n",
      "chrScaffold_06\t53015358\t53015418\t11\tchrScaffold_06\t53015124\t53015418\t7\n",
      "chrScaffold_06\t53815283\t53815333\t15\tchrScaffold_06\t53815283\t53815333\t5\n",
      "chrScaffold_06\t55125740\t55125764\t3\tchrScaffold_06\t55125740\t55125764\t3\n",
      "chrScaffold_06\t57237569\t57237585\t4\tchrScaffold_06\t57237569\t57237585\t4\n",
      "chrScaffold_07\t2570392\t2570421\t10\tchrScaffold_07\t2570392\t2570421\t4\n",
      "chrScaffold_07\t13247434\t13247446\t3\tchrScaffold_07\t13247434\t13247446\t3\n",
      "chrScaffold_07\t14004948\t14005011\t4\tchrScaffold_07\t14004948\t14005200\t7\n",
      "chrScaffold_07\t14005016\t14005200\t3\tchrScaffold_07\t14004948\t14005200\t7\n",
      "chrScaffold_07\t15893225\t15893248\t3\tchrScaffold_07\t15893219\t15893248\t4\n",
      "chrScaffold_07\t18216327\t18216342\t3\tchrScaffold_07\t18216123\t18216342\t4\n",
      "chrScaffold_07\t26602475\t26602730\t7\tchrScaffold_07\t26602475\t26602730\t5\n",
      "chrScaffold_07\t26863215\t26863268\t5\tchrScaffold_07\t26863215\t26863268\t5\n",
      "chrScaffold_07\t27608388\t27608431\t6\tchrScaffold_07\t27608388\t27608431\t6\n",
      "chrScaffold_07\t35900906\t35900924\t4\tchrScaffold_07\t35900906\t35900924\t3\n",
      "chrScaffold_07\t36288267\t36288311\t6\tchrScaffold_07\t36288267\t36288311\t4\n",
      "chrScaffold_07\t39393467\t39393480\t5\tchrScaffold_07\t39393467\t39393480\t3\n",
      "chrScaffold_08\t2519325\t2519347\t3\tchrScaffold_08\t2519325\t2519347\t3\n",
      "chrScaffold_08\t5102159\t5102181\t5\tchrScaffold_08\t5102159\t5102195\t5\n",
      "chrScaffold_08\t8021169\t8021248\t4\tchrScaffold_08\t8021169\t8021248\t3\n",
      "chrScaffold_08\t8026231\t8026239\t4\tchrScaffold_08\t8026231\t8026239\t3\n",
      "chrScaffold_08\t10219186\t10219215\t8\tchrScaffold_08\t10219186\t10219237\t9\n",
      "chrScaffold_08\t15864756\t15864777\t3\tchrScaffold_08\t15864725\t15864829\t6\n",
      "chrScaffold_08\t15864805\t15864829\t3\tchrScaffold_08\t15864725\t15864829\t6\n",
      "chrScaffold_08\t26466472\t26466511\t7\tchrScaffold_08\t26466472\t26466511\t7\n",
      "chrScaffold_08\t26570876\t26570939\t6\tchrScaffold_08\t26570876\t26570939\t5\n",
      "chrScaffold_08\t28901548\t28901845\t14\tchrScaffold_08\t28901548\t28901845\t7\n",
      "chrScaffold_08\t49857946\t49857971\t4\tchrScaffold_08\t49857946\t49857971\t3\n",
      "chrScaffold_08\t51874420\t51874487\t6\tchrScaffold_08\t51874420\t51874487\t6\n",
      "chrScaffold_08\t53659199\t53659278\t4\tchrScaffold_08\t53659184\t53659278\t5\n",
      "chrScaffold_08\t55761725\t55761826\t6\tchrScaffold_08\t55761725\t55761826\t6\n",
      "chrScaffold_08\t55770201\t55770231\t4\tchrScaffold_08\t55770201\t55770231\t3\n",
      "chrScaffold_08\t55774290\t55774381\t7\tchrScaffold_08\t55774290\t55774381\t5\n",
      "chrScaffold_08\t55775791\t55775823\t3\tchrScaffold_08\t55775791\t55775823\t3\n",
      "chrScaffold_08\t55809584\t55809670\t4\tchrScaffold_08\t55809584\t55809670\t3\n",
      "chrScaffold_08\t60345524\t60345549\t10\tchrScaffold_08\t60345524\t60345549\t6\n",
      "chrScaffold_09\t5870718\t5870724\t3\tchrScaffold_09\t5870718\t5870724\t3\n",
      "chrScaffold_09\t7814828\t7814870\t6\tchrScaffold_09\t7814828\t7814870\t6\n",
      "chrScaffold_09\t8589591\t8589623\t7\tchrScaffold_09\t8589591\t8589623\t4\n",
      "chrScaffold_09\t9535141\t9535171\t3\tchrScaffold_09\t9535141\t9535171\t3\n",
      "chrScaffold_09\t10203073\t10203088\t3\tchrScaffold_09\t10203073\t10203088\t3\n",
      "chrScaffold_09\t12278488\t12278527\t5\tchrScaffold_09\t12278488\t12278527\t5\n",
      "chrScaffold_09\t22974569\t22974594\t5\tchrScaffold_09\t22974569\t22974594\t4\n",
      "chrScaffold_09\t23792724\t23792742\t4\tchrScaffold_09\t23792724\t23792742\t4\n",
      "chrScaffold_09\t24075449\t24075456\t3\tchrScaffold_09\t24075449\t24075456\t3\n",
      "chrScaffold_09\t29356221\t29356362\t8\tchrScaffold_09\t29356095\t29356362\t8\n",
      "chrScaffold_09\t34479345\t34479416\t6\tchrScaffold_09\t34479345\t34479416\t4\n",
      "chrScaffold_09\t35446706\t35446740\t7\tchrScaffold_09\t35446706\t35446770\t5\n",
      "chrScaffold_09\t35667039\t35667111\t5\tchrScaffold_09\t35667039\t35667111\t5\n",
      "chrScaffold_09\t36217439\t36217452\t3\tchrScaffold_09\t36217352\t36217452\t4\n",
      "chrScaffold_10\t2665730\t2665783\t3\tchrScaffold_10\t2665730\t2665783\t3\n",
      "chrScaffold_10\t3464310\t3464352\t7\tchrScaffold_10\t3464310\t3464352\t5\n",
      "chrScaffold_10\t4953576\t4953592\t4\tchrScaffold_10\t4953576\t4953592\t4\n",
      "chrScaffold_10\t6635533\t6635548\t7\tchrScaffold_10\t6635533\t6635548\t3\n",
      "chrScaffold_10\t9372576\t9372739\t9\tchrScaffold_10\t9372576\t9372739\t6\n",
      "chrScaffold_10\t13036005\t13036034\t4\tchrScaffold_10\t13036005\t13036034\t4\n",
      "chrScaffold_10\t13610790\t13610818\t5\tchrScaffold_10\t13610790\t13611076\t8\n",
      "chrScaffold_10\t30348312\t30348442\t17\tchrScaffold_10\t30348312\t30348442\t5\n",
      "chrScaffold_10\t32848429\t32848464\t8\tchrScaffold_10\t32848429\t32848464\t6\n",
      "chrScaffold_10\t53866474\t53866485\t5\tchrScaffold_10\t53866474\t53866485\t3\n",
      "chrScaffold_11\t9728143\t9728162\t3\tchrScaffold_11\t9728143\t9728175\t4\n",
      "chrScaffold_11\t11868573\t11868596\t7\tchrScaffold_11\t11868573\t11868596\t3\n",
      "chrScaffold_11\t26049225\t26049321\t14\tchrScaffold_11\t26049225\t26049321\t9\n",
      "chrScaffold_11\t34658994\t34659018\t3\tchrScaffold_11\t34658994\t34659018\t3\n",
      "chrScaffold_11\t36936613\t36936816\t6\tchrScaffold_11\t36936613\t36936816\t6\n",
      "chrScaffold_11\t48159075\t48159112\t5\tchrScaffold_11\t48159075\t48159112\t4\n",
      "chrScaffold_11\t48342252\t48342282\t4\tchrScaffold_11\t48342252\t48342282\t4\n",
      "chrScaffold_12\t7674973\t7674991\t4\tchrScaffold_12\t7674973\t7674991\t4\n",
      "chrScaffold_12\t12060864\t12060910\t5\tchrScaffold_12\t12060864\t12060910\t5\n",
      "chrScaffold_12\t16502260\t16502279\t7\tchrScaffold_12\t16502260\t16502279\t4\n",
      "chrScaffold_12\t17655785\t17655796\t4\tchrScaffold_12\t17655785\t17655796\t4\n",
      "chrScaffold_12\t26013107\t26013265\t4\tchrScaffold_12\t26013107\t26013265\t3\n",
      "chrScaffold_12\t32594103\t32594148\t10\tchrScaffold_12\t32594103\t32594148\t6\n",
      "chrScaffold_12\t39348395\t39348410\t4\tchrScaffold_12\t39348395\t39348410\t3\n",
      "chrScaffold_12\t43024013\t43024122\t3\tchrScaffold_12\t43024002\t43024122\t4\n",
      "chrScaffold_13\t6733126\t6733155\t5\tchrScaffold_13\t6733126\t6733155\t4\n",
      "chrScaffold_13\t12081607\t12081684\t9\tchrScaffold_13\t12081607\t12081684\t7\n",
      "chrScaffold_13\t17484775\t17484793\t3\tchrScaffold_13\t17484775\t17484793\t3\n",
      "chrScaffold_13\t18218010\t18218041\t5\tchrScaffold_13\t18218010\t18218041\t4\n",
      "chrScaffold_13\t28890869\t28890892\t5\tchrScaffold_13\t28890869\t28891134\t4\n",
      "chrScaffold_13\t28891064\t28891084\t3\tchrScaffold_13\t28890869\t28891134\t4\n",
      "chrScaffold_13\t38450371\t38450385\t4\tchrScaffold_13\t38450371\t38450385\t3\n",
      "chrScaffold_13\t39629299\t39629310\t4\tchrScaffold_13\t39629299\t39629310\t4\n",
      "chrScaffold_14\t2133421\t2133473\t7\tchrScaffold_14\t2133317\t2133473\t8\n",
      "chrScaffold_14\t3973701\t3973712\t3\tchrScaffold_14\t3973701\t3973712\t3\n",
      "chrScaffold_14\t7591325\t7591349\t4\tchrScaffold_14\t7591325\t7591349\t3\n",
      "chrScaffold_14\t18532405\t18532441\t6\tchrScaffold_14\t18532405\t18532441\t5\n",
      "chrScaffold_14\t20001137\t20001165\t7\tchrScaffold_14\t20001137\t20001165\t5\n",
      "chrScaffold_14\t24072081\t24072111\t4\tchrScaffold_14\t24072081\t24072111\t4\n",
      "chrScaffold_14\t25553756\t25553867\t11\tchrScaffold_14\t25553756\t25553867\t4\n",
      "chrScaffold_14\t26464444\t26464606\t8\tchrScaffold_14\t26464444\t26464606\t6\n",
      "chrScaffold_14\t26961698\t26961721\t3\tchrScaffold_14\t26961698\t26961721\t3\n",
      "chrScaffold_14\t43749149\t43749224\t7\tchrScaffold_14\t43749149\t43749224\t7\n",
      "chrScaffold_14\t44074950\t44074972\t3\tchrScaffold_14\t44074950\t44074972\t3\n",
      "chrScaffold_15\t5119199\t5119907\t17\tchrScaffold_15\t5119199\t5119946\t19\n",
      "chrScaffold_15\t5119945\t5119946\t3\tchrScaffold_15\t5119199\t5119946\t19\n",
      "chrScaffold_15\t6148793\t6148804\t5\tchrScaffold_15\t6148793\t6148804\t3\n",
      "chrScaffold_15\t18777454\t18777524\t7\tchrScaffold_15\t18777454\t18777524\t4\n",
      "chrScaffold_15\t22856755\t22856831\t5\tchrScaffold_15\t22856755\t22856962\t3\n",
      "chrScaffold_15\t24078144\t24078169\t9\tchrScaffold_15\t24078144\t24078169\t5\n",
      "chrScaffold_15\t32589974\t32590093\t12\tchrScaffold_15\t32589974\t32590093\t11\n",
      "chrScaffold_15\t34414088\t34414099\t4\tchrScaffold_15\t34414088\t34414099\t4\n",
      "chrScaffold_15\t35297612\t35297623\t4\tchrScaffold_15\t35297612\t35297623\t4\n",
      "chrScaffold_15\t37436652\t37436752\t6\tchrScaffold_15\t37436652\t37436752\t4\n",
      "chrScaffold_15\t39611874\t39611894\t4\tchrScaffold_15\t39611874\t39611894\t3\n",
      "chrScaffold_15\t42209889\t42209904\t4\tchrScaffold_15\t42209889\t42209904\t3\n",
      "chrScaffold_16\t2826628\t2826657\t4\tchrScaffold_16\t2826628\t2826679\t5\n",
      "chrScaffold_16\t14147082\t14147088\t4\tchrScaffold_16\t14147082\t14147088\t3\n",
      "chrScaffold_16\t15542998\t15543233\t8\tchrScaffold_16\t15542928\t15543233\t10\n",
      "chrScaffold_16\t16503704\t16503798\t9\tchrScaffold_16\t16503704\t16503798\t7\n",
      "chrScaffold_16\t18255376\t18255388\t3\tchrScaffold_16\t18255376\t18255388\t3\n",
      "chrScaffold_16\t24057179\t24057217\t4\tchrScaffold_16\t24057179\t24057217\t4\n",
      "chrScaffold_16\t24851348\t24851359\t4\tchrScaffold_16\t24851348\t24851359\t4\n",
      "chrScaffold_16\t25276952\t25276986\t7\tchrScaffold_16\t25276952\t25276986\t7\n",
      "chrScaffold_16\t25277293\t25277312\t3\tchrScaffold_16\t25277293\t25277389\t6\n",
      "chrScaffold_16\t31061404\t31061424\t5\tchrScaffold_16\t31061404\t31061424\t3\n",
      "chrScaffold_16\t31389923\t31389992\t11\tchrScaffold_16\t31389923\t31389992\t11\n",
      "chrScaffold_17\t1664952\t1665189\t12\tchrScaffold_17\t1664952\t1665189\t12\n",
      "chrScaffold_17\t4835143\t4835164\t4\tchrScaffold_17\t4835133\t4835164\t5\n",
      "chrScaffold_17\t6894918\t6894929\t3\tchrScaffold_17\t6894918\t6894929\t3\n",
      "chrScaffold_17\t9002786\t9002812\t3\tchrScaffold_17\t9002786\t9002812\t3\n",
      "chrScaffold_17\t11479207\t11479380\t4\tchrScaffold_17\t11479207\t11479380\t4\n",
      "chrScaffold_17\t15976668\t15976709\t4\tchrScaffold_17\t15976668\t15976709\t4\n",
      "chrScaffold_17\t19287881\t19287960\t10\tchrScaffold_17\t19287881\t19287960\t3\n",
      "chrScaffold_17\t19657938\t19658067\t4\tchrScaffold_17\t19657938\t19658067\t4\n",
      "chrScaffold_17\t24310391\t24310401\t5\tchrScaffold_17\t24310391\t24310401\t3\n",
      "chrScaffold_17\t24813131\t24813155\t7\tchrScaffold_17\t24813131\t24813155\t5\n",
      "chrScaffold_17\t25583207\t25583239\t6\tchrScaffold_17\t25583207\t25583239\t5\n",
      "chrScaffold_17\t26532784\t26533511\t28\tchrScaffold_17\t26532784\t26533511\t22\n",
      "chrScaffold_17\t28120192\t28120211\t3\tchrScaffold_17\t28120192\t28120211\t3\n",
      "chrScaffold_17\t29460973\t29460978\t6\tchrScaffold_17\t29460973\t29460978\t3\n",
      "chrScaffold_17\t29696237\t29696326\t3\tchrScaffold_17\t29696237\t29696326\t3\n",
      "chrScaffold_17\t32278568\t32278591\t5\tchrScaffold_17\t32278568\t32278591\t4\n",
      "chrScaffold_17\t33177952\t33177965\t8\tchrScaffold_17\t33177952\t33177965\t4\n",
      "chrScaffold_17\t33178926\t33178955\t5\tchrScaffold_17\t33178926\t33178955\t5\n",
      "chrScaffold_17\t34328271\t34328290\t5\tchrScaffold_17\t34328271\t34328290\t4\n",
      "chrScaffold_18\t8866533\t8866619\t5\tchrScaffold_18\t8866533\t8866619\t3\n",
      "chrScaffold_18\t8945938\t8945968\t4\tchrScaffold_18\t8945938\t8945968\t4\n",
      "chrScaffold_18\t13367758\t13367872\t15\tchrScaffold_18\t13367758\t13367872\t12\n",
      "chrScaffold_18\t19728310\t19728363\t3\tchrScaffold_18\t19728259\t19728363\t4\n",
      "chrScaffold_18\t19826295\t19826327\t5\tchrScaffold_18\t19826295\t19826327\t4\n",
      "chrScaffold_18\t25464883\t25464919\t6\tchrScaffold_18\t25464883\t25464919\t5\n",
      "chrScaffold_18\t26154500\t26154547\t9\tchrScaffold_18\t26154500\t26154547\t7\n"
     ]
    }
   ],
   "source": [
    "%%bash\n",
    "/Users/Shelly/anaconda3/bin/intersectBed \\\n",
    "-a /Volumes/web/metacarcinus/Pgenerosa/analyses/20191223/all_Samples_DMR250bp_MCmax25_cov5x_rms_results_collapsed.sorted.DMR.bed \\\n",
    "-b /Volumes/web/metacarcinus/Pgenerosa/analyses/20191222/amb_AllTimes_DMR250bp_MCmax25_cov5x_rms_results_collapsed.tsv.DMR.bed \\\n",
    "-wb"
   ]
  },
  {
   "cell_type": "code",
   "execution_count": 51,
   "metadata": {},
   "outputs": [
    {
     "name": "stdout",
     "output_type": "stream",
     "text": [
      "     247\n"
     ]
    }
   ],
   "source": [
    "%%bash\n",
    "/Users/Shelly/anaconda3/bin/intersectBed \\\n",
    "-a /Volumes/web/metacarcinus/Pgenerosa/analyses/20191223/all_Samples_DMR250bp_MCmax25_cov5x_rms_results_collapsed.sorted.DMR.bed \\\n",
    "-b /Volumes/web/metacarcinus/Pgenerosa/analyses/20191222/amb_AllTimes_DMR250bp_MCmax25_cov5x_rms_results_collapsed.tsv.DMR.bed \\\n",
    "-wb |\\\n",
    "wc -l"
   ]
  },
  {
   "cell_type": "code",
   "execution_count": null,
   "metadata": {
    "collapsed": true
   },
   "outputs": [],
   "source": []
  },
  {
   "cell_type": "code",
   "execution_count": 53,
   "metadata": {},
   "outputs": [
    {
     "name": "stdout",
     "output_type": "stream",
     "text": [
      "chrScaffold_01\t21613910\t21613960\t4\n",
      "chrScaffold_02\t53313177\t53313190\t3\n",
      "chrScaffold_05\t29553817\t29553897\t4\n",
      "chrScaffold_05\t31505403\t31505449\t5\n",
      "chrScaffold_06\t16956975\t16957004\t5\n",
      "chrScaffold_06\t37281019\t37281041\t7\n",
      "chrScaffold_08\t5102160\t5102181\t4\n",
      "chrScaffold_08\t55761725\t55761744\t4\n",
      "chrScaffold_08\t55809584\t55809595\t3\n",
      "chrScaffold_11\t9728144\t9728162\t4\n",
      "chrScaffold_12\t43253816\t43253856\t9\n",
      "chrScaffold_14\t22686453\t22686463\t3\n",
      "chrScaffold_14\t36243797\t36243801\t3\n",
      "chrScaffold_15\t13192848\t13192857\t3\n",
      "chrScaffold_15\t18998226\t18998253\t8\n",
      "chrScaffold_17\t13046384\t13046459\t4\n",
      "chrScaffold_18\t18593687\t18593713\t4\n"
     ]
    }
   ],
   "source": [
    "%%bash\n",
    "/Users/Shelly/anaconda3/bin/sortBed -i \\\n",
    "/Users/Shelly/Documents/GitHub/Shelly_Pgenerosa/analyses/20200311_compare_DMRfind_output/Oct24_amb_AllTimes_DMR250bp_MCmax25_cov5x_rms_results_collapsed.tsv.DMR.bed |\\\n",
    "/Users/Shelly/anaconda3/bin/intersectBed \\\n",
    "-a - \\\n",
    "-b /Volumes/web/metacarcinus/Pgenerosa/analyses/20191223/all_Samples_DMR250bp_MCmax25_cov5x_rms_results_collapsed.sorted.DMR.bed "
   ]
  },
  {
   "cell_type": "code",
   "execution_count": 54,
   "metadata": {},
   "outputs": [
    {
     "name": "stdout",
     "output_type": "stream",
     "text": [
      "    3081 /Volumes/web/metacarcinus/Pgenerosa/analyses/20191223/all_Samples_DMR250bp_MCmax25_cov5x_rms_results_collapsed.sorted.DMR.bed\r\n"
     ]
    }
   ],
   "source": [
    "!wc -l /Volumes/web/metacarcinus/Pgenerosa/analyses/20191223/all_Samples_DMR250bp_MCmax25_cov5x_rms_results_collapsed.sorted.DMR.bed "
   ]
  },
  {
   "cell_type": "code",
   "execution_count": null,
   "metadata": {
    "collapsed": true
   },
   "outputs": [],
   "source": [
    "#change scaffold names for other comparisons"
   ]
  },
  {
   "cell_type": "code",
   "execution_count": 55,
   "metadata": {
    "collapsed": true
   },
   "outputs": [],
   "source": [
    "!cat /Volumes/web/metacarcinus/Pgenerosa/analyses/20191024_25bp/day10_AllpH_DMR250bp_MCmax25_cov5x_rms_results_collapsed.tsv.DMR.bed  |\\\n",
    "awk -F\"\\t\" '{sub(/__.*/,\"\",$1);sub(/d/,\"d_\",$1);sub(/PGA_s/,\"S\",$1);print $1\"\\t\"$2\"\\t\"$3\"\\t\"$4}' |\\\n",
    "awk -F\"\\t\" '{split($1,a,\"_\");printf(\"%s_%02d\\t%s\\t%s\\t%s\\n\",a[1],a[2],$2,$3,$4)}' \\\n",
    "> 20200311_compare_DMRfind_output/Oct24_day10_AllpH_DMR250bp_MCmax25_cov5x_rms_results_collapsed.tsv.DMR.bed"
   ]
  },
  {
   "cell_type": "code",
   "execution_count": 56,
   "metadata": {
    "collapsed": true
   },
   "outputs": [],
   "source": [
    "!cat /Volumes/web/metacarcinus/Pgenerosa/analyses/20191024_25bp/day135_AllpH_DMR250bp_MCmax25_cov5x_rms_results_collapsed.tsv.DMR.bed  |\\\n",
    "awk -F\"\\t\" '{sub(/__.*/,\"\",$1);sub(/d/,\"d_\",$1);sub(/PGA_s/,\"S\",$1);print $1\"\\t\"$2\"\\t\"$3\"\\t\"$4}' |\\\n",
    "awk -F\"\\t\" '{split($1,a,\"_\");printf(\"%s_%02d\\t%s\\t%s\\t%s\\n\",a[1],a[2],$2,$3,$4)}' \\\n",
    "> 20200311_compare_DMRfind_output/Oct24_day135_AllpH_DMR250bp_MCmax25_cov5x_rms_results_collapsed.tsv.DMR.bed"
   ]
  },
  {
   "cell_type": "code",
   "execution_count": 57,
   "metadata": {
    "collapsed": true
   },
   "outputs": [],
   "source": [
    "!cat /Volumes/web/metacarcinus/Pgenerosa/analyses/20191024_25bp/day145_AllpH_DMR250bp_MCmax25_cov5x_rms_results_collapsed.tsv.DMR.bed  |\\\n",
    "awk -F\"\\t\" '{sub(/__.*/,\"\",$1);sub(/d/,\"d_\",$1);sub(/PGA_s/,\"S\",$1);print $1\"\\t\"$2\"\\t\"$3\"\\t\"$4}' |\\\n",
    "awk -F\"\\t\" '{split($1,a,\"_\");printf(\"%s_%02d\\t%s\\t%s\\t%s\\n\",a[1],a[2],$2,$3,$4)}' \\\n",
    "> 20200311_compare_DMRfind_output/Oct24_day145_AllpH_DMR250bp_MCmax25_cov5x_rms_results_collapsed.tsv.DMR.bed"
   ]
  },
  {
   "cell_type": "code",
   "execution_count": null,
   "metadata": {
    "collapsed": true
   },
   "outputs": [],
   "source": []
  },
  {
   "cell_type": "code",
   "execution_count": null,
   "metadata": {
    "collapsed": true
   },
   "outputs": [],
   "source": []
  },
  {
   "cell_type": "code",
   "execution_count": null,
   "metadata": {
    "collapsed": true
   },
   "outputs": [],
   "source": []
  }
 ],
 "metadata": {
  "kernelspec": {
   "display_name": "Python 3",
   "language": "python",
   "name": "python3"
  },
  "language_info": {
   "codemirror_mode": {
    "name": "ipython",
    "version": 3
   },
   "file_extension": ".py",
   "mimetype": "text/x-python",
   "name": "python",
   "nbconvert_exporter": "python",
   "pygments_lexer": "ipython3",
   "version": "3.6.8"
  }
 },
 "nbformat": 4,
 "nbformat_minor": 2
}
